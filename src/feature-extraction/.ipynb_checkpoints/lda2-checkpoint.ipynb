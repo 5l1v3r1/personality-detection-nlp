{
 "cells": [
  {
   "cell_type": "code",
   "execution_count": null,
   "metadata": {},
   "outputs": [],
   "source": [
    "###### Required libraries ######\n",
    "import pandas as pd\n",
    "from pprint import pprint\n",
    "import numpy as np\n",
    "# Natural language tools\n",
    "import nltk\n",
    "import gensim\n",
    "import gensim.corpora as corpora\n",
    "from gensim.models import CoherenceModel, LdaModel\n",
    "from gensim.corpora.dictionary import Dictionary\n",
    "# Plotting tools\n",
    "# import pyLDAvis\n",
    "# import pyLDAvis.gensim  \n",
    "import matplotlib.pyplot as plt\n",
    "# %matplotlib inline"
   ]
  },
  {
   "cell_type": "code",
   "execution_count": null,
   "metadata": {},
   "outputs": [],
   "source": [
    "###### Read data from the file ######\n",
    "pd.options.display.max_colwidth = 800\n",
    "path_ee = \"/home/clausewitz/Downloads/equal_entries.csv\"\n",
    "ddf_EE_LDA = pd.read_csv(path_ee, sep = ',')\n",
    "ddf_EE_LDA = pd.DataFrame(data = ddf_EE_LDA)\n",
    "ddf_EE_LDA = ddf_EE_LDA.loc[:, ~ddf_EE_LDA.columns.str.contains('^Unnamed')]"
   ]
  },
  {
   "cell_type": "code",
   "execution_count": null,
   "metadata": {},
   "outputs": [],
   "source": [
    "ddf_EE_LDA.entry = ddf_EE_LDA.entry.str.replace(r'\\b(\\w{1,3})\\b', '')"
   ]
  },
  {
   "cell_type": "code",
   "execution_count": null,
   "metadata": {},
   "outputs": [],
   "source": [
    "#ddf_EE_LDA = ddf_EE_LDA.drop(ddf_EE_LDA.columns[[0, 2, 3, 4, 5, 6, 7, 8, 9]], axis=1)\n",
    "#cols_ee = ddf_EE_LDA.columns.tolist()"
   ]
  },
  {
   "cell_type": "code",
   "execution_count": null,
   "metadata": {},
   "outputs": [],
   "source": [
    "ddf_EE_LDA.entry = pd.Series([[y[:5] for y in x.split()] for x in ddf_EE_LDA.entry.tolist()])"
   ]
  },
  {
   "cell_type": "code",
   "execution_count": null,
   "metadata": {},
   "outputs": [],
   "source": [
    "#ddf_EE_LDA = ddf_EE_LDA.drop(ddf_EE_LDA.columns[[8, 9]], axis=1)"
   ]
  },
  {
   "cell_type": "code",
   "execution_count": null,
   "metadata": {},
   "outputs": [],
   "source": [
    "##### This is used as the input by the LDA model. #####\n",
    "# Create Dictionary\n",
    "id2word = corpora.Dictionary(ddf_EE_LDA.entry)\n",
    "# Create Corpus\n",
    "texts = ddf_EE_LDA.entry\n",
    "# Term Document Frequency\n",
    "corpus = [id2word.doc2bow(text) for text in ddf_EE_LDA.entry]\n",
    "# Human readable format of corpus (term-frequency)\n",
    "[[(id2word[id], freq) for id, freq in cp] for cp in corpus]"
   ]
  },
  {
   "cell_type": "code",
   "execution_count": null,
   "metadata": {},
   "outputs": [],
   "source": [
    "# Download File: http://mallet.cs.umass.edu/dist/mallet-2.0.8.zip\n",
    "mallet_path = '/home/clausewitz/Downloads/mallet-2.0.8/bin/mallet' # update this path\n",
    "ldamallet = gensim.models.wrappers.LdaMallet(mallet_path, corpus=corpus, num_topics=5, id2word=id2word)"
   ]
  },
  {
   "cell_type": "code",
   "execution_count": null,
   "metadata": {},
   "outputs": [],
   "source": [
    "ldamallet[corpus]"
   ]
  },
  {
   "cell_type": "code",
   "execution_count": null,
   "metadata": {},
   "outputs": [],
   "source": [
    "def compute_coherence_values(dictionary, corpus, texts, limit, start=2, step=3):\n",
    "    \"\"\"\n",
    "    Compute c_v coherence for various number of topics\n",
    "\n",
    "    Parameters:\n",
    "    ----------\n",
    "    dictionary : Gensim dictionary\n",
    "    corpus : Gensim corpus\n",
    "    texts : List of input texts\n",
    "    limit : Max num of topics\n",
    "\n",
    "    Returns:\n",
    "    -------\n",
    "    model_list : List of LDA topic models\n",
    "    coherence_values : Coherence values corresponding to the LDA model with respective number of topics\n",
    "    \"\"\"\n",
    "    coherence_values = []\n",
    "    model_list = []\n",
    "    for num_topics in range(start, limit, step):\n",
    "        model = gensim.models.wrappers.LdaMallet(mallet_path, corpus=corpus, num_topics=num_topics,\n",
    "                                                 id2word=id2word)\n",
    "        model_list.append(model)\n",
    "        coherencemodel = CoherenceModel(model=model, texts=texts, dictionary=dictionary, coherence='c_v')\n",
    "        coherence_values.append(coherencemodel.get_coherence())\n",
    "\n",
    "    return model_list, coherence_values"
   ]
  },
  {
   "cell_type": "code",
   "execution_count": null,
   "metadata": {},
   "outputs": [],
   "source": [
    "# Can take a long time to run.\n",
    "model_list, coherence_values = compute_coherence_values(dictionary=id2word, corpus=corpus,\n",
    "                                                        texts=ddf_EE_LDA.entry, start=2, limit=40, step=6)"
   ]
  },
  {
   "cell_type": "code",
   "execution_count": null,
   "metadata": {},
   "outputs": [],
   "source": [
    "# Show graph\n",
    "limit=40; start=2; step=6;\n",
    "x = range(start, limit, step)\n",
    "plt.plot(x, coherence_values)\n",
    "plt.xlabel(\"Num Topics\")\n",
    "plt.ylabel(\"Coherence score\")\n",
    "plt.legend((\"coherence_values\"), loc='best')\n",
    "plt.show()"
   ]
  },
  {
   "cell_type": "code",
   "execution_count": null,
   "metadata": {},
   "outputs": [],
   "source": [
    "# Print the coherence scores\n",
    "for m, cv in zip(x, coherence_values):\n",
    "    print(\"Num Topics =\", m, \" has Coherence Value of\", round(cv, 8))"
   ]
  },
  {
   "cell_type": "code",
   "execution_count": null,
   "metadata": {},
   "outputs": [],
   "source": [
    "# Select the model and print the topics\n",
    "optimal_model = model_list[3] \n",
    "model_topics = optimal_model.show_topics(formatted=False)\n",
    "pprint(optimal_model.print_topics(num_words = 10))"
   ]
  },
  {
   "cell_type": "code",
   "execution_count": null,
   "metadata": {},
   "outputs": [],
   "source": [
    "from gensim.test.utils import datapath\n",
    "# Save model to disk.\n",
    "temp_file = datapath(\"/home/clausewitz/optimal_model\")\n",
    "ldamallet.save(temp_file)\n",
    "# Load a potentially pretrained model from disk.\n",
    "# lda = LdaModel.load(temp_file)"
   ]
  },
  {
   "cell_type": "code",
   "execution_count": null,
   "metadata": {},
   "outputs": [],
   "source": [
    "def format_topics_sentences(ldamodel=optimal_model, corpus=corpus, texts=ddf_EE_LDA.entry):\n",
    "    # Init output\n",
    "    sent_topics_df = pd.DataFrame()\n",
    "\n",
    "    # Get main topic in each document\n",
    "    for i, row in enumerate(ldamodel[corpus]):\n",
    "        row = sorted(row, key=lambda x: (x[1]), reverse=True)\n",
    "        # Get the Dominant topic, Perc Contribution and Keywords for each document\n",
    "        for j, (topic_num, prop_topic) in enumerate(row):\n",
    "            if j == 0:  # => dominant topic\n",
    "                wp = ldamodel.show_topic(topic_num)\n",
    "                topic_keywords = \", \".join([word for word, prop in wp])\n",
    "                sent_topics_df = sent_topics_df.append(pd.Series([int(topic_num), round(prop_topic,4),\n",
    "                                                                  topic_keywords]), ignore_index=True)\n",
    "            else:\n",
    "                break\n",
    "    sent_topics_df.columns = ['Dominant_Topic', 'Perc_Contribution', 'Topic_Keywords']\n",
    "\n",
    "    # Add original text to the end of the output\n",
    "    contents = pd.Series(texts)\n",
    "    sent_topics_df = pd.concat([sent_topics_df, contents], axis=1)\n",
    "    return(sent_topics_df)\n",
    "\n",
    "\n",
    "df_topic_sents_keywords = format_topics_sentences(ldamodel=optimal_model, corpus=corpus, texts=ddf_EE_LDA.entry)\n",
    "\n",
    "# Format\n",
    "df_dominant_topic = df_topic_sents_keywords.reset_index()\n",
    "df_dominant_topic.columns = ['Document_No', 'Dominant_Topic', 'Topic_Perc_Contrib', 'Keywords', 'Entry']\n",
    "\n",
    "# Show\n",
    "df_dominant_topic.head(5)"
   ]
  },
  {
   "cell_type": "code",
   "execution_count": null,
   "metadata": {},
   "outputs": [],
   "source": [
    "df_dominant_topic.Keywords.unique()"
   ]
  },
  {
   "cell_type": "code",
   "execution_count": null,
   "metadata": {},
   "outputs": [],
   "source": [
    "df_dominant_topic.loc[df_dominant_topic['Keywords'] == df_dominant_topic.Keywords.unique()[0],\n",
    "                      'Keywords'] = 'Ulaşım'\n",
    "df_dominant_topic.loc[df_dominant_topic['Keywords'] == df_dominant_topic.Keywords.unique()[1],\n",
    "                      'Keywords'] = 'X'\n",
    "df_dominant_topic.loc[df_dominant_topic['Keywords'] == df_dominant_topic.Keywords.unique()[2],\n",
    "                      'Keywords'] = 'Ekonomi'\n",
    "df_dominant_topic.loc[df_dominant_topic['Keywords'] == df_dominant_topic.Keywords.unique()[3],\n",
    "                      'Keywords'] = 'Yemek'\n",
    "df_dominant_topic.loc[df_dominant_topic['Keywords'] == df_dominant_topic.Keywords.unique()[4],\n",
    "                      'Keywords'] = 'Y'\n",
    "df_dominant_topic.loc[df_dominant_topic['Keywords'] == df_dominant_topic.Keywords.unique()[5],\n",
    "                      'Keywords'] = 'Siyaset'\n",
    "df_dominant_topic.loc[df_dominant_topic['Keywords'] == df_dominant_topic.Keywords.unique()[6],\n",
    "                      'Keywords'] = 'Sosyal Medya'\n",
    "df_dominant_topic.loc[df_dominant_topic['Keywords'] == df_dominant_topic.Keywords.unique()[7],\n",
    "                      'Keywords'] = 'Z'\n",
    "df_dominant_topic.loc[df_dominant_topic['Keywords'] == df_dominant_topic.Keywords.unique()[8],\n",
    "                      'Keywords'] = 'Haber'\n",
    "df_dominant_topic.loc[df_dominant_topic['Keywords'] == df_dominant_topic.Keywords.unique()[9],\n",
    "                      'Keywords'] = 'İlişki'\n",
    "df_dominant_topic.loc[df_dominant_topic['Keywords'] == df_dominant_topic.Keywords.unique()[10],\n",
    "                      'Keywords'] = 'B'\n",
    "df_dominant_topic.loc[df_dominant_topic['Keywords'] == df_dominant_topic.Keywords.unique()[11],\n",
    "                      'Keywords'] = 'C'\n",
    "df_dominant_topic.loc[df_dominant_topic['Keywords'] == df_dominant_topic.Keywords.unique()[12],\n",
    "                      'Keywords'] = 'Hayvan'\n",
    "df_dominant_topic.loc[df_dominant_topic['Keywords'] == df_dominant_topic.Keywords.unique()[13],\n",
    "                      'Keywords'] = 'Türkiye'\n",
    "df_dominant_topic.loc[df_dominant_topic['Keywords'] == df_dominant_topic.Keywords.unique()[14],\n",
    "                      'Keywords'] = 'D'\n",
    "df_dominant_topic.loc[df_dominant_topic['Keywords'] == df_dominant_topic.Keywords.unique()[15],\n",
    "                      'Keywords'] = 'Eğitim'\n",
    "df_dominant_topic.loc[df_dominant_topic['Keywords'] == df_dominant_topic.Keywords.unique()[16],\n",
    "                      'Keywords'] = 'Sağlık'\n",
    "df_dominant_topic.loc[df_dominant_topic['Keywords'] == df_dominant_topic.Keywords.unique()[17],\n",
    "                      'Keywords'] = 'Sanat'\n",
    "df_dominant_topic.loc[df_dominant_topic['Keywords'] == df_dominant_topic.Keywords.unique()[18],\n",
    "                      'Keywords'] = 'Futbol'\n",
    "df_dominant_topic.loc[df_dominant_topic['Keywords'] == df_dominant_topic.Keywords.unique()[19],\n",
    "                      'Keywords'] = 'G'"
   ]
  },
  {
   "cell_type": "code",
   "execution_count": null,
   "metadata": {},
   "outputs": [],
   "source": [
    "df_dominant_topic"
   ]
  },
  {
   "cell_type": "code",
   "execution_count": null,
   "metadata": {},
   "outputs": [],
   "source": [
    "ddf_dominant_topic = df_dominant_topic[['Entry','Keywords']]"
   ]
  },
  {
   "cell_type": "code",
   "execution_count": null,
   "metadata": {},
   "outputs": [],
   "source": [
    "ddf_dominant_topic"
   ]
  },
  {
   "cell_type": "code",
   "execution_count": null,
   "metadata": {},
   "outputs": [],
   "source": [
    "ddf_EE_LDA"
   ]
  },
  {
   "cell_type": "code",
   "execution_count": null,
   "metadata": {},
   "outputs": [],
   "source": [
    "df = pd.concat([ddf_EE_LDA, ddf_dominant_topic], axis=1, sort=False)"
   ]
  },
  {
   "cell_type": "code",
   "execution_count": null,
   "metadata": {},
   "outputs": [],
   "source": [
    "df"
   ]
  },
  {
   "cell_type": "code",
   "execution_count": null,
   "metadata": {},
   "outputs": [],
   "source": [
    "df = df.drop(df.columns[[0, 1,8,9]], axis=1)"
   ]
  },
  {
   "cell_type": "code",
   "execution_count": null,
   "metadata": {},
   "outputs": [],
   "source": [
    "df"
   ]
  },
  {
   "cell_type": "code",
   "execution_count": null,
   "metadata": {},
   "outputs": [],
   "source": [
    "df.rename(columns={'Keywords':'Topic'}, inplace=True)\n",
    "df.rename(columns={'type':'Type'}, inplace=True)\n",
    "df.rename(columns={'typeClass':'TypeClass'}, inplace=True)"
   ]
  },
  {
   "cell_type": "code",
   "execution_count": null,
   "metadata": {},
   "outputs": [],
   "source": [
    "df"
   ]
  },
  {
   "cell_type": "code",
   "execution_count": null,
   "metadata": {},
   "outputs": [],
   "source": [
    "columnsTitles = ['Entry', 'Topic', 'Type', 'TypeClass', 'E', 'S', 'T', 'J']\n",
    "df = df.reindex(columns=columnsTitles)"
   ]
  },
  {
   "cell_type": "code",
   "execution_count": null,
   "metadata": {},
   "outputs": [],
   "source": [
    "df"
   ]
  }
 ],
 "metadata": {
  "kernelspec": {
   "display_name": "Python 3",
   "language": "python",
   "name": "python3"
  },
  "language_info": {
   "codemirror_mode": {
    "name": "ipython",
    "version": 3
   },
   "file_extension": ".py",
   "mimetype": "text/x-python",
   "name": "python",
   "nbconvert_exporter": "python",
   "pygments_lexer": "ipython3",
   "version": "3.7.4"
  }
 },
 "nbformat": 4,
 "nbformat_minor": 2
}
