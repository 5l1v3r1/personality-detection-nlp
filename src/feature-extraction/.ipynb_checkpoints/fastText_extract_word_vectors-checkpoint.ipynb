{
 "cells": [
  {
   "cell_type": "markdown",
   "metadata": {
    "colab_type": "text",
    "id": "alePhkC3g_-Y"
   },
   "source": [
    "<span style=\"font-size:1.1em;\">fastText indilir ve oluşturulur</span>\n"
   ]
  },
  {
   "cell_type": "code",
   "execution_count": null,
   "metadata": {
    "colab": {
     "base_uri": "https://localhost:8080/",
     "height": 136
    },
    "colab_type": "code",
    "id": "dj-btsl1jlug",
    "outputId": "e33a70f6-48c1-4426-efbe-a0da86880ffe"
   },
   "outputs": [],
   "source": [
    "!git clone https://github.com/facebookresearch/fastText.git"
   ]
  },
  {
   "cell_type": "code",
   "execution_count": null,
   "metadata": {
    "colab": {
     "base_uri": "https://localhost:8080/",
     "height": 224
    },
    "colab_type": "code",
    "id": "-ebf5Iw7kj2e",
    "outputId": "d225ba73-71a8-439f-e44d-1d1a3466e078"
   },
   "outputs": [],
   "source": [
    "!pip install ./fastText/"
   ]
  },
  {
   "cell_type": "markdown",
   "metadata": {
    "colab_type": "text",
    "id": "AtldmK7bY_UN"
   },
   "source": [
    "<span style=\"font-size:1.1em;\">FastText'i kullanılabilmek için ilgili kütüphaneyi import ediyoruz.</span>"
   ]
  },
  {
   "cell_type": "code",
   "execution_count": null,
   "metadata": {
    "colab": {},
    "colab_type": "code",
    "id": "sXqRkPwuQugM"
   },
   "outputs": [],
   "source": [
    "import fasttext"
   ]
  },
  {
   "cell_type": "markdown",
   "metadata": {
    "colab_type": "text",
    "id": "6-m6vUajZE5Q"
   },
   "source": [
    "<span style=\"font-size:1.1em;\">Türkçe dili için gerekli olan kelimeleri vektörleri indirilir. Bu dosya zipli bir halde inecektir unzip yapılması gerekmektedir.</span>"
   ]
  },
  {
   "cell_type": "code",
   "execution_count": null,
   "metadata": {
    "colab": {
     "base_uri": "https://localhost:8080/",
     "height": 204
    },
    "colab_type": "code",
    "id": "_hI3_av4RFxS",
    "outputId": "751de064-7a78-4ef8-8b91-9eaea238c4ce"
   },
   "outputs": [],
   "source": [
    "!wget https://dl.fbaipublicfiles.com/fasttext/vectors-wiki/wiki.tr.zip"
   ]
  },
  {
   "cell_type": "markdown",
   "metadata": {
    "colab_type": "text",
    "id": "Wk-UCjrNcH8Q"
   },
   "source": [
    "<span style=\"font-size:1.1em;\">Dizinde neler olduğuna bir bakalım.</span>"
   ]
  },
  {
   "cell_type": "code",
   "execution_count": null,
   "metadata": {
    "colab": {
     "base_uri": "https://localhost:8080/",
     "height": 34
    },
    "colab_type": "code",
    "id": "2HFs_JCsbjR3",
    "outputId": "2350d978-ae63-43ad-ae14-51b6aad4fc0b"
   },
   "outputs": [],
   "source": [
    "!ls"
   ]
  },
  {
   "cell_type": "markdown",
   "metadata": {
    "colab_type": "text",
    "id": "YnAc8LKKZbiT"
   },
   "source": [
    "<span style=\"font-size:1.1em;\">İlgili zip dosyası extract edilir. Burada karşımıza wiki.tr.bin ve wiki.tr.vec isimli iki dosya çıkar. Her ikisinde de wikipedia ile oluşturulmuş pre-trained vektörler bulunur. .vec uzantılı dosya basit bir tablodur aslında ilgili kelimeler ve onların mapping olmasını sağlar. Dictionaryde olmayan herhangi bir kelime için vektör oluşturamamaktadır, oluştursa da bin uzantılı olanın çıkardığı kadar iyi çıkartmasını bekleyemeyiz.\n",
    "\n",
    "bin uzantılı dosya fastText'in kelime vektörlerini çıkartırken oluşturduğu modeldir. Kelime vektörlerinin yanı sıra hyper parametreleri de içerir. n-gramlar vs... Bu sayede bilinmeyen kelimeler için de iyi bir vektör çıkartabilmektedir.</span>"
   ]
  },
  {
   "cell_type": "code",
   "execution_count": null,
   "metadata": {
    "colab": {
     "base_uri": "https://localhost:8080/",
     "height": 68
    },
    "colab_type": "code",
    "id": "17pY7KrBY9pR",
    "outputId": "daea2573-bdeb-496a-a03b-3ee999c66abc"
   },
   "outputs": [],
   "source": [
    "!unzip 'wiki.tr.zip' -d ."
   ]
  },
  {
   "cell_type": "code",
   "execution_count": null,
   "metadata": {
    "colab": {
     "base_uri": "https://localhost:8080/",
     "height": 54
    },
    "colab_type": "code",
    "id": "S_Ei5_MeaHS-",
    "outputId": "0d9500ff-5fc8-4598-e180-6a0395445664"
   },
   "outputs": [],
   "source": [
    "model = fasttext.load_model('./wiki.tr.bin')"
   ]
  },
  {
   "cell_type": "markdown",
   "metadata": {
    "colab_type": "text",
    "id": "3VHvTEMHc5os"
   },
   "source": [
    "<span style=\"font-size:1.1em;\">fastText ile ilgili gerekli işlemleri yaptığımıza göre artık verisetimizin cümle vektörlerini çıkartmaya başlayalım. Bir dökümanın, birden fazla cümleden oluşan özetle birden fazla kelimeden oluşan inputların vektörlerini oluşturmak için ```model.get_sentence_vector()``` fonksiyonunu kullanmamız gerekecek. Uzunluğu 300 olan bir vektör dönecek bize.</span>"
   ]
  },
  {
   "cell_type": "code",
   "execution_count": null,
   "metadata": {
    "colab": {
     "base_uri": "https://localhost:8080/",
     "height": 122
    },
    "colab_type": "code",
    "id": "k1MWc20TcQbR",
    "outputId": "851fca55-eb60-4d90-cbc6-d6a205b254c1"
   },
   "outputs": [],
   "source": [
    "from google.colab import drive\n",
    "drive.mount('/content/gdrive')"
   ]
  },
  {
   "cell_type": "code",
   "execution_count": null,
   "metadata": {
    "colab": {},
    "colab_type": "code",
    "id": "77zts8l9dcg1"
   },
   "outputs": [],
   "source": [
    "PREPROCESSED_DATASET_WITH_STEMMER = \"gdrive/My Drive/mbti/preprocessed_dataset_with_stemming.csv\"\n",
    "PREPROCESSED_DATASET_WITHOUT_STEMMER = \"gdrive/My Drive/mbti/preprocessed_dataset_no_stemming.csv\"\n",
    "PREPROCESSED_DATASET_ZEMBEREK = \"gdrive/My Drive/mbti/preprocessed_dataset_zemberek\"\n",
    "ELIMINATED_DATASET = \"gdrive/My Drive/mbti/eliminated_all_users_v2.csv\"\n",
    "RAW_DATASET = \"gdrive/My Drive/mbti/all_users_v2.csv\""
   ]
  },
  {
   "cell_type": "code",
   "execution_count": null,
   "metadata": {
    "colab": {},
    "colab_type": "code",
    "id": "x517ixOydiEv"
   },
   "outputs": [],
   "source": [
    "import pandas as pd \n",
    "df = pd.read_csv(PREPROCESSED_DATASET_WITHOUT_STEMMER, sep = ';', header = 0)"
   ]
  },
  {
   "cell_type": "code",
   "execution_count": null,
   "metadata": {
    "colab": {
     "base_uri": "https://localhost:8080/",
     "height": 419
    },
    "colab_type": "code",
    "id": "OcDJk2L2gp3P",
    "outputId": "bbfa1d01-fbb7-45a2-da6c-0e01128f0121"
   },
   "outputs": [],
   "source": [
    "df"
   ]
  },
  {
   "cell_type": "markdown",
   "metadata": {
    "colab_type": "text",
    "id": "GcxpNYXig751"
   },
   "source": [
    "<span style=\"font-size:1.1em;\">Olmayan değerler silinir</span>"
   ]
  },
  {
   "cell_type": "code",
   "execution_count": null,
   "metadata": {
    "colab": {},
    "colab_type": "code",
    "id": "lUgkb2G9gvZw"
   },
   "outputs": [],
   "source": [
    "df = df.dropna().reset_index()"
   ]
  },
  {
   "cell_type": "code",
   "execution_count": null,
   "metadata": {
    "colab": {
     "base_uri": "https://localhost:8080/",
     "height": 419
    },
    "colab_type": "code",
    "id": "e0RpwP8fgw9W",
    "outputId": "b495c27d-91a3-46a9-a1d8-19c22e06ce4e"
   },
   "outputs": [],
   "source": [
    "df"
   ]
  },
  {
   "cell_type": "code",
   "execution_count": null,
   "metadata": {
    "colab": {
     "base_uri": "https://localhost:8080/",
     "height": 1000
    },
    "colab_type": "code",
    "id": "pPdiTej-exg5",
    "outputId": "7434d375-202e-4c90-feea-e26136e5d689"
   },
   "outputs": [],
   "source": [
    "for i in range(df.shape[0]):\n",
    "  print('Entry count: {}'.format(i+1))\n",
    "  entry = df['entry'][i]\n",
    "  df['entry'][i] = model.get_sentence_vector(entry)"
   ]
  },
  {
   "cell_type": "code",
   "execution_count": null,
   "metadata": {
    "colab": {},
    "colab_type": "code",
    "id": "464rkMdFe65x"
   },
   "outputs": [],
   "source": [
    "df"
   ]
  },
  {
   "cell_type": "code",
   "execution_count": null,
   "metadata": {
    "colab": {},
    "colab_type": "code",
    "id": "Thc7OqfXg__e"
   },
   "outputs": [],
   "source": [
    "df.to_csv(\"gdrive/My Drive/mbti/fastText_word_vectors.csv\", sep=';', encoding='utf-8', index=False)"
   ]
  }
 ],
 "metadata": {
  "accelerator": "TPU",
  "colab": {
   "collapsed_sections": [],
   "name": "fastText_extract_word_vectors",
   "provenance": []
  },
  "kernelspec": {
   "display_name": "Python 3",
   "language": "python",
   "name": "python3"
  },
  "language_info": {
   "codemirror_mode": {
    "name": "ipython",
    "version": 3
   },
   "file_extension": ".py",
   "mimetype": "text/x-python",
   "name": "python",
   "nbconvert_exporter": "python",
   "pygments_lexer": "ipython3",
   "version": "3.7.4"
  }
 },
 "nbformat": 4,
 "nbformat_minor": 1
}
