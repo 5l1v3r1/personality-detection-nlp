{
 "cells": [
  {
   "cell_type": "markdown",
   "metadata": {
    "colab_type": "text",
    "id": "0jNfS3mXsc2O"
   },
   "source": [
    "<span style=\"font-size:1.1em;\">Colab'a Google drive'ı entegre ediyoruz. Kullanılacak olan veriseti Google Drive'da bulunmaktadır</span>"
   ]
  },
  {
   "cell_type": "code",
   "execution_count": null,
   "metadata": {
    "colab": {},
    "colab_type": "code",
    "id": "d_zKJmJWQG19"
   },
   "outputs": [],
   "source": [
    "from google.colab import drive\n",
    "drive.mount('/content/gdrive')"
   ]
  },
  {
   "cell_type": "code",
   "execution_count": null,
   "metadata": {
    "colab": {},
    "colab_type": "code",
    "id": "CA6I9IrzVr2v"
   },
   "outputs": [],
   "source": [
    "import pandas as pd "
   ]
  },
  {
   "cell_type": "markdown",
   "metadata": {
    "colab_type": "text",
    "id": "97IoTlPeHPVf"
   },
   "source": [
    "<span style=\"font-size:1.1em;\">Google Drive'ımızın root pathi</span> ```gdrive/My Drive``` <span style=\"font-size:1.1em;\">oluyor. Proje için gerekli verisetini **mbti** adında bir klasör oluşturup içerisine yüklüyoruz. İlgili verisetinin pathi</span> ```gdrive/My Drive/mbti/all_users.csv``` <span style=\"font-size:1.1em;\">oluyor.</span>"
   ]
  },
  {
   "cell_type": "code",
   "execution_count": null,
   "metadata": {
    "colab": {},
    "colab_type": "code",
    "id": "P4qtF-14sc2S"
   },
   "outputs": [],
   "source": [
    "df = pd.read_csv(\"gdrive/My Drive/mbti/all_users_v2.csv\", sep = ';', header = 0) "
   ]
  },
  {
   "cell_type": "code",
   "execution_count": null,
   "metadata": {
    "colab": {
     "base_uri": "https://localhost:8080/",
     "height": 419
    },
    "colab_type": "code",
    "id": "vtN4QiN4sc2Y",
    "outputId": "b1b540ac-6057-4179-8f9d-53424d3b1237"
   },
   "outputs": [],
   "source": [
    "df"
   ]
  },
  {
   "cell_type": "markdown",
   "metadata": {
    "colab_type": "text",
    "id": "4LDZVG50-F3O"
   },
   "source": [
    "# Pre-Processing\n",
    "\n",
    "<span style=\"font-size:1.1em;\"> Entrylere ön işleme adımları uygulanır. Bu adımlar:</span>\n",
    "\n",
    "\n",
    "1. <span style=\"font-size:1.1em;\">Bütün harflerin küçük harf haline getirilmesi</span>\n",
    "\n",
    "\n",
    "2. <span style=\"font-size:1.1em;\">Entrylerden stop words'ler silinmelidir.</span>\n",
    "\n",
    "\n",
    "3. <span style=\"font-size:1.1em;\">Web sitelerinin temizlenmesi</span>\n",
    "\n",
    "\n",
    "4. <span style=\"font-size:1.1em;\">Noktalama işaretlerinin temizlenmesi</span>\n",
    "\n",
    "\n",
    "5. <span style=\"font-size:1.1em;\">Rakamların temizlenmesi</span>\n",
    "\n",
    "\n",
    "6. <span style=\"font-size:1.1em;\">Stemming kullanılması</span>\n",
    "\n",
    "\n",
    "<span style=\"font-size:1.1em;\">    \n",
    "Temizlenme işlemlerinde empty string yerine space (' ') ile replace edilerek yapılmalıdır. Arından da fazla boşluklar vs trim edilmelidir.\n",
    "\n",
    "```[+-]?([0-9]*)([.][0-9])?``` regex olarak kullanılacak hem rakamların silinmesinde hem de ondaklı sayıların silinmesinde --> buna gerek kalmadı\n",
    "\n",
    "</span>\n"
   ]
  },
  {
   "cell_type": "markdown",
   "metadata": {
    "colab_type": "text",
    "id": "nXN5GZtKsc2l"
   },
   "source": [
    "<span style=\"font-size:1.1em;\"> Stop words, drive'da /mbti altındaki stop_words_tr.txt okunarak alınır</span>\n",
    "\n"
   ]
  },
  {
   "cell_type": "code",
   "execution_count": null,
   "metadata": {
    "colab": {},
    "colab_type": "code",
    "id": "5Z6KPqWNRmqO"
   },
   "outputs": [],
   "source": [
    "file = open(\"gdrive/My Drive/mbti/stop_words_tr.txt\")\n",
    "stop_word_list = file.read().split('\\n')\n",
    "file.close()"
   ]
  },
  {
   "cell_type": "code",
   "execution_count": null,
   "metadata": {
    "colab": {
     "base_uri": "https://localhost:8080/",
     "height": 1000
    },
    "colab_type": "code",
    "id": "PKBOZNvCsc2r",
    "outputId": "28fcc3dd-b531-42bd-f174-7626dd7e95ab"
   },
   "outputs": [],
   "source": [
    "stop_word_list"
   ]
  },
  {
   "cell_type": "markdown",
   "metadata": {
    "colab_type": "text",
    "id": "XklzLH_pJl5s"
   },
   "source": [
    "<span style=\"font-size:1.1em\">Entrylerdeki harfler küçük harf haline getirilir</span>"
   ]
  },
  {
   "cell_type": "code",
   "execution_count": null,
   "metadata": {
    "colab": {
     "base_uri": "https://localhost:8080/",
     "height": 233
    },
    "colab_type": "code",
    "id": "LVH3wd0AJqtG",
    "outputId": "c5588131-e71e-4316-cf5b-b13f925b69ea"
   },
   "outputs": [],
   "source": [
    "df['entry'] = df['entry'].str.lower()\n",
    "df['entry']"
   ]
  },
  {
   "cell_type": "code",
   "execution_count": null,
   "metadata": {
    "colab": {
     "base_uri": "https://localhost:8080/",
     "height": 233
    },
    "colab_type": "code",
    "id": "sxy9T9seILBC",
    "outputId": "10be8f86-9101-47d0-9070-3e5d5ccac650"
   },
   "outputs": [],
   "source": [
    "df['entry'] = df['entry'].apply(lambda x: ' '.join([word for word in x.split() if word not in (stop_word_list)]))\n",
    "df['entry']"
   ]
  },
  {
   "cell_type": "markdown",
   "metadata": {
    "colab_type": "text",
    "id": "qwCxlQsEThSX"
   },
   "source": [
    "\n",
    "<span style=\"font-size:1.1em;\">Entrylerden web site linkleri silinir.</span>"
   ]
  },
  {
   "cell_type": "code",
   "execution_count": null,
   "metadata": {
    "colab": {
     "base_uri": "https://localhost:8080/",
     "height": 233
    },
    "colab_type": "code",
    "id": "VcB2KrMaRqtj",
    "outputId": "2f9978fc-50db-415d-e57a-c0c689afaacb"
   },
   "outputs": [],
   "source": [
    "df['entry'] = df['entry'].str.replace(r'http\\S+', ' ', regex=True)\n",
    "df['entry'] = df['entry'].str.replace(r'www\\S+', '', regex=True)\n",
    "df['entry']"
   ]
  },
  {
   "cell_type": "markdown",
   "metadata": {
    "colab_type": "text",
    "id": "oXNRgz87vGLZ"
   },
   "source": [
    "<span style=\"font-size:1.1em;\">Entrylerden noktalama işaretleri temizlenir.</span>"
   ]
  },
  {
   "cell_type": "code",
   "execution_count": null,
   "metadata": {
    "colab": {
     "base_uri": "https://localhost:8080/",
     "height": 233
    },
    "colab_type": "code",
    "id": "Wakq_66kvGLa",
    "outputId": "fe6d80dd-c8d6-4a70-dbdf-19d8e3007006"
   },
   "outputs": [],
   "source": [
    "import string\n",
    "\n",
    "df['entry'] = df['entry'].apply(lambda x: x.translate(str.maketrans(string.punctuation, ' '*len(string.punctuation))))\n",
    "df['entry']"
   ]
  },
  {
   "cell_type": "markdown",
   "metadata": {
    "colab_type": "text",
    "id": "5PNW6PAPvGLd"
   },
   "source": [
    "Entrylerden rakamlar silinir."
   ]
  },
  {
   "cell_type": "code",
   "execution_count": null,
   "metadata": {
    "colab": {
     "base_uri": "https://localhost:8080/",
     "height": 233
    },
    "colab_type": "code",
    "id": "CnYY6GrTvGLe",
    "outputId": "ac1fc021-2990-499b-ddb9-a8349c13cbe8"
   },
   "outputs": [],
   "source": [
    "df['entry'] = df['entry'].str.replace('\\d+', ' ')\n",
    "df['entry']"
   ]
  },
  {
   "cell_type": "markdown",
   "metadata": {
    "colab_type": "text",
    "id": "5VFg9aCPvGLg"
   },
   "source": [
    "Verisetinin stemmera sokmadan önceki ön işlemeden geçirilmiş hali kaydedilir. Buradaki amaç stemmerdan geçirilmiş ve geçirilmemiş halinin başarı açısından karşılaştırılmasının yapılabilmesi."
   ]
  },
  {
   "cell_type": "code",
   "execution_count": null,
   "metadata": {
    "colab": {},
    "colab_type": "code",
    "id": "K4XI0xMXvGLh"
   },
   "outputs": [],
   "source": [
    "df.to_csv(\"gdrive/My Drive/mbti/preprocessed_dataset_no_stemming.csv\", sep=';', encoding='utf-8')"
   ]
  },
  {
   "cell_type": "markdown",
   "metadata": {
    "colab_type": "text",
    "id": "jgh0Kw3kvGLk"
   },
   "source": [
    "SnowballStemmer içerisinde Türkçe dili için kullanabileceğimiz TurkishStemmer import edilir. Stemmer ile kelimelerin köklerine ulaşılır. Lemmatization işlemiyle kök bulunduğu zaman elde edilen kökler biçimsel açıdan da doğru olurken (yani mantıksal açıdan da) stemmer ile elde edilen köklerde böyle bir durum söz konusu değildir. Dolayısıyla stemming edilmis hallerine bakıldıgında mantıksal açıdan düzgün sonuclar vermeyebilir."
   ]
  },
  {
   "cell_type": "markdown",
   "metadata": {
    "colab_type": "text",
    "id": "lvdQBvV0vGLl"
   },
   "source": [
    "Google Colab'a snowballstemmer ile ilgil package'i indirmek için aşağıdaki komutu çalıştırıyoruz."
   ]
  },
  {
   "cell_type": "code",
   "execution_count": null,
   "metadata": {
    "colab": {
     "base_uri": "https://localhost:8080/",
     "height": 35
    },
    "colab_type": "code",
    "id": "Xy79H4kIvGLm",
    "outputId": "5aa7fc05-3506-405f-8d3e-d34dc6c8de52"
   },
   "outputs": [],
   "source": [
    "!pip install snowballstemmer"
   ]
  },
  {
   "cell_type": "code",
   "execution_count": null,
   "metadata": {
    "colab": {},
    "colab_type": "code",
    "id": "IQG9fteQvGLp"
   },
   "outputs": [],
   "source": [
    "from snowballstemmer import TurkishStemmer"
   ]
  },
  {
   "cell_type": "code",
   "execution_count": null,
   "metadata": {
    "colab": {
     "base_uri": "https://localhost:8080/",
     "height": 233
    },
    "colab_type": "code",
    "id": "m8RVEUD6vGLr",
    "outputId": "873c672e-c0d6-4f94-817b-862c6684b26a"
   },
   "outputs": [],
   "source": [
    "stemmer = TurkishStemmer()\n",
    "df['entry']"
   ]
  },
  {
   "cell_type": "code",
   "execution_count": null,
   "metadata": {
    "colab": {},
    "colab_type": "code",
    "id": "VykUXkK993ya"
   },
   "outputs": [],
   "source": [
    "indexes = df.index\n",
    "\n",
    "for i in range(len(indexes)):\n",
    "    index = indexes[i]\n",
    "    entry = df['entry'][index]\n",
    "    entry_kokler = stemmer.stemWords(entry.split(\" \"))\n",
    "    df['entry'][index] = \" \".join(entry_kokler)\n"
   ]
  },
  {
   "cell_type": "code",
   "execution_count": null,
   "metadata": {
    "colab": {},
    "colab_type": "code",
    "id": "yV4-Mb5396RZ"
   },
   "outputs": [],
   "source": [
    "df['entry']"
   ]
  },
  {
   "cell_type": "markdown",
   "metadata": {
    "colab_type": "text",
    "id": "-XigObU8vGLt"
   },
   "source": [
    "Stemmera sokulmuş hali kaydedilir."
   ]
  },
  {
   "cell_type": "code",
   "execution_count": null,
   "metadata": {
    "colab": {},
    "colab_type": "code",
    "id": "IP3Iam_kvGLv"
   },
   "outputs": [],
   "source": [
    "df.to_csv(\"gdrive/My Drive/mbti/preprocessed_dataset_with_stemming.csv\", sep=';', encoding='utf-8')"
   ]
  },
  {
   "cell_type": "code",
   "execution_count": null,
   "metadata": {},
   "outputs": [],
   "source": []
  }
 ],
 "metadata": {
  "kernelspec": {
   "display_name": "Python 3",
   "language": "python",
   "name": "python3"
  },
  "language_info": {
   "codemirror_mode": {
    "name": "ipython",
    "version": 3
   },
   "file_extension": ".py",
   "mimetype": "text/x-python",
   "name": "python",
   "nbconvert_exporter": "python",
   "pygments_lexer": "ipython3",
   "version": "3.7.5"
  }
 },
 "nbformat": 4,
 "nbformat_minor": 2
}
