{
 "cells": [
  {
   "cell_type": "code",
   "execution_count": null,
   "metadata": {
    "colab": {
     "base_uri": "https://localhost:8080/",
     "height": 122
    },
    "colab_type": "code",
    "id": "d_zKJmJWQG19",
    "outputId": "95189259-9784-432c-fad9-cef72c84bb5b"
   },
   "outputs": [],
   "source": [
    "from google.colab import drive\n",
    "drive.mount('/content/gdrive')"
   ]
  },
  {
   "cell_type": "code",
   "execution_count": null,
   "metadata": {
    "colab": {},
    "colab_type": "code",
    "id": "CA6I9IrzVr2v"
   },
   "outputs": [],
   "source": [
    "import pandas as pd "
   ]
  },
  {
   "cell_type": "markdown",
   "metadata": {
    "colab_type": "text",
    "id": "97IoTlPeHPVf"
   },
   "source": [
    "<span style=\"font-size:1.1em;\">Google Drive'ımızın root pathi</span> ```gdrive/My Drive``` <span style=\"font-size:1.1em;\">oluyor. Proje için gerekli verisetini **mbti** adında bir klasör oluşturup içerisine yüklüyoruz. İlgili verisetinin pathi</span> ```gdrive/My Drive/mbti/all_users_v2.csv``` <span style=\"font-size:1.1em;\">oluyor.</span>"
   ]
  },
  {
   "cell_type": "code",
   "execution_count": null,
   "metadata": {
    "colab": {},
    "colab_type": "code",
    "id": "P4qtF-14sc2S"
   },
   "outputs": [],
   "source": [
    "df = pd.read_csv(\"gdrive/My Drive/mbti/all_users_v2.csv\", sep = ';', header = 0) "
   ]
  },
  {
   "cell_type": "code",
   "execution_count": null,
   "metadata": {
    "colab": {
     "base_uri": "https://localhost:8080/",
     "height": 419
    },
    "colab_type": "code",
    "id": "vtN4QiN4sc2Y",
    "outputId": "c53c8cec-92c2-4a51-eb8f-4cbfba9af093"
   },
   "outputs": [],
   "source": [
    "df"
   ]
  },
  {
   "cell_type": "code",
   "execution_count": null,
   "metadata": {
    "colab": {},
    "colab_type": "code",
    "id": "vkuqae_1sc2g",
    "scrolled": true
   },
   "outputs": [],
   "source": [
    "import matplotlib.pyplot as plt"
   ]
  },
  {
   "cell_type": "markdown",
   "metadata": {
    "colab_type": "text",
    "id": "WgKPqLP6sc2f"
   },
   "source": [
    "<span style=\"font-size:1.1em;\">Verisetinin **class** tiplerine göre dağılımı</span>"
   ]
  },
  {
   "cell_type": "code",
   "execution_count": null,
   "metadata": {
    "colab": {
     "base_uri": "https://localhost:8080/",
     "height": 389
    },
    "colab_type": "code",
    "id": "O5zNSY97RgFT",
    "outputId": "4592f8be-7576-4684-e214-1cee38ad9c70"
   },
   "outputs": [],
   "source": [
    "fig = plt.figure(figsize=(10,6))\n",
    "\n",
    "ax = df.groupby('typeClass').type.count().plot.bar(ylim=0, rot=0)\n",
    "\n",
    "total_samples = df.shape[0]\n",
    "\n",
    "for p in ax.patches:\n",
    "    width, height = p.get_width(), p.get_height()\n",
    "    x, y = p.get_xy() \n",
    "    ax.annotate('{}\\n%{:.2f}'.format(height, 100*height/total_samples), xy=(p.get_x() + p.get_width() / 2, height/2),  ha = 'center')\n",
    "\n",
    "plt.savefig('gdrive/My Drive/mbti/raw_dataset_distribution_typeClass.png')\n",
    "plt.show()"
   ]
  },
  {
   "cell_type": "markdown",
   "metadata": {
    "colab_type": "text",
    "id": "yxKqqcIOHPV6"
   },
   "source": [
    "<span style=\"font-size:1.1em;\">Verisetindeki **I/E** dağılımını göstermektedir.</span>"
   ]
  },
  {
   "cell_type": "code",
   "execution_count": null,
   "metadata": {
    "colab": {
     "base_uri": "https://localhost:8080/",
     "height": 388
    },
    "colab_type": "code",
    "id": "Px9BDE58HPV8",
    "outputId": "1bf844e4-dc80-40f0-adec-a735afda8430"
   },
   "outputs": [],
   "source": [
    "fig = plt.figure(figsize=(8,6))\n",
    "\n",
    "ax = df.groupby('I/E').type.count().plot.bar(ylim=0, rot=0)\n",
    "\n",
    "for p in ax.patches:\n",
    "    width, height = p.get_width(), p.get_height()\n",
    "    x, y = p.get_xy() \n",
    "    ax.annotate('{}\\n%{:.2f}'.format(height, 100*height/total_samples), xy=(p.get_x() + p.get_width() / 2, height/2),  ha = 'center')\n",
    "\n",
    "plt.savefig('gdrive/My Drive/mbti/raw_dataset_distribution_I-E.png')\n",
    "plt.show()"
   ]
  },
  {
   "cell_type": "markdown",
   "metadata": {
    "colab_type": "text",
    "id": "60eHkTmxHPWB"
   },
   "source": [
    "<span style=\"font-size:1.1em;\">Verisetindeki **S/N** dağılımını göstermektedir.</span>"
   ]
  },
  {
   "cell_type": "code",
   "execution_count": null,
   "metadata": {
    "colab": {
     "base_uri": "https://localhost:8080/",
     "height": 388
    },
    "colab_type": "code",
    "id": "r-n8D9GuHPWD",
    "outputId": "cbc0e668-3f8b-430d-eeb2-b4462f44ed98"
   },
   "outputs": [],
   "source": [
    "fig = plt.figure(figsize=(8,6))\n",
    "\n",
    "ax = df.groupby('S/N').type.count().plot.bar(ylim=0, rot=0)\n",
    "\n",
    "for p in ax.patches:\n",
    "    width, height = p.get_width(), p.get_height()\n",
    "    x, y = p.get_xy() \n",
    "    ax.annotate('{}\\n%{:.2f}'.format(height, 100*height/total_samples), xy=(p.get_x() + p.get_width() / 2, height/2),  ha = 'center')\n",
    "\n",
    "plt.savefig('gdrive/My Drive/mbti/raw_dataset_distribution_S-N.png')\n",
    "plt.show()"
   ]
  },
  {
   "cell_type": "markdown",
   "metadata": {
    "colab_type": "text",
    "id": "YFqrkEQXHPWJ"
   },
   "source": [
    "<span style=\"font-size:1.1em;\">Verisetindeki **T/F** dağılımını göstermektedir.</span>"
   ]
  },
  {
   "cell_type": "code",
   "execution_count": null,
   "metadata": {
    "colab": {
     "base_uri": "https://localhost:8080/",
     "height": 388
    },
    "colab_type": "code",
    "id": "x9wbF0DjHPWL",
    "outputId": "cf55a8b5-72ac-442d-de1b-e70f1c0a1dd9"
   },
   "outputs": [],
   "source": [
    "fig = plt.figure(figsize=(8,6))\n",
    "\n",
    "ax = df.groupby('T/F').type.count().plot.bar(ylim=0, rot=0)\n",
    "\n",
    "for p in ax.patches:\n",
    "    width, height = p.get_width(), p.get_height()\n",
    "    x, y = p.get_xy() \n",
    "    ax.annotate('{}\\n%{:.2f}'.format(height, 100*height/total_samples), xy=(p.get_x() + p.get_width() / 2, height/2),  ha = 'center')\n",
    "\n",
    "plt.savefig('gdrive/My Drive/mbti/raw_dataset_distribution_T-F.png')\n",
    "plt.show()"
   ]
  },
  {
   "cell_type": "markdown",
   "metadata": {
    "colab_type": "text",
    "id": "LLG8qi_6HPWQ"
   },
   "source": [
    "<span style=\"font-size:1.1em;\">Verisetindeki **J/P** dağılımını göstermektedir.</span>"
   ]
  },
  {
   "cell_type": "code",
   "execution_count": null,
   "metadata": {
    "colab": {
     "base_uri": "https://localhost:8080/",
     "height": 388
    },
    "colab_type": "code",
    "id": "PnYcABt4HPWS",
    "outputId": "1c448588-6ffc-44ac-c9e7-3f26ba394883"
   },
   "outputs": [],
   "source": [
    "fig = plt.figure(figsize=(8,6))\n",
    "\n",
    "ax = df.groupby('J/P').type.count().plot.bar(ylim=0, rot=0)\n",
    "\n",
    "for p in ax.patches:\n",
    "    width, height = p.get_width(), p.get_height()\n",
    "    x, y = p.get_xy() \n",
    "    ax.annotate('{}\\n%{:.2f}'.format(height, 100*height/total_samples), xy=(p.get_x() + p.get_width() / 2, height/2),  ha = 'center')\n",
    "\n",
    "plt.savefig('gdrive/My Drive/mbti/raw_dataset_distribution_J-P.png')\n",
    "plt.show()"
   ]
  },
  {
   "cell_type": "markdown",
   "metadata": {
    "colab_type": "text",
    "id": "RgbvMDgWKkm9"
   },
   "source": [
    "<span style=\"font-size:1.1em;\">Aşağıda ise verisetinin 16 farklı MBTI kişilik tiplerine göre dağılımı gösterilmektedir.</span>"
   ]
  },
  {
   "cell_type": "code",
   "execution_count": null,
   "metadata": {
    "colab": {
     "base_uri": "https://localhost:8080/",
     "height": 279
    },
    "colab_type": "code",
    "id": "wQxnOEeqKvFU",
    "outputId": "c5f95e5c-f537-4c57-e29e-a621b064b649"
   },
   "outputs": [],
   "source": [
    "fig = plt.figure(figsize=(20,4))\n",
    "\n",
    "ax = df.groupby('type').type.count().plot.bar(ylim=0, rot=0)\n",
    "\n",
    "for p in ax.patches:\n",
    "    width, height = p.get_width(), p.get_height()\n",
    "    x, y = p.get_xy() \n",
    "    ax.annotate('{}\\n%{:.2f}'.format(height, 100*height/total_samples), xy=(p.get_x() + p.get_width() / 2, height/2),  ha = 'center')\n",
    "\n",
    "plt.savefig('gdrive/My Drive/mbti/raw_dataset_distribution_type.png')\n",
    "plt.show()"
   ]
  },
  {
   "cell_type": "markdown",
   "metadata": {
    "colab_type": "text",
    "id": "FSAe5e4wdK4L"
   },
   "source": [
    "# Elimination"
   ]
  },
  {
   "cell_type": "markdown",
   "metadata": {
    "colab_type": "text",
    "id": "XR0gmD8xdK4M"
   },
   "source": [
    "<span style=\"font-size:1.1em\">Bu adımda verisetindeki belli keywordleri içeren entryler verisetinden çıkartılmaktadır.\n",
    "Bunun nedeni ise bu keywordleri taşıyan entrylerin bir olayı ya da düşünceyi olduğu gibi aktarmasından ötürüdür.\n",
    "BU tarz entrylerde kullanıcıya ait herhangi bir düşünce ya da öznel bir ifade yer almamaktadır. Örneğin **bkz** içeren entryler başka bir başlığa ya da olaya referans gösterir. **spoiler** içeren entryler bir olayı anlatmaktadır. **#** ile eksisozluk üzerindeki başka bir entrye referans verilir</span>"
   ]
  },
  {
   "cell_type": "markdown",
   "metadata": {
    "colab_type": "text",
    "id": "DdaLFbvbCm8r"
   },
   "source": [
    "<span style=\"font-size:1.1em\">Dataframe içerisindeki bütün entrylere '**bkz**', '**spoiler**', '**#**' içerip içermediğine bakar ve bunun sonucu index numarasıyla birlikte döner. ```15 True``` gibi bu demek oluyor ki 15 numaralı index bizim yazmış olduğumuz koşulu sağlamaktadır.</span>"
   ]
  },
  {
   "cell_type": "code",
   "execution_count": null,
   "metadata": {
    "colab": {},
    "colab_type": "code",
    "id": "4i_BlXDr-BbQ"
   },
   "outputs": [],
   "source": [
    "indexes_contains_unwanted_words = df['entry'].str.contains('|'.join(['bkz', 'spoiler', r'#\\d*']))"
   ]
  },
  {
   "cell_type": "markdown",
   "metadata": {
    "colab_type": "text",
    "id": "boufiWfHDrIu"
   },
   "source": [
    "<span style=\"font-size:1.1em\">Dataframe'den ilgili entryler çıkartılır</span>"
   ]
  },
  {
   "cell_type": "code",
   "execution_count": null,
   "metadata": {
    "colab": {
     "base_uri": "https://localhost:8080/",
     "height": 221
    },
    "colab_type": "code",
    "id": "NEJVm7ALDuo2",
    "outputId": "7a83b5dd-c97d-46ae-c184-45e1dc4a9b4b"
   },
   "outputs": [],
   "source": [
    "df = df[~indexes_contains_unwanted_words]\n",
    "\n",
    "df['entry']"
   ]
  },
  {
   "cell_type": "markdown",
   "metadata": {
    "colab_type": "text",
    "id": "WwqE1ueNdK4S"
   },
   "source": [
    "<span style=\"font-size:1.1em\">Verisetinin son hali kaydedilir</span>"
   ]
  },
  {
   "cell_type": "code",
   "execution_count": null,
   "metadata": {
    "colab": {},
    "colab_type": "code",
    "id": "bggsXJ3vdK4S"
   },
   "outputs": [],
   "source": [
    "df.to_csv(\"gdrive/My Drive/mbti/elimanated_all_users_v2.csv\", sep=';', encoding='utf-8', index=False)"
   ]
  },
  {
   "cell_type": "markdown",
   "metadata": {
    "colab_type": "text",
    "id": "weBqZ02ldK4U"
   },
   "source": [
    "<span style=\"font-size:1.1em;\">Verisetinin **class** tiplerine göre dağılımı</span>"
   ]
  },
  {
   "cell_type": "code",
   "execution_count": null,
   "metadata": {
    "colab": {
     "base_uri": "https://localhost:8080/",
     "height": 392
    },
    "colab_type": "code",
    "id": "POziEWEGdK4V",
    "outputId": "62f65f35-bbb4-45db-a8cc-a3c43990877f"
   },
   "outputs": [],
   "source": [
    "fig = plt.figure(figsize=(10,6))\n",
    "\n",
    "ax = df.groupby('typeClass').type.count().plot.bar(ylim=0, rot=0)\n",
    "\n",
    "total_samples = df.shape[0]\n",
    "\n",
    "for p in ax.patches:\n",
    "    width, height = p.get_width(), p.get_height()\n",
    "    x, y = p.get_xy() \n",
    "    ax.annotate('{}\\n%{:.2f}'.format(height, 100*height/total_samples), xy=(p.get_x() + p.get_width() / 2, height/2),  ha = 'center')\n",
    "\n",
    "plt.savefig('gdrive/My Drive/mbti/eliminated_dataset_distribution_typeClass.png')\n",
    "plt.show()"
   ]
  },
  {
   "cell_type": "markdown",
   "metadata": {
    "colab_type": "text",
    "id": "LEKkGLyvdK4X"
   },
   "source": [
    "<span style=\"font-size:1.1em;\">Verisetindeki **I/E** dağılımını göstermektedir.</span>"
   ]
  },
  {
   "cell_type": "code",
   "execution_count": null,
   "metadata": {
    "colab": {
     "base_uri": "https://localhost:8080/",
     "height": 388
    },
    "colab_type": "code",
    "id": "w7PDPIXIdK4Y",
    "outputId": "58639341-b759-4513-d800-7231defef058"
   },
   "outputs": [],
   "source": [
    "fig = plt.figure(figsize=(8,6))\n",
    "\n",
    "ax = df.groupby('I/E').type.count().plot.bar(ylim=0, rot=0)\n",
    "\n",
    "for p in ax.patches:\n",
    "    width, height = p.get_width(), p.get_height()\n",
    "    x, y = p.get_xy() \n",
    "    ax.annotate('{}\\n%{:.2f}'.format(height, 100*height/total_samples), xy=(p.get_x() + p.get_width() / 2, height/2),  ha = 'center')\n",
    "\n",
    "plt.savefig('gdrive/My Drive/mbti/eliminated_dataset_distribution_I-E.png')\n",
    "plt.show()"
   ]
  },
  {
   "cell_type": "markdown",
   "metadata": {
    "colab_type": "text",
    "id": "IW-fnDb-dK4a"
   },
   "source": [
    "<span style=\"font-size:1.1em;\">Verisetindeki **S/N** dağılımını göstermektedir.</span>"
   ]
  },
  {
   "cell_type": "code",
   "execution_count": null,
   "metadata": {
    "colab": {
     "base_uri": "https://localhost:8080/",
     "height": 388
    },
    "colab_type": "code",
    "id": "AdcO5QWwdK4c",
    "outputId": "da01e3b5-9ab5-48c1-ae64-57e8358c4bc2"
   },
   "outputs": [],
   "source": [
    "fig = plt.figure(figsize=(8,6))\n",
    "\n",
    "ax = df.groupby('S/N').type.count().plot.bar(ylim=0, rot=0)\n",
    "\n",
    "for p in ax.patches:\n",
    "    width, height = p.get_width(), p.get_height()\n",
    "    x, y = p.get_xy() \n",
    "    ax.annotate('{}\\n%{:.2f}'.format(height, 100*height/total_samples), xy=(p.get_x() + p.get_width() / 2, height/2),  ha = 'center')\n",
    "\n",
    "plt.savefig('gdrive/My Drive/mbti/eliminated_distribution_S-N.png')\n",
    "plt.show()"
   ]
  },
  {
   "cell_type": "markdown",
   "metadata": {
    "colab_type": "text",
    "id": "xfHYq1uDdK4f"
   },
   "source": [
    "<span style=\"font-size:1.1em;\">Verisetindeki **T/F** dağılımını göstermektedir.</span>"
   ]
  },
  {
   "cell_type": "code",
   "execution_count": null,
   "metadata": {
    "colab": {
     "base_uri": "https://localhost:8080/",
     "height": 388
    },
    "colab_type": "code",
    "id": "4KBs9V3tdK4f",
    "outputId": "71088153-ac02-4044-aaa9-2651b6d21116"
   },
   "outputs": [],
   "source": [
    "fig = plt.figure(figsize=(8,6))\n",
    "\n",
    "ax = df.groupby('T/F').type.count().plot.bar(ylim=0, rot=0)\n",
    "\n",
    "for p in ax.patches:\n",
    "    width, height = p.get_width(), p.get_height()\n",
    "    x, y = p.get_xy() \n",
    "    ax.annotate('{}\\n%{:.2f}'.format(height, 100*height/total_samples), xy=(p.get_x() + p.get_width() / 2, height/2),  ha = 'center')\n",
    "\n",
    "plt.savefig('gdrive/My Drive/mbti/eliminated_dataset_distribution_T-F.png')\n",
    "plt.show()"
   ]
  },
  {
   "cell_type": "markdown",
   "metadata": {
    "colab_type": "text",
    "id": "7RHWDBDzdK4h"
   },
   "source": [
    "<span style=\"font-size:1.1em;\">Verisetindeki **J/P** dağılımını göstermektedir.</span>"
   ]
  },
  {
   "cell_type": "code",
   "execution_count": null,
   "metadata": {
    "colab": {
     "base_uri": "https://localhost:8080/",
     "height": 388
    },
    "colab_type": "code",
    "id": "kN5ZGzR3dK4i",
    "outputId": "07ed87bb-0024-4ecd-9092-15cb338704bf"
   },
   "outputs": [],
   "source": [
    "fig = plt.figure(figsize=(8,6))\n",
    "\n",
    "ax = df.groupby('J/P').type.count().plot.bar(ylim=0, rot=0)\n",
    "\n",
    "for p in ax.patches:\n",
    "    width, height = p.get_width(), p.get_height()\n",
    "    x, y = p.get_xy() \n",
    "    ax.annotate('{}\\n%{:.2f}'.format(height, 100*height/total_samples), xy=(p.get_x() + p.get_width() / 2, height/2),  ha = 'center')\n",
    "\n",
    "plt.savefig('gdrive/My Drive/mbti/eliminated_dataset_distribution_J-P.png')\n",
    "plt.show()"
   ]
  },
  {
   "cell_type": "markdown",
   "metadata": {
    "colab_type": "text",
    "id": "x36r-z7wdK4k"
   },
   "source": [
    "<span style=\"font-size:1.1em;\">Aşağıda ise verisetinin 16 farklı MBTI kişilik tiplerine göre dağılımı gösterilmektedir.</span>"
   ]
  },
  {
   "cell_type": "code",
   "execution_count": null,
   "metadata": {
    "colab": {
     "base_uri": "https://localhost:8080/",
     "height": 279
    },
    "colab_type": "code",
    "id": "WkkKB8lmdK4l",
    "outputId": "321f88c2-7508-4579-fc97-28c69d154044"
   },
   "outputs": [],
   "source": [
    "fig = plt.figure(figsize=(20,4))\n",
    "\n",
    "ax = df.groupby('type').type.count().plot.bar(ylim=0, rot=0)\n",
    "\n",
    "for p in ax.patches:\n",
    "    width, height = p.get_width(), p.get_height()\n",
    "    x, y = p.get_xy() \n",
    "    ax.annotate('{}\\n%{:.2f}'.format(height, 100*height/total_samples), xy=(p.get_x() + p.get_width() / 2, height/2),  ha = 'center')\n",
    "\n",
    "plt.savefig('gdrive/My Drive/mbti/eliminated_dataset_distribution_type.png')\n",
    "plt.show()"
   ]
  }
 ],
 "metadata": {
  "colab": {
   "collapsed_sections": [],
   "name": "elimination.ipynb",
   "provenance": []
  },
  "kernelspec": {
   "display_name": "Python 3",
   "language": "python",
   "name": "python3"
  },
  "language_info": {
   "codemirror_mode": {
    "name": "ipython",
    "version": 3
   },
   "file_extension": ".py",
   "mimetype": "text/x-python",
   "name": "python",
   "nbconvert_exporter": "python",
   "pygments_lexer": "ipython3",
   "version": "3.7.4"
  }
 },
 "nbformat": 4,
 "nbformat_minor": 1
}
