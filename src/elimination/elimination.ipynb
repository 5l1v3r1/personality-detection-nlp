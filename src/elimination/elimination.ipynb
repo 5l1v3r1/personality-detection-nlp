{
 "cells": [
  {
   "cell_type": "code",
   "execution_count": null,
   "metadata": {
    "colab": {},
    "colab_type": "code",
    "id": "d_zKJmJWQG19"
   },
   "outputs": [],
   "source": [
    "from google.colab import drive\n",
    "drive.mount('/content/gdrive')"
   ]
  },
  {
   "cell_type": "code",
   "execution_count": 3,
   "metadata": {
    "colab": {},
    "colab_type": "code",
    "id": "CA6I9IrzVr2v"
   },
   "outputs": [],
   "source": [
    "import pandas as pd "
   ]
  },
  {
   "cell_type": "markdown",
   "metadata": {
    "colab_type": "text",
    "id": "97IoTlPeHPVf"
   },
   "source": [
    "<span style=\"font-size:1.1em;\">Google Drive'ımızın root pathi</span> ```gdrive/My Drive``` <span style=\"font-size:1.1em;\">oluyor. Proje için gerekli verisetini **mbti** adında bir klasör oluşturup içerisine yüklüyoruz. İlgili verisetinin pathi</span> ```gdrive/My Drive/mbti/all_users.csv``` <span style=\"font-size:1.1em;\">oluyor.</span>"
   ]
  },
  {
   "cell_type": "code",
   "execution_count": 5,
   "metadata": {
    "colab": {},
    "colab_type": "code",
    "id": "P4qtF-14sc2S"
   },
   "outputs": [],
   "source": [
    "df = pd.read_csv(\"gdrive/My Drive/mbti/all_userv2.csv\", sep = ';', header = 0) "
   ]
  },
  {
   "cell_type": "code",
   "execution_count": 6,
   "metadata": {
    "colab": {
     "base_uri": "https://localhost:8080/",
     "height": 419
    },
    "colab_type": "code",
    "id": "vtN4QiN4sc2Y",
    "outputId": "b1b540ac-6057-4179-8f9d-53424d3b1237"
   },
   "outputs": [
    {
     "data": {
      "text/html": [
       "<div>\n",
       "<style scoped>\n",
       "    .dataframe tbody tr th:only-of-type {\n",
       "        vertical-align: middle;\n",
       "    }\n",
       "\n",
       "    .dataframe tbody tr th {\n",
       "        vertical-align: top;\n",
       "    }\n",
       "\n",
       "    .dataframe thead th {\n",
       "        text-align: right;\n",
       "    }\n",
       "</style>\n",
       "<table border=\"1\" class=\"dataframe\">\n",
       "  <thead>\n",
       "    <tr style=\"text-align: right;\">\n",
       "      <th></th>\n",
       "      <th>user</th>\n",
       "      <th>entry</th>\n",
       "      <th>type</th>\n",
       "      <th>typeClass</th>\n",
       "      <th>I/E</th>\n",
       "      <th>S/N</th>\n",
       "      <th>T/F</th>\n",
       "      <th>J/P</th>\n",
       "    </tr>\n",
       "  </thead>\n",
       "  <tbody>\n",
       "    <tr>\n",
       "      <th>0</th>\n",
       "      <td>19991991</td>\n",
       "      <td>ekşi itiraf sonunda döndüm dolaştım geldim ken...</td>\n",
       "      <td>ENTJ</td>\n",
       "      <td>analysts</td>\n",
       "      <td>E</td>\n",
       "      <td>N</td>\n",
       "      <td>T</td>\n",
       "      <td>J</td>\n",
       "    </tr>\n",
       "    <tr>\n",
       "      <th>1</th>\n",
       "      <td>19991991</td>\n",
       "      <td>selda bağcan bu sesi canlı dinleyebilmek benim...</td>\n",
       "      <td>ENTJ</td>\n",
       "      <td>analysts</td>\n",
       "      <td>E</td>\n",
       "      <td>N</td>\n",
       "      <td>T</td>\n",
       "      <td>J</td>\n",
       "    </tr>\n",
       "    <tr>\n",
       "      <th>2</th>\n",
       "      <td>19991991</td>\n",
       "      <td>eski sevgilisinin mutlu olmasını isteyen insan...</td>\n",
       "      <td>ENTJ</td>\n",
       "      <td>analysts</td>\n",
       "      <td>E</td>\n",
       "      <td>N</td>\n",
       "      <td>T</td>\n",
       "      <td>J</td>\n",
       "    </tr>\n",
       "    <tr>\n",
       "      <th>3</th>\n",
       "      <td>19991991</td>\n",
       "      <td>veda ederken 2019'a bir not bırakmak farklı ac...</td>\n",
       "      <td>ENTJ</td>\n",
       "      <td>analysts</td>\n",
       "      <td>E</td>\n",
       "      <td>N</td>\n",
       "      <td>T</td>\n",
       "      <td>J</td>\n",
       "    </tr>\n",
       "    <tr>\n",
       "      <th>4</th>\n",
       "      <td>19991991</td>\n",
       "      <td>ingiliz aksanı bu aralar özellikle bayıldığım ...</td>\n",
       "      <td>ENTJ</td>\n",
       "      <td>analysts</td>\n",
       "      <td>E</td>\n",
       "      <td>N</td>\n",
       "      <td>T</td>\n",
       "      <td>J</td>\n",
       "    </tr>\n",
       "    <tr>\n",
       "      <th>...</th>\n",
       "      <td>...</td>\n",
       "      <td>...</td>\n",
       "      <td>...</td>\n",
       "      <td>...</td>\n",
       "      <td>...</td>\n",
       "      <td>...</td>\n",
       "      <td>...</td>\n",
       "      <td>...</td>\n",
       "    </tr>\n",
       "    <tr>\n",
       "      <th>643907</th>\n",
       "      <td>zaimoglu</td>\n",
       "      <td>zlatan ibrahimoviç türkiye de katil olur</td>\n",
       "      <td>ESFJ</td>\n",
       "      <td>sentinels</td>\n",
       "      <td>E</td>\n",
       "      <td>S</td>\n",
       "      <td>F</td>\n",
       "      <td>J</td>\n",
       "    </tr>\n",
       "    <tr>\n",
       "      <th>643908</th>\n",
       "      <td>zaimoglu</td>\n",
       "      <td>tarihteki en büyük yalancılar şike operasyonu ...</td>\n",
       "      <td>ESFJ</td>\n",
       "      <td>sentinels</td>\n",
       "      <td>E</td>\n",
       "      <td>S</td>\n",
       "      <td>F</td>\n",
       "      <td>J</td>\n",
       "    </tr>\n",
       "    <tr>\n",
       "      <th>643909</th>\n",
       "      <td>zaimoglu</td>\n",
       "      <td>akp-chp koalisyonu hayali koalisyondur</td>\n",
       "      <td>ESFJ</td>\n",
       "      <td>sentinels</td>\n",
       "      <td>E</td>\n",
       "      <td>S</td>\n",
       "      <td>F</td>\n",
       "      <td>J</td>\n",
       "    </tr>\n",
       "    <tr>\n",
       "      <th>643910</th>\n",
       "      <td>zaimoglu</td>\n",
       "      <td>trabzonlu insana hamsi diyen fenerbahçe taraft...</td>\n",
       "      <td>ESFJ</td>\n",
       "      <td>sentinels</td>\n",
       "      <td>E</td>\n",
       "      <td>S</td>\n",
       "      <td>F</td>\n",
       "      <td>J</td>\n",
       "    </tr>\n",
       "    <tr>\n",
       "      <th>643911</th>\n",
       "      <td>zaimoglu</td>\n",
       "      <td>caner taslaman zonguldak taki paneline katılma...</td>\n",
       "      <td>ESFJ</td>\n",
       "      <td>sentinels</td>\n",
       "      <td>E</td>\n",
       "      <td>S</td>\n",
       "      <td>F</td>\n",
       "      <td>J</td>\n",
       "    </tr>\n",
       "  </tbody>\n",
       "</table>\n",
       "<p>643912 rows × 8 columns</p>\n",
       "</div>"
      ],
      "text/plain": [
       "            user                                              entry  type  \\\n",
       "0       19991991  ekşi itiraf sonunda döndüm dolaştım geldim ken...  ENTJ   \n",
       "1       19991991  selda bağcan bu sesi canlı dinleyebilmek benim...  ENTJ   \n",
       "2       19991991  eski sevgilisinin mutlu olmasını isteyen insan...  ENTJ   \n",
       "3       19991991  veda ederken 2019'a bir not bırakmak farklı ac...  ENTJ   \n",
       "4       19991991  ingiliz aksanı bu aralar özellikle bayıldığım ...  ENTJ   \n",
       "...          ...                                                ...   ...   \n",
       "643907  zaimoglu          zlatan ibrahimoviç türkiye de katil olur   ESFJ   \n",
       "643908  zaimoglu  tarihteki en büyük yalancılar şike operasyonu ...  ESFJ   \n",
       "643909  zaimoglu            akp-chp koalisyonu hayali koalisyondur   ESFJ   \n",
       "643910  zaimoglu  trabzonlu insana hamsi diyen fenerbahçe taraft...  ESFJ   \n",
       "643911  zaimoglu  caner taslaman zonguldak taki paneline katılma...  ESFJ   \n",
       "\n",
       "        typeClass I/E S/N T/F J/P  \n",
       "0        analysts   E   N   T   J  \n",
       "1        analysts   E   N   T   J  \n",
       "2        analysts   E   N   T   J  \n",
       "3        analysts   E   N   T   J  \n",
       "4        analysts   E   N   T   J  \n",
       "...           ...  ..  ..  ..  ..  \n",
       "643907  sentinels   E   S   F   J  \n",
       "643908  sentinels   E   S   F   J  \n",
       "643909  sentinels   E   S   F   J  \n",
       "643910  sentinels   E   S   F   J  \n",
       "643911  sentinels   E   S   F   J  \n",
       "\n",
       "[643912 rows x 8 columns]"
      ]
     },
     "execution_count": 6,
     "metadata": {},
     "output_type": "execute_result"
    }
   ],
   "source": [
    "df"
   ]
  },
  {
   "cell_type": "code",
   "execution_count": null,
   "metadata": {
    "colab": {},
    "colab_type": "code",
    "id": "vkuqae_1sc2g",
    "scrolled": true
   },
   "outputs": [],
   "source": [
    "import matplotlib.pyplot as plt"
   ]
  },
  {
   "cell_type": "markdown",
   "metadata": {
    "colab_type": "text",
    "id": "WgKPqLP6sc2f"
   },
   "source": [
    "<span style=\"font-size:1.1em;\">Verisetinin **class** tiplerine göre dağılımı</span>"
   ]
  },
  {
   "cell_type": "code",
   "execution_count": null,
   "metadata": {
    "colab": {
     "base_uri": "https://localhost:8080/",
     "height": 428
    },
    "colab_type": "code",
    "id": "O5zNSY97RgFT",
    "outputId": "5164b431-f370-4e4a-f759-96454a523448"
   },
   "outputs": [],
   "source": [
    "fig = plt.figure(figsize=(8,6))\n",
    "\n",
    "df.groupby('typeClass').type.count().plot.bar(ylim=0)\n",
    "plt.savefig('gdrive/My Drive/mbti/raw_dataset_distribution_typeClass.png')\n",
    "plt.show()"
   ]
  },
  {
   "cell_type": "markdown",
   "metadata": {
    "colab_type": "text",
    "id": "yxKqqcIOHPV6"
   },
   "source": [
    "<span style=\"font-size:1.1em;\">Verisetindeki **I/E** dağılımını göstermektedir. I olanlar x ekseninde 0 olarak E olanlar ise 1 olarak gösterilmektedir</span>"
   ]
  },
  {
   "cell_type": "code",
   "execution_count": null,
   "metadata": {
    "colab": {
     "base_uri": "https://localhost:8080/",
     "height": 384
    },
    "colab_type": "code",
    "id": "Px9BDE58HPV8",
    "outputId": "f4ffd1b1-25ac-499c-f94b-8460bc68f812"
   },
   "outputs": [],
   "source": [
    "fig = plt.figure(figsize=(8,6))\n",
    "\n",
    "df.groupby('I/E').type.count().plot.bar(ylim=0)\n",
    "plt.savefig('gdrive/My Drive/mbti/raw_dataset_distribution_I-E.png')\n",
    "plt.show()"
   ]
  },
  {
   "cell_type": "markdown",
   "metadata": {
    "colab_type": "text",
    "id": "60eHkTmxHPWB"
   },
   "source": [
    "<span style=\"font-size:1.1em;\">Verisetindeki **S/N** dağılımını göstermektedir. N olanlar x ekseninde 0 olarak S olanlar ise 1 olarak gösterilmektedir</span>"
   ]
  },
  {
   "cell_type": "code",
   "execution_count": null,
   "metadata": {
    "colab": {
     "base_uri": "https://localhost:8080/",
     "height": 386
    },
    "colab_type": "code",
    "id": "r-n8D9GuHPWD",
    "outputId": "7f6e7805-6cbe-4078-fed9-7ac670057646"
   },
   "outputs": [],
   "source": [
    "fig = plt.figure(figsize=(8,6))\n",
    "\n",
    "df.groupby('S/N').type.count().plot.bar(ylim=0)\n",
    "plt.savefig('gdrive/My Drive/mbtidataset_distribution_S-N.png')\n",
    "plt.show()"
   ]
  },
  {
   "cell_type": "markdown",
   "metadata": {
    "colab_type": "text",
    "id": "YFqrkEQXHPWJ"
   },
   "source": [
    "<span style=\"font-size:1.1em;\">Verisetindeki **T/F** dağılımını göstermektedir. F olanlar x ekseninde 0 olarak T olanlar ise 1 olarak gösterilmektedir</span>"
   ]
  },
  {
   "cell_type": "code",
   "execution_count": null,
   "metadata": {
    "colab": {
     "base_uri": "https://localhost:8080/",
     "height": 384
    },
    "colab_type": "code",
    "id": "x9wbF0DjHPWL",
    "outputId": "c037e3fc-fd58-46c2-d21a-2578e3f262c5"
   },
   "outputs": [],
   "source": [
    "fig = plt.figure(figsize=(8,6))\n",
    "\n",
    "df.groupby('T/F').type.count().plot.bar(ylim=0)\n",
    "plt.savefig('gdrive/My Drive/mbti/raw_dataset_distribution_T-F.png')\n",
    "plt.show()"
   ]
  },
  {
   "cell_type": "markdown",
   "metadata": {
    "colab_type": "text",
    "id": "LLG8qi_6HPWQ"
   },
   "source": [
    "<span style=\"font-size:1.1em;\">Verisetindeki **J/P** dağılımını göstermektedir. P olanlar x ekseninde 0 olarak J olanlar ise 1 olarak gösterilmektedir</span>"
   ]
  },
  {
   "cell_type": "code",
   "execution_count": null,
   "metadata": {
    "colab": {
     "base_uri": "https://localhost:8080/",
     "height": 384
    },
    "colab_type": "code",
    "id": "PnYcABt4HPWS",
    "outputId": "07c57e6e-4820-4100-af88-f0ecfc1a7e88"
   },
   "outputs": [],
   "source": [
    "fig = plt.figure(figsize=(8,6))\n",
    "\n",
    "df.groupby('J/P').type.count().plot.bar(ylim=0)\n",
    "plt.savefig('gdrive/My Drive/mbti/raw_dataset_distribution_J-P.png')\n",
    "plt.show()"
   ]
  },
  {
   "cell_type": "markdown",
   "metadata": {
    "colab_type": "text",
    "id": "RgbvMDgWKkm9"
   },
   "source": [
    "Aşağıda ise verisetinin 16 farklı MBTI kişilik tiplerine göre dağılımı gösterilmektedir."
   ]
  },
  {
   "cell_type": "code",
   "execution_count": null,
   "metadata": {
    "colab": {
     "base_uri": "https://localhost:8080/",
     "height": 295
    },
    "colab_type": "code",
    "id": "wQxnOEeqKvFU",
    "outputId": "3957c7f5-7baa-4374-95f0-2d135a37e8c0"
   },
   "outputs": [],
   "source": [
    "fig = plt.figure(figsize=(8,4))\n",
    "\n",
    "df.groupby('type').type.count().plot.bar(ylim=0)\n",
    "plt.savefig('gdrive/My Drive/mbti/raw_dataset_distribution_type.png')\n",
    "plt.show()"
   ]
  },
  {
   "cell_type": "markdown",
   "metadata": {},
   "source": [
    "# Elimination"
   ]
  },
  {
   "cell_type": "markdown",
   "metadata": {},
   "source": [
    "<span style=\"font-size:1.1em\">Bu adımda verisetindeki belli keywordleri içeren entryler verisetinden çıkartılmaktadır.\n",
    "Bunun nedeni ise bu keywordleri taşıyan entrylerin bir olayı ya da düşünceyi olduğu gibi aktarmasından ötürüdür.\n",
    "BU tarz entrylerde kullanıcıya ait herhangi bir düşünce ya da öznel bir ifade yer almamaktadır. Örneğin **bkz** içeren entryler başka bir başlığa ya da olaya referans gösterir. **spoiler** içeren entryler bir olayı anlatmaktadır. **#** ile eksisozluk üzerindeki başka bir entrye referans verilir</span>"
   ]
  },
  {
   "cell_type": "markdown",
   "metadata": {
    "colab_type": "text",
    "id": "DdaLFbvbCm8r"
   },
   "source": [
    "<span style=\"font-size:1.1em\">Dataframe içerisindeki bütün entrylere '**bkz**', '**spoiler**', '**#**' içerip içermediğine bakar ve bunun sonucu index numarasıyla birlikte döner. ```15 True``` gibi bu demek oluyor ki 15 numaralı index bizim yazmış olduğumuz koşulu sağlamaktadır.</span>"
   ]
  },
  {
   "cell_type": "code",
   "execution_count": 7,
   "metadata": {
    "colab": {},
    "colab_type": "code",
    "id": "4i_BlXDr-BbQ"
   },
   "outputs": [],
   "source": [
    "indexes_contains_unwanted_words = df['entry'].str.contains('|'.join(['bkz', 'spoiler', r'#\\d*']))"
   ]
  },
  {
   "cell_type": "markdown",
   "metadata": {
    "colab_type": "text",
    "id": "boufiWfHDrIu"
   },
   "source": [
    "<span style=\"font-size:1.1em\">Dataframe'den ilgili entryler çıkartılır</span>"
   ]
  },
  {
   "cell_type": "code",
   "execution_count": 9,
   "metadata": {
    "colab": {
     "base_uri": "https://localhost:8080/",
     "height": 269
    },
    "colab_type": "code",
    "id": "NEJVm7ALDuo2",
    "outputId": "3d72faff-689d-4d4c-cf1b-44458b2544f2"
   },
   "outputs": [
    {
     "name": "stderr",
     "output_type": "stream",
     "text": [
      "/home/khan/anaconda3/lib/python3.7/site-packages/ipykernel_launcher.py:1: UserWarning: Boolean Series key will be reindexed to match DataFrame index.\n",
      "  \"\"\"Entry point for launching an IPython kernel.\n"
     ]
    },
    {
     "data": {
      "text/plain": [
       "0         ekşi itiraf sonunda döndüm dolaştım geldim ken...\n",
       "1         selda bağcan bu sesi canlı dinleyebilmek benim...\n",
       "2         eski sevgilisinin mutlu olmasını isteyen insan...\n",
       "3         veda ederken 2019'a bir not bırakmak farklı ac...\n",
       "4         ingiliz aksanı bu aralar özellikle bayıldığım ...\n",
       "                                ...                        \n",
       "643907            zlatan ibrahimoviç türkiye de katil olur \n",
       "643908    tarihteki en büyük yalancılar şike operasyonu ...\n",
       "643909              akp-chp koalisyonu hayali koalisyondur \n",
       "643910    trabzonlu insana hamsi diyen fenerbahçe taraft...\n",
       "643911    caner taslaman zonguldak taki paneline katılma...\n",
       "Name: entry, Length: 524840, dtype: object"
      ]
     },
     "execution_count": 9,
     "metadata": {},
     "output_type": "execute_result"
    }
   ],
   "source": [
    "df = df[~indexes_contains_unwanted_words]\n",
    "\n",
    "df['entry']"
   ]
  },
  {
   "cell_type": "markdown",
   "metadata": {},
   "source": [
    "<span style=\"font-size:1.1em\">Verisetinin son hali kaydedilir</span>"
   ]
  },
  {
   "cell_type": "code",
   "execution_count": null,
   "metadata": {},
   "outputs": [],
   "source": [
    "df.to_csv(\"gdrive/My Drive/mbti/elimanated_all_users_v2.csv\", sep=';', encoding='utf-8', index=False)"
   ]
  },
  {
   "cell_type": "markdown",
   "metadata": {
    "colab_type": "text",
    "id": "WgKPqLP6sc2f"
   },
   "source": [
    "<span style=\"font-size:1.1em;\">Verisetinin **class** tiplerine göre dağılımı</span>"
   ]
  },
  {
   "cell_type": "code",
   "execution_count": null,
   "metadata": {
    "colab": {
     "base_uri": "https://localhost:8080/",
     "height": 428
    },
    "colab_type": "code",
    "id": "O5zNSY97RgFT",
    "outputId": "5164b431-f370-4e4a-f759-96454a523448"
   },
   "outputs": [],
   "source": [
    "fig = plt.figure(figsize=(8,6))\n",
    "\n",
    "df.groupby('typeClass').type.count().plot.bar(ylim=0)\n",
    "plt.savefig('gdrive/My Drive/mbti/eliminated_dataset_distribution_typeClass.png')\n",
    "plt.show()"
   ]
  },
  {
   "cell_type": "markdown",
   "metadata": {
    "colab_type": "text",
    "id": "yxKqqcIOHPV6"
   },
   "source": [
    "<span style=\"font-size:1.1em;\">Verisetindeki **I/E** dağılımını göstermektedir. I olanlar x ekseninde 0 olarak E olanlar ise 1 olarak gösterilmektedir</span>"
   ]
  },
  {
   "cell_type": "code",
   "execution_count": null,
   "metadata": {
    "colab": {
     "base_uri": "https://localhost:8080/",
     "height": 384
    },
    "colab_type": "code",
    "id": "Px9BDE58HPV8",
    "outputId": "f4ffd1b1-25ac-499c-f94b-8460bc68f812"
   },
   "outputs": [],
   "source": [
    "fig = plt.figure(figsize=(8,6))\n",
    "\n",
    "df.groupby('I/E').type.count().plot.bar(ylim=0)\n",
    "plt.savefig('gdrive/My Drive/mbti/eliminated_dataset_distribution_I-E.png')\n",
    "plt.show()"
   ]
  },
  {
   "cell_type": "markdown",
   "metadata": {
    "colab_type": "text",
    "id": "60eHkTmxHPWB"
   },
   "source": [
    "<span style=\"font-size:1.1em;\">Verisetindeki **S/N** dağılımını göstermektedir. N olanlar x ekseninde 0 olarak S olanlar ise 1 olarak gösterilmektedir</span>"
   ]
  },
  {
   "cell_type": "code",
   "execution_count": null,
   "metadata": {
    "colab": {
     "base_uri": "https://localhost:8080/",
     "height": 386
    },
    "colab_type": "code",
    "id": "r-n8D9GuHPWD",
    "outputId": "7f6e7805-6cbe-4078-fed9-7ac670057646"
   },
   "outputs": [],
   "source": [
    "fig = plt.figure(figsize=(8,6))\n",
    "\n",
    "df.groupby('S/N').type.count().plot.bar(ylim=0)\n",
    "plt.savefig('gdrive/My Drive/mbti/eliminated_dataset_distribution_S-N.png')\n",
    "plt.show()"
   ]
  },
  {
   "cell_type": "markdown",
   "metadata": {
    "colab_type": "text",
    "id": "YFqrkEQXHPWJ"
   },
   "source": [
    "<span style=\"font-size:1.1em;\">Verisetindeki **T/F** dağılımını göstermektedir. F olanlar x ekseninde 0 olarak T olanlar ise 1 olarak gösterilmektedir</span>"
   ]
  },
  {
   "cell_type": "code",
   "execution_count": null,
   "metadata": {
    "colab": {
     "base_uri": "https://localhost:8080/",
     "height": 384
    },
    "colab_type": "code",
    "id": "x9wbF0DjHPWL",
    "outputId": "c037e3fc-fd58-46c2-d21a-2578e3f262c5"
   },
   "outputs": [],
   "source": [
    "fig = plt.figure(figsize=(8,6))\n",
    "\n",
    "df.groupby('T/F').type.count().plot.bar(ylim=0)\n",
    "plt.savefig('gdrive/My Drive/mbti/eliminated_dataset_distribution_T-F.png')\n",
    "plt.show()"
   ]
  },
  {
   "cell_type": "markdown",
   "metadata": {
    "colab_type": "text",
    "id": "LLG8qi_6HPWQ"
   },
   "source": [
    "<span style=\"font-size:1.1em;\">Verisetindeki **J/P** dağılımını göstermektedir. P olanlar x ekseninde 0 olarak J olanlar ise 1 olarak gösterilmektedir</span>"
   ]
  },
  {
   "cell_type": "code",
   "execution_count": null,
   "metadata": {
    "colab": {
     "base_uri": "https://localhost:8080/",
     "height": 384
    },
    "colab_type": "code",
    "id": "PnYcABt4HPWS",
    "outputId": "07c57e6e-4820-4100-af88-f0ecfc1a7e88"
   },
   "outputs": [],
   "source": [
    "fig = plt.figure(figsize=(8,6))\n",
    "\n",
    "df.groupby('J/P').type.count().plot.bar(ylim=0)\n",
    "plt.savefig('gdrive/My Drive/mbti/eliminated_dataset_distribution_J-P.png')\n",
    "plt.show()"
   ]
  },
  {
   "cell_type": "markdown",
   "metadata": {
    "colab_type": "text",
    "id": "RgbvMDgWKkm9"
   },
   "source": [
    "Aşağıda ise verisetinin 16 farklı MBTI kişilik tiplerine göre dağılımı gösterilmektedir."
   ]
  },
  {
   "cell_type": "code",
   "execution_count": null,
   "metadata": {
    "colab": {
     "base_uri": "https://localhost:8080/",
     "height": 295
    },
    "colab_type": "code",
    "id": "wQxnOEeqKvFU",
    "outputId": "3957c7f5-7baa-4374-95f0-2d135a37e8c0"
   },
   "outputs": [],
   "source": [
    "fig = plt.figure(figsize=(8,4))\n",
    "\n",
    "df.groupby('type').type.count().plot.bar(ylim=0)\n",
    "plt.savefig('gdrive/My Drive/mbti/eliminated_dataset_distribution_type.png')\n",
    "plt.show()"
   ]
  },
  {
   "cell_type": "code",
   "execution_count": null,
   "metadata": {},
   "outputs": [],
   "source": []
  }
 ],
 "metadata": {
  "kernelspec": {
   "display_name": "Python 3",
   "language": "python",
   "name": "python3"
  },
  "language_info": {
   "codemirror_mode": {
    "name": "ipython",
    "version": 3
   },
   "file_extension": ".py",
   "mimetype": "text/x-python",
   "name": "python",
   "nbconvert_exporter": "python",
   "pygments_lexer": "ipython3",
   "version": "3.7.5"
  }
 },
 "nbformat": 4,
 "nbformat_minor": 2
}
