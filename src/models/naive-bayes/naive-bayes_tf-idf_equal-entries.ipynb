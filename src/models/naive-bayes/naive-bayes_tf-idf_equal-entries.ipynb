{
  "nbformat": 4,
  "nbformat_minor": 0,
  "metadata": {
    "colab": {
      "name": "naive_bayes_tf_idf_equal_entries.ipynb",
      "provenance": [],
      "collapsed_sections": [],
      "machine_shape": "hm"
    },
    "kernelspec": {
      "display_name": "Python 3",
      "language": "python",
      "name": "python3"
    },
    "language_info": {
      "codemirror_mode": {
        "name": "ipython",
        "version": 3
      },
      "file_extension": ".py",
      "mimetype": "text/x-python",
      "name": "python",
      "nbconvert_exporter": "python",
      "pygments_lexer": "ipython3",
      "version": "3.7.5"
    }
  },
  "cells": [
    {
      "cell_type": "markdown",
      "metadata": {
        "colab_type": "text",
        "id": "GiSnxJDrBvzH"
      },
      "source": [
        "## Verisetinin Yüklenmesi"
      ]
    },
    {
      "cell_type": "markdown",
      "metadata": {
        "colab_type": "text",
        "id": "pp6F_dK-BvzL"
      },
      "source": [
        "<span style=\"font-size:1.1em;\">Colab'a Google drive'ı entegre ediyoruz. Kullanılacak olan veriseti Google Drive'da bulunmaktadır</span>"
      ]
    },
    {
      "cell_type": "code",
      "metadata": {
        "colab_type": "code",
        "id": "0eXSt9GwBvzO",
        "outputId": "ae97a28a-9436-4644-8195-a2e9a7bd39fc",
        "colab": {
          "base_uri": "https://localhost:8080/",
          "height": 53
        }
      },
      "source": [
        "from google.colab import drive\n",
        "drive.mount('/content/gdrive')"
      ],
      "execution_count": 79,
      "outputs": [
        {
          "output_type": "stream",
          "text": [
            "Drive already mounted at /content/gdrive; to attempt to forcibly remount, call drive.mount(\"/content/gdrive\", force_remount=True).\n",
            "Drive already mounted at /content/gdrive; to attempt to forcibly remount, call drive.mount(\"/content/gdrive\", force_remount=True).\n"
          ],
          "name": "stdout"
        }
      ]
    },
    {
      "cell_type": "code",
      "metadata": {
        "colab_type": "code",
        "id": "7duXtSRABvzY",
        "colab": {}
      },
      "source": [
        "PREPROCESSED_DATASET_WITH_STEMMER = \"gdrive/My Drive/mbti/preprocessed_dataset_with_stemming.csv\"\n",
        "PREPROCESSED_DATASET_WITHOUT_STEMMER = \"gdrive/My Drive/mbti/preprocessed_dataset_no_stemming.csv\"\n",
        "PREPROCESSED_DATASET_ZEMBEREK = \"gdrive/My Drive/mbti/preprocessed_dataset_zemberek.csv\"\n",
        "TRIMMED_DATASET = \"gdrive/My Drive/mbti/trimmed_dataset.csv\"\n",
        "RAW_DATASET = \"gdrive/My Drive/mbti/all_users_v2.csv\""
      ],
      "execution_count": 0,
      "outputs": []
    },
    {
      "cell_type": "markdown",
      "metadata": {
        "colab_type": "text",
        "id": "xNsJolflBvzg"
      },
      "source": [
        "<span style=\"font-size:1.1em;\">Hangi veriseti kullanılarak işlem yapılacaksa yukardaki pathlerden biri seçilir ve parametre olarak verilir.</span>"
      ]
    },
    {
      "cell_type": "code",
      "metadata": {
        "colab_type": "code",
        "id": "NN6XGz7OBvzj",
        "colab": {}
      },
      "source": [
        "import pandas as pd \n",
        "df = pd.read_csv(PREPROCESSED_DATASET_ZEMBEREK, sep = ';', header = 0)"
      ],
      "execution_count": 0,
      "outputs": []
    },
    {
      "cell_type": "code",
      "metadata": {
        "colab_type": "code",
        "id": "EiFZ5FBCBvzr",
        "outputId": "e3d61b75-0027-4ed0-8d40-a9b04f45fd15",
        "colab": {
          "base_uri": "https://localhost:8080/",
          "height": 821
        }
      },
      "source": [
        "df"
      ],
      "execution_count": 82,
      "outputs": [
        {
          "output_type": "execute_result",
          "data": {
            "text/html": [
              "<div>\n",
              "<style scoped>\n",
              "    .dataframe tbody tr th:only-of-type {\n",
              "        vertical-align: middle;\n",
              "    }\n",
              "\n",
              "    .dataframe tbody tr th {\n",
              "        vertical-align: top;\n",
              "    }\n",
              "\n",
              "    .dataframe thead th {\n",
              "        text-align: right;\n",
              "    }\n",
              "</style>\n",
              "<table border=\"1\" class=\"dataframe\">\n",
              "  <thead>\n",
              "    <tr style=\"text-align: right;\">\n",
              "      <th></th>\n",
              "      <th>user</th>\n",
              "      <th>entry</th>\n",
              "      <th>type</th>\n",
              "      <th>typeClass</th>\n",
              "      <th>I/E</th>\n",
              "      <th>S/N</th>\n",
              "      <th>T/F</th>\n",
              "      <th>J/P</th>\n",
              "    </tr>\n",
              "  </thead>\n",
              "  <tbody>\n",
              "    <tr>\n",
              "      <th>0</th>\n",
              "      <td>19991991</td>\n",
              "      <td>ekşi itiraf dön dolaş gel kendi çat problem ge...</td>\n",
              "      <td>ENTJ</td>\n",
              "      <td>analysts</td>\n",
              "      <td>E</td>\n",
              "      <td>N</td>\n",
              "      <td>T</td>\n",
              "      <td>J</td>\n",
              "    </tr>\n",
              "    <tr>\n",
              "      <th>1</th>\n",
              "      <td>19991991</td>\n",
              "      <td>selda bağcan ses dinle dinleyebil dinleyebilme...</td>\n",
              "      <td>ENTJ</td>\n",
              "      <td>analysts</td>\n",
              "      <td>E</td>\n",
              "      <td>N</td>\n",
              "      <td>T</td>\n",
              "      <td>J</td>\n",
              "    </tr>\n",
              "    <tr>\n",
              "      <th>2</th>\n",
              "      <td>19991991</td>\n",
              "      <td>eski sevgili mutlu ol olma iste isteyen insan ...</td>\n",
              "      <td>ENTJ</td>\n",
              "      <td>analysts</td>\n",
              "      <td>E</td>\n",
              "      <td>N</td>\n",
              "      <td>T</td>\n",
              "      <td>J</td>\n",
              "    </tr>\n",
              "    <tr>\n",
              "      <th>3</th>\n",
              "      <td>19991991</td>\n",
              "      <td>veda et ederken not bırak bırakmak fark farklı...</td>\n",
              "      <td>ENTJ</td>\n",
              "      <td>analysts</td>\n",
              "      <td>E</td>\n",
              "      <td>N</td>\n",
              "      <td>T</td>\n",
              "      <td>J</td>\n",
              "    </tr>\n",
              "    <tr>\n",
              "      <th>4</th>\n",
              "      <td>19991991</td>\n",
              "      <td>ingiliz aksa ara bayıl bayıldık konuş konuşan ...</td>\n",
              "      <td>ENTJ</td>\n",
              "      <td>analysts</td>\n",
              "      <td>E</td>\n",
              "      <td>N</td>\n",
              "      <td>T</td>\n",
              "      <td>J</td>\n",
              "    </tr>\n",
              "    <tr>\n",
              "      <th>...</th>\n",
              "      <td>...</td>\n",
              "      <td>...</td>\n",
              "      <td>...</td>\n",
              "      <td>...</td>\n",
              "      <td>...</td>\n",
              "      <td>...</td>\n",
              "      <td>...</td>\n",
              "      <td>...</td>\n",
              "    </tr>\n",
              "    <tr>\n",
              "      <th>524797</th>\n",
              "      <td>zaimoglu</td>\n",
              "      <td>zlatan ıbrahimovic türkiye katil</td>\n",
              "      <td>ESFJ</td>\n",
              "      <td>sentinels</td>\n",
              "      <td>E</td>\n",
              "      <td>S</td>\n",
              "      <td>F</td>\n",
              "      <td>J</td>\n",
              "    </tr>\n",
              "    <tr>\n",
              "      <th>524798</th>\n",
              "      <td>zaimoglu</td>\n",
              "      <td>tarih tarihteki büyük yalan yalancı şike opera...</td>\n",
              "      <td>ESFJ</td>\n",
              "      <td>sentinels</td>\n",
              "      <td>E</td>\n",
              "      <td>S</td>\n",
              "      <td>F</td>\n",
              "      <td>J</td>\n",
              "    </tr>\n",
              "    <tr>\n",
              "      <th>524799</th>\n",
              "      <td>zaimoglu</td>\n",
              "      <td>akp chp koalisyon hayal koalisyon</td>\n",
              "      <td>ESFJ</td>\n",
              "      <td>sentinels</td>\n",
              "      <td>E</td>\n",
              "      <td>S</td>\n",
              "      <td>F</td>\n",
              "      <td>J</td>\n",
              "    </tr>\n",
              "    <tr>\n",
              "      <th>524800</th>\n",
              "      <td>zaimoglu</td>\n",
              "      <td>trabzon trabzonlu insan hamsi de diyen fenerba...</td>\n",
              "      <td>ESFJ</td>\n",
              "      <td>sentinels</td>\n",
              "      <td>E</td>\n",
              "      <td>S</td>\n",
              "      <td>F</td>\n",
              "      <td>J</td>\n",
              "    </tr>\n",
              "    <tr>\n",
              "      <th>524801</th>\n",
              "      <td>zaimoglu</td>\n",
              "      <td>caner tasla taslama zonguldak panel katıl katı...</td>\n",
              "      <td>ESFJ</td>\n",
              "      <td>sentinels</td>\n",
              "      <td>E</td>\n",
              "      <td>S</td>\n",
              "      <td>F</td>\n",
              "      <td>J</td>\n",
              "    </tr>\n",
              "  </tbody>\n",
              "</table>\n",
              "<p>524802 rows × 8 columns</p>\n",
              "</div>"
            ],
            "text/plain": [
              "            user                                              entry  ... T/F J/P\n",
              "0       19991991  ekşi itiraf dön dolaş gel kendi çat problem ge...  ...   T   J\n",
              "1       19991991  selda bağcan ses dinle dinleyebil dinleyebilme...  ...   T   J\n",
              "2       19991991  eski sevgili mutlu ol olma iste isteyen insan ...  ...   T   J\n",
              "3       19991991  veda et ederken not bırak bırakmak fark farklı...  ...   T   J\n",
              "4       19991991  ingiliz aksa ara bayıl bayıldık konuş konuşan ...  ...   T   J\n",
              "...          ...                                                ...  ...  ..  ..\n",
              "524797  zaimoglu                   zlatan ıbrahimovic türkiye katil  ...   F   J\n",
              "524798  zaimoglu  tarih tarihteki büyük yalan yalancı şike opera...  ...   F   J\n",
              "524799  zaimoglu                  akp chp koalisyon hayal koalisyon  ...   F   J\n",
              "524800  zaimoglu  trabzon trabzonlu insan hamsi de diyen fenerba...  ...   F   J\n",
              "524801  zaimoglu  caner tasla taslama zonguldak panel katıl katı...  ...   F   J\n",
              "\n",
              "[524802 rows x 8 columns]"
            ]
          },
          "metadata": {
            "tags": []
          },
          "execution_count": 4
        },
        {
          "output_type": "execute_result",
          "data": {
            "text/html": [
              "<div>\n",
              "<style scoped>\n",
              "    .dataframe tbody tr th:only-of-type {\n",
              "        vertical-align: middle;\n",
              "    }\n",
              "\n",
              "    .dataframe tbody tr th {\n",
              "        vertical-align: top;\n",
              "    }\n",
              "\n",
              "    .dataframe thead th {\n",
              "        text-align: right;\n",
              "    }\n",
              "</style>\n",
              "<table border=\"1\" class=\"dataframe\">\n",
              "  <thead>\n",
              "    <tr style=\"text-align: right;\">\n",
              "      <th></th>\n",
              "      <th>user</th>\n",
              "      <th>entry</th>\n",
              "      <th>type</th>\n",
              "      <th>typeClass</th>\n",
              "      <th>I/E</th>\n",
              "      <th>S/N</th>\n",
              "      <th>T/F</th>\n",
              "      <th>J/P</th>\n",
              "    </tr>\n",
              "  </thead>\n",
              "  <tbody>\n",
              "    <tr>\n",
              "      <th>0</th>\n",
              "      <td>19991991</td>\n",
              "      <td>ekşi itiraf dön dolaş gel kendi çat problem ge...</td>\n",
              "      <td>ENTJ</td>\n",
              "      <td>analysts</td>\n",
              "      <td>E</td>\n",
              "      <td>N</td>\n",
              "      <td>T</td>\n",
              "      <td>J</td>\n",
              "    </tr>\n",
              "    <tr>\n",
              "      <th>1</th>\n",
              "      <td>19991991</td>\n",
              "      <td>selda bağcan ses dinle dinleyebil dinleyebilme...</td>\n",
              "      <td>ENTJ</td>\n",
              "      <td>analysts</td>\n",
              "      <td>E</td>\n",
              "      <td>N</td>\n",
              "      <td>T</td>\n",
              "      <td>J</td>\n",
              "    </tr>\n",
              "    <tr>\n",
              "      <th>2</th>\n",
              "      <td>19991991</td>\n",
              "      <td>eski sevgili mutlu ol olma iste isteyen insan ...</td>\n",
              "      <td>ENTJ</td>\n",
              "      <td>analysts</td>\n",
              "      <td>E</td>\n",
              "      <td>N</td>\n",
              "      <td>T</td>\n",
              "      <td>J</td>\n",
              "    </tr>\n",
              "    <tr>\n",
              "      <th>3</th>\n",
              "      <td>19991991</td>\n",
              "      <td>veda et ederken not bırak bırakmak fark farklı...</td>\n",
              "      <td>ENTJ</td>\n",
              "      <td>analysts</td>\n",
              "      <td>E</td>\n",
              "      <td>N</td>\n",
              "      <td>T</td>\n",
              "      <td>J</td>\n",
              "    </tr>\n",
              "    <tr>\n",
              "      <th>4</th>\n",
              "      <td>19991991</td>\n",
              "      <td>ingiliz aksa ara bayıl bayıldık konuş konuşan ...</td>\n",
              "      <td>ENTJ</td>\n",
              "      <td>analysts</td>\n",
              "      <td>E</td>\n",
              "      <td>N</td>\n",
              "      <td>T</td>\n",
              "      <td>J</td>\n",
              "    </tr>\n",
              "    <tr>\n",
              "      <th>...</th>\n",
              "      <td>...</td>\n",
              "      <td>...</td>\n",
              "      <td>...</td>\n",
              "      <td>...</td>\n",
              "      <td>...</td>\n",
              "      <td>...</td>\n",
              "      <td>...</td>\n",
              "      <td>...</td>\n",
              "    </tr>\n",
              "    <tr>\n",
              "      <th>524797</th>\n",
              "      <td>zaimoglu</td>\n",
              "      <td>zlatan ıbrahimovic türkiye katil</td>\n",
              "      <td>ESFJ</td>\n",
              "      <td>sentinels</td>\n",
              "      <td>E</td>\n",
              "      <td>S</td>\n",
              "      <td>F</td>\n",
              "      <td>J</td>\n",
              "    </tr>\n",
              "    <tr>\n",
              "      <th>524798</th>\n",
              "      <td>zaimoglu</td>\n",
              "      <td>tarih tarihteki büyük yalan yalancı şike opera...</td>\n",
              "      <td>ESFJ</td>\n",
              "      <td>sentinels</td>\n",
              "      <td>E</td>\n",
              "      <td>S</td>\n",
              "      <td>F</td>\n",
              "      <td>J</td>\n",
              "    </tr>\n",
              "    <tr>\n",
              "      <th>524799</th>\n",
              "      <td>zaimoglu</td>\n",
              "      <td>akp chp koalisyon hayal koalisyon</td>\n",
              "      <td>ESFJ</td>\n",
              "      <td>sentinels</td>\n",
              "      <td>E</td>\n",
              "      <td>S</td>\n",
              "      <td>F</td>\n",
              "      <td>J</td>\n",
              "    </tr>\n",
              "    <tr>\n",
              "      <th>524800</th>\n",
              "      <td>zaimoglu</td>\n",
              "      <td>trabzon trabzonlu insan hamsi de diyen fenerba...</td>\n",
              "      <td>ESFJ</td>\n",
              "      <td>sentinels</td>\n",
              "      <td>E</td>\n",
              "      <td>S</td>\n",
              "      <td>F</td>\n",
              "      <td>J</td>\n",
              "    </tr>\n",
              "    <tr>\n",
              "      <th>524801</th>\n",
              "      <td>zaimoglu</td>\n",
              "      <td>caner tasla taslama zonguldak panel katıl katı...</td>\n",
              "      <td>ESFJ</td>\n",
              "      <td>sentinels</td>\n",
              "      <td>E</td>\n",
              "      <td>S</td>\n",
              "      <td>F</td>\n",
              "      <td>J</td>\n",
              "    </tr>\n",
              "  </tbody>\n",
              "</table>\n",
              "<p>524802 rows × 8 columns</p>\n",
              "</div>"
            ],
            "text/plain": [
              "            user                                              entry  ... T/F J/P\n",
              "0       19991991  ekşi itiraf dön dolaş gel kendi çat problem ge...  ...   T   J\n",
              "1       19991991  selda bağcan ses dinle dinleyebil dinleyebilme...  ...   T   J\n",
              "2       19991991  eski sevgili mutlu ol olma iste isteyen insan ...  ...   T   J\n",
              "3       19991991  veda et ederken not bırak bırakmak fark farklı...  ...   T   J\n",
              "4       19991991  ingiliz aksa ara bayıl bayıldık konuş konuşan ...  ...   T   J\n",
              "...          ...                                                ...  ...  ..  ..\n",
              "524797  zaimoglu                   zlatan ıbrahimovic türkiye katil  ...   F   J\n",
              "524798  zaimoglu  tarih tarihteki büyük yalan yalancı şike opera...  ...   F   J\n",
              "524799  zaimoglu                  akp chp koalisyon hayal koalisyon  ...   F   J\n",
              "524800  zaimoglu  trabzon trabzonlu insan hamsi de diyen fenerba...  ...   F   J\n",
              "524801  zaimoglu  caner tasla taslama zonguldak panel katıl katı...  ...   F   J\n",
              "\n",
              "[524802 rows x 8 columns]"
            ]
          },
          "metadata": {
            "tags": []
          },
          "execution_count": 82
        }
      ]
    },
    {
      "cell_type": "markdown",
      "metadata": {
        "colab_type": "text",
        "id": "6d1qAUNZ7wkp"
      },
      "source": [
        "Her tipten eşit sayıda entry alınabilmesi adına öncelikle bir sınıftaki en az olan entry sayısı bulunur"
      ]
    },
    {
      "cell_type": "code",
      "metadata": {
        "colab_type": "code",
        "id": "osy70OLU72D-",
        "outputId": "898bee89-c821-462c-9803-c73e2f03238e",
        "colab": {
          "base_uri": "https://localhost:8080/",
          "height": 35
        }
      },
      "source": [
        "min_entry = df.groupby('typeClass', as_index = False).count().min().entry\n",
        "\n",
        "min_entry\n"
      ],
      "execution_count": 83,
      "outputs": [
        {
          "output_type": "execute_result",
          "data": {
            "text/plain": [
              "54912"
            ]
          },
          "metadata": {
            "tags": []
          },
          "execution_count": 5
        },
        {
          "output_type": "execute_result",
          "data": {
            "text/plain": [
              "54912"
            ]
          },
          "metadata": {
            "tags": []
          },
          "execution_count": 83
        }
      ]
    },
    {
      "cell_type": "markdown",
      "metadata": {
        "colab_type": "text",
        "id": "HLO2Dg8NEP6S"
      },
      "source": [
        "Eşit sayıda entry olacak şekilde yeni bir dataframe olusturulur"
      ]
    },
    {
      "cell_type": "code",
      "metadata": {
        "colab_type": "code",
        "id": "tkn7l30hEVDb",
        "outputId": "c56070c5-d4ca-4d78-e9c1-0e862c9394f3",
        "colab": {
          "base_uri": "https://localhost:8080/",
          "height": 35
        }
      },
      "source": [
        "analysts_df = df[df['typeClass'] == 'analysts']\n",
        "analysts_df = analysts_df.iloc[0 : min_entry]\n",
        "\n",
        "analysts_df.shape[0]\n"
      ],
      "execution_count": 84,
      "outputs": [
        {
          "output_type": "execute_result",
          "data": {
            "text/plain": [
              "54912"
            ]
          },
          "metadata": {
            "tags": []
          },
          "execution_count": 6
        },
        {
          "output_type": "execute_result",
          "data": {
            "text/plain": [
              "54912"
            ]
          },
          "metadata": {
            "tags": []
          },
          "execution_count": 84
        }
      ]
    },
    {
      "cell_type": "code",
      "metadata": {
        "colab_type": "code",
        "id": "miQ93RVeFzuL",
        "outputId": "fec63ee5-0b4e-4c3a-f124-b09376a98931",
        "colab": {
          "base_uri": "https://localhost:8080/",
          "height": 35
        }
      },
      "source": [
        "explorers_df = df[df['typeClass'] == 'explorers']\n",
        "explorers_df = explorers_df.iloc[0 : min_entry]\n",
        "\n",
        "explorers_df.shape[0]"
      ],
      "execution_count": 85,
      "outputs": [
        {
          "output_type": "execute_result",
          "data": {
            "text/plain": [
              "54912"
            ]
          },
          "metadata": {
            "tags": []
          },
          "execution_count": 7
        },
        {
          "output_type": "execute_result",
          "data": {
            "text/plain": [
              "54912"
            ]
          },
          "metadata": {
            "tags": []
          },
          "execution_count": 85
        }
      ]
    },
    {
      "cell_type": "code",
      "metadata": {
        "colab_type": "code",
        "id": "DnJb-ultGBy3",
        "outputId": "b0b65ea8-5c1d-4710-ace7-78ac22285f41",
        "colab": {
          "base_uri": "https://localhost:8080/",
          "height": 35
        }
      },
      "source": [
        "sentinels_df = df[df['typeClass'] == 'sentinels']\n",
        "sentinels_df = sentinels_df.iloc[0 : min_entry]\n",
        "\n",
        "sentinels_df.shape[0]"
      ],
      "execution_count": 86,
      "outputs": [
        {
          "output_type": "execute_result",
          "data": {
            "text/plain": [
              "54912"
            ]
          },
          "metadata": {
            "tags": []
          },
          "execution_count": 8
        },
        {
          "output_type": "execute_result",
          "data": {
            "text/plain": [
              "54912"
            ]
          },
          "metadata": {
            "tags": []
          },
          "execution_count": 86
        }
      ]
    },
    {
      "cell_type": "code",
      "metadata": {
        "colab_type": "code",
        "id": "IizE1zQiGYEA",
        "outputId": "4824c338-4c41-44a1-8147-d265a0fc4328",
        "colab": {
          "base_uri": "https://localhost:8080/",
          "height": 35
        }
      },
      "source": [
        "diplomats_df = df[df['typeClass'] == 'diplomats']\n",
        "\n",
        "diplomats_df = diplomats_df.iloc[0 : min_entry]\n",
        "\n",
        "diplomats_df.shape[0]"
      ],
      "execution_count": 87,
      "outputs": [
        {
          "output_type": "execute_result",
          "data": {
            "text/plain": [
              "54912"
            ]
          },
          "metadata": {
            "tags": []
          },
          "execution_count": 9
        },
        {
          "output_type": "execute_result",
          "data": {
            "text/plain": [
              "54912"
            ]
          },
          "metadata": {
            "tags": []
          },
          "execution_count": 87
        }
      ]
    },
    {
      "cell_type": "markdown",
      "metadata": {
        "colab_type": "text",
        "id": "TBd-YTWcGpMO"
      },
      "source": [
        "Yeni bir dataframe oluşturulur."
      ]
    },
    {
      "cell_type": "code",
      "metadata": {
        "colab_type": "code",
        "id": "LPmQm78eG3d3",
        "outputId": "d5dc6b5c-d7d4-44ba-97c4-a4e801e2e12f",
        "colab": {
          "base_uri": "https://localhost:8080/",
          "height": 821
        }
      },
      "source": [
        "equal_entries_df = pd.concat([diplomats_df, sentinels_df, explorers_df, analysts_df]).reset_index(drop=True)\n",
        "equal_entries_df"
      ],
      "execution_count": 88,
      "outputs": [
        {
          "output_type": "execute_result",
          "data": {
            "text/html": [
              "<div>\n",
              "<style scoped>\n",
              "    .dataframe tbody tr th:only-of-type {\n",
              "        vertical-align: middle;\n",
              "    }\n",
              "\n",
              "    .dataframe tbody tr th {\n",
              "        vertical-align: top;\n",
              "    }\n",
              "\n",
              "    .dataframe thead th {\n",
              "        text-align: right;\n",
              "    }\n",
              "</style>\n",
              "<table border=\"1\" class=\"dataframe\">\n",
              "  <thead>\n",
              "    <tr style=\"text-align: right;\">\n",
              "      <th></th>\n",
              "      <th>user</th>\n",
              "      <th>entry</th>\n",
              "      <th>type</th>\n",
              "      <th>typeClass</th>\n",
              "      <th>I/E</th>\n",
              "      <th>S/N</th>\n",
              "      <th>T/F</th>\n",
              "      <th>J/P</th>\n",
              "    </tr>\n",
              "  </thead>\n",
              "  <tbody>\n",
              "    <tr>\n",
              "      <th>0</th>\n",
              "      <td>1903 24</td>\n",
              "      <td>göt de den evrim gün soruştur soruşturma ıeee ...</td>\n",
              "      <td>INFJ</td>\n",
              "      <td>diplomats</td>\n",
              "      <td>I</td>\n",
              "      <td>N</td>\n",
              "      <td>F</td>\n",
              "      <td>J</td>\n",
              "    </tr>\n",
              "    <tr>\n",
              "      <th>1</th>\n",
              "      <td>1903 24</td>\n",
              "      <td>ekşi sözlük UNK club istanbul hazır</td>\n",
              "      <td>INFJ</td>\n",
              "      <td>diplomats</td>\n",
              "      <td>I</td>\n",
              "      <td>N</td>\n",
              "      <td>F</td>\n",
              "      <td>J</td>\n",
              "    </tr>\n",
              "    <tr>\n",
              "      <th>2</th>\n",
              "      <td>1903 24</td>\n",
              "      <td>UNK çöm sene süre yap info UNK çık sonuç aynı çık</td>\n",
              "      <td>INFJ</td>\n",
              "      <td>diplomats</td>\n",
              "      <td>I</td>\n",
              "      <td>N</td>\n",
              "      <td>F</td>\n",
              "      <td>J</td>\n",
              "    </tr>\n",
              "    <tr>\n",
              "      <th>3</th>\n",
              "      <td>1903 24</td>\n",
              "      <td>müzik dinle dinlemek haram uyuşturucu aşık der...</td>\n",
              "      <td>INFJ</td>\n",
              "      <td>diplomats</td>\n",
              "      <td>I</td>\n",
              "      <td>N</td>\n",
              "      <td>F</td>\n",
              "      <td>J</td>\n",
              "    </tr>\n",
              "    <tr>\n",
              "      <th>4</th>\n",
              "      <td>1903 24</td>\n",
              "      <td>zengin insan kur kurabil kurabilecek cümle al ...</td>\n",
              "      <td>INFJ</td>\n",
              "      <td>diplomats</td>\n",
              "      <td>I</td>\n",
              "      <td>N</td>\n",
              "      <td>F</td>\n",
              "      <td>J</td>\n",
              "    </tr>\n",
              "    <tr>\n",
              "      <th>...</th>\n",
              "      <td>...</td>\n",
              "      <td>...</td>\n",
              "      <td>...</td>\n",
              "      <td>...</td>\n",
              "      <td>...</td>\n",
              "      <td>...</td>\n",
              "      <td>...</td>\n",
              "      <td>...</td>\n",
              "    </tr>\n",
              "    <tr>\n",
              "      <th>219643</th>\n",
              "      <td>gulcehatun</td>\n",
              "      <td>america beauty izle izleyeli yıl rüya poşet rü...</td>\n",
              "      <td>INTJ</td>\n",
              "      <td>analysts</td>\n",
              "      <td>I</td>\n",
              "      <td>N</td>\n",
              "      <td>T</td>\n",
              "      <td>J</td>\n",
              "    </tr>\n",
              "    <tr>\n",
              "      <th>219644</th>\n",
              "      <td>gulcehatun</td>\n",
              "      <td>fedakar bencil birliktelik ortam bencil ol ola...</td>\n",
              "      <td>INTJ</td>\n",
              "      <td>analysts</td>\n",
              "      <td>I</td>\n",
              "      <td>N</td>\n",
              "      <td>T</td>\n",
              "      <td>J</td>\n",
              "    </tr>\n",
              "    <tr>\n",
              "      <th>219645</th>\n",
              "      <td>gulcehatun</td>\n",
              "      <td>kadın sürücü yol ver vermeme huy kadın yol ver...</td>\n",
              "      <td>INTJ</td>\n",
              "      <td>analysts</td>\n",
              "      <td>I</td>\n",
              "      <td>N</td>\n",
              "      <td>T</td>\n",
              "      <td>J</td>\n",
              "    </tr>\n",
              "    <tr>\n",
              "      <th>219646</th>\n",
              "      <td>gulcehatun</td>\n",
              "      <td>dövme baba öğret öğretme ömür yet yettik bisik...</td>\n",
              "      <td>INTJ</td>\n",
              "      <td>analysts</td>\n",
              "      <td>I</td>\n",
              "      <td>N</td>\n",
              "      <td>T</td>\n",
              "      <td>J</td>\n",
              "    </tr>\n",
              "    <tr>\n",
              "      <th>219647</th>\n",
              "      <td>gulcehatun</td>\n",
              "      <td>iflas koca terk kadın kadın erkek para erkek k...</td>\n",
              "      <td>INTJ</td>\n",
              "      <td>analysts</td>\n",
              "      <td>I</td>\n",
              "      <td>N</td>\n",
              "      <td>T</td>\n",
              "      <td>J</td>\n",
              "    </tr>\n",
              "  </tbody>\n",
              "</table>\n",
              "<p>219648 rows × 8 columns</p>\n",
              "</div>"
            ],
            "text/plain": [
              "              user                                              entry  ... T/F J/P\n",
              "0          1903 24  göt de den evrim gün soruştur soruşturma ıeee ...  ...   F   J\n",
              "1          1903 24                ekşi sözlük UNK club istanbul hazır  ...   F   J\n",
              "2          1903 24  UNK çöm sene süre yap info UNK çık sonuç aynı çık  ...   F   J\n",
              "3          1903 24  müzik dinle dinlemek haram uyuşturucu aşık der...  ...   F   J\n",
              "4          1903 24  zengin insan kur kurabil kurabilecek cümle al ...  ...   F   J\n",
              "...            ...                                                ...  ...  ..  ..\n",
              "219643  gulcehatun  america beauty izle izleyeli yıl rüya poşet rü...  ...   T   J\n",
              "219644  gulcehatun  fedakar bencil birliktelik ortam bencil ol ola...  ...   T   J\n",
              "219645  gulcehatun  kadın sürücü yol ver vermeme huy kadın yol ver...  ...   T   J\n",
              "219646  gulcehatun  dövme baba öğret öğretme ömür yet yettik bisik...  ...   T   J\n",
              "219647  gulcehatun  iflas koca terk kadın kadın erkek para erkek k...  ...   T   J\n",
              "\n",
              "[219648 rows x 8 columns]"
            ]
          },
          "metadata": {
            "tags": []
          },
          "execution_count": 10
        },
        {
          "output_type": "execute_result",
          "data": {
            "text/html": [
              "<div>\n",
              "<style scoped>\n",
              "    .dataframe tbody tr th:only-of-type {\n",
              "        vertical-align: middle;\n",
              "    }\n",
              "\n",
              "    .dataframe tbody tr th {\n",
              "        vertical-align: top;\n",
              "    }\n",
              "\n",
              "    .dataframe thead th {\n",
              "        text-align: right;\n",
              "    }\n",
              "</style>\n",
              "<table border=\"1\" class=\"dataframe\">\n",
              "  <thead>\n",
              "    <tr style=\"text-align: right;\">\n",
              "      <th></th>\n",
              "      <th>user</th>\n",
              "      <th>entry</th>\n",
              "      <th>type</th>\n",
              "      <th>typeClass</th>\n",
              "      <th>I/E</th>\n",
              "      <th>S/N</th>\n",
              "      <th>T/F</th>\n",
              "      <th>J/P</th>\n",
              "    </tr>\n",
              "  </thead>\n",
              "  <tbody>\n",
              "    <tr>\n",
              "      <th>0</th>\n",
              "      <td>1903 24</td>\n",
              "      <td>göt de den evrim gün soruştur soruşturma ıeee ...</td>\n",
              "      <td>INFJ</td>\n",
              "      <td>diplomats</td>\n",
              "      <td>I</td>\n",
              "      <td>N</td>\n",
              "      <td>F</td>\n",
              "      <td>J</td>\n",
              "    </tr>\n",
              "    <tr>\n",
              "      <th>1</th>\n",
              "      <td>1903 24</td>\n",
              "      <td>ekşi sözlük UNK club istanbul hazır</td>\n",
              "      <td>INFJ</td>\n",
              "      <td>diplomats</td>\n",
              "      <td>I</td>\n",
              "      <td>N</td>\n",
              "      <td>F</td>\n",
              "      <td>J</td>\n",
              "    </tr>\n",
              "    <tr>\n",
              "      <th>2</th>\n",
              "      <td>1903 24</td>\n",
              "      <td>UNK çöm sene süre yap info UNK çık sonuç aynı çık</td>\n",
              "      <td>INFJ</td>\n",
              "      <td>diplomats</td>\n",
              "      <td>I</td>\n",
              "      <td>N</td>\n",
              "      <td>F</td>\n",
              "      <td>J</td>\n",
              "    </tr>\n",
              "    <tr>\n",
              "      <th>3</th>\n",
              "      <td>1903 24</td>\n",
              "      <td>müzik dinle dinlemek haram uyuşturucu aşık der...</td>\n",
              "      <td>INFJ</td>\n",
              "      <td>diplomats</td>\n",
              "      <td>I</td>\n",
              "      <td>N</td>\n",
              "      <td>F</td>\n",
              "      <td>J</td>\n",
              "    </tr>\n",
              "    <tr>\n",
              "      <th>4</th>\n",
              "      <td>1903 24</td>\n",
              "      <td>zengin insan kur kurabil kurabilecek cümle al ...</td>\n",
              "      <td>INFJ</td>\n",
              "      <td>diplomats</td>\n",
              "      <td>I</td>\n",
              "      <td>N</td>\n",
              "      <td>F</td>\n",
              "      <td>J</td>\n",
              "    </tr>\n",
              "    <tr>\n",
              "      <th>...</th>\n",
              "      <td>...</td>\n",
              "      <td>...</td>\n",
              "      <td>...</td>\n",
              "      <td>...</td>\n",
              "      <td>...</td>\n",
              "      <td>...</td>\n",
              "      <td>...</td>\n",
              "      <td>...</td>\n",
              "    </tr>\n",
              "    <tr>\n",
              "      <th>219643</th>\n",
              "      <td>gulcehatun</td>\n",
              "      <td>america beauty izle izleyeli yıl rüya poşet rü...</td>\n",
              "      <td>INTJ</td>\n",
              "      <td>analysts</td>\n",
              "      <td>I</td>\n",
              "      <td>N</td>\n",
              "      <td>T</td>\n",
              "      <td>J</td>\n",
              "    </tr>\n",
              "    <tr>\n",
              "      <th>219644</th>\n",
              "      <td>gulcehatun</td>\n",
              "      <td>fedakar bencil birliktelik ortam bencil ol ola...</td>\n",
              "      <td>INTJ</td>\n",
              "      <td>analysts</td>\n",
              "      <td>I</td>\n",
              "      <td>N</td>\n",
              "      <td>T</td>\n",
              "      <td>J</td>\n",
              "    </tr>\n",
              "    <tr>\n",
              "      <th>219645</th>\n",
              "      <td>gulcehatun</td>\n",
              "      <td>kadın sürücü yol ver vermeme huy kadın yol ver...</td>\n",
              "      <td>INTJ</td>\n",
              "      <td>analysts</td>\n",
              "      <td>I</td>\n",
              "      <td>N</td>\n",
              "      <td>T</td>\n",
              "      <td>J</td>\n",
              "    </tr>\n",
              "    <tr>\n",
              "      <th>219646</th>\n",
              "      <td>gulcehatun</td>\n",
              "      <td>dövme baba öğret öğretme ömür yet yettik bisik...</td>\n",
              "      <td>INTJ</td>\n",
              "      <td>analysts</td>\n",
              "      <td>I</td>\n",
              "      <td>N</td>\n",
              "      <td>T</td>\n",
              "      <td>J</td>\n",
              "    </tr>\n",
              "    <tr>\n",
              "      <th>219647</th>\n",
              "      <td>gulcehatun</td>\n",
              "      <td>iflas koca terk kadın kadın erkek para erkek k...</td>\n",
              "      <td>INTJ</td>\n",
              "      <td>analysts</td>\n",
              "      <td>I</td>\n",
              "      <td>N</td>\n",
              "      <td>T</td>\n",
              "      <td>J</td>\n",
              "    </tr>\n",
              "  </tbody>\n",
              "</table>\n",
              "<p>219648 rows × 8 columns</p>\n",
              "</div>"
            ],
            "text/plain": [
              "              user                                              entry  ... T/F J/P\n",
              "0          1903 24  göt de den evrim gün soruştur soruşturma ıeee ...  ...   F   J\n",
              "1          1903 24                ekşi sözlük UNK club istanbul hazır  ...   F   J\n",
              "2          1903 24  UNK çöm sene süre yap info UNK çık sonuç aynı çık  ...   F   J\n",
              "3          1903 24  müzik dinle dinlemek haram uyuşturucu aşık der...  ...   F   J\n",
              "4          1903 24  zengin insan kur kurabil kurabilecek cümle al ...  ...   F   J\n",
              "...            ...                                                ...  ...  ..  ..\n",
              "219643  gulcehatun  america beauty izle izleyeli yıl rüya poşet rü...  ...   T   J\n",
              "219644  gulcehatun  fedakar bencil birliktelik ortam bencil ol ola...  ...   T   J\n",
              "219645  gulcehatun  kadın sürücü yol ver vermeme huy kadın yol ver...  ...   T   J\n",
              "219646  gulcehatun  dövme baba öğret öğretme ömür yet yettik bisik...  ...   T   J\n",
              "219647  gulcehatun  iflas koca terk kadın kadın erkek para erkek k...  ...   T   J\n",
              "\n",
              "[219648 rows x 8 columns]"
            ]
          },
          "metadata": {
            "tags": []
          },
          "execution_count": 88
        }
      ]
    },
    {
      "cell_type": "markdown",
      "metadata": {
        "colab_type": "text",
        "id": "Z0u7Pm17LrOX"
      },
      "source": [
        "Oluşturulan dataframe shuffle edilir."
      ]
    },
    {
      "cell_type": "code",
      "metadata": {
        "colab_type": "code",
        "id": "1f3gk53FLuLH",
        "colab": {}
      },
      "source": [
        "equal_entries_df = equal_entries_df.sample(frac=1).reset_index(drop=True)"
      ],
      "execution_count": 0,
      "outputs": []
    },
    {
      "cell_type": "code",
      "metadata": {
        "colab_type": "code",
        "id": "4hbnqCbZL1hk",
        "outputId": "a34257a8-78f5-413d-a7ad-40428f9871b1",
        "colab": {
          "base_uri": "https://localhost:8080/",
          "height": 821
        }
      },
      "source": [
        "equal_entries_df"
      ],
      "execution_count": 90,
      "outputs": [
        {
          "output_type": "execute_result",
          "data": {
            "text/html": [
              "<div>\n",
              "<style scoped>\n",
              "    .dataframe tbody tr th:only-of-type {\n",
              "        vertical-align: middle;\n",
              "    }\n",
              "\n",
              "    .dataframe tbody tr th {\n",
              "        vertical-align: top;\n",
              "    }\n",
              "\n",
              "    .dataframe thead th {\n",
              "        text-align: right;\n",
              "    }\n",
              "</style>\n",
              "<table border=\"1\" class=\"dataframe\">\n",
              "  <thead>\n",
              "    <tr style=\"text-align: right;\">\n",
              "      <th></th>\n",
              "      <th>user</th>\n",
              "      <th>entry</th>\n",
              "      <th>type</th>\n",
              "      <th>typeClass</th>\n",
              "      <th>I/E</th>\n",
              "      <th>S/N</th>\n",
              "      <th>T/F</th>\n",
              "      <th>J/P</th>\n",
              "    </tr>\n",
              "  </thead>\n",
              "  <tbody>\n",
              "    <tr>\n",
              "      <th>0</th>\n",
              "      <td>oyleolurmula</td>\n",
              "      <td>uzlaş uzlaştır uzlaştırma uzlaştırmacı stajyer...</td>\n",
              "      <td>ESTJ</td>\n",
              "      <td>sentinels</td>\n",
              "      <td>E</td>\n",
              "      <td>S</td>\n",
              "      <td>T</td>\n",
              "      <td>J</td>\n",
              "    </tr>\n",
              "    <tr>\n",
              "      <th>1</th>\n",
              "      <td>deepblue82</td>\n",
              "      <td>sevgili masaj seviş sevişme bit bitmeme önem ö...</td>\n",
              "      <td>ISTJ</td>\n",
              "      <td>sentinels</td>\n",
              "      <td>I</td>\n",
              "      <td>S</td>\n",
              "      <td>T</td>\n",
              "      <td>J</td>\n",
              "    </tr>\n",
              "    <tr>\n",
              "      <th>2</th>\n",
              "      <td>canabag</td>\n",
              "      <td>yüzük efendi izle izleyen insan birinci beğen ...</td>\n",
              "      <td>INTP</td>\n",
              "      <td>analysts</td>\n",
              "      <td>I</td>\n",
              "      <td>N</td>\n",
              "      <td>T</td>\n",
              "      <td>P</td>\n",
              "    </tr>\n",
              "    <tr>\n",
              "      <th>3</th>\n",
              "      <td>benim dengemi bozmayiniz</td>\n",
              "      <td>esen esence oje hasta ol olduk marka fırça güz...</td>\n",
              "      <td>INFJ</td>\n",
              "      <td>diplomats</td>\n",
              "      <td>I</td>\n",
              "      <td>N</td>\n",
              "      <td>F</td>\n",
              "      <td>J</td>\n",
              "    </tr>\n",
              "    <tr>\n",
              "      <th>4</th>\n",
              "      <td>kratos</td>\n",
              "      <td>savcı say sayan aynı zaman tip tipsiz</td>\n",
              "      <td>ESFJ</td>\n",
              "      <td>sentinels</td>\n",
              "      <td>E</td>\n",
              "      <td>S</td>\n",
              "      <td>F</td>\n",
              "      <td>J</td>\n",
              "    </tr>\n",
              "    <tr>\n",
              "      <th>...</th>\n",
              "      <td>...</td>\n",
              "      <td>...</td>\n",
              "      <td>...</td>\n",
              "      <td>...</td>\n",
              "      <td>...</td>\n",
              "      <td>...</td>\n",
              "      <td>...</td>\n",
              "      <td>...</td>\n",
              "    </tr>\n",
              "    <tr>\n",
              "      <th>219643</th>\n",
              "      <td>iskolik</td>\n",
              "      <td>temmuz çengelköy tarihi çınar yık yıkıl yıkılm...</td>\n",
              "      <td>ESFJ</td>\n",
              "      <td>sentinels</td>\n",
              "      <td>E</td>\n",
              "      <td>S</td>\n",
              "      <td>F</td>\n",
              "      <td>J</td>\n",
              "    </tr>\n",
              "    <tr>\n",
              "      <th>219644</th>\n",
              "      <td>apoptosis</td>\n",
              "      <td>UNK istanbul ankara izmir zaman bünye kat katm...</td>\n",
              "      <td>ESTJ</td>\n",
              "      <td>sentinels</td>\n",
              "      <td>E</td>\n",
              "      <td>S</td>\n",
              "      <td>T</td>\n",
              "      <td>J</td>\n",
              "    </tr>\n",
              "    <tr>\n",
              "      <th>219645</th>\n",
              "      <td>lmrvnx</td>\n",
              "      <td>ekg oku okuma bil bilmeyen doktor bilinç bilin...</td>\n",
              "      <td>ISTJ</td>\n",
              "      <td>sentinels</td>\n",
              "      <td>I</td>\n",
              "      <td>S</td>\n",
              "      <td>T</td>\n",
              "      <td>J</td>\n",
              "    </tr>\n",
              "    <tr>\n",
              "      <th>219646</th>\n",
              "      <td>fpoison</td>\n",
              "      <td>ev tost yap yapıp işyeri getir getiren varoş i...</td>\n",
              "      <td>INTP</td>\n",
              "      <td>analysts</td>\n",
              "      <td>I</td>\n",
              "      <td>N</td>\n",
              "      <td>T</td>\n",
              "      <td>P</td>\n",
              "    </tr>\n",
              "    <tr>\n",
              "      <th>219647</th>\n",
              "      <td>foxie</td>\n",
              "      <td>anne diyalog UNK anne eleştir eleştiril eleşti...</td>\n",
              "      <td>ISFJ</td>\n",
              "      <td>sentinels</td>\n",
              "      <td>I</td>\n",
              "      <td>S</td>\n",
              "      <td>F</td>\n",
              "      <td>J</td>\n",
              "    </tr>\n",
              "  </tbody>\n",
              "</table>\n",
              "<p>219648 rows × 8 columns</p>\n",
              "</div>"
            ],
            "text/plain": [
              "                            user  ... J/P\n",
              "0                   oyleolurmula  ...   J\n",
              "1                     deepblue82  ...   J\n",
              "2                        canabag  ...   P\n",
              "3       benim dengemi bozmayiniz  ...   J\n",
              "4                         kratos  ...   J\n",
              "...                          ...  ...  ..\n",
              "219643                   iskolik  ...   J\n",
              "219644                 apoptosis  ...   J\n",
              "219645                    lmrvnx  ...   J\n",
              "219646                   fpoison  ...   P\n",
              "219647                     foxie  ...   J\n",
              "\n",
              "[219648 rows x 8 columns]"
            ]
          },
          "metadata": {
            "tags": []
          },
          "execution_count": 12
        },
        {
          "output_type": "execute_result",
          "data": {
            "text/html": [
              "<div>\n",
              "<style scoped>\n",
              "    .dataframe tbody tr th:only-of-type {\n",
              "        vertical-align: middle;\n",
              "    }\n",
              "\n",
              "    .dataframe tbody tr th {\n",
              "        vertical-align: top;\n",
              "    }\n",
              "\n",
              "    .dataframe thead th {\n",
              "        text-align: right;\n",
              "    }\n",
              "</style>\n",
              "<table border=\"1\" class=\"dataframe\">\n",
              "  <thead>\n",
              "    <tr style=\"text-align: right;\">\n",
              "      <th></th>\n",
              "      <th>user</th>\n",
              "      <th>entry</th>\n",
              "      <th>type</th>\n",
              "      <th>typeClass</th>\n",
              "      <th>I/E</th>\n",
              "      <th>S/N</th>\n",
              "      <th>T/F</th>\n",
              "      <th>J/P</th>\n",
              "    </tr>\n",
              "  </thead>\n",
              "  <tbody>\n",
              "    <tr>\n",
              "      <th>0</th>\n",
              "      <td>hayvanadam</td>\n",
              "      <td>müzmin bekar sorum sorumlu gen ol olabil</td>\n",
              "      <td>ISTJ</td>\n",
              "      <td>sentinels</td>\n",
              "      <td>I</td>\n",
              "      <td>S</td>\n",
              "      <td>T</td>\n",
              "      <td>J</td>\n",
              "    </tr>\n",
              "    <tr>\n",
              "      <th>1</th>\n",
              "      <td>2kere2</td>\n",
              "      <td>pi sayı basamak ezberle ezberleyen çocuk ebe k...</td>\n",
              "      <td>ESTJ</td>\n",
              "      <td>sentinels</td>\n",
              "      <td>E</td>\n",
              "      <td>S</td>\n",
              "      <td>T</td>\n",
              "      <td>J</td>\n",
              "    </tr>\n",
              "    <tr>\n",
              "      <th>2</th>\n",
              "      <td>incir agaci golgesinde</td>\n",
              "      <td>beşiktaş galatasaray rekabet rekabet yıl spor ...</td>\n",
              "      <td>ISTJ</td>\n",
              "      <td>sentinels</td>\n",
              "      <td>I</td>\n",
              "      <td>S</td>\n",
              "      <td>T</td>\n",
              "      <td>J</td>\n",
              "    </tr>\n",
              "    <tr>\n",
              "      <th>3</th>\n",
              "      <td>4li</td>\n",
              "      <td>telefon numara bil bilmemek yıl aynı hat kulla...</td>\n",
              "      <td>ESFP</td>\n",
              "      <td>explorers</td>\n",
              "      <td>E</td>\n",
              "      <td>S</td>\n",
              "      <td>F</td>\n",
              "      <td>P</td>\n",
              "    </tr>\n",
              "    <tr>\n",
              "      <th>4</th>\n",
              "      <td>asdfghjkldas</td>\n",
              "      <td>yalnız yalnızlık aforizma hayat yaşa yaşadık ü...</td>\n",
              "      <td>ENFP</td>\n",
              "      <td>diplomats</td>\n",
              "      <td>E</td>\n",
              "      <td>N</td>\n",
              "      <td>F</td>\n",
              "      <td>P</td>\n",
              "    </tr>\n",
              "    <tr>\n",
              "      <th>...</th>\n",
              "      <td>...</td>\n",
              "      <td>...</td>\n",
              "      <td>...</td>\n",
              "      <td>...</td>\n",
              "      <td>...</td>\n",
              "      <td>...</td>\n",
              "      <td>...</td>\n",
              "      <td>...</td>\n",
              "    </tr>\n",
              "    <tr>\n",
              "      <th>219643</th>\n",
              "      <td>bisey demiyorum pes diyorum</td>\n",
              "      <td>güven güvenmek doğru söyle söyleyince doğal ol...</td>\n",
              "      <td>ESFP</td>\n",
              "      <td>explorers</td>\n",
              "      <td>E</td>\n",
              "      <td>S</td>\n",
              "      <td>F</td>\n",
              "      <td>P</td>\n",
              "    </tr>\n",
              "    <tr>\n",
              "      <th>219644</th>\n",
              "      <td>bos kafa mezara</td>\n",
              "      <td>cehennem giriş çal çalma muhtemel şarkı duman ...</td>\n",
              "      <td>ESTP</td>\n",
              "      <td>explorers</td>\n",
              "      <td>E</td>\n",
              "      <td>S</td>\n",
              "      <td>T</td>\n",
              "      <td>P</td>\n",
              "    </tr>\n",
              "    <tr>\n",
              "      <th>219645</th>\n",
              "      <td>hassanuyar</td>\n",
              "      <td>ülke geliş gelişme engelle engelleyen önem öne...</td>\n",
              "      <td>ENFJ</td>\n",
              "      <td>diplomats</td>\n",
              "      <td>E</td>\n",
              "      <td>N</td>\n",
              "      <td>F</td>\n",
              "      <td>J</td>\n",
              "    </tr>\n",
              "    <tr>\n",
              "      <th>219646</th>\n",
              "      <td>mileena</td>\n",
              "      <td>merkel in filistinli kız yayın ağla ağlat ağla...</td>\n",
              "      <td>ISTJ</td>\n",
              "      <td>sentinels</td>\n",
              "      <td>I</td>\n",
              "      <td>S</td>\n",
              "      <td>T</td>\n",
              "      <td>J</td>\n",
              "    </tr>\n",
              "    <tr>\n",
              "      <th>219647</th>\n",
              "      <td>sodakapagi</td>\n",
              "      <td>sözlük erkek yakışıklı yakışıklılık derece tip...</td>\n",
              "      <td>ISFP</td>\n",
              "      <td>explorers</td>\n",
              "      <td>I</td>\n",
              "      <td>S</td>\n",
              "      <td>F</td>\n",
              "      <td>P</td>\n",
              "    </tr>\n",
              "  </tbody>\n",
              "</table>\n",
              "<p>219648 rows × 8 columns</p>\n",
              "</div>"
            ],
            "text/plain": [
              "                               user  ... J/P\n",
              "0                        hayvanadam  ...   J\n",
              "1                            2kere2  ...   J\n",
              "2            incir agaci golgesinde  ...   J\n",
              "3                               4li  ...   P\n",
              "4                      asdfghjkldas  ...   P\n",
              "...                             ...  ...  ..\n",
              "219643  bisey demiyorum pes diyorum  ...   P\n",
              "219644              bos kafa mezara  ...   P\n",
              "219645                   hassanuyar  ...   J\n",
              "219646                      mileena  ...   J\n",
              "219647                   sodakapagi  ...   P\n",
              "\n",
              "[219648 rows x 8 columns]"
            ]
          },
          "metadata": {
            "tags": []
          },
          "execution_count": 90
        }
      ]
    },
    {
      "cell_type": "markdown",
      "metadata": {
        "colab_type": "text",
        "id": "lkk5QQhHBvz0"
      },
      "source": [
        "# Feature Extraction"
      ]
    },
    {
      "cell_type": "markdown",
      "metadata": {
        "colab_type": "text",
        "id": "dZzvU-o2sc2w"
      },
      "source": [
        "<span style=\"font-size:1.1em;\">TF-IDF özellik vektörünün çıkartılmasında kullanılacak değişken aşağıda belirlenmiş olan parametrelerle oluşturulur.</span>"
      ]
    },
    {
      "cell_type": "code",
      "metadata": {
        "colab_type": "code",
        "id": "CbggMvzcY5ER",
        "colab": {}
      },
      "source": [
        "from sklearn.feature_extraction.text import TfidfVectorizer"
      ],
      "execution_count": 0,
      "outputs": []
    },
    {
      "cell_type": "code",
      "metadata": {
        "colab_type": "code",
        "id": "wzSU9aILsc2x",
        "colab": {}
      },
      "source": [
        "tfidf_vectorizer = TfidfVectorizer(sublinear_tf=True, norm='l2', encoding='utf-8', ngram_range=(1, 1), max_features=1000)"
      ],
      "execution_count": 0,
      "outputs": []
    },
    {
      "cell_type": "code",
      "metadata": {
        "colab_type": "code",
        "id": "p62dmJvNBv0J",
        "colab": {}
      },
      "source": [
        "import numpy as np\n",
        "\n",
        "df['entry'] = df['entry'].apply(lambda x: np.str_(x)) # ValueError: np.nan is an invalid document seklinde bir hata verdigi icin bunu asmak adina yapildi."
      ],
      "execution_count": 0,
      "outputs": []
    },
    {
      "cell_type": "markdown",
      "metadata": {
        "colab_type": "text",
        "id": "eX6FeaibfZvZ"
      },
      "source": [
        "<span style=\"font-size:1.1em;\">Burada tf-idf vektörlerinin çıkartılmasında kullanılacak olan vocabulary oluşturulur.</span>"
      ]
    },
    {
      "cell_type": "code",
      "metadata": {
        "colab_type": "code",
        "id": "izEeSWJIfZYQ",
        "outputId": "98cb1531-6346-4635-ac84-c183832a011e",
        "colab": {
          "base_uri": "https://localhost:8080/",
          "height": 251
        }
      },
      "source": [
        "tfidf_vectorizer.fit(equal_entries_df['entry'])"
      ],
      "execution_count": 94,
      "outputs": [
        {
          "output_type": "execute_result",
          "data": {
            "text/plain": [
              "TfidfVectorizer(analyzer='word', binary=False, decode_error='strict',\n",
              "                dtype=<class 'numpy.float64'>, encoding='utf-8',\n",
              "                input='content', lowercase=True, max_df=1.0, max_features=1000,\n",
              "                min_df=1, ngram_range=(1, 1), norm='l2', preprocessor=None,\n",
              "                smooth_idf=True, stop_words=None, strip_accents=None,\n",
              "                sublinear_tf=True, token_pattern='(?u)\\\\b\\\\w\\\\w+\\\\b',\n",
              "                tokenizer=None, use_idf=True, vocabulary=None)"
            ]
          },
          "metadata": {
            "tags": []
          },
          "execution_count": 16
        },
        {
          "output_type": "execute_result",
          "data": {
            "text/plain": [
              "TfidfVectorizer(analyzer='word', binary=False, decode_error='strict',\n",
              "                dtype=<class 'numpy.float64'>, encoding='utf-8',\n",
              "                input='content', lowercase=True, max_df=1.0, max_features=1000,\n",
              "                min_df=1, ngram_range=(1, 1), norm='l2', preprocessor=None,\n",
              "                smooth_idf=True, stop_words=None, strip_accents=None,\n",
              "                sublinear_tf=True, token_pattern='(?u)\\\\b\\\\w\\\\w+\\\\b',\n",
              "                tokenizer=None, use_idf=True, vocabulary=None)"
            ]
          },
          "metadata": {
            "tags": []
          },
          "execution_count": 94
        }
      ]
    },
    {
      "cell_type": "markdown",
      "metadata": {
        "colab_type": "text",
        "id": "0404NRDmBv0c"
      },
      "source": [
        "# Modelin Oluşturulması"
      ]
    },
    {
      "cell_type": "markdown",
      "metadata": {
        "id": "w-BBiUpkCAgJ",
        "colab_type": "text"
      },
      "source": [
        "## typeClass Tahmini"
      ]
    },
    {
      "cell_type": "markdown",
      "metadata": {
        "colab_type": "text",
        "id": "JRTpmz32fOtg"
      },
      "source": [
        "<span style=\"font-size:1.1em;\">Veriseti train ve test olmak üzere ikiye ayrılır. Test %20 ve train %80'ini oluşturacak şekilde tüm veriseti bölünür. random_state parametresi ile tekrardan bölündüğünde bir öncekiyle aynı train ve test veri setlerinin oluşturulması sağlanır.</span>"
      ]
    },
    {
      "cell_type": "code",
      "metadata": {
        "colab_type": "code",
        "id": "CbObRS01fIzb",
        "colab": {}
      },
      "source": [
        "from sklearn.model_selection import train_test_split"
      ],
      "execution_count": 0,
      "outputs": []
    },
    {
      "cell_type": "code",
      "metadata": {
        "colab_type": "code",
        "id": "k1skQ7bRfLyQ",
        "colab": {}
      },
      "source": [
        "X_train, X_test, y_train, y_test = train_test_split(equal_entries_df['entry'], equal_entries_df['typeClass'], random_state = 42, test_size = 0.20)"
      ],
      "execution_count": 0,
      "outputs": []
    },
    {
      "cell_type": "markdown",
      "metadata": {
        "colab_type": "text",
        "id": "dUjGVe2ufm9D"
      },
      "source": [
        "Train ve test datasetlerinden tf-idf vektörleri çıkartılır\n"
      ]
    },
    {
      "cell_type": "code",
      "metadata": {
        "colab_type": "code",
        "id": "5WWZ5iZzfmm1",
        "colab": {}
      },
      "source": [
        "X_train_tfidf = tfidf_vectorizer.transform(X_train)\n",
        "X_test_tfidf = tfidf_vectorizer.transform(X_test)"
      ],
      "execution_count": 0,
      "outputs": []
    },
    {
      "cell_type": "markdown",
      "metadata": {
        "colab_type": "text",
        "id": "wSJEY4Ursc3A"
      },
      "source": [
        "Multinominal Naive Bayes modeli oluşturulur. Oluşturulan bu model verisetinde \"type\" olarak belirtilen \"analysts\", \"diplomats\", \"sentimenls\", \"explorers\" sınıflarından hangilerine ait olduğunu tahmin etmek için kullanılır"
      ]
    },
    {
      "cell_type": "code",
      "metadata": {
        "colab_type": "code",
        "id": "_AJnVOjgsc3B",
        "colab": {}
      },
      "source": [
        "from sklearn.naive_bayes import MultinomialNB"
      ],
      "execution_count": 0,
      "outputs": []
    },
    {
      "cell_type": "code",
      "metadata": {
        "colab_type": "code",
        "id": "OGbLV_2tRy6d",
        "colab": {}
      },
      "source": [
        "clf = MultinomialNB().fit(X_train_tfidf, y_train)\n",
        "test_typeClass = y_test.values\n",
        "\n",
        "predictions = clf.predict(X_test_tfidf)"
      ],
      "execution_count": 0,
      "outputs": []
    },
    {
      "cell_type": "code",
      "metadata": {
        "colab_type": "code",
        "id": "7i8gHOU0ipzw",
        "outputId": "a1b387ed-30e5-4383-8337-6f8d7a288538",
        "colab": {
          "base_uri": "https://localhost:8080/",
          "height": 71
        }
      },
      "source": [
        "predictions"
      ],
      "execution_count": 100,
      "outputs": [
        {
          "output_type": "execute_result",
          "data": {
            "text/plain": [
              "array(['diplomats', 'analysts', 'analysts', ..., 'sentinels', 'analysts',\n",
              "       'analysts'], dtype='<U9')"
            ]
          },
          "metadata": {
            "tags": []
          },
          "execution_count": 22
        },
        {
          "output_type": "execute_result",
          "data": {
            "text/plain": [
              "array(['explorers', 'sentinels', 'explorers', ..., 'explorers',\n",
              "       'analysts', 'sentinels'], dtype='<U9')"
            ]
          },
          "metadata": {
            "tags": []
          },
          "execution_count": 100
        }
      ]
    },
    {
      "cell_type": "markdown",
      "metadata": {
        "colab_type": "text",
        "id": "HVUImvDlHPXa"
      },
      "source": [
        "<span style=\"font-size:1.1em\">Yapılacak tahminlerle ilgili istatistiksel verileri tutmak için</span> ```predictions_result```<span style=\"font-size:1.1em\"> adında bir değişken oluşturulur.</span>\n",
        "\n",
        "<span style=\"font-size:1.1em\">Bu değişkenin yapısı aşağıdaki gibidir.</span>\n",
        "\n",
        "```json\n",
        "{\n",
        "    \"predicted\": {\n",
        "        \"analysts\":  { \"actual\": {\"analysts\": 0, \"diplomats\": 0, \"explorers\": 0, \"sentinels\": 0} }\n",
        "        \"diplomats\": { \"actual\": {\"analysts\": 0, \"diplomats\": 0, \"explorers\": 0, \"sentinels\": 0} }\n",
        "        \"explorers\": { \"actual\": {\"analysts\": 0, \"diplomats\": 0, \"explorers\": 0, \"sentinels\": 0} }\n",
        "        \"sentinels\": { \"actual\": {\"analysts\": 0, \"diplomats\": 0, \"explorers\": 0, \"sentinels\": 0} }\n",
        "    }\n",
        "}\n",
        "```\n",
        "\n",
        "* <span style=\"font-size:1.1em;\">Yapılan tahminlerle ilgili verilere ulaşabilmek için</span>\n",
        "\n",
        "    ```predictions_results['predicted']```\n",
        "\n",
        "\n",
        "* <span style=\"font-size:1.1em;\">Yapılan tahminin analyst ise:</span>\n",
        "\n",
        "    ```predictions_results['predicted']['analysts']``` \n",
        "\n",
        "\n",
        "* <span style=\"font-size:1.1em;\">Yapılan analyst tahmininin gerçek değerlerine erişmek için:</span>     \n",
        "\n",
        "    ```predictions_results['predicted']['analysts']['actual']```  \n",
        "\n",
        "\n",
        "* <span style=\"font-size:1.1em;\">Test verisi, model tarafından analysts olarak tahmin edilmiştir ve bu verinin gerçek değeri de analysts'tir.</span>\n",
        "\n",
        "    ```predictions_results['predicted']['analysts']['actual']['analysts']``` "
      ]
    },
    {
      "cell_type": "code",
      "metadata": {
        "colab_type": "code",
        "id": "DD0xZXNNsc3F",
        "colab": {}
      },
      "source": [
        "prediction_results = {'predicted': {}}  ## prediction_result['analysts'] means prediction is 'analysts'\n",
        "\n",
        "prediction_results['predicted']['analysts']  = {'actual': {'analysts': 0, 'diplomats': 0, 'explorers': 0, 'sentinels': 0}}\n",
        "prediction_results['predicted']['diplomats'] = {'actual': {'analysts': 0, 'diplomats': 0, 'explorers': 0, 'sentinels': 0}}\n",
        "prediction_results['predicted']['explorers'] = {'actual': {'analysts': 0, 'diplomats': 0, 'explorers': 0, 'sentinels': 0}}\n",
        "prediction_results['predicted']['sentinels'] = {'actual': {'analysts': 0, 'diplomats': 0, 'explorers': 0, 'sentinels': 0}}\n",
        "\n",
        "## prediction_result['analysts']['diplomats'] means prediction is analysts but actual value is diplomats"
      ],
      "execution_count": 0,
      "outputs": []
    },
    {
      "cell_type": "markdown",
      "metadata": {
        "colab_type": "text",
        "id": "YOFYyew6HPXl"
      },
      "source": [
        "```prediction_results```<span style=\"font-size:1.1em\"> içerisinde tutulan sayaçların değerleri arttırılır.</span>"
      ]
    },
    {
      "cell_type": "code",
      "metadata": {
        "colab_type": "code",
        "id": "Kc7adxOMfmKj",
        "colab": {}
      },
      "source": [
        "for i in range(len(predictions)):\n",
        "  predicted_value = predictions[i]\n",
        "  actual_value = test_typeClass[i]\n",
        "  prediction_results['predicted'][predicted_value]['actual'][actual_value] += 1"
      ],
      "execution_count": 0,
      "outputs": []
    },
    {
      "cell_type": "markdown",
      "metadata": {
        "colab_type": "text",
        "id": "4FDMu4kXHPXr"
      },
      "source": [
        "<span style=\"font-size:1.1em\">JSON formatına çevrilir </span>```dict``` <span style=\"font-size:1.1em\">tipi. Bu sayede daha okunaklı bir şekilde print edilmiş olur. </span>"
      ]
    },
    {
      "cell_type": "code",
      "metadata": {
        "colab_type": "code",
        "id": "4gGDav5qgVQh",
        "outputId": "1f4cbee7-06ff-4004-cd02-6b04e60b4aa7",
        "scrolled": false,
        "colab": {
          "base_uri": "https://localhost:8080/",
          "height": 1000
        }
      },
      "source": [
        "import json\n",
        "\n",
        "print(json.dumps(prediction_results, indent = 2))"
      ],
      "execution_count": 103,
      "outputs": [
        {
          "output_type": "stream",
          "text": [
            "{\n",
            "  \"predicted\": {\n",
            "    \"analysts\": {\n",
            "      \"actual\": {\n",
            "        \"analysts\": 3427,\n",
            "        \"diplomats\": 2534,\n",
            "        \"explorers\": 2591,\n",
            "        \"sentinels\": 2438\n",
            "      }\n",
            "    },\n",
            "    \"diplomats\": {\n",
            "      \"actual\": {\n",
            "        \"analysts\": 1566,\n",
            "        \"diplomats\": 2342,\n",
            "        \"explorers\": 1456,\n",
            "        \"sentinels\": 1284\n",
            "      }\n",
            "    },\n",
            "    \"explorers\": {\n",
            "      \"actual\": {\n",
            "        \"analysts\": 2996,\n",
            "        \"diplomats\": 2933,\n",
            "        \"explorers\": 3937,\n",
            "        \"sentinels\": 2872\n",
            "      }\n",
            "    },\n",
            "    \"sentinels\": {\n",
            "      \"actual\": {\n",
            "        \"analysts\": 3059,\n",
            "        \"diplomats\": 3107,\n",
            "        \"explorers\": 3083,\n",
            "        \"sentinels\": 4305\n",
            "      }\n",
            "    }\n",
            "  }\n",
            "}\n",
            "{\n",
            "  \"predicted\": {\n",
            "    \"analysts\": {\n",
            "      \"actual\": {\n",
            "        \"analysts\": 3295,\n",
            "        \"diplomats\": 2385,\n",
            "        \"explorers\": 2451,\n",
            "        \"sentinels\": 2402\n",
            "      }\n",
            "    },\n",
            "    \"diplomats\": {\n",
            "      \"actual\": {\n",
            "        \"analysts\": 1559,\n",
            "        \"diplomats\": 2367,\n",
            "        \"explorers\": 1487,\n",
            "        \"sentinels\": 1350\n",
            "      }\n",
            "    },\n",
            "    \"explorers\": {\n",
            "      \"actual\": {\n",
            "        \"analysts\": 3022,\n",
            "        \"diplomats\": 2951,\n",
            "        \"explorers\": 3878,\n",
            "        \"sentinels\": 2674\n",
            "      }\n",
            "    },\n",
            "    \"sentinels\": {\n",
            "      \"actual\": {\n",
            "        \"analysts\": 3245,\n",
            "        \"diplomats\": 3276,\n",
            "        \"explorers\": 3260,\n",
            "        \"sentinels\": 4328\n",
            "      }\n",
            "    }\n",
            "  }\n",
            "}\n"
          ],
          "name": "stdout"
        }
      ]
    },
    {
      "cell_type": "markdown",
      "metadata": {
        "colab_type": "text",
        "id": "Uw8Sx7TsHPX1"
      },
      "source": [
        "<span style=\"font-size:1.1em;\">İlgili field extract edilir</span> ```dict``` <span style=\"font-size:1.1em;\">yapısından.</span>"
      ]
    },
    {
      "cell_type": "code",
      "metadata": {
        "colab_type": "code",
        "id": "ZBUI6iMTHPX2",
        "colab": {}
      },
      "source": [
        "results = prediction_results['predicted']"
      ],
      "execution_count": 0,
      "outputs": []
    },
    {
      "cell_type": "markdown",
      "metadata": {
        "colab_type": "text",
        "id": "IoxOrOr6HPX7"
      },
      "source": [
        "<span style=\"font-size:1.1em;\">Başarı oranı hesaplanır</span>"
      ]
    },
    {
      "cell_type": "code",
      "metadata": {
        "colab_type": "code",
        "id": "0S5fD04Zgg11",
        "outputId": "272002fc-9ad9-46bc-e7cf-aa90f2b3e375",
        "colab": {
          "base_uri": "https://localhost:8080/",
          "height": 35
        }
      },
      "source": [
        "accuracy = (results['analysts']['actual']['analysts'] + results['diplomats']['actual']['diplomats'] + results['explorers']['actual']['explorers'] + results['sentinels']['actual']['sentinels']) / len(predictions)\n",
        "accuracy"
      ],
      "execution_count": 105,
      "outputs": [
        {
          "output_type": "execute_result",
          "data": {
            "text/plain": [
              "0.31893922148873205"
            ]
          },
          "metadata": {
            "tags": []
          },
          "execution_count": 27
        },
        {
          "output_type": "execute_result",
          "data": {
            "text/plain": [
              "0.3156840427953562"
            ]
          },
          "metadata": {
            "tags": []
          },
          "execution_count": 105
        }
      ]
    },
    {
      "cell_type": "markdown",
      "metadata": {
        "id": "oGK8sdVTCAg-",
        "colab_type": "text"
      },
      "source": [
        "## I/E Tahmini"
      ]
    },
    {
      "cell_type": "markdown",
      "metadata": {
        "colab_type": "text",
        "id": "ooofyhgeHPYA"
      },
      "source": [
        "<span style=\"font-size:1.1em;\">**I/E** boyutu tahmin edilir</span>"
      ]
    },
    {
      "cell_type": "markdown",
      "metadata": {
        "id": "ILnsl3rmCAhA",
        "colab_type": "text"
      },
      "source": [
        "<span style=\"font-size:1.1em;\">Her iki sınıfta da eşit entry dağılımı olması için öncelikle subsampling yapılır.</span>"
      ]
    },
    {
      "cell_type": "markdown",
      "metadata": {
        "id": "fE4HfclRCAhB",
        "colab_type": "text"
      },
      "source": [
        "<span style=\"font-size:1.1em;\"> Her iki sınıfın içerdiği satırlar sayılır ve entry sayısı için min olan değer alınır.</span>"
      ]
    },
    {
      "cell_type": "code",
      "metadata": {
        "id": "dg78XvHlCAhC",
        "colab_type": "code",
        "colab": {
          "base_uri": "https://localhost:8080/",
          "height": 35
        },
        "outputId": "1f954261-0c96-405b-edb7-82a5b1c6ddd8"
      },
      "source": [
        "min_entry = df.groupby('I/E', as_index = False).count().min().entry\n",
        "\n",
        "min_entry"
      ],
      "execution_count": 106,
      "outputs": [
        {
          "output_type": "execute_result",
          "data": {
            "text/plain": [
              "258843"
            ]
          },
          "metadata": {
            "tags": []
          },
          "execution_count": 28
        },
        {
          "output_type": "execute_result",
          "data": {
            "text/plain": [
              "258843"
            ]
          },
          "metadata": {
            "tags": []
          },
          "execution_count": 106
        }
      ]
    },
    {
      "cell_type": "markdown",
      "metadata": {
        "id": "qIikbtISCAhG",
        "colab_type": "text"
      },
      "source": [
        "<span style=\"font-size:1.1em;\">Hesaplanan minimum entry sayısına göre iki sınıftan da entry alınır.</span>"
      ]
    },
    {
      "cell_type": "code",
      "metadata": {
        "id": "_SqAHC9eCAhH",
        "colab_type": "code",
        "colab": {
          "base_uri": "https://localhost:8080/",
          "height": 35
        },
        "outputId": "ee4650e8-feab-4c28-f7cc-36909d56e9cc"
      },
      "source": [
        "I_df = df[df['I/E'] == 'I']\n",
        "I_df = I_df.iloc[0 : min_entry]\n",
        "\n",
        "I_df.shape[0]"
      ],
      "execution_count": 107,
      "outputs": [
        {
          "output_type": "execute_result",
          "data": {
            "text/plain": [
              "258843"
            ]
          },
          "metadata": {
            "tags": []
          },
          "execution_count": 29
        },
        {
          "output_type": "execute_result",
          "data": {
            "text/plain": [
              "258843"
            ]
          },
          "metadata": {
            "tags": []
          },
          "execution_count": 107
        }
      ]
    },
    {
      "cell_type": "code",
      "metadata": {
        "id": "pFmFcHW2CAhK",
        "colab_type": "code",
        "colab": {
          "base_uri": "https://localhost:8080/",
          "height": 35
        },
        "outputId": "85b500e1-da95-4aac-86e7-b77eddf916b9"
      },
      "source": [
        "E_df = df[df['I/E'] == 'E']\n",
        "E_df = E_df.iloc[0 : min_entry]\n",
        "\n",
        "E_df.shape[0]"
      ],
      "execution_count": 108,
      "outputs": [
        {
          "output_type": "execute_result",
          "data": {
            "text/plain": [
              "258843"
            ]
          },
          "metadata": {
            "tags": []
          },
          "execution_count": 30
        },
        {
          "output_type": "execute_result",
          "data": {
            "text/plain": [
              "258843"
            ]
          },
          "metadata": {
            "tags": []
          },
          "execution_count": 108
        }
      ]
    },
    {
      "cell_type": "markdown",
      "metadata": {
        "colab_type": "text",
        "id": "vp-fFv1XCAhN"
      },
      "source": [
        "<span style=\"font-size:1.1em;\">Yeni bir dataframe oluşturulur.</span>"
      ]
    },
    {
      "cell_type": "code",
      "metadata": {
        "colab_type": "code",
        "outputId": "2d705574-9c4a-4d4e-db00-1c6000d41136",
        "id": "RyEzf3cxCAhO",
        "colab": {
          "base_uri": "https://localhost:8080/",
          "height": 821
        }
      },
      "source": [
        "equal_entries_df = pd.concat([I_df, E_df]).reset_index(drop=True)\n",
        "equal_entries_df"
      ],
      "execution_count": 109,
      "outputs": [
        {
          "output_type": "execute_result",
          "data": {
            "text/html": [
              "<div>\n",
              "<style scoped>\n",
              "    .dataframe tbody tr th:only-of-type {\n",
              "        vertical-align: middle;\n",
              "    }\n",
              "\n",
              "    .dataframe tbody tr th {\n",
              "        vertical-align: top;\n",
              "    }\n",
              "\n",
              "    .dataframe thead th {\n",
              "        text-align: right;\n",
              "    }\n",
              "</style>\n",
              "<table border=\"1\" class=\"dataframe\">\n",
              "  <thead>\n",
              "    <tr style=\"text-align: right;\">\n",
              "      <th></th>\n",
              "      <th>user</th>\n",
              "      <th>entry</th>\n",
              "      <th>type</th>\n",
              "      <th>typeClass</th>\n",
              "      <th>I/E</th>\n",
              "      <th>S/N</th>\n",
              "      <th>T/F</th>\n",
              "      <th>J/P</th>\n",
              "    </tr>\n",
              "  </thead>\n",
              "  <tbody>\n",
              "    <tr>\n",
              "      <th>0</th>\n",
              "      <td>Punisher 69</td>\n",
              "      <td>sözlük yazar kız ver verecek isim arap isim ol...</td>\n",
              "      <td>INTJ</td>\n",
              "      <td>analysts</td>\n",
              "      <td>I</td>\n",
              "      <td>N</td>\n",
              "      <td>T</td>\n",
              "      <td>J</td>\n",
              "    </tr>\n",
              "    <tr>\n",
              "      <th>1</th>\n",
              "      <td>Punisher 69</td>\n",
              "      <td>suriye suriyeli gönder vatandaş vatandaşlık ve...</td>\n",
              "      <td>INTJ</td>\n",
              "      <td>analysts</td>\n",
              "      <td>I</td>\n",
              "      <td>N</td>\n",
              "      <td>T</td>\n",
              "      <td>J</td>\n",
              "    </tr>\n",
              "    <tr>\n",
              "      <th>2</th>\n",
              "      <td>Punisher 69</td>\n",
              "      <td>klaus animasyon noel tema temalı film sev seve...</td>\n",
              "      <td>INTJ</td>\n",
              "      <td>analysts</td>\n",
              "      <td>I</td>\n",
              "      <td>N</td>\n",
              "      <td>T</td>\n",
              "      <td>J</td>\n",
              "    </tr>\n",
              "    <tr>\n",
              "      <th>3</th>\n",
              "      <td>Punisher 69</td>\n",
              "      <td>diamond tema zaman keşfet keşfettik youtube di...</td>\n",
              "      <td>INTJ</td>\n",
              "      <td>analysts</td>\n",
              "      <td>I</td>\n",
              "      <td>N</td>\n",
              "      <td>T</td>\n",
              "      <td>J</td>\n",
              "    </tr>\n",
              "    <tr>\n",
              "      <th>4</th>\n",
              "      <td>Punisher 69</td>\n",
              "      <td>fatih tezcan atatürk tweet atatürk sik yet ada...</td>\n",
              "      <td>INTJ</td>\n",
              "      <td>analysts</td>\n",
              "      <td>I</td>\n",
              "      <td>N</td>\n",
              "      <td>T</td>\n",
              "      <td>J</td>\n",
              "    </tr>\n",
              "    <tr>\n",
              "      <th>...</th>\n",
              "      <td>...</td>\n",
              "      <td>...</td>\n",
              "      <td>...</td>\n",
              "      <td>...</td>\n",
              "      <td>...</td>\n",
              "      <td>...</td>\n",
              "      <td>...</td>\n",
              "      <td>...</td>\n",
              "    </tr>\n",
              "    <tr>\n",
              "      <th>517681</th>\n",
              "      <td>serendiptytr</td>\n",
              "      <td>ramazan alan yemek iç içmek yasakla yasaklan i...</td>\n",
              "      <td>ESTJ</td>\n",
              "      <td>sentinels</td>\n",
              "      <td>E</td>\n",
              "      <td>S</td>\n",
              "      <td>T</td>\n",
              "      <td>J</td>\n",
              "    </tr>\n",
              "    <tr>\n",
              "      <th>517682</th>\n",
              "      <td>serendiptytr</td>\n",
              "      <td>fetö kelime anla anlat torba göz meymenet meym...</td>\n",
              "      <td>ESTJ</td>\n",
              "      <td>sentinels</td>\n",
              "      <td>E</td>\n",
              "      <td>S</td>\n",
              "      <td>T</td>\n",
              "      <td>J</td>\n",
              "    </tr>\n",
              "    <tr>\n",
              "      <th>517683</th>\n",
              "      <td>serendiptytr</td>\n",
              "      <td>gamze gamzeli erkek yıl yanak yağ tombul gül g...</td>\n",
              "      <td>ESTJ</td>\n",
              "      <td>sentinels</td>\n",
              "      <td>E</td>\n",
              "      <td>S</td>\n",
              "      <td>T</td>\n",
              "      <td>J</td>\n",
              "    </tr>\n",
              "    <tr>\n",
              "      <th>517684</th>\n",
              "      <td>serendiptytr</td>\n",
              "      <td>ince sahne at atıl atılan vatandaş özür dile d...</td>\n",
              "      <td>ESTJ</td>\n",
              "      <td>sentinels</td>\n",
              "      <td>E</td>\n",
              "      <td>S</td>\n",
              "      <td>T</td>\n",
              "      <td>J</td>\n",
              "    </tr>\n",
              "    <tr>\n",
              "      <th>517685</th>\n",
              "      <td>serendiptytr</td>\n",
              "      <td>otobüs koltuk çık çıkan kavga beleş beleşçi pe...</td>\n",
              "      <td>ESTJ</td>\n",
              "      <td>sentinels</td>\n",
              "      <td>E</td>\n",
              "      <td>S</td>\n",
              "      <td>T</td>\n",
              "      <td>J</td>\n",
              "    </tr>\n",
              "  </tbody>\n",
              "</table>\n",
              "<p>517686 rows × 8 columns</p>\n",
              "</div>"
            ],
            "text/plain": [
              "                user                                              entry  ... T/F J/P\n",
              "0        Punisher 69  sözlük yazar kız ver verecek isim arap isim ol...  ...   T   J\n",
              "1        Punisher 69  suriye suriyeli gönder vatandaş vatandaşlık ve...  ...   T   J\n",
              "2        Punisher 69  klaus animasyon noel tema temalı film sev seve...  ...   T   J\n",
              "3        Punisher 69  diamond tema zaman keşfet keşfettik youtube di...  ...   T   J\n",
              "4        Punisher 69  fatih tezcan atatürk tweet atatürk sik yet ada...  ...   T   J\n",
              "...              ...                                                ...  ...  ..  ..\n",
              "517681  serendiptytr  ramazan alan yemek iç içmek yasakla yasaklan i...  ...   T   J\n",
              "517682  serendiptytr  fetö kelime anla anlat torba göz meymenet meym...  ...   T   J\n",
              "517683  serendiptytr  gamze gamzeli erkek yıl yanak yağ tombul gül g...  ...   T   J\n",
              "517684  serendiptytr  ince sahne at atıl atılan vatandaş özür dile d...  ...   T   J\n",
              "517685  serendiptytr  otobüs koltuk çık çıkan kavga beleş beleşçi pe...  ...   T   J\n",
              "\n",
              "[517686 rows x 8 columns]"
            ]
          },
          "metadata": {
            "tags": []
          },
          "execution_count": 31
        },
        {
          "output_type": "execute_result",
          "data": {
            "text/html": [
              "<div>\n",
              "<style scoped>\n",
              "    .dataframe tbody tr th:only-of-type {\n",
              "        vertical-align: middle;\n",
              "    }\n",
              "\n",
              "    .dataframe tbody tr th {\n",
              "        vertical-align: top;\n",
              "    }\n",
              "\n",
              "    .dataframe thead th {\n",
              "        text-align: right;\n",
              "    }\n",
              "</style>\n",
              "<table border=\"1\" class=\"dataframe\">\n",
              "  <thead>\n",
              "    <tr style=\"text-align: right;\">\n",
              "      <th></th>\n",
              "      <th>user</th>\n",
              "      <th>entry</th>\n",
              "      <th>type</th>\n",
              "      <th>typeClass</th>\n",
              "      <th>I/E</th>\n",
              "      <th>S/N</th>\n",
              "      <th>T/F</th>\n",
              "      <th>J/P</th>\n",
              "    </tr>\n",
              "  </thead>\n",
              "  <tbody>\n",
              "    <tr>\n",
              "      <th>0</th>\n",
              "      <td>Punisher 69</td>\n",
              "      <td>sözlük yazar kız ver verecek isim arap isim ol...</td>\n",
              "      <td>INTJ</td>\n",
              "      <td>analysts</td>\n",
              "      <td>I</td>\n",
              "      <td>N</td>\n",
              "      <td>T</td>\n",
              "      <td>J</td>\n",
              "    </tr>\n",
              "    <tr>\n",
              "      <th>1</th>\n",
              "      <td>Punisher 69</td>\n",
              "      <td>suriye suriyeli gönder vatandaş vatandaşlık ve...</td>\n",
              "      <td>INTJ</td>\n",
              "      <td>analysts</td>\n",
              "      <td>I</td>\n",
              "      <td>N</td>\n",
              "      <td>T</td>\n",
              "      <td>J</td>\n",
              "    </tr>\n",
              "    <tr>\n",
              "      <th>2</th>\n",
              "      <td>Punisher 69</td>\n",
              "      <td>klaus animasyon noel tema temalı film sev seve...</td>\n",
              "      <td>INTJ</td>\n",
              "      <td>analysts</td>\n",
              "      <td>I</td>\n",
              "      <td>N</td>\n",
              "      <td>T</td>\n",
              "      <td>J</td>\n",
              "    </tr>\n",
              "    <tr>\n",
              "      <th>3</th>\n",
              "      <td>Punisher 69</td>\n",
              "      <td>diamond tema zaman keşfet keşfettik youtube di...</td>\n",
              "      <td>INTJ</td>\n",
              "      <td>analysts</td>\n",
              "      <td>I</td>\n",
              "      <td>N</td>\n",
              "      <td>T</td>\n",
              "      <td>J</td>\n",
              "    </tr>\n",
              "    <tr>\n",
              "      <th>4</th>\n",
              "      <td>Punisher 69</td>\n",
              "      <td>fatih tezcan atatürk tweet atatürk sik yet ada...</td>\n",
              "      <td>INTJ</td>\n",
              "      <td>analysts</td>\n",
              "      <td>I</td>\n",
              "      <td>N</td>\n",
              "      <td>T</td>\n",
              "      <td>J</td>\n",
              "    </tr>\n",
              "    <tr>\n",
              "      <th>...</th>\n",
              "      <td>...</td>\n",
              "      <td>...</td>\n",
              "      <td>...</td>\n",
              "      <td>...</td>\n",
              "      <td>...</td>\n",
              "      <td>...</td>\n",
              "      <td>...</td>\n",
              "      <td>...</td>\n",
              "    </tr>\n",
              "    <tr>\n",
              "      <th>517681</th>\n",
              "      <td>serendiptytr</td>\n",
              "      <td>ramazan alan yemek iç içmek yasakla yasaklan i...</td>\n",
              "      <td>ESTJ</td>\n",
              "      <td>sentinels</td>\n",
              "      <td>E</td>\n",
              "      <td>S</td>\n",
              "      <td>T</td>\n",
              "      <td>J</td>\n",
              "    </tr>\n",
              "    <tr>\n",
              "      <th>517682</th>\n",
              "      <td>serendiptytr</td>\n",
              "      <td>fetö kelime anla anlat torba göz meymenet meym...</td>\n",
              "      <td>ESTJ</td>\n",
              "      <td>sentinels</td>\n",
              "      <td>E</td>\n",
              "      <td>S</td>\n",
              "      <td>T</td>\n",
              "      <td>J</td>\n",
              "    </tr>\n",
              "    <tr>\n",
              "      <th>517683</th>\n",
              "      <td>serendiptytr</td>\n",
              "      <td>gamze gamzeli erkek yıl yanak yağ tombul gül g...</td>\n",
              "      <td>ESTJ</td>\n",
              "      <td>sentinels</td>\n",
              "      <td>E</td>\n",
              "      <td>S</td>\n",
              "      <td>T</td>\n",
              "      <td>J</td>\n",
              "    </tr>\n",
              "    <tr>\n",
              "      <th>517684</th>\n",
              "      <td>serendiptytr</td>\n",
              "      <td>ince sahne at atıl atılan vatandaş özür dile d...</td>\n",
              "      <td>ESTJ</td>\n",
              "      <td>sentinels</td>\n",
              "      <td>E</td>\n",
              "      <td>S</td>\n",
              "      <td>T</td>\n",
              "      <td>J</td>\n",
              "    </tr>\n",
              "    <tr>\n",
              "      <th>517685</th>\n",
              "      <td>serendiptytr</td>\n",
              "      <td>otobüs koltuk çık çıkan kavga beleş beleşçi pe...</td>\n",
              "      <td>ESTJ</td>\n",
              "      <td>sentinels</td>\n",
              "      <td>E</td>\n",
              "      <td>S</td>\n",
              "      <td>T</td>\n",
              "      <td>J</td>\n",
              "    </tr>\n",
              "  </tbody>\n",
              "</table>\n",
              "<p>517686 rows × 8 columns</p>\n",
              "</div>"
            ],
            "text/plain": [
              "                user                                              entry  ... T/F J/P\n",
              "0        Punisher 69  sözlük yazar kız ver verecek isim arap isim ol...  ...   T   J\n",
              "1        Punisher 69  suriye suriyeli gönder vatandaş vatandaşlık ve...  ...   T   J\n",
              "2        Punisher 69  klaus animasyon noel tema temalı film sev seve...  ...   T   J\n",
              "3        Punisher 69  diamond tema zaman keşfet keşfettik youtube di...  ...   T   J\n",
              "4        Punisher 69  fatih tezcan atatürk tweet atatürk sik yet ada...  ...   T   J\n",
              "...              ...                                                ...  ...  ..  ..\n",
              "517681  serendiptytr  ramazan alan yemek iç içmek yasakla yasaklan i...  ...   T   J\n",
              "517682  serendiptytr  fetö kelime anla anlat torba göz meymenet meym...  ...   T   J\n",
              "517683  serendiptytr  gamze gamzeli erkek yıl yanak yağ tombul gül g...  ...   T   J\n",
              "517684  serendiptytr  ince sahne at atıl atılan vatandaş özür dile d...  ...   T   J\n",
              "517685  serendiptytr  otobüs koltuk çık çıkan kavga beleş beleşçi pe...  ...   T   J\n",
              "\n",
              "[517686 rows x 8 columns]"
            ]
          },
          "metadata": {
            "tags": []
          },
          "execution_count": 109
        }
      ]
    },
    {
      "cell_type": "markdown",
      "metadata": {
        "colab_type": "text",
        "id": "eyKFdhw3CAhR"
      },
      "source": [
        "<span style=\"font-size:1.1em;\">Oluşturulan dataframe shuffle edilir.</span>"
      ]
    },
    {
      "cell_type": "code",
      "metadata": {
        "colab_type": "code",
        "id": "4SpmPJ56CAhS",
        "colab": {}
      },
      "source": [
        "equal_entries_df = equal_entries_df.sample(frac=1).reset_index(drop=True)"
      ],
      "execution_count": 0,
      "outputs": []
    },
    {
      "cell_type": "code",
      "metadata": {
        "colab_type": "code",
        "outputId": "8d61c7e9-d4c1-4823-fae5-b37899889c74",
        "id": "8RrkdaZSCAhX",
        "colab": {
          "base_uri": "https://localhost:8080/",
          "height": 821
        }
      },
      "source": [
        "equal_entries_df"
      ],
      "execution_count": 111,
      "outputs": [
        {
          "output_type": "execute_result",
          "data": {
            "text/html": [
              "<div>\n",
              "<style scoped>\n",
              "    .dataframe tbody tr th:only-of-type {\n",
              "        vertical-align: middle;\n",
              "    }\n",
              "\n",
              "    .dataframe tbody tr th {\n",
              "        vertical-align: top;\n",
              "    }\n",
              "\n",
              "    .dataframe thead th {\n",
              "        text-align: right;\n",
              "    }\n",
              "</style>\n",
              "<table border=\"1\" class=\"dataframe\">\n",
              "  <thead>\n",
              "    <tr style=\"text-align: right;\">\n",
              "      <th></th>\n",
              "      <th>user</th>\n",
              "      <th>entry</th>\n",
              "      <th>type</th>\n",
              "      <th>typeClass</th>\n",
              "      <th>I/E</th>\n",
              "      <th>S/N</th>\n",
              "      <th>T/F</th>\n",
              "      <th>J/P</th>\n",
              "    </tr>\n",
              "  </thead>\n",
              "  <tbody>\n",
              "    <tr>\n",
              "      <th>0</th>\n",
              "      <td>lady in red</td>\n",
              "      <td>yaşam koç koçluk hizmet al almak iste isteyen ...</td>\n",
              "      <td>INTJ</td>\n",
              "      <td>analysts</td>\n",
              "      <td>I</td>\n",
              "      <td>N</td>\n",
              "      <td>T</td>\n",
              "      <td>J</td>\n",
              "    </tr>\n",
              "    <tr>\n",
              "      <th>1</th>\n",
              "      <td>tuzbuzz</td>\n",
              "      <td>romantik are way UNK romantik world is full pe...</td>\n",
              "      <td>ENFP</td>\n",
              "      <td>diplomats</td>\n",
              "      <td>E</td>\n",
              "      <td>N</td>\n",
              "      <td>F</td>\n",
              "      <td>P</td>\n",
              "    </tr>\n",
              "    <tr>\n",
              "      <th>2</th>\n",
              "      <td>zaman sokaklarda kayboluyordu</td>\n",
              "      <td>fenerbahçe erkek basketbol takım geç geçen sen...</td>\n",
              "      <td>INFP</td>\n",
              "      <td>diplomats</td>\n",
              "      <td>I</td>\n",
              "      <td>N</td>\n",
              "      <td>F</td>\n",
              "      <td>P</td>\n",
              "    </tr>\n",
              "    <tr>\n",
              "      <th>3</th>\n",
              "      <td>esseksurprizi</td>\n",
              "      <td>tom bomb bomba baba çocuk jest kitap ekle ekle...</td>\n",
              "      <td>ENTP</td>\n",
              "      <td>analysts</td>\n",
              "      <td>E</td>\n",
              "      <td>N</td>\n",
              "      <td>T</td>\n",
              "      <td>P</td>\n",
              "    </tr>\n",
              "    <tr>\n",
              "      <th>4</th>\n",
              "      <td>bebek terlik</td>\n",
              "      <td>yenimahalle seçim önce kapı kapı dolaş dolaşıp...</td>\n",
              "      <td>INTP</td>\n",
              "      <td>analysts</td>\n",
              "      <td>I</td>\n",
              "      <td>N</td>\n",
              "      <td>T</td>\n",
              "      <td>P</td>\n",
              "    </tr>\n",
              "    <tr>\n",
              "      <th>...</th>\n",
              "      <td>...</td>\n",
              "      <td>...</td>\n",
              "      <td>...</td>\n",
              "      <td>...</td>\n",
              "      <td>...</td>\n",
              "      <td>...</td>\n",
              "      <td>...</td>\n",
              "      <td>...</td>\n",
              "    </tr>\n",
              "    <tr>\n",
              "      <th>517681</th>\n",
              "      <td>warherooguzhan</td>\n",
              "      <td>warrick yıl başla başlayıp internet fatura cep...</td>\n",
              "      <td>ISTJ</td>\n",
              "      <td>sentinels</td>\n",
              "      <td>I</td>\n",
              "      <td>S</td>\n",
              "      <td>T</td>\n",
              "      <td>J</td>\n",
              "    </tr>\n",
              "    <tr>\n",
              "      <th>517682</th>\n",
              "      <td>ma lazi vore</td>\n",
              "      <td>asgari ücret hafta saat üst çalış çalışıp mesa...</td>\n",
              "      <td>ESFP</td>\n",
              "      <td>explorers</td>\n",
              "      <td>E</td>\n",
              "      <td>S</td>\n",
              "      <td>F</td>\n",
              "      <td>P</td>\n",
              "    </tr>\n",
              "    <tr>\n",
              "      <th>517683</th>\n",
              "      <td>kurcalama oglum bozacaksin</td>\n",
              "      <td>kadın vücut kadın göster göstermeden deniz gir...</td>\n",
              "      <td>ESTP</td>\n",
              "      <td>explorers</td>\n",
              "      <td>E</td>\n",
              "      <td>S</td>\n",
              "      <td>T</td>\n",
              "      <td>P</td>\n",
              "    </tr>\n",
              "    <tr>\n",
              "      <th>517684</th>\n",
              "      <td>twiksingercekmucidi</td>\n",
              "      <td>henri matisse bugün bugünkü ün ölçü william UN...</td>\n",
              "      <td>ISFJ</td>\n",
              "      <td>sentinels</td>\n",
              "      <td>I</td>\n",
              "      <td>S</td>\n",
              "      <td>F</td>\n",
              "      <td>J</td>\n",
              "    </tr>\n",
              "    <tr>\n",
              "      <th>517685</th>\n",
              "      <td>appleofeden</td>\n",
              "      <td>yazar öl ölmek iste istedik yaş</td>\n",
              "      <td>INTP</td>\n",
              "      <td>analysts</td>\n",
              "      <td>I</td>\n",
              "      <td>N</td>\n",
              "      <td>T</td>\n",
              "      <td>P</td>\n",
              "    </tr>\n",
              "  </tbody>\n",
              "</table>\n",
              "<p>517686 rows × 8 columns</p>\n",
              "</div>"
            ],
            "text/plain": [
              "                                 user  ... J/P\n",
              "0                         lady in red  ...   J\n",
              "1                             tuzbuzz  ...   P\n",
              "2       zaman sokaklarda kayboluyordu  ...   P\n",
              "3                       esseksurprizi  ...   P\n",
              "4                        bebek terlik  ...   P\n",
              "...                               ...  ...  ..\n",
              "517681                 warherooguzhan  ...   J\n",
              "517682                   ma lazi vore  ...   P\n",
              "517683     kurcalama oglum bozacaksin  ...   P\n",
              "517684            twiksingercekmucidi  ...   J\n",
              "517685                    appleofeden  ...   P\n",
              "\n",
              "[517686 rows x 8 columns]"
            ]
          },
          "metadata": {
            "tags": []
          },
          "execution_count": 33
        },
        {
          "output_type": "execute_result",
          "data": {
            "text/html": [
              "<div>\n",
              "<style scoped>\n",
              "    .dataframe tbody tr th:only-of-type {\n",
              "        vertical-align: middle;\n",
              "    }\n",
              "\n",
              "    .dataframe tbody tr th {\n",
              "        vertical-align: top;\n",
              "    }\n",
              "\n",
              "    .dataframe thead th {\n",
              "        text-align: right;\n",
              "    }\n",
              "</style>\n",
              "<table border=\"1\" class=\"dataframe\">\n",
              "  <thead>\n",
              "    <tr style=\"text-align: right;\">\n",
              "      <th></th>\n",
              "      <th>user</th>\n",
              "      <th>entry</th>\n",
              "      <th>type</th>\n",
              "      <th>typeClass</th>\n",
              "      <th>I/E</th>\n",
              "      <th>S/N</th>\n",
              "      <th>T/F</th>\n",
              "      <th>J/P</th>\n",
              "    </tr>\n",
              "  </thead>\n",
              "  <tbody>\n",
              "    <tr>\n",
              "      <th>0</th>\n",
              "      <td>tuzbuzz</td>\n",
              "      <td>zeki kültür kültürlü espri esprili hoşsohbet k...</td>\n",
              "      <td>ENFP</td>\n",
              "      <td>diplomats</td>\n",
              "      <td>E</td>\n",
              "      <td>N</td>\n",
              "      <td>F</td>\n",
              "      <td>P</td>\n",
              "    </tr>\n",
              "    <tr>\n",
              "      <th>1</th>\n",
              "      <td>kissofh3ll</td>\n",
              "      <td>ankara özle özledik hasret çek çektik şehir dö...</td>\n",
              "      <td>ENTP</td>\n",
              "      <td>analysts</td>\n",
              "      <td>E</td>\n",
              "      <td>N</td>\n",
              "      <td>T</td>\n",
              "      <td>P</td>\n",
              "    </tr>\n",
              "    <tr>\n",
              "      <th>2</th>\n",
              "      <td>schopenhauer</td>\n",
              "      <td>alan rickman harry potter sev sevdik karakter ...</td>\n",
              "      <td>ENTJ</td>\n",
              "      <td>analysts</td>\n",
              "      <td>E</td>\n",
              "      <td>N</td>\n",
              "      <td>T</td>\n",
              "      <td>J</td>\n",
              "    </tr>\n",
              "    <tr>\n",
              "      <th>3</th>\n",
              "      <td>esseksurprizi</td>\n",
              "      <td>nuri gül gülme haket haketmedik hapis ceza kur...</td>\n",
              "      <td>ENTP</td>\n",
              "      <td>analysts</td>\n",
              "      <td>E</td>\n",
              "      <td>N</td>\n",
              "      <td>T</td>\n",
              "      <td>P</td>\n",
              "    </tr>\n",
              "    <tr>\n",
              "      <th>4</th>\n",
              "      <td>spetsnaz</td>\n",
              "      <td>türkiye genel indirim kampanya sene son elektr...</td>\n",
              "      <td>INFJ</td>\n",
              "      <td>diplomats</td>\n",
              "      <td>I</td>\n",
              "      <td>N</td>\n",
              "      <td>F</td>\n",
              "      <td>J</td>\n",
              "    </tr>\n",
              "    <tr>\n",
              "      <th>...</th>\n",
              "      <td>...</td>\n",
              "      <td>...</td>\n",
              "      <td>...</td>\n",
              "      <td>...</td>\n",
              "      <td>...</td>\n",
              "      <td>...</td>\n",
              "      <td>...</td>\n",
              "      <td>...</td>\n",
              "    </tr>\n",
              "    <tr>\n",
              "      <th>517681</th>\n",
              "      <td>ayamerdivendayamak</td>\n",
              "      <td>iz bırak bırakan kitap cümle kitap sev sevdik ...</td>\n",
              "      <td>ISFJ</td>\n",
              "      <td>sentinels</td>\n",
              "      <td>I</td>\n",
              "      <td>S</td>\n",
              "      <td>F</td>\n",
              "      <td>J</td>\n",
              "    </tr>\n",
              "    <tr>\n",
              "      <th>517682</th>\n",
              "      <td>birazyuksekmuhendisim</td>\n",
              "      <td>nisan sivasspor beşiktaş maç kartuş gol ye yem...</td>\n",
              "      <td>ISFJ</td>\n",
              "      <td>sentinels</td>\n",
              "      <td>I</td>\n",
              "      <td>S</td>\n",
              "      <td>F</td>\n",
              "      <td>J</td>\n",
              "    </tr>\n",
              "    <tr>\n",
              "      <th>517683</th>\n",
              "      <td>unutkanfil</td>\n",
              "      <td>erdoğan konvoy kısal kısaldır kısaldırınıl tal...</td>\n",
              "      <td>ENTP</td>\n",
              "      <td>analysts</td>\n",
              "      <td>E</td>\n",
              "      <td>N</td>\n",
              "      <td>T</td>\n",
              "      <td>P</td>\n",
              "    </tr>\n",
              "    <tr>\n",
              "      <th>517684</th>\n",
              "      <td>stonetemplepilots</td>\n",
              "      <td>dil yara intizar dinle dinlemek iste istedik ş...</td>\n",
              "      <td>ENTP</td>\n",
              "      <td>analysts</td>\n",
              "      <td>E</td>\n",
              "      <td>N</td>\n",
              "      <td>T</td>\n",
              "      <td>P</td>\n",
              "    </tr>\n",
              "    <tr>\n",
              "      <th>517685</th>\n",
              "      <td>3lly</td>\n",
              "      <td>ocak azerbaycan dev miting azerbaycan aliyev s...</td>\n",
              "      <td>INTP</td>\n",
              "      <td>analysts</td>\n",
              "      <td>I</td>\n",
              "      <td>N</td>\n",
              "      <td>T</td>\n",
              "      <td>P</td>\n",
              "    </tr>\n",
              "  </tbody>\n",
              "</table>\n",
              "<p>517686 rows × 8 columns</p>\n",
              "</div>"
            ],
            "text/plain": [
              "                         user  ... J/P\n",
              "0                     tuzbuzz  ...   P\n",
              "1                  kissofh3ll  ...   P\n",
              "2                schopenhauer  ...   J\n",
              "3               esseksurprizi  ...   P\n",
              "4                    spetsnaz  ...   J\n",
              "...                       ...  ...  ..\n",
              "517681     ayamerdivendayamak  ...   J\n",
              "517682  birazyuksekmuhendisim  ...   J\n",
              "517683             unutkanfil  ...   P\n",
              "517684      stonetemplepilots  ...   P\n",
              "517685                   3lly  ...   P\n",
              "\n",
              "[517686 rows x 8 columns]"
            ]
          },
          "metadata": {
            "tags": []
          },
          "execution_count": 111
        }
      ]
    },
    {
      "cell_type": "markdown",
      "metadata": {
        "id": "IHm9SEq8CAhb",
        "colab_type": "text"
      },
      "source": [
        "<span style=\"font-size:1.1em;\">Verisetimizin niteliği değiştiği için tekrardan vocabulary oluşturulur</span>"
      ]
    },
    {
      "cell_type": "code",
      "metadata": {
        "id": "IeJ-huYkCAhd",
        "colab_type": "code",
        "colab": {
          "base_uri": "https://localhost:8080/",
          "height": 143
        },
        "outputId": "78e2d309-f967-41ab-a259-2bab61753ad4"
      },
      "source": [
        "tfidf_vectorizer = TfidfVectorizer(sublinear_tf=True, norm='l2', encoding='utf-8', ngram_range=(1, 1), max_features=1000)\n",
        "tfidf_vectorizer.fit(equal_entries_df['entry'])"
      ],
      "execution_count": 34,
      "outputs": [
        {
          "output_type": "execute_result",
          "data": {
            "text/plain": [
              "TfidfVectorizer(analyzer='word', binary=False, decode_error='strict',\n",
              "                dtype=<class 'numpy.float64'>, encoding='utf-8',\n",
              "                input='content', lowercase=True, max_df=1.0, max_features=1000,\n",
              "                min_df=1, ngram_range=(1, 1), norm='l2', preprocessor=None,\n",
              "                smooth_idf=True, stop_words=None, strip_accents=None,\n",
              "                sublinear_tf=True, token_pattern='(?u)\\\\b\\\\w\\\\w+\\\\b',\n",
              "                tokenizer=None, use_idf=True, vocabulary=None)"
            ]
          },
          "metadata": {
            "tags": []
          },
          "execution_count": 34
        }
      ]
    },
    {
      "cell_type": "code",
      "metadata": {
        "colab_type": "code",
        "id": "ZPmKSg3XrONj",
        "colab": {}
      },
      "source": [
        "X_train, X_test, y_train, y_test = train_test_split(equal_entries_df['entry'], equal_entries_df['I/E'], random_state = 42)  ## Geri kalanlar S, T, J\n",
        "\n",
        "X_train_tfidf = tfidf_vectorizer.transform(X_train)\n",
        "X_test_tfidf = tfidf_vectorizer.transform(X_test)\n",
        "\n",
        "clf = MultinomialNB().fit(X_train_tfidf, y_train)\n",
        "test_typeClass = y_test.values\n",
        "\n",
        "predictions = clf.predict(X_test_tfidf)"
      ],
      "execution_count": 0,
      "outputs": []
    },
    {
      "cell_type": "code",
      "metadata": {
        "colab_type": "code",
        "id": "hgxavMQorivQ",
        "outputId": "cc5a34e1-6a4e-4ece-df56-8abe42d9db26",
        "colab": {
          "base_uri": "https://localhost:8080/",
          "height": 35
        }
      },
      "source": [
        "predictions"
      ],
      "execution_count": 36,
      "outputs": [
        {
          "output_type": "execute_result",
          "data": {
            "text/plain": [
              "array(['I', 'E', 'I', ..., 'I', 'E', 'I'], dtype='<U1')"
            ]
          },
          "metadata": {
            "tags": []
          },
          "execution_count": 36
        }
      ]
    },
    {
      "cell_type": "code",
      "metadata": {
        "colab_type": "code",
        "id": "DlQeP5BFr0BA",
        "outputId": "01b0976c-7260-4f94-abdc-0dcd24f19fc1",
        "colab": {
          "base_uri": "https://localhost:8080/",
          "height": 35
        }
      },
      "source": [
        "predicted = {}\n",
        "predicted['I'] = {'actual': {'I': 0, 'E': 0}}\n",
        "predicted['E'] = {'actual': {'I': 0, 'E': 0}}\n",
        "predicted"
      ],
      "execution_count": 37,
      "outputs": [
        {
          "output_type": "execute_result",
          "data": {
            "text/plain": [
              "{'E': {'actual': {'E': 0, 'I': 0}}, 'I': {'actual': {'E': 0, 'I': 0}}}"
            ]
          },
          "metadata": {
            "tags": []
          },
          "execution_count": 37
        }
      ]
    },
    {
      "cell_type": "code",
      "metadata": {
        "colab_type": "code",
        "id": "F38Wm7lnsNxh",
        "colab": {}
      },
      "source": [
        "for i in range(len(predictions)):\n",
        "  predicted[predictions[i]]['actual'][test_typeClass[i]] += 1\n"
      ],
      "execution_count": 0,
      "outputs": []
    },
    {
      "cell_type": "code",
      "metadata": {
        "colab_type": "code",
        "id": "pCppRIUitZ3A",
        "outputId": "9b3e84e5-32e7-4c63-c799-a237318ad007",
        "colab": {
          "base_uri": "https://localhost:8080/",
          "height": 53
        }
      },
      "source": [
        "predicted"
      ],
      "execution_count": 39,
      "outputs": [
        {
          "output_type": "execute_result",
          "data": {
            "text/plain": [
              "{'E': {'actual': {'E': 31256, 'I': 24597}},\n",
              " 'I': {'actual': {'E': 33339, 'I': 40230}}}"
            ]
          },
          "metadata": {
            "tags": []
          },
          "execution_count": 39
        }
      ]
    },
    {
      "cell_type": "code",
      "metadata": {
        "colab_type": "code",
        "id": "sRxuH3Fht6me",
        "colab": {}
      },
      "source": [
        "accuracy = (predicted['E']['actual']['E'] + predicted['I']['actual']['I']) / len(predictions)"
      ],
      "execution_count": 0,
      "outputs": []
    },
    {
      "cell_type": "code",
      "metadata": {
        "colab_type": "code",
        "id": "11O91HLLuH27",
        "outputId": "bf70ea9f-f449-44e5-c20b-fc4e1085bf04",
        "colab": {
          "base_uri": "https://localhost:8080/",
          "height": 35
        }
      },
      "source": [
        "accuracy"
      ],
      "execution_count": 41,
      "outputs": [
        {
          "output_type": "execute_result",
          "data": {
            "text/plain": [
              "0.5523481324658868"
            ]
          },
          "metadata": {
            "tags": []
          },
          "execution_count": 41
        }
      ]
    },
    {
      "cell_type": "markdown",
      "metadata": {
        "id": "ClTgRjdYCAh7",
        "colab_type": "text"
      },
      "source": [
        "## S/N Boyut Tahmini"
      ]
    },
    {
      "cell_type": "markdown",
      "metadata": {
        "colab_type": "text",
        "id": "ktc8Y-2hHPYg"
      },
      "source": [
        "<span style=\"font-size:1.1em\">**S/N** boyutu tahmin edilir.</span>"
      ]
    },
    {
      "cell_type": "code",
      "metadata": {
        "id": "RELY7mKSCAh8",
        "colab_type": "code",
        "colab": {
          "base_uri": "https://localhost:8080/",
          "height": 35
        },
        "outputId": "3a245a58-0521-4986-dd6c-e9e6c5cf2d03"
      },
      "source": [
        "min_entry = df.groupby('S/N', as_index = False).count().min().entry\n",
        "\n",
        "min_entry"
      ],
      "execution_count": 42,
      "outputs": [
        {
          "output_type": "execute_result",
          "data": {
            "text/plain": [
              "147699"
            ]
          },
          "metadata": {
            "tags": []
          },
          "execution_count": 42
        }
      ]
    },
    {
      "cell_type": "code",
      "metadata": {
        "id": "KJCggcOICAh_",
        "colab_type": "code",
        "colab": {
          "base_uri": "https://localhost:8080/",
          "height": 35
        },
        "outputId": "b7689652-00b7-4a91-b617-8cb01ac0fd18"
      },
      "source": [
        "S_df = df[df['S/N'] == 'S']\n",
        "S_df = S_df.iloc[0 : min_entry]\n",
        "\n",
        "S_df.shape[0]"
      ],
      "execution_count": 43,
      "outputs": [
        {
          "output_type": "execute_result",
          "data": {
            "text/plain": [
              "147699"
            ]
          },
          "metadata": {
            "tags": []
          },
          "execution_count": 43
        }
      ]
    },
    {
      "cell_type": "code",
      "metadata": {
        "id": "PBvHF4CyCAiB",
        "colab_type": "code",
        "colab": {
          "base_uri": "https://localhost:8080/",
          "height": 35
        },
        "outputId": "6559bf59-256a-4726-9841-acaee95015d4"
      },
      "source": [
        "N_df = df[df['S/N'] == 'N']\n",
        "N_df = N_df.iloc[0 : min_entry]\n",
        "\n",
        "N_df.shape[0]"
      ],
      "execution_count": 44,
      "outputs": [
        {
          "output_type": "execute_result",
          "data": {
            "text/plain": [
              "147699"
            ]
          },
          "metadata": {
            "tags": []
          },
          "execution_count": 44
        }
      ]
    },
    {
      "cell_type": "code",
      "metadata": {
        "id": "QX4Ow_FICAiE",
        "colab_type": "code",
        "colab": {
          "base_uri": "https://localhost:8080/",
          "height": 419
        },
        "outputId": "1322f866-f1fb-4310-f4ca-b12a0da63d3a"
      },
      "source": [
        "equal_entries_df = pd.concat([S_df, N_df]).reset_index(drop=True)\n",
        "equal_entries_df"
      ],
      "execution_count": 45,
      "outputs": [
        {
          "output_type": "execute_result",
          "data": {
            "text/html": [
              "<div>\n",
              "<style scoped>\n",
              "    .dataframe tbody tr th:only-of-type {\n",
              "        vertical-align: middle;\n",
              "    }\n",
              "\n",
              "    .dataframe tbody tr th {\n",
              "        vertical-align: top;\n",
              "    }\n",
              "\n",
              "    .dataframe thead th {\n",
              "        text-align: right;\n",
              "    }\n",
              "</style>\n",
              "<table border=\"1\" class=\"dataframe\">\n",
              "  <thead>\n",
              "    <tr style=\"text-align: right;\">\n",
              "      <th></th>\n",
              "      <th>user</th>\n",
              "      <th>entry</th>\n",
              "      <th>type</th>\n",
              "      <th>typeClass</th>\n",
              "      <th>I/E</th>\n",
              "      <th>S/N</th>\n",
              "      <th>T/F</th>\n",
              "      <th>J/P</th>\n",
              "    </tr>\n",
              "  </thead>\n",
              "  <tbody>\n",
              "    <tr>\n",
              "      <th>0</th>\n",
              "      <td>95lipol1sx</td>\n",
              "      <td>sel karaca çevik konu sosyal medya kullan kull...</td>\n",
              "      <td>ESFP</td>\n",
              "      <td>explorers</td>\n",
              "      <td>E</td>\n",
              "      <td>S</td>\n",
              "      <td>F</td>\n",
              "      <td>P</td>\n",
              "    </tr>\n",
              "    <tr>\n",
              "      <th>1</th>\n",
              "      <td>95lipol1sx</td>\n",
              "      <td>mil milli anne anla anlat oğul</td>\n",
              "      <td>ESFP</td>\n",
              "      <td>explorers</td>\n",
              "      <td>E</td>\n",
              "      <td>S</td>\n",
              "      <td>F</td>\n",
              "      <td>P</td>\n",
              "    </tr>\n",
              "    <tr>\n",
              "      <th>2</th>\n",
              "      <td>95lipol1sx</td>\n",
              "      <td>oku okun okunan kitap goethe faust</td>\n",
              "      <td>ESFP</td>\n",
              "      <td>explorers</td>\n",
              "      <td>E</td>\n",
              "      <td>S</td>\n",
              "      <td>F</td>\n",
              "      <td>P</td>\n",
              "    </tr>\n",
              "    <tr>\n",
              "      <th>3</th>\n",
              "      <td>95lipol1sx</td>\n",
              "      <td>bora seçkin üsküdar UNK celal sahne naşit bey ...</td>\n",
              "      <td>ESFP</td>\n",
              "      <td>explorers</td>\n",
              "      <td>E</td>\n",
              "      <td>S</td>\n",
              "      <td>F</td>\n",
              "      <td>P</td>\n",
              "    </tr>\n",
              "    <tr>\n",
              "      <th>4</th>\n",
              "      <td>95lipol1sx</td>\n",
              "      <td>iki kanser anne kız ev evsiz kal kalma</td>\n",
              "      <td>ESFP</td>\n",
              "      <td>explorers</td>\n",
              "      <td>E</td>\n",
              "      <td>S</td>\n",
              "      <td>F</td>\n",
              "      <td>P</td>\n",
              "    </tr>\n",
              "    <tr>\n",
              "      <th>...</th>\n",
              "      <td>...</td>\n",
              "      <td>...</td>\n",
              "      <td>...</td>\n",
              "      <td>...</td>\n",
              "      <td>...</td>\n",
              "      <td>...</td>\n",
              "      <td>...</td>\n",
              "      <td>...</td>\n",
              "    </tr>\n",
              "    <tr>\n",
              "      <th>295393</th>\n",
              "      <td>sanal gezgin</td>\n",
              "      <td>ağustos UNK olay yerli ırk ırkçı ırkçılık yurt...</td>\n",
              "      <td>INTP</td>\n",
              "      <td>analysts</td>\n",
              "      <td>I</td>\n",
              "      <td>N</td>\n",
              "      <td>T</td>\n",
              "      <td>P</td>\n",
              "    </tr>\n",
              "    <tr>\n",
              "      <th>295394</th>\n",
              "      <td>sanal gezgin</td>\n",
              "      <td>kanuni sultan süleyman salak tek teki hareket ...</td>\n",
              "      <td>INTP</td>\n",
              "      <td>analysts</td>\n",
              "      <td>I</td>\n",
              "      <td>N</td>\n",
              "      <td>T</td>\n",
              "      <td>P</td>\n",
              "    </tr>\n",
              "    <tr>\n",
              "      <th>295395</th>\n",
              "      <td>sanal gezgin</td>\n",
              "      <td>çocuk gir giril girilen komik diyalog bak kız ...</td>\n",
              "      <td>INTP</td>\n",
              "      <td>analysts</td>\n",
              "      <td>I</td>\n",
              "      <td>N</td>\n",
              "      <td>T</td>\n",
              "      <td>P</td>\n",
              "    </tr>\n",
              "    <tr>\n",
              "      <th>295396</th>\n",
              "      <td>sanal gezgin</td>\n",
              "      <td>kağıt kriz ithalat bağımlı sektör kapa kapan k...</td>\n",
              "      <td>INTP</td>\n",
              "      <td>analysts</td>\n",
              "      <td>I</td>\n",
              "      <td>N</td>\n",
              "      <td>T</td>\n",
              "      <td>P</td>\n",
              "    </tr>\n",
              "    <tr>\n",
              "      <th>295397</th>\n",
              "      <td>sanal gezgin</td>\n",
              "      <td>arçelik eski beyaz eşya evladiyelik yıl üre ür...</td>\n",
              "      <td>INTP</td>\n",
              "      <td>analysts</td>\n",
              "      <td>I</td>\n",
              "      <td>N</td>\n",
              "      <td>T</td>\n",
              "      <td>P</td>\n",
              "    </tr>\n",
              "  </tbody>\n",
              "</table>\n",
              "<p>295398 rows × 8 columns</p>\n",
              "</div>"
            ],
            "text/plain": [
              "                user                                              entry  ... T/F J/P\n",
              "0         95lipol1sx  sel karaca çevik konu sosyal medya kullan kull...  ...   F   P\n",
              "1         95lipol1sx                     mil milli anne anla anlat oğul  ...   F   P\n",
              "2         95lipol1sx                 oku okun okunan kitap goethe faust  ...   F   P\n",
              "3         95lipol1sx  bora seçkin üsküdar UNK celal sahne naşit bey ...  ...   F   P\n",
              "4         95lipol1sx             iki kanser anne kız ev evsiz kal kalma  ...   F   P\n",
              "...              ...                                                ...  ...  ..  ..\n",
              "295393  sanal gezgin  ağustos UNK olay yerli ırk ırkçı ırkçılık yurt...  ...   T   P\n",
              "295394  sanal gezgin  kanuni sultan süleyman salak tek teki hareket ...  ...   T   P\n",
              "295395  sanal gezgin  çocuk gir giril girilen komik diyalog bak kız ...  ...   T   P\n",
              "295396  sanal gezgin  kağıt kriz ithalat bağımlı sektör kapa kapan k...  ...   T   P\n",
              "295397  sanal gezgin  arçelik eski beyaz eşya evladiyelik yıl üre ür...  ...   T   P\n",
              "\n",
              "[295398 rows x 8 columns]"
            ]
          },
          "metadata": {
            "tags": []
          },
          "execution_count": 45
        }
      ]
    },
    {
      "cell_type": "code",
      "metadata": {
        "id": "fI41A5PMCAiG",
        "colab_type": "code",
        "colab": {
          "base_uri": "https://localhost:8080/",
          "height": 419
        },
        "outputId": "fe0a12a3-929e-48ee-ef93-1ff5e2b0ad8c"
      },
      "source": [
        "equal_entries_df = equal_entries_df.sample(frac=1).reset_index(drop=True)\n",
        "\n",
        "equal_entries_df"
      ],
      "execution_count": 46,
      "outputs": [
        {
          "output_type": "execute_result",
          "data": {
            "text/html": [
              "<div>\n",
              "<style scoped>\n",
              "    .dataframe tbody tr th:only-of-type {\n",
              "        vertical-align: middle;\n",
              "    }\n",
              "\n",
              "    .dataframe tbody tr th {\n",
              "        vertical-align: top;\n",
              "    }\n",
              "\n",
              "    .dataframe thead th {\n",
              "        text-align: right;\n",
              "    }\n",
              "</style>\n",
              "<table border=\"1\" class=\"dataframe\">\n",
              "  <thead>\n",
              "    <tr style=\"text-align: right;\">\n",
              "      <th></th>\n",
              "      <th>user</th>\n",
              "      <th>entry</th>\n",
              "      <th>type</th>\n",
              "      <th>typeClass</th>\n",
              "      <th>I/E</th>\n",
              "      <th>S/N</th>\n",
              "      <th>T/F</th>\n",
              "      <th>J/P</th>\n",
              "    </tr>\n",
              "  </thead>\n",
              "  <tbody>\n",
              "    <tr>\n",
              "      <th>0</th>\n",
              "      <td>gulcehatun</td>\n",
              "      <td>UNK oxford üniversitesi kabul al yüksek lisans...</td>\n",
              "      <td>INTJ</td>\n",
              "      <td>analysts</td>\n",
              "      <td>I</td>\n",
              "      <td>N</td>\n",
              "      <td>T</td>\n",
              "      <td>J</td>\n",
              "    </tr>\n",
              "    <tr>\n",
              "      <th>1</th>\n",
              "      <td>patlak fermuar</td>\n",
              "      <td>UNK total war moğol saldırı savur savurmak kal...</td>\n",
              "      <td>ENTJ</td>\n",
              "      <td>analysts</td>\n",
              "      <td>E</td>\n",
              "      <td>N</td>\n",
              "      <td>T</td>\n",
              "      <td>J</td>\n",
              "    </tr>\n",
              "    <tr>\n",
              "      <th>2</th>\n",
              "      <td>oniyekiacaba</td>\n",
              "      <td>zıbın faul me önce sema you faul me tai sem tw...</td>\n",
              "      <td>ISTJ</td>\n",
              "      <td>sentinels</td>\n",
              "      <td>I</td>\n",
              "      <td>S</td>\n",
              "      <td>T</td>\n",
              "      <td>J</td>\n",
              "    </tr>\n",
              "    <tr>\n",
              "      <th>3</th>\n",
              "      <td>bos kafa mezara</td>\n",
              "      <td>rakı duble iç içtik bak bakıl bakılabil bakıla...</td>\n",
              "      <td>ESTP</td>\n",
              "      <td>explorers</td>\n",
              "      <td>E</td>\n",
              "      <td>S</td>\n",
              "      <td>T</td>\n",
              "      <td>P</td>\n",
              "    </tr>\n",
              "    <tr>\n",
              "      <th>4</th>\n",
              "      <td>ciklett</td>\n",
              "      <td>funda esen linç kat katıl katılmayan yazar kon...</td>\n",
              "      <td>ESFP</td>\n",
              "      <td>explorers</td>\n",
              "      <td>E</td>\n",
              "      <td>S</td>\n",
              "      <td>F</td>\n",
              "      <td>P</td>\n",
              "    </tr>\n",
              "    <tr>\n",
              "      <th>...</th>\n",
              "      <td>...</td>\n",
              "      <td>...</td>\n",
              "      <td>...</td>\n",
              "      <td>...</td>\n",
              "      <td>...</td>\n",
              "      <td>...</td>\n",
              "      <td>...</td>\n",
              "      <td>...</td>\n",
              "    </tr>\n",
              "    <tr>\n",
              "      <th>295393</th>\n",
              "      <td>pokerfacedude</td>\n",
              "      <td>UNK arkadaş kal kaldık gün içeri kullan kullan...</td>\n",
              "      <td>ESTP</td>\n",
              "      <td>explorers</td>\n",
              "      <td>E</td>\n",
              "      <td>S</td>\n",
              "      <td>T</td>\n",
              "      <td>P</td>\n",
              "    </tr>\n",
              "    <tr>\n",
              "      <th>295394</th>\n",
              "      <td>canabag</td>\n",
              "      <td>tarsus esrarengiz kazı yer ak de kazı uyanık g...</td>\n",
              "      <td>INTP</td>\n",
              "      <td>analysts</td>\n",
              "      <td>I</td>\n",
              "      <td>N</td>\n",
              "      <td>T</td>\n",
              "      <td>P</td>\n",
              "    </tr>\n",
              "    <tr>\n",
              "      <th>295395</th>\n",
              "      <td>kovuldun co</td>\n",
              "      <td>ver verme yönlen yönlendir twitter raporla rap...</td>\n",
              "      <td>ISTP</td>\n",
              "      <td>explorers</td>\n",
              "      <td>I</td>\n",
              "      <td>S</td>\n",
              "      <td>T</td>\n",
              "      <td>P</td>\n",
              "    </tr>\n",
              "    <tr>\n",
              "      <th>295396</th>\n",
              "      <td>hayvanadam</td>\n",
              "      <td>adolf hitler in paris fotoğraf eyfel abart aba...</td>\n",
              "      <td>ISTJ</td>\n",
              "      <td>sentinels</td>\n",
              "      <td>I</td>\n",
              "      <td>S</td>\n",
              "      <td>T</td>\n",
              "      <td>J</td>\n",
              "    </tr>\n",
              "    <tr>\n",
              "      <th>295397</th>\n",
              "      <td>ufurukten ucak</td>\n",
              "      <td>direksiyon sınav kadın düşman düşmanlık direks...</td>\n",
              "      <td>ESTJ</td>\n",
              "      <td>sentinels</td>\n",
              "      <td>E</td>\n",
              "      <td>S</td>\n",
              "      <td>T</td>\n",
              "      <td>J</td>\n",
              "    </tr>\n",
              "  </tbody>\n",
              "</table>\n",
              "<p>295398 rows × 8 columns</p>\n",
              "</div>"
            ],
            "text/plain": [
              "                   user  ... J/P\n",
              "0            gulcehatun  ...   J\n",
              "1        patlak fermuar  ...   J\n",
              "2          oniyekiacaba  ...   J\n",
              "3       bos kafa mezara  ...   P\n",
              "4               ciklett  ...   P\n",
              "...                 ...  ...  ..\n",
              "295393    pokerfacedude  ...   P\n",
              "295394          canabag  ...   P\n",
              "295395      kovuldun co  ...   P\n",
              "295396       hayvanadam  ...   J\n",
              "295397   ufurukten ucak  ...   J\n",
              "\n",
              "[295398 rows x 8 columns]"
            ]
          },
          "metadata": {
            "tags": []
          },
          "execution_count": 46
        }
      ]
    },
    {
      "cell_type": "code",
      "metadata": {
        "id": "JefNTAQaCAiJ",
        "colab_type": "code",
        "colab": {
          "base_uri": "https://localhost:8080/",
          "height": 143
        },
        "outputId": "43741d7d-b98d-4167-c851-ad224e76e8f6"
      },
      "source": [
        "tfidf_vectorizer = TfidfVectorizer(sublinear_tf=True, norm='l2', encoding='utf-8', ngram_range=(1, 1), max_features=1000)\n",
        "tfidf_vectorizer.fit(equal_entries_df['entry'])"
      ],
      "execution_count": 47,
      "outputs": [
        {
          "output_type": "execute_result",
          "data": {
            "text/plain": [
              "TfidfVectorizer(analyzer='word', binary=False, decode_error='strict',\n",
              "                dtype=<class 'numpy.float64'>, encoding='utf-8',\n",
              "                input='content', lowercase=True, max_df=1.0, max_features=1000,\n",
              "                min_df=1, ngram_range=(1, 1), norm='l2', preprocessor=None,\n",
              "                smooth_idf=True, stop_words=None, strip_accents=None,\n",
              "                sublinear_tf=True, token_pattern='(?u)\\\\b\\\\w\\\\w+\\\\b',\n",
              "                tokenizer=None, use_idf=True, vocabulary=None)"
            ]
          },
          "metadata": {
            "tags": []
          },
          "execution_count": 47
        }
      ]
    },
    {
      "cell_type": "code",
      "metadata": {
        "colab_type": "code",
        "id": "mq8qRr5RuSVO",
        "colab": {}
      },
      "source": [
        "X_train, X_test, y_train, y_test = train_test_split(equal_entries_df['entry'], equal_entries_df['S/N'], random_state = 42)  ## Geri kalan boyutlar: T, J\n",
        "\n",
        "X_train_tfidf = tfidf_vectorizer.transform(X_train)\n",
        "X_test_tfidf = tfidf_vectorizer.transform(X_test)\n",
        "\n",
        "clf = MultinomialNB().fit(X_train_tfidf, y_train)\n",
        "test_typeClass = y_test.values\n",
        "\n",
        "predictions = clf.predict(X_test_tfidf)"
      ],
      "execution_count": 0,
      "outputs": []
    },
    {
      "cell_type": "code",
      "metadata": {
        "colab_type": "code",
        "id": "VzV1av-CuZ2b",
        "outputId": "509e516b-a1d6-4761-ed42-12576fe9331f",
        "colab": {
          "base_uri": "https://localhost:8080/",
          "height": 89
        }
      },
      "source": [
        "predicted['N'] = {'actual': {'N': 0, 'S': 0}}\n",
        "predicted['S'] = {'actual': {'N': 0, 'S': 0}}\n",
        "\n",
        "predicted"
      ],
      "execution_count": 49,
      "outputs": [
        {
          "output_type": "execute_result",
          "data": {
            "text/plain": [
              "{'E': {'actual': {'E': 31256, 'I': 24597}},\n",
              " 'I': {'actual': {'E': 33339, 'I': 40230}},\n",
              " 'N': {'actual': {'N': 0, 'S': 0}},\n",
              " 'S': {'actual': {'N': 0, 'S': 0}}}"
            ]
          },
          "metadata": {
            "tags": []
          },
          "execution_count": 49
        }
      ]
    },
    {
      "cell_type": "code",
      "metadata": {
        "colab_type": "code",
        "id": "Fm2wvaVYuklE",
        "colab": {}
      },
      "source": [
        "for i in range(len(predictions)):\n",
        "  predicted[predictions[i]]['actual'][test_typeClass[i]] += 1"
      ],
      "execution_count": 0,
      "outputs": []
    },
    {
      "cell_type": "code",
      "metadata": {
        "colab_type": "code",
        "id": "YbVEQPPsvebF",
        "outputId": "d689e08c-8f4b-435a-a9db-371df8c8308b",
        "colab": {
          "base_uri": "https://localhost:8080/",
          "height": 89
        }
      },
      "source": [
        "predicted"
      ],
      "execution_count": 51,
      "outputs": [
        {
          "output_type": "execute_result",
          "data": {
            "text/plain": [
              "{'E': {'actual': {'E': 31256, 'I': 24597}},\n",
              " 'I': {'actual': {'E': 33339, 'I': 40230}},\n",
              " 'N': {'actual': {'N': 19194, 'S': 15018}},\n",
              " 'S': {'actual': {'N': 17757, 'S': 21881}}}"
            ]
          },
          "metadata": {
            "tags": []
          },
          "execution_count": 51
        }
      ]
    },
    {
      "cell_type": "code",
      "metadata": {
        "colab_type": "code",
        "id": "tQJQoGQavLgv",
        "colab": {}
      },
      "source": [
        "accuracy = (predicted['N']['actual']['N'] + predicted['S']['actual']['S']) / len(predictions)"
      ],
      "execution_count": 0,
      "outputs": []
    },
    {
      "cell_type": "code",
      "metadata": {
        "colab_type": "code",
        "id": "LbegGjPNvXJO",
        "outputId": "56f7f993-80d3-4ca9-8a58-fe0bf29c7f0b",
        "colab": {
          "base_uri": "https://localhost:8080/",
          "height": 35
        }
      },
      "source": [
        "accuracy"
      ],
      "execution_count": 53,
      "outputs": [
        {
          "output_type": "execute_result",
          "data": {
            "text/plain": [
              "0.556194989844279"
            ]
          },
          "metadata": {
            "tags": []
          },
          "execution_count": 53
        }
      ]
    },
    {
      "cell_type": "markdown",
      "metadata": {
        "id": "oevRcG1MCAic",
        "colab_type": "text"
      },
      "source": [
        "##  T/F Boyutu Tahmini"
      ]
    },
    {
      "cell_type": "markdown",
      "metadata": {
        "colab_type": "text",
        "id": "vqKVIk9uHPZA"
      },
      "source": [
        "<span style=\"font-size:1.1em\">**T/F** boyutu tahmin edilir.</span>"
      ]
    },
    {
      "cell_type": "code",
      "metadata": {
        "id": "wF2fHpq8CAie",
        "colab_type": "code",
        "colab": {
          "base_uri": "https://localhost:8080/",
          "height": 35
        },
        "outputId": "4221ca80-9a51-4dba-fa5b-cd19f54c32a9"
      },
      "source": [
        "min_entry = df.groupby('T/F', as_index = False).count().min().entry\n",
        "\n",
        "min_entry"
      ],
      "execution_count": 54,
      "outputs": [
        {
          "output_type": "execute_result",
          "data": {
            "text/plain": [
              "249807"
            ]
          },
          "metadata": {
            "tags": []
          },
          "execution_count": 54
        }
      ]
    },
    {
      "cell_type": "code",
      "metadata": {
        "id": "0LdPs0QPCAig",
        "colab_type": "code",
        "colab": {
          "base_uri": "https://localhost:8080/",
          "height": 35
        },
        "outputId": "28b10c3c-a402-4b64-fd91-02ec7c84f3eb"
      },
      "source": [
        "T_df = df[df['T/F'] == 'T']\n",
        "T_df = T_df.iloc[0 : min_entry]\n",
        "\n",
        "T_df.shape[0]"
      ],
      "execution_count": 55,
      "outputs": [
        {
          "output_type": "execute_result",
          "data": {
            "text/plain": [
              "249807"
            ]
          },
          "metadata": {
            "tags": []
          },
          "execution_count": 55
        }
      ]
    },
    {
      "cell_type": "code",
      "metadata": {
        "id": "9CFJszmTCAii",
        "colab_type": "code",
        "colab": {
          "base_uri": "https://localhost:8080/",
          "height": 35
        },
        "outputId": "47a9830f-3d6e-4192-9233-c7d1b2a22456"
      },
      "source": [
        "F_df = df[df['T/F'] == 'F']\n",
        "F_df = F_df.iloc[0 : min_entry]\n",
        "\n",
        "F_df.shape[0]"
      ],
      "execution_count": 56,
      "outputs": [
        {
          "output_type": "execute_result",
          "data": {
            "text/plain": [
              "249807"
            ]
          },
          "metadata": {
            "tags": []
          },
          "execution_count": 56
        }
      ]
    },
    {
      "cell_type": "code",
      "metadata": {
        "id": "yqIe_aDjCAim",
        "colab_type": "code",
        "colab": {
          "base_uri": "https://localhost:8080/",
          "height": 419
        },
        "outputId": "1504ea08-0948-4c56-903c-311480fc5e84"
      },
      "source": [
        "equal_entries_df = pd.concat([T_df, F_df]).reset_index(drop=True)\n",
        "equal_entries_df"
      ],
      "execution_count": 57,
      "outputs": [
        {
          "output_type": "execute_result",
          "data": {
            "text/html": [
              "<div>\n",
              "<style scoped>\n",
              "    .dataframe tbody tr th:only-of-type {\n",
              "        vertical-align: middle;\n",
              "    }\n",
              "\n",
              "    .dataframe tbody tr th {\n",
              "        vertical-align: top;\n",
              "    }\n",
              "\n",
              "    .dataframe thead th {\n",
              "        text-align: right;\n",
              "    }\n",
              "</style>\n",
              "<table border=\"1\" class=\"dataframe\">\n",
              "  <thead>\n",
              "    <tr style=\"text-align: right;\">\n",
              "      <th></th>\n",
              "      <th>user</th>\n",
              "      <th>entry</th>\n",
              "      <th>type</th>\n",
              "      <th>typeClass</th>\n",
              "      <th>I/E</th>\n",
              "      <th>S/N</th>\n",
              "      <th>T/F</th>\n",
              "      <th>J/P</th>\n",
              "    </tr>\n",
              "  </thead>\n",
              "  <tbody>\n",
              "    <tr>\n",
              "      <th>0</th>\n",
              "      <td>19991991</td>\n",
              "      <td>ekşi itiraf dön dolaş gel kendi çat problem ge...</td>\n",
              "      <td>ENTJ</td>\n",
              "      <td>analysts</td>\n",
              "      <td>E</td>\n",
              "      <td>N</td>\n",
              "      <td>T</td>\n",
              "      <td>J</td>\n",
              "    </tr>\n",
              "    <tr>\n",
              "      <th>1</th>\n",
              "      <td>19991991</td>\n",
              "      <td>selda bağcan ses dinle dinleyebil dinleyebilme...</td>\n",
              "      <td>ENTJ</td>\n",
              "      <td>analysts</td>\n",
              "      <td>E</td>\n",
              "      <td>N</td>\n",
              "      <td>T</td>\n",
              "      <td>J</td>\n",
              "    </tr>\n",
              "    <tr>\n",
              "      <th>2</th>\n",
              "      <td>19991991</td>\n",
              "      <td>eski sevgili mutlu ol olma iste isteyen insan ...</td>\n",
              "      <td>ENTJ</td>\n",
              "      <td>analysts</td>\n",
              "      <td>E</td>\n",
              "      <td>N</td>\n",
              "      <td>T</td>\n",
              "      <td>J</td>\n",
              "    </tr>\n",
              "    <tr>\n",
              "      <th>3</th>\n",
              "      <td>19991991</td>\n",
              "      <td>veda et ederken not bırak bırakmak fark farklı...</td>\n",
              "      <td>ENTJ</td>\n",
              "      <td>analysts</td>\n",
              "      <td>E</td>\n",
              "      <td>N</td>\n",
              "      <td>T</td>\n",
              "      <td>J</td>\n",
              "    </tr>\n",
              "    <tr>\n",
              "      <th>4</th>\n",
              "      <td>19991991</td>\n",
              "      <td>ingiliz aksa ara bayıl bayıldık konuş konuşan ...</td>\n",
              "      <td>ENTJ</td>\n",
              "      <td>analysts</td>\n",
              "      <td>E</td>\n",
              "      <td>N</td>\n",
              "      <td>T</td>\n",
              "      <td>J</td>\n",
              "    </tr>\n",
              "    <tr>\n",
              "      <th>...</th>\n",
              "      <td>...</td>\n",
              "      <td>...</td>\n",
              "      <td>...</td>\n",
              "      <td>...</td>\n",
              "      <td>...</td>\n",
              "      <td>...</td>\n",
              "      <td>...</td>\n",
              "      <td>...</td>\n",
              "    </tr>\n",
              "    <tr>\n",
              "      <th>499609</th>\n",
              "      <td>zaimoglu</td>\n",
              "      <td>zlatan ıbrahimovic türkiye katil</td>\n",
              "      <td>ESFJ</td>\n",
              "      <td>sentinels</td>\n",
              "      <td>E</td>\n",
              "      <td>S</td>\n",
              "      <td>F</td>\n",
              "      <td>J</td>\n",
              "    </tr>\n",
              "    <tr>\n",
              "      <th>499610</th>\n",
              "      <td>zaimoglu</td>\n",
              "      <td>tarih tarihteki büyük yalan yalancı şike opera...</td>\n",
              "      <td>ESFJ</td>\n",
              "      <td>sentinels</td>\n",
              "      <td>E</td>\n",
              "      <td>S</td>\n",
              "      <td>F</td>\n",
              "      <td>J</td>\n",
              "    </tr>\n",
              "    <tr>\n",
              "      <th>499611</th>\n",
              "      <td>zaimoglu</td>\n",
              "      <td>akp chp koalisyon hayal koalisyon</td>\n",
              "      <td>ESFJ</td>\n",
              "      <td>sentinels</td>\n",
              "      <td>E</td>\n",
              "      <td>S</td>\n",
              "      <td>F</td>\n",
              "      <td>J</td>\n",
              "    </tr>\n",
              "    <tr>\n",
              "      <th>499612</th>\n",
              "      <td>zaimoglu</td>\n",
              "      <td>trabzon trabzonlu insan hamsi de diyen fenerba...</td>\n",
              "      <td>ESFJ</td>\n",
              "      <td>sentinels</td>\n",
              "      <td>E</td>\n",
              "      <td>S</td>\n",
              "      <td>F</td>\n",
              "      <td>J</td>\n",
              "    </tr>\n",
              "    <tr>\n",
              "      <th>499613</th>\n",
              "      <td>zaimoglu</td>\n",
              "      <td>caner tasla taslama zonguldak panel katıl katı...</td>\n",
              "      <td>ESFJ</td>\n",
              "      <td>sentinels</td>\n",
              "      <td>E</td>\n",
              "      <td>S</td>\n",
              "      <td>F</td>\n",
              "      <td>J</td>\n",
              "    </tr>\n",
              "  </tbody>\n",
              "</table>\n",
              "<p>499614 rows × 8 columns</p>\n",
              "</div>"
            ],
            "text/plain": [
              "            user                                              entry  ... T/F J/P\n",
              "0       19991991  ekşi itiraf dön dolaş gel kendi çat problem ge...  ...   T   J\n",
              "1       19991991  selda bağcan ses dinle dinleyebil dinleyebilme...  ...   T   J\n",
              "2       19991991  eski sevgili mutlu ol olma iste isteyen insan ...  ...   T   J\n",
              "3       19991991  veda et ederken not bırak bırakmak fark farklı...  ...   T   J\n",
              "4       19991991  ingiliz aksa ara bayıl bayıldık konuş konuşan ...  ...   T   J\n",
              "...          ...                                                ...  ...  ..  ..\n",
              "499609  zaimoglu                   zlatan ıbrahimovic türkiye katil  ...   F   J\n",
              "499610  zaimoglu  tarih tarihteki büyük yalan yalancı şike opera...  ...   F   J\n",
              "499611  zaimoglu                  akp chp koalisyon hayal koalisyon  ...   F   J\n",
              "499612  zaimoglu  trabzon trabzonlu insan hamsi de diyen fenerba...  ...   F   J\n",
              "499613  zaimoglu  caner tasla taslama zonguldak panel katıl katı...  ...   F   J\n",
              "\n",
              "[499614 rows x 8 columns]"
            ]
          },
          "metadata": {
            "tags": []
          },
          "execution_count": 57
        }
      ]
    },
    {
      "cell_type": "code",
      "metadata": {
        "id": "c5f5aZcFCAio",
        "colab_type": "code",
        "colab": {
          "base_uri": "https://localhost:8080/",
          "height": 419
        },
        "outputId": "879d0443-de2a-4902-cf17-6d634263012e"
      },
      "source": [
        "equal_entries_df = equal_entries_df.sample(frac=1).reset_index(drop=True)\n",
        "\n",
        "equal_entries_df"
      ],
      "execution_count": 58,
      "outputs": [
        {
          "output_type": "execute_result",
          "data": {
            "text/html": [
              "<div>\n",
              "<style scoped>\n",
              "    .dataframe tbody tr th:only-of-type {\n",
              "        vertical-align: middle;\n",
              "    }\n",
              "\n",
              "    .dataframe tbody tr th {\n",
              "        vertical-align: top;\n",
              "    }\n",
              "\n",
              "    .dataframe thead th {\n",
              "        text-align: right;\n",
              "    }\n",
              "</style>\n",
              "<table border=\"1\" class=\"dataframe\">\n",
              "  <thead>\n",
              "    <tr style=\"text-align: right;\">\n",
              "      <th></th>\n",
              "      <th>user</th>\n",
              "      <th>entry</th>\n",
              "      <th>type</th>\n",
              "      <th>typeClass</th>\n",
              "      <th>I/E</th>\n",
              "      <th>S/N</th>\n",
              "      <th>T/F</th>\n",
              "      <th>J/P</th>\n",
              "    </tr>\n",
              "  </thead>\n",
              "  <tbody>\n",
              "    <tr>\n",
              "      <th>0</th>\n",
              "      <td>zipirinsan</td>\n",
              "      <td>statik elektrik bu yük yüklü ortam gezin gezin...</td>\n",
              "      <td>INTP</td>\n",
              "      <td>analysts</td>\n",
              "      <td>I</td>\n",
              "      <td>N</td>\n",
              "      <td>T</td>\n",
              "      <td>P</td>\n",
              "    </tr>\n",
              "    <tr>\n",
              "      <th>1</th>\n",
              "      <td>esseksurprizi</td>\n",
              "      <td>martı simit telefon at atan kız dram oğul simi...</td>\n",
              "      <td>ENTP</td>\n",
              "      <td>analysts</td>\n",
              "      <td>E</td>\n",
              "      <td>N</td>\n",
              "      <td>T</td>\n",
              "      <td>P</td>\n",
              "    </tr>\n",
              "    <tr>\n",
              "      <th>2</th>\n",
              "      <td>toblerone denizindeki jelibon</td>\n",
              "      <td>kendi yalan söyle uyan uyandık ses anne UNK ka...</td>\n",
              "      <td>INFP</td>\n",
              "      <td>diplomats</td>\n",
              "      <td>I</td>\n",
              "      <td>N</td>\n",
              "      <td>F</td>\n",
              "      <td>P</td>\n",
              "    </tr>\n",
              "    <tr>\n",
              "      <th>3</th>\n",
              "      <td>euchre</td>\n",
              "      <td>çalık çalık simon UNK akustik element adam ram...</td>\n",
              "      <td>ENTJ</td>\n",
              "      <td>analysts</td>\n",
              "      <td>E</td>\n",
              "      <td>N</td>\n",
              "      <td>T</td>\n",
              "      <td>J</td>\n",
              "    </tr>\n",
              "    <tr>\n",
              "      <th>4</th>\n",
              "      <td>girdaptaki</td>\n",
              "      <td>yavuz çetin aylin aslı yazı kalem al aldık değ...</td>\n",
              "      <td>INFJ</td>\n",
              "      <td>diplomats</td>\n",
              "      <td>I</td>\n",
              "      <td>N</td>\n",
              "      <td>F</td>\n",
              "      <td>J</td>\n",
              "    </tr>\n",
              "    <tr>\n",
              "      <th>...</th>\n",
              "      <td>...</td>\n",
              "      <td>...</td>\n",
              "      <td>...</td>\n",
              "      <td>...</td>\n",
              "      <td>...</td>\n",
              "      <td>...</td>\n",
              "      <td>...</td>\n",
              "      <td>...</td>\n",
              "    </tr>\n",
              "    <tr>\n",
              "      <th>499609</th>\n",
              "      <td>n8</td>\n",
              "      <td>ekim anderlecht fenerbahçe maç anderlecht bakk...</td>\n",
              "      <td>ENFJ</td>\n",
              "      <td>diplomats</td>\n",
              "      <td>E</td>\n",
              "      <td>N</td>\n",
              "      <td>F</td>\n",
              "      <td>J</td>\n",
              "    </tr>\n",
              "    <tr>\n",
              "      <th>499610</th>\n",
              "      <td>corwin</td>\n",
              "      <td>gay biri arkadaş iste istemeyen erkek homoseks...</td>\n",
              "      <td>ENFP</td>\n",
              "      <td>diplomats</td>\n",
              "      <td>E</td>\n",
              "      <td>N</td>\n",
              "      <td>F</td>\n",
              "      <td>P</td>\n",
              "    </tr>\n",
              "    <tr>\n",
              "      <th>499611</th>\n",
              "      <td>carbonifera</td>\n",
              "      <td>nisan büyük beşiktaş tiyatro sayın UNK camia m...</td>\n",
              "      <td>INTJ</td>\n",
              "      <td>analysts</td>\n",
              "      <td>I</td>\n",
              "      <td>N</td>\n",
              "      <td>T</td>\n",
              "      <td>J</td>\n",
              "    </tr>\n",
              "    <tr>\n",
              "      <th>499612</th>\n",
              "      <td>patlak fermuar</td>\n",
              "      <td>kanepe uyu uyumak oda ol olmadık kendi bil bil...</td>\n",
              "      <td>ENTJ</td>\n",
              "      <td>analysts</td>\n",
              "      <td>E</td>\n",
              "      <td>N</td>\n",
              "      <td>T</td>\n",
              "      <td>J</td>\n",
              "    </tr>\n",
              "    <tr>\n",
              "      <th>499613</th>\n",
              "      <td>asabi</td>\n",
              "      <td>mart trabzonspor galatasaray maç yattara volka...</td>\n",
              "      <td>ISFP</td>\n",
              "      <td>explorers</td>\n",
              "      <td>I</td>\n",
              "      <td>S</td>\n",
              "      <td>F</td>\n",
              "      <td>P</td>\n",
              "    </tr>\n",
              "  </tbody>\n",
              "</table>\n",
              "<p>499614 rows × 8 columns</p>\n",
              "</div>"
            ],
            "text/plain": [
              "                                 user  ... J/P\n",
              "0                          zipirinsan  ...   P\n",
              "1                       esseksurprizi  ...   P\n",
              "2       toblerone denizindeki jelibon  ...   P\n",
              "3                              euchre  ...   J\n",
              "4                          girdaptaki  ...   J\n",
              "...                               ...  ...  ..\n",
              "499609                             n8  ...   J\n",
              "499610                         corwin  ...   P\n",
              "499611                    carbonifera  ...   J\n",
              "499612                 patlak fermuar  ...   J\n",
              "499613                          asabi  ...   P\n",
              "\n",
              "[499614 rows x 8 columns]"
            ]
          },
          "metadata": {
            "tags": []
          },
          "execution_count": 58
        }
      ]
    },
    {
      "cell_type": "code",
      "metadata": {
        "id": "c75OFxJkCAiv",
        "colab_type": "code",
        "colab": {
          "base_uri": "https://localhost:8080/",
          "height": 143
        },
        "outputId": "33165fed-2bd2-46fc-ef38-7e549a190446"
      },
      "source": [
        "tfidf_vectorizer = TfidfVectorizer(sublinear_tf=True, norm='l2', encoding='utf-8', ngram_range=(1, 1), max_features=1000)\n",
        "tfidf_vectorizer.fit(equal_entries_df['entry'])"
      ],
      "execution_count": 59,
      "outputs": [
        {
          "output_type": "execute_result",
          "data": {
            "text/plain": [
              "TfidfVectorizer(analyzer='word', binary=False, decode_error='strict',\n",
              "                dtype=<class 'numpy.float64'>, encoding='utf-8',\n",
              "                input='content', lowercase=True, max_df=1.0, max_features=1000,\n",
              "                min_df=1, ngram_range=(1, 1), norm='l2', preprocessor=None,\n",
              "                smooth_idf=True, stop_words=None, strip_accents=None,\n",
              "                sublinear_tf=True, token_pattern='(?u)\\\\b\\\\w\\\\w+\\\\b',\n",
              "                tokenizer=None, use_idf=True, vocabulary=None)"
            ]
          },
          "metadata": {
            "tags": []
          },
          "execution_count": 59
        }
      ]
    },
    {
      "cell_type": "code",
      "metadata": {
        "colab_type": "code",
        "id": "qKVLLnYJwOHR",
        "colab": {}
      },
      "source": [
        "X_train, X_test, y_train, y_test = train_test_split(equal_entries_df['entry'], equal_entries_df['T/F'], random_state = 42)  ##  J\n",
        "\n",
        "X_train_tfidf = tfidf_vectorizer.transform(X_train)\n",
        "X_test_tfidf = tfidf_vectorizer.transform(X_test)\n",
        "\n",
        "clf = MultinomialNB().fit(X_train_tfidf, y_train)\n",
        "test_typeClass = y_test.values\n",
        "\n",
        "predictions = clf.predict(X_test_tfidf)"
      ],
      "execution_count": 0,
      "outputs": []
    },
    {
      "cell_type": "code",
      "metadata": {
        "colab_type": "code",
        "id": "839RnfNfwT77",
        "outputId": "934f075b-08c8-4f0d-945f-a7a7b67d86cb",
        "colab": {
          "base_uri": "https://localhost:8080/",
          "height": 125
        }
      },
      "source": [
        "predicted['T'] = {'actual': {'T': 0, 'F': 0}}\n",
        "predicted['F'] = {'actual': {'T': 0, 'F': 0}}\n",
        "\n",
        "predicted"
      ],
      "execution_count": 61,
      "outputs": [
        {
          "output_type": "execute_result",
          "data": {
            "text/plain": [
              "{'E': {'actual': {'E': 31256, 'I': 24597}},\n",
              " 'F': {'actual': {'F': 0, 'T': 0}},\n",
              " 'I': {'actual': {'E': 33339, 'I': 40230}},\n",
              " 'N': {'actual': {'N': 19194, 'S': 15018}},\n",
              " 'S': {'actual': {'N': 17757, 'S': 21881}},\n",
              " 'T': {'actual': {'F': 0, 'T': 0}}}"
            ]
          },
          "metadata": {
            "tags": []
          },
          "execution_count": 61
        }
      ]
    },
    {
      "cell_type": "code",
      "metadata": {
        "colab_type": "code",
        "id": "sd9lUb13wbdK",
        "colab": {}
      },
      "source": [
        "for i in range(len(predictions)):\n",
        "  predicted[predictions[i]]['actual'][test_typeClass[i]] += 1"
      ],
      "execution_count": 0,
      "outputs": []
    },
    {
      "cell_type": "code",
      "metadata": {
        "colab_type": "code",
        "id": "Js9--v33ws5A",
        "outputId": "768fa789-853d-4079-d816-08b5c40a82a9",
        "colab": {
          "base_uri": "https://localhost:8080/",
          "height": 125
        }
      },
      "source": [
        "predicted"
      ],
      "execution_count": 63,
      "outputs": [
        {
          "output_type": "execute_result",
          "data": {
            "text/plain": [
              "{'E': {'actual': {'E': 31256, 'I': 24597}},\n",
              " 'F': {'actual': {'F': 30223, 'T': 21872}},\n",
              " 'I': {'actual': {'E': 33339, 'I': 40230}},\n",
              " 'N': {'actual': {'N': 19194, 'S': 15018}},\n",
              " 'S': {'actual': {'N': 17757, 'S': 21881}},\n",
              " 'T': {'actual': {'F': 32590, 'T': 40219}}}"
            ]
          },
          "metadata": {
            "tags": []
          },
          "execution_count": 63
        }
      ]
    },
    {
      "cell_type": "code",
      "metadata": {
        "colab_type": "code",
        "id": "i2ycKt6ZwuOC",
        "colab": {}
      },
      "source": [
        "accuracy = (predicted['F']['actual']['F'] + predicted['T']['actual']['T']) / len(predictions)"
      ],
      "execution_count": 0,
      "outputs": []
    },
    {
      "cell_type": "code",
      "metadata": {
        "colab_type": "code",
        "id": "5WkLA4z8x12q",
        "outputId": "8795befa-f5ab-4f9d-b238-e01f8606aa95",
        "colab": {
          "base_uri": "https://localhost:8080/",
          "height": 35
        }
      },
      "source": [
        "accuracy"
      ],
      "execution_count": 65,
      "outputs": [
        {
          "output_type": "execute_result",
          "data": {
            "text/plain": [
              "0.5639691282905271"
            ]
          },
          "metadata": {
            "tags": []
          },
          "execution_count": 65
        }
      ]
    },
    {
      "cell_type": "markdown",
      "metadata": {
        "id": "L7XVpdnvCAjB",
        "colab_type": "text"
      },
      "source": [
        "## J/P Boyut Tahmini"
      ]
    },
    {
      "cell_type": "markdown",
      "metadata": {
        "colab_type": "text",
        "id": "APORaOlVHPZh"
      },
      "source": [
        "<span style=\"font-size:1.1em\">**J/P** boyutu tahmin edilir.</span>"
      ]
    },
    {
      "cell_type": "code",
      "metadata": {
        "id": "PY2n1WobCAjD",
        "colab_type": "code",
        "colab": {
          "base_uri": "https://localhost:8080/",
          "height": 35
        },
        "outputId": "31c6b6eb-0c3f-444c-b251-974552880efe"
      },
      "source": [
        "min_entry = df.groupby('J/P', as_index = False).count().min().entry\n",
        "\n",
        "min_entry"
      ],
      "execution_count": 66,
      "outputs": [
        {
          "output_type": "execute_result",
          "data": {
            "text/plain": [
              "255859"
            ]
          },
          "metadata": {
            "tags": []
          },
          "execution_count": 66
        }
      ]
    },
    {
      "cell_type": "code",
      "metadata": {
        "id": "ysnPZDvFCAjF",
        "colab_type": "code",
        "colab": {
          "base_uri": "https://localhost:8080/",
          "height": 35
        },
        "outputId": "1d2ca2d7-479f-4ab5-ac8d-3c744a57dd81"
      },
      "source": [
        "J_df = df[df['J/P'] == 'J']\n",
        "J_df = J_df.iloc[0 : min_entry]\n",
        "\n",
        "J_df.shape[0]"
      ],
      "execution_count": 67,
      "outputs": [
        {
          "output_type": "execute_result",
          "data": {
            "text/plain": [
              "255859"
            ]
          },
          "metadata": {
            "tags": []
          },
          "execution_count": 67
        }
      ]
    },
    {
      "cell_type": "code",
      "metadata": {
        "id": "ufI6ExufCAjI",
        "colab_type": "code",
        "colab": {
          "base_uri": "https://localhost:8080/",
          "height": 35
        },
        "outputId": "968c47c4-eff5-4859-ab6f-8d7f65484d1c"
      },
      "source": [
        "P_df = df[df['J/P'] == 'P']\n",
        "P_df = P_df.iloc[0 : min_entry]\n",
        "\n",
        "P_df.shape[0]"
      ],
      "execution_count": 68,
      "outputs": [
        {
          "output_type": "execute_result",
          "data": {
            "text/plain": [
              "255859"
            ]
          },
          "metadata": {
            "tags": []
          },
          "execution_count": 68
        }
      ]
    },
    {
      "cell_type": "code",
      "metadata": {
        "id": "HMTiX2fZCAjK",
        "colab_type": "code",
        "colab": {
          "base_uri": "https://localhost:8080/",
          "height": 419
        },
        "outputId": "78e80367-a8fb-45b7-9310-4d3a0ec402c8"
      },
      "source": [
        "equal_entries_df = pd.concat([J_df, P_df]).reset_index(drop=True)\n",
        "equal_entries_df"
      ],
      "execution_count": 69,
      "outputs": [
        {
          "output_type": "execute_result",
          "data": {
            "text/html": [
              "<div>\n",
              "<style scoped>\n",
              "    .dataframe tbody tr th:only-of-type {\n",
              "        vertical-align: middle;\n",
              "    }\n",
              "\n",
              "    .dataframe tbody tr th {\n",
              "        vertical-align: top;\n",
              "    }\n",
              "\n",
              "    .dataframe thead th {\n",
              "        text-align: right;\n",
              "    }\n",
              "</style>\n",
              "<table border=\"1\" class=\"dataframe\">\n",
              "  <thead>\n",
              "    <tr style=\"text-align: right;\">\n",
              "      <th></th>\n",
              "      <th>user</th>\n",
              "      <th>entry</th>\n",
              "      <th>type</th>\n",
              "      <th>typeClass</th>\n",
              "      <th>I/E</th>\n",
              "      <th>S/N</th>\n",
              "      <th>T/F</th>\n",
              "      <th>J/P</th>\n",
              "    </tr>\n",
              "  </thead>\n",
              "  <tbody>\n",
              "    <tr>\n",
              "      <th>0</th>\n",
              "      <td>19991991</td>\n",
              "      <td>ekşi itiraf dön dolaş gel kendi çat problem ge...</td>\n",
              "      <td>ENTJ</td>\n",
              "      <td>analysts</td>\n",
              "      <td>E</td>\n",
              "      <td>N</td>\n",
              "      <td>T</td>\n",
              "      <td>J</td>\n",
              "    </tr>\n",
              "    <tr>\n",
              "      <th>1</th>\n",
              "      <td>19991991</td>\n",
              "      <td>selda bağcan ses dinle dinleyebil dinleyebilme...</td>\n",
              "      <td>ENTJ</td>\n",
              "      <td>analysts</td>\n",
              "      <td>E</td>\n",
              "      <td>N</td>\n",
              "      <td>T</td>\n",
              "      <td>J</td>\n",
              "    </tr>\n",
              "    <tr>\n",
              "      <th>2</th>\n",
              "      <td>19991991</td>\n",
              "      <td>eski sevgili mutlu ol olma iste isteyen insan ...</td>\n",
              "      <td>ENTJ</td>\n",
              "      <td>analysts</td>\n",
              "      <td>E</td>\n",
              "      <td>N</td>\n",
              "      <td>T</td>\n",
              "      <td>J</td>\n",
              "    </tr>\n",
              "    <tr>\n",
              "      <th>3</th>\n",
              "      <td>19991991</td>\n",
              "      <td>veda et ederken not bırak bırakmak fark farklı...</td>\n",
              "      <td>ENTJ</td>\n",
              "      <td>analysts</td>\n",
              "      <td>E</td>\n",
              "      <td>N</td>\n",
              "      <td>T</td>\n",
              "      <td>J</td>\n",
              "    </tr>\n",
              "    <tr>\n",
              "      <th>4</th>\n",
              "      <td>19991991</td>\n",
              "      <td>ingiliz aksa ara bayıl bayıldık konuş konuşan ...</td>\n",
              "      <td>ENTJ</td>\n",
              "      <td>analysts</td>\n",
              "      <td>E</td>\n",
              "      <td>N</td>\n",
              "      <td>T</td>\n",
              "      <td>J</td>\n",
              "    </tr>\n",
              "    <tr>\n",
              "      <th>...</th>\n",
              "      <td>...</td>\n",
              "      <td>...</td>\n",
              "      <td>...</td>\n",
              "      <td>...</td>\n",
              "      <td>...</td>\n",
              "      <td>...</td>\n",
              "      <td>...</td>\n",
              "      <td>...</td>\n",
              "    </tr>\n",
              "    <tr>\n",
              "      <th>511713</th>\n",
              "      <td>nick kullanmak istemiyorum</td>\n",
              "      <td>sevgili mutfak de derbeder pis çiti ora dur ek...</td>\n",
              "      <td>ESFP</td>\n",
              "      <td>explorers</td>\n",
              "      <td>E</td>\n",
              "      <td>S</td>\n",
              "      <td>F</td>\n",
              "      <td>P</td>\n",
              "    </tr>\n",
              "    <tr>\n",
              "      <th>511714</th>\n",
              "      <td>nick kullanmak istemiyorum</td>\n",
              "      <td>sevgilim sevgilim büyük otobüs ücra koltuk yağ...</td>\n",
              "      <td>ESFP</td>\n",
              "      <td>explorers</td>\n",
              "      <td>E</td>\n",
              "      <td>S</td>\n",
              "      <td>F</td>\n",
              "      <td>P</td>\n",
              "    </tr>\n",
              "    <tr>\n",
              "      <th>511715</th>\n",
              "      <td>nick kullanmak istemiyorum</td>\n",
              "      <td>didem madak insan insanlık beklenti kelime sığ...</td>\n",
              "      <td>ESFP</td>\n",
              "      <td>explorers</td>\n",
              "      <td>E</td>\n",
              "      <td>S</td>\n",
              "      <td>F</td>\n",
              "      <td>P</td>\n",
              "    </tr>\n",
              "    <tr>\n",
              "      <th>511716</th>\n",
              "      <td>nick kullanmak istemiyorum</td>\n",
              "      <td>baba kız şehvet duy duyma yıl kız tecavüz heri...</td>\n",
              "      <td>ESFP</td>\n",
              "      <td>explorers</td>\n",
              "      <td>E</td>\n",
              "      <td>S</td>\n",
              "      <td>F</td>\n",
              "      <td>P</td>\n",
              "    </tr>\n",
              "    <tr>\n",
              "      <th>511717</th>\n",
              "      <td>nick kullanmak istemiyorum</td>\n",
              "      <td>tecavüz uğra uğrayan küçük intihar karanlık ta...</td>\n",
              "      <td>ESFP</td>\n",
              "      <td>explorers</td>\n",
              "      <td>E</td>\n",
              "      <td>S</td>\n",
              "      <td>F</td>\n",
              "      <td>P</td>\n",
              "    </tr>\n",
              "  </tbody>\n",
              "</table>\n",
              "<p>511718 rows × 8 columns</p>\n",
              "</div>"
            ],
            "text/plain": [
              "                              user  ... J/P\n",
              "0                         19991991  ...   J\n",
              "1                         19991991  ...   J\n",
              "2                         19991991  ...   J\n",
              "3                         19991991  ...   J\n",
              "4                         19991991  ...   J\n",
              "...                            ...  ...  ..\n",
              "511713  nick kullanmak istemiyorum  ...   P\n",
              "511714  nick kullanmak istemiyorum  ...   P\n",
              "511715  nick kullanmak istemiyorum  ...   P\n",
              "511716  nick kullanmak istemiyorum  ...   P\n",
              "511717  nick kullanmak istemiyorum  ...   P\n",
              "\n",
              "[511718 rows x 8 columns]"
            ]
          },
          "metadata": {
            "tags": []
          },
          "execution_count": 69
        }
      ]
    },
    {
      "cell_type": "code",
      "metadata": {
        "id": "phi9Ny23CAjM",
        "colab_type": "code",
        "colab": {
          "base_uri": "https://localhost:8080/",
          "height": 419
        },
        "outputId": "de72e853-767e-426c-fcdf-1b6c0be1e42e"
      },
      "source": [
        "equal_entries_df = equal_entries_df.sample(frac=1).reset_index(drop=True)\n",
        "\n",
        "equal_entries_df"
      ],
      "execution_count": 70,
      "outputs": [
        {
          "output_type": "execute_result",
          "data": {
            "text/html": [
              "<div>\n",
              "<style scoped>\n",
              "    .dataframe tbody tr th:only-of-type {\n",
              "        vertical-align: middle;\n",
              "    }\n",
              "\n",
              "    .dataframe tbody tr th {\n",
              "        vertical-align: top;\n",
              "    }\n",
              "\n",
              "    .dataframe thead th {\n",
              "        text-align: right;\n",
              "    }\n",
              "</style>\n",
              "<table border=\"1\" class=\"dataframe\">\n",
              "  <thead>\n",
              "    <tr style=\"text-align: right;\">\n",
              "      <th></th>\n",
              "      <th>user</th>\n",
              "      <th>entry</th>\n",
              "      <th>type</th>\n",
              "      <th>typeClass</th>\n",
              "      <th>I/E</th>\n",
              "      <th>S/N</th>\n",
              "      <th>T/F</th>\n",
              "      <th>J/P</th>\n",
              "    </tr>\n",
              "  </thead>\n",
              "  <tbody>\n",
              "    <tr>\n",
              "      <th>0</th>\n",
              "      <td>faili basaksehir</td>\n",
              "      <td>taksim özel harekat harekatçı devriye gez gezm...</td>\n",
              "      <td>ENFP</td>\n",
              "      <td>diplomats</td>\n",
              "      <td>E</td>\n",
              "      <td>N</td>\n",
              "      <td>F</td>\n",
              "      <td>P</td>\n",
              "    </tr>\n",
              "    <tr>\n",
              "      <th>1</th>\n",
              "      <td>kyha</td>\n",
              "      <td>UNK UNK ideal asker UNK</td>\n",
              "      <td>INTP</td>\n",
              "      <td>analysts</td>\n",
              "      <td>I</td>\n",
              "      <td>N</td>\n",
              "      <td>T</td>\n",
              "      <td>P</td>\n",
              "    </tr>\n",
              "    <tr>\n",
              "      <th>2</th>\n",
              "      <td>yevcin</td>\n",
              "      <td>beyin yak yakan karadeniz karadenizli röportaj...</td>\n",
              "      <td>ISFJ</td>\n",
              "      <td>sentinels</td>\n",
              "      <td>I</td>\n",
              "      <td>S</td>\n",
              "      <td>F</td>\n",
              "      <td>J</td>\n",
              "    </tr>\n",
              "    <tr>\n",
              "      <th>3</th>\n",
              "      <td>n8</td>\n",
              "      <td>garry mendes rodrigues garry mod oyun oyuncu</td>\n",
              "      <td>ENFJ</td>\n",
              "      <td>diplomats</td>\n",
              "      <td>E</td>\n",
              "      <td>N</td>\n",
              "      <td>F</td>\n",
              "      <td>J</td>\n",
              "    </tr>\n",
              "    <tr>\n",
              "      <th>4</th>\n",
              "      <td>kendisinin bir ucu</td>\n",
              "      <td>evlilik teklif kadın büyük organizasyon yap ya...</td>\n",
              "      <td>ISTJ</td>\n",
              "      <td>sentinels</td>\n",
              "      <td>I</td>\n",
              "      <td>S</td>\n",
              "      <td>T</td>\n",
              "      <td>J</td>\n",
              "    </tr>\n",
              "    <tr>\n",
              "      <th>...</th>\n",
              "      <td>...</td>\n",
              "      <td>...</td>\n",
              "      <td>...</td>\n",
              "      <td>...</td>\n",
              "      <td>...</td>\n",
              "      <td>...</td>\n",
              "      <td>...</td>\n",
              "      <td>...</td>\n",
              "    </tr>\n",
              "    <tr>\n",
              "      <th>511713</th>\n",
              "      <td>dsus2</td>\n",
              "      <td>sözlük sözlükçü ihtiyaç vücut melatonin hormon...</td>\n",
              "      <td>INTP</td>\n",
              "      <td>analysts</td>\n",
              "      <td>I</td>\n",
              "      <td>N</td>\n",
              "      <td>T</td>\n",
              "      <td>P</td>\n",
              "    </tr>\n",
              "    <tr>\n",
              "      <th>511714</th>\n",
              "      <td>fuckgloballythinklocally</td>\n",
              "      <td>elit kesim çocuk koy koyduk UNK isim elit kesi...</td>\n",
              "      <td>ISTJ</td>\n",
              "      <td>sentinels</td>\n",
              "      <td>I</td>\n",
              "      <td>S</td>\n",
              "      <td>T</td>\n",
              "      <td>J</td>\n",
              "    </tr>\n",
              "    <tr>\n",
              "      <th>511715</th>\n",
              "      <td>zipirinsan</td>\n",
              "      <td>tecavüz dizi film izle izlemek nefret et ettik...</td>\n",
              "      <td>INTP</td>\n",
              "      <td>analysts</td>\n",
              "      <td>I</td>\n",
              "      <td>N</td>\n",
              "      <td>T</td>\n",
              "      <td>P</td>\n",
              "    </tr>\n",
              "    <tr>\n",
              "      <th>511716</th>\n",
              "      <td>incir agaci golgesinde</td>\n",
              "      <td>haziran rte öğretmen tepki UNK küsür üniversit...</td>\n",
              "      <td>ISTJ</td>\n",
              "      <td>sentinels</td>\n",
              "      <td>I</td>\n",
              "      <td>S</td>\n",
              "      <td>T</td>\n",
              "      <td>J</td>\n",
              "    </tr>\n",
              "    <tr>\n",
              "      <th>511717</th>\n",
              "      <td>gentoure</td>\n",
              "      <td>ıron pist kalite kaliteli marvel karakter mada...</td>\n",
              "      <td>ENFJ</td>\n",
              "      <td>diplomats</td>\n",
              "      <td>E</td>\n",
              "      <td>N</td>\n",
              "      <td>F</td>\n",
              "      <td>J</td>\n",
              "    </tr>\n",
              "  </tbody>\n",
              "</table>\n",
              "<p>511718 rows × 8 columns</p>\n",
              "</div>"
            ],
            "text/plain": [
              "                            user  ... J/P\n",
              "0               faili basaksehir  ...   P\n",
              "1                           kyha  ...   P\n",
              "2                         yevcin  ...   J\n",
              "3                             n8  ...   J\n",
              "4             kendisinin bir ucu  ...   J\n",
              "...                          ...  ...  ..\n",
              "511713                     dsus2  ...   P\n",
              "511714  fuckgloballythinklocally  ...   J\n",
              "511715                zipirinsan  ...   P\n",
              "511716    incir agaci golgesinde  ...   J\n",
              "511717                  gentoure  ...   J\n",
              "\n",
              "[511718 rows x 8 columns]"
            ]
          },
          "metadata": {
            "tags": []
          },
          "execution_count": 70
        }
      ]
    },
    {
      "cell_type": "code",
      "metadata": {
        "id": "6QNUqNfBCAjP",
        "colab_type": "code",
        "colab": {
          "base_uri": "https://localhost:8080/",
          "height": 143
        },
        "outputId": "64f9d306-5233-4ff8-f25b-e457c5331104"
      },
      "source": [
        "tfidf_vectorizer = TfidfVectorizer(sublinear_tf=True, norm='l2', encoding='utf-8', ngram_range=(1, 1), max_features=1000)\n",
        "tfidf_vectorizer.fit(equal_entries_df['entry'])"
      ],
      "execution_count": 71,
      "outputs": [
        {
          "output_type": "execute_result",
          "data": {
            "text/plain": [
              "TfidfVectorizer(analyzer='word', binary=False, decode_error='strict',\n",
              "                dtype=<class 'numpy.float64'>, encoding='utf-8',\n",
              "                input='content', lowercase=True, max_df=1.0, max_features=1000,\n",
              "                min_df=1, ngram_range=(1, 1), norm='l2', preprocessor=None,\n",
              "                smooth_idf=True, stop_words=None, strip_accents=None,\n",
              "                sublinear_tf=True, token_pattern='(?u)\\\\b\\\\w\\\\w+\\\\b',\n",
              "                tokenizer=None, use_idf=True, vocabulary=None)"
            ]
          },
          "metadata": {
            "tags": []
          },
          "execution_count": 71
        }
      ]
    },
    {
      "cell_type": "code",
      "metadata": {
        "colab_type": "code",
        "id": "UuEb2k8Qx41D",
        "colab": {}
      },
      "source": [
        "X_train, X_test, y_train, y_test = train_test_split(equal_entries_df['entry'], equal_entries_df['J/P'], random_state = 42) \n",
        "\n",
        "X_train_tfidf = tfidf_vectorizer.transform(X_train)\n",
        "X_test_tfidf = tfidf_vectorizer.transform(X_test)\n",
        "\n",
        "clf = MultinomialNB().fit(X_train_tfidf, y_train)\n",
        "test_typeClass = y_test.values\n",
        "\n",
        "predictions = clf.predict(X_test_tfidf)"
      ],
      "execution_count": 0,
      "outputs": []
    },
    {
      "cell_type": "code",
      "metadata": {
        "colab_type": "code",
        "id": "Dw-8uFkbx9m7",
        "outputId": "16efbb2b-3c9d-46b5-c73b-b10da3f7b988",
        "colab": {
          "base_uri": "https://localhost:8080/",
          "height": 161
        }
      },
      "source": [
        "predicted['J'] = {'actual': {'J': 0, 'P': 0}}\n",
        "predicted['P'] = {'actual': {'J': 0, 'P': 0}}\n",
        "\n",
        "predicted"
      ],
      "execution_count": 73,
      "outputs": [
        {
          "output_type": "execute_result",
          "data": {
            "text/plain": [
              "{'E': {'actual': {'E': 31256, 'I': 24597}},\n",
              " 'F': {'actual': {'F': 30223, 'T': 21872}},\n",
              " 'I': {'actual': {'E': 33339, 'I': 40230}},\n",
              " 'J': {'actual': {'J': 0, 'P': 0}},\n",
              " 'N': {'actual': {'N': 19194, 'S': 15018}},\n",
              " 'P': {'actual': {'J': 0, 'P': 0}},\n",
              " 'S': {'actual': {'N': 17757, 'S': 21881}},\n",
              " 'T': {'actual': {'F': 32590, 'T': 40219}}}"
            ]
          },
          "metadata": {
            "tags": []
          },
          "execution_count": 73
        }
      ]
    },
    {
      "cell_type": "code",
      "metadata": {
        "colab_type": "code",
        "id": "dYu5m1TRyGNB",
        "colab": {}
      },
      "source": [
        "for i in range(len(predictions)):\n",
        "  predicted[predictions[i]]['actual'][test_typeClass[i]] += 1"
      ],
      "execution_count": 0,
      "outputs": []
    },
    {
      "cell_type": "code",
      "metadata": {
        "colab_type": "code",
        "id": "PHsAWw-6yOdi",
        "outputId": "743bb94d-b640-44c5-e4e1-d9e0013e82db",
        "colab": {
          "base_uri": "https://localhost:8080/",
          "height": 161
        }
      },
      "source": [
        "predicted"
      ],
      "execution_count": 75,
      "outputs": [
        {
          "output_type": "execute_result",
          "data": {
            "text/plain": [
              "{'E': {'actual': {'E': 31256, 'I': 24597}},\n",
              " 'F': {'actual': {'F': 30223, 'T': 21872}},\n",
              " 'I': {'actual': {'E': 33339, 'I': 40230}},\n",
              " 'J': {'actual': {'J': 33837, 'P': 27355}},\n",
              " 'N': {'actual': {'N': 19194, 'S': 15018}},\n",
              " 'P': {'actual': {'J': 29695, 'P': 37043}},\n",
              " 'S': {'actual': {'N': 17757, 'S': 21881}},\n",
              " 'T': {'actual': {'F': 32590, 'T': 40219}}}"
            ]
          },
          "metadata": {
            "tags": []
          },
          "execution_count": 75
        }
      ]
    },
    {
      "cell_type": "code",
      "metadata": {
        "colab_type": "code",
        "id": "LHYecNUuyQGL",
        "colab": {}
      },
      "source": [
        "accuracy = (predicted['P']['actual']['P'] + predicted['J']['actual']['J']) / len(predictions)"
      ],
      "execution_count": 0,
      "outputs": []
    },
    {
      "cell_type": "code",
      "metadata": {
        "colab_type": "code",
        "id": "jtNZq3mTyW6r",
        "outputId": "f08c5cf1-26f5-4202-fe3d-a7983f34e384",
        "colab": {
          "base_uri": "https://localhost:8080/",
          "height": 35
        }
      },
      "source": [
        "accuracy"
      ],
      "execution_count": 77,
      "outputs": [
        {
          "output_type": "execute_result",
          "data": {
            "text/plain": [
              "0.5540529977331353"
            ]
          },
          "metadata": {
            "tags": []
          },
          "execution_count": 77
        }
      ]
    },
    {
      "cell_type": "code",
      "metadata": {
        "colab_type": "code",
        "id": "MQuyqSw-yjse",
        "outputId": "2feb1b32-c01b-4784-a683-7c02204eca01",
        "colab": {
          "base_uri": "https://localhost:8080/",
          "height": 449
        }
      },
      "source": [
        "prediction_results['predicted'].update(predicted) \n",
        "\n",
        "prediction_results"
      ],
      "execution_count": 78,
      "outputs": [
        {
          "output_type": "execute_result",
          "data": {
            "text/plain": [
              "{'predicted': {'E': {'actual': {'E': 31256, 'I': 24597}},\n",
              "  'F': {'actual': {'F': 30223, 'T': 21872}},\n",
              "  'I': {'actual': {'E': 33339, 'I': 40230}},\n",
              "  'J': {'actual': {'J': 33837, 'P': 27355}},\n",
              "  'N': {'actual': {'N': 19194, 'S': 15018}},\n",
              "  'P': {'actual': {'J': 29695, 'P': 37043}},\n",
              "  'S': {'actual': {'N': 17757, 'S': 21881}},\n",
              "  'T': {'actual': {'F': 32590, 'T': 40219}},\n",
              "  'analysts': {'actual': {'analysts': 3427,\n",
              "    'diplomats': 2534,\n",
              "    'explorers': 2591,\n",
              "    'sentinels': 2438}},\n",
              "  'diplomats': {'actual': {'analysts': 1566,\n",
              "    'diplomats': 2342,\n",
              "    'explorers': 1456,\n",
              "    'sentinels': 1284}},\n",
              "  'explorers': {'actual': {'analysts': 2996,\n",
              "    'diplomats': 2933,\n",
              "    'explorers': 3937,\n",
              "    'sentinels': 2872}},\n",
              "  'sentinels': {'actual': {'analysts': 3059,\n",
              "    'diplomats': 3107,\n",
              "    'explorers': 3083,\n",
              "    'sentinels': 4305}}}}"
            ]
          },
          "metadata": {
            "tags": []
          },
          "execution_count": 78
        }
      ]
    }
  ]
}