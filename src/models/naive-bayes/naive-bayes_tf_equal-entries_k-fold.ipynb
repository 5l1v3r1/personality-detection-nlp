{
  "nbformat": 4,
  "nbformat_minor": 0,
  "metadata": {
    "colab": {
      "name": "naive-bayes_tf_equal-entries_k-fold.ipynb",
      "provenance": [],
      "collapsed_sections": []
    },
    "kernelspec": {
      "name": "python3",
      "display_name": "Python 3"
    }
  },
  "cells": [
    {
      "cell_type": "code",
      "metadata": {
        "id": "J4eu1mCaEWSR",
        "colab_type": "code",
        "colab": {}
      },
      "source": [
        ""
      ],
      "execution_count": 0,
      "outputs": []
    },
    {
      "cell_type": "markdown",
      "metadata": {
        "colab_type": "text",
        "id": "GiSnxJDrBvzH"
      },
      "source": [
        "## Verisetinin Yüklenmesi"
      ]
    },
    {
      "cell_type": "markdown",
      "metadata": {
        "colab_type": "text",
        "id": "pp6F_dK-BvzL"
      },
      "source": [
        "<span style=\"font-size:1.1em;\">Colab'a Google drive'ı entegre ediyoruz. Kullanılacak olan veriseti Google Drive'da bulunmaktadır</span>"
      ]
    },
    {
      "cell_type": "code",
      "metadata": {
        "colab_type": "code",
        "id": "0eXSt9GwBvzO",
        "colab": {}
      },
      "source": [
        "from google.colab import drive\n",
        "drive.mount('/content/gdrive')"
      ],
      "execution_count": 0,
      "outputs": []
    },
    {
      "cell_type": "code",
      "metadata": {
        "colab_type": "code",
        "id": "7duXtSRABvzY",
        "colab": {}
      },
      "source": [
        "PREPROCESSED_DATASET_WITH_STEMMER = \"gdrive/My Drive/mbti/preprocessed_dataset_with_stemming.csv\"\n",
        "PREPROCESSED_DATASET_WITHOUT_STEMMER = \"gdrive/My Drive/mbti/preprocessed_dataset_no_stemming.csv\"\n",
        "PREPROCESSED_DATASET_ZEMBEREK = \"gdrive/My Drive/mbti/preprocessed_dataset_zemberek.csv\"\n",
        "TRIMMED_DATASET = \"gdrive/My Drive/mbti/trimmed_dataset.csv\"\n",
        "RAW_DATASET = \"gdrive/My Drive/mbti/all_users_v2.csv\""
      ],
      "execution_count": 0,
      "outputs": []
    },
    {
      "cell_type": "markdown",
      "metadata": {
        "colab_type": "text",
        "id": "xNsJolflBvzg"
      },
      "source": [
        "<span style=\"font-size:1.1em;\">Hangi veriseti kullanılarak işlem yapılacaksa yukardaki pathlerden biri seçilir ve parametre olarak verilir.</span>"
      ]
    },
    {
      "cell_type": "code",
      "metadata": {
        "colab_type": "code",
        "id": "NN6XGz7OBvzj",
        "colab": {}
      },
      "source": [
        "import pandas as pd \n",
        "df = pd.read_csv(PREPROCESSED_DATASET_WITH_STEMMER, sep = ';', header = 0)"
      ],
      "execution_count": 0,
      "outputs": []
    },
    {
      "cell_type": "code",
      "metadata": {
        "colab_type": "code",
        "id": "EiFZ5FBCBvzr",
        "colab": {}
      },
      "source": [
        "df"
      ],
      "execution_count": 0,
      "outputs": []
    },
    {
      "cell_type": "markdown",
      "metadata": {
        "colab_type": "text",
        "id": "lkk5QQhHBvz0"
      },
      "source": [
        "## Feature Extraction"
      ]
    },
    {
      "cell_type": "markdown",
      "metadata": {
        "colab_type": "text",
        "id": "dZzvU-o2sc2w"
      },
      "source": [
        "<span style=\"font-size:1.1em;\">TF-IDF özellik vektörünün çıkartılmasında kullanılacak değişken aşağıda belirlenmiş olan parametrelerle oluşturulur.</span>"
      ]
    },
    {
      "cell_type": "code",
      "metadata": {
        "colab_type": "code",
        "id": "CbggMvzcY5ER",
        "colab": {}
      },
      "source": [
        "from sklearn.feature_extraction.text import CountVectorizer\n",
        "from sklearn.feature_extraction.text import TfidfTransformer"
      ],
      "execution_count": 0,
      "outputs": []
    },
    {
      "cell_type": "code",
      "metadata": {
        "colab_type": "code",
        "id": "wzSU9aILsc2x",
        "colab": {}
      },
      "source": [
        "count_vectorizer = CountVectorizer()"
      ],
      "execution_count": 0,
      "outputs": []
    },
    {
      "cell_type": "code",
      "metadata": {
        "colab_type": "code",
        "id": "p62dmJvNBv0J",
        "colab": {}
      },
      "source": [
        "import numpy as np\n",
        "\n",
        "df['entry'] = df['entry'].apply(lambda x: np.str_(x)) # ValueError: np.nan is an invalid document seklinde bir hata verdigi icin bunu asmak adina yapildi."
      ],
      "execution_count": 0,
      "outputs": []
    },
    {
      "cell_type": "markdown",
      "metadata": {
        "colab_type": "text",
        "id": "0404NRDmBv0c"
      },
      "source": [
        "## Modelin Oluşturulması"
      ]
    },
    {
      "cell_type": "markdown",
      "metadata": {
        "colab_type": "text",
        "id": "JRTpmz32fOtg"
      },
      "source": [
        "<span style=\"font-size:1.1em;\">k-Fold Cross Validation yapılarak bütün veriseti üzerinde modelin test edilmesi sağlanmıştır. k değeri kadar veriseti parçaya bölünür. k-1 tane parça train set, geriye kalan 1 parça ise test set olarak ayrılır. Ve her iterasyon sonucunda bu parçalar değiştirilir.</span>"
      ]
    },
    {
      "cell_type": "code",
      "metadata": {
        "colab_type": "code",
        "id": "CbObRS01fIzb",
        "colab": {}
      },
      "source": [
        "from sklearn.model_selection import KFold \n",
        "kFold = KFold(n_splits = 5, shuffle = True, random_state = None)"
      ],
      "execution_count": 0,
      "outputs": []
    },
    {
      "cell_type": "markdown",
      "metadata": {
        "id": "AGhowf9lZR44",
        "colab_type": "text"
      },
      "source": [
        "Sonuçları kaydedilmek için dictionary oluşturulur."
      ]
    },
    {
      "cell_type": "code",
      "metadata": {
        "id": "TYvOqK17ZRka",
        "colab_type": "code",
        "colab": {}
      },
      "source": [
        "results = {\n",
        "    'predicted': {\n",
        "        'I': {'actual': {'I': 0, 'E': 0}},\n",
        "        'E': {'actual': {'I': 0, 'E': 0}},\n",
        "\n",
        "        'S': {'actual': {'S': 0, 'N': 0}},\n",
        "        'N': {'actual': {'S': 0, 'N': 0}},\n",
        "\n",
        "        'T': {'actual': {'T': 0, 'F': 0}},\n",
        "        'F': {'actual': {'T': 0, 'F': 0}},\n",
        "\n",
        "        'J': {'actual': {'J': 0, 'P': 0}},\n",
        "        'P': {'actual': {'J': 0, 'P': 0}},\n",
        "\n",
        "        'analysts': {'actual': {'analysts': 0, 'diplomats': 0, 'explorers': 0, 'sentinels': 0}},\n",
        "        'diplomats': {'actual': {'analysts': 0, 'diplomats': 0, 'explorers': 0, 'sentinels': 0}},\n",
        "        'explorers': {'actual': {'analysts': 0, 'diplomats': 0, 'explorers': 0, 'sentinels': 0}},\n",
        "        'sentinels': {'actual': {'analysts': 0, 'diplomats': 0, 'explorers': 0, 'sentinels': 0}}\n",
        "    }\n",
        "\n",
        "}"
      ],
      "execution_count": 0,
      "outputs": []
    },
    {
      "cell_type": "markdown",
      "metadata": {
        "id": "2ClSceuobB22",
        "colab_type": "text"
      },
      "source": [
        "**typeClass** tahmin edilir"
      ]
    },
    {
      "cell_type": "code",
      "metadata": {
        "id": "jQAEQDK8EgHP",
        "colab_type": "code",
        "colab": {}
      },
      "source": [
        "min_entry = df.groupby('typeClass', as_index = False).count().min().entry"
      ],
      "execution_count": 0,
      "outputs": []
    },
    {
      "cell_type": "markdown",
      "metadata": {
        "id": "HLO2Dg8NEP6S",
        "colab_type": "text"
      },
      "source": [
        "Eşit sayıda entry olacak şekilde yeni bir dataframe olusturulur"
      ]
    },
    {
      "cell_type": "code",
      "metadata": {
        "id": "tkn7l30hEVDb",
        "colab_type": "code",
        "colab": {}
      },
      "source": [
        "analysts_df = df[df['typeClass'] == 'analysts']\n",
        "analysts_df = analysts_df.iloc[0 : min_entry]\n",
        "\n",
        "analysts_df.shape[0]\n"
      ],
      "execution_count": 0,
      "outputs": []
    },
    {
      "cell_type": "code",
      "metadata": {
        "id": "miQ93RVeFzuL",
        "colab_type": "code",
        "colab": {}
      },
      "source": [
        "explorers_df = df[df['typeClass'] == 'explorers']\n",
        "explorers_df = explorers_df.iloc[0 : min_entry]\n",
        "\n",
        "explorers_df.shape[0]"
      ],
      "execution_count": 0,
      "outputs": []
    },
    {
      "cell_type": "code",
      "metadata": {
        "id": "DnJb-ultGBy3",
        "colab_type": "code",
        "colab": {}
      },
      "source": [
        "sentinels_df = df[df['typeClass'] == 'sentinels']\n",
        "sentinels_df = sentinels_df.iloc[0 : min_entry]\n",
        "\n",
        "sentinels_df.shape[0]"
      ],
      "execution_count": 0,
      "outputs": []
    },
    {
      "cell_type": "code",
      "metadata": {
        "id": "IizE1zQiGYEA",
        "colab_type": "code",
        "colab": {}
      },
      "source": [
        "diplomats_df = df[df['typeClass'] == 'diplomats']\n",
        "\n",
        "diplomats_df = diplomats_df.iloc[0 : min_entry]\n",
        "\n",
        "diplomats_df.shape[0]"
      ],
      "execution_count": 0,
      "outputs": []
    },
    {
      "cell_type": "markdown",
      "metadata": {
        "id": "TBd-YTWcGpMO",
        "colab_type": "text"
      },
      "source": [
        "Yeni bir dataframe oluşturulur."
      ]
    },
    {
      "cell_type": "code",
      "metadata": {
        "id": "LPmQm78eG3d3",
        "colab_type": "code",
        "colab": {}
      },
      "source": [
        "equal_entries_df = pd.concat([diplomats_df, sentinels_df, explorers_df, analysts_df]).reset_index(drop=True)\n",
        "equal_entries_df"
      ],
      "execution_count": 0,
      "outputs": []
    },
    {
      "cell_type": "markdown",
      "metadata": {
        "id": "Z0u7Pm17LrOX",
        "colab_type": "text"
      },
      "source": [
        "Oluşturulan dataframe shuffle edilir."
      ]
    },
    {
      "cell_type": "code",
      "metadata": {
        "id": "1f3gk53FLuLH",
        "colab_type": "code",
        "colab": {}
      },
      "source": [
        "equal_entries_df = equal_entries_df.sample(frac=1).reset_index(drop=True)"
      ],
      "execution_count": 0,
      "outputs": []
    },
    {
      "cell_type": "code",
      "metadata": {
        "id": "4hbnqCbZL1hk",
        "colab_type": "code",
        "colab": {}
      },
      "source": [
        "equal_entries_df"
      ],
      "execution_count": 0,
      "outputs": []
    },
    {
      "cell_type": "code",
      "metadata": {
        "colab_type": "code",
        "id": "k1skQ7bRfLyQ",
        "colab": {}
      },
      "source": [
        "from sklearn.naive_bayes import MultinomialNB\n",
        "\n",
        "iteration = 1\n",
        "\n",
        "for train_indices, test_indices in kFold.split(equal_entries_df):    \n",
        "  print(\"Started iteration: {}\".format(iteration))\n",
        "  train = equal_entries_df.iloc[train_indices]\n",
        "  X_train = train['entry']\n",
        "  y_train = train['typeClass']\n",
        "\n",
        "  test  = equal_entries_df.iloc[test_indices]\n",
        "  X_test = test['entry']    \n",
        "  y_test = test['typeClass']\n",
        "\n",
        "  X_train_count = count_vectorizer.fit_transform(X_train)\n",
        "  X_test_count = count_vectorizer.transform(X_test)\n",
        "\n",
        "  tf_transformer = TfidfTransformer(use_idf=False).fit(X_train_count)\n",
        "  X_train_tf = tf_transformer.transform(X_train_count)\n",
        "  X_test_tf = tf_transformer.transform(X_test_count)\n",
        "\n",
        "  clf = MultinomialNB().fit(X_train_tf, y_train)\n",
        "  y_test = y_test.values\n",
        "  y_predicted = clf.predict(X_test_tf)\n",
        "\n",
        "  print(\"Finished iteration: {}\".format(iteration))\n",
        "  iteration += 1\n",
        "  \n",
        "  for i in range(len(y_predicted)):\n",
        "    actual = y_test[i]\n",
        "    predicted = y_predicted[i]\n",
        "    results['predicted'][predicted]['actual'][actual] += 1\n"
      ],
      "execution_count": 0,
      "outputs": []
    },
    {
      "cell_type": "markdown",
      "metadata": {
        "id": "o56cfw9zgtp0",
        "colab_type": "text"
      },
      "source": [
        "**I/E** boyutu tahmin edilir"
      ]
    },
    {
      "cell_type": "markdown",
      "metadata": {
        "colab_type": "text",
        "id": "mmFXvRhsEVqw"
      },
      "source": [
        "Eşit sayıda entry olacak şekilde yeni bir dataframe olusturulur"
      ]
    },
    {
      "cell_type": "code",
      "metadata": {
        "colab_type": "code",
        "id": "MhHr9lvsEVqy",
        "colab": {}
      },
      "source": [
        "min_entry = df.groupby('I/E', as_index = False).count().min().entry\n",
        "\n",
        "I_df = df[df['I/E'] == 'I']\n",
        "I_df = I_df.iloc[0 : min_entry]\n",
        "\n",
        "I_df.shape[0]\n"
      ],
      "execution_count": 0,
      "outputs": []
    },
    {
      "cell_type": "code",
      "metadata": {
        "colab_type": "code",
        "id": "34YWQgYwEVq6",
        "colab": {}
      },
      "source": [
        "E_df = df[df['I/E'] == 'E']\n",
        "\n",
        "E_df = E_df.iloc[0 : min_entry]\n",
        "\n",
        "E_df.shape[0]"
      ],
      "execution_count": 0,
      "outputs": []
    },
    {
      "cell_type": "markdown",
      "metadata": {
        "colab_type": "text",
        "id": "oTETkRkeEVq7"
      },
      "source": [
        "Yeni bir dataframe oluşturulur."
      ]
    },
    {
      "cell_type": "code",
      "metadata": {
        "colab_type": "code",
        "id": "dajpIgsWEVq8",
        "colab": {}
      },
      "source": [
        "equal_entries_df = pd.concat([I_df, E_df]).reset_index(drop=True)\n",
        "equal_entries_df"
      ],
      "execution_count": 0,
      "outputs": []
    },
    {
      "cell_type": "code",
      "metadata": {
        "id": "ajFgTew0gtT7",
        "colab_type": "code",
        "colab": {}
      },
      "source": [
        "iteration = 1\n",
        "\n",
        "for train_indices, test_indices in kFold.split(equal_entries_df):    \n",
        "  print(\"Started iteration: {}\".format(iteration))\n",
        "  train = equal_entries_df.iloc[train_indices]\n",
        "  X_train = train['entry']\n",
        "  y_train = train['I/E']\n",
        "\n",
        "  test  = equal_entries_df.iloc[test_indices]\n",
        "  X_test = test['entry']    \n",
        "  y_test = test['I/E']\n",
        "\n",
        "  X_train_count = count_vectorizer.fit_transform(X_train)\n",
        "  X_test_count = count_vectorizer.transform(X_test)\n",
        "\n",
        "  tf_transformer = TfidfTransformer(use_idf=False).fit(X_train_count)\n",
        "  X_train_tf = tf_transformer.transform(X_train_count)\n",
        "  X_test_tf = tf_transformer.transform(X_test_count)\n",
        "\n",
        "  clf = MultinomialNB().fit(X_train_tf, y_train)\n",
        "  y_test = y_test.values\n",
        "  y_predicted = clf.predict(X_test_tf)\n",
        "\n",
        "  print(\"Finished iteration: {}\".format(iteration))\n",
        "  iteration += 1\n",
        "  \n",
        "  for i in range(len(y_predicted)):\n",
        "    actual = y_test[i]\n",
        "    predicted = y_predicted[i]\n",
        "    results['predicted'][predicted]['actual'][actual] += 1"
      ],
      "execution_count": 0,
      "outputs": []
    },
    {
      "cell_type": "markdown",
      "metadata": {
        "id": "yHpkya56g2E8",
        "colab_type": "text"
      },
      "source": [
        "**S/N** boyutu tahmin edilir"
      ]
    },
    {
      "cell_type": "markdown",
      "metadata": {
        "colab_type": "text",
        "id": "bCerYBoGFAaQ"
      },
      "source": [
        "Eşit sayıda entry olacak şekilde yeni bir dataframe olusturulur"
      ]
    },
    {
      "cell_type": "code",
      "metadata": {
        "colab_type": "code",
        "id": "MHsLdql4FAaQ",
        "colab": {}
      },
      "source": [
        "min_entry = df.groupby('S/N', as_index = False).count().min().entry\n",
        "\n",
        "S_df = df[df['S/N'] == 'S']\n",
        "S_df = S_df.iloc[0 : min_entry]\n",
        "\n",
        "S_df.shape[0]\n"
      ],
      "execution_count": 0,
      "outputs": []
    },
    {
      "cell_type": "code",
      "metadata": {
        "colab_type": "code",
        "id": "nMQ4Vd3kFAaU",
        "colab": {}
      },
      "source": [
        "N_df = df[df['S/N'] == 'N']\n",
        "\n",
        "N_df = N_df.iloc[0 : min_entry]\n",
        "\n",
        "N_df.shape[0]"
      ],
      "execution_count": 0,
      "outputs": []
    },
    {
      "cell_type": "markdown",
      "metadata": {
        "colab_type": "text",
        "id": "Di_vHqzwFAaV"
      },
      "source": [
        "Yeni bir dataframe oluşturulur."
      ]
    },
    {
      "cell_type": "code",
      "metadata": {
        "colab_type": "code",
        "id": "i5K5qsTZFAaW",
        "colab": {}
      },
      "source": [
        "equal_entries_df = pd.concat([S_df, N_df]).reset_index(drop=True)\n",
        "equal_entries_df"
      ],
      "execution_count": 0,
      "outputs": []
    },
    {
      "cell_type": "code",
      "metadata": {
        "id": "6mf4MXcmg5Q3",
        "colab_type": "code",
        "colab": {}
      },
      "source": [
        "iteration = 1\n",
        "\n",
        "for train_indices, test_indices in kFold.split(equal_entries_df):    \n",
        "  print(\"Started iteration: {}\".format(iteration))\n",
        "  train = equal_entries_df.iloc[train_indices]\n",
        "  X_train = train['entry']\n",
        "  y_train = train['S/N']\n",
        "\n",
        "  test  = equal_entries_df.iloc[test_indices]\n",
        "  X_test = test['entry']    \n",
        "  y_test = test['S/N']\n",
        "\n",
        "  X_train_count = count_vectorizer.fit_transform(X_train)\n",
        "  X_test_count = count_vectorizer.transform(X_test)\n",
        "\n",
        "  tf_transformer = TfidfTransformer(use_idf=False).fit(X_train_count)\n",
        "  X_train_tf = tf_transformer.transform(X_train_count)\n",
        "  X_test_tf = tf_transformer.transform(X_test_count)\n",
        "\n",
        "  clf = MultinomialNB().fit(X_train_tf, y_train)\n",
        "  y_test = y_test.values\n",
        "  y_predicted = clf.predict(X_test_tf)\n",
        "\n",
        "  print(\"Finished iteration: {}\".format(iteration))\n",
        "  iteration += 1\n",
        "  \n",
        "  for i in range(len(y_predicted)):\n",
        "    actual = y_test[i]\n",
        "    predicted = y_predicted[i]\n",
        "    results['predicted'][predicted]['actual'][actual] += 1\n"
      ],
      "execution_count": 0,
      "outputs": []
    },
    {
      "cell_type": "markdown",
      "metadata": {
        "id": "9obMGboYhCm6",
        "colab_type": "text"
      },
      "source": [
        "**T/F** boyutu tahmin"
      ]
    },
    {
      "cell_type": "markdown",
      "metadata": {
        "colab_type": "text",
        "id": "Jr_-wJ5LFRkh"
      },
      "source": [
        "Eşit sayıda entry olacak şekilde yeni bir dataframe olusturulur"
      ]
    },
    {
      "cell_type": "code",
      "metadata": {
        "colab_type": "code",
        "id": "lD0ZyUuVFRki",
        "colab": {}
      },
      "source": [
        "min_entry = df.groupby('T/F', as_index = False).count().min().entry\n",
        "\n",
        "T_df = df[df['T/F'] == 'T']\n",
        "T_df = T_df.iloc[0 : min_entry]\n",
        "\n",
        "T_df.shape[0]\n"
      ],
      "execution_count": 0,
      "outputs": []
    },
    {
      "cell_type": "code",
      "metadata": {
        "colab_type": "code",
        "id": "-xOLPPLHFRkj",
        "colab": {}
      },
      "source": [
        "F_df = df[df['T/F'] == 'F']\n",
        "\n",
        "F_df = F_df.iloc[0 : min_entry]\n",
        "\n",
        "F_df.shape[0]"
      ],
      "execution_count": 0,
      "outputs": []
    },
    {
      "cell_type": "markdown",
      "metadata": {
        "colab_type": "text",
        "id": "tQayQIakFRkm"
      },
      "source": [
        "Yeni bir dataframe oluşturulur."
      ]
    },
    {
      "cell_type": "code",
      "metadata": {
        "colab_type": "code",
        "id": "Yp8Wc7VmFRkn",
        "colab": {}
      },
      "source": [
        "equal_entries_df = pd.concat([T_df, F_df]).reset_index(drop=True)\n",
        "equal_entries_df"
      ],
      "execution_count": 0,
      "outputs": []
    },
    {
      "cell_type": "code",
      "metadata": {
        "id": "GrMA5CGGhGSF",
        "colab_type": "code",
        "colab": {}
      },
      "source": [
        "iteration = 1\n",
        "\n",
        "for train_indices, test_indices in kFold.split(equal_entries_df):    \n",
        "  print(\"Started iteration: {}\".format(iteration))\n",
        "  train = equal_entries_df.iloc[train_indices]\n",
        "  X_train = train['entry']\n",
        "  y_train = train['T/F']\n",
        "\n",
        "  test  = equal_entries_df.iloc[test_indices]\n",
        "  X_test = test['entry']    \n",
        "  y_test = test['T/F']\n",
        "\n",
        "  X_train_count = count_vectorizer.fit_transform(X_train)\n",
        "  X_test_count = count_vectorizer.transform(X_test)\n",
        "\n",
        "  tf_transformer = TfidfTransformer(use_idf=False).fit(X_train_count)\n",
        "  X_train_tf = tf_transformer.transform(X_train_count)\n",
        "  X_test_tf = tf_transformer.transform(X_test_count)\n",
        "\n",
        "  clf = MultinomialNB().fit(X_train_tf, y_train)\n",
        "  y_test = y_test.values\n",
        "  y_predicted = clf.predict(X_test_tf)\n",
        "\n",
        "  print(\"Finished iteration: {}\".format(iteration))\n",
        "  iteration += 1\n",
        "  \n",
        "  for i in range(len(y_predicted)):\n",
        "    actual = y_test[i]\n",
        "    predicted = y_predicted[i]\n",
        "    results['predicted'][predicted]['actual'][actual] += 1\n"
      ],
      "execution_count": 0,
      "outputs": []
    },
    {
      "cell_type": "markdown",
      "metadata": {
        "id": "3Ab40g8JhKDy",
        "colab_type": "text"
      },
      "source": [
        "**J/P** boyutu tahmin"
      ]
    },
    {
      "cell_type": "markdown",
      "metadata": {
        "colab_type": "text",
        "id": "qiaZT6ddFe-i"
      },
      "source": [
        "Eşit sayıda entry olacak şekilde yeni bir dataframe olusturulur"
      ]
    },
    {
      "cell_type": "code",
      "metadata": {
        "colab_type": "code",
        "id": "Hk4WdTDZFe-i",
        "colab": {}
      },
      "source": [
        "min_entry = df.groupby('J/P', as_index = False).count().min().entry\n",
        "\n",
        "J_df = df[df['J/P'] == 'J']\n",
        "J_df = J_df.iloc[0 : min_entry]\n",
        "\n",
        "J_df.shape[0]\n"
      ],
      "execution_count": 0,
      "outputs": []
    },
    {
      "cell_type": "code",
      "metadata": {
        "colab_type": "code",
        "id": "l3YCsYHwFe-k",
        "colab": {}
      },
      "source": [
        "P_df = df[df['J/P'] == 'P']\n",
        "\n",
        "P_df = P_df.iloc[0 : min_entry]\n",
        "\n",
        "P_df.shape[0]"
      ],
      "execution_count": 0,
      "outputs": []
    },
    {
      "cell_type": "markdown",
      "metadata": {
        "colab_type": "text",
        "id": "P89ZuFVgFe-m"
      },
      "source": [
        "Yeni bir dataframe oluşturulur."
      ]
    },
    {
      "cell_type": "code",
      "metadata": {
        "colab_type": "code",
        "id": "gb4IQo1QFe-o",
        "colab": {}
      },
      "source": [
        "equal_entries_df = pd.concat([J_df, P_df]).reset_index(drop=True)\n",
        "equal_entries_df"
      ],
      "execution_count": 0,
      "outputs": []
    },
    {
      "cell_type": "code",
      "metadata": {
        "id": "FdQaRJz3hKVe",
        "colab_type": "code",
        "colab": {}
      },
      "source": [
        "iteration = 1\n",
        "\n",
        "for train_indices, test_indices in kFold.split(equal_entries_df):    \n",
        "  print(\"Started iteration: {}\".format(iteration))\n",
        "  train = equal_entries_df.iloc[train_indices]\n",
        "  X_train = train['entry']\n",
        "  y_train = train['J/P']\n",
        "\n",
        "  test  = equal_entries_df.iloc[test_indices]\n",
        "  X_test = test['entry']    \n",
        "  y_test = test['J/P']\n",
        "\n",
        "  X_train_count = count_vectorizer.fit_transform(X_train)\n",
        "  X_test_count = count_vectorizer.transform(X_test)\n",
        "\n",
        "  tf_transformer = TfidfTransformer(use_idf=False).fit(X_train_count)\n",
        "  X_train_tf = tf_transformer.transform(X_train_count)\n",
        "  X_test_tf = tf_transformer.transform(X_test_count)\n",
        "\n",
        "  clf = MultinomialNB().fit(X_train_tf, y_train)\n",
        "  y_test = y_test.values\n",
        "  y_predicted = clf.predict(X_test_tf)\n",
        "\n",
        "  print(\"Finished iteration: {}\".format(iteration))\n",
        "  iteration += 1\n",
        "  \n",
        "  for i in range(len(y_predicted)):\n",
        "    actual = y_test[i]\n",
        "    predicted = y_predicted[i]\n",
        "    results['predicted'][predicted]['actual'][actual] += 1\n"
      ],
      "execution_count": 0,
      "outputs": []
    },
    {
      "cell_type": "code",
      "metadata": {
        "id": "5GkRGZ4XhSU0",
        "colab_type": "code",
        "colab": {}
      },
      "source": [
        "results"
      ],
      "execution_count": 0,
      "outputs": []
    }
  ]
}