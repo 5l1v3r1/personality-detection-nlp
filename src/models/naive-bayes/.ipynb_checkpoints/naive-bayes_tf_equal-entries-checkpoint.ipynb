{
 "cells": [
  {
   "cell_type": "markdown",
   "metadata": {
    "colab_type": "text",
    "id": "GiSnxJDrBvzH"
   },
   "source": [
    "## Verisetinin Yüklenmesi"
   ]
  },
  {
   "cell_type": "markdown",
   "metadata": {
    "colab_type": "text",
    "id": "pp6F_dK-BvzL"
   },
   "source": [
    "<span style=\"font-size:1.1em;\">Colab'a Google drive'ı entegre ediyoruz. Kullanılacak olan veriseti Google Drive'da bulunmaktadır</span>"
   ]
  },
  {
   "cell_type": "code",
   "execution_count": null,
   "metadata": {
    "colab": {
     "base_uri": "https://localhost:8080/",
     "height": 35
    },
    "colab_type": "code",
    "id": "0eXSt9GwBvzO",
    "outputId": "226584c7-6fd9-4959-a890-26a414d2c91b"
   },
   "outputs": [],
   "source": [
    "from google.colab import drive\n",
    "drive.mount('/content/gdrive')"
   ]
  },
  {
   "cell_type": "code",
   "execution_count": null,
   "metadata": {
    "colab": {},
    "colab_type": "code",
    "id": "7duXtSRABvzY"
   },
   "outputs": [],
   "source": [
    "PREPROCESSED_DATASET_WITH_STEMMER = \"gdrive/My Drive/mbti/preprocessed_dataset_with_stemming.csv\"\n",
    "PREPROCESSED_DATASET_WITHOUT_STEMMER = \"gdrive/My Drive/mbti/preprocessed_dataset_no_stemming.csv\"\n",
    "PREPROCESSED_DATASET_ZEMBEREK = \"gdrive/My Drive/mbti/preprocessed_dataset_zemberek.csv\"\n",
    "ELIMINATED_DATASET = \"gdrive/My Drive/mbti/eliminated_all_users_v2.csv\"\n",
    "RAW_DATASET = \"gdrive/My Drive/mbti/all_users_v2.csv\""
   ]
  },
  {
   "cell_type": "markdown",
   "metadata": {
    "colab_type": "text",
    "id": "xNsJolflBvzg"
   },
   "source": [
    "<span style=\"font-size:1.1em;\">Hangi veriseti kullanılarak işlem yapılacaksa yukardaki pathlerden biri seçilir ve parametre olarak verilir.</span>"
   ]
  },
  {
   "cell_type": "code",
   "execution_count": null,
   "metadata": {
    "colab": {},
    "colab_type": "code",
    "id": "NN6XGz7OBvzj"
   },
   "outputs": [],
   "source": [
    "import pandas as pd \n",
    "df = pd.read_csv(PREPROCESSED_DATASET_ZEMBEREK, sep = ';', header = 0)"
   ]
  },
  {
   "cell_type": "code",
   "execution_count": null,
   "metadata": {
    "colab": {
     "base_uri": "https://localhost:8080/",
     "height": 419
    },
    "colab_type": "code",
    "id": "EiFZ5FBCBvzr",
    "outputId": "0ca03783-30bc-4e2a-96c3-397704e06597"
   },
   "outputs": [],
   "source": [
    "df"
   ]
  },
  {
   "cell_type": "code",
   "execution_count": null,
   "metadata": {
    "colab": {},
    "colab_type": "code",
    "id": "7saf74-5YLWl"
   },
   "outputs": [],
   "source": [
    "import numpy as np\n",
    "\n",
    "df['entry'] = df['entry'].apply(lambda x: np.str_(x)) # ValueError: np.nan is an invalid document seklinde bir hata verdigi icin bunu asmak adina yapildi."
   ]
  },
  {
   "cell_type": "markdown",
   "metadata": {
    "colab_type": "text",
    "id": "0h31ILUYYnP1"
   },
   "source": [
    "Entrylerin sınıflarına eşit dağıtılması sağlanır."
   ]
  },
  {
   "cell_type": "code",
   "execution_count": null,
   "metadata": {
    "colab": {
     "base_uri": "https://localhost:8080/",
     "height": 35
    },
    "colab_type": "code",
    "id": "O6zGX6L0Xuwn",
    "outputId": "202e20ac-1c5d-4b7d-f229-9daa8c88311f"
   },
   "outputs": [],
   "source": [
    "min_entry = df.groupby('typeClass', as_index = False).count().min().entry\n",
    "\n",
    "min_entry"
   ]
  },
  {
   "cell_type": "code",
   "execution_count": null,
   "metadata": {
    "colab": {
     "base_uri": "https://localhost:8080/",
     "height": 35
    },
    "colab_type": "code",
    "id": "s8YSTEV4X3nB",
    "outputId": "9b476e8a-ab5b-4163-c2f3-046894409395"
   },
   "outputs": [],
   "source": [
    "analysts_df = df[df['typeClass'] == 'analysts']\n",
    "analysts_df = analysts_df.iloc[0 : min_entry]\n",
    "\n",
    "analysts_df.shape[0]"
   ]
  },
  {
   "cell_type": "code",
   "execution_count": null,
   "metadata": {
    "colab": {
     "base_uri": "https://localhost:8080/",
     "height": 35
    },
    "colab_type": "code",
    "id": "p0IfwMxKX6G1",
    "outputId": "d60f6efb-0294-4175-a05a-b3735e7b2805"
   },
   "outputs": [],
   "source": [
    "explorers_df = df[df['typeClass'] == 'explorers']\n",
    "explorers_df = explorers_df.iloc[0 : min_entry]\n",
    "\n",
    "explorers_df.shape[0]"
   ]
  },
  {
   "cell_type": "code",
   "execution_count": null,
   "metadata": {
    "colab": {
     "base_uri": "https://localhost:8080/",
     "height": 35
    },
    "colab_type": "code",
    "id": "SVJ8pEfoX59A",
    "outputId": "e67017c7-710f-429b-bf26-92a95a1fed5a"
   },
   "outputs": [],
   "source": [
    "sentinels_df = df[df['typeClass'] == 'sentinels']\n",
    "sentinels_df = sentinels_df.iloc[0 : min_entry]\n",
    "\n",
    "sentinels_df.shape[0]"
   ]
  },
  {
   "cell_type": "code",
   "execution_count": null,
   "metadata": {
    "colab": {
     "base_uri": "https://localhost:8080/",
     "height": 35
    },
    "colab_type": "code",
    "id": "-TyopMiLX5yB",
    "outputId": "e3d67cd1-21c9-45b8-c4cd-c6875d5116c6"
   },
   "outputs": [],
   "source": [
    "diplomats_df = df[df['typeClass'] == 'diplomats']\n",
    "diplomats_df = diplomats_df.iloc[0 : min_entry]\n",
    "\n",
    "diplomats_df.shape[0]"
   ]
  },
  {
   "cell_type": "markdown",
   "metadata": {
    "colab_type": "text",
    "id": "ncQoRyZaX-cw"
   },
   "source": [
    "Yeni bir dataframe oluşturulur."
   ]
  },
  {
   "cell_type": "code",
   "execution_count": null,
   "metadata": {
    "colab": {
     "base_uri": "https://localhost:8080/",
     "height": 419
    },
    "colab_type": "code",
    "id": "9TwtUhiiYA3e",
    "outputId": "93a54cd0-af83-48ff-8d23-de0162f853b6"
   },
   "outputs": [],
   "source": [
    "equal_entries_df = pd.concat([diplomats_df, sentinels_df, explorers_df, analysts_df]).reset_index(drop=True)\n",
    "equal_entries_df"
   ]
  },
  {
   "cell_type": "markdown",
   "metadata": {
    "colab_type": "text",
    "id": "C_gsAmzdYC1V"
   },
   "source": [
    "Oluşturulan dataframe shuffle edilir."
   ]
  },
  {
   "cell_type": "code",
   "execution_count": null,
   "metadata": {
    "colab": {
     "base_uri": "https://localhost:8080/",
     "height": 419
    },
    "colab_type": "code",
    "id": "7xAUT7gxXq6y",
    "outputId": "161b769a-1b4d-45fd-f465-4786275d5fd4"
   },
   "outputs": [],
   "source": [
    "equal_entries_df = equal_entries_df.sample(frac=1).reset_index(drop=True)\n",
    "equal_entries_df"
   ]
  },
  {
   "cell_type": "markdown",
   "metadata": {
    "colab_type": "text",
    "id": "lkk5QQhHBvz0"
   },
   "source": [
    "## Feature Extraction"
   ]
  },
  {
   "cell_type": "markdown",
   "metadata": {
    "colab_type": "text",
    "id": "dZzvU-o2sc2w"
   },
   "source": [
    "<span style=\"font-size:1.1em;\">TF-IDF özellik vektörünün çıkartılmasında kullanılacak değişken aşağıda belirlenmiş olan parametrelerle oluşturulur.</span>"
   ]
  },
  {
   "cell_type": "code",
   "execution_count": null,
   "metadata": {
    "colab": {},
    "colab_type": "code",
    "id": "CbggMvzcY5ER"
   },
   "outputs": [],
   "source": [
    "from sklearn.feature_extraction.text import CountVectorizer\n",
    "from sklearn.feature_extraction.text import TfidfTransformer"
   ]
  },
  {
   "cell_type": "code",
   "execution_count": null,
   "metadata": {
    "colab": {},
    "colab_type": "code",
    "id": "wzSU9aILsc2x"
   },
   "outputs": [],
   "source": [
    "count_vectorizer = CountVectorizer()"
   ]
  },
  {
   "cell_type": "markdown",
   "metadata": {
    "colab_type": "text",
    "id": "0404NRDmBv0c"
   },
   "source": [
    "## Modelin Oluşturulması"
   ]
  },
  {
   "cell_type": "markdown",
   "metadata": {
    "colab_type": "text",
    "id": "JRTpmz32fOtg"
   },
   "source": [
    "<span style=\"font-size:1.1em;\">Veriseti train ve test olmak üzere ikiye ayrılır. Test %20 ve train %80'ini oluşturacak şekilde tüm veriseti bölünür. random_state parametresi ile tekrardan bölündüğünde bir öncekiyle aynı train ve test veri setlerinin oluşturulması sağlanır.</span>"
   ]
  },
  {
   "cell_type": "code",
   "execution_count": null,
   "metadata": {
    "colab": {},
    "colab_type": "code",
    "id": "CbObRS01fIzb"
   },
   "outputs": [],
   "source": [
    "from sklearn.model_selection import train_test_split"
   ]
  },
  {
   "cell_type": "code",
   "execution_count": null,
   "metadata": {
    "colab": {},
    "colab_type": "code",
    "id": "k1skQ7bRfLyQ"
   },
   "outputs": [],
   "source": [
    "X_train, X_test, y_train, y_test = train_test_split(equal_entries_df['entry'], equal_entries_df['typeClass'], random_state = 42, test_size = 0.20)"
   ]
  },
  {
   "cell_type": "markdown",
   "metadata": {
    "colab_type": "text",
    "id": "dUjGVe2ufm9D"
   },
   "source": [
    "Train ve test datasetlerinden tf-idf vektörleri çıkartılır\n"
   ]
  },
  {
   "cell_type": "code",
   "execution_count": null,
   "metadata": {
    "colab": {},
    "colab_type": "code",
    "id": "5WWZ5iZzfmm1"
   },
   "outputs": [],
   "source": [
    "X_train_count = count_vectorizer.fit_transform(X_train)\n",
    "X_test_count = count_vectorizer.transform(X_test)\n",
    "\n",
    "tf_transformer = TfidfTransformer(use_idf=False).fit(X_train_count)\n",
    "X_train_tf = tf_transformer.transform(X_train_count)\n",
    "X_test_tf = tf_transformer.transform(X_test_count)\n"
   ]
  },
  {
   "cell_type": "markdown",
   "metadata": {
    "colab_type": "text",
    "id": "wSJEY4Ursc3A"
   },
   "source": [
    "Multinominal Naive Bayes modeli oluşturulur. Oluşturulan bu model verisetinde \"type\" olarak belirtilen \"analysts\", \"diplomats\", \"sentimenls\", \"explorers\" sınıflarından hangilerine ait olduğunu tahmin etmek için kullanılır"
   ]
  },
  {
   "cell_type": "code",
   "execution_count": null,
   "metadata": {
    "colab": {},
    "colab_type": "code",
    "id": "_AJnVOjgsc3B"
   },
   "outputs": [],
   "source": [
    "from sklearn.naive_bayes import MultinomialNB"
   ]
  },
  {
   "cell_type": "code",
   "execution_count": null,
   "metadata": {
    "colab": {},
    "colab_type": "code",
    "id": "OGbLV_2tRy6d"
   },
   "outputs": [],
   "source": [
    "clf = MultinomialNB().fit(X_train_tf, y_train)\n",
    "test_typeClass = y_test.values\n",
    "\n",
    "predictions = clf.predict(X_test_tf)"
   ]
  },
  {
   "cell_type": "code",
   "execution_count": null,
   "metadata": {
    "colab": {
     "base_uri": "https://localhost:8080/",
     "height": 53
    },
    "colab_type": "code",
    "id": "7i8gHOU0ipzw",
    "outputId": "65baab59-f7a6-43ff-883d-58027d19d310"
   },
   "outputs": [],
   "source": [
    "predictions"
   ]
  },
  {
   "cell_type": "markdown",
   "metadata": {
    "colab_type": "text",
    "id": "HVUImvDlHPXa"
   },
   "source": [
    "<span style=\"font-size:1.1em\">Yapılacak tahminlerle ilgili istatistiksel verileri tutmak için</span> ```predictions_result```<span style=\"font-size:1.1em\"> adında bir değişken oluşturulur.</span>\n",
    "\n",
    "<span style=\"font-size:1.1em\">Bu değişkenin yapısı aşağıdaki gibidir.</span>\n",
    "\n",
    "```json\n",
    "{\n",
    "    \"predicted\": {\n",
    "        \"analysts\":  { \"actual\": {\"analysts\": 0, \"diplomats\": 0, \"explorers\": 0, \"sentinels\": 0} }\n",
    "        \"diplomats\": { \"actual\": {\"analysts\": 0, \"diplomats\": 0, \"explorers\": 0, \"sentinels\": 0} }\n",
    "        \"explorers\": { \"actual\": {\"analysts\": 0, \"diplomats\": 0, \"explorers\": 0, \"sentinels\": 0} }\n",
    "        \"sentinels\": { \"actual\": {\"analysts\": 0, \"diplomats\": 0, \"explorers\": 0, \"sentinels\": 0} }\n",
    "    }\n",
    "}\n",
    "```\n",
    "\n",
    "* <span style=\"font-size:1.1em;\">Yapılan tahminlerle ilgili verilere ulaşabilmek için</span>\n",
    "\n",
    "    ```predictions_results['predicted']```\n",
    "\n",
    "\n",
    "* <span style=\"font-size:1.1em;\">Yapılan tahminin analyst ise:</span>\n",
    "\n",
    "    ```predictions_results['predicted']['analysts']``` \n",
    "\n",
    "\n",
    "* <span style=\"font-size:1.1em;\">Yapılan analyst tahmininin gerçek değerlerine erişmek için:</span>     \n",
    "\n",
    "    ```predictions_results['predicted']['analysts']['actual']```  \n",
    "\n",
    "\n",
    "* <span style=\"font-size:1.1em;\">Test verisi, model tarafından analysts olarak tahmin edilmiştir ve bu verinin gerçek değeri de analysts'tir.</span>\n",
    "\n",
    "    ```predictions_results['predicted']['analysts']['actual']['analysts']``` "
   ]
  },
  {
   "cell_type": "code",
   "execution_count": null,
   "metadata": {
    "colab": {},
    "colab_type": "code",
    "id": "DD0xZXNNsc3F"
   },
   "outputs": [],
   "source": [
    "prediction_results = {'predicted': {}}  ## prediction_result['analysts'] means prediction is 'analysts'\n",
    "\n",
    "prediction_results['predicted']['analysts']  = {'actual': {'analysts': 0, 'diplomats': 0, 'explorers': 0, 'sentinels': 0}}\n",
    "prediction_results['predicted']['diplomats'] = {'actual': {'analysts': 0, 'diplomats': 0, 'explorers': 0, 'sentinels': 0}}\n",
    "prediction_results['predicted']['explorers'] = {'actual': {'analysts': 0, 'diplomats': 0, 'explorers': 0, 'sentinels': 0}}\n",
    "prediction_results['predicted']['sentinels'] = {'actual': {'analysts': 0, 'diplomats': 0, 'explorers': 0, 'sentinels': 0}}\n",
    "\n",
    "## prediction_result['analysts']['diplomats'] means prediction is analysts but actual value is diplomats"
   ]
  },
  {
   "cell_type": "markdown",
   "metadata": {
    "colab_type": "text",
    "id": "YOFYyew6HPXl"
   },
   "source": [
    "```prediction_results```<span style=\"font-size:1.1em\"> içerisinde tutulan sayaçların değerleri arttırılır.</span>"
   ]
  },
  {
   "cell_type": "code",
   "execution_count": null,
   "metadata": {
    "colab": {},
    "colab_type": "code",
    "id": "Kc7adxOMfmKj"
   },
   "outputs": [],
   "source": [
    "for i in range(len(predictions)):\n",
    "  predicted_value = predictions[i]\n",
    "  actual_value = test_typeClass[i]\n",
    "  prediction_results['predicted'][predicted_value]['actual'][actual_value] += 1"
   ]
  },
  {
   "cell_type": "markdown",
   "metadata": {
    "colab_type": "text",
    "id": "4FDMu4kXHPXr"
   },
   "source": [
    "<span style=\"font-size:1.1em\">JSON formatına çevrilir </span>```dict``` <span style=\"font-size:1.1em\">tipi. Bu sayede daha okunaklı bir şekilde print edilmiş olur. </span>"
   ]
  },
  {
   "cell_type": "code",
   "execution_count": null,
   "metadata": {
    "colab": {
     "base_uri": "https://localhost:8080/",
     "height": 665
    },
    "colab_type": "code",
    "id": "4gGDav5qgVQh",
    "outputId": "90697ec7-c935-45b6-b8aa-a2607d03ba0f",
    "scrolled": false
   },
   "outputs": [],
   "source": [
    "import json\n",
    "\n",
    "print(json.dumps(prediction_results, indent = 2))"
   ]
  },
  {
   "cell_type": "markdown",
   "metadata": {
    "colab_type": "text",
    "id": "Uw8Sx7TsHPX1"
   },
   "source": [
    "<span style=\"font-size:1.1em;\">İlgili field extract edilir</span> ```dict``` <span style=\"font-size:1.1em;\">yapısından.</span>"
   ]
  },
  {
   "cell_type": "code",
   "execution_count": null,
   "metadata": {
    "colab": {},
    "colab_type": "code",
    "id": "ZBUI6iMTHPX2"
   },
   "outputs": [],
   "source": [
    "results = prediction_results['predicted']"
   ]
  },
  {
   "cell_type": "markdown",
   "metadata": {
    "colab_type": "text",
    "id": "IoxOrOr6HPX7"
   },
   "source": [
    "<span style=\"font-size:1.1em;\">Başarı oranı hesaplanır</span>"
   ]
  },
  {
   "cell_type": "code",
   "execution_count": null,
   "metadata": {
    "colab": {
     "base_uri": "https://localhost:8080/",
     "height": 35
    },
    "colab_type": "code",
    "id": "0S5fD04Zgg11",
    "outputId": "b5a7c460-616e-47b9-a42f-09456d8fe373"
   },
   "outputs": [],
   "source": [
    "accuracy = (results['analysts']['actual']['analysts'] + results['diplomats']['actual']['diplomats'] + results['explorers']['actual']['explorers'] + results['sentinels']['actual']['sentinels']) / len(predictions)\n",
    "accuracy"
   ]
  },
  {
   "cell_type": "markdown",
   "metadata": {
    "colab_type": "text",
    "id": "ooofyhgeHPYA"
   },
   "source": [
    "<span style=\"font-size:1.1em;\">**E/I** boyutu tahmin edilir</span>"
   ]
  },
  {
   "cell_type": "markdown",
   "metadata": {
    "colab_type": "text",
    "id": "kuLaYpB7Yxk2"
   },
   "source": [
    "Entrylerin sınıflarına eşit dağıtılması sağlanır."
   ]
  },
  {
   "cell_type": "code",
   "execution_count": null,
   "metadata": {
    "colab": {
     "base_uri": "https://localhost:8080/",
     "height": 35
    },
    "colab_type": "code",
    "id": "Cqp3E9obYxk4",
    "outputId": "f687be3e-30db-449c-9078-659d1770a86e"
   },
   "outputs": [],
   "source": [
    "min_entry = df.groupby('I/E', as_index = False).count().min().entry\n",
    "\n",
    "min_entry"
   ]
  },
  {
   "cell_type": "code",
   "execution_count": null,
   "metadata": {
    "colab": {
     "base_uri": "https://localhost:8080/",
     "height": 35
    },
    "colab_type": "code",
    "id": "o9Kj9-wcYxk-",
    "outputId": "12b329d5-45bb-48af-c759-46d2bd6127fb"
   },
   "outputs": [],
   "source": [
    "I_df = df[df['I/E'] == 'I']\n",
    "I_df = I_df.iloc[0 : min_entry]\n",
    "\n",
    "I_df.shape[0]"
   ]
  },
  {
   "cell_type": "code",
   "execution_count": null,
   "metadata": {
    "colab": {
     "base_uri": "https://localhost:8080/",
     "height": 35
    },
    "colab_type": "code",
    "id": "WSg6b_lgYxlE",
    "outputId": "749ea1dd-78ee-4d25-db2e-2c3534193292"
   },
   "outputs": [],
   "source": [
    "E_df = df[df['I/E'] == 'E']\n",
    "E_df = E_df.iloc[0 : min_entry]\n",
    "\n",
    "E_df.shape[0]"
   ]
  },
  {
   "cell_type": "markdown",
   "metadata": {
    "colab_type": "text",
    "id": "UPzN0lVgYxlQ"
   },
   "source": [
    "Yeni bir dataframe oluşturulur."
   ]
  },
  {
   "cell_type": "code",
   "execution_count": null,
   "metadata": {
    "colab": {
     "base_uri": "https://localhost:8080/",
     "height": 419
    },
    "colab_type": "code",
    "id": "9L92pyKFYxlS",
    "outputId": "0b96c2db-f4b7-4684-9887-484689075753"
   },
   "outputs": [],
   "source": [
    "equal_entries_df = pd.concat([I_df, E_df]).reset_index(drop=True)\n",
    "equal_entries_df"
   ]
  },
  {
   "cell_type": "markdown",
   "metadata": {
    "colab_type": "text",
    "id": "k-QVlwXjYxlW"
   },
   "source": [
    "Oluşturulan dataframe shuffle edilir."
   ]
  },
  {
   "cell_type": "code",
   "execution_count": null,
   "metadata": {
    "colab": {
     "base_uri": "https://localhost:8080/",
     "height": 419
    },
    "colab_type": "code",
    "id": "xXX-HXmyYxlX",
    "outputId": "fc6edc75-21ee-4f08-bbdb-eca98891746a"
   },
   "outputs": [],
   "source": [
    "equal_entries_df = equal_entries_df.sample(frac=1).reset_index(drop=True)\n",
    "equal_entries_df"
   ]
  },
  {
   "cell_type": "code",
   "execution_count": null,
   "metadata": {
    "colab": {},
    "colab_type": "code",
    "id": "ZPmKSg3XrONj"
   },
   "outputs": [],
   "source": [
    "X_train, X_test, y_train, y_test = train_test_split(equal_entries_df['entry'], equal_entries_df['I/E'], random_state = 42)  ## Geri kalanlar S, T, J\n",
    "\n",
    "\n",
    "X_train_count = count_vectorizer.fit_transform(X_train)\n",
    "X_test_count = count_vectorizer.transform(X_test)\n",
    "\n",
    "tf_transformer = TfidfTransformer(use_idf=False).fit(X_train_count)\n",
    "X_train_tf = tf_transformer.transform(X_train_count)\n",
    "X_test_tf = tf_transformer.transform(X_test_count)\n",
    "\n",
    "clf = MultinomialNB().fit(X_train_tf, y_train)\n",
    "test_typeClass = y_test.values\n",
    "\n",
    "predictions = clf.predict(X_test_tf)"
   ]
  },
  {
   "cell_type": "code",
   "execution_count": null,
   "metadata": {
    "colab": {
     "base_uri": "https://localhost:8080/",
     "height": 35
    },
    "colab_type": "code",
    "id": "hgxavMQorivQ",
    "outputId": "833be222-39cc-4cc0-d18e-9caa91ec8ace"
   },
   "outputs": [],
   "source": [
    "predictions"
   ]
  },
  {
   "cell_type": "code",
   "execution_count": null,
   "metadata": {
    "colab": {
     "base_uri": "https://localhost:8080/",
     "height": 35
    },
    "colab_type": "code",
    "id": "DlQeP5BFr0BA",
    "outputId": "6b5977ca-dcdb-45d0-d729-e575b5e3d78f"
   },
   "outputs": [],
   "source": [
    "predicted = {}\n",
    "predicted['I'] = {'actual': {'I': 0, 'E': 0}}\n",
    "predicted['E'] = {'actual': {'I': 0, 'E': 0}}\n",
    "predicted"
   ]
  },
  {
   "cell_type": "code",
   "execution_count": null,
   "metadata": {
    "colab": {},
    "colab_type": "code",
    "id": "F38Wm7lnsNxh"
   },
   "outputs": [],
   "source": [
    "for i in range(len(predictions)):\n",
    "  predicted[predictions[i]]['actual'][test_typeClass[i]] += 1\n"
   ]
  },
  {
   "cell_type": "code",
   "execution_count": null,
   "metadata": {
    "colab": {
     "base_uri": "https://localhost:8080/",
     "height": 53
    },
    "colab_type": "code",
    "id": "pCppRIUitZ3A",
    "outputId": "f6388402-c3fd-44fa-d62f-b4cb9205f8f0"
   },
   "outputs": [],
   "source": [
    "predicted"
   ]
  },
  {
   "cell_type": "code",
   "execution_count": null,
   "metadata": {
    "colab": {},
    "colab_type": "code",
    "id": "sRxuH3Fht6me"
   },
   "outputs": [],
   "source": [
    "accuracy = (predicted['E']['actual']['E'] + predicted['I']['actual']['I']) / len(predictions)"
   ]
  },
  {
   "cell_type": "code",
   "execution_count": null,
   "metadata": {
    "colab": {
     "base_uri": "https://localhost:8080/",
     "height": 35
    },
    "colab_type": "code",
    "id": "11O91HLLuH27",
    "outputId": "fadf4dab-de80-4733-f9aa-bd11e6eb5f7f"
   },
   "outputs": [],
   "source": [
    "accuracy"
   ]
  },
  {
   "cell_type": "markdown",
   "metadata": {
    "colab_type": "text",
    "id": "ktc8Y-2hHPYg"
   },
   "source": [
    "<span style=\"font-size:1.1em\">**S/N** boyutu tahmin edilir.</span>"
   ]
  },
  {
   "cell_type": "markdown",
   "metadata": {
    "colab_type": "text",
    "id": "hfi2styCZJAn"
   },
   "source": [
    "Entrylerin sınıflarına eşit dağıtılması sağlanır."
   ]
  },
  {
   "cell_type": "code",
   "execution_count": null,
   "metadata": {
    "colab": {
     "base_uri": "https://localhost:8080/",
     "height": 35
    },
    "colab_type": "code",
    "id": "1B3daTV8ZJAq",
    "outputId": "4b617f9b-45c5-4664-9d93-932d0d658b9b"
   },
   "outputs": [],
   "source": [
    "min_entry = df.groupby('S/N', as_index = False).count().min().entry\n",
    "\n",
    "min_entry"
   ]
  },
  {
   "cell_type": "code",
   "execution_count": null,
   "metadata": {
    "colab": {
     "base_uri": "https://localhost:8080/",
     "height": 35
    },
    "colab_type": "code",
    "id": "ckUhkKWEZJAv",
    "outputId": "6e768e1a-6701-43d8-ea14-548323ebd67b"
   },
   "outputs": [],
   "source": [
    "S_df = df[df['S/N'] == 'S']\n",
    "S_df = S_df.iloc[0 : min_entry]\n",
    "\n",
    "S_df.shape[0]"
   ]
  },
  {
   "cell_type": "code",
   "execution_count": null,
   "metadata": {
    "colab": {
     "base_uri": "https://localhost:8080/",
     "height": 35
    },
    "colab_type": "code",
    "id": "h_k2yzQ7ZJAz",
    "outputId": "775fc5db-2b37-4a70-e68c-e40249e43db6"
   },
   "outputs": [],
   "source": [
    "N_df = df[df['S/N'] == 'N']\n",
    "N_df = N_df.iloc[0 : min_entry]\n",
    "\n",
    "N_df.shape[0]"
   ]
  },
  {
   "cell_type": "markdown",
   "metadata": {
    "colab_type": "text",
    "id": "pfgvdyt3ZJBB"
   },
   "source": [
    "Yeni bir dataframe oluşturulur."
   ]
  },
  {
   "cell_type": "code",
   "execution_count": null,
   "metadata": {
    "colab": {
     "base_uri": "https://localhost:8080/",
     "height": 419
    },
    "colab_type": "code",
    "id": "l114kG34ZJBC",
    "outputId": "4fd89982-d2bf-4c4a-b6f5-ba2ef1a6d4b7"
   },
   "outputs": [],
   "source": [
    "equal_entries_df = pd.concat([N_df, S_df]).reset_index(drop=True)\n",
    "equal_entries_df"
   ]
  },
  {
   "cell_type": "markdown",
   "metadata": {
    "colab_type": "text",
    "id": "z13DvqlrZJBG"
   },
   "source": [
    "Oluşturulan dataframe shuffle edilir."
   ]
  },
  {
   "cell_type": "code",
   "execution_count": null,
   "metadata": {
    "colab": {
     "base_uri": "https://localhost:8080/",
     "height": 419
    },
    "colab_type": "code",
    "id": "MJeY7DA-ZJBH",
    "outputId": "e16238ea-8364-4fef-c00d-eeb3e2119aae"
   },
   "outputs": [],
   "source": [
    "equal_entries_df = equal_entries_df.sample(frac=1).reset_index(drop=True)\n",
    "equal_entries_df"
   ]
  },
  {
   "cell_type": "code",
   "execution_count": null,
   "metadata": {
    "colab": {},
    "colab_type": "code",
    "id": "mq8qRr5RuSVO"
   },
   "outputs": [],
   "source": [
    "X_train, X_test, y_train, y_test = train_test_split(equal_entries_df['entry'], equal_entries_df['S/N'], random_state = 42)  ## Geri kalan boyutlar: T, J\n",
    "\n",
    "X_train_count = count_vectorizer.fit_transform(X_train)\n",
    "X_test_count = count_vectorizer.transform(X_test)\n",
    "\n",
    "tf_transformer = TfidfTransformer(use_idf=False).fit(X_train_count)\n",
    "X_train_tf = tf_transformer.transform(X_train_count)\n",
    "X_test_tf = tf_transformer.transform(X_test_count)\n",
    "\n",
    "\n",
    "clf = MultinomialNB().fit(X_train_tf, y_train)\n",
    "test_typeClass = y_test.values\n",
    "\n",
    "predictions = clf.predict(X_test_tf)"
   ]
  },
  {
   "cell_type": "code",
   "execution_count": null,
   "metadata": {
    "colab": {
     "base_uri": "https://localhost:8080/",
     "height": 89
    },
    "colab_type": "code",
    "id": "VzV1av-CuZ2b",
    "outputId": "3208e0a6-58d4-4df9-bb36-2131b2528e95"
   },
   "outputs": [],
   "source": [
    "predicted['N'] = {'actual': {'N': 0, 'S': 0}}\n",
    "predicted['S'] = {'actual': {'N': 0, 'S': 0}}\n",
    "\n",
    "predicted"
   ]
  },
  {
   "cell_type": "code",
   "execution_count": null,
   "metadata": {
    "colab": {},
    "colab_type": "code",
    "id": "Fm2wvaVYuklE"
   },
   "outputs": [],
   "source": [
    "for i in range(len(predictions)):\n",
    "  predicted[predictions[i]]['actual'][test_typeClass[i]] += 1"
   ]
  },
  {
   "cell_type": "code",
   "execution_count": null,
   "metadata": {
    "colab": {
     "base_uri": "https://localhost:8080/",
     "height": 89
    },
    "colab_type": "code",
    "id": "YbVEQPPsvebF",
    "outputId": "fada2175-9b69-4b0e-c8de-6f537122bb4d"
   },
   "outputs": [],
   "source": [
    "predicted"
   ]
  },
  {
   "cell_type": "code",
   "execution_count": null,
   "metadata": {
    "colab": {},
    "colab_type": "code",
    "id": "tQJQoGQavLgv"
   },
   "outputs": [],
   "source": [
    "accuracy = (predicted['N']['actual']['N'] + predicted['S']['actual']['S']) / len(predictions)"
   ]
  },
  {
   "cell_type": "code",
   "execution_count": null,
   "metadata": {
    "colab": {
     "base_uri": "https://localhost:8080/",
     "height": 35
    },
    "colab_type": "code",
    "id": "LbegGjPNvXJO",
    "outputId": "8df59875-74af-4346-92af-b0273b854aa9"
   },
   "outputs": [],
   "source": [
    "accuracy"
   ]
  },
  {
   "cell_type": "markdown",
   "metadata": {
    "colab_type": "text",
    "id": "vqKVIk9uHPZA"
   },
   "source": [
    "<span style=\"font-size:1.1em\">**T/F** boyutu tahmin edilir.</span>"
   ]
  },
  {
   "cell_type": "markdown",
   "metadata": {
    "colab_type": "text",
    "id": "nbVvSq6mZn4B"
   },
   "source": [
    "Entrylerin sınıflarına eşit dağıtılması sağlanır."
   ]
  },
  {
   "cell_type": "code",
   "execution_count": null,
   "metadata": {
    "colab": {
     "base_uri": "https://localhost:8080/",
     "height": 35
    },
    "colab_type": "code",
    "id": "NsA9izoyZn4M",
    "outputId": "8b42a600-d21e-4c65-e857-3cbf4bd72a7f"
   },
   "outputs": [],
   "source": [
    "min_entry = df.groupby('T/F', as_index = False).count().min().entry\n",
    "\n",
    "min_entry"
   ]
  },
  {
   "cell_type": "code",
   "execution_count": null,
   "metadata": {
    "colab": {
     "base_uri": "https://localhost:8080/",
     "height": 35
    },
    "colab_type": "code",
    "id": "hLxaOK5uZn4T",
    "outputId": "c134920f-4682-4509-d00e-b5efa5fb4ed8"
   },
   "outputs": [],
   "source": [
    "T_df = df[df['T/F'] == 'T']\n",
    "T_df = T_df.iloc[0 : min_entry]\n",
    "\n",
    "T_df.shape[0]"
   ]
  },
  {
   "cell_type": "code",
   "execution_count": null,
   "metadata": {
    "colab": {
     "base_uri": "https://localhost:8080/",
     "height": 35
    },
    "colab_type": "code",
    "id": "1aeQIxbKZn4X",
    "outputId": "8939a178-6606-45a9-9805-957a15c9b710"
   },
   "outputs": [],
   "source": [
    "F_df = df[df['T/F'] == 'F']\n",
    "F_df = F_df.iloc[0 : min_entry]\n",
    "\n",
    "F_df.shape[0]"
   ]
  },
  {
   "cell_type": "markdown",
   "metadata": {
    "colab_type": "text",
    "id": "6fDFvwVPZn4c"
   },
   "source": [
    "Yeni bir dataframe oluşturulur."
   ]
  },
  {
   "cell_type": "code",
   "execution_count": null,
   "metadata": {
    "colab": {
     "base_uri": "https://localhost:8080/",
     "height": 419
    },
    "colab_type": "code",
    "id": "4Ol1tmurZn4f",
    "outputId": "10c1af18-462c-4072-f11c-b166755e261e"
   },
   "outputs": [],
   "source": [
    "equal_entries_df = pd.concat([F_df, T_df]).reset_index(drop=True)\n",
    "equal_entries_df"
   ]
  },
  {
   "cell_type": "markdown",
   "metadata": {
    "colab_type": "text",
    "id": "yUyt29upZn4j"
   },
   "source": [
    "Oluşturulan dataframe shuffle edilir."
   ]
  },
  {
   "cell_type": "code",
   "execution_count": null,
   "metadata": {
    "colab": {
     "base_uri": "https://localhost:8080/",
     "height": 419
    },
    "colab_type": "code",
    "id": "yRGMrigBZn4k",
    "outputId": "accb232c-4c57-4377-aa57-a5808ad5e1af"
   },
   "outputs": [],
   "source": [
    "equal_entries_df = equal_entries_df.sample(frac=1).reset_index(drop=True)\n",
    "equal_entries_df"
   ]
  },
  {
   "cell_type": "code",
   "execution_count": null,
   "metadata": {
    "colab": {},
    "colab_type": "code",
    "id": "qKVLLnYJwOHR"
   },
   "outputs": [],
   "source": [
    "X_train, X_test, y_train, y_test = train_test_split(equal_entries_df['entry'], equal_entries_df['T/F'], random_state = 42)  ##  J\n",
    "\n",
    "X_train_count = count_vectorizer.fit_transform(X_train)\n",
    "X_test_count = count_vectorizer.transform(X_test)\n",
    "\n",
    "tf_transformer = TfidfTransformer(use_idf=False).fit(X_train_count)\n",
    "X_train_tf = tf_transformer.transform(X_train_count)\n",
    "X_test_tf = tf_transformer.transform(X_test_count)\n",
    "\n",
    "clf = MultinomialNB().fit(X_train_tf, y_train)\n",
    "test_typeClass = y_test.values\n",
    "\n",
    "predictions = clf.predict(X_test_tf)"
   ]
  },
  {
   "cell_type": "code",
   "execution_count": null,
   "metadata": {
    "colab": {
     "base_uri": "https://localhost:8080/",
     "height": 125
    },
    "colab_type": "code",
    "id": "839RnfNfwT77",
    "outputId": "9483458b-433f-4fe4-dddb-13dac897e130"
   },
   "outputs": [],
   "source": [
    "predicted['T'] = {'actual': {'T': 0, 'F': 0}}\n",
    "predicted['F'] = {'actual': {'T': 0, 'F': 0}}\n",
    "\n",
    "predicted"
   ]
  },
  {
   "cell_type": "code",
   "execution_count": null,
   "metadata": {
    "colab": {},
    "colab_type": "code",
    "id": "sd9lUb13wbdK"
   },
   "outputs": [],
   "source": [
    "for i in range(len(predictions)):\n",
    "  predicted[predictions[i]]['actual'][test_typeClass[i]] += 1"
   ]
  },
  {
   "cell_type": "code",
   "execution_count": null,
   "metadata": {
    "colab": {
     "base_uri": "https://localhost:8080/",
     "height": 125
    },
    "colab_type": "code",
    "id": "Js9--v33ws5A",
    "outputId": "fa77c718-99c8-4cc2-bd0a-2b9e9fdcef0f"
   },
   "outputs": [],
   "source": [
    "predicted"
   ]
  },
  {
   "cell_type": "code",
   "execution_count": null,
   "metadata": {
    "colab": {},
    "colab_type": "code",
    "id": "i2ycKt6ZwuOC"
   },
   "outputs": [],
   "source": [
    "accuracy = (predicted['F']['actual']['F'] + predicted['T']['actual']['T']) / len(predictions)"
   ]
  },
  {
   "cell_type": "code",
   "execution_count": null,
   "metadata": {
    "colab": {
     "base_uri": "https://localhost:8080/",
     "height": 35
    },
    "colab_type": "code",
    "id": "5WkLA4z8x12q",
    "outputId": "c921a523-bb9c-4722-93e6-268c609166ab"
   },
   "outputs": [],
   "source": [
    "accuracy"
   ]
  },
  {
   "cell_type": "markdown",
   "metadata": {
    "colab_type": "text",
    "id": "APORaOlVHPZh"
   },
   "source": [
    "<span style=\"font-size:1.1em\">**J/P** boyutu tahmin edilir.</span>"
   ]
  },
  {
   "cell_type": "markdown",
   "metadata": {
    "colab_type": "text",
    "id": "OEaSEt5lZ65A"
   },
   "source": [
    "Entrylerin sınıflarına eşit dağıtılması sağlanır."
   ]
  },
  {
   "cell_type": "code",
   "execution_count": null,
   "metadata": {
    "colab": {
     "base_uri": "https://localhost:8080/",
     "height": 35
    },
    "colab_type": "code",
    "id": "fmyov03nZ65C",
    "outputId": "9995847e-1b0c-4324-b868-6572c4c64e2c"
   },
   "outputs": [],
   "source": [
    "min_entry = df.groupby('J/P', as_index = False).count().min().entry\n",
    "\n",
    "min_entry"
   ]
  },
  {
   "cell_type": "code",
   "execution_count": null,
   "metadata": {
    "colab": {
     "base_uri": "https://localhost:8080/",
     "height": 35
    },
    "colab_type": "code",
    "id": "p8N0blzhZ65H",
    "outputId": "2d7d9dfe-95fb-43db-82e0-bc8d55ccb0ec"
   },
   "outputs": [],
   "source": [
    "J_df = df[df['J/P'] == 'J']\n",
    "J_df = J_df.iloc[0 : min_entry]\n",
    "\n",
    "J_df.shape[0]"
   ]
  },
  {
   "cell_type": "code",
   "execution_count": null,
   "metadata": {
    "colab": {
     "base_uri": "https://localhost:8080/",
     "height": 35
    },
    "colab_type": "code",
    "id": "B3fEYKB0Z65M",
    "outputId": "28ae9e09-541d-4978-e2b8-0c67d7291753"
   },
   "outputs": [],
   "source": [
    "P_df = df[df['J/P'] == 'P']\n",
    "P_df = P_df.iloc[0 : min_entry]\n",
    "\n",
    "P_df.shape[0]"
   ]
  },
  {
   "cell_type": "markdown",
   "metadata": {
    "colab_type": "text",
    "id": "7U4-hr6XZ65R"
   },
   "source": [
    "Yeni bir dataframe oluşturulur."
   ]
  },
  {
   "cell_type": "code",
   "execution_count": null,
   "metadata": {
    "colab": {
     "base_uri": "https://localhost:8080/",
     "height": 419
    },
    "colab_type": "code",
    "id": "fXZv0S3qZ65S",
    "outputId": "b0b1f6b2-2379-4e66-90c5-88cfd2cc23f4"
   },
   "outputs": [],
   "source": [
    "equal_entries_df = pd.concat([P_df, J_df]).reset_index(drop=True)\n",
    "equal_entries_df"
   ]
  },
  {
   "cell_type": "markdown",
   "metadata": {
    "colab_type": "text",
    "id": "JNjaMYioZ65Y"
   },
   "source": [
    "Oluşturulan dataframe shuffle edilir."
   ]
  },
  {
   "cell_type": "code",
   "execution_count": null,
   "metadata": {
    "colab": {
     "base_uri": "https://localhost:8080/",
     "height": 419
    },
    "colab_type": "code",
    "id": "eWeImP-mZ65a",
    "outputId": "849e50b9-75d2-4d51-c60b-b2a5e7ea1108"
   },
   "outputs": [],
   "source": [
    "equal_entries_df = equal_entries_df.sample(frac=1).reset_index(drop=True)\n",
    "equal_entries_df"
   ]
  },
  {
   "cell_type": "code",
   "execution_count": null,
   "metadata": {
    "colab": {},
    "colab_type": "code",
    "id": "UuEb2k8Qx41D"
   },
   "outputs": [],
   "source": [
    "X_train, X_test, y_train, y_test = train_test_split(equal_entries_df['entry'], equal_entries_df['J/P'], random_state = 42) \n",
    "\n",
    "X_train_count = count_vectorizer.fit_transform(X_train)\n",
    "X_test_count = count_vectorizer.transform(X_test)\n",
    "\n",
    "tf_transformer = TfidfTransformer(use_idf=False).fit(X_train_count)\n",
    "X_train_tf = tf_transformer.transform(X_train_count)\n",
    "X_test_tf = tf_transformer.transform(X_test_count)\n",
    "\n",
    "clf = MultinomialNB().fit(X_train_tf, y_train)\n",
    "test_typeClass = y_test.values\n",
    "\n",
    "predictions = clf.predict(X_test_tf)"
   ]
  },
  {
   "cell_type": "code",
   "execution_count": null,
   "metadata": {
    "colab": {
     "base_uri": "https://localhost:8080/",
     "height": 161
    },
    "colab_type": "code",
    "id": "Dw-8uFkbx9m7",
    "outputId": "af24767f-ae30-4c4a-c1f3-57c5f3443b53"
   },
   "outputs": [],
   "source": [
    "predicted['J'] = {'actual': {'J': 0, 'P': 0}}\n",
    "predicted['P'] = {'actual': {'J': 0, 'P': 0}}\n",
    "\n",
    "predicted"
   ]
  },
  {
   "cell_type": "code",
   "execution_count": null,
   "metadata": {
    "colab": {},
    "colab_type": "code",
    "id": "dYu5m1TRyGNB"
   },
   "outputs": [],
   "source": [
    "for i in range(len(predictions)):\n",
    "  predicted[predictions[i]]['actual'][test_typeClass[i]] += 1"
   ]
  },
  {
   "cell_type": "code",
   "execution_count": null,
   "metadata": {
    "colab": {
     "base_uri": "https://localhost:8080/",
     "height": 161
    },
    "colab_type": "code",
    "id": "PHsAWw-6yOdi",
    "outputId": "fd146184-75f0-4499-fe3e-9f884c452a67"
   },
   "outputs": [],
   "source": [
    "predicted"
   ]
  },
  {
   "cell_type": "code",
   "execution_count": null,
   "metadata": {
    "colab": {},
    "colab_type": "code",
    "id": "LHYecNUuyQGL"
   },
   "outputs": [],
   "source": [
    "accuracy = (predicted['P']['actual']['P'] + predicted['J']['actual']['J']) / len(predictions)"
   ]
  },
  {
   "cell_type": "code",
   "execution_count": null,
   "metadata": {
    "colab": {
     "base_uri": "https://localhost:8080/",
     "height": 35
    },
    "colab_type": "code",
    "id": "jtNZq3mTyW6r",
    "outputId": "d947b5a8-fb45-43cd-a4f7-e0a67a4e73db"
   },
   "outputs": [],
   "source": [
    "accuracy"
   ]
  },
  {
   "cell_type": "code",
   "execution_count": null,
   "metadata": {
    "colab": {
     "base_uri": "https://localhost:8080/",
     "height": 449
    },
    "colab_type": "code",
    "id": "MQuyqSw-yjse",
    "outputId": "01b56da6-ec05-4c48-c163-0753b7076cf9"
   },
   "outputs": [],
   "source": [
    "prediction_results['predicted'].update(predicted) \n",
    "\n",
    "prediction_results"
   ]
  },
  {
   "cell_type": "code",
   "execution_count": null,
   "metadata": {
    "colab": {},
    "colab_type": "code",
    "id": "YZJQI5o_PM9-"
   },
   "outputs": [],
   "source": []
  }
 ],
 "metadata": {
  "colab": {
   "collapsed_sections": [],
   "name": "naive_bayes_equal_entries_tf.ipynb",
   "provenance": []
  },
  "kernelspec": {
   "display_name": "Python 3",
   "language": "python",
   "name": "python3"
  },
  "language_info": {
   "codemirror_mode": {
    "name": "ipython",
    "version": 3
   },
   "file_extension": ".py",
   "mimetype": "text/x-python",
   "name": "python",
   "nbconvert_exporter": "python",
   "pygments_lexer": "ipython3",
   "version": "3.7.4"
  }
 },
 "nbformat": 4,
 "nbformat_minor": 1
}
