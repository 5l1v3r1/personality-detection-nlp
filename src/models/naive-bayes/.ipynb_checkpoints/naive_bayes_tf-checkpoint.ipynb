{
 "cells": [
  {
   "cell_type": "markdown",
   "metadata": {
    "colab_type": "text",
    "id": "GiSnxJDrBvzH"
   },
   "source": [
    "## Verisetinin Yüklenmesi"
   ]
  },
  {
   "cell_type": "markdown",
   "metadata": {
    "colab_type": "text",
    "id": "pp6F_dK-BvzL"
   },
   "source": [
    "<span style=\"font-size:1.1em;\">Colab'a Google drive'ı entegre ediyoruz. Kullanılacak olan veriseti Google Drive'da bulunmaktadır</span>"
   ]
  },
  {
   "cell_type": "code",
   "execution_count": null,
   "metadata": {
    "colab": {
     "base_uri": "https://localhost:8080/",
     "height": 35
    },
    "colab_type": "code",
    "id": "0eXSt9GwBvzO",
    "outputId": "99405520-d9ae-40b3-f6cd-b3a010a28559"
   },
   "outputs": [],
   "source": [
    "from google.colab import drive\n",
    "drive.mount('/content/gdrive')"
   ]
  },
  {
   "cell_type": "code",
   "execution_count": null,
   "metadata": {
    "colab": {},
    "colab_type": "code",
    "id": "7duXtSRABvzY"
   },
   "outputs": [],
   "source": [
    "PREPROCESSED_DATASET_WITH_STEMMER = \"gdrive/My Drive/mbti/preprocessed_dataset_with_stemming.csv\"\n",
    "PREPROCESSED_DATASET_WITHOUT_STEMMER = \"gdrive/My Drive/mbti/preprocessed_dataset_no_stemming.csv\"\n",
    "PREPROCESSED_DATASET_ZEMBEREK = \"gdrive/My Drive/mbti/preprocessed_dataset_zemberek.csv\"\n",
    "TRIMMED_DATASET = \"gdrive/My Drive/mbti/trimmed_dataset.csv\"\n",
    "RAW_DATASET = \"gdrive/My Drive/mbti/all_users_v2.csv\""
   ]
  },
  {
   "cell_type": "markdown",
   "metadata": {
    "colab_type": "text",
    "id": "xNsJolflBvzg"
   },
   "source": [
    "<span style=\"font-size:1.1em;\">Hangi veriseti kullanılarak işlem yapılacaksa yukardaki pathlerden biri seçilir ve parametre olarak verilir.</span>"
   ]
  },
  {
   "cell_type": "code",
   "execution_count": null,
   "metadata": {
    "colab": {},
    "colab_type": "code",
    "id": "NN6XGz7OBvzj"
   },
   "outputs": [],
   "source": [
    "import pandas as pd \n",
    "df = pd.read_csv(PREPROCESSED_DATASET_WITHOUT_STEMMER, sep = ';', header = 0)"
   ]
  },
  {
   "cell_type": "code",
   "execution_count": null,
   "metadata": {
    "colab": {
     "base_uri": "https://localhost:8080/",
     "height": 419
    },
    "colab_type": "code",
    "id": "EiFZ5FBCBvzr",
    "outputId": "9fd0ac1d-3027-408b-9f6f-8d0449babd24"
   },
   "outputs": [],
   "source": [
    "df"
   ]
  },
  {
   "cell_type": "markdown",
   "metadata": {
    "colab_type": "text",
    "id": "lkk5QQhHBvz0"
   },
   "source": [
    "## Feature Extraction"
   ]
  },
  {
   "cell_type": "markdown",
   "metadata": {
    "colab_type": "text",
    "id": "dZzvU-o2sc2w"
   },
   "source": [
    "<span style=\"font-size:1.1em;\">TF-IDF özellik vektörünün çıkartılmasında kullanılacak değişken aşağıda belirlenmiş olan parametrelerle oluşturulur.</span>"
   ]
  },
  {
   "cell_type": "code",
   "execution_count": null,
   "metadata": {
    "colab": {},
    "colab_type": "code",
    "id": "CbggMvzcY5ER"
   },
   "outputs": [],
   "source": [
    "from sklearn.feature_extraction.text import CountVectorizer\n",
    "from sklearn.feature_extraction.text import TfidfTransformer"
   ]
  },
  {
   "cell_type": "code",
   "execution_count": null,
   "metadata": {
    "colab": {},
    "colab_type": "code",
    "id": "wzSU9aILsc2x"
   },
   "outputs": [],
   "source": [
    "count_vectorizer = CountVectorizer()"
   ]
  },
  {
   "cell_type": "code",
   "execution_count": null,
   "metadata": {
    "colab": {},
    "colab_type": "code",
    "id": "p62dmJvNBv0J"
   },
   "outputs": [],
   "source": [
    "import numpy as np\n",
    "\n",
    "df['entry'] = df['entry'].apply(lambda x: np.str_(x)) # ValueError: np.nan is an invalid document seklinde bir hata verdigi icin bunu asmak adina yapildi."
   ]
  },
  {
   "cell_type": "markdown",
   "metadata": {
    "colab_type": "text",
    "id": "0404NRDmBv0c"
   },
   "source": [
    "## Modelin Oluşturulması"
   ]
  },
  {
   "cell_type": "markdown",
   "metadata": {
    "colab_type": "text",
    "id": "JRTpmz32fOtg"
   },
   "source": [
    "<span style=\"font-size:1.1em;\">Veriseti train ve test olmak üzere ikiye ayrılır. Test %20 ve train %80'ini oluşturacak şekilde tüm veriseti bölünür. random_state parametresi ile tekrardan bölündüğünde bir öncekiyle aynı train ve test veri setlerinin oluşturulması sağlanır.</span>"
   ]
  },
  {
   "cell_type": "code",
   "execution_count": null,
   "metadata": {
    "colab": {},
    "colab_type": "code",
    "id": "CbObRS01fIzb"
   },
   "outputs": [],
   "source": [
    "from sklearn.model_selection import train_test_split"
   ]
  },
  {
   "cell_type": "code",
   "execution_count": null,
   "metadata": {
    "colab": {},
    "colab_type": "code",
    "id": "k1skQ7bRfLyQ"
   },
   "outputs": [],
   "source": [
    "X_train, X_test, y_train, y_test = train_test_split(df['entry'], df['typeClass'], random_state = 42, test_size = 0.20)"
   ]
  },
  {
   "cell_type": "markdown",
   "metadata": {
    "colab_type": "text",
    "id": "dUjGVe2ufm9D"
   },
   "source": [
    "Train ve test datasetlerinden tf-idf vektörleri çıkartılır\n"
   ]
  },
  {
   "cell_type": "code",
   "execution_count": null,
   "metadata": {
    "colab": {},
    "colab_type": "code",
    "id": "5WWZ5iZzfmm1"
   },
   "outputs": [],
   "source": [
    "X_train_count = count_vectorizer.fit_transform(X_train)\n",
    "X_test_count = count_vectorizer.transform(X_test)\n",
    "\n",
    "tf_transformer = TfidfTransformer(use_idf=False).fit(X_train_counts)\n",
    "X_train_tf = tf_transformer.transform(X_train_counts)\n",
    "X_test_count = tf_transformer.transform(X_test_count)\n"
   ]
  },
  {
   "cell_type": "markdown",
   "metadata": {
    "colab_type": "text",
    "id": "wSJEY4Ursc3A"
   },
   "source": [
    "Multinominal Naive Bayes modeli oluşturulur. Oluşturulan bu model verisetinde \"type\" olarak belirtilen \"analysts\", \"diplomats\", \"sentimenls\", \"explorers\" sınıflarından hangilerine ait olduğunu tahmin etmek için kullanılır"
   ]
  },
  {
   "cell_type": "code",
   "execution_count": null,
   "metadata": {
    "colab": {},
    "colab_type": "code",
    "id": "_AJnVOjgsc3B"
   },
   "outputs": [],
   "source": [
    "from sklearn.naive_bayes import MultinomialNB"
   ]
  },
  {
   "cell_type": "code",
   "execution_count": null,
   "metadata": {
    "colab": {},
    "colab_type": "code",
    "id": "OGbLV_2tRy6d"
   },
   "outputs": [],
   "source": [
    "clf = MultinomialNB().fit(X_train_tf, y_train)\n",
    "test_typeClass = y_test.values\n",
    "\n",
    "predictions = clf.predict(X_test_tf)"
   ]
  },
  {
   "cell_type": "code",
   "execution_count": null,
   "metadata": {
    "colab": {
     "base_uri": "https://localhost:8080/",
     "height": 53
    },
    "colab_type": "code",
    "id": "7i8gHOU0ipzw",
    "outputId": "803ce212-08bf-437f-833a-8e63cba631df"
   },
   "outputs": [],
   "source": [
    "predictions"
   ]
  },
  {
   "cell_type": "markdown",
   "metadata": {
    "colab_type": "text",
    "id": "HVUImvDlHPXa"
   },
   "source": [
    "<span style=\"font-size:1.1em\">Yapılacak tahminlerle ilgili istatistiksel verileri tutmak için</span> ```predictions_result```<span style=\"font-size:1.1em\"> adında bir değişken oluşturulur.</span>\n",
    "\n",
    "<span style=\"font-size:1.1em\">Bu değişkenin yapısı aşağıdaki gibidir.</span>\n",
    "\n",
    "```json\n",
    "{\n",
    "    \"predicted\": {\n",
    "        \"analysts\":  { \"actual\": {\"analysts\": 0, \"diplomats\": 0, \"explorers\": 0, \"sentinels\": 0} }\n",
    "        \"diplomats\": { \"actual\": {\"analysts\": 0, \"diplomats\": 0, \"explorers\": 0, \"sentinels\": 0} }\n",
    "        \"explorers\": { \"actual\": {\"analysts\": 0, \"diplomats\": 0, \"explorers\": 0, \"sentinels\": 0} }\n",
    "        \"sentinels\": { \"actual\": {\"analysts\": 0, \"diplomats\": 0, \"explorers\": 0, \"sentinels\": 0} }\n",
    "    }\n",
    "}\n",
    "```\n",
    "\n",
    "* <span style=\"font-size:1.1em;\">Yapılan tahminlerle ilgili verilere ulaşabilmek için</span>\n",
    "\n",
    "    ```predictions_results['predicted']```\n",
    "\n",
    "\n",
    "* <span style=\"font-size:1.1em;\">Yapılan tahminin analyst ise:</span>\n",
    "\n",
    "    ```predictions_results['predicted']['analysts']``` \n",
    "\n",
    "\n",
    "* <span style=\"font-size:1.1em;\">Yapılan analyst tahmininin gerçek değerlerine erişmek için:</span>     \n",
    "\n",
    "    ```predictions_results['predicted']['analysts']['actual']```  \n",
    "\n",
    "\n",
    "* <span style=\"font-size:1.1em;\">Test verisi, model tarafından analysts olarak tahmin edilmiştir ve bu verinin gerçek değeri de analysts'tir.</span>\n",
    "\n",
    "    ```predictions_results['predicted']['analysts']['actual']['analysts']``` "
   ]
  },
  {
   "cell_type": "code",
   "execution_count": null,
   "metadata": {
    "colab": {},
    "colab_type": "code",
    "id": "DD0xZXNNsc3F"
   },
   "outputs": [],
   "source": [
    "prediction_results = {'predicted': {}}  ## prediction_result['analysts'] means prediction is 'analysts'\n",
    "\n",
    "prediction_results['predicted']['analysts']  = {'actual': {'analysts': 0, 'diplomats': 0, 'explorers': 0, 'sentinels': 0}}\n",
    "prediction_results['predicted']['diplomats'] = {'actual': {'analysts': 0, 'diplomats': 0, 'explorers': 0, 'sentinels': 0}}\n",
    "prediction_results['predicted']['explorers'] = {'actual': {'analysts': 0, 'diplomats': 0, 'explorers': 0, 'sentinels': 0}}\n",
    "prediction_results['predicted']['sentinels'] = {'actual': {'analysts': 0, 'diplomats': 0, 'explorers': 0, 'sentinels': 0}}\n",
    "\n",
    "## prediction_result['analysts']['diplomats'] means prediction is analysts but actual value is diplomats"
   ]
  },
  {
   "cell_type": "markdown",
   "metadata": {
    "colab_type": "text",
    "id": "YOFYyew6HPXl"
   },
   "source": [
    "```prediction_results```<span style=\"font-size:1.1em\"> içerisinde tutulan sayaçların değerleri arttırılır.</span>"
   ]
  },
  {
   "cell_type": "code",
   "execution_count": null,
   "metadata": {
    "colab": {},
    "colab_type": "code",
    "id": "Kc7adxOMfmKj"
   },
   "outputs": [],
   "source": [
    "for i in range(len(predictions)):\n",
    "  predicted_value = predictions[i]\n",
    "  actual_value = test_typeClass[i]\n",
    "  prediction_results['predicted'][predicted_value]['actual'][actual_value] += 1"
   ]
  },
  {
   "cell_type": "markdown",
   "metadata": {
    "colab_type": "text",
    "id": "4FDMu4kXHPXr"
   },
   "source": [
    "<span style=\"font-size:1.1em\">JSON formatına çevrilir </span>```dict``` <span style=\"font-size:1.1em\">tipi. Bu sayede daha okunaklı bir şekilde print edilmiş olur. </span>"
   ]
  },
  {
   "cell_type": "code",
   "execution_count": null,
   "metadata": {
    "colab": {
     "base_uri": "https://localhost:8080/",
     "height": 665
    },
    "colab_type": "code",
    "id": "4gGDav5qgVQh",
    "outputId": "cc06db33-c6aa-4ceb-fb0d-62fa39de639f",
    "scrolled": false
   },
   "outputs": [],
   "source": [
    "import json\n",
    "\n",
    "print(json.dumps(prediction_results, indent = 2))"
   ]
  },
  {
   "cell_type": "markdown",
   "metadata": {
    "colab_type": "text",
    "id": "Uw8Sx7TsHPX1"
   },
   "source": [
    "<span style=\"font-size:1.1em;\">İlgili field extract edilir</span> ```dict``` <span style=\"font-size:1.1em;\">yapısından.</span>"
   ]
  },
  {
   "cell_type": "code",
   "execution_count": null,
   "metadata": {
    "colab": {},
    "colab_type": "code",
    "id": "ZBUI6iMTHPX2"
   },
   "outputs": [],
   "source": [
    "results = prediction_results['predicted']"
   ]
  },
  {
   "cell_type": "markdown",
   "metadata": {
    "colab_type": "text",
    "id": "IoxOrOr6HPX7"
   },
   "source": [
    "<span style=\"font-size:1.1em;\">Başarı oranı hesaplanır</span>"
   ]
  },
  {
   "cell_type": "code",
   "execution_count": null,
   "metadata": {
    "colab": {
     "base_uri": "https://localhost:8080/",
     "height": 35
    },
    "colab_type": "code",
    "id": "0S5fD04Zgg11",
    "outputId": "527ebe70-1d08-4490-a0bb-569d097267b4"
   },
   "outputs": [],
   "source": [
    "accuracy = (results['analysts']['actual']['analysts'] + results['diplomats']['actual']['diplomats'] + results['explorers']['actual']['explorers'] + results['sentinels']['actual']['sentinels']) / len(predictions)\n",
    "accuracy"
   ]
  },
  {
   "cell_type": "markdown",
   "metadata": {
    "colab_type": "text",
    "id": "ooofyhgeHPYA"
   },
   "source": [
    "<span style=\"font-size:1.1em;\">**E/I** boyutu tahmin edilir</span>"
   ]
  },
  {
   "cell_type": "code",
   "execution_count": null,
   "metadata": {
    "colab": {},
    "colab_type": "code",
    "id": "ZPmKSg3XrONj"
   },
   "outputs": [],
   "source": [
    "X_train, X_test, y_train, y_test = train_test_split(df['entry'], df['I/E'], random_state = 42)  ## Geri kalanlar S, T, J\n",
    "\n",
    "\n",
    "X_train_count = count_vectorizer.fit_transform(X_train)\n",
    "X_test_count = count_vectorizer.transform(X_test)\n",
    "\n",
    "tf_transformer = TfidfTransformer(use_idf=False).fit(X_train_counts)\n",
    "X_train_tf = tf_transformer.transform(X_train_counts)\n",
    "X_test_count = tf_transformer.transform(X_test_count)\n",
    "\n",
    "clf = MultinomialNB().fit(X_train_tf, y_train)\n",
    "test_typeClass = y_test.values\n",
    "\n",
    "predictions = clf.predict(X_test_tf)"
   ]
  },
  {
   "cell_type": "code",
   "execution_count": null,
   "metadata": {
    "colab": {
     "base_uri": "https://localhost:8080/",
     "height": 35
    },
    "colab_type": "code",
    "id": "hgxavMQorivQ",
    "outputId": "ca42e10a-4a29-4599-b3df-d3c51b344bd7"
   },
   "outputs": [],
   "source": [
    "predictions"
   ]
  },
  {
   "cell_type": "code",
   "execution_count": null,
   "metadata": {
    "colab": {
     "base_uri": "https://localhost:8080/",
     "height": 35
    },
    "colab_type": "code",
    "id": "DlQeP5BFr0BA",
    "outputId": "b91e493d-bec6-400f-ca5a-d4cdf7634500"
   },
   "outputs": [],
   "source": [
    "predicted = {}\n",
    "predicted['I'] = {'actual': {'I': 0, 'E': 0}}\n",
    "predicted['E'] = {'actual': {'I': 0, 'E': 0}}\n",
    "predicted"
   ]
  },
  {
   "cell_type": "code",
   "execution_count": null,
   "metadata": {
    "colab": {},
    "colab_type": "code",
    "id": "F38Wm7lnsNxh"
   },
   "outputs": [],
   "source": [
    "for i in range(len(predictions)):\n",
    "  predicted[predictions[i]]['actual'][test_typeClass[i]] += 1\n"
   ]
  },
  {
   "cell_type": "code",
   "execution_count": null,
   "metadata": {
    "colab": {
     "base_uri": "https://localhost:8080/",
     "height": 53
    },
    "colab_type": "code",
    "id": "pCppRIUitZ3A",
    "outputId": "4c21d278-8c8f-4826-a7f4-e02392f84e77"
   },
   "outputs": [],
   "source": [
    "predicted"
   ]
  },
  {
   "cell_type": "code",
   "execution_count": null,
   "metadata": {
    "colab": {},
    "colab_type": "code",
    "id": "sRxuH3Fht6me"
   },
   "outputs": [],
   "source": [
    "accuracy = (predicted['E']['actual']['E'] + predicted['I']['actual']['I']) / len(predictions)"
   ]
  },
  {
   "cell_type": "code",
   "execution_count": null,
   "metadata": {
    "colab": {
     "base_uri": "https://localhost:8080/",
     "height": 35
    },
    "colab_type": "code",
    "id": "11O91HLLuH27",
    "outputId": "77933c30-e956-4f9d-e2b2-43fac758d2b2"
   },
   "outputs": [],
   "source": [
    "accuracy"
   ]
  },
  {
   "cell_type": "markdown",
   "metadata": {
    "colab_type": "text",
    "id": "ktc8Y-2hHPYg"
   },
   "source": [
    "<span style=\"font-size:1.1em\">**S/N** boyutu tahmin edilir.</span>"
   ]
  },
  {
   "cell_type": "code",
   "execution_count": null,
   "metadata": {
    "colab": {},
    "colab_type": "code",
    "id": "mq8qRr5RuSVO"
   },
   "outputs": [],
   "source": [
    "X_train, X_test, y_train, y_test = train_test_split(df['entry'], df['S/N'], random_state = 42)  ## Geri kalan boyutlar: T, J\n",
    "\n",
    "X_train_count = count_vectorizer.fit_transform(X_train)\n",
    "X_test_count = count_vectorizer.transform(X_test)\n",
    "\n",
    "tf_transformer = TfidfTransformer(use_idf=False).fit(X_train_counts)\n",
    "X_train_tf = tf_transformer.transform(X_train_counts)\n",
    "X_test_count = tf_transformer.transform(X_test_count)\n",
    "\n",
    "\n",
    "clf = MultinomialNB().fit(X_train_tf, y_train)\n",
    "test_typeClass = y_test.values\n",
    "\n",
    "predictions = clf.predict(X_test_tf)"
   ]
  },
  {
   "cell_type": "code",
   "execution_count": null,
   "metadata": {
    "colab": {
     "base_uri": "https://localhost:8080/",
     "height": 89
    },
    "colab_type": "code",
    "id": "VzV1av-CuZ2b",
    "outputId": "3fcfe615-e53c-42bc-fa98-b77f92df69a6"
   },
   "outputs": [],
   "source": [
    "predicted['N'] = {'actual': {'N': 0, 'S': 0}}\n",
    "predicted['S'] = {'actual': {'N': 0, 'S': 0}}\n",
    "\n",
    "predicted"
   ]
  },
  {
   "cell_type": "code",
   "execution_count": null,
   "metadata": {
    "colab": {},
    "colab_type": "code",
    "id": "Fm2wvaVYuklE"
   },
   "outputs": [],
   "source": [
    "for i in range(len(predictions)):\n",
    "  predicted[predictions[i]]['actual'][test_typeClass[i]] += 1"
   ]
  },
  {
   "cell_type": "code",
   "execution_count": null,
   "metadata": {
    "colab": {
     "base_uri": "https://localhost:8080/",
     "height": 89
    },
    "colab_type": "code",
    "id": "YbVEQPPsvebF",
    "outputId": "0a8fb305-e0af-4f8c-f06b-6605f12f249a"
   },
   "outputs": [],
   "source": [
    "predicted"
   ]
  },
  {
   "cell_type": "code",
   "execution_count": null,
   "metadata": {
    "colab": {},
    "colab_type": "code",
    "id": "tQJQoGQavLgv"
   },
   "outputs": [],
   "source": [
    "accuracy = (predicted['N']['actual']['N'] + predicted['S']['actual']['S']) / len(predictions)"
   ]
  },
  {
   "cell_type": "code",
   "execution_count": null,
   "metadata": {
    "colab": {
     "base_uri": "https://localhost:8080/",
     "height": 35
    },
    "colab_type": "code",
    "id": "LbegGjPNvXJO",
    "outputId": "fe6267d3-f6a6-4777-ec49-8f14b82b0af3"
   },
   "outputs": [],
   "source": [
    "accuracy"
   ]
  },
  {
   "cell_type": "markdown",
   "metadata": {
    "colab_type": "text",
    "id": "vqKVIk9uHPZA"
   },
   "source": [
    "<span style=\"font-size:1.1em\">**T/F** boyutu tahmin edilir.</span>"
   ]
  },
  {
   "cell_type": "code",
   "execution_count": null,
   "metadata": {
    "colab": {},
    "colab_type": "code",
    "id": "qKVLLnYJwOHR"
   },
   "outputs": [],
   "source": [
    "X_train, X_test, y_train, y_test = train_test_split(df['entry'], df['T/F'], random_state = 42)  ##  J\n",
    "\n",
    "X_train_count = count_vectorizer.fit_transform(X_train)\n",
    "X_test_count = count_vectorizer.transform(X_test)\n",
    "\n",
    "tf_transformer = TfidfTransformer(use_idf=False).fit(X_train_counts)\n",
    "X_train_tf = tf_transformer.transform(X_train_counts)\n",
    "X_test_count = tf_transformer.transform(X_test_count)\n",
    "\n",
    "clf = MultinomialNB().fit(X_train_tf, y_train)\n",
    "test_typeClass = y_test.values\n",
    "\n",
    "predictions = clf.predict(X_test_tf)"
   ]
  },
  {
   "cell_type": "code",
   "execution_count": null,
   "metadata": {
    "colab": {
     "base_uri": "https://localhost:8080/",
     "height": 125
    },
    "colab_type": "code",
    "id": "839RnfNfwT77",
    "outputId": "3a110089-7cee-46f4-c168-a5ccab7fe979"
   },
   "outputs": [],
   "source": [
    "predicted['T'] = {'actual': {'T': 0, 'F': 0}}\n",
    "predicted['F'] = {'actual': {'T': 0, 'F': 0}}\n",
    "\n",
    "predicted"
   ]
  },
  {
   "cell_type": "code",
   "execution_count": null,
   "metadata": {
    "colab": {},
    "colab_type": "code",
    "id": "sd9lUb13wbdK"
   },
   "outputs": [],
   "source": [
    "for i in range(len(predictions)):\n",
    "  predicted[predictions[i]]['actual'][test_typeClass[i]] += 1"
   ]
  },
  {
   "cell_type": "code",
   "execution_count": null,
   "metadata": {
    "colab": {
     "base_uri": "https://localhost:8080/",
     "height": 125
    },
    "colab_type": "code",
    "id": "Js9--v33ws5A",
    "outputId": "72c142f6-b979-4e6a-d9c1-b368bfa39312"
   },
   "outputs": [],
   "source": [
    "predicted"
   ]
  },
  {
   "cell_type": "code",
   "execution_count": null,
   "metadata": {
    "colab": {},
    "colab_type": "code",
    "id": "i2ycKt6ZwuOC"
   },
   "outputs": [],
   "source": [
    "accuracy = (predicted['F']['actual']['F'] + predicted['T']['actual']['T']) / len(predictions)"
   ]
  },
  {
   "cell_type": "code",
   "execution_count": null,
   "metadata": {
    "colab": {
     "base_uri": "https://localhost:8080/",
     "height": 35
    },
    "colab_type": "code",
    "id": "5WkLA4z8x12q",
    "outputId": "1ed9b27f-76d0-4bf9-df9e-30c68784f183"
   },
   "outputs": [],
   "source": [
    "accuracy"
   ]
  },
  {
   "cell_type": "markdown",
   "metadata": {
    "colab_type": "text",
    "id": "APORaOlVHPZh"
   },
   "source": [
    "<span style=\"font-size:1.1em\">**J/P** boyutu tahmin edilir.</span>"
   ]
  },
  {
   "cell_type": "code",
   "execution_count": null,
   "metadata": {
    "colab": {},
    "colab_type": "code",
    "id": "UuEb2k8Qx41D"
   },
   "outputs": [],
   "source": [
    "X_train, X_test, y_train, y_test = train_test_split(df['entry'], df['J/P'], random_state = 42) \n",
    "\n",
    "X_train_count = count_vectorizer.fit_transform(X_train)\n",
    "X_test_count = count_vectorizer.transform(X_test)\n",
    "\n",
    "tf_transformer = TfidfTransformer(use_idf=False).fit(X_train_counts)\n",
    "X_train_tf = tf_transformer.transform(X_train_counts)\n",
    "X_test_count = tf_transformer.transform(X_test_count)\n",
    "\n",
    "clf = MultinomialNB().fit(X_train_tf, y_train)\n",
    "test_typeClass = y_test.values\n",
    "\n",
    "predictions = clf.predict(X_test_tf)"
   ]
  },
  {
   "cell_type": "code",
   "execution_count": null,
   "metadata": {
    "colab": {
     "base_uri": "https://localhost:8080/",
     "height": 161
    },
    "colab_type": "code",
    "id": "Dw-8uFkbx9m7",
    "outputId": "9f54ab7d-1313-4c0f-8698-ad640b1c2ab7"
   },
   "outputs": [],
   "source": [
    "predicted['J'] = {'actual': {'J': 0, 'P': 0}}\n",
    "predicted['P'] = {'actual': {'J': 0, 'P': 0}}\n",
    "\n",
    "predicted"
   ]
  },
  {
   "cell_type": "code",
   "execution_count": null,
   "metadata": {
    "colab": {},
    "colab_type": "code",
    "id": "dYu5m1TRyGNB"
   },
   "outputs": [],
   "source": [
    "for i in range(len(predictions)):\n",
    "  predicted[predictions[i]]['actual'][test_typeClass[i]] += 1"
   ]
  },
  {
   "cell_type": "code",
   "execution_count": null,
   "metadata": {
    "colab": {
     "base_uri": "https://localhost:8080/",
     "height": 161
    },
    "colab_type": "code",
    "id": "PHsAWw-6yOdi",
    "outputId": "e18f97a3-47e5-48e6-9002-c9b5cdc4b9db"
   },
   "outputs": [],
   "source": [
    "predicted"
   ]
  },
  {
   "cell_type": "code",
   "execution_count": null,
   "metadata": {
    "colab": {},
    "colab_type": "code",
    "id": "LHYecNUuyQGL"
   },
   "outputs": [],
   "source": [
    "accuracy = (predicted['P']['actual']['P'] + predicted['J']['actual']['J']) / len(predictions)"
   ]
  },
  {
   "cell_type": "code",
   "execution_count": null,
   "metadata": {
    "colab": {
     "base_uri": "https://localhost:8080/",
     "height": 35
    },
    "colab_type": "code",
    "id": "jtNZq3mTyW6r",
    "outputId": "80bb3059-10dc-4774-d004-a180d85587b1"
   },
   "outputs": [],
   "source": [
    "accuracy"
   ]
  },
  {
   "cell_type": "code",
   "execution_count": null,
   "metadata": {
    "colab": {
     "base_uri": "https://localhost:8080/",
     "height": 449
    },
    "colab_type": "code",
    "id": "MQuyqSw-yjse",
    "outputId": "b7bc0f4a-0822-45f2-e7e2-670c369b30cd"
   },
   "outputs": [],
   "source": [
    "prediction_results['predicted'].update(predicted) \n",
    "\n",
    "prediction_results"
   ]
  },
  {
   "cell_type": "code",
   "execution_count": null,
   "metadata": {},
   "outputs": [],
   "source": []
  }
 ],
 "metadata": {
  "kernelspec": {
   "display_name": "Python 3",
   "language": "python",
   "name": "python3"
  },
  "language_info": {
   "codemirror_mode": {
    "name": "ipython",
    "version": 3
   },
   "file_extension": ".py",
   "mimetype": "text/x-python",
   "name": "python",
   "nbconvert_exporter": "python",
   "pygments_lexer": "ipython3",
   "version": "3.7.5"
  }
 },
 "nbformat": 4,
 "nbformat_minor": 2
}
