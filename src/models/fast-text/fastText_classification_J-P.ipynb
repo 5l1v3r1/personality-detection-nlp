{
  "nbformat": 4,
  "nbformat_minor": 0,
  "metadata": {
    "colab": {
      "name": "fastText_classification_J-P.ipynb",
      "provenance": [],
      "collapsed_sections": []
    },
    "kernelspec": {
      "name": "python3",
      "display_name": "Python 3"
    }
  },
  "cells": [
    {
      "cell_type": "markdown",
      "metadata": {
        "id": "alePhkC3g_-Y",
        "colab_type": "text"
      },
      "source": [
        "fastText indilir ve oluşturulur\n"
      ]
    },
    {
      "cell_type": "code",
      "metadata": {
        "id": "dj-btsl1jlug",
        "colab_type": "code",
        "colab": {
          "base_uri": "https://localhost:8080/",
          "height": 35
        },
        "outputId": "9c62f8b2-8d33-4dc3-9fb9-1e5944c4bb6d"
      },
      "source": [
        "!git clone https://github.com/facebookresearch/fastText.git"
      ],
      "execution_count": 52,
      "outputs": [
        {
          "output_type": "stream",
          "text": [
            "fatal: destination path 'fastText' already exists and is not an empty directory.\n"
          ],
          "name": "stdout"
        }
      ]
    },
    {
      "cell_type": "code",
      "metadata": {
        "id": "-ebf5Iw7kj2e",
        "colab_type": "code",
        "colab": {
          "base_uri": "https://localhost:8080/",
          "height": 360
        },
        "outputId": "87238c91-1c96-4fb9-cadc-e86d0d6554f6"
      },
      "source": [
        "!pip install ./fastText/"
      ],
      "execution_count": 53,
      "outputs": [
        {
          "output_type": "stream",
          "text": [
            "Processing ./fastText\n",
            "Requirement already satisfied: pybind11>=2.2 in /usr/local/lib/python3.6/dist-packages (from fasttext==0.9.1) (2.4.3)\n",
            "Requirement already satisfied: setuptools>=0.7.0 in /usr/local/lib/python3.6/dist-packages (from fasttext==0.9.1) (42.0.2)\n",
            "Requirement already satisfied: numpy in /usr/local/lib/python3.6/dist-packages (from fasttext==0.9.1) (1.17.4)\n",
            "Building wheels for collected packages: fasttext\n",
            "  Building wheel for fasttext (setup.py) ... \u001b[?25l\u001b[?25hdone\n",
            "  Created wheel for fasttext: filename=fasttext-0.9.1-cp36-cp36m-linux_x86_64.whl size=2829893 sha256=0dc357bbd0fd4cff9cc74573fbbe7aabcf69e0ab04a29473a0a2122b392a3bd1\n",
            "  Stored in directory: /tmp/pip-ephem-wheel-cache-foadx5rg/wheels/a1/9f/52/696ce6c5c46325e840c76614ee5051458c0df10306987e7443\n",
            "Successfully built fasttext\n",
            "Installing collected packages: fasttext\n",
            "  Found existing installation: fasttext 0.9.1\n",
            "    Uninstalling fasttext-0.9.1:\n",
            "      Successfully uninstalled fasttext-0.9.1\n",
            "Successfully installed fasttext-0.9.1\n"
          ],
          "name": "stdout"
        },
        {
          "output_type": "display_data",
          "data": {
            "application/vnd.colab-display-data+json": {
              "pip_warning": {
                "packages": [
                  "fasttext",
                  "fasttext_pybind"
                ]
              }
            }
          },
          "metadata": {
            "tags": []
          }
        }
      ]
    },
    {
      "cell_type": "markdown",
      "metadata": {
        "id": "tbGeJPCNCoBP",
        "colab_type": "text"
      },
      "source": [
        "Classification'da kullanılacak olan verisetimizi alıyoruz."
      ]
    },
    {
      "cell_type": "code",
      "metadata": {
        "colab_type": "code",
        "id": "Qu0dGuKcCeR9",
        "colab": {
          "base_uri": "https://localhost:8080/",
          "height": 127
        },
        "outputId": "2977a177-00a6-4fe0-9c25-07aceb11266e"
      },
      "source": [
        "from google.colab import drive\n",
        "drive.mount('/content/gdrive')"
      ],
      "execution_count": 3,
      "outputs": [
        {
          "output_type": "stream",
          "text": [
            "Go to this URL in a browser: https://accounts.google.com/o/oauth2/auth?client_id=947318989803-6bn6qk8qdgf4n4g3pfee6491hc0brc4i.apps.googleusercontent.com&redirect_uri=urn%3aietf%3awg%3aoauth%3a2.0%3aoob&response_type=code&scope=email%20https%3a%2f%2fwww.googleapis.com%2fauth%2fdocs.test%20https%3a%2f%2fwww.googleapis.com%2fauth%2fdrive%20https%3a%2f%2fwww.googleapis.com%2fauth%2fdrive.photos.readonly%20https%3a%2f%2fwww.googleapis.com%2fauth%2fpeopleapi.readonly\n",
            "\n",
            "Enter your authorization code:\n",
            "··········\n",
            "Mounted at /content/gdrive\n"
          ],
          "name": "stdout"
        }
      ]
    },
    {
      "cell_type": "code",
      "metadata": {
        "id": "77zts8l9dcg1",
        "colab_type": "code",
        "colab": {}
      },
      "source": [
        "PREPROCESSED_DATASET_WITH_STEMMER = \"gdrive/My Drive/mbti/preprocessed_dataset_with_stemming.csv\"\n",
        "PREPROCESSED_DATASET_WITHOUT_STEMMER = \"gdrive/My Drive/mbti/preprocessed_dataset_no_stemming.csv\"\n",
        "PREPROCESSED_DATASET_ZEMBEREK = \"gdrive/My Drive/mbti/preprocessed_dataset_zemberek\"\n",
        "TRIMMED_DATASET = \"gdrive/My Drive/mbti/trimmed_dataset.csv\"\n",
        "RAW_DATASET = \"gdrive/My Drive/mbti/all_users_v2.csv\""
      ],
      "execution_count": 0,
      "outputs": []
    },
    {
      "cell_type": "code",
      "metadata": {
        "id": "x517ixOydiEv",
        "colab_type": "code",
        "colab": {}
      },
      "source": [
        "import pandas as pd \n",
        "df = pd.read_csv(PREPROCESSED_DATASET_WITHOUT_STEMMER, sep = ';', header = 0)"
      ],
      "execution_count": 0,
      "outputs": []
    },
    {
      "cell_type": "code",
      "metadata": {
        "id": "OcDJk2L2gp3P",
        "colab_type": "code",
        "colab": {
          "base_uri": "https://localhost:8080/",
          "height": 419
        },
        "outputId": "72cc5cf1-376d-40dc-e6cd-78f05080bf28"
      },
      "source": [
        "df"
      ],
      "execution_count": 77,
      "outputs": [
        {
          "output_type": "execute_result",
          "data": {
            "text/html": [
              "<div>\n",
              "<style scoped>\n",
              "    .dataframe tbody tr th:only-of-type {\n",
              "        vertical-align: middle;\n",
              "    }\n",
              "\n",
              "    .dataframe tbody tr th {\n",
              "        vertical-align: top;\n",
              "    }\n",
              "\n",
              "    .dataframe thead th {\n",
              "        text-align: right;\n",
              "    }\n",
              "</style>\n",
              "<table border=\"1\" class=\"dataframe\">\n",
              "  <thead>\n",
              "    <tr style=\"text-align: right;\">\n",
              "      <th></th>\n",
              "      <th>user</th>\n",
              "      <th>entry</th>\n",
              "      <th>type</th>\n",
              "      <th>typeClass</th>\n",
              "      <th>I/E</th>\n",
              "      <th>S/N</th>\n",
              "      <th>T/F</th>\n",
              "      <th>J/P</th>\n",
              "    </tr>\n",
              "  </thead>\n",
              "  <tbody>\n",
              "    <tr>\n",
              "      <th>0</th>\n",
              "      <td>19991991</td>\n",
              "      <td>ekşi itiraf döndüm dolaştım geldim kendime çat...</td>\n",
              "      <td>ENTJ</td>\n",
              "      <td>analysts</td>\n",
              "      <td>E</td>\n",
              "      <td>N</td>\n",
              "      <td>T</td>\n",
              "      <td>J</td>\n",
              "    </tr>\n",
              "    <tr>\n",
              "      <th>1</th>\n",
              "      <td>19991991</td>\n",
              "      <td>selda bağcan sesi dinleyebilmek büyük mutluluk...</td>\n",
              "      <td>ENTJ</td>\n",
              "      <td>analysts</td>\n",
              "      <td>E</td>\n",
              "      <td>N</td>\n",
              "      <td>T</td>\n",
              "      <td>J</td>\n",
              "    </tr>\n",
              "    <tr>\n",
              "      <th>2</th>\n",
              "      <td>19991991</td>\n",
              "      <td>eski sevgilisinin mutlu olmasını isteyen insan...</td>\n",
              "      <td>ENTJ</td>\n",
              "      <td>analysts</td>\n",
              "      <td>E</td>\n",
              "      <td>N</td>\n",
              "      <td>T</td>\n",
              "      <td>J</td>\n",
              "    </tr>\n",
              "    <tr>\n",
              "      <th>3</th>\n",
              "      <td>19991991</td>\n",
              "      <td>veda ederken not bırakmak farklı acılar mutlul...</td>\n",
              "      <td>ENTJ</td>\n",
              "      <td>analysts</td>\n",
              "      <td>E</td>\n",
              "      <td>N</td>\n",
              "      <td>T</td>\n",
              "      <td>J</td>\n",
              "    </tr>\n",
              "    <tr>\n",
              "      <th>4</th>\n",
              "      <td>19991991</td>\n",
              "      <td>ingiliz aksanı aralar bayıldığım konuşan insan...</td>\n",
              "      <td>ENTJ</td>\n",
              "      <td>analysts</td>\n",
              "      <td>E</td>\n",
              "      <td>N</td>\n",
              "      <td>T</td>\n",
              "      <td>J</td>\n",
              "    </tr>\n",
              "    <tr>\n",
              "      <th>...</th>\n",
              "      <td>...</td>\n",
              "      <td>...</td>\n",
              "      <td>...</td>\n",
              "      <td>...</td>\n",
              "      <td>...</td>\n",
              "      <td>...</td>\n",
              "      <td>...</td>\n",
              "      <td>...</td>\n",
              "    </tr>\n",
              "    <tr>\n",
              "      <th>524835</th>\n",
              "      <td>zaimoglu</td>\n",
              "      <td>zlatan ibrahimoviç türkiye katil</td>\n",
              "      <td>ESFJ</td>\n",
              "      <td>sentinels</td>\n",
              "      <td>E</td>\n",
              "      <td>S</td>\n",
              "      <td>F</td>\n",
              "      <td>J</td>\n",
              "    </tr>\n",
              "    <tr>\n",
              "      <th>524836</th>\n",
              "      <td>zaimoglu</td>\n",
              "      <td>tarihteki büyük yalancılar şike operasyonu azi...</td>\n",
              "      <td>ESFJ</td>\n",
              "      <td>sentinels</td>\n",
              "      <td>E</td>\n",
              "      <td>S</td>\n",
              "      <td>F</td>\n",
              "      <td>J</td>\n",
              "    </tr>\n",
              "    <tr>\n",
              "      <th>524837</th>\n",
              "      <td>zaimoglu</td>\n",
              "      <td>akp chp koalisyonu hayali koalisyondur</td>\n",
              "      <td>ESFJ</td>\n",
              "      <td>sentinels</td>\n",
              "      <td>E</td>\n",
              "      <td>S</td>\n",
              "      <td>F</td>\n",
              "      <td>J</td>\n",
              "    </tr>\n",
              "    <tr>\n",
              "      <th>524838</th>\n",
              "      <td>zaimoglu</td>\n",
              "      <td>trabzonlu insana hamsi diyen fenerbahçe taraft...</td>\n",
              "      <td>ESFJ</td>\n",
              "      <td>sentinels</td>\n",
              "      <td>E</td>\n",
              "      <td>S</td>\n",
              "      <td>F</td>\n",
              "      <td>J</td>\n",
              "    </tr>\n",
              "    <tr>\n",
              "      <th>524839</th>\n",
              "      <td>zaimoglu</td>\n",
              "      <td>caner taslaman zonguldak paneline katılmaktan ...</td>\n",
              "      <td>ESFJ</td>\n",
              "      <td>sentinels</td>\n",
              "      <td>E</td>\n",
              "      <td>S</td>\n",
              "      <td>F</td>\n",
              "      <td>J</td>\n",
              "    </tr>\n",
              "  </tbody>\n",
              "</table>\n",
              "<p>524840 rows × 8 columns</p>\n",
              "</div>"
            ],
            "text/plain": [
              "            user                                              entry  ... T/F J/P\n",
              "0       19991991  ekşi itiraf döndüm dolaştım geldim kendime çat...  ...   T   J\n",
              "1       19991991  selda bağcan sesi dinleyebilmek büyük mutluluk...  ...   T   J\n",
              "2       19991991  eski sevgilisinin mutlu olmasını isteyen insan...  ...   T   J\n",
              "3       19991991  veda ederken not bırakmak farklı acılar mutlul...  ...   T   J\n",
              "4       19991991  ingiliz aksanı aralar bayıldığım konuşan insan...  ...   T   J\n",
              "...          ...                                                ...  ...  ..  ..\n",
              "524835  zaimoglu                   zlatan ibrahimoviç türkiye katil  ...   F   J\n",
              "524836  zaimoglu  tarihteki büyük yalancılar şike operasyonu azi...  ...   F   J\n",
              "524837  zaimoglu             akp chp koalisyonu hayali koalisyondur  ...   F   J\n",
              "524838  zaimoglu  trabzonlu insana hamsi diyen fenerbahçe taraft...  ...   F   J\n",
              "524839  zaimoglu  caner taslaman zonguldak paneline katılmaktan ...  ...   F   J\n",
              "\n",
              "[524840 rows x 8 columns]"
            ]
          },
          "metadata": {
            "tags": []
          },
          "execution_count": 77
        }
      ]
    },
    {
      "cell_type": "markdown",
      "metadata": {
        "id": "GcxpNYXig751",
        "colab_type": "text"
      },
      "source": [
        "Olmayan değerler silinir"
      ]
    },
    {
      "cell_type": "code",
      "metadata": {
        "id": "lUgkb2G9gvZw",
        "colab_type": "code",
        "colab": {}
      },
      "source": [
        "df = df.dropna().reset_index(drop = True)"
      ],
      "execution_count": 0,
      "outputs": []
    },
    {
      "cell_type": "code",
      "metadata": {
        "id": "e0RpwP8fgw9W",
        "colab_type": "code",
        "colab": {
          "base_uri": "https://localhost:8080/",
          "height": 419
        },
        "outputId": "dd07b3a7-bf2b-40b2-8cd9-925aee94b087"
      },
      "source": [
        "df"
      ],
      "execution_count": 79,
      "outputs": [
        {
          "output_type": "execute_result",
          "data": {
            "text/html": [
              "<div>\n",
              "<style scoped>\n",
              "    .dataframe tbody tr th:only-of-type {\n",
              "        vertical-align: middle;\n",
              "    }\n",
              "\n",
              "    .dataframe tbody tr th {\n",
              "        vertical-align: top;\n",
              "    }\n",
              "\n",
              "    .dataframe thead th {\n",
              "        text-align: right;\n",
              "    }\n",
              "</style>\n",
              "<table border=\"1\" class=\"dataframe\">\n",
              "  <thead>\n",
              "    <tr style=\"text-align: right;\">\n",
              "      <th></th>\n",
              "      <th>user</th>\n",
              "      <th>entry</th>\n",
              "      <th>type</th>\n",
              "      <th>typeClass</th>\n",
              "      <th>I/E</th>\n",
              "      <th>S/N</th>\n",
              "      <th>T/F</th>\n",
              "      <th>J/P</th>\n",
              "    </tr>\n",
              "  </thead>\n",
              "  <tbody>\n",
              "    <tr>\n",
              "      <th>0</th>\n",
              "      <td>19991991</td>\n",
              "      <td>ekşi itiraf döndüm dolaştım geldim kendime çat...</td>\n",
              "      <td>ENTJ</td>\n",
              "      <td>analysts</td>\n",
              "      <td>E</td>\n",
              "      <td>N</td>\n",
              "      <td>T</td>\n",
              "      <td>J</td>\n",
              "    </tr>\n",
              "    <tr>\n",
              "      <th>1</th>\n",
              "      <td>19991991</td>\n",
              "      <td>selda bağcan sesi dinleyebilmek büyük mutluluk...</td>\n",
              "      <td>ENTJ</td>\n",
              "      <td>analysts</td>\n",
              "      <td>E</td>\n",
              "      <td>N</td>\n",
              "      <td>T</td>\n",
              "      <td>J</td>\n",
              "    </tr>\n",
              "    <tr>\n",
              "      <th>2</th>\n",
              "      <td>19991991</td>\n",
              "      <td>eski sevgilisinin mutlu olmasını isteyen insan...</td>\n",
              "      <td>ENTJ</td>\n",
              "      <td>analysts</td>\n",
              "      <td>E</td>\n",
              "      <td>N</td>\n",
              "      <td>T</td>\n",
              "      <td>J</td>\n",
              "    </tr>\n",
              "    <tr>\n",
              "      <th>3</th>\n",
              "      <td>19991991</td>\n",
              "      <td>veda ederken not bırakmak farklı acılar mutlul...</td>\n",
              "      <td>ENTJ</td>\n",
              "      <td>analysts</td>\n",
              "      <td>E</td>\n",
              "      <td>N</td>\n",
              "      <td>T</td>\n",
              "      <td>J</td>\n",
              "    </tr>\n",
              "    <tr>\n",
              "      <th>4</th>\n",
              "      <td>19991991</td>\n",
              "      <td>ingiliz aksanı aralar bayıldığım konuşan insan...</td>\n",
              "      <td>ENTJ</td>\n",
              "      <td>analysts</td>\n",
              "      <td>E</td>\n",
              "      <td>N</td>\n",
              "      <td>T</td>\n",
              "      <td>J</td>\n",
              "    </tr>\n",
              "    <tr>\n",
              "      <th>...</th>\n",
              "      <td>...</td>\n",
              "      <td>...</td>\n",
              "      <td>...</td>\n",
              "      <td>...</td>\n",
              "      <td>...</td>\n",
              "      <td>...</td>\n",
              "      <td>...</td>\n",
              "      <td>...</td>\n",
              "    </tr>\n",
              "    <tr>\n",
              "      <th>524788</th>\n",
              "      <td>zaimoglu</td>\n",
              "      <td>zlatan ibrahimoviç türkiye katil</td>\n",
              "      <td>ESFJ</td>\n",
              "      <td>sentinels</td>\n",
              "      <td>E</td>\n",
              "      <td>S</td>\n",
              "      <td>F</td>\n",
              "      <td>J</td>\n",
              "    </tr>\n",
              "    <tr>\n",
              "      <th>524789</th>\n",
              "      <td>zaimoglu</td>\n",
              "      <td>tarihteki büyük yalancılar şike operasyonu azi...</td>\n",
              "      <td>ESFJ</td>\n",
              "      <td>sentinels</td>\n",
              "      <td>E</td>\n",
              "      <td>S</td>\n",
              "      <td>F</td>\n",
              "      <td>J</td>\n",
              "    </tr>\n",
              "    <tr>\n",
              "      <th>524790</th>\n",
              "      <td>zaimoglu</td>\n",
              "      <td>akp chp koalisyonu hayali koalisyondur</td>\n",
              "      <td>ESFJ</td>\n",
              "      <td>sentinels</td>\n",
              "      <td>E</td>\n",
              "      <td>S</td>\n",
              "      <td>F</td>\n",
              "      <td>J</td>\n",
              "    </tr>\n",
              "    <tr>\n",
              "      <th>524791</th>\n",
              "      <td>zaimoglu</td>\n",
              "      <td>trabzonlu insana hamsi diyen fenerbahçe taraft...</td>\n",
              "      <td>ESFJ</td>\n",
              "      <td>sentinels</td>\n",
              "      <td>E</td>\n",
              "      <td>S</td>\n",
              "      <td>F</td>\n",
              "      <td>J</td>\n",
              "    </tr>\n",
              "    <tr>\n",
              "      <th>524792</th>\n",
              "      <td>zaimoglu</td>\n",
              "      <td>caner taslaman zonguldak paneline katılmaktan ...</td>\n",
              "      <td>ESFJ</td>\n",
              "      <td>sentinels</td>\n",
              "      <td>E</td>\n",
              "      <td>S</td>\n",
              "      <td>F</td>\n",
              "      <td>J</td>\n",
              "    </tr>\n",
              "  </tbody>\n",
              "</table>\n",
              "<p>524793 rows × 8 columns</p>\n",
              "</div>"
            ],
            "text/plain": [
              "            user                                              entry  ... T/F J/P\n",
              "0       19991991  ekşi itiraf döndüm dolaştım geldim kendime çat...  ...   T   J\n",
              "1       19991991  selda bağcan sesi dinleyebilmek büyük mutluluk...  ...   T   J\n",
              "2       19991991  eski sevgilisinin mutlu olmasını isteyen insan...  ...   T   J\n",
              "3       19991991  veda ederken not bırakmak farklı acılar mutlul...  ...   T   J\n",
              "4       19991991  ingiliz aksanı aralar bayıldığım konuşan insan...  ...   T   J\n",
              "...          ...                                                ...  ...  ..  ..\n",
              "524788  zaimoglu                   zlatan ibrahimoviç türkiye katil  ...   F   J\n",
              "524789  zaimoglu  tarihteki büyük yalancılar şike operasyonu azi...  ...   F   J\n",
              "524790  zaimoglu             akp chp koalisyonu hayali koalisyondur  ...   F   J\n",
              "524791  zaimoglu  trabzonlu insana hamsi diyen fenerbahçe taraft...  ...   F   J\n",
              "524792  zaimoglu  caner taslaman zonguldak paneline katılmaktan ...  ...   F   J\n",
              "\n",
              "[524793 rows x 8 columns]"
            ]
          },
          "metadata": {
            "tags": []
          },
          "execution_count": 79
        }
      ]
    },
    {
      "cell_type": "markdown",
      "metadata": {
        "id": "hMGyRijhJcr3",
        "colab_type": "text"
      },
      "source": [
        "fastText classification yaparken labellı verinin ``` __label__LabelValue ``` şeklinde olmasını bekliyor. Burada ilgili dataframe'i bu hale getirilir"
      ]
    },
    {
      "cell_type": "code",
      "metadata": {
        "id": "IpyjMEedJcS-",
        "colab_type": "code",
        "colab": {
          "base_uri": "https://localhost:8080/",
          "height": 419
        },
        "outputId": "2458e102-c819-45ae-fbc7-0ee24922487d"
      },
      "source": [
        "df['J/P'] = [\"__label__\" + class_label for class_label in df['J/P']]\n",
        "\n",
        "df"
      ],
      "execution_count": 80,
      "outputs": [
        {
          "output_type": "execute_result",
          "data": {
            "text/html": [
              "<div>\n",
              "<style scoped>\n",
              "    .dataframe tbody tr th:only-of-type {\n",
              "        vertical-align: middle;\n",
              "    }\n",
              "\n",
              "    .dataframe tbody tr th {\n",
              "        vertical-align: top;\n",
              "    }\n",
              "\n",
              "    .dataframe thead th {\n",
              "        text-align: right;\n",
              "    }\n",
              "</style>\n",
              "<table border=\"1\" class=\"dataframe\">\n",
              "  <thead>\n",
              "    <tr style=\"text-align: right;\">\n",
              "      <th></th>\n",
              "      <th>user</th>\n",
              "      <th>entry</th>\n",
              "      <th>type</th>\n",
              "      <th>typeClass</th>\n",
              "      <th>I/E</th>\n",
              "      <th>S/N</th>\n",
              "      <th>T/F</th>\n",
              "      <th>J/P</th>\n",
              "    </tr>\n",
              "  </thead>\n",
              "  <tbody>\n",
              "    <tr>\n",
              "      <th>0</th>\n",
              "      <td>19991991</td>\n",
              "      <td>ekşi itiraf döndüm dolaştım geldim kendime çat...</td>\n",
              "      <td>ENTJ</td>\n",
              "      <td>analysts</td>\n",
              "      <td>E</td>\n",
              "      <td>N</td>\n",
              "      <td>T</td>\n",
              "      <td>__label__J</td>\n",
              "    </tr>\n",
              "    <tr>\n",
              "      <th>1</th>\n",
              "      <td>19991991</td>\n",
              "      <td>selda bağcan sesi dinleyebilmek büyük mutluluk...</td>\n",
              "      <td>ENTJ</td>\n",
              "      <td>analysts</td>\n",
              "      <td>E</td>\n",
              "      <td>N</td>\n",
              "      <td>T</td>\n",
              "      <td>__label__J</td>\n",
              "    </tr>\n",
              "    <tr>\n",
              "      <th>2</th>\n",
              "      <td>19991991</td>\n",
              "      <td>eski sevgilisinin mutlu olmasını isteyen insan...</td>\n",
              "      <td>ENTJ</td>\n",
              "      <td>analysts</td>\n",
              "      <td>E</td>\n",
              "      <td>N</td>\n",
              "      <td>T</td>\n",
              "      <td>__label__J</td>\n",
              "    </tr>\n",
              "    <tr>\n",
              "      <th>3</th>\n",
              "      <td>19991991</td>\n",
              "      <td>veda ederken not bırakmak farklı acılar mutlul...</td>\n",
              "      <td>ENTJ</td>\n",
              "      <td>analysts</td>\n",
              "      <td>E</td>\n",
              "      <td>N</td>\n",
              "      <td>T</td>\n",
              "      <td>__label__J</td>\n",
              "    </tr>\n",
              "    <tr>\n",
              "      <th>4</th>\n",
              "      <td>19991991</td>\n",
              "      <td>ingiliz aksanı aralar bayıldığım konuşan insan...</td>\n",
              "      <td>ENTJ</td>\n",
              "      <td>analysts</td>\n",
              "      <td>E</td>\n",
              "      <td>N</td>\n",
              "      <td>T</td>\n",
              "      <td>__label__J</td>\n",
              "    </tr>\n",
              "    <tr>\n",
              "      <th>...</th>\n",
              "      <td>...</td>\n",
              "      <td>...</td>\n",
              "      <td>...</td>\n",
              "      <td>...</td>\n",
              "      <td>...</td>\n",
              "      <td>...</td>\n",
              "      <td>...</td>\n",
              "      <td>...</td>\n",
              "    </tr>\n",
              "    <tr>\n",
              "      <th>524788</th>\n",
              "      <td>zaimoglu</td>\n",
              "      <td>zlatan ibrahimoviç türkiye katil</td>\n",
              "      <td>ESFJ</td>\n",
              "      <td>sentinels</td>\n",
              "      <td>E</td>\n",
              "      <td>S</td>\n",
              "      <td>F</td>\n",
              "      <td>__label__J</td>\n",
              "    </tr>\n",
              "    <tr>\n",
              "      <th>524789</th>\n",
              "      <td>zaimoglu</td>\n",
              "      <td>tarihteki büyük yalancılar şike operasyonu azi...</td>\n",
              "      <td>ESFJ</td>\n",
              "      <td>sentinels</td>\n",
              "      <td>E</td>\n",
              "      <td>S</td>\n",
              "      <td>F</td>\n",
              "      <td>__label__J</td>\n",
              "    </tr>\n",
              "    <tr>\n",
              "      <th>524790</th>\n",
              "      <td>zaimoglu</td>\n",
              "      <td>akp chp koalisyonu hayali koalisyondur</td>\n",
              "      <td>ESFJ</td>\n",
              "      <td>sentinels</td>\n",
              "      <td>E</td>\n",
              "      <td>S</td>\n",
              "      <td>F</td>\n",
              "      <td>__label__J</td>\n",
              "    </tr>\n",
              "    <tr>\n",
              "      <th>524791</th>\n",
              "      <td>zaimoglu</td>\n",
              "      <td>trabzonlu insana hamsi diyen fenerbahçe taraft...</td>\n",
              "      <td>ESFJ</td>\n",
              "      <td>sentinels</td>\n",
              "      <td>E</td>\n",
              "      <td>S</td>\n",
              "      <td>F</td>\n",
              "      <td>__label__J</td>\n",
              "    </tr>\n",
              "    <tr>\n",
              "      <th>524792</th>\n",
              "      <td>zaimoglu</td>\n",
              "      <td>caner taslaman zonguldak paneline katılmaktan ...</td>\n",
              "      <td>ESFJ</td>\n",
              "      <td>sentinels</td>\n",
              "      <td>E</td>\n",
              "      <td>S</td>\n",
              "      <td>F</td>\n",
              "      <td>__label__J</td>\n",
              "    </tr>\n",
              "  </tbody>\n",
              "</table>\n",
              "<p>524793 rows × 8 columns</p>\n",
              "</div>"
            ],
            "text/plain": [
              "            user  ...         J/P\n",
              "0       19991991  ...  __label__J\n",
              "1       19991991  ...  __label__J\n",
              "2       19991991  ...  __label__J\n",
              "3       19991991  ...  __label__J\n",
              "4       19991991  ...  __label__J\n",
              "...          ...  ...         ...\n",
              "524788  zaimoglu  ...  __label__J\n",
              "524789  zaimoglu  ...  __label__J\n",
              "524790  zaimoglu  ...  __label__J\n",
              "524791  zaimoglu  ...  __label__J\n",
              "524792  zaimoglu  ...  __label__J\n",
              "\n",
              "[524793 rows x 8 columns]"
            ]
          },
          "metadata": {
            "tags": []
          },
          "execution_count": 80
        }
      ]
    },
    {
      "cell_type": "markdown",
      "metadata": {
        "id": "Xm01yrCpLScJ",
        "colab_type": "text"
      },
      "source": [
        "Veriseti %80 train %20 test olacak şekilde ikiye ayrılır. Train veriseti ile ilgili model oluşturulacaktır."
      ]
    },
    {
      "cell_type": "code",
      "metadata": {
        "id": "EXMInhefLW6f",
        "colab_type": "code",
        "colab": {}
      },
      "source": [
        "from sklearn.model_selection import train_test_split\n",
        "train, test = train_test_split(df, test_size=0.2, shuffle = True, random_state = 42)\n"
      ],
      "execution_count": 0,
      "outputs": []
    },
    {
      "cell_type": "code",
      "metadata": {
        "id": "v0YypgqGL5kc",
        "colab_type": "code",
        "colab": {
          "base_uri": "https://localhost:8080/",
          "height": 419
        },
        "outputId": "4d00db4e-ed6e-4fae-a639-403a115f07a3"
      },
      "source": [
        "train"
      ],
      "execution_count": 82,
      "outputs": [
        {
          "output_type": "execute_result",
          "data": {
            "text/html": [
              "<div>\n",
              "<style scoped>\n",
              "    .dataframe tbody tr th:only-of-type {\n",
              "        vertical-align: middle;\n",
              "    }\n",
              "\n",
              "    .dataframe tbody tr th {\n",
              "        vertical-align: top;\n",
              "    }\n",
              "\n",
              "    .dataframe thead th {\n",
              "        text-align: right;\n",
              "    }\n",
              "</style>\n",
              "<table border=\"1\" class=\"dataframe\">\n",
              "  <thead>\n",
              "    <tr style=\"text-align: right;\">\n",
              "      <th></th>\n",
              "      <th>user</th>\n",
              "      <th>entry</th>\n",
              "      <th>type</th>\n",
              "      <th>typeClass</th>\n",
              "      <th>I/E</th>\n",
              "      <th>S/N</th>\n",
              "      <th>T/F</th>\n",
              "      <th>J/P</th>\n",
              "    </tr>\n",
              "  </thead>\n",
              "  <tbody>\n",
              "    <tr>\n",
              "      <th>518586</th>\n",
              "      <td>warherooguzhan</td>\n",
              "      <td>bursa çekilen varlık fotoğrafı uzaylı sandım a...</td>\n",
              "      <td>ISTJ</td>\n",
              "      <td>sentinels</td>\n",
              "      <td>I</td>\n",
              "      <td>S</td>\n",
              "      <td>T</td>\n",
              "      <td>__label__J</td>\n",
              "    </tr>\n",
              "    <tr>\n",
              "      <th>178419</th>\n",
              "      <td>varos cloudstrider</td>\n",
              "      <td>irish stew sindidun kurulmuş sırbistan kökenli...</td>\n",
              "      <td>ENTJ</td>\n",
              "      <td>analysts</td>\n",
              "      <td>E</td>\n",
              "      <td>N</td>\n",
              "      <td>T</td>\n",
              "      <td>__label__J</td>\n",
              "    </tr>\n",
              "    <tr>\n",
              "      <th>93404</th>\n",
              "      <td>macenas</td>\n",
              "      <td>ekim barış pınarı harekatının başlaması savaş ...</td>\n",
              "      <td>INTJ</td>\n",
              "      <td>analysts</td>\n",
              "      <td>I</td>\n",
              "      <td>N</td>\n",
              "      <td>T</td>\n",
              "      <td>__label__J</td>\n",
              "    </tr>\n",
              "    <tr>\n",
              "      <th>156624</th>\n",
              "      <td>stormblade</td>\n",
              "      <td>euro eteğin araba paspasına benzetilmesi dünya...</td>\n",
              "      <td>INTJ</td>\n",
              "      <td>analysts</td>\n",
              "      <td>I</td>\n",
              "      <td>N</td>\n",
              "      <td>T</td>\n",
              "      <td>__label__J</td>\n",
              "    </tr>\n",
              "    <tr>\n",
              "      <th>156296</th>\n",
              "      <td>teletabiii</td>\n",
              "      <td>adobe after effects kişi fikir vermiş yazılımı...</td>\n",
              "      <td>ENTP</td>\n",
              "      <td>analysts</td>\n",
              "      <td>E</td>\n",
              "      <td>N</td>\n",
              "      <td>T</td>\n",
              "      <td>__label__P</td>\n",
              "    </tr>\n",
              "    <tr>\n",
              "      <th>...</th>\n",
              "      <td>...</td>\n",
              "      <td>...</td>\n",
              "      <td>...</td>\n",
              "      <td>...</td>\n",
              "      <td>...</td>\n",
              "      <td>...</td>\n",
              "      <td>...</td>\n",
              "      <td>...</td>\n",
              "    </tr>\n",
              "    <tr>\n",
              "      <th>110268</th>\n",
              "      <td>okunmuspenaa</td>\n",
              "      <td>servispoint msi firmanın otistikleri yetkili s...</td>\n",
              "      <td>ENTJ</td>\n",
              "      <td>analysts</td>\n",
              "      <td>E</td>\n",
              "      <td>N</td>\n",
              "      <td>T</td>\n",
              "      <td>__label__J</td>\n",
              "    </tr>\n",
              "    <tr>\n",
              "      <th>259178</th>\n",
              "      <td>kareem said</td>\n",
              "      <td>mountain view bugun barack obama bulunmasi cok...</td>\n",
              "      <td>ENFP</td>\n",
              "      <td>diplomats</td>\n",
              "      <td>E</td>\n",
              "      <td>N</td>\n",
              "      <td>F</td>\n",
              "      <td>__label__P</td>\n",
              "    </tr>\n",
              "    <tr>\n",
              "      <th>365838</th>\n",
              "      <td>tuzbuzz</td>\n",
              "      <td>konserle seyahati seven kitap okuyan kavgacı e...</td>\n",
              "      <td>ENFP</td>\n",
              "      <td>diplomats</td>\n",
              "      <td>E</td>\n",
              "      <td>N</td>\n",
              "      <td>F</td>\n",
              "      <td>__label__P</td>\n",
              "    </tr>\n",
              "    <tr>\n",
              "      <th>131932</th>\n",
              "      <td>patlak fermuar</td>\n",
              "      <td>vechain reddit kulislerinde dönen dedikoduya o...</td>\n",
              "      <td>ENTJ</td>\n",
              "      <td>analysts</td>\n",
              "      <td>E</td>\n",
              "      <td>N</td>\n",
              "      <td>T</td>\n",
              "      <td>__label__J</td>\n",
              "    </tr>\n",
              "    <tr>\n",
              "      <th>121958</th>\n",
              "      <td>nuka cola</td>\n",
              "      <td>ermeni soykırımı yasal uyanıklıklarla yaptığım...</td>\n",
              "      <td>ENTP</td>\n",
              "      <td>analysts</td>\n",
              "      <td>E</td>\n",
              "      <td>N</td>\n",
              "      <td>T</td>\n",
              "      <td>__label__P</td>\n",
              "    </tr>\n",
              "  </tbody>\n",
              "</table>\n",
              "<p>419834 rows × 8 columns</p>\n",
              "</div>"
            ],
            "text/plain": [
              "                      user  ...         J/P\n",
              "518586      warherooguzhan  ...  __label__J\n",
              "178419  varos cloudstrider  ...  __label__J\n",
              "93404              macenas  ...  __label__J\n",
              "156624          stormblade  ...  __label__J\n",
              "156296          teletabiii  ...  __label__P\n",
              "...                    ...  ...         ...\n",
              "110268        okunmuspenaa  ...  __label__J\n",
              "259178         kareem said  ...  __label__P\n",
              "365838             tuzbuzz  ...  __label__P\n",
              "131932      patlak fermuar  ...  __label__J\n",
              "121958           nuka cola  ...  __label__P\n",
              "\n",
              "[419834 rows x 8 columns]"
            ]
          },
          "metadata": {
            "tags": []
          },
          "execution_count": 82
        }
      ]
    },
    {
      "cell_type": "code",
      "metadata": {
        "id": "IYF-ZRyOL7hC",
        "colab_type": "code",
        "colab": {
          "base_uri": "https://localhost:8080/",
          "height": 419
        },
        "outputId": "d8748618-fc85-42e7-9787-fae4d27fbe27"
      },
      "source": [
        "test"
      ],
      "execution_count": 83,
      "outputs": [
        {
          "output_type": "execute_result",
          "data": {
            "text/html": [
              "<div>\n",
              "<style scoped>\n",
              "    .dataframe tbody tr th:only-of-type {\n",
              "        vertical-align: middle;\n",
              "    }\n",
              "\n",
              "    .dataframe tbody tr th {\n",
              "        vertical-align: top;\n",
              "    }\n",
              "\n",
              "    .dataframe thead th {\n",
              "        text-align: right;\n",
              "    }\n",
              "</style>\n",
              "<table border=\"1\" class=\"dataframe\">\n",
              "  <thead>\n",
              "    <tr style=\"text-align: right;\">\n",
              "      <th></th>\n",
              "      <th>user</th>\n",
              "      <th>entry</th>\n",
              "      <th>type</th>\n",
              "      <th>typeClass</th>\n",
              "      <th>I/E</th>\n",
              "      <th>S/N</th>\n",
              "      <th>T/F</th>\n",
              "      <th>J/P</th>\n",
              "    </tr>\n",
              "  </thead>\n",
              "  <tbody>\n",
              "    <tr>\n",
              "      <th>190857</th>\n",
              "      <td>2k</td>\n",
              "      <td>whatsapp tan sevgililerin iletişimi kelimeyi t...</td>\n",
              "      <td>ENFJ</td>\n",
              "      <td>diplomats</td>\n",
              "      <td>E</td>\n",
              "      <td>N</td>\n",
              "      <td>F</td>\n",
              "      <td>__label__J</td>\n",
              "    </tr>\n",
              "    <tr>\n",
              "      <th>149243</th>\n",
              "      <td>sanal gezgin</td>\n",
              "      <td>olumlu sonraki hayatımın mottosu olacak sözcük...</td>\n",
              "      <td>INTP</td>\n",
              "      <td>analysts</td>\n",
              "      <td>I</td>\n",
              "      <td>N</td>\n",
              "      <td>T</td>\n",
              "      <td>__label__P</td>\n",
              "    </tr>\n",
              "    <tr>\n",
              "      <th>385353</th>\n",
              "      <td>asabi</td>\n",
              "      <td>facebook sohbet zımbırtısı pencere açılmıyor</td>\n",
              "      <td>ISFP</td>\n",
              "      <td>explorers</td>\n",
              "      <td>I</td>\n",
              "      <td>S</td>\n",
              "      <td>F</td>\n",
              "      <td>__label__P</td>\n",
              "    </tr>\n",
              "    <tr>\n",
              "      <th>440582</th>\n",
              "      <td>biberanides</td>\n",
              "      <td>atom bombası atılınca gerekenler pantolonun pa...</td>\n",
              "      <td>ESTJ</td>\n",
              "      <td>sentinels</td>\n",
              "      <td>E</td>\n",
              "      <td>S</td>\n",
              "      <td>T</td>\n",
              "      <td>__label__J</td>\n",
              "    </tr>\n",
              "    <tr>\n",
              "      <th>159448</th>\n",
              "      <td>shed</td>\n",
              "      <td>evi getirmek uğraşma hayali ev parasına arsayı...</td>\n",
              "      <td>ENTP</td>\n",
              "      <td>analysts</td>\n",
              "      <td>E</td>\n",
              "      <td>N</td>\n",
              "      <td>T</td>\n",
              "      <td>__label__P</td>\n",
              "    </tr>\n",
              "    <tr>\n",
              "      <th>...</th>\n",
              "      <td>...</td>\n",
              "      <td>...</td>\n",
              "      <td>...</td>\n",
              "      <td>...</td>\n",
              "      <td>...</td>\n",
              "      <td>...</td>\n",
              "      <td>...</td>\n",
              "      <td>...</td>\n",
              "    </tr>\n",
              "    <tr>\n",
              "      <th>385265</th>\n",
              "      <td>asabi</td>\n",
              "      <td>galatasaray şike davasından doğal konuşulan al...</td>\n",
              "      <td>ISFP</td>\n",
              "      <td>explorers</td>\n",
              "      <td>I</td>\n",
              "      <td>S</td>\n",
              "      <td>F</td>\n",
              "      <td>__label__P</td>\n",
              "    </tr>\n",
              "    <tr>\n",
              "      <th>309165</th>\n",
              "      <td>n8</td>\n",
              "      <td>nigel jong basina oynamaya calisan oyuncu aldi...</td>\n",
              "      <td>ENFJ</td>\n",
              "      <td>diplomats</td>\n",
              "      <td>E</td>\n",
              "      <td>N</td>\n",
              "      <td>F</td>\n",
              "      <td>__label__J</td>\n",
              "    </tr>\n",
              "    <tr>\n",
              "      <th>493113</th>\n",
              "      <td>seveni olmayan adam</td>\n",
              "      <td>mayıs ekrem imamoğlu esnafla diyaloğu ekrem ba...</td>\n",
              "      <td>ESTJ</td>\n",
              "      <td>sentinels</td>\n",
              "      <td>E</td>\n",
              "      <td>S</td>\n",
              "      <td>T</td>\n",
              "      <td>__label__J</td>\n",
              "    </tr>\n",
              "    <tr>\n",
              "      <th>209250</th>\n",
              "      <td>birdyfirdy</td>\n",
              "      <td>kasım alanya yaşanan motosiklet kazası haberle...</td>\n",
              "      <td>ENFP</td>\n",
              "      <td>diplomats</td>\n",
              "      <td>E</td>\n",
              "      <td>N</td>\n",
              "      <td>F</td>\n",
              "      <td>__label__P</td>\n",
              "    </tr>\n",
              "    <tr>\n",
              "      <th>358272</th>\n",
              "      <td>zaman sokaklarda kayboluyordu</td>\n",
              "      <td>yazarın entry lerini arka arkaya okumak yazarı...</td>\n",
              "      <td>INFP</td>\n",
              "      <td>diplomats</td>\n",
              "      <td>I</td>\n",
              "      <td>N</td>\n",
              "      <td>F</td>\n",
              "      <td>__label__P</td>\n",
              "    </tr>\n",
              "  </tbody>\n",
              "</table>\n",
              "<p>104959 rows × 8 columns</p>\n",
              "</div>"
            ],
            "text/plain": [
              "                                 user  ...         J/P\n",
              "190857                             2k  ...  __label__J\n",
              "149243                   sanal gezgin  ...  __label__P\n",
              "385353                          asabi  ...  __label__P\n",
              "440582                    biberanides  ...  __label__J\n",
              "159448                           shed  ...  __label__P\n",
              "...                               ...  ...         ...\n",
              "385265                          asabi  ...  __label__P\n",
              "309165                             n8  ...  __label__J\n",
              "493113            seveni olmayan adam  ...  __label__J\n",
              "209250                     birdyfirdy  ...  __label__P\n",
              "358272  zaman sokaklarda kayboluyordu  ...  __label__P\n",
              "\n",
              "[104959 rows x 8 columns]"
            ]
          },
          "metadata": {
            "tags": []
          },
          "execution_count": 83
        }
      ]
    },
    {
      "cell_type": "markdown",
      "metadata": {
        "id": "WQEtnZnhNcFf",
        "colab_type": "text"
      },
      "source": [
        "Train ve test olan verisetlerimizin bir dosyaya kaydedilip ilgili pathlerinin fastText'e geçilmesi gerekiyor. O yüzden bu adımda ilgili verisetleri dosyalara kaydedilir. quoting = csv.QUOTE_NONE kaydedilen string değerlerin herhangi bir quote (\",') karakteriyle sarılmamasını söyler"
      ]
    },
    {
      "cell_type": "code",
      "metadata": {
        "id": "7OE5RI4tVPrr",
        "colab_type": "code",
        "colab": {}
      },
      "source": [
        "import csv"
      ],
      "execution_count": 0,
      "outputs": []
    },
    {
      "cell_type": "code",
      "metadata": {
        "id": "RG_L-BdUN-5h",
        "colab_type": "code",
        "colab": {}
      },
      "source": [
        "TRAIN_DATASET_PATH = \"gdrive/My Drive/mbti/fastText_J-P_train_set.txt\"\n",
        "train.to_csv(TRAIN_DATASET_PATH, header = False, index = False, columns = ['J/P', 'entry'], sep = ' ', quoting = csv.QUOTE_NONE, escapechar = ' ')"
      ],
      "execution_count": 0,
      "outputs": []
    },
    {
      "cell_type": "code",
      "metadata": {
        "id": "QYk6xHncOW4i",
        "colab_type": "code",
        "colab": {}
      },
      "source": [
        "TEST_DATASET_PATH = \"gdrive/My Drive/mbti/fastText_J-P_test_set.txt\"\n",
        "test.to_csv(TEST_DATASET_PATH, header = False, index = False, columns = ['J/P', 'entry'], sep = ' ', quoting = csv.QUOTE_NONE, escapechar=' ')"
      ],
      "execution_count": 0,
      "outputs": []
    },
    {
      "cell_type": "markdown",
      "metadata": {
        "id": "AtldmK7bY_UN",
        "colab_type": "text"
      },
      "source": [
        "FastText'i kullanılabilmek için ilgili kütüphaneyi import ediyoruz."
      ]
    },
    {
      "cell_type": "code",
      "metadata": {
        "id": "sXqRkPwuQugM",
        "colab_type": "code",
        "colab": {}
      },
      "source": [
        "import fasttext"
      ],
      "execution_count": 0,
      "outputs": []
    },
    {
      "cell_type": "markdown",
      "metadata": {
        "id": "asPHX4YyXgQq",
        "colab_type": "text"
      },
      "source": [
        "Modelimizi varsayılan parametrelerle eğitiyoruz"
      ]
    },
    {
      "cell_type": "code",
      "metadata": {
        "id": "53DLpsL_SJyB",
        "colab_type": "code",
        "colab": {}
      },
      "source": [
        "mbti_model = fasttext.train_supervised(TRAIN_DATASET_PATH)"
      ],
      "execution_count": 0,
      "outputs": []
    },
    {
      "cell_type": "markdown",
      "metadata": {
        "id": "5gj8vAYCkEPm",
        "colab_type": "text"
      },
      "source": [
        "Modeldeki label'lar gösterilir"
      ]
    },
    {
      "cell_type": "code",
      "metadata": {
        "id": "HD-faAsDkBrT",
        "colab_type": "code",
        "colab": {
          "base_uri": "https://localhost:8080/",
          "height": 35
        },
        "outputId": "3d29dba7-4831-4ec5-f019-4e0fc744c293"
      },
      "source": [
        "mbti_model.labels"
      ],
      "execution_count": 89,
      "outputs": [
        {
          "output_type": "execute_result",
          "data": {
            "text/plain": [
              "['__label__P', '__label__J']"
            ]
          },
          "metadata": {
            "tags": []
          },
          "execution_count": 89
        }
      ]
    },
    {
      "cell_type": "markdown",
      "metadata": {
        "id": "SjPOqkztbfYw",
        "colab_type": "text"
      },
      "source": [
        "Oluşturulan modeli kaydediyoruz."
      ]
    },
    {
      "cell_type": "code",
      "metadata": {
        "id": "nhyLUEWmbfKH",
        "colab_type": "code",
        "colab": {}
      },
      "source": [
        "mbti_model.save_model('gdrive/My Drive/mbti/fastText_J-P_model.bin')"
      ],
      "execution_count": 0,
      "outputs": []
    },
    {
      "cell_type": "markdown",
      "metadata": {
        "id": "EY1AqiczYCq9",
        "colab_type": "text"
      },
      "source": [
        "Sonuçları tutmak için gerekli olan dictionary oluşturulur."
      ]
    },
    {
      "cell_type": "code",
      "metadata": {
        "id": "UG56aCoIYGNH",
        "colab_type": "code",
        "colab": {}
      },
      "source": [
        "results = {\n",
        "    'predicted': {\n",
        "        'J': {'actual': {'J': 0, 'P': 0}},\n",
        "        'P': {'actual': {'J': 0, 'P': 0}}\n",
        "    }\n",
        "\n",
        "}"
      ],
      "execution_count": 0,
      "outputs": []
    },
    {
      "cell_type": "code",
      "metadata": {
        "id": "fw1OtKFMc9lM",
        "colab_type": "code",
        "colab": {}
      },
      "source": [
        "test = test.reset_index(drop = True)"
      ],
      "execution_count": 0,
      "outputs": []
    },
    {
      "cell_type": "code",
      "metadata": {
        "id": "SmkhC-E2c-a9",
        "colab_type": "code",
        "colab": {
          "base_uri": "https://localhost:8080/",
          "height": 419
        },
        "outputId": "216eb3e1-e3ff-4d7d-fb18-307b3bab5d1a"
      },
      "source": [
        "test"
      ],
      "execution_count": 93,
      "outputs": [
        {
          "output_type": "execute_result",
          "data": {
            "text/html": [
              "<div>\n",
              "<style scoped>\n",
              "    .dataframe tbody tr th:only-of-type {\n",
              "        vertical-align: middle;\n",
              "    }\n",
              "\n",
              "    .dataframe tbody tr th {\n",
              "        vertical-align: top;\n",
              "    }\n",
              "\n",
              "    .dataframe thead th {\n",
              "        text-align: right;\n",
              "    }\n",
              "</style>\n",
              "<table border=\"1\" class=\"dataframe\">\n",
              "  <thead>\n",
              "    <tr style=\"text-align: right;\">\n",
              "      <th></th>\n",
              "      <th>user</th>\n",
              "      <th>entry</th>\n",
              "      <th>type</th>\n",
              "      <th>typeClass</th>\n",
              "      <th>I/E</th>\n",
              "      <th>S/N</th>\n",
              "      <th>T/F</th>\n",
              "      <th>J/P</th>\n",
              "    </tr>\n",
              "  </thead>\n",
              "  <tbody>\n",
              "    <tr>\n",
              "      <th>0</th>\n",
              "      <td>2k</td>\n",
              "      <td>whatsapp tan sevgililerin iletişimi kelimeyi t...</td>\n",
              "      <td>ENFJ</td>\n",
              "      <td>diplomats</td>\n",
              "      <td>E</td>\n",
              "      <td>N</td>\n",
              "      <td>F</td>\n",
              "      <td>__label__J</td>\n",
              "    </tr>\n",
              "    <tr>\n",
              "      <th>1</th>\n",
              "      <td>sanal gezgin</td>\n",
              "      <td>olumlu sonraki hayatımın mottosu olacak sözcük...</td>\n",
              "      <td>INTP</td>\n",
              "      <td>analysts</td>\n",
              "      <td>I</td>\n",
              "      <td>N</td>\n",
              "      <td>T</td>\n",
              "      <td>__label__P</td>\n",
              "    </tr>\n",
              "    <tr>\n",
              "      <th>2</th>\n",
              "      <td>asabi</td>\n",
              "      <td>facebook sohbet zımbırtısı pencere açılmıyor</td>\n",
              "      <td>ISFP</td>\n",
              "      <td>explorers</td>\n",
              "      <td>I</td>\n",
              "      <td>S</td>\n",
              "      <td>F</td>\n",
              "      <td>__label__P</td>\n",
              "    </tr>\n",
              "    <tr>\n",
              "      <th>3</th>\n",
              "      <td>biberanides</td>\n",
              "      <td>atom bombası atılınca gerekenler pantolonun pa...</td>\n",
              "      <td>ESTJ</td>\n",
              "      <td>sentinels</td>\n",
              "      <td>E</td>\n",
              "      <td>S</td>\n",
              "      <td>T</td>\n",
              "      <td>__label__J</td>\n",
              "    </tr>\n",
              "    <tr>\n",
              "      <th>4</th>\n",
              "      <td>shed</td>\n",
              "      <td>evi getirmek uğraşma hayali ev parasına arsayı...</td>\n",
              "      <td>ENTP</td>\n",
              "      <td>analysts</td>\n",
              "      <td>E</td>\n",
              "      <td>N</td>\n",
              "      <td>T</td>\n",
              "      <td>__label__P</td>\n",
              "    </tr>\n",
              "    <tr>\n",
              "      <th>...</th>\n",
              "      <td>...</td>\n",
              "      <td>...</td>\n",
              "      <td>...</td>\n",
              "      <td>...</td>\n",
              "      <td>...</td>\n",
              "      <td>...</td>\n",
              "      <td>...</td>\n",
              "      <td>...</td>\n",
              "    </tr>\n",
              "    <tr>\n",
              "      <th>104954</th>\n",
              "      <td>asabi</td>\n",
              "      <td>galatasaray şike davasından doğal konuşulan al...</td>\n",
              "      <td>ISFP</td>\n",
              "      <td>explorers</td>\n",
              "      <td>I</td>\n",
              "      <td>S</td>\n",
              "      <td>F</td>\n",
              "      <td>__label__P</td>\n",
              "    </tr>\n",
              "    <tr>\n",
              "      <th>104955</th>\n",
              "      <td>n8</td>\n",
              "      <td>nigel jong basina oynamaya calisan oyuncu aldi...</td>\n",
              "      <td>ENFJ</td>\n",
              "      <td>diplomats</td>\n",
              "      <td>E</td>\n",
              "      <td>N</td>\n",
              "      <td>F</td>\n",
              "      <td>__label__J</td>\n",
              "    </tr>\n",
              "    <tr>\n",
              "      <th>104956</th>\n",
              "      <td>seveni olmayan adam</td>\n",
              "      <td>mayıs ekrem imamoğlu esnafla diyaloğu ekrem ba...</td>\n",
              "      <td>ESTJ</td>\n",
              "      <td>sentinels</td>\n",
              "      <td>E</td>\n",
              "      <td>S</td>\n",
              "      <td>T</td>\n",
              "      <td>__label__J</td>\n",
              "    </tr>\n",
              "    <tr>\n",
              "      <th>104957</th>\n",
              "      <td>birdyfirdy</td>\n",
              "      <td>kasım alanya yaşanan motosiklet kazası haberle...</td>\n",
              "      <td>ENFP</td>\n",
              "      <td>diplomats</td>\n",
              "      <td>E</td>\n",
              "      <td>N</td>\n",
              "      <td>F</td>\n",
              "      <td>__label__P</td>\n",
              "    </tr>\n",
              "    <tr>\n",
              "      <th>104958</th>\n",
              "      <td>zaman sokaklarda kayboluyordu</td>\n",
              "      <td>yazarın entry lerini arka arkaya okumak yazarı...</td>\n",
              "      <td>INFP</td>\n",
              "      <td>diplomats</td>\n",
              "      <td>I</td>\n",
              "      <td>N</td>\n",
              "      <td>F</td>\n",
              "      <td>__label__P</td>\n",
              "    </tr>\n",
              "  </tbody>\n",
              "</table>\n",
              "<p>104959 rows × 8 columns</p>\n",
              "</div>"
            ],
            "text/plain": [
              "                                 user  ...         J/P\n",
              "0                                  2k  ...  __label__J\n",
              "1                        sanal gezgin  ...  __label__P\n",
              "2                               asabi  ...  __label__P\n",
              "3                         biberanides  ...  __label__J\n",
              "4                                shed  ...  __label__P\n",
              "...                               ...  ...         ...\n",
              "104954                          asabi  ...  __label__P\n",
              "104955                             n8  ...  __label__J\n",
              "104956            seveni olmayan adam  ...  __label__J\n",
              "104957                     birdyfirdy  ...  __label__P\n",
              "104958  zaman sokaklarda kayboluyordu  ...  __label__P\n",
              "\n",
              "[104959 rows x 8 columns]"
            ]
          },
          "metadata": {
            "tags": []
          },
          "execution_count": 93
        }
      ]
    },
    {
      "cell_type": "code",
      "metadata": {
        "id": "OY_JlqunW5kj",
        "colab_type": "code",
        "colab": {}
      },
      "source": [
        "for i in range(test.shape[0]):\n",
        "  y_actual = str(test['J/P'][i]).replace('__label__', '')\n",
        "\n",
        "  test_entry = test['entry'][i]\n",
        "  y_predicted = mbti_model.predict(test_entry, k = 1)[0][0]\n",
        "  y_predicted = y_predicted.replace('__label__', '')\n",
        "\n",
        "  results['predicted'][y_predicted]['actual'][y_actual] += 1"
      ],
      "execution_count": 0,
      "outputs": []
    },
    {
      "cell_type": "code",
      "metadata": {
        "id": "H9U35Up9YfH7",
        "colab_type": "code",
        "colab": {
          "base_uri": "https://localhost:8080/",
          "height": 53
        },
        "outputId": "84e4df1b-c0cf-4b0e-f653-15f2079b1b9f"
      },
      "source": [
        "results"
      ],
      "execution_count": 95,
      "outputs": [
        {
          "output_type": "execute_result",
          "data": {
            "text/plain": [
              "{'predicted': {'J': {'actual': {'J': 29413, 'P': 21075}},\n",
              "  'P': {'actual': {'J': 21891, 'P': 32580}}}}"
            ]
          },
          "metadata": {
            "tags": []
          },
          "execution_count": 95
        }
      ]
    }
  ]
}