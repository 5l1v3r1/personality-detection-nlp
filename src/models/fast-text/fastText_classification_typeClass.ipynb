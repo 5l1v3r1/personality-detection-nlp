{
  "nbformat": 4,
  "nbformat_minor": 0,
  "metadata": {
    "colab": {
      "name": "fastText_classification_typeClass.ipynb",
      "provenance": [],
      "collapsed_sections": []
    },
    "kernelspec": {
      "name": "python3",
      "display_name": "Python 3"
    },
    "accelerator": "GPU"
  },
  "cells": [
    {
      "cell_type": "markdown",
      "metadata": {
        "id": "alePhkC3g_-Y",
        "colab_type": "text"
      },
      "source": [
        "fastText indilir ve oluşturulur\n"
      ]
    },
    {
      "cell_type": "code",
      "metadata": {
        "id": "dj-btsl1jlug",
        "colab_type": "code",
        "colab": {}
      },
      "source": [
        "!git clone https://github.com/facebookresearch/fastText.git"
      ],
      "execution_count": 0,
      "outputs": []
    },
    {
      "cell_type": "code",
      "metadata": {
        "id": "-ebf5Iw7kj2e",
        "colab_type": "code",
        "colab": {}
      },
      "source": [
        "!pip install ./fastText/"
      ],
      "execution_count": 0,
      "outputs": []
    },
    {
      "cell_type": "markdown",
      "metadata": {
        "id": "tbGeJPCNCoBP",
        "colab_type": "text"
      },
      "source": [
        "Classification'da kullanılacak olan verisetimizi alıyoruz."
      ]
    },
    {
      "cell_type": "code",
      "metadata": {
        "colab_type": "code",
        "id": "Qu0dGuKcCeR9",
        "colab": {}
      },
      "source": [
        "from google.colab import drive\n",
        "drive.mount('/content/gdrive')"
      ],
      "execution_count": 0,
      "outputs": []
    },
    {
      "cell_type": "code",
      "metadata": {
        "id": "77zts8l9dcg1",
        "colab_type": "code",
        "colab": {}
      },
      "source": [
        "PREPROCESSED_DATASET_WITH_STEMMER = \"gdrive/My Drive/mbti/preprocessed_dataset_with_stemming.csv\"\n",
        "PREPROCESSED_DATASET_WITHOUT_STEMMER = \"gdrive/My Drive/mbti/preprocessed_dataset_no_stemming.csv\"\n",
        "PREPROCESSED_DATASET_ZEMBEREK = \"gdrive/My Drive/mbti/preprocessed_dataset_zemberek\"\n",
        "TRIMMED_DATASET = \"gdrive/My Drive/mbti/trimmed_dataset.csv\"\n",
        "RAW_DATASET = \"gdrive/My Drive/mbti/all_users_v2.csv\""
      ],
      "execution_count": 0,
      "outputs": []
    },
    {
      "cell_type": "code",
      "metadata": {
        "id": "x517ixOydiEv",
        "colab_type": "code",
        "colab": {}
      },
      "source": [
        "import pandas as pd \n",
        "df = pd.read_csv(PREPROCESSED_DATASET_WITHOUT_STEMMER, sep = ';', header = 0)"
      ],
      "execution_count": 0,
      "outputs": []
    },
    {
      "cell_type": "code",
      "metadata": {
        "id": "OcDJk2L2gp3P",
        "colab_type": "code",
        "colab": {}
      },
      "source": [
        "df"
      ],
      "execution_count": 0,
      "outputs": []
    },
    {
      "cell_type": "markdown",
      "metadata": {
        "id": "GcxpNYXig751",
        "colab_type": "text"
      },
      "source": [
        "Olmayan değerler silinir"
      ]
    },
    {
      "cell_type": "code",
      "metadata": {
        "id": "lUgkb2G9gvZw",
        "colab_type": "code",
        "colab": {}
      },
      "source": [
        "df = df.dropna().reset_index(drop = True)"
      ],
      "execution_count": 0,
      "outputs": []
    },
    {
      "cell_type": "code",
      "metadata": {
        "id": "e0RpwP8fgw9W",
        "colab_type": "code",
        "colab": {}
      },
      "source": [
        "df"
      ],
      "execution_count": 0,
      "outputs": []
    },
    {
      "cell_type": "markdown",
      "metadata": {
        "id": "hMGyRijhJcr3",
        "colab_type": "text"
      },
      "source": [
        "fastText classification yaparken labellı verinin ``` __label__LabelValue ``` şeklinde olmasını bekliyor. Burada ilgili dataframe'i bu hale getirilir"
      ]
    },
    {
      "cell_type": "code",
      "metadata": {
        "id": "IpyjMEedJcS-",
        "colab_type": "code",
        "colab": {}
      },
      "source": [
        "df['typeClass'] = [\"__label__\" + class_label for class_label in df['typeClass']]\n",
        "\n",
        "df"
      ],
      "execution_count": 0,
      "outputs": []
    },
    {
      "cell_type": "markdown",
      "metadata": {
        "id": "Xm01yrCpLScJ",
        "colab_type": "text"
      },
      "source": [
        "Veriseti %80 train %20 test olacak şekilde ikiye ayrılır. Train veriseti ile ilgili model oluşturulacaktır."
      ]
    },
    {
      "cell_type": "code",
      "metadata": {
        "id": "EXMInhefLW6f",
        "colab_type": "code",
        "colab": {}
      },
      "source": [
        "from sklearn.model_selection import train_test_split\n",
        "train, test = train_test_split(df, test_size=0.2, shuffle = True, random_state = 42)\n"
      ],
      "execution_count": 0,
      "outputs": []
    },
    {
      "cell_type": "code",
      "metadata": {
        "id": "v0YypgqGL5kc",
        "colab_type": "code",
        "colab": {}
      },
      "source": [
        "train"
      ],
      "execution_count": 0,
      "outputs": []
    },
    {
      "cell_type": "code",
      "metadata": {
        "id": "IYF-ZRyOL7hC",
        "colab_type": "code",
        "colab": {}
      },
      "source": [
        "test"
      ],
      "execution_count": 0,
      "outputs": []
    },
    {
      "cell_type": "markdown",
      "metadata": {
        "id": "WQEtnZnhNcFf",
        "colab_type": "text"
      },
      "source": [
        "Train ve test olan verisetlerimizin bir dosyaya kaydedilip ilgili pathlerinin fastText'e geçilmesi gerekiyor. O yüzden bu adımda ilgili verisetleri dosyalara kaydedilir. quoting = csv.QUOTE_NONE kaydedilen string değerlerin herhangi bir quote (\",') karakteriyle sarılmamasını söyler"
      ]
    },
    {
      "cell_type": "code",
      "metadata": {
        "id": "7OE5RI4tVPrr",
        "colab_type": "code",
        "colab": {}
      },
      "source": [
        "import csv"
      ],
      "execution_count": 0,
      "outputs": []
    },
    {
      "cell_type": "code",
      "metadata": {
        "id": "RG_L-BdUN-5h",
        "colab_type": "code",
        "colab": {}
      },
      "source": [
        "TRAIN_DATASET_PATH = \"gdrive/My Drive/mbti/fastText_train_set.txt\"\n",
        "train.to_csv(TRAIN_DATASET_PATH, header = False, index = False, columns = ['typeClass', 'entry'], sep = ' ', quoting = csv.QUOTE_NONE, escapechar = ' ')"
      ],
      "execution_count": 0,
      "outputs": []
    },
    {
      "cell_type": "code",
      "metadata": {
        "id": "QYk6xHncOW4i",
        "colab_type": "code",
        "colab": {}
      },
      "source": [
        "TEST_DATASET_PATH = \"gdrive/My Drive/mbti/fastText_test_set.txt\"\n",
        "test.to_csv(TEST_DATASET_PATH, header = False, index = False, columns = ['typeClass', 'entry'], sep = ' ', quoting = csv.QUOTE_NONE, escapechar=' ')"
      ],
      "execution_count": 0,
      "outputs": []
    },
    {
      "cell_type": "markdown",
      "metadata": {
        "id": "AtldmK7bY_UN",
        "colab_type": "text"
      },
      "source": [
        "FastText'i kullanılabilmek için ilgili kütüphaneyi import ediyoruz."
      ]
    },
    {
      "cell_type": "code",
      "metadata": {
        "id": "sXqRkPwuQugM",
        "colab_type": "code",
        "colab": {}
      },
      "source": [
        "import fasttext"
      ],
      "execution_count": 0,
      "outputs": []
    },
    {
      "cell_type": "markdown",
      "metadata": {
        "id": "asPHX4YyXgQq",
        "colab_type": "text"
      },
      "source": [
        "Modelimizi varsayılan parametrelerle eğitiyoruz"
      ]
    },
    {
      "cell_type": "code",
      "metadata": {
        "id": "53DLpsL_SJyB",
        "colab_type": "code",
        "colab": {}
      },
      "source": [
        "mbti_model = fasttext.train_supervised(TRAIN_DATASET_PATH)"
      ],
      "execution_count": 0,
      "outputs": []
    },
    {
      "cell_type": "markdown",
      "metadata": {
        "id": "SjPOqkztbfYw",
        "colab_type": "text"
      },
      "source": [
        "Oluşturulan modeli kaydediyoruz."
      ]
    },
    {
      "cell_type": "code",
      "metadata": {
        "id": "nhyLUEWmbfKH",
        "colab_type": "code",
        "colab": {}
      },
      "source": [
        "mbti_model.save_model('gdrive/My Drive/mbti/fastText_typeClass_model.bin')"
      ],
      "execution_count": 0,
      "outputs": []
    },
    {
      "cell_type": "markdown",
      "metadata": {
        "id": "EY1AqiczYCq9",
        "colab_type": "text"
      },
      "source": [
        "Sonuçları tutmak için gerekli olan dictionary oluşturulur."
      ]
    },
    {
      "cell_type": "code",
      "metadata": {
        "id": "UG56aCoIYGNH",
        "colab_type": "code",
        "colab": {}
      },
      "source": [
        "results = {\n",
        "    'predicted': {\n",
        "        'analysts': {'actual': {'analysts': 0, 'diplomats': 0, 'explorers': 0, 'sentinels': 0}},\n",
        "        'diplomats': {'actual': {'analysts': 0, 'diplomats': 0, 'explorers': 0, 'sentinels': 0}},\n",
        "        'explorers': {'actual': {'analysts': 0, 'diplomats': 0, 'explorers': 0, 'sentinels': 0}},\n",
        "        'sentinels': {'actual': {'analysts': 0, 'diplomats': 0, 'explorers': 0, 'sentinels': 0}}\n",
        "    }\n",
        "\n",
        "}"
      ],
      "execution_count": 0,
      "outputs": []
    },
    {
      "cell_type": "code",
      "metadata": {
        "id": "fw1OtKFMc9lM",
        "colab_type": "code",
        "colab": {}
      },
      "source": [
        "test = test.reset_index(drop = True)"
      ],
      "execution_count": 0,
      "outputs": []
    },
    {
      "cell_type": "code",
      "metadata": {
        "id": "SmkhC-E2c-a9",
        "colab_type": "code",
        "colab": {}
      },
      "source": [
        "test"
      ],
      "execution_count": 0,
      "outputs": []
    },
    {
      "cell_type": "code",
      "metadata": {
        "id": "OY_JlqunW5kj",
        "colab_type": "code",
        "colab": {}
      },
      "source": [
        "for i in range(test.shape[0]):\n",
        "  y_actual = str(test['typeClass'][i]).replace('__label__', '')\n",
        "\n",
        "  test_entry = test['entry'][i]\n",
        "  y_predicted = mbti_model.predict(test_entry, k = 1)[0][0]\n",
        "  y_predicted = y_predicted.replace('__label__', '')\n",
        "\n",
        "  results['predicted'][y_predicted]['actual'][y_actual] += 1"
      ],
      "execution_count": 0,
      "outputs": []
    },
    {
      "cell_type": "code",
      "metadata": {
        "id": "H9U35Up9YfH7",
        "colab_type": "code",
        "colab": {}
      },
      "source": [
        "results"
      ],
      "execution_count": 0,
      "outputs": []
    }
  ]
}