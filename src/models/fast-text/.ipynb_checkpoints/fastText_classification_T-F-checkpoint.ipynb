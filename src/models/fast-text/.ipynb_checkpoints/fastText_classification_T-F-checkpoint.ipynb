{
 "cells": [
  {
   "cell_type": "markdown",
   "metadata": {
    "colab_type": "text",
    "id": "alePhkC3g_-Y"
   },
   "source": [
    "fastText indilir ve oluşturulur\n"
   ]
  },
  {
   "cell_type": "code",
   "execution_count": null,
   "metadata": {
    "colab": {
     "base_uri": "https://localhost:8080/",
     "height": 35
    },
    "colab_type": "code",
    "id": "dj-btsl1jlug",
    "outputId": "9c62f8b2-8d33-4dc3-9fb9-1e5944c4bb6d"
   },
   "outputs": [],
   "source": [
    "!git clone https://github.com/facebookresearch/fastText.git"
   ]
  },
  {
   "cell_type": "code",
   "execution_count": null,
   "metadata": {
    "colab": {
     "base_uri": "https://localhost:8080/",
     "height": 360
    },
    "colab_type": "code",
    "id": "-ebf5Iw7kj2e",
    "outputId": "87238c91-1c96-4fb9-cadc-e86d0d6554f6"
   },
   "outputs": [],
   "source": [
    "!pip install ./fastText/"
   ]
  },
  {
   "cell_type": "markdown",
   "metadata": {
    "colab_type": "text",
    "id": "tbGeJPCNCoBP"
   },
   "source": [
    "Classification'da kullanılacak olan verisetimizi alıyoruz."
   ]
  },
  {
   "cell_type": "code",
   "execution_count": null,
   "metadata": {
    "colab": {
     "base_uri": "https://localhost:8080/",
     "height": 127
    },
    "colab_type": "code",
    "id": "Qu0dGuKcCeR9",
    "outputId": "2977a177-00a6-4fe0-9c25-07aceb11266e"
   },
   "outputs": [],
   "source": [
    "from google.colab import drive\n",
    "drive.mount('/content/gdrive')"
   ]
  },
  {
   "cell_type": "code",
   "execution_count": null,
   "metadata": {
    "colab": {},
    "colab_type": "code",
    "id": "77zts8l9dcg1"
   },
   "outputs": [],
   "source": [
    "PREPROCESSED_DATASET_WITH_STEMMER = \"gdrive/My Drive/mbti/preprocessed_dataset_with_stemming.csv\"\n",
    "PREPROCESSED_DATASET_WITHOUT_STEMMER = \"gdrive/My Drive/mbti/preprocessed_dataset_no_stemming.csv\"\n",
    "PREPROCESSED_DATASET_ZEMBEREK = \"gdrive/My Drive/mbti/preprocessed_dataset_zemberek\"\n",
    "ELIMINATED_DATASET = \"gdrive/My Drive/mbti/eliminated_all_users_v2.csv\"\n",
    "RAW_DATASET = \"gdrive/My Drive/mbti/all_users_v2.csv\""
   ]
  },
  {
   "cell_type": "code",
   "execution_count": null,
   "metadata": {
    "colab": {},
    "colab_type": "code",
    "id": "x517ixOydiEv"
   },
   "outputs": [],
   "source": [
    "import pandas as pd \n",
    "df = pd.read_csv(PREPROCESSED_DATASET_WITHOUT_STEMMER, sep = ';', header = 0)"
   ]
  },
  {
   "cell_type": "code",
   "execution_count": null,
   "metadata": {
    "colab": {
     "base_uri": "https://localhost:8080/",
     "height": 419
    },
    "colab_type": "code",
    "id": "OcDJk2L2gp3P",
    "outputId": "4bd7f795-83b2-4e47-e214-ce3bf507c354"
   },
   "outputs": [],
   "source": [
    "df"
   ]
  },
  {
   "cell_type": "markdown",
   "metadata": {
    "colab_type": "text",
    "id": "GcxpNYXig751"
   },
   "source": [
    "Olmayan değerler silinir"
   ]
  },
  {
   "cell_type": "code",
   "execution_count": null,
   "metadata": {
    "colab": {},
    "colab_type": "code",
    "id": "lUgkb2G9gvZw"
   },
   "outputs": [],
   "source": [
    "df = df.dropna().reset_index(drop = True)"
   ]
  },
  {
   "cell_type": "code",
   "execution_count": null,
   "metadata": {
    "colab": {
     "base_uri": "https://localhost:8080/",
     "height": 419
    },
    "colab_type": "code",
    "id": "e0RpwP8fgw9W",
    "outputId": "9d82d565-f12c-4e7a-c920-68dc31cda5c5"
   },
   "outputs": [],
   "source": [
    "df"
   ]
  },
  {
   "cell_type": "markdown",
   "metadata": {
    "colab_type": "text",
    "id": "hMGyRijhJcr3"
   },
   "source": [
    "fastText classification yaparken labellı verinin ``` __label__LabelValue ``` şeklinde olmasını bekliyor. Burada ilgili dataframe'i bu hale getirilir"
   ]
  },
  {
   "cell_type": "code",
   "execution_count": null,
   "metadata": {
    "colab": {
     "base_uri": "https://localhost:8080/",
     "height": 419
    },
    "colab_type": "code",
    "id": "IpyjMEedJcS-",
    "outputId": "ef31cab3-ef08-4bb9-f78f-56ebed11e909"
   },
   "outputs": [],
   "source": [
    "df['T/F'] = [\"__label__\" + class_label for class_label in df['T/F']]\n",
    "\n",
    "df"
   ]
  },
  {
   "cell_type": "markdown",
   "metadata": {
    "colab_type": "text",
    "id": "Xm01yrCpLScJ"
   },
   "source": [
    "Veriseti %80 train %20 test olacak şekilde ikiye ayrılır. Train veriseti ile ilgili model oluşturulacaktır."
   ]
  },
  {
   "cell_type": "code",
   "execution_count": null,
   "metadata": {
    "colab": {},
    "colab_type": "code",
    "id": "EXMInhefLW6f"
   },
   "outputs": [],
   "source": [
    "from sklearn.model_selection import train_test_split\n",
    "train, test = train_test_split(df, test_size=0.2, shuffle = True, random_state = 42)\n"
   ]
  },
  {
   "cell_type": "code",
   "execution_count": null,
   "metadata": {
    "colab": {
     "base_uri": "https://localhost:8080/",
     "height": 419
    },
    "colab_type": "code",
    "id": "v0YypgqGL5kc",
    "outputId": "503557f9-185d-48ab-d068-ce9f033fc1b3"
   },
   "outputs": [],
   "source": [
    "train"
   ]
  },
  {
   "cell_type": "code",
   "execution_count": null,
   "metadata": {
    "colab": {
     "base_uri": "https://localhost:8080/",
     "height": 419
    },
    "colab_type": "code",
    "id": "IYF-ZRyOL7hC",
    "outputId": "382f709a-1217-479d-d369-3bdc9ab0ce68"
   },
   "outputs": [],
   "source": [
    "test"
   ]
  },
  {
   "cell_type": "markdown",
   "metadata": {
    "colab_type": "text",
    "id": "WQEtnZnhNcFf"
   },
   "source": [
    "Train ve test olan verisetlerimizin bir dosyaya kaydedilip ilgili pathlerinin fastText'e geçilmesi gerekiyor. O yüzden bu adımda ilgili verisetleri dosyalara kaydedilir. quoting = csv.QUOTE_NONE kaydedilen string değerlerin herhangi bir quote (\",') karakteriyle sarılmamasını söyler"
   ]
  },
  {
   "cell_type": "code",
   "execution_count": null,
   "metadata": {
    "colab": {},
    "colab_type": "code",
    "id": "7OE5RI4tVPrr"
   },
   "outputs": [],
   "source": [
    "import csv"
   ]
  },
  {
   "cell_type": "code",
   "execution_count": null,
   "metadata": {
    "colab": {},
    "colab_type": "code",
    "id": "RG_L-BdUN-5h"
   },
   "outputs": [],
   "source": [
    "TRAIN_DATASET_PATH = \"gdrive/My Drive/mbti/fastText_T-F_train_set.txt\"\n",
    "train.to_csv(TRAIN_DATASET_PATH, header = False, index = False, columns = ['T/F', 'entry'], sep = ' ', quoting = csv.QUOTE_NONE, escapechar = ' ')"
   ]
  },
  {
   "cell_type": "code",
   "execution_count": null,
   "metadata": {
    "colab": {},
    "colab_type": "code",
    "id": "QYk6xHncOW4i"
   },
   "outputs": [],
   "source": [
    "TEST_DATASET_PATH = \"gdrive/My Drive/mbti/fastText_T-F_test_set.txt\"\n",
    "test.to_csv(TEST_DATASET_PATH, header = False, index = False, columns = ['T/F', 'entry'], sep = ' ', quoting = csv.QUOTE_NONE, escapechar=' ')"
   ]
  },
  {
   "cell_type": "markdown",
   "metadata": {
    "colab_type": "text",
    "id": "AtldmK7bY_UN"
   },
   "source": [
    "FastText'i kullanılabilmek için ilgili kütüphaneyi import ediyoruz."
   ]
  },
  {
   "cell_type": "code",
   "execution_count": null,
   "metadata": {
    "colab": {},
    "colab_type": "code",
    "id": "sXqRkPwuQugM"
   },
   "outputs": [],
   "source": [
    "import fasttext"
   ]
  },
  {
   "cell_type": "markdown",
   "metadata": {
    "colab_type": "text",
    "id": "asPHX4YyXgQq"
   },
   "source": [
    "Modelimizi varsayılan parametrelerle eğitiyoruz"
   ]
  },
  {
   "cell_type": "code",
   "execution_count": null,
   "metadata": {
    "colab": {},
    "colab_type": "code",
    "id": "53DLpsL_SJyB"
   },
   "outputs": [],
   "source": [
    "mbti_model = fasttext.train_supervised(TRAIN_DATASET_PATH)"
   ]
  },
  {
   "cell_type": "markdown",
   "metadata": {
    "colab_type": "text",
    "id": "5gj8vAYCkEPm"
   },
   "source": [
    "Modeldeki label'lar gösterilir"
   ]
  },
  {
   "cell_type": "code",
   "execution_count": null,
   "metadata": {
    "colab": {
     "base_uri": "https://localhost:8080/",
     "height": 35
    },
    "colab_type": "code",
    "id": "HD-faAsDkBrT",
    "outputId": "fc9d4abe-76a7-4332-a808-4fc873a4c770"
   },
   "outputs": [],
   "source": [
    "mbti_model.labels"
   ]
  },
  {
   "cell_type": "markdown",
   "metadata": {
    "colab_type": "text",
    "id": "SjPOqkztbfYw"
   },
   "source": [
    "Oluşturulan modeli kaydediyoruz."
   ]
  },
  {
   "cell_type": "code",
   "execution_count": null,
   "metadata": {
    "colab": {},
    "colab_type": "code",
    "id": "nhyLUEWmbfKH"
   },
   "outputs": [],
   "source": [
    "mbti_model.save_model('gdrive/My Drive/mbti/fastText_T-F_model.bin')"
   ]
  },
  {
   "cell_type": "markdown",
   "metadata": {
    "colab_type": "text",
    "id": "EY1AqiczYCq9"
   },
   "source": [
    "Sonuçları tutmak için gerekli olan dictionary oluşturulur."
   ]
  },
  {
   "cell_type": "code",
   "execution_count": null,
   "metadata": {
    "colab": {},
    "colab_type": "code",
    "id": "UG56aCoIYGNH"
   },
   "outputs": [],
   "source": [
    "results = {\n",
    "    'predicted': {\n",
    "        'T': {'actual': {'T': 0, 'F': 0}},\n",
    "        'F': {'actual': {'T': 0, 'F': 0}}\n",
    "    }\n",
    "\n",
    "}"
   ]
  },
  {
   "cell_type": "code",
   "execution_count": null,
   "metadata": {
    "colab": {},
    "colab_type": "code",
    "id": "fw1OtKFMc9lM"
   },
   "outputs": [],
   "source": [
    "test = test.reset_index(drop = True)"
   ]
  },
  {
   "cell_type": "code",
   "execution_count": null,
   "metadata": {
    "colab": {
     "base_uri": "https://localhost:8080/",
     "height": 419
    },
    "colab_type": "code",
    "id": "SmkhC-E2c-a9",
    "outputId": "0142f7bb-9b19-48f4-ba7f-c33a38fd83ac"
   },
   "outputs": [],
   "source": [
    "test"
   ]
  },
  {
   "cell_type": "code",
   "execution_count": null,
   "metadata": {
    "colab": {},
    "colab_type": "code",
    "id": "OY_JlqunW5kj"
   },
   "outputs": [],
   "source": [
    "for i in range(test.shape[0]):\n",
    "  y_actual = str(test['T/F'][i]).replace('__label__', '')\n",
    "\n",
    "  test_entry = test['entry'][i]\n",
    "  y_predicted = mbti_model.predict(test_entry, k = 1)[0][0]\n",
    "  y_predicted = y_predicted.replace('__label__', '')\n",
    "\n",
    "  results['predicted'][y_predicted]['actual'][y_actual] += 1"
   ]
  },
  {
   "cell_type": "code",
   "execution_count": null,
   "metadata": {
    "colab": {
     "base_uri": "https://localhost:8080/",
     "height": 53
    },
    "colab_type": "code",
    "id": "H9U35Up9YfH7",
    "outputId": "c037e7d0-d73f-4ca3-b849-69bf5bcfec43"
   },
   "outputs": [],
   "source": [
    "results"
   ]
  }
 ],
 "metadata": {
  "colab": {
   "collapsed_sections": [],
   "name": "fastText_classification_T-F.ipynb",
   "provenance": []
  },
  "kernelspec": {
   "display_name": "Python 3",
   "language": "python",
   "name": "python3"
  },
  "language_info": {
   "codemirror_mode": {
    "name": "ipython",
    "version": 3
   },
   "file_extension": ".py",
   "mimetype": "text/x-python",
   "name": "python",
   "nbconvert_exporter": "python",
   "pygments_lexer": "ipython3",
   "version": "3.7.4"
  }
 },
 "nbformat": 4,
 "nbformat_minor": 1
}
