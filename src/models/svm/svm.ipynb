{
  "nbformat": 4,
  "nbformat_minor": 0,
  "metadata": {
    "kernelspec": {
      "display_name": "Python 3",
      "language": "python",
      "name": "python3"
    },
    "language_info": {
      "codemirror_mode": {
        "name": "ipython",
        "version": 3
      },
      "file_extension": ".py",
      "mimetype": "text/x-python",
      "name": "python",
      "nbconvert_exporter": "python",
      "pygments_lexer": "ipython3",
      "version": "3.7.5"
    },
    "colab": {
      "name": "svm.ipynb",
      "provenance": [],
      "collapsed_sections": [],
      "machine_shape": "hm"
    }
  },
  "cells": [
    {
      "cell_type": "markdown",
      "metadata": {
        "colab_type": "text",
        "id": "0jNfS3mXsc2O"
      },
      "source": [
        "<span style=\"font-size:1.1em;\">Colab'a Google drive'ı entegre ediyoruz. Kullanılacak olan veriseti Google Drive'da bulunmaktadır</span>"
      ]
    },
    {
      "cell_type": "code",
      "metadata": {
        "colab_type": "code",
        "id": "d_zKJmJWQG19",
        "outputId": "06fcab9e-6057-4a79-fdf0-19412d2cb611",
        "colab": {
          "base_uri": "https://localhost:8080/",
          "height": 34
        }
      },
      "source": [
        "from google.colab import drive\n",
        "drive.mount('/content/gdrive')"
      ],
      "execution_count": 134,
      "outputs": [
        {
          "output_type": "stream",
          "text": [
            "Drive already mounted at /content/gdrive; to attempt to forcibly remount, call drive.mount(\"/content/gdrive\", force_remount=True).\n"
          ],
          "name": "stdout"
        }
      ]
    },
    {
      "cell_type": "markdown",
      "metadata": {
        "colab_type": "text",
        "id": "97IoTlPeHPVf"
      },
      "source": [
        "<span style=\"font-size:1.1em;\">Google Drive'ımızın root pathi</span> ```gdrive/My Drive``` <span style=\"font-size:1.1em;\">oluyor. Proje için gerekli verisetini **mbti** adında bir klasör oluşturup içerisine yüklüyoruz. İlgili verisetinin pathi</span> ```gdrive/My Drive/mbti/all_users.csv``` <span style=\"font-size:1.1em;\">oluyor.</span>"
      ]
    },
    {
      "cell_type": "code",
      "metadata": {
        "id": "r_LacgTUrsAM",
        "colab_type": "code",
        "colab": {}
      },
      "source": [
        "PREPROCESSED_DATASET_WITH_STEMMER = \"gdrive/My Drive/mbti/preprocessed_dataset_with_stemming.csv\"\n",
        "PREPROCESSED_DATASET_WITHOUT_STEMMER = \"gdrive/My Drive/mbti/preprocessed_dataset_no_stemming.csv\"\n",
        "PREPROCESSED_DATASET_ZEMBEREK = \"gdrive/My Drive/mbti/preprocessed_dataset_zemberek\"\n",
        "TRIMMED_DATASET = \"gdrive/My Drive/mbti/trimmed_dataset.csv\"\n",
        "RAW_DATASET = \"gdrive/My Drive/mbti/all_users_v2.csv\""
      ],
      "execution_count": 0,
      "outputs": []
    },
    {
      "cell_type": "markdown",
      "metadata": {
        "id": "Ho_t-edmrsAQ",
        "colab_type": "text"
      },
      "source": [
        "<span style=\"font-size:1.1em;\">Hangi veriseti kullanılarak işlem yapılacaksa yukardaki pathlerden biri seçilir ve parametre olarak verilir.</span>"
      ]
    },
    {
      "cell_type": "code",
      "metadata": {
        "id": "bCE6c3w9rsAS",
        "colab_type": "code",
        "colab": {}
      },
      "source": [
        "import pandas as pd \n",
        "df = pd.read_csv(PREPROCESSED_DATASET_WITH_STEMMER, sep = ';', header = 0)"
      ],
      "execution_count": 0,
      "outputs": []
    },
    {
      "cell_type": "code",
      "metadata": {
        "id": "0DqSNRzCsanD",
        "colab_type": "code",
        "outputId": "a983ecd1-4c87-4da9-8663-a932aaf023b9",
        "colab": {
          "base_uri": "https://localhost:8080/",
          "height": 419
        }
      },
      "source": [
        "df"
      ],
      "execution_count": 137,
      "outputs": [
        {
          "output_type": "execute_result",
          "data": {
            "text/html": [
              "<div>\n",
              "<style scoped>\n",
              "    .dataframe tbody tr th:only-of-type {\n",
              "        vertical-align: middle;\n",
              "    }\n",
              "\n",
              "    .dataframe tbody tr th {\n",
              "        vertical-align: top;\n",
              "    }\n",
              "\n",
              "    .dataframe thead th {\n",
              "        text-align: right;\n",
              "    }\n",
              "</style>\n",
              "<table border=\"1\" class=\"dataframe\">\n",
              "  <thead>\n",
              "    <tr style=\"text-align: right;\">\n",
              "      <th></th>\n",
              "      <th>Unnamed: 0</th>\n",
              "      <th>user</th>\n",
              "      <th>entry</th>\n",
              "      <th>type</th>\n",
              "      <th>typeClass</th>\n",
              "      <th>I/E</th>\n",
              "      <th>S/N</th>\n",
              "      <th>T/F</th>\n",
              "      <th>J/P</th>\n",
              "    </tr>\n",
              "  </thead>\n",
              "  <tbody>\n",
              "    <tr>\n",
              "      <th>0</th>\n",
              "      <td>0</td>\n",
              "      <td>19991991</td>\n",
              "      <td>ekşi itiraf dö dolaş gel kendi çat problem ger...</td>\n",
              "      <td>ENTJ</td>\n",
              "      <td>analysts</td>\n",
              "      <td>E</td>\n",
              "      <td>N</td>\n",
              "      <td>T</td>\n",
              "      <td>J</td>\n",
              "    </tr>\n",
              "    <tr>\n",
              "      <th>1</th>\n",
              "      <td>1</td>\n",
              "      <td>19991991</td>\n",
              "      <td>selda bağca ses dinleyebilmek büyük mutluluk s...</td>\n",
              "      <td>ENTJ</td>\n",
              "      <td>analysts</td>\n",
              "      <td>E</td>\n",
              "      <td>N</td>\n",
              "      <td>T</td>\n",
              "      <td>J</td>\n",
              "    </tr>\n",
              "    <tr>\n",
              "      <th>2</th>\n",
              "      <td>2</td>\n",
              "      <td>19991991</td>\n",
              "      <td>eski sevgili mutlu olma isteye in hiçbir ayak ...</td>\n",
              "      <td>ENTJ</td>\n",
              "      <td>analysts</td>\n",
              "      <td>E</td>\n",
              "      <td>N</td>\n",
              "      <td>T</td>\n",
              "      <td>J</td>\n",
              "    </tr>\n",
              "    <tr>\n",
              "      <th>3</th>\n",
              "      <td>3</td>\n",
              "      <td>19991991</td>\n",
              "      <td>veda eder   a not bırakmak farklı acı mutluluk...</td>\n",
              "      <td>ENTJ</td>\n",
              "      <td>analysts</td>\n",
              "      <td>E</td>\n",
              "      <td>N</td>\n",
              "      <td>T</td>\n",
              "      <td>J</td>\n",
              "    </tr>\n",
              "    <tr>\n",
              "      <th>4</th>\n",
              "      <td>4</td>\n",
              "      <td>19991991</td>\n",
              "      <td>ingil aksa ara bayıldık konuşa insa sevimli ge...</td>\n",
              "      <td>ENTJ</td>\n",
              "      <td>analysts</td>\n",
              "      <td>E</td>\n",
              "      <td>N</td>\n",
              "      <td>T</td>\n",
              "      <td>J</td>\n",
              "    </tr>\n",
              "    <tr>\n",
              "      <th>...</th>\n",
              "      <td>...</td>\n",
              "      <td>...</td>\n",
              "      <td>...</td>\n",
              "      <td>...</td>\n",
              "      <td>...</td>\n",
              "      <td>...</td>\n",
              "      <td>...</td>\n",
              "      <td>...</td>\n",
              "      <td>...</td>\n",
              "    </tr>\n",
              "    <tr>\n",
              "      <th>524835</th>\n",
              "      <td>643907</td>\n",
              "      <td>zaimoglu</td>\n",
              "      <td>zla ibrahimoviç türki katil</td>\n",
              "      <td>ESFJ</td>\n",
              "      <td>sentinels</td>\n",
              "      <td>E</td>\n",
              "      <td>S</td>\n",
              "      <td>F</td>\n",
              "      <td>J</td>\n",
              "    </tr>\n",
              "    <tr>\n",
              "      <th>524836</th>\n",
              "      <td>643908</td>\n",
              "      <td>zaimoglu</td>\n",
              "      <td>tarih büyük yalancı şik operasyo aziz yıldır a...</td>\n",
              "      <td>ESFJ</td>\n",
              "      <td>sentinels</td>\n",
              "      <td>E</td>\n",
              "      <td>S</td>\n",
              "      <td>F</td>\n",
              "      <td>J</td>\n",
              "    </tr>\n",
              "    <tr>\n",
              "      <th>524837</th>\n",
              "      <td>643909</td>\n",
              "      <td>zaimoglu</td>\n",
              "      <td>akp chp koalisyo hayali koalisyo</td>\n",
              "      <td>ESFJ</td>\n",
              "      <td>sentinels</td>\n",
              "      <td>E</td>\n",
              "      <td>S</td>\n",
              "      <td>F</td>\n",
              "      <td>J</td>\n",
              "    </tr>\n",
              "    <tr>\n",
              "      <th>524838</th>\n",
              "      <td>643910</td>\n",
              "      <td>zaimoglu</td>\n",
              "      <td>trabzonlu insa hamsi diye fenerbahçe taraftar ...</td>\n",
              "      <td>ESFJ</td>\n",
              "      <td>sentinels</td>\n",
              "      <td>E</td>\n",
              "      <td>S</td>\n",
              "      <td>F</td>\n",
              "      <td>J</td>\n",
              "    </tr>\n",
              "    <tr>\n",
              "      <th>524839</th>\n",
              "      <td>643911</td>\n",
              "      <td>zaimoglu</td>\n",
              "      <td>caner taslama zonguldak panel katılmak olduk in</td>\n",
              "      <td>ESFJ</td>\n",
              "      <td>sentinels</td>\n",
              "      <td>E</td>\n",
              "      <td>S</td>\n",
              "      <td>F</td>\n",
              "      <td>J</td>\n",
              "    </tr>\n",
              "  </tbody>\n",
              "</table>\n",
              "<p>524840 rows × 9 columns</p>\n",
              "</div>"
            ],
            "text/plain": [
              "        Unnamed: 0      user  ... T/F J/P\n",
              "0                0  19991991  ...   T   J\n",
              "1                1  19991991  ...   T   J\n",
              "2                2  19991991  ...   T   J\n",
              "3                3  19991991  ...   T   J\n",
              "4                4  19991991  ...   T   J\n",
              "...            ...       ...  ...  ..  ..\n",
              "524835      643907  zaimoglu  ...   F   J\n",
              "524836      643908  zaimoglu  ...   F   J\n",
              "524837      643909  zaimoglu  ...   F   J\n",
              "524838      643910  zaimoglu  ...   F   J\n",
              "524839      643911  zaimoglu  ...   F   J\n",
              "\n",
              "[524840 rows x 9 columns]"
            ]
          },
          "metadata": {
            "tags": []
          },
          "execution_count": 137
        }
      ]
    },
    {
      "cell_type": "markdown",
      "metadata": {
        "id": "6d1qAUNZ7wkp",
        "colab_type": "text"
      },
      "source": [
        "Her tipten eşit sayıda entry alınabilmesi adına öncelikle bir sınıftaki en az olan entry sayısı bulunur"
      ]
    },
    {
      "cell_type": "code",
      "metadata": {
        "id": "osy70OLU72D-",
        "colab_type": "code",
        "colab": {
          "base_uri": "https://localhost:8080/",
          "height": 34
        },
        "outputId": "44f81757-08fe-438a-b0e0-ec52b5a39084"
      },
      "source": [
        "min_entry = df.groupby('typeClass', as_index = False).count().min().entry\n",
        "\n",
        "min_entry\n"
      ],
      "execution_count": 138,
      "outputs": [
        {
          "output_type": "execute_result",
          "data": {
            "text/plain": [
              "54913"
            ]
          },
          "metadata": {
            "tags": []
          },
          "execution_count": 138
        }
      ]
    },
    {
      "cell_type": "markdown",
      "metadata": {
        "id": "HLO2Dg8NEP6S",
        "colab_type": "text"
      },
      "source": [
        "Eşit sayıda entry olacak şekilde yeni bir dataframe olusturulur"
      ]
    },
    {
      "cell_type": "code",
      "metadata": {
        "id": "tkn7l30hEVDb",
        "colab_type": "code",
        "colab": {
          "base_uri": "https://localhost:8080/",
          "height": 34
        },
        "outputId": "e9faa478-6e7d-4d5e-9c0c-659524d6df22"
      },
      "source": [
        "analysts_df = df[df['typeClass'] == 'analysts']\n",
        "analysts_df = analysts_df.iloc[0 : min_entry]\n",
        "\n",
        "analysts_df.shape[0]\n"
      ],
      "execution_count": 139,
      "outputs": [
        {
          "output_type": "execute_result",
          "data": {
            "text/plain": [
              "54913"
            ]
          },
          "metadata": {
            "tags": []
          },
          "execution_count": 139
        }
      ]
    },
    {
      "cell_type": "code",
      "metadata": {
        "id": "miQ93RVeFzuL",
        "colab_type": "code",
        "colab": {
          "base_uri": "https://localhost:8080/",
          "height": 34
        },
        "outputId": "2ab2b7fa-d8c7-4ebb-d5b2-b0133c481bfb"
      },
      "source": [
        "explorers_df = df[df['typeClass'] == 'explorers']\n",
        "explorers_df = explorers_df.iloc[0 : min_entry]\n",
        "\n",
        "explorers_df.shape[0]"
      ],
      "execution_count": 140,
      "outputs": [
        {
          "output_type": "execute_result",
          "data": {
            "text/plain": [
              "54913"
            ]
          },
          "metadata": {
            "tags": []
          },
          "execution_count": 140
        }
      ]
    },
    {
      "cell_type": "code",
      "metadata": {
        "id": "DnJb-ultGBy3",
        "colab_type": "code",
        "colab": {
          "base_uri": "https://localhost:8080/",
          "height": 34
        },
        "outputId": "819423c6-1211-40bd-9e87-0b0c8198e6f0"
      },
      "source": [
        "sentinels_df = df[df['typeClass'] == 'sentinels']\n",
        "sentinels_df = sentinels_df.iloc[0 : min_entry]\n",
        "\n",
        "sentinels_df.shape[0]"
      ],
      "execution_count": 141,
      "outputs": [
        {
          "output_type": "execute_result",
          "data": {
            "text/plain": [
              "54913"
            ]
          },
          "metadata": {
            "tags": []
          },
          "execution_count": 141
        }
      ]
    },
    {
      "cell_type": "code",
      "metadata": {
        "id": "IizE1zQiGYEA",
        "colab_type": "code",
        "colab": {
          "base_uri": "https://localhost:8080/",
          "height": 34
        },
        "outputId": "d9f82a91-fda7-482f-bd87-5817032617dc"
      },
      "source": [
        "diplomats_df = df[df['typeClass'] == 'diplomats']\n",
        "\n",
        "diplomats_df = diplomats_df.iloc[0 : min_entry]\n",
        "\n",
        "diplomats_df.shape[0]"
      ],
      "execution_count": 142,
      "outputs": [
        {
          "output_type": "execute_result",
          "data": {
            "text/plain": [
              "54913"
            ]
          },
          "metadata": {
            "tags": []
          },
          "execution_count": 142
        }
      ]
    },
    {
      "cell_type": "markdown",
      "metadata": {
        "id": "TBd-YTWcGpMO",
        "colab_type": "text"
      },
      "source": [
        "Yeni bir dataframe oluşturulur."
      ]
    },
    {
      "cell_type": "code",
      "metadata": {
        "id": "LPmQm78eG3d3",
        "colab_type": "code",
        "colab": {
          "base_uri": "https://localhost:8080/",
          "height": 419
        },
        "outputId": "ffa9da9a-81a1-46ee-8c6b-a6e2a727375d"
      },
      "source": [
        "equal_entries_df = pd.concat([diplomats_df, sentinels_df, explorers_df, analysts_df]).reset_index(drop=True)\n",
        "equal_entries_df"
      ],
      "execution_count": 143,
      "outputs": [
        {
          "output_type": "execute_result",
          "data": {
            "text/html": [
              "<div>\n",
              "<style scoped>\n",
              "    .dataframe tbody tr th:only-of-type {\n",
              "        vertical-align: middle;\n",
              "    }\n",
              "\n",
              "    .dataframe tbody tr th {\n",
              "        vertical-align: top;\n",
              "    }\n",
              "\n",
              "    .dataframe thead th {\n",
              "        text-align: right;\n",
              "    }\n",
              "</style>\n",
              "<table border=\"1\" class=\"dataframe\">\n",
              "  <thead>\n",
              "    <tr style=\"text-align: right;\">\n",
              "      <th></th>\n",
              "      <th>Unnamed: 0</th>\n",
              "      <th>user</th>\n",
              "      <th>entry</th>\n",
              "      <th>type</th>\n",
              "      <th>typeClass</th>\n",
              "      <th>I/E</th>\n",
              "      <th>S/N</th>\n",
              "      <th>T/F</th>\n",
              "      <th>J/P</th>\n",
              "    </tr>\n",
              "  </thead>\n",
              "  <tbody>\n",
              "    <tr>\n",
              "      <th>0</th>\n",
              "      <td>240593</td>\n",
              "      <td>1903 24</td>\n",
              "      <td>gtü den evr gün ne soruşturma ıee gtü den açık...</td>\n",
              "      <td>INFJ</td>\n",
              "      <td>diplomats</td>\n",
              "      <td>I</td>\n",
              "      <td>N</td>\n",
              "      <td>F</td>\n",
              "      <td>J</td>\n",
              "    </tr>\n",
              "    <tr>\n",
              "      <th>1</th>\n",
              "      <td>240594</td>\n",
              "      <td>1903 24</td>\n",
              "      <td>ekşi sözlük speakingi club istanbul hazır</td>\n",
              "      <td>INFJ</td>\n",
              "      <td>diplomats</td>\n",
              "      <td>I</td>\n",
              "      <td>N</td>\n",
              "      <td>F</td>\n",
              "      <td>J</td>\n",
              "    </tr>\n",
              "    <tr>\n",
              "      <th>2</th>\n",
              "      <td>240595</td>\n",
              "      <td>1903 24</td>\n",
              "      <td>personalities com   sene sür yapmış infj advo...</td>\n",
              "      <td>INFJ</td>\n",
              "      <td>diplomats</td>\n",
              "      <td>I</td>\n",
              "      <td>N</td>\n",
              "      <td>F</td>\n",
              "      <td>J</td>\n",
              "    </tr>\n",
              "    <tr>\n",
              "      <th>3</th>\n",
              "      <td>240596</td>\n",
              "      <td>1903 24</td>\n",
              "      <td>müzik dinlemek hara uyuşturuç aşık dertli eser...</td>\n",
              "      <td>INFJ</td>\n",
              "      <td>diplomats</td>\n",
              "      <td>I</td>\n",
              "      <td>N</td>\n",
              "      <td>F</td>\n",
              "      <td>J</td>\n",
              "    </tr>\n",
              "    <tr>\n",
              "      <th>4</th>\n",
              "      <td>240599</td>\n",
              "      <td>1903 24</td>\n",
              "      <td>zengi insa kurabilecek cümle al kar sık arar</td>\n",
              "      <td>INFJ</td>\n",
              "      <td>diplomats</td>\n",
              "      <td>I</td>\n",
              "      <td>N</td>\n",
              "      <td>F</td>\n",
              "      <td>J</td>\n",
              "    </tr>\n",
              "    <tr>\n",
              "      <th>...</th>\n",
              "      <td>...</td>\n",
              "      <td>...</td>\n",
              "      <td>...</td>\n",
              "      <td>...</td>\n",
              "      <td>...</td>\n",
              "      <td>...</td>\n",
              "      <td>...</td>\n",
              "      <td>...</td>\n",
              "      <td>...</td>\n",
              "    </tr>\n",
              "    <tr>\n",
              "      <th>219647</th>\n",
              "      <td>69519</td>\n",
              "      <td>gulcehatun</td>\n",
              "      <td>ceset gör sözlük yazar okuduk görmedi düşündür...</td>\n",
              "      <td>INTJ</td>\n",
              "      <td>analysts</td>\n",
              "      <td>I</td>\n",
              "      <td>N</td>\n",
              "      <td>T</td>\n",
              "      <td>J</td>\n",
              "    </tr>\n",
              "    <tr>\n",
              "      <th>219648</th>\n",
              "      <td>69520</td>\n",
              "      <td>gulcehatun</td>\n",
              "      <td>nişa dük tektaş bala istemeye istemeye mümk is...</td>\n",
              "      <td>INTJ</td>\n",
              "      <td>analysts</td>\n",
              "      <td>I</td>\n",
              "      <td>N</td>\n",
              "      <td>T</td>\n",
              "      <td>J</td>\n",
              "    </tr>\n",
              "    <tr>\n",
              "      <th>219649</th>\n",
              "      <td>69522</td>\n",
              "      <td>gulcehatun</td>\n",
              "      <td>yürüye merdive duran uyarıl kampanyas istanbul...</td>\n",
              "      <td>INTJ</td>\n",
              "      <td>analysts</td>\n",
              "      <td>I</td>\n",
              "      <td>N</td>\n",
              "      <td>T</td>\n",
              "      <td>J</td>\n",
              "    </tr>\n",
              "    <tr>\n",
              "      <th>219650</th>\n",
              "      <td>69523</td>\n",
              "      <td>gulcehatun</td>\n",
              "      <td>zaman baş atla in mesel ağladık gözyaş ke silm...</td>\n",
              "      <td>INTJ</td>\n",
              "      <td>analysts</td>\n",
              "      <td>I</td>\n",
              "      <td>N</td>\n",
              "      <td>T</td>\n",
              "      <td>J</td>\n",
              "    </tr>\n",
              "    <tr>\n",
              "      <th>219651</th>\n",
              "      <td>69524</td>\n",
              "      <td>gulcehatun</td>\n",
              "      <td>marquis görünenkapak vurulup üsküdar sahaf fes...</td>\n",
              "      <td>INTJ</td>\n",
              "      <td>analysts</td>\n",
              "      <td>I</td>\n",
              "      <td>N</td>\n",
              "      <td>T</td>\n",
              "      <td>J</td>\n",
              "    </tr>\n",
              "  </tbody>\n",
              "</table>\n",
              "<p>219652 rows × 9 columns</p>\n",
              "</div>"
            ],
            "text/plain": [
              "        Unnamed: 0        user  ... T/F J/P\n",
              "0           240593     1903 24  ...   F   J\n",
              "1           240594     1903 24  ...   F   J\n",
              "2           240595     1903 24  ...   F   J\n",
              "3           240596     1903 24  ...   F   J\n",
              "4           240599     1903 24  ...   F   J\n",
              "...            ...         ...  ...  ..  ..\n",
              "219647       69519  gulcehatun  ...   T   J\n",
              "219648       69520  gulcehatun  ...   T   J\n",
              "219649       69522  gulcehatun  ...   T   J\n",
              "219650       69523  gulcehatun  ...   T   J\n",
              "219651       69524  gulcehatun  ...   T   J\n",
              "\n",
              "[219652 rows x 9 columns]"
            ]
          },
          "metadata": {
            "tags": []
          },
          "execution_count": 143
        }
      ]
    },
    {
      "cell_type": "markdown",
      "metadata": {
        "id": "Z0u7Pm17LrOX",
        "colab_type": "text"
      },
      "source": [
        "Oluşturulan dataframe shuffle edilir."
      ]
    },
    {
      "cell_type": "code",
      "metadata": {
        "id": "1f3gk53FLuLH",
        "colab_type": "code",
        "colab": {}
      },
      "source": [
        "equal_entries_df = equal_entries_df.sample(frac=1).reset_index(drop=True)"
      ],
      "execution_count": 0,
      "outputs": []
    },
    {
      "cell_type": "code",
      "metadata": {
        "id": "4hbnqCbZL1hk",
        "colab_type": "code",
        "colab": {
          "base_uri": "https://localhost:8080/",
          "height": 419
        },
        "outputId": "c0bedbde-d6fd-4d6d-e225-29ecada72be0"
      },
      "source": [
        "equal_entries_df"
      ],
      "execution_count": 145,
      "outputs": [
        {
          "output_type": "execute_result",
          "data": {
            "text/html": [
              "<div>\n",
              "<style scoped>\n",
              "    .dataframe tbody tr th:only-of-type {\n",
              "        vertical-align: middle;\n",
              "    }\n",
              "\n",
              "    .dataframe tbody tr th {\n",
              "        vertical-align: top;\n",
              "    }\n",
              "\n",
              "    .dataframe thead th {\n",
              "        text-align: right;\n",
              "    }\n",
              "</style>\n",
              "<table border=\"1\" class=\"dataframe\">\n",
              "  <thead>\n",
              "    <tr style=\"text-align: right;\">\n",
              "      <th></th>\n",
              "      <th>Unnamed: 0</th>\n",
              "      <th>user</th>\n",
              "      <th>entry</th>\n",
              "      <th>type</th>\n",
              "      <th>typeClass</th>\n",
              "      <th>I/E</th>\n",
              "      <th>S/N</th>\n",
              "      <th>T/F</th>\n",
              "      <th>J/P</th>\n",
              "    </tr>\n",
              "  </thead>\n",
              "  <tbody>\n",
              "    <tr>\n",
              "      <th>0</th>\n",
              "      <td>584729</td>\n",
              "      <td>melancohly</td>\n",
              "      <td>ohannesburger alsancak dolaşır meka görüp bir ...</td>\n",
              "      <td>ESTJ</td>\n",
              "      <td>sentinels</td>\n",
              "      <td>E</td>\n",
              "      <td>S</td>\n",
              "      <td>T</td>\n",
              "      <td>J</td>\n",
              "    </tr>\n",
              "    <tr>\n",
              "      <th>1</th>\n",
              "      <td>480740</td>\n",
              "      <td>damatferid</td>\n",
              "      <td>how met your mother dan akıl kalan   sezo   bö...</td>\n",
              "      <td>ESTP</td>\n",
              "      <td>explorers</td>\n",
              "      <td>E</td>\n",
              "      <td>S</td>\n",
              "      <td>T</td>\n",
              "      <td>P</td>\n",
              "    </tr>\n",
              "    <tr>\n",
              "      <th>2</th>\n",
              "      <td>523160</td>\n",
              "      <td>sn3x</td>\n",
              "      <td>medeniyet gösterges küçük detay insa birbir gü...</td>\n",
              "      <td>ISFP</td>\n",
              "      <td>explorers</td>\n",
              "      <td>I</td>\n",
              "      <td>S</td>\n",
              "      <td>F</td>\n",
              "      <td>P</td>\n",
              "    </tr>\n",
              "    <tr>\n",
              "      <th>3</th>\n",
              "      <td>575515</td>\n",
              "      <td>incir agaci golgesinde</td>\n",
              "      <td>ev ödev kaldırılmas saçma olay gelecek seçim a...</td>\n",
              "      <td>ISTJ</td>\n",
              "      <td>sentinels</td>\n",
              "      <td>I</td>\n",
              "      <td>S</td>\n",
              "      <td>T</td>\n",
              "      <td>J</td>\n",
              "    </tr>\n",
              "    <tr>\n",
              "      <th>4</th>\n",
              "      <td>36391</td>\n",
              "      <td>cok gezen adam</td>\n",
              "      <td>çocuk okuna dergi milliyet çocuk</td>\n",
              "      <td>INTJ</td>\n",
              "      <td>analysts</td>\n",
              "      <td>I</td>\n",
              "      <td>N</td>\n",
              "      <td>T</td>\n",
              "      <td>J</td>\n",
              "    </tr>\n",
              "    <tr>\n",
              "      <th>...</th>\n",
              "      <td>...</td>\n",
              "      <td>...</td>\n",
              "      <td>...</td>\n",
              "      <td>...</td>\n",
              "      <td>...</td>\n",
              "      <td>...</td>\n",
              "      <td>...</td>\n",
              "      <td>...</td>\n",
              "      <td>...</td>\n",
              "    </tr>\n",
              "    <tr>\n",
              "      <th>219647</th>\n",
              "      <td>295265</td>\n",
              "      <td>hakkican21</td>\n",
              "      <td>buket a ın kanal d den kovulmas adet   you  nh...</td>\n",
              "      <td>INFJ</td>\n",
              "      <td>diplomats</td>\n",
              "      <td>I</td>\n",
              "      <td>N</td>\n",
              "      <td>F</td>\n",
              "      <td>J</td>\n",
              "    </tr>\n",
              "    <tr>\n",
              "      <th>219648</th>\n",
              "      <td>502827</td>\n",
              "      <td>kanuni sozluk celebi</td>\n",
              "      <td>kayınpeder damadı aşık seviyos git konuş</td>\n",
              "      <td>ISFP</td>\n",
              "      <td>explorers</td>\n",
              "      <td>I</td>\n",
              "      <td>S</td>\n",
              "      <td>F</td>\n",
              "      <td>P</td>\n",
              "    </tr>\n",
              "    <tr>\n",
              "      <th>219649</th>\n",
              "      <td>465202</td>\n",
              "      <td>bardan adam</td>\n",
              "      <td>fifa   söylememiş denk gelmedi oy vicenza marc...</td>\n",
              "      <td>ESTP</td>\n",
              "      <td>explorers</td>\n",
              "      <td>E</td>\n",
              "      <td>S</td>\n",
              "      <td>T</td>\n",
              "      <td>P</td>\n",
              "    </tr>\n",
              "    <tr>\n",
              "      <th>219650</th>\n",
              "      <td>564606</td>\n",
              "      <td>fyodor fyodorovic</td>\n",
              "      <td>aykut kocama futbol anlaya futbol teorik matem...</td>\n",
              "      <td>ISFJ</td>\n",
              "      <td>sentinels</td>\n",
              "      <td>I</td>\n",
              "      <td>S</td>\n",
              "      <td>F</td>\n",
              "      <td>J</td>\n",
              "    </tr>\n",
              "    <tr>\n",
              "      <th>219651</th>\n",
              "      <td>589412</td>\n",
              "      <td>monitoba</td>\n",
              "      <td>ülke kal anla yol ekşisözlük göz attık anlaşıl...</td>\n",
              "      <td>ESFJ</td>\n",
              "      <td>sentinels</td>\n",
              "      <td>E</td>\n",
              "      <td>S</td>\n",
              "      <td>F</td>\n",
              "      <td>J</td>\n",
              "    </tr>\n",
              "  </tbody>\n",
              "</table>\n",
              "<p>219652 rows × 9 columns</p>\n",
              "</div>"
            ],
            "text/plain": [
              "        Unnamed: 0                    user  ... T/F J/P\n",
              "0           584729              melancohly  ...   T   J\n",
              "1           480740              damatferid  ...   T   P\n",
              "2           523160                    sn3x  ...   F   P\n",
              "3           575515  incir agaci golgesinde  ...   T   J\n",
              "4            36391          cok gezen adam  ...   T   J\n",
              "...            ...                     ...  ...  ..  ..\n",
              "219647      295265              hakkican21  ...   F   J\n",
              "219648      502827    kanuni sozluk celebi  ...   F   P\n",
              "219649      465202             bardan adam  ...   T   P\n",
              "219650      564606       fyodor fyodorovic  ...   F   J\n",
              "219651      589412                monitoba  ...   F   J\n",
              "\n",
              "[219652 rows x 9 columns]"
            ]
          },
          "metadata": {
            "tags": []
          },
          "execution_count": 145
        }
      ]
    },
    {
      "cell_type": "markdown",
      "metadata": {
        "colab_type": "text",
        "id": "dZzvU-o2sc2w"
      },
      "source": [
        "<span style=\"font-size:1.1em;\">TF-IDF özellik vektörünün çıkartılmasında kullanılacak değişken aşağıda belirlenmiş olan parametrelerle oluşturulur.</span>"
      ]
    },
    {
      "cell_type": "code",
      "metadata": {
        "colab_type": "code",
        "id": "CbggMvzcY5ER",
        "colab": {}
      },
      "source": [
        "from sklearn.feature_extraction.text import TfidfVectorizer\n",
        "tfidf_vectorizer = TfidfVectorizer(sublinear_tf=True, norm='l2', encoding='utf-8', ngram_range=(1, 2), max_features=100, analyzer = 'word', token_pattern=r'\\w{1,}')"
      ],
      "execution_count": 0,
      "outputs": []
    },
    {
      "cell_type": "markdown",
      "metadata": {
        "colab_type": "text",
        "id": "eX6FeaibfZvZ"
      },
      "source": [
        "**Feature Extraction** \n",
        "\n",
        "Burada tf-idf vektörlerinin çıkartılmasında kullanılacak olan vocabulary oluşturulur."
      ]
    },
    {
      "cell_type": "code",
      "metadata": {
        "id": "vgAqqNx0tVbS",
        "colab_type": "code",
        "colab": {}
      },
      "source": [
        "import numpy as np\n",
        "\n",
        "equal_entries_df['entry'] = equal_entries_df['entry'].apply(lambda x: np.str_(x)) # ValueError: np.nan is an invalid document seklinde bir hata verdigi icin bunu asmak adina yapildi."
      ],
      "execution_count": 0,
      "outputs": []
    },
    {
      "cell_type": "code",
      "metadata": {
        "colab_type": "code",
        "id": "izEeSWJIfZYQ",
        "outputId": "d53a178f-f400-496d-9733-75d6af25d32a",
        "colab": {
          "base_uri": "https://localhost:8080/",
          "height": 136
        }
      },
      "source": [
        "tfidf_vectorizer.fit(equal_entries_df['entry'])"
      ],
      "execution_count": 148,
      "outputs": [
        {
          "output_type": "execute_result",
          "data": {
            "text/plain": [
              "TfidfVectorizer(analyzer='word', binary=False, decode_error='strict',\n",
              "                dtype=<class 'numpy.float64'>, encoding='utf-8',\n",
              "                input='content', lowercase=True, max_df=1.0, max_features=100,\n",
              "                min_df=1, ngram_range=(1, 2), norm='l2', preprocessor=None,\n",
              "                smooth_idf=True, stop_words=None, strip_accents=None,\n",
              "                sublinear_tf=True, token_pattern='\\\\w{1,}', tokenizer=None,\n",
              "                use_idf=True, vocabulary=None)"
            ]
          },
          "metadata": {
            "tags": []
          },
          "execution_count": 148
        }
      ]
    },
    {
      "cell_type": "markdown",
      "metadata": {
        "colab_type": "text",
        "id": "JRTpmz32fOtg"
      },
      "source": [
        "Veriseti train ve test olmak üzere ikiye ayrılır. Test %20 ve train %80'ini oluşturacak şekilde tüm veriseti bölünür. random_state parametresi ile tekrardan bölündüğünde bir öncekiyle aynı train ve test veri setlerinin oluşturulması sağlanır."
      ]
    },
    {
      "cell_type": "code",
      "metadata": {
        "colab_type": "code",
        "id": "CbObRS01fIzb",
        "colab": {}
      },
      "source": [
        "from sklearn.model_selection import train_test_split"
      ],
      "execution_count": 0,
      "outputs": []
    },
    {
      "cell_type": "code",
      "metadata": {
        "colab_type": "code",
        "id": "k1skQ7bRfLyQ",
        "colab": {}
      },
      "source": [
        "X_train, X_test, y_train, y_test = train_test_split(equal_entries_df['entry'], equal_entries_df['typeClass'], random_state = 42, test_size = 0.20, shuffle = True)\n",
        "\n",
        "y_actual = y_test.values"
      ],
      "execution_count": 0,
      "outputs": []
    },
    {
      "cell_type": "code",
      "metadata": {
        "id": "__LKmzFBOeuT",
        "colab_type": "code",
        "colab": {
          "base_uri": "https://localhost:8080/",
          "height": 34
        },
        "outputId": "66083fe4-c7b0-4815-ad9a-0792e480e246"
      },
      "source": [
        "X_train.shape[0]"
      ],
      "execution_count": 151,
      "outputs": [
        {
          "output_type": "execute_result",
          "data": {
            "text/plain": [
              "175721"
            ]
          },
          "metadata": {
            "tags": []
          },
          "execution_count": 151
        }
      ]
    },
    {
      "cell_type": "code",
      "metadata": {
        "id": "YgQuM4mZOiVH",
        "colab_type": "code",
        "colab": {
          "base_uri": "https://localhost:8080/",
          "height": 34
        },
        "outputId": "9353530b-52ec-4136-c5e4-aeb92ea18acd"
      },
      "source": [
        "X_test.shape[0]"
      ],
      "execution_count": 152,
      "outputs": [
        {
          "output_type": "execute_result",
          "data": {
            "text/plain": [
              "43931"
            ]
          },
          "metadata": {
            "tags": []
          },
          "execution_count": 152
        }
      ]
    },
    {
      "cell_type": "markdown",
      "metadata": {
        "colab_type": "text",
        "id": "dUjGVe2ufm9D"
      },
      "source": [
        "Train ve test datasetlerinden tf-idf vektörleri çıkartılır\n"
      ]
    },
    {
      "cell_type": "code",
      "metadata": {
        "colab_type": "code",
        "id": "5WWZ5iZzfmm1",
        "colab": {}
      },
      "source": [
        "X_train_tfidf = tfidf_vectorizer.transform(X_train)\n",
        "X_test_tfidf = tfidf_vectorizer.transform(X_test)"
      ],
      "execution_count": 0,
      "outputs": []
    },
    {
      "cell_type": "code",
      "metadata": {
        "id": "GjT1_q3HOXsB",
        "colab_type": "code",
        "colab": {
          "base_uri": "https://localhost:8080/",
          "height": 51
        },
        "outputId": "dd2b65e7-5285-4ceb-a174-8509753d5f4d"
      },
      "source": [
        "X_train_tfidf"
      ],
      "execution_count": 154,
      "outputs": [
        {
          "output_type": "execute_result",
          "data": {
            "text/plain": [
              "<175721x100 sparse matrix of type '<class 'numpy.float64'>'\n",
              "\twith 698544 stored elements in Compressed Sparse Row format>"
            ]
          },
          "metadata": {
            "tags": []
          },
          "execution_count": 154
        }
      ]
    },
    {
      "cell_type": "code",
      "metadata": {
        "id": "I_V_me9GOVgn",
        "colab_type": "code",
        "colab": {
          "base_uri": "https://localhost:8080/",
          "height": 51
        },
        "outputId": "ab5fbd64-2942-4fcd-c435-d77b7d749e7d"
      },
      "source": [
        "X_test_tfidf"
      ],
      "execution_count": 155,
      "outputs": [
        {
          "output_type": "execute_result",
          "data": {
            "text/plain": [
              "<43931x100 sparse matrix of type '<class 'numpy.float64'>'\n",
              "\twith 175643 stored elements in Compressed Sparse Row format>"
            ]
          },
          "metadata": {
            "tags": []
          },
          "execution_count": 155
        }
      ]
    },
    {
      "cell_type": "markdown",
      "metadata": {
        "id": "dwjZCr8SrsAx",
        "colab_type": "text"
      },
      "source": [
        "SVM kullanılarak tahmin edilir."
      ]
    },
    {
      "cell_type": "code",
      "metadata": {
        "id": "3_0pIuvYrsAz",
        "colab_type": "code",
        "colab": {
          "base_uri": "https://localhost:8080/",
          "height": 85
        },
        "outputId": "2cf1e532-53a9-415a-c5ea-11f3333f8c8f"
      },
      "source": [
        "from sklearn import svm\n",
        "SVM = svm.SVC(C=1.0, kernel='linear', degree=3, gamma='auto')\n",
        "SVM.fit(X_train_tfidf, y_train)"
      ],
      "execution_count": 156,
      "outputs": [
        {
          "output_type": "execute_result",
          "data": {
            "text/plain": [
              "SVC(C=1.0, cache_size=200, class_weight=None, coef0=0.0,\n",
              "    decision_function_shape='ovr', degree=3, gamma='auto', kernel='linear',\n",
              "    max_iter=-1, probability=False, random_state=None, shrinking=True,\n",
              "    tol=0.001, verbose=False)"
            ]
          },
          "metadata": {
            "tags": []
          },
          "execution_count": 156
        }
      ]
    },
    {
      "cell_type": "code",
      "metadata": {
        "id": "BRvzeDHvOH19",
        "colab_type": "code",
        "colab": {}
      },
      "source": [
        "y_predicted = SVM.predict(X_test_tfidf)"
      ],
      "execution_count": 0,
      "outputs": []
    },
    {
      "cell_type": "code",
      "metadata": {
        "colab_type": "code",
        "id": "7i8gHOU0ipzw",
        "colab": {
          "base_uri": "https://localhost:8080/",
          "height": 51
        },
        "outputId": "02ded216-84cf-45ae-e364-a768fd415a29"
      },
      "source": [
        "y_predicted"
      ],
      "execution_count": 158,
      "outputs": [
        {
          "output_type": "execute_result",
          "data": {
            "text/plain": [
              "array(['explorers', 'explorers', 'sentinels', ..., 'analysts',\n",
              "       'explorers', 'analysts'], dtype=object)"
            ]
          },
          "metadata": {
            "tags": []
          },
          "execution_count": 158
        }
      ]
    },
    {
      "cell_type": "markdown",
      "metadata": {
        "colab_type": "text",
        "id": "HVUImvDlHPXa"
      },
      "source": [
        "<span style=\"font-size:1.1em\">Yapılacak tahminlerle ilgili istatistiksel verileri tutmak için</span> ```predictions_result```<span style=\"font-size:1.1em\"> adında bir değişken oluşturulur.</span>\n",
        "\n",
        "<span style=\"font-size:1.1em\">Bu değişkenin yapısı aşağıdaki gibidir.</span>\n",
        "\n",
        "```json\n",
        "{\n",
        "    \"predicted\": {\n",
        "        \"analysts\":  { \"actual\": {\"analysts\": 0, \"diplomats\": 0, \"explorers\": 0, \"sentinels\": 0} }\n",
        "        \"diplomats\": { \"actual\": {\"analysts\": 0, \"diplomats\": 0, \"explorers\": 0, \"sentinels\": 0} }\n",
        "        \"explorers\": { \"actual\": {\"analysts\": 0, \"diplomats\": 0, \"explorers\": 0, \"sentinels\": 0} }\n",
        "        \"sentinels\": { \"actual\": {\"analysts\": 0, \"diplomats\": 0, \"explorers\": 0, \"sentinels\": 0} }\n",
        "    }\n",
        "}\n",
        "```\n",
        "\n",
        "* <span style=\"font-size:1.1em;\">Yapılan tahminlerle ilgili verilere ulaşabilmek için</span>\n",
        "\n",
        "    ```predictions_results['predicted']```\n",
        "\n",
        "\n",
        "* <span style=\"font-size:1.1em;\">Yapılan tahminin analyst ise:</span>\n",
        "\n",
        "    ```predictions_results['predicted']['analysts']``` \n",
        "\n",
        "\n",
        "* <span style=\"font-size:1.1em;\">Yapılan analyst tahmininin gerçek değerlerine erişmek için:</span>     \n",
        "\n",
        "    ```predictions_results['predicted']['analysts']['actual']```  \n",
        "\n",
        "\n",
        "* <span style=\"font-size:1.1em;\">Test verisi, model tarafından analysts olarak tahmin edilmiştir ve bu verinin gerçek değeri de analysts'tir.</span>\n",
        "\n",
        "    ```predictions_results['predicted']['analysts']['actual']['analysts']``` "
      ]
    },
    {
      "cell_type": "code",
      "metadata": {
        "colab_type": "code",
        "id": "DD0xZXNNsc3F",
        "colab": {}
      },
      "source": [
        "prediction_results = {'predicted': {}}  ## prediction_result['analysts'] means prediction is 'analysts'\n",
        "\n",
        "prediction_results['predicted']['analysts']  = {'actual': {'analysts': 0, 'diplomats': 0, 'explorers': 0, 'sentinels': 0}}\n",
        "prediction_results['predicted']['diplomats'] = {'actual': {'analysts': 0, 'diplomats': 0, 'explorers': 0, 'sentinels': 0}}\n",
        "prediction_results['predicted']['explorers'] = {'actual': {'analysts': 0, 'diplomats': 0, 'explorers': 0, 'sentinels': 0}}\n",
        "prediction_results['predicted']['sentinels'] = {'actual': {'analysts': 0, 'diplomats': 0, 'explorers': 0, 'sentinels': 0}}\n",
        "\n",
        "## prediction_result['analysts']['diplomats'] means prediction is analysts but actual value is diplomats"
      ],
      "execution_count": 0,
      "outputs": []
    },
    {
      "cell_type": "markdown",
      "metadata": {
        "colab_type": "text",
        "id": "YOFYyew6HPXl"
      },
      "source": [
        "```prediction_results```<span style=\"font-size:1.1em\"> içerisinde tutulan sayaçların değerleri arttırılır.</span>"
      ]
    },
    {
      "cell_type": "code",
      "metadata": {
        "colab_type": "code",
        "id": "Kc7adxOMfmKj",
        "colab": {}
      },
      "source": [
        "for i in range(len(y_predicted)):\n",
        "  predicted_value = y_predicted[i]\n",
        "  actual_value = y_actual[i]\n",
        "  prediction_results['predicted'][predicted_value]['actual'][actual_value] += 1"
      ],
      "execution_count": 0,
      "outputs": []
    },
    {
      "cell_type": "markdown",
      "metadata": {
        "colab_type": "text",
        "id": "4FDMu4kXHPXr"
      },
      "source": [
        "<span style=\"font-size:1.1em\">JSON formatına çevrilir </span>```dict``` <span style=\"font-size:1.1em\">tipi. Bu sayede daha okunaklı bir şekilde print edilmiş olur. </span>"
      ]
    },
    {
      "cell_type": "code",
      "metadata": {
        "colab_type": "code",
        "id": "4gGDav5qgVQh",
        "scrolled": false,
        "colab": {
          "base_uri": "https://localhost:8080/",
          "height": 629
        },
        "outputId": "f6f59669-1980-49d3-f074-a7c683016fb0"
      },
      "source": [
        "import json\n",
        "\n",
        "print(json.dumps(prediction_results, indent = 2))"
      ],
      "execution_count": 161,
      "outputs": [
        {
          "output_type": "stream",
          "text": [
            "{\n",
            "  \"predicted\": {\n",
            "    \"analysts\": {\n",
            "      \"actual\": {\n",
            "        \"analysts\": 2569,\n",
            "        \"diplomats\": 2047,\n",
            "        \"explorers\": 2130,\n",
            "        \"sentinels\": 2222\n",
            "      }\n",
            "    },\n",
            "    \"diplomats\": {\n",
            "      \"actual\": {\n",
            "        \"analysts\": 896,\n",
            "        \"diplomats\": 1558,\n",
            "        \"explorers\": 885,\n",
            "        \"sentinels\": 840\n",
            "      }\n",
            "    },\n",
            "    \"explorers\": {\n",
            "      \"actual\": {\n",
            "        \"analysts\": 5080,\n",
            "        \"diplomats\": 5100,\n",
            "        \"explorers\": 5539,\n",
            "        \"sentinels\": 4991\n",
            "      }\n",
            "    },\n",
            "    \"sentinels\": {\n",
            "      \"actual\": {\n",
            "        \"analysts\": 2430,\n",
            "        \"diplomats\": 2294,\n",
            "        \"explorers\": 2402,\n",
            "        \"sentinels\": 2948\n",
            "      }\n",
            "    }\n",
            "  }\n",
            "}\n"
          ],
          "name": "stdout"
        }
      ]
    },
    {
      "cell_type": "markdown",
      "metadata": {
        "colab_type": "text",
        "id": "Uw8Sx7TsHPX1"
      },
      "source": [
        "<span style=\"font-size:1.1em;\">İlgili field extract edilir</span> ```dict``` <span style=\"font-size:1.1em;\">yapısından.</span>"
      ]
    },
    {
      "cell_type": "code",
      "metadata": {
        "colab_type": "code",
        "id": "ZBUI6iMTHPX2",
        "colab": {}
      },
      "source": [
        "results = prediction_results['predicted']"
      ],
      "execution_count": 0,
      "outputs": []
    },
    {
      "cell_type": "markdown",
      "metadata": {
        "colab_type": "text",
        "id": "IoxOrOr6HPX7"
      },
      "source": [
        "<span style=\"font-size:1.1em;\">Başarı oranı hesaplanır</span>"
      ]
    },
    {
      "cell_type": "code",
      "metadata": {
        "colab_type": "code",
        "id": "0S5fD04Zgg11",
        "colab": {
          "base_uri": "https://localhost:8080/",
          "height": 34
        },
        "outputId": "bd82ee07-d1b2-4987-c5bd-a2b2af629f30"
      },
      "source": [
        "accuracy = (results['analysts']['actual']['analysts'] + results['diplomats']['actual']['diplomats'] + results['explorers']['actual']['explorers'] + results['sentinels']['actual']['sentinels']) / len(y_predicted)\n",
        "accuracy"
      ],
      "execution_count": 163,
      "outputs": [
        {
          "output_type": "execute_result",
          "data": {
            "text/plain": [
              "0.28713209351027746"
            ]
          },
          "metadata": {
            "tags": []
          },
          "execution_count": 163
        }
      ]
    },
    {
      "cell_type": "markdown",
      "metadata": {
        "colab_type": "text",
        "id": "ooofyhgeHPYA"
      },
      "source": [
        "<span style=\"font-size:1.1em;\">**E/I** boyutu tahmin edilir</span>"
      ]
    },
    {
      "cell_type": "code",
      "metadata": {
        "colab_type": "code",
        "id": "ZPmKSg3XrONj",
        "colab": {}
      },
      "source": [
        "X_train, X_test, y_train, y_test = train_test_split(equal_entries_df['entry'], equal_entries_df['I/E'], random_state = 42, shuffle = True)  ## Geri kalanlar S, T, J\n",
        "\n",
        "X_train_tfidf = tfidf_vectorizer.transform(X_train)\n",
        "X_test_tfidf = tfidf_vectorizer.transform(X_test)\n",
        "\n",
        "SVM = svm.SVC(C=1.0, kernel='linear', degree=3, gamma='auto')\n",
        "SVM.fit(X_train_tfidf,y_train)\n",
        "\n",
        "y_actual = y_test.values\n",
        "\n",
        "y_predicted = SVM.predict(X_test_tfidf)"
      ],
      "execution_count": 0,
      "outputs": []
    },
    {
      "cell_type": "code",
      "metadata": {
        "colab_type": "code",
        "id": "hgxavMQorivQ",
        "outputId": "2270c261-5367-43f1-fa1e-78a3766c0089",
        "colab": {
          "base_uri": "https://localhost:8080/",
          "height": 34
        }
      },
      "source": [
        "y_predicted"
      ],
      "execution_count": 165,
      "outputs": [
        {
          "output_type": "execute_result",
          "data": {
            "text/plain": [
              "array(['E', 'E', 'E', ..., 'E', 'E', 'E'], dtype=object)"
            ]
          },
          "metadata": {
            "tags": []
          },
          "execution_count": 165
        }
      ]
    },
    {
      "cell_type": "code",
      "metadata": {
        "colab_type": "code",
        "id": "DlQeP5BFr0BA",
        "outputId": "66b3a37f-4d0e-4bfd-a83f-ebe5f1131294",
        "colab": {
          "base_uri": "https://localhost:8080/",
          "height": 34
        }
      },
      "source": [
        "predicted = {}\n",
        "predicted['I'] = {'actual': {'I': 0, 'E': 0}}\n",
        "predicted['E'] = {'actual': {'I': 0, 'E': 0}}\n",
        "predicted"
      ],
      "execution_count": 166,
      "outputs": [
        {
          "output_type": "execute_result",
          "data": {
            "text/plain": [
              "{'E': {'actual': {'E': 0, 'I': 0}}, 'I': {'actual': {'E': 0, 'I': 0}}}"
            ]
          },
          "metadata": {
            "tags": []
          },
          "execution_count": 166
        }
      ]
    },
    {
      "cell_type": "code",
      "metadata": {
        "colab_type": "code",
        "id": "F38Wm7lnsNxh",
        "colab": {}
      },
      "source": [
        "for i in range(len(y_predicted)):\n",
        "  predicted[y_predicted[i]]['actual'][y_actual[i]] += 1\n"
      ],
      "execution_count": 0,
      "outputs": []
    },
    {
      "cell_type": "code",
      "metadata": {
        "colab_type": "code",
        "id": "pCppRIUitZ3A",
        "outputId": "0051d338-0641-496b-e28a-ca5dc432b3b1",
        "colab": {
          "base_uri": "https://localhost:8080/",
          "height": 51
        }
      },
      "source": [
        "predicted"
      ],
      "execution_count": 168,
      "outputs": [
        {
          "output_type": "execute_result",
          "data": {
            "text/plain": [
              "{'E': {'actual': {'E': 26228, 'I': 22878}},\n",
              " 'I': {'actual': {'E': 2649, 'I': 3158}}}"
            ]
          },
          "metadata": {
            "tags": []
          },
          "execution_count": 168
        }
      ]
    },
    {
      "cell_type": "code",
      "metadata": {
        "colab_type": "code",
        "id": "sRxuH3Fht6me",
        "colab": {}
      },
      "source": [
        "accuracy = (predicted['E']['actual']['E'] + predicted['I']['actual']['I']) / len(y_predicted)"
      ],
      "execution_count": 0,
      "outputs": []
    },
    {
      "cell_type": "code",
      "metadata": {
        "colab_type": "code",
        "id": "11O91HLLuH27",
        "outputId": "ec5e3bfa-3e7a-43aa-acdb-28737b94e0ff",
        "colab": {
          "base_uri": "https://localhost:8080/",
          "height": 34
        }
      },
      "source": [
        "accuracy"
      ],
      "execution_count": 170,
      "outputs": [
        {
          "output_type": "execute_result",
          "data": {
            "text/plain": [
              "0.5351373991586692"
            ]
          },
          "metadata": {
            "tags": []
          },
          "execution_count": 170
        }
      ]
    },
    {
      "cell_type": "markdown",
      "metadata": {
        "colab_type": "text",
        "id": "ktc8Y-2hHPYg"
      },
      "source": [
        "<span style=\"font-size:1.1em\">**S/N** boyutu tahmin edilir.</span>"
      ]
    },
    {
      "cell_type": "code",
      "metadata": {
        "colab_type": "code",
        "id": "mq8qRr5RuSVO",
        "colab": {}
      },
      "source": [
        "X_train, X_test, y_train, y_test = train_test_split(equal_entries_df['entry'], equal_entries_df['S/N'], random_state = 42, shuffle = True)  ## Geri kalan boyutlar: T, J\n",
        "\n",
        "X_train_tfidf = tfidf_vectorizer.transform(X_train)\n",
        "X_test_tfidf = tfidf_vectorizer.transform(X_test)\n",
        "\n",
        "SVM = svm.SVC(C=1.0, kernel='linear', degree=3, gamma='auto')\n",
        "SVM.fit(X_train_tfidf,y_train)\n",
        "\n",
        "y_actual = y_test.values\n",
        "\n",
        "y_predicted = SVM.predict(X_test_tfidf)"
      ],
      "execution_count": 0,
      "outputs": []
    },
    {
      "cell_type": "code",
      "metadata": {
        "colab_type": "code",
        "id": "VzV1av-CuZ2b",
        "outputId": "c6a94561-2759-4610-d078-b24033fe906c",
        "colab": {
          "base_uri": "https://localhost:8080/",
          "height": 85
        }
      },
      "source": [
        "predicted['N'] = {'actual': {'N': 0, 'S': 0}}\n",
        "predicted['S'] = {'actual': {'N': 0, 'S': 0}}\n",
        "\n",
        "predicted"
      ],
      "execution_count": 172,
      "outputs": [
        {
          "output_type": "execute_result",
          "data": {
            "text/plain": [
              "{'E': {'actual': {'E': 26228, 'I': 22878}},\n",
              " 'I': {'actual': {'E': 2649, 'I': 3158}},\n",
              " 'N': {'actual': {'N': 0, 'S': 0}},\n",
              " 'S': {'actual': {'N': 0, 'S': 0}}}"
            ]
          },
          "metadata": {
            "tags": []
          },
          "execution_count": 172
        }
      ]
    },
    {
      "cell_type": "code",
      "metadata": {
        "colab_type": "code",
        "id": "Fm2wvaVYuklE",
        "colab": {}
      },
      "source": [
        "for i in range(len(y_predicted)):\n",
        "  predicted[y_predicted[i]]['actual'][y_actual[i]] += 1"
      ],
      "execution_count": 0,
      "outputs": []
    },
    {
      "cell_type": "code",
      "metadata": {
        "colab_type": "code",
        "id": "YbVEQPPsvebF",
        "outputId": "5c0e86fd-70ce-4a06-c8e0-b8d9ff9fc2ed",
        "colab": {
          "base_uri": "https://localhost:8080/",
          "height": 85
        }
      },
      "source": [
        "predicted"
      ],
      "execution_count": 174,
      "outputs": [
        {
          "output_type": "execute_result",
          "data": {
            "text/plain": [
              "{'E': {'actual': {'E': 26228, 'I': 22878}},\n",
              " 'I': {'actual': {'E': 2649, 'I': 3158}},\n",
              " 'N': {'actual': {'N': 6789, 'S': 5564}},\n",
              " 'S': {'actual': {'N': 20708, 'S': 21852}}}"
            ]
          },
          "metadata": {
            "tags": []
          },
          "execution_count": 174
        }
      ]
    },
    {
      "cell_type": "code",
      "metadata": {
        "colab_type": "code",
        "id": "tQJQoGQavLgv",
        "colab": {}
      },
      "source": [
        "accuracy = (predicted['N']['actual']['N'] + predicted['S']['actual']['S']) / len(y_predicted)"
      ],
      "execution_count": 0,
      "outputs": []
    },
    {
      "cell_type": "code",
      "metadata": {
        "colab_type": "code",
        "id": "LbegGjPNvXJO",
        "outputId": "3fdce2b7-d46e-4416-840a-b019e8413541",
        "colab": {
          "base_uri": "https://localhost:8080/",
          "height": 34
        }
      },
      "source": [
        "accuracy"
      ],
      "execution_count": 176,
      "outputs": [
        {
          "output_type": "execute_result",
          "data": {
            "text/plain": [
              "0.5215704842204942"
            ]
          },
          "metadata": {
            "tags": []
          },
          "execution_count": 176
        }
      ]
    },
    {
      "cell_type": "markdown",
      "metadata": {
        "colab_type": "text",
        "id": "vqKVIk9uHPZA"
      },
      "source": [
        "<span style=\"font-size:1.1em\">**T/F** boyutu tahmin edilir.</span>"
      ]
    },
    {
      "cell_type": "code",
      "metadata": {
        "colab_type": "code",
        "id": "qKVLLnYJwOHR",
        "colab": {}
      },
      "source": [
        "X_train, X_test, y_train, y_test = train_test_split(equal_entries_df['entry'], equal_entries_df['T/F'], random_state = 42, shuffle = True)  ##  J\n",
        "\n",
        "X_train_tfidf = tfidf_vectorizer.transform(X_train)\n",
        "X_test_tfidf = tfidf_vectorizer.transform(X_test)\n",
        "\n",
        "SVM = svm.SVC(C=1.0, kernel='linear', degree=3, gamma='auto')\n",
        "SVM.fit(X_train_tfidf,y_train)\n",
        "\n",
        "y_actual = y_test.values\n",
        "\n",
        "y_predicted = SVM.predict(X_test_tfidf)"
      ],
      "execution_count": 0,
      "outputs": []
    },
    {
      "cell_type": "code",
      "metadata": {
        "colab_type": "code",
        "id": "839RnfNfwT77",
        "outputId": "8139f480-3eb5-436a-b399-a1981402dfbe",
        "colab": {
          "base_uri": "https://localhost:8080/",
          "height": 119
        }
      },
      "source": [
        "predicted['T'] = {'actual': {'T': 0, 'F': 0}}\n",
        "predicted['F'] = {'actual': {'T': 0, 'F': 0}}\n",
        "\n",
        "predicted"
      ],
      "execution_count": 178,
      "outputs": [
        {
          "output_type": "execute_result",
          "data": {
            "text/plain": [
              "{'E': {'actual': {'E': 26228, 'I': 22878}},\n",
              " 'F': {'actual': {'F': 0, 'T': 0}},\n",
              " 'I': {'actual': {'E': 2649, 'I': 3158}},\n",
              " 'N': {'actual': {'N': 6789, 'S': 5564}},\n",
              " 'S': {'actual': {'N': 20708, 'S': 21852}},\n",
              " 'T': {'actual': {'F': 0, 'T': 0}}}"
            ]
          },
          "metadata": {
            "tags": []
          },
          "execution_count": 178
        }
      ]
    },
    {
      "cell_type": "code",
      "metadata": {
        "colab_type": "code",
        "id": "sd9lUb13wbdK",
        "colab": {}
      },
      "source": [
        "for i in range(len(y_predicted)):\n",
        "  predicted[y_predicted[i]]['actual'][y_actual[i]] += 1"
      ],
      "execution_count": 0,
      "outputs": []
    },
    {
      "cell_type": "code",
      "metadata": {
        "colab_type": "code",
        "id": "Js9--v33ws5A",
        "outputId": "8c01dd30-8712-44c4-dc09-476e0e3dc823",
        "colab": {
          "base_uri": "https://localhost:8080/",
          "height": 119
        }
      },
      "source": [
        "predicted"
      ],
      "execution_count": 180,
      "outputs": [
        {
          "output_type": "execute_result",
          "data": {
            "text/plain": [
              "{'E': {'actual': {'E': 26228, 'I': 22878}},\n",
              " 'F': {'actual': {'F': 3328, 'T': 2348}},\n",
              " 'I': {'actual': {'E': 2649, 'I': 3158}},\n",
              " 'N': {'actual': {'N': 6789, 'S': 5564}},\n",
              " 'S': {'actual': {'N': 20708, 'S': 21852}},\n",
              " 'T': {'actual': {'F': 23266, 'T': 25971}}}"
            ]
          },
          "metadata": {
            "tags": []
          },
          "execution_count": 180
        }
      ]
    },
    {
      "cell_type": "code",
      "metadata": {
        "colab_type": "code",
        "id": "i2ycKt6ZwuOC",
        "colab": {}
      },
      "source": [
        "accuracy = (predicted['F']['actual']['F'] + predicted['T']['actual']['T']) / len(y_predicted)"
      ],
      "execution_count": 0,
      "outputs": []
    },
    {
      "cell_type": "code",
      "metadata": {
        "colab_type": "code",
        "id": "5WkLA4z8x12q",
        "outputId": "d762246e-e335-425e-a875-86a3f361dc2a",
        "colab": {
          "base_uri": "https://localhost:8080/",
          "height": 34
        }
      },
      "source": [
        "accuracy"
      ],
      "execution_count": 182,
      "outputs": [
        {
          "output_type": "execute_result",
          "data": {
            "text/plain": [
              "0.5335530748638756"
            ]
          },
          "metadata": {
            "tags": []
          },
          "execution_count": 182
        }
      ]
    },
    {
      "cell_type": "markdown",
      "metadata": {
        "colab_type": "text",
        "id": "APORaOlVHPZh"
      },
      "source": [
        "<span style=\"font-size:1.1em\">**J/P** boyutu tahmin edilir.</span>"
      ]
    },
    {
      "cell_type": "code",
      "metadata": {
        "colab_type": "code",
        "id": "UuEb2k8Qx41D",
        "colab": {}
      },
      "source": [
        "X_train, X_test, y_train, y_test = train_test_split(equal_entries_df['entry'], equal_entries_df['J/P'], random_state = 42, shuffle = True) \n",
        "\n",
        "X_train_tfidf = tfidf_vectorizer.transform(X_train)\n",
        "X_test_tfidf = tfidf_vectorizer.transform(X_test)\n",
        "\n",
        "SVM = svm.SVC(C=1.0, kernel='linear', degree=3, gamma='auto')\n",
        "SVM.fit(X_train_tfidf,y_train)\n",
        "\n",
        "y_actual = y_test.values\n",
        "\n",
        "y_predicted = SVM.predict(X_test_tfidf)"
      ],
      "execution_count": 0,
      "outputs": []
    },
    {
      "cell_type": "code",
      "metadata": {
        "colab_type": "code",
        "id": "Dw-8uFkbx9m7",
        "colab": {}
      },
      "source": [
        "predicted['J'] = {'actual': {'J': 0, 'P': 0}}\n",
        "predicted['P'] = {'actual': {'J': 0, 'P': 0}}\n",
        "\n",
        "predicted"
      ],
      "execution_count": 0,
      "outputs": []
    },
    {
      "cell_type": "code",
      "metadata": {
        "colab_type": "code",
        "id": "dYu5m1TRyGNB",
        "colab": {}
      },
      "source": [
        "for i in range(len(y_predicted)):\n",
        "  predicted[y_predicted[i]]['actual'][y_actual[i]] += 1"
      ],
      "execution_count": 0,
      "outputs": []
    },
    {
      "cell_type": "code",
      "metadata": {
        "colab_type": "code",
        "id": "PHsAWw-6yOdi",
        "colab": {}
      },
      "source": [
        "predicted"
      ],
      "execution_count": 0,
      "outputs": []
    },
    {
      "cell_type": "code",
      "metadata": {
        "colab_type": "code",
        "id": "LHYecNUuyQGL",
        "colab": {}
      },
      "source": [
        "accuracy = (predicted['P']['actual']['P'] + predicted['J']['actual']['J']) / len(y_predicted)"
      ],
      "execution_count": 0,
      "outputs": []
    },
    {
      "cell_type": "code",
      "metadata": {
        "colab_type": "code",
        "id": "jtNZq3mTyW6r",
        "colab": {}
      },
      "source": [
        "accuracy"
      ],
      "execution_count": 0,
      "outputs": []
    },
    {
      "cell_type": "code",
      "metadata": {
        "colab_type": "code",
        "id": "MQuyqSw-yjse",
        "colab": {}
      },
      "source": [
        "prediction_results['predicted'].update(predicted) \n",
        "\n",
        "prediction_results"
      ],
      "execution_count": 0,
      "outputs": []
    },
    {
      "cell_type": "code",
      "metadata": {
        "id": "eXaEJD8KrsDB",
        "colab_type": "code",
        "colab": {}
      },
      "source": [
        ""
      ],
      "execution_count": 0,
      "outputs": []
    }
  ]
}