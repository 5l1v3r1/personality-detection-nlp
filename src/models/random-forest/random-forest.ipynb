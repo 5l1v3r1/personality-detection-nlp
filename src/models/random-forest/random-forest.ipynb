{
 "cells": [
  {
   "cell_type": "markdown",
   "metadata": {
    "colab_type": "text",
    "id": "0jNfS3mXsc2O"
   },
   "source": [
    "<span style=\"font-size:1.1em;\">Colab'a Google drive'ı entegre ediyoruz. Kullanılacak olan veriseti Google Drive'da bulunmaktadır</span>"
   ]
  },
  {
   "cell_type": "code",
   "execution_count": null,
   "metadata": {
    "colab": {
     "base_uri": "https://localhost:8080/",
     "height": 35
    },
    "colab_type": "code",
    "id": "d_zKJmJWQG19",
    "outputId": "b9488fed-9dce-4fd6-be5e-a0d6c10510c2"
   },
   "outputs": [],
   "source": [
    "from google.colab import drive\n",
    "drive.mount('/content/gdrive')"
   ]
  },
  {
   "cell_type": "code",
   "execution_count": null,
   "metadata": {
    "colab": {},
    "colab_type": "code",
    "id": "CA6I9IrzVr2v"
   },
   "outputs": [],
   "source": [
    "import pandas as pd "
   ]
  },
  {
   "cell_type": "markdown",
   "metadata": {
    "colab_type": "text",
    "id": "97IoTlPeHPVf"
   },
   "source": [
    "<span style=\"font-size:1.1em;\">Google Drive'ımızın root pathi</span> ```gdrive/My Drive``` <span style=\"font-size:1.1em;\">oluyor. Proje için gerekli verisetini **mbti** adında bir klasör oluşturup içerisine yüklüyoruz. İlgili verisetinin pathi</span> ```gdrive/My Drive/mbti/all_users.csv``` <span style=\"font-size:1.1em;\">oluyor.</span>"
   ]
  },
  {
   "cell_type": "code",
   "execution_count": null,
   "metadata": {
    "colab": {},
    "colab_type": "code",
    "id": "P4qtF-14sc2S"
   },
   "outputs": [],
   "source": [
    "df = pd.read_csv(\"gdrive/My Drive/mbti/all_users_v2.csv\", sep = ';', header = 0) "
   ]
  },
  {
   "cell_type": "code",
   "execution_count": null,
   "metadata": {
    "colab": {
     "base_uri": "https://localhost:8080/",
     "height": 419
    },
    "colab_type": "code",
    "id": "vtN4QiN4sc2Y",
    "outputId": "10f89b43-48bc-46cc-d878-481829779c22"
   },
   "outputs": [],
   "source": [
    "df"
   ]
  },
  {
   "cell_type": "code",
   "execution_count": null,
   "metadata": {
    "colab": {},
    "colab_type": "code",
    "id": "vkuqae_1sc2g",
    "scrolled": true
   },
   "outputs": [],
   "source": [
    "import matplotlib.pyplot as plt"
   ]
  },
  {
   "cell_type": "markdown",
   "metadata": {
    "colab_type": "text",
    "id": "WgKPqLP6sc2f"
   },
   "source": [
    "<span style=\"font-size:1.1em;\">Verisetinin **class** tiplerine göre dağılım</span>"
   ]
  },
  {
   "cell_type": "code",
   "execution_count": null,
   "metadata": {
    "colab": {
     "base_uri": "https://localhost:8080/",
     "height": 428
    },
    "colab_type": "code",
    "id": "O5zNSY97RgFT",
    "outputId": "9344eaf2-b17f-42e5-8777-c1c152e05762"
   },
   "outputs": [],
   "source": [
    "fig = plt.figure(figsize=(8,6))\n",
    "\n",
    "df.groupby('typeClass').type.count().plot.bar(ylim=0)\n",
    "plt.savefig('dataset_distribution_typeClass.png')\n",
    "plt.show()"
   ]
  },
  {
   "cell_type": "markdown",
   "metadata": {
    "colab_type": "text",
    "id": "yxKqqcIOHPV6"
   },
   "source": [
    "<span style=\"font-size:1.1em;\">Verisetindeki **I/E** dağılımını göstermektedir. I olanlar x ekseninde 0 olarak E olanlar ise 1 olarak gösterilmektedir</span>"
   ]
  },
  {
   "cell_type": "code",
   "execution_count": null,
   "metadata": {
    "colab": {
     "base_uri": "https://localhost:8080/",
     "height": 384
    },
    "colab_type": "code",
    "id": "Px9BDE58HPV8",
    "outputId": "818e7613-824c-4b17-b059-2f87d299fa36"
   },
   "outputs": [],
   "source": [
    "fig = plt.figure(figsize=(8,6))\n",
    "\n",
    "df.groupby('I/E').type.count().plot.bar(ylim=0)\n",
    "plt.savefig('gdrive/My Drive/mbti/dataset_distribution_I-E.png')\n",
    "plt.show()"
   ]
  },
  {
   "cell_type": "markdown",
   "metadata": {
    "colab_type": "text",
    "id": "60eHkTmxHPWB"
   },
   "source": [
    "<span style=\"font-size:1.1em;\">Verisetindeki **S/N** dağılımını göstermektedir. N olanlar x ekseninde 0 olarak S olanlar ise 1 olarak gösterilmektedir</span>"
   ]
  },
  {
   "cell_type": "code",
   "execution_count": null,
   "metadata": {
    "colab": {
     "base_uri": "https://localhost:8080/",
     "height": 386
    },
    "colab_type": "code",
    "id": "r-n8D9GuHPWD",
    "outputId": "62719403-7d24-4115-9829-5de93a2e23b9"
   },
   "outputs": [],
   "source": [
    "fig = plt.figure(figsize=(8,6))\n",
    "\n",
    "df.groupby('S/N').type.count().plot.bar(ylim=0)\n",
    "plt.savefig('gdrive/My Drive/mbtidataset_distribution_S-N.png')\n",
    "plt.show()"
   ]
  },
  {
   "cell_type": "markdown",
   "metadata": {
    "colab_type": "text",
    "id": "YFqrkEQXHPWJ"
   },
   "source": [
    "<span style=\"font-size:1.1em;\">Verisetindeki **T/F** dağılımını göstermektedir. F olanlar x ekseninde 0 olarak T olanlar ise 1 olarak gösterilmektedir</span>"
   ]
  },
  {
   "cell_type": "code",
   "execution_count": null,
   "metadata": {
    "colab": {
     "base_uri": "https://localhost:8080/",
     "height": 384
    },
    "colab_type": "code",
    "id": "x9wbF0DjHPWL",
    "outputId": "b05150be-58a7-4abd-c739-b9593468db64"
   },
   "outputs": [],
   "source": [
    "fig = plt.figure(figsize=(8,6))\n",
    "\n",
    "df.groupby('T/F').type.count().plot.bar(ylim=0)\n",
    "plt.savefig('gdrive/My Drive/mbti/dataset_distribution_T-F.png')\n",
    "plt.show()"
   ]
  },
  {
   "cell_type": "markdown",
   "metadata": {
    "colab_type": "text",
    "id": "LLG8qi_6HPWQ"
   },
   "source": [
    "<span style=\"font-size:1.1em;\">Verisetindeki **J/P** dağılımını göstermektedir. P olanlar x ekseninde 0 olarak J olanlar ise 1 olarak gösterilmektedir</span>"
   ]
  },
  {
   "cell_type": "code",
   "execution_count": null,
   "metadata": {
    "colab": {
     "base_uri": "https://localhost:8080/",
     "height": 384
    },
    "colab_type": "code",
    "id": "PnYcABt4HPWS",
    "outputId": "3b4e361c-7f0a-49f5-c6b9-6a259ee7e5dd"
   },
   "outputs": [],
   "source": [
    "fig = plt.figure(figsize=(8,6))\n",
    "\n",
    "df.groupby('J/P').type.count().plot.bar(ylim=0)\n",
    "plt.savefig('gdrive/My Drive/mbti/dataset_distribution_J-P.png')\n",
    "plt.show()"
   ]
  },
  {
   "cell_type": "markdown",
   "metadata": {
    "colab_type": "text",
    "id": "RgbvMDgWKkm9"
   },
   "source": [
    "Aşağıda ise verisetinin 16 farklı MBTI kişilik tiplerine göre dağılımı gösterilmektedir."
   ]
  },
  {
   "cell_type": "code",
   "execution_count": null,
   "metadata": {
    "colab": {
     "base_uri": "https://localhost:8080/",
     "height": 295
    },
    "colab_type": "code",
    "id": "wQxnOEeqKvFU",
    "outputId": "46161e79-c627-48ce-c8fa-54025a502e41"
   },
   "outputs": [],
   "source": [
    "fig = plt.figure(figsize=(8,4))\n",
    "\n",
    "df.groupby('type').type.count().plot.bar(ylim=0)\n",
    "plt.savefig('gdrive/My Drive/mbti/dataset_distribution_type.png')\n",
    "plt.show()"
   ]
  },
  {
   "cell_type": "markdown",
   "metadata": {
    "colab_type": "text",
    "id": "nXN5GZtKsc2l"
   },
   "source": [
    "Stop words, drive'da /mbti altındaki stop_words_tr.txt okunarak alınır\n",
    "\n",
    "---\n",
    "\n"
   ]
  },
  {
   "cell_type": "code",
   "execution_count": null,
   "metadata": {
    "colab": {},
    "colab_type": "code",
    "id": "5Z6KPqWNRmqO"
   },
   "outputs": [],
   "source": [
    "file = open(\"gdrive/My Drive/mbti/stop_words_tr.txt\")\n",
    "stop_word_list = file.read().split('\\n')\n",
    "file.close()"
   ]
  },
  {
   "cell_type": "code",
   "execution_count": null,
   "metadata": {
    "colab": {
     "base_uri": "https://localhost:8080/",
     "height": 1000
    },
    "colab_type": "code",
    "id": "PKBOZNvCsc2r",
    "outputId": "faa00611-28f2-4c90-9d71-96b5ca1c8a60"
   },
   "outputs": [],
   "source": [
    "stop_word_list"
   ]
  },
  {
   "cell_type": "markdown",
   "metadata": {
    "colab_type": "text",
    "id": "4LDZVG50-F3O"
   },
   "source": [
    "# Pre-Processing\n",
    "\n",
    "Entrylere ön işleme adımları uygulanır. Bu adımlar:\n",
    "\n",
    "\n",
    "1.   Bütün harflerin küçük harf haline getirilmesi\n",
    "\n",
    "2.   '**bkz**', '**--- spoiler ---**', '**spoiler**', '**#12341324**' (gibi böyle rakamların devam ettiği) entrylerin verisetinden çıkarılması gerekmektedir.\n",
    "\n",
    "3. Entrylerden stop words'ler silinmelidir.\n",
    "\n",
    "4. Web sitelerinin temizlenmesi\n",
    "\n",
    "5. Noktalama işaretlerinin temizlenmesi\n",
    "\n",
    "6. Rakamların temizlenmesi\n",
    "\n",
    "7. Stemming kullanılması\n",
    "\n",
    "Temizlenme işlemlerinde empty string yerine space (' ') ile replace edilerek yapılmalıdır. Arından da fazla boşluklar vs trim edilmelidir.\n",
    "\n",
    "```[+-]?([0-9]*)([.][0-9])?``` regex olarak kullanılacak hem rakamların silinmesinde hem de ondaklı sayıların silinmesinde --> buna gerek kalmadı\n"
   ]
  },
  {
   "cell_type": "markdown",
   "metadata": {
    "colab_type": "text",
    "id": "XklzLH_pJl5s"
   },
   "source": [
    "Entrylerdeki harfler küçük harf haline getirilir"
   ]
  },
  {
   "cell_type": "code",
   "execution_count": null,
   "metadata": {
    "colab": {},
    "colab_type": "code",
    "id": "LVH3wd0AJqtG"
   },
   "outputs": [],
   "source": [
    "df['entry'] = df['entry'].str.lower()"
   ]
  },
  {
   "cell_type": "markdown",
   "metadata": {
    "colab_type": "text",
    "id": "DdaLFbvbCm8r"
   },
   "source": [
    "Dataframe içerisindeki bütün entrylere '**bkz**', '**spoiler**', '**#**' içerip içermediğine bakar ve bunun sonucu index numarasıyla birlikte döner. ```15 True``` gibi bu demek oluyor ki 15 numaralı index bizim yazmış olduğumuz koşulu sağlamaktadır."
   ]
  },
  {
   "cell_type": "code",
   "execution_count": null,
   "metadata": {
    "colab": {},
    "colab_type": "code",
    "id": "4i_BlXDr-BbQ"
   },
   "outputs": [],
   "source": [
    "indexes_contains_unwanted_words = df['entry'].str.contains('|'.join(['bkz', 'spoiler', r'#\\d*']))"
   ]
  },
  {
   "cell_type": "markdown",
   "metadata": {
    "colab_type": "text",
    "id": "boufiWfHDrIu"
   },
   "source": [
    "Dataframe'den ilgili entryler çıkartılır"
   ]
  },
  {
   "cell_type": "code",
   "execution_count": null,
   "metadata": {
    "colab": {
     "base_uri": "https://localhost:8080/",
     "height": 35
    },
    "colab_type": "code",
    "id": "NEJVm7ALDuo2",
    "outputId": "8265dda9-4c52-4e21-c1f3-2996f335851e"
   },
   "outputs": [],
   "source": [
    "df = df[~indexes_contains_unwanted_words]\n",
    "df.shape[0]"
   ]
  },
  {
   "cell_type": "markdown",
   "metadata": {
    "colab_type": "text",
    "id": "Y0-z8E6OIFNh"
   },
   "source": [
    "Entrylerden stop words silinir.   --> Bu kısım gerekmeyebilir\n"
   ]
  },
  {
   "cell_type": "code",
   "execution_count": null,
   "metadata": {
    "colab": {
     "base_uri": "https://localhost:8080/",
     "height": 358
    },
    "colab_type": "code",
    "id": "sxy9T9seILBC",
    "outputId": "a4912768-609f-4d18-e5f5-17517c02ffe9"
   },
   "outputs": [],
   "source": [
    "df['entry'] = df['entry'].str.replace('|'.join(stop_word_list), ' ')"
   ]
  },
  {
   "cell_type": "markdown",
   "metadata": {
    "colab_type": "text",
    "id": "qwCxlQsEThSX"
   },
   "source": [
    "Entrylerden web site linkleri silinir."
   ]
  },
  {
   "cell_type": "code",
   "execution_count": null,
   "metadata": {
    "colab": {
     "base_uri": "https://localhost:8080/",
     "height": 233
    },
    "colab_type": "code",
    "id": "VcB2KrMaRqtj",
    "outputId": "5a856b55-b25d-4358-9a17-e00c20882f0f"
   },
   "outputs": [],
   "source": [
    "df['entry'] = df['entry'].str.replace(r'http\\S+', ' ', regex=True)\n",
    "df['entry'] = df['entry'].str.replace(r'www\\S+', '', regex=True)"
   ]
  },
  {
   "cell_type": "markdown",
   "metadata": {
    "colab_type": "text",
    "id": "oXNRgz87vGLZ"
   },
   "source": [
    "Entrylerden noktalama işaretleri temizlenir."
   ]
  },
  {
   "cell_type": "code",
   "execution_count": null,
   "metadata": {
    "colab": {
     "base_uri": "https://localhost:8080/",
     "height": 125
    },
    "colab_type": "code",
    "id": "Wakq_66kvGLa",
    "outputId": "b71f46a1-0fef-422c-b819-96b3e2bf70e3"
   },
   "outputs": [],
   "source": [
    "import string\n",
    "\n",
    "df['entry'] = df['entry'].apply(lambda x: x.translate(str.maketrans(string.punctuation, ' '*len(string.punctuation))))"
   ]
  },
  {
   "cell_type": "markdown",
   "metadata": {
    "colab_type": "text",
    "id": "5PNW6PAPvGLd"
   },
   "source": [
    "Entrylerden rakamlar silinir."
   ]
  },
  {
   "cell_type": "code",
   "execution_count": null,
   "metadata": {
    "colab": {
     "base_uri": "https://localhost:8080/",
     "height": 125
    },
    "colab_type": "code",
    "id": "CnYY6GrTvGLe",
    "outputId": "e3b5197b-917d-4240-aa92-3d7e85ed0745"
   },
   "outputs": [],
   "source": [
    "df['entry'] = df['entry'].str.replace('\\d+', ' ')"
   ]
  },
  {
   "cell_type": "markdown",
   "metadata": {
    "colab_type": "text",
    "id": "5VFg9aCPvGLg"
   },
   "source": [
    "Verisetinin stemmera sokmadan önceki ön işlemeden geçirilmiş hali kaydedilir. Buradaki amaç stemmerdan geçirilmiş ve geçirilmemiş halinin başarı açısından karşılaştırılmasının yapılabilmesi."
   ]
  },
  {
   "cell_type": "code",
   "execution_count": null,
   "metadata": {
    "colab": {},
    "colab_type": "code",
    "id": "K4XI0xMXvGLh"
   },
   "outputs": [],
   "source": [
    "df.to_csv(\"gdrive/My Drive/mbti/preprocessed_dataset_v1.csv\", sep=';', encoding='utf-8')"
   ]
  },
  {
   "cell_type": "markdown",
   "metadata": {
    "colab_type": "text",
    "id": "jgh0Kw3kvGLk"
   },
   "source": [
    "SnowballStemmer içerisinde Türkçe dili için kullanabileceğimiz TurkishStemmer import edilir. Stemmer ile kelimelerin köklerine ulaşılır. Lemmatization işlemiyle kök bulunduğu zaman elde edilen kökler biçimsel açıdan da doğru olurken (yani mantıksal açıdan da) stemmer ile elde edilen köklerde böyle bir durum söz konusu değildir. Dolayısıyla stemming edilmis hallerine bakıldıgında mantıksal açıdan düzgün sonuclar vermeyebilir."
   ]
  },
  {
   "cell_type": "markdown",
   "metadata": {
    "colab_type": "text",
    "id": "lvdQBvV0vGLl"
   },
   "source": [
    "Google Colab'a snowballstemmer ile ilgil package'i indirmek için aşağıdaki komutu çalıştırıyoruz."
   ]
  },
  {
   "cell_type": "code",
   "execution_count": null,
   "metadata": {
    "colab": {},
    "colab_type": "code",
    "id": "Xy79H4kIvGLm",
    "outputId": "219dbe1e-f366-4662-ce54-607a957f6c1e"
   },
   "outputs": [],
   "source": [
    "!pip install snowballstemmer"
   ]
  },
  {
   "cell_type": "code",
   "execution_count": null,
   "metadata": {
    "colab": {},
    "colab_type": "code",
    "id": "IQG9fteQvGLp"
   },
   "outputs": [],
   "source": [
    "from snowballstemmer import TurkishStemmer"
   ]
  },
  {
   "cell_type": "code",
   "execution_count": null,
   "metadata": {
    "colab": {},
    "colab_type": "code",
    "id": "m8RVEUD6vGLr",
    "outputId": "19847b81-b866-475f-936c-8581da44e6fc"
   },
   "outputs": [],
   "source": [
    "stemmer = TurkishStemmer()\n",
    "\n",
    "row_count = df.shape[0]\n",
    "kökler = stemmer.stemWords(entry.split(\" \"))\n",
    "\n",
    "for i in range(row_count):\n",
    "    entry = df['entry'][i]\n",
    "    entry_kokler = stemmer.stemWords(entry.split(\" \"))\n",
    "    df['entry'][i] = \" \".join(entry_kokler)\n",
    "    \n",
    "df['entry']"
   ]
  },
  {
   "cell_type": "markdown",
   "metadata": {
    "colab_type": "text",
    "id": "-XigObU8vGLt"
   },
   "source": [
    "Stemmera sokulmuş hali kaydedilir."
   ]
  },
  {
   "cell_type": "code",
   "execution_count": null,
   "metadata": {
    "colab": {},
    "colab_type": "code",
    "id": "IP3Iam_kvGLv"
   },
   "outputs": [],
   "source": [
    "df.to_csv(\"gdrive/My Drive/mbti/preprocessed_dataset_v2.csv\", sep=';', encoding='utf-8')"
   ]
  },
  {
   "cell_type": "markdown",
   "metadata": {
    "colab_type": "text",
    "id": "dZzvU-o2sc2w"
   },
   "source": [
    "TF-IDF özellik vektörünün çıkartılmasında kullanılacak değişken aşağıda belirlenmiş olan parametrelerle oluşturulur."
   ]
  },
  {
   "cell_type": "code",
   "execution_count": null,
   "metadata": {
    "colab": {},
    "colab_type": "code",
    "id": "CbggMvzcY5ER"
   },
   "outputs": [],
   "source": [
    "from sklearn.feature_extraction.text import TfidfVectorizer"
   ]
  },
  {
   "cell_type": "code",
   "execution_count": null,
   "metadata": {
    "colab": {},
    "colab_type": "code",
    "id": "wzSU9aILsc2x"
   },
   "outputs": [],
   "source": [
    "tfidf_vectorizer = TfidfVectorizer(sublinear_tf=True, norm='l2', encoding='utf-8', ngram_range=(1, 2), stop_words = stop_word_list, max_features=5000, analyzer = 'word', token_pattern=r'\\w{1,}')"
   ]
  },
  {
   "cell_type": "markdown",
   "metadata": {
    "colab_type": "text",
    "id": "eX6FeaibfZvZ"
   },
   "source": [
    "**Feature Extraction** \n",
    "\n",
    "Burada tf-idf vektörlerinin çıkartılmasında kullanılacak olan vocabulary oluşturulur."
   ]
  },
  {
   "cell_type": "code",
   "execution_count": null,
   "metadata": {
    "colab": {
     "base_uri": "https://localhost:8080/",
     "height": 307
    },
    "colab_type": "code",
    "id": "izEeSWJIfZYQ",
    "outputId": "6cca522c-423a-4fbc-f821-b97df07415c1"
   },
   "outputs": [],
   "source": [
    "tfidf_vectorizer.fit(df['entry'])"
   ]
  },
  {
   "cell_type": "markdown",
   "metadata": {
    "colab_type": "text",
    "id": "JRTpmz32fOtg"
   },
   "source": [
    "Veriseti train ve test olmak üzere ikiye ayrılır. Test %20 ve train %80'ini oluşturacak şekilde tüm veriseti bölünür. random_state parametresi ile tekrardan bölündüğünde bir öncekiyle aynı train ve test veri setlerinin oluşturulması sağlanır."
   ]
  },
  {
   "cell_type": "code",
   "execution_count": null,
   "metadata": {
    "colab": {},
    "colab_type": "code",
    "id": "CbObRS01fIzb"
   },
   "outputs": [],
   "source": [
    "from sklearn.model_selection import train_test_split"
   ]
  },
  {
   "cell_type": "code",
   "execution_count": null,
   "metadata": {
    "colab": {},
    "colab_type": "code",
    "id": "k1skQ7bRfLyQ"
   },
   "outputs": [],
   "source": [
    "X_train, X_test, y_train, y_test = train_test_split(df['entry'], df['typeClass'], random_state = 42, test_size = 0.20)"
   ]
  },
  {
   "cell_type": "markdown",
   "metadata": {
    "colab_type": "text",
    "id": "dUjGVe2ufm9D"
   },
   "source": [
    "Train ve test datasetlerinden tf-idf vektörleri çıkartılır\n"
   ]
  },
  {
   "cell_type": "code",
   "execution_count": null,
   "metadata": {
    "colab": {},
    "colab_type": "code",
    "id": "5WWZ5iZzfmm1"
   },
   "outputs": [],
   "source": [
    "X_train_tfidf = tfidf_vectorizer.transform(X_train)\n",
    "X_test_tfidf = tfidf_vectorizer.transform(X_test)"
   ]
  },
  {
   "cell_type": "code",
   "execution_count": null,
   "metadata": {},
   "outputs": [],
   "source": []
  }
 ],
 "metadata": {
  "kernelspec": {
   "display_name": "Python 3",
   "language": "python",
   "name": "python3"
  },
  "language_info": {
   "codemirror_mode": {
    "name": "ipython",
    "version": 3
   },
   "file_extension": ".py",
   "mimetype": "text/x-python",
   "name": "python",
   "nbconvert_exporter": "python",
   "pygments_lexer": "ipython3",
   "version": "3.7.5"
  }
 },
 "nbformat": 4,
 "nbformat_minor": 2
}
