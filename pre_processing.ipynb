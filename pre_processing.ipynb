{
 "cells": [
  {
   "cell_type": "code",
   "execution_count": null,
   "metadata": {},
   "outputs": [],
   "source": [
    "###### Required libraries ######\n",
    "import pandas as pd\n",
    "import re\n",
    "import string\n",
    "import nltk\n",
    "from nltk.corpus import stopwords"
   ]
  },
  {
   "cell_type": "code",
   "execution_count": null,
   "metadata": {},
   "outputs": [],
   "source": [
    "###### Read data from the file ######\n",
    "pd.options.display.max_colwidth = 800\n",
    "path = \"/home/clausewitz/Downloads/all_users.csv\"\n",
    "df = pd.read_csv(path, sep = ';')\n",
    "df = pd.DataFrame(data = df)\n",
    "df = df.loc[:, ~df.columns.str.contains('^Unnamed')]"
   ]
  },
  {
   "cell_type": "code",
   "execution_count": null,
   "metadata": {},
   "outputs": [],
   "source": [
    "###### incorrectly drawn types ######\n",
    "user = ['bencebuseferyazarim', 'nunavut','kendal','pier']\n",
    "df = df[~df['user'].str.contains('|'.join(user))]"
   ]
  },
  {
   "cell_type": "code",
   "execution_count": null,
   "metadata": {},
   "outputs": [],
   "source": [
    "###### Raw data stats ######          \n",
    "df_raw_explorers = df.loc[df['type'] == \"explorers\"] \n",
    "df_raw_analysts = df.loc[df['type'] == \"analysts\"] \n",
    "df_raw_sentinels = df.loc[df['type'] == \"sentinels\"] \n",
    "df_raw_diplomats = df.loc[df['type'] == \"diplomats\"] \n",
    "print(\"----Raw data stats----\")\n",
    "print(\"Number of users of explorers: \", df_raw_explorers.user.nunique(),\n",
    "      \"\\tNumber of entries of explorers: \",df['type'].value_counts()[3],\n",
    "      \"\\nNumber of users of analysts : \", df_raw_analysts.user.nunique(),\n",
    "      \"\\tNumber of entries of analysts : \",df['type'].value_counts()[1],\n",
    "      \"\\nNumber of users of sentinels: \", df_raw_sentinels.user.nunique(),\n",
    "      \"\\tNumber of entries of sentinels: \",df['type'].value_counts()[2],\n",
    "      \"\\nNumber of users of diplomats: \", df_raw_diplomats.user.nunique(),\n",
    "      \"\\tNumber of entries of diplomats: \",df['type'].value_counts()[0],\n",
    "      \"\\nTotal number of users       : \",df.user.nunique(),\n",
    "      \"\\tTotal number of entries       : \",df.shape[0])\n",
    "df['RawDataTotalWords'] = [len(x.split()) for x in df['entry'].tolist()]\n",
    "print(\"Total number of words       : \", df['RawDataTotalWords'].sum())"
   ]
  },
  {
   "cell_type": "code",
   "execution_count": null,
   "metadata": {},
   "outputs": [],
   "source": [
    "###### Data preprocessing ######\n",
    "df.entry = df.entry.apply(lambda x: x.lower())\n",
    "\n",
    "df.entry = df.entry.apply(lambda x: x.translate(str.maketrans('','','1234567890')))\n",
    "\n",
    "#df.entry = df.entry.replace('\\.' , ' ', regex=True).replace(',' , ' ', regex=True)\n",
    "\n",
    "df.entry = df.entry.apply(lambda x: x.translate(str.maketrans('','',string.punctuation)))\n",
    "\n",
    "df.entry = df.entry.replace(r'http\\S+', '', regex=True).replace(r'www\\S+', '', regex=True)\n",
    "\n",
    "searchfor = ['bkz','w','x','--- spoiler ---','#','£','€','have','love','trek','slam','grand']\n",
    "df = df[~df.entry.str.contains('|'.join(searchfor))]\n",
    "\n",
    "stop = stopwords.words('turkish')\n",
    "df.entry = df.entry.apply(lambda x: ' '.join([word for word in x.split() if word not in (stop)]))\n",
    "                                           "
   ]
  },
  {
   "cell_type": "code",
   "execution_count": null,
   "metadata": {},
   "outputs": [],
   "source": [
    "###### Post-processing stats ######\n",
    "df_preprocessed_explorers = df.loc[df['type'] == \"explorers\"] \n",
    "df_preprocessed_analysts = df.loc[df['type'] == \"analysts\"] \n",
    "df_preprocessed_sentinels = df.loc[df['type'] == \"sentinels\"] \n",
    "df_preprocessed_diplomats = df.loc[df['type'] == \"diplomats\"] \n",
    "print(\"\\n----Post-processing stats----\")\n",
    "print(\"Number of users of explorers: \", df_preprocessed_explorers.user.nunique(),\n",
    "      \"\\tNumber of entries of explorers: \",df['type'].value_counts()[3],\n",
    "      \"\\nNumber of users of analysts : \", df_preprocessed_analysts.user.nunique(),\n",
    "      \"\\tNumber of entries of analysts : \",df['type'].value_counts()[1],\n",
    "      \"\\nNumber of users of sentinels: \", df_preprocessed_sentinels.user.nunique(),\n",
    "      \"\\tNumber of entries of sentinels: \",df['type'].value_counts()[2],\n",
    "      \"\\nNumber of users of diplomats: \", df_preprocessed_diplomats.user.nunique(),\n",
    "      \"\\tNumber of entries of diplomats: \",df['type'].value_counts()[0],\n",
    "      \"\\nTotal number of users       : \",df.user.nunique(),\n",
    "      \"\\tTotal number of entries       : \",df.shape[0])\n",
    "df['preprocessedDataTotalWords'] = [len(x.split()) for x in df['entry'].tolist()]\n",
    "print(\"Total number of words       : \", df['preprocessedDataTotalWords'].sum())"
   ]
  },
  {
   "cell_type": "code",
   "execution_count": null,
   "metadata": {},
   "outputs": [],
   "source": [
    "###### Filtered data between 10 to 150 words per entry ######\n",
    "df_explorers = df.loc[(df['type'] == \"explorers\") &\n",
    "                      (10 < df['preprocessedDataTotalWords']) &\n",
    "                      (df['preprocessedDataTotalWords'] < 150)]\n",
    "df_analysts = df.loc[(df['type'] == \"analysts\") &\n",
    "                     (10 < df['preprocessedDataTotalWords']) &\n",
    "                     (df['preprocessedDataTotalWords'] < 150)]\n",
    "df_sentinels = df.loc[(df['type'] == \"sentinels\") &\n",
    "                      (10 < df['preprocessedDataTotalWords']) &\n",
    "                      (df['preprocessedDataTotalWords'] < 150)]\n",
    "df_diplomats = df.loc[(df['type'] == \"diplomats\") &\n",
    "                      (10 < df['preprocessedDataTotalWords']) &\n",
    "                      (df['preprocessedDataTotalWords'] < 150)]\n",
    "pdList_filtered = [df_explorers, df_analysts, df_sentinels , df_diplomats] \n",
    "df_filtered = pd.concat(pdList_filtered)\n",
    "print(\"\\n----Filtered data between 10 to 150 words per entry----\")\n",
    "print(\"Number of users of explorers  : \", df_explorers.user.nunique(),\n",
    "      \"\\tNumber of entries of explorers: \", df_explorers.shape[0],\n",
    "      \"\\nNumber of users of analysts   : \", df_analysts.user.nunique(),\n",
    "      \"\\tNumber of entries of analysts : \", df_analysts.shape[0],\n",
    "      \"\\nNumber of users of sentinels  : \", df_sentinels.user.nunique(),\n",
    "      \"\\tNumber of entries of sentinels: \", df_sentinels.shape[0],\n",
    "      \"\\nNumber of users of diplomats  : \", df_diplomats.user.nunique(),\n",
    "      \"\\tNumber of entries of diplomats: \", df_diplomats.shape[0],\n",
    "      \"\\nTotal number of users         : \",df.user.nunique(),\n",
    "      \"\\tTotal number of entries       : \",(df_explorers.shape[0]+df_analysts.shape[0]+\n",
    "                                            df_sentinels.shape[0]+df_diplomats.shape[0]))\n",
    "df_filtered['filteredDataTotalWords'] = [len(x.split()) for x in df_filtered['entry'].tolist()]\n",
    "print(\"Total number of words         : \", df_filtered['filteredDataTotalWords'].sum())"
   ]
  },
  {
   "cell_type": "code",
   "execution_count": null,
   "metadata": {},
   "outputs": [],
   "source": [
    "###### Equal entries for each class ###### \n",
    "###### EE => Equal Entry ###### \n",
    "df_explorers_EE = df_explorers.head(df_preprocessed_explorers.shape[0])   \n",
    "df_analysts_EE = df_analysts.head(df_preprocessed_explorers.shape[0])             \n",
    "df_sentinels_EE = df_sentinels.head(df_preprocessed_explorers.shape[0])           \n",
    "df_diplomats_EE = df_diplomats.head(df_preprocessed_explorers.shape[0])\n",
    "pdList_equalEntry = [df_explorers_EE, df_analysts_EE, df_diplomats_EE , df_diplomats_EE] \n",
    "df_equalEntry = pd.concat(pdList_equalEntry)\n",
    "print(\"\\n----Equal entries for each class----\")\n",
    "print(\"Number of users of explorers  : \", df_explorers_EE.user.nunique(),\n",
    "      \"\\tNumber of entries of explorers: \", df_explorers.shape[0],\n",
    "      \"\\nNumber of users of analysts   : \", df_analysts_EE.user.nunique(),\n",
    "      \"\\tNumber of entries of analysts : \", df_explorers.shape[0],\n",
    "      \"\\nNumber of users of sentinels  : \", df_sentinels_EE.user.nunique(),\n",
    "      \"\\tNumber of entries of sentinels: \", df_explorers.shape[0],\n",
    "      \"\\nNumber of users of diplomats  : \", df_diplomats_EE.user.nunique(),\n",
    "      \"\\tNumber of entries of diplomats: \", df_explorers.shape[0],\n",
    "      \"\\nTotal number of users         : \",(df_explorers_EE.user.nunique()+df_analysts_EE.user.nunique()+\n",
    "                                           df_sentinels_EE.user.nunique()+ df_diplomats_EE.user.nunique()),\n",
    "      \"\\tTotal number of entries       : \",(df_explorers.shape[0]*4))\n",
    "df_equalEntry['equalEntryDataTotalWords'] = [len(x.split()) for x in df_equalEntry['entry'].tolist()]\n",
    "print(\"Total number of words         : \", df_equalEntry['equalEntryDataTotalWords'].sum())"
   ]
  },
  {
   "cell_type": "code",
   "execution_count": null,
   "metadata": {},
   "outputs": [],
   "source": [
    "###### Found by trying ###### \n",
    "#df_explorerss = df_explorers.head(32757)\n",
    "#df_analystss = df_analysts.head(44100)             \n",
    "#df_sentinelss = df_sentinels.head(36500)             \n",
    "#df_diplomatss = df_diplomats.head(40000)             \n",
    "#print(df_explorerss.user.nunique())\n",
    "#print(df_analystss.user.nunique())\n",
    "#print(df_sentinelss.user.nunique())\n",
    "#print(df_diplomatss.user.nunique())"
   ]
  },
  {
   "cell_type": "code",
   "execution_count": null,
   "metadata": {},
   "outputs": [],
   "source": [
    "###### Equal users for each class ###### \n",
    "###### EU => Equal User ###### #\n",
    "df_explorers_EU = df_explorers.head(32757)\n",
    "df_analysts_EU = df_analysts.head(44100)             \n",
    "df_sentinels_EU = df_sentinels.head(36500)           \n",
    "df_diplomats_EU = df_diplomats.head(40000)\n",
    "pdList_equalUser = [df_explorers_EU, df_analysts_EU, df_sentinels_EU , df_diplomats_EU] \n",
    "df_equalUser = pd.concat(pdList_equalUser)\n",
    "print(\"\\n----Equal users for each class----\")\n",
    "print(\"Number of users of explorers  : \", df_explorers.user.nunique(),\n",
    "      \"\\tNumber of entries of explorers: \", df_explorers_EU.shape[0],\n",
    "      \"\\nNumber of users of analysts   : \", df_explorers.user.nunique(), \n",
    "      \"\\tNumber of entries of analysts : \", df_analysts_EU.shape[0],\n",
    "      \"\\nNumber of users of sentinels  : \", df_explorers.user.nunique(),\n",
    "      \"\\tNumber of entries of sentinels: \", df_sentinels_EU.shape[0],\n",
    "      \"\\nNumber of users of diplomats  : \", df_explorers.user.nunique(),\n",
    "      \"\\tNumber of entries of diplomats: \", df_diplomats_EU.shape[0],\n",
    "      \"\\nTotal number of users         : \",(df_explorers.user.nunique()*4),\n",
    "      \"\\tTotal number of entries       : \",(df_explorers_EU.shape[0]+df_analysts_EU.shape[0]+\n",
    "                                           df_sentinels_EU.shape[0]+df_diplomats_EU.shape[0]))\n",
    "df_equalUser['equalEntryDataTotalWords'] = [len(x.split()) for x in df_equalUser['entry'].tolist()]\n",
    "print(\"Total number of words         : \", df_equalUser['equalEntryDataTotalWords'].sum())"
   ]
  },
  {
   "cell_type": "code",
   "execution_count": null,
   "metadata": {},
   "outputs": [],
   "source": [
    "###### Write to csv for Equal users and Equal entries for each class ###### \n",
    "pdList_EE = [df_explorers_EE, df_analysts_EE, df_sentinels_EE , df_diplomats_EE] \n",
    "pdList_EU = [df_explorers_EU, df_analysts_EU, df_sentinels_EU , df_diplomats_EU]\n",
    "df_EE = pd.concat(pdList_EE)\n",
    "df_EU = pd.concat(pdList_EU)\n",
    "df_EE.to_csv( \"equal_entries.csv\", index=False, encoding='utf-8-sig') #export to csv\n",
    "df_EU.to_csv( \"equal_users.csv\", index=False, encoding='utf-8-sig') #export to csv"
   ]
  },
  {
   "cell_type": "code",
   "execution_count": null,
   "metadata": {},
   "outputs": [],
   "source": []
  }
 ],
 "metadata": {
  "kernelspec": {
   "display_name": "Python 3",
   "language": "python",
   "name": "python3"
  },
  "language_info": {
   "codemirror_mode": {
    "name": "ipython",
    "version": 3
   },
   "file_extension": ".py",
   "mimetype": "text/x-python",
   "name": "python",
   "nbconvert_exporter": "python",
   "pygments_lexer": "ipython3",
   "version": "3.7.3"
  }
 },
 "nbformat": 4,
 "nbformat_minor": 2
}
