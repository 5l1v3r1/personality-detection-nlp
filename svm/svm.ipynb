{
 "cells": [
  {
   "cell_type": "markdown",
   "metadata": {
    "colab_type": "text",
    "id": "0jNfS3mXsc2O"
   },
   "source": [
    "<span style=\"font-size:1.1em;\">Colab'a Google drive'ı entegre ediyoruz. Kullanılacak olan veriseti Google Drive'da bulunmaktadır</span>"
   ]
  },
  {
   "cell_type": "code",
   "execution_count": null,
   "metadata": {
    "colab": {
     "base_uri": "https://localhost:8080/",
     "height": 35
    },
    "colab_type": "code",
    "id": "d_zKJmJWQG19",
    "outputId": "b9488fed-9dce-4fd6-be5e-a0d6c10510c2"
   },
   "outputs": [],
   "source": [
    "from google.colab import drive\n",
    "drive.mount('/content/gdrive')"
   ]
  },
  {
   "cell_type": "code",
   "execution_count": null,
   "metadata": {
    "colab": {},
    "colab_type": "code",
    "id": "CA6I9IrzVr2v"
   },
   "outputs": [],
   "source": [
    "import pandas as pd "
   ]
  },
  {
   "cell_type": "markdown",
   "metadata": {
    "colab_type": "text",
    "id": "97IoTlPeHPVf"
   },
   "source": [
    "<span style=\"font-size:1.1em;\">Google Drive'ımızın root pathi</span> ```gdrive/My Drive``` <span style=\"font-size:1.1em;\">oluyor. Proje için gerekli verisetini **mbti** adında bir klasör oluşturup içerisine yüklüyoruz. İlgili verisetinin pathi</span> ```gdrive/My Drive/mbti/all_users.csv``` <span style=\"font-size:1.1em;\">oluyor.</span>"
   ]
  },
  {
   "cell_type": "code",
   "execution_count": null,
   "metadata": {
    "colab": {},
    "colab_type": "code",
    "id": "P4qtF-14sc2S"
   },
   "outputs": [],
   "source": [
    "df = pd.read_csv(\"../datasets/dataset_v2/all_users_v2.csv\", sep = ';', header = 0) "
   ]
  },
  {
   "cell_type": "code",
   "execution_count": null,
   "metadata": {
    "colab": {},
    "colab_type": "code",
    "id": "vkuqae_1sc2g",
    "scrolled": true
   },
   "outputs": [],
   "source": [
    "import matplotlib.pyplot as plt"
   ]
  },
  {
   "cell_type": "markdown",
   "metadata": {
    "colab_type": "text",
    "id": "WgKPqLP6sc2f"
   },
   "source": [
    "<span style=\"font-size:1.1em;\">Verisetinin **class** tiplerine göre dağılım</span>"
   ]
  },
  {
   "cell_type": "code",
   "execution_count": null,
   "metadata": {
    "colab": {
     "base_uri": "https://localhost:8080/",
     "height": 428
    },
    "colab_type": "code",
    "id": "O5zNSY97RgFT",
    "outputId": "9344eaf2-b17f-42e5-8777-c1c152e05762"
   },
   "outputs": [],
   "source": [
    "fig = plt.figure(figsize=(8,6))\n",
    "\n",
    "df.groupby('typeClass').type.count().plot.bar(ylim=0)\n",
    "plt.savefig('dataset_distribution_typeClass.png')\n",
    "plt.show()"
   ]
  },
  {
   "cell_type": "markdown",
   "metadata": {
    "colab_type": "text",
    "id": "yxKqqcIOHPV6"
   },
   "source": [
    "<span style=\"font-size:1.1em;\">Verisetindeki **I/E** dağılımını göstermektedir. I olanlar x ekseninde 0 olarak E olanlar ise 1 olarak gösterilmektedir</span>"
   ]
  },
  {
   "cell_type": "code",
   "execution_count": null,
   "metadata": {
    "colab": {
     "base_uri": "https://localhost:8080/",
     "height": 384
    },
    "colab_type": "code",
    "id": "Px9BDE58HPV8",
    "outputId": "818e7613-824c-4b17-b059-2f87d299fa36"
   },
   "outputs": [],
   "source": [
    "fig = plt.figure(figsize=(8,6))\n",
    "\n",
    "df.groupby('I/E').type.count().plot.bar(ylim=0)\n",
    "plt.savefig('gdrive/My Drive/mbti/dataset_distribution_I-E.png')\n",
    "plt.show()"
   ]
  },
  {
   "cell_type": "markdown",
   "metadata": {
    "colab_type": "text",
    "id": "60eHkTmxHPWB"
   },
   "source": [
    "<span style=\"font-size:1.1em;\">Verisetindeki **S/N** dağılımını göstermektedir. N olanlar x ekseninde 0 olarak S olanlar ise 1 olarak gösterilmektedir</span>"
   ]
  },
  {
   "cell_type": "code",
   "execution_count": null,
   "metadata": {
    "colab": {
     "base_uri": "https://localhost:8080/",
     "height": 386
    },
    "colab_type": "code",
    "id": "r-n8D9GuHPWD",
    "outputId": "62719403-7d24-4115-9829-5de93a2e23b9"
   },
   "outputs": [],
   "source": [
    "fig = plt.figure(figsize=(8,6))\n",
    "\n",
    "df.groupby('S/N').type.count().plot.bar(ylim=0)\n",
    "plt.savefig('gdrive/My Drive/mbtidataset_distribution_S-N.png')\n",
    "plt.show()"
   ]
  },
  {
   "cell_type": "markdown",
   "metadata": {
    "colab_type": "text",
    "id": "YFqrkEQXHPWJ"
   },
   "source": [
    "<span style=\"font-size:1.1em;\">Verisetindeki **T/F** dağılımını göstermektedir. F olanlar x ekseninde 0 olarak T olanlar ise 1 olarak gösterilmektedir</span>"
   ]
  },
  {
   "cell_type": "code",
   "execution_count": null,
   "metadata": {
    "colab": {
     "base_uri": "https://localhost:8080/",
     "height": 384
    },
    "colab_type": "code",
    "id": "x9wbF0DjHPWL",
    "outputId": "b05150be-58a7-4abd-c739-b9593468db64"
   },
   "outputs": [],
   "source": [
    "fig = plt.figure(figsize=(8,6))\n",
    "\n",
    "df.groupby('T/F').type.count().plot.bar(ylim=0)\n",
    "plt.savefig('gdrive/My Drive/mbti/dataset_distribution_T-F.png')\n",
    "plt.show()"
   ]
  },
  {
   "cell_type": "markdown",
   "metadata": {
    "colab_type": "text",
    "id": "LLG8qi_6HPWQ"
   },
   "source": [
    "<span style=\"font-size:1.1em;\">Verisetindeki **J/P** dağılımını göstermektedir. P olanlar x ekseninde 0 olarak J olanlar ise 1 olarak gösterilmektedir</span>"
   ]
  },
  {
   "cell_type": "code",
   "execution_count": null,
   "metadata": {
    "colab": {
     "base_uri": "https://localhost:8080/",
     "height": 384
    },
    "colab_type": "code",
    "id": "PnYcABt4HPWS",
    "outputId": "3b4e361c-7f0a-49f5-c6b9-6a259ee7e5dd"
   },
   "outputs": [],
   "source": [
    "fig = plt.figure(figsize=(8,6))\n",
    "\n",
    "df.groupby('J/P').type.count().plot.bar(ylim=0)\n",
    "plt.savefig('gdrive/My Drive/mbti/dataset_distribution_J-P.png')\n",
    "plt.show()"
   ]
  },
  {
   "cell_type": "markdown",
   "metadata": {
    "colab_type": "text",
    "id": "RgbvMDgWKkm9"
   },
   "source": [
    "Aşağıda ise verisetinin 16 farklı MBTI kişilik tiplerine göre dağılımı gösterilmektedir."
   ]
  },
  {
   "cell_type": "code",
   "execution_count": null,
   "metadata": {
    "colab": {
     "base_uri": "https://localhost:8080/",
     "height": 295
    },
    "colab_type": "code",
    "id": "wQxnOEeqKvFU",
    "outputId": "46161e79-c627-48ce-c8fa-54025a502e41"
   },
   "outputs": [],
   "source": [
    "fig = plt.figure(figsize=(8,4))\n",
    "\n",
    "df.groupby('type').type.count().plot.bar(ylim=0)\n",
    "plt.savefig('gdrive/My Drive/mbti/dataset_distribution_type.png')\n",
    "plt.show()"
   ]
  },
  {
   "cell_type": "markdown",
   "metadata": {
    "colab_type": "text",
    "id": "nXN5GZtKsc2l"
   },
   "source": [
    "Stop words, drive'da /mbti altındaki stop_words_tr.txt okunarak alınır\n",
    "\n",
    "---\n",
    "\n"
   ]
  },
  {
   "cell_type": "code",
   "execution_count": null,
   "metadata": {
    "colab": {},
    "colab_type": "code",
    "id": "5Z6KPqWNRmqO"
   },
   "outputs": [],
   "source": [
    "file = open(\"gdrive/My Drive/mbti/stop_words_tr.txt\")\n",
    "stop_word_list = file.read().split('\\n')\n",
    "file.close()"
   ]
  },
  {
   "cell_type": "code",
   "execution_count": null,
   "metadata": {
    "colab": {
     "base_uri": "https://localhost:8080/",
     "height": 1000
    },
    "colab_type": "code",
    "id": "PKBOZNvCsc2r",
    "outputId": "faa00611-28f2-4c90-9d71-96b5ca1c8a60"
   },
   "outputs": [],
   "source": [
    "stop_word_list"
   ]
  },
  {
   "cell_type": "markdown",
   "metadata": {
    "colab_type": "text",
    "id": "4LDZVG50-F3O"
   },
   "source": [
    "# Pre-Processing\n",
    "\n",
    "Entrylere ön işleme adımları uygulanır. Bu adımlar:\n",
    "\n",
    "\n",
    "1.   Bütün harflerin küçük harf haline getirilmesi\n",
    "\n",
    "2.   '**bkz**', '**--- spoiler ---**', '**spoiler**', '**#12341324**' (gibi böyle rakamların devam ettiği) entrylerin verisetinden çıkarılması gerekmektedir.\n",
    "\n",
    "3. Entrylerden stop words'ler silinmelidir.\n",
    "\n",
    "4. Web sitelerinin temizlenmesi\n",
    "\n",
    "5. Noktalama işaretlerinin temizlenmesi\n",
    "\n",
    "6. Rakamların temizlenmesi\n",
    "\n",
    "7. Stemming kullanılması\n",
    "\n",
    "Temizlenme işlemlerinde empty string yerine space (' ') ile replace edilerek yapılmalıdır. Arından da fazla boşluklar vs trim edilmelidir.\n",
    "\n",
    "```[+-]?([0-9]*)([.][0-9])?``` regex olarak kullanılacak hem rakamların silinmesinde hem de ondaklı sayıların silinmesinde --> buna gerek kalmadı\n"
   ]
  },
  {
   "cell_type": "markdown",
   "metadata": {
    "colab_type": "text",
    "id": "XklzLH_pJl5s"
   },
   "source": [
    "Entrylerdeki harfler küçük harf haline getirilir"
   ]
  },
  {
   "cell_type": "code",
   "execution_count": null,
   "metadata": {
    "colab": {},
    "colab_type": "code",
    "id": "LVH3wd0AJqtG"
   },
   "outputs": [],
   "source": [
    "df['entry'] = df['entry'].str.lower()"
   ]
  },
  {
   "cell_type": "markdown",
   "metadata": {
    "colab_type": "text",
    "id": "DdaLFbvbCm8r"
   },
   "source": [
    "Dataframe içerisindeki bütün entrylere '**bkz**', '**spoiler**', '**#**' içerip içermediğine bakar ve bunun sonucu index numarasıyla birlikte döner. ```15 True``` gibi bu demek oluyor ki 15 numaralı index bizim yazmış olduğumuz koşulu sağlamaktadır."
   ]
  },
  {
   "cell_type": "code",
   "execution_count": null,
   "metadata": {
    "colab": {},
    "colab_type": "code",
    "id": "4i_BlXDr-BbQ"
   },
   "outputs": [],
   "source": [
    "indexes_contains_unwanted_words = df['entry'].str.contains('|'.join(['bkz', 'spoiler', r'#\\d*']))"
   ]
  },
  {
   "cell_type": "markdown",
   "metadata": {
    "colab_type": "text",
    "id": "boufiWfHDrIu"
   },
   "source": [
    "Dataframe'den ilgili entryler çıkartılır"
   ]
  },
  {
   "cell_type": "code",
   "execution_count": null,
   "metadata": {
    "colab": {
     "base_uri": "https://localhost:8080/",
     "height": 35
    },
    "colab_type": "code",
    "id": "NEJVm7ALDuo2",
    "outputId": "8265dda9-4c52-4e21-c1f3-2996f335851e"
   },
   "outputs": [],
   "source": [
    "df = df[~indexes_contains_unwanted_words]\n",
    "df.shape[0]"
   ]
  },
  {
   "cell_type": "markdown",
   "metadata": {
    "colab_type": "text",
    "id": "Y0-z8E6OIFNh"
   },
   "source": [
    "Entrylerden stop words silinir.   --> Bu kısım gerekmeyebilir\n"
   ]
  },
  {
   "cell_type": "code",
   "execution_count": null,
   "metadata": {
    "colab": {
     "base_uri": "https://localhost:8080/",
     "height": 358
    },
    "colab_type": "code",
    "id": "sxy9T9seILBC",
    "outputId": "a4912768-609f-4d18-e5f5-17517c02ffe9",
    "scrolled": true
   },
   "outputs": [],
   "source": [
    "df['entry'] = df['entry'].str.replace('|'.join(stop_word_list), ' ')"
   ]
  },
  {
   "cell_type": "markdown",
   "metadata": {
    "colab_type": "text",
    "id": "qwCxlQsEThSX"
   },
   "source": [
    "Entrylerden web site linkleri silinir."
   ]
  },
  {
   "cell_type": "code",
   "execution_count": null,
   "metadata": {
    "colab": {
     "base_uri": "https://localhost:8080/",
     "height": 233
    },
    "colab_type": "code",
    "id": "VcB2KrMaRqtj",
    "outputId": "5a856b55-b25d-4358-9a17-e00c20882f0f"
   },
   "outputs": [],
   "source": [
    "df['entry'] = df['entry'].str.replace(r'http\\S+', ' ', regex=True)\n",
    "df['entry'] = df['entry'].str.replace(r'www\\S+', '', regex=True)"
   ]
  },
  {
   "cell_type": "markdown",
   "metadata": {
    "colab_type": "text",
    "id": "oXNRgz87vGLZ"
   },
   "source": [
    "Entrylerden noktalama işaretleri temizlenir."
   ]
  },
  {
   "cell_type": "code",
   "execution_count": null,
   "metadata": {
    "colab": {
     "base_uri": "https://localhost:8080/",
     "height": 125
    },
    "colab_type": "code",
    "id": "Wakq_66kvGLa",
    "outputId": "b71f46a1-0fef-422c-b819-96b3e2bf70e3"
   },
   "outputs": [],
   "source": [
    "import string\n",
    "\n",
    "df['entry'] = df['entry'].apply(lambda x: x.translate(str.maketrans(string.punctuation, ' '*len(string.punctuation))))"
   ]
  },
  {
   "cell_type": "markdown",
   "metadata": {
    "colab_type": "text",
    "id": "5PNW6PAPvGLd"
   },
   "source": [
    "Entrylerden rakamlar silinir."
   ]
  },
  {
   "cell_type": "code",
   "execution_count": null,
   "metadata": {
    "colab": {
     "base_uri": "https://localhost:8080/",
     "height": 125
    },
    "colab_type": "code",
    "id": "CnYY6GrTvGLe",
    "outputId": "e3b5197b-917d-4240-aa92-3d7e85ed0745"
   },
   "outputs": [],
   "source": [
    "df['entry'] = df['entry'].str.replace('\\d+', ' ')"
   ]
  },
  {
   "cell_type": "markdown",
   "metadata": {
    "colab_type": "text",
    "id": "5VFg9aCPvGLg"
   },
   "source": [
    "Verisetinin stemmera sokmadan önceki ön işlemeden geçirilmiş hali kaydedilir. Buradaki amaç stemmerdan geçirilmiş ve geçirilmemiş halinin başarı açısından karşılaştırılmasının yapılabilmesi."
   ]
  },
  {
   "cell_type": "code",
   "execution_count": null,
   "metadata": {
    "colab": {},
    "colab_type": "code",
    "id": "K4XI0xMXvGLh"
   },
   "outputs": [],
   "source": [
    "df.to_csv(\"gdrive/My Drive/mbti/preprocessed_dataset_v1.csv\", sep=';', encoding='utf-8')"
   ]
  },
  {
   "cell_type": "markdown",
   "metadata": {
    "colab_type": "text",
    "id": "jgh0Kw3kvGLk"
   },
   "source": [
    "SnowballStemmer içerisinde Türkçe dili için kullanabileceğimiz TurkishStemmer import edilir. Stemmer ile kelimelerin köklerine ulaşılır. Lemmatization işlemiyle kök bulunduğu zaman elde edilen kökler biçimsel açıdan da doğru olurken (yani mantıksal açıdan da) stemmer ile elde edilen köklerde böyle bir durum söz konusu değildir. Dolayısıyla stemming edilmis hallerine bakıldıgında mantıksal açıdan düzgün sonuclar vermeyebilir."
   ]
  },
  {
   "cell_type": "markdown",
   "metadata": {
    "colab_type": "text",
    "id": "lvdQBvV0vGLl"
   },
   "source": [
    "Google Colab'a snowballstemmer ile ilgil package'i indirmek için aşağıdaki komutu çalıştırıyoruz."
   ]
  },
  {
   "cell_type": "code",
   "execution_count": null,
   "metadata": {},
   "outputs": [],
   "source": [
    "df['entry']"
   ]
  },
  {
   "cell_type": "code",
   "execution_count": null,
   "metadata": {
    "colab": {},
    "colab_type": "code",
    "id": "Xy79H4kIvGLm",
    "outputId": "219dbe1e-f366-4662-ce54-607a957f6c1e"
   },
   "outputs": [],
   "source": [
    "!pip install snowballstemmer"
   ]
  },
  {
   "cell_type": "code",
   "execution_count": null,
   "metadata": {
    "colab": {},
    "colab_type": "code",
    "id": "IQG9fteQvGLp"
   },
   "outputs": [],
   "source": [
    "from snowballstemmer import TurkishStemmer"
   ]
  },
  {
   "cell_type": "code",
   "execution_count": null,
   "metadata": {
    "colab": {},
    "colab_type": "code",
    "id": "m8RVEUD6vGLr",
    "outputId": "19847b81-b866-475f-936c-8581da44e6fc"
   },
   "outputs": [],
   "source": [
    "stemmer = TurkishStemmer()\n",
    "\n",
    "indexes = df.index\n",
    "\n",
    "for i in range(len(indexes)):\n",
    "    index = indexes[i]\n",
    "    entry = df['entry'][index]\n",
    "    entry_kokler = stemmer.stemWords(entry.split(\" \"))\n",
    "    df['entry'][index] = \" \".join(entry_kokler)"
   ]
  },
  {
   "cell_type": "code",
   "execution_count": null,
   "metadata": {},
   "outputs": [],
   "source": [
    "df['entry']"
   ]
  },
  {
   "cell_type": "markdown",
   "metadata": {
    "colab_type": "text",
    "id": "-XigObU8vGLt"
   },
   "source": [
    "Stemmera sokulmuş hali kaydedilir."
   ]
  },
  {
   "cell_type": "code",
   "execution_count": null,
   "metadata": {
    "colab": {},
    "colab_type": "code",
    "id": "IP3Iam_kvGLv"
   },
   "outputs": [],
   "source": [
    "df.to_csv(\"gdrive/My Drive/mbti/preprocessed_dataset_v2.csv\", sep=';', encoding='utf-8')"
   ]
  },
  {
   "cell_type": "markdown",
   "metadata": {
    "colab_type": "text",
    "id": "dZzvU-o2sc2w"
   },
   "source": [
    "TF-IDF özellik vektörünün çıkartılmasında kullanılacak değişken aşağıda belirlenmiş olan parametrelerle oluşturulur."
   ]
  },
  {
   "cell_type": "code",
   "execution_count": null,
   "metadata": {
    "colab": {},
    "colab_type": "code",
    "id": "CbggMvzcY5ER"
   },
   "outputs": [],
   "source": [
    "from sklearn.feature_extraction.text import TfidfVectorizer"
   ]
  },
  {
   "cell_type": "code",
   "execution_count": null,
   "metadata": {
    "colab": {},
    "colab_type": "code",
    "id": "wzSU9aILsc2x"
   },
   "outputs": [],
   "source": [
    "tfidf_vectorizer = TfidfVectorizer(sublinear_tf=True, norm='l2', encoding='utf-8', ngram_range=(1, 2), stop_words = stop_word_list, max_features=5000, analyzer = 'word', token_pattern=r'\\w{1,}')"
   ]
  },
  {
   "cell_type": "markdown",
   "metadata": {
    "colab_type": "text",
    "id": "eX6FeaibfZvZ"
   },
   "source": [
    "**Feature Extraction** \n",
    "\n",
    "Burada tf-idf vektörlerinin çıkartılmasında kullanılacak olan vocabulary oluşturulur."
   ]
  },
  {
   "cell_type": "code",
   "execution_count": null,
   "metadata": {
    "colab": {
     "base_uri": "https://localhost:8080/",
     "height": 307
    },
    "colab_type": "code",
    "id": "izEeSWJIfZYQ",
    "outputId": "6cca522c-423a-4fbc-f821-b97df07415c1"
   },
   "outputs": [],
   "source": [
    "tfidf_vectorizer.fit(df['entry'])"
   ]
  },
  {
   "cell_type": "markdown",
   "metadata": {
    "colab_type": "text",
    "id": "JRTpmz32fOtg"
   },
   "source": [
    "Veriseti train ve test olmak üzere ikiye ayrılır. Test %20 ve train %80'ini oluşturacak şekilde tüm veriseti bölünür. random_state parametresi ile tekrardan bölündüğünde bir öncekiyle aynı train ve test veri setlerinin oluşturulması sağlanır."
   ]
  },
  {
   "cell_type": "code",
   "execution_count": null,
   "metadata": {
    "colab": {},
    "colab_type": "code",
    "id": "CbObRS01fIzb"
   },
   "outputs": [],
   "source": [
    "from sklearn.model_selection import train_test_split"
   ]
  },
  {
   "cell_type": "code",
   "execution_count": null,
   "metadata": {
    "colab": {},
    "colab_type": "code",
    "id": "k1skQ7bRfLyQ"
   },
   "outputs": [],
   "source": [
    "X_train, X_test, y_train, y_test = train_test_split(df['entry'], df['typeClass'], random_state = 42, test_size = 0.20)"
   ]
  },
  {
   "cell_type": "markdown",
   "metadata": {
    "colab_type": "text",
    "id": "dUjGVe2ufm9D"
   },
   "source": [
    "Train ve test datasetlerinden tf-idf vektörleri çıkartılır\n"
   ]
  },
  {
   "cell_type": "code",
   "execution_count": null,
   "metadata": {
    "colab": {},
    "colab_type": "code",
    "id": "5WWZ5iZzfmm1"
   },
   "outputs": [],
   "source": [
    "X_train_tfidf = tfidf_vectorizer.transform(X_train)\n",
    "X_test_tfidf = tfidf_vectorizer.transform(X_test)"
   ]
  },
  {
   "cell_type": "markdown",
   "metadata": {},
   "source": [
    "SVM kullanılarak tahmin edilir."
   ]
  },
  {
   "cell_type": "code",
   "execution_count": null,
   "metadata": {},
   "outputs": [],
   "source": [
    "from sklearn import svm\n",
    "\n",
    "SVM = svm.SVC(C=1.0, kernel='linear', degree=3, gamma='auto')\n",
    "SVM.fit(X_train_tfidf,y_train)\n",
    "\n",
    "y_actual = y_test.values\n",
    "\n",
    "y_predicted = SVM.predict(X_test_tfidf)"
   ]
  },
  {
   "cell_type": "code",
   "execution_count": null,
   "metadata": {
    "colab": {
     "base_uri": "https://localhost:8080/",
     "height": 53
    },
    "colab_type": "code",
    "id": "7i8gHOU0ipzw",
    "outputId": "49cf9cfd-a04c-4bc3-e8ed-39c2bda8549d"
   },
   "outputs": [],
   "source": [
    "y_predicted"
   ]
  },
  {
   "cell_type": "markdown",
   "metadata": {
    "colab_type": "text",
    "id": "HVUImvDlHPXa"
   },
   "source": [
    "<span style=\"font-size:1.1em\">Yapılacak tahminlerle ilgili istatistiksel verileri tutmak için</span> ```predictions_result```<span style=\"font-size:1.1em\"> adında bir değişken oluşturulur.</span>\n",
    "\n",
    "<span style=\"font-size:1.1em\">Bu değişkenin yapısı aşağıdaki gibidir.</span>\n",
    "\n",
    "```json\n",
    "{\n",
    "    \"predicted\": {\n",
    "        \"analysts\":  { \"actual\": {\"analysts\": 0, \"diplomats\": 0, \"explorers\": 0, \"sentinels\": 0} }\n",
    "        \"diplomats\": { \"actual\": {\"analysts\": 0, \"diplomats\": 0, \"explorers\": 0, \"sentinels\": 0} }\n",
    "        \"explorers\": { \"actual\": {\"analysts\": 0, \"diplomats\": 0, \"explorers\": 0, \"sentinels\": 0} }\n",
    "        \"sentinels\": { \"actual\": {\"analysts\": 0, \"diplomats\": 0, \"explorers\": 0, \"sentinels\": 0} }\n",
    "    }\n",
    "}\n",
    "```\n",
    "\n",
    "* <span style=\"font-size:1.1em;\">Yapılan tahminlerle ilgili verilere ulaşabilmek için</span>\n",
    "\n",
    "    ```predictions_results['predicted']```\n",
    "\n",
    "\n",
    "* <span style=\"font-size:1.1em;\">Yapılan tahminin analyst ise:</span>\n",
    "\n",
    "    ```predictions_results['predicted']['analysts']``` \n",
    "\n",
    "\n",
    "* <span style=\"font-size:1.1em;\">Yapılan analyst tahmininin gerçek değerlerine erişmek için:</span>     \n",
    "\n",
    "    ```predictions_results['predicted']['analysts']['actual']```  \n",
    "\n",
    "\n",
    "* <span style=\"font-size:1.1em;\">Test verisi, model tarafından analysts olarak tahmin edilmiştir ve bu verinin gerçek değeri de analysts'tir.</span>\n",
    "\n",
    "    ```predictions_results['predicted']['analysts']['actual']['analysts']``` "
   ]
  },
  {
   "cell_type": "code",
   "execution_count": null,
   "metadata": {
    "colab": {},
    "colab_type": "code",
    "id": "DD0xZXNNsc3F"
   },
   "outputs": [],
   "source": [
    "prediction_results = {'predicted': {}}  ## prediction_result['analysts'] means prediction is 'analysts'\n",
    "\n",
    "prediction_results['predicted']['analysts']  = {'actual': {'analysts': 0, 'diplomats': 0, 'explorers': 0, 'sentinels': 0}}\n",
    "prediction_results['predicted']['diplomats'] = {'actual': {'analysts': 0, 'diplomats': 0, 'explorers': 0, 'sentinels': 0}}\n",
    "prediction_results['predicted']['explorers'] = {'actual': {'analysts': 0, 'diplomats': 0, 'explorers': 0, 'sentinels': 0}}\n",
    "prediction_results['predicted']['sentinels'] = {'actual': {'analysts': 0, 'diplomats': 0, 'explorers': 0, 'sentinels': 0}}\n",
    "\n",
    "## prediction_result['analysts']['diplomats'] means prediction is analysts but actual value is diplomats"
   ]
  },
  {
   "cell_type": "markdown",
   "metadata": {
    "colab_type": "text",
    "id": "YOFYyew6HPXl"
   },
   "source": [
    "```prediction_results```<span style=\"font-size:1.1em\"> içerisinde tutulan sayaçların değerleri arttırılır.</span>"
   ]
  },
  {
   "cell_type": "code",
   "execution_count": null,
   "metadata": {
    "colab": {},
    "colab_type": "code",
    "id": "Kc7adxOMfmKj"
   },
   "outputs": [],
   "source": [
    "for i in range(len(y_predicted)):\n",
    "  predicted_value = y_predicted[i]\n",
    "  actual_value = y_actual[i]\n",
    "  prediction_results['predicted'][predicted_value]['actual'][actual_value] += 1"
   ]
  },
  {
   "cell_type": "markdown",
   "metadata": {
    "colab_type": "text",
    "id": "4FDMu4kXHPXr"
   },
   "source": [
    "<span style=\"font-size:1.1em\">JSON formatına çevrilir </span>```dict``` <span style=\"font-size:1.1em\">tipi. Bu sayede daha okunaklı bir şekilde print edilmiş olur. </span>"
   ]
  },
  {
   "cell_type": "code",
   "execution_count": null,
   "metadata": {
    "colab": {
     "base_uri": "https://localhost:8080/",
     "height": 665
    },
    "colab_type": "code",
    "id": "4gGDav5qgVQh",
    "outputId": "44c742b4-8b23-4c75-dc80-cee0338fb160",
    "scrolled": false
   },
   "outputs": [],
   "source": [
    "import json\n",
    "\n",
    "print(json.dumps(prediction_results, indent = 2))"
   ]
  },
  {
   "cell_type": "markdown",
   "metadata": {
    "colab_type": "text",
    "id": "Uw8Sx7TsHPX1"
   },
   "source": [
    "<span style=\"font-size:1.1em;\">İlgili field extract edilir</span> ```dict``` <span style=\"font-size:1.1em;\">yapısından.</span>"
   ]
  },
  {
   "cell_type": "code",
   "execution_count": null,
   "metadata": {
    "colab": {},
    "colab_type": "code",
    "id": "ZBUI6iMTHPX2"
   },
   "outputs": [],
   "source": [
    "results = prediction_results['predicted']"
   ]
  },
  {
   "cell_type": "markdown",
   "metadata": {
    "colab_type": "text",
    "id": "IoxOrOr6HPX7"
   },
   "source": [
    "<span style=\"font-size:1.1em;\">Başarı oranı hesaplanır</span>"
   ]
  },
  {
   "cell_type": "code",
   "execution_count": null,
   "metadata": {
    "colab": {
     "base_uri": "https://localhost:8080/",
     "height": 35
    },
    "colab_type": "code",
    "id": "0S5fD04Zgg11",
    "outputId": "acd761c6-32a5-44f1-e6b5-ff8edfaf0b69"
   },
   "outputs": [],
   "source": [
    "accuracy = (results['analysts']['actual']['analysts'] + results['diplomats']['actual']['diplomats'] + results['explorers']['actual']['explorers'] + results['sentinels']['actual']['sentinels']) / len(predictions)\n",
    "accuracy"
   ]
  },
  {
   "cell_type": "markdown",
   "metadata": {
    "colab_type": "text",
    "id": "ooofyhgeHPYA"
   },
   "source": [
    "<span style=\"font-size:1.1em;\">**E/I** boyutu tahmin edilir</span>"
   ]
  },
  {
   "cell_type": "code",
   "execution_count": 0,
   "metadata": {
    "colab": {},
    "colab_type": "code",
    "id": "ZPmKSg3XrONj"
   },
   "outputs": [],
   "source": [
    "X_train, X_test, y_train, y_test = train_test_split(df['entry'], df['I/E'], random_state = 42)  ## Geri kalanlar S, T, J\n",
    "\n",
    "X_train_tfidf = tfidf_vectorizer.transform(X_train)\n",
    "X_test_tfidf = tfidf_vectorizer.transform(X_test)\n",
    "\n",
    "SVM = svm.SVC(C=1.0, kernel='linear', degree=3, gamma='auto')\n",
    "SVM.fit(X_train_tfidf,y_train)\n",
    "\n",
    "y_actual = y_test.values\n",
    "\n",
    "y_predicted = SVM.predict(X_test_tfidf)"
   ]
  },
  {
   "cell_type": "code",
   "execution_count": 0,
   "metadata": {
    "colab": {
     "base_uri": "https://localhost:8080/",
     "height": 35
    },
    "colab_type": "code",
    "id": "hgxavMQorivQ",
    "outputId": "d99c951e-12e2-443f-f03e-b2b8aca99889"
   },
   "outputs": [
    {
     "data": {
      "text/plain": [
       "array(['E', 'E', 'E', ..., 'I', 'I', 'I'], dtype='<U1')"
      ]
     },
     "execution_count": 30,
     "metadata": {
      "tags": []
     },
     "output_type": "execute_result"
    }
   ],
   "source": [
    "y_predicted"
   ]
  },
  {
   "cell_type": "code",
   "execution_count": 0,
   "metadata": {
    "colab": {
     "base_uri": "https://localhost:8080/",
     "height": 35
    },
    "colab_type": "code",
    "id": "DlQeP5BFr0BA",
    "outputId": "8c726f2d-d562-4cbb-d0ca-a6e8f4e859b2"
   },
   "outputs": [
    {
     "data": {
      "text/plain": [
       "{'E': {'actual': {'E': 0, 'I': 0}}, 'I': {'actual': {'E': 0, 'I': 0}}}"
      ]
     },
     "execution_count": 31,
     "metadata": {
      "tags": []
     },
     "output_type": "execute_result"
    }
   ],
   "source": [
    "predicted = {}\n",
    "predicted['I'] = {'actual': {'I': 0, 'E': 0}}\n",
    "predicted['E'] = {'actual': {'I': 0, 'E': 0}}\n",
    "predicted"
   ]
  },
  {
   "cell_type": "code",
   "execution_count": 0,
   "metadata": {
    "colab": {},
    "colab_type": "code",
    "id": "F38Wm7lnsNxh"
   },
   "outputs": [],
   "source": [
    "for i in range(len(y_predicted)):\n",
    "  predicted[y_predicted[i]]['actual'][y_actual[i]] += 1\n"
   ]
  },
  {
   "cell_type": "code",
   "execution_count": 0,
   "metadata": {
    "colab": {
     "base_uri": "https://localhost:8080/",
     "height": 53
    },
    "colab_type": "code",
    "id": "pCppRIUitZ3A",
    "outputId": "0dd7e4f1-3755-4a9c-c6c6-3d90cc352817"
   },
   "outputs": [
    {
     "data": {
      "text/plain": [
       "{'E': {'actual': {'E': 32427, 'I': 21303}},\n",
       " 'I': {'actual': {'E': 48381, 'I': 58867}}}"
      ]
     },
     "execution_count": 33,
     "metadata": {
      "tags": []
     },
     "output_type": "execute_result"
    }
   ],
   "source": [
    "predicted"
   ]
  },
  {
   "cell_type": "code",
   "execution_count": 0,
   "metadata": {
    "colab": {},
    "colab_type": "code",
    "id": "sRxuH3Fht6me"
   },
   "outputs": [],
   "source": [
    "accuracy = (predicted['E']['actual']['E'] + predicted['I']['actual']['I']) / len(predictions)"
   ]
  },
  {
   "cell_type": "code",
   "execution_count": 0,
   "metadata": {
    "colab": {
     "base_uri": "https://localhost:8080/",
     "height": 35
    },
    "colab_type": "code",
    "id": "11O91HLLuH27",
    "outputId": "6bc60afd-ec84-4c2a-c3cc-3122820e3d5e"
   },
   "outputs": [
    {
     "data": {
      "text/plain": [
       "0.5671209730522183"
      ]
     },
     "execution_count": 35,
     "metadata": {
      "tags": []
     },
     "output_type": "execute_result"
    }
   ],
   "source": [
    "accuracy"
   ]
  },
  {
   "cell_type": "markdown",
   "metadata": {
    "colab_type": "text",
    "id": "ktc8Y-2hHPYg"
   },
   "source": [
    "<span style=\"font-size:1.1em\">**S/N** boyutu tahmin edilir.</span>"
   ]
  },
  {
   "cell_type": "code",
   "execution_count": 0,
   "metadata": {
    "colab": {},
    "colab_type": "code",
    "id": "mq8qRr5RuSVO"
   },
   "outputs": [],
   "source": [
    "X_train, X_test, y_train, y_test = train_test_split(df['entry'], df['S/N'], random_state = 42)  ## Geri kalan boyutlar: T, J\n",
    "\n",
    "X_train_tfidf = tfidf_vectorizer.transform(X_train)\n",
    "X_test_tfidf = tfidf_vectorizer.transform(X_test)\n",
    "\n",
    "SVM = svm.SVC(C=1.0, kernel='linear', degree=3, gamma='auto')\n",
    "SVM.fit(X_train_tfidf,y_train)\n",
    "\n",
    "y_actual = y_test.values\n",
    "\n",
    "y_predicted = SVM.predict(X_test_tfidf)"
   ]
  },
  {
   "cell_type": "code",
   "execution_count": 0,
   "metadata": {
    "colab": {
     "base_uri": "https://localhost:8080/",
     "height": 89
    },
    "colab_type": "code",
    "id": "VzV1av-CuZ2b",
    "outputId": "25d6f22b-cd43-424f-a7ea-27a9b9994aa6"
   },
   "outputs": [
    {
     "data": {
      "text/plain": [
       "{'E': {'actual': {'E': 32427, 'I': 21303}},\n",
       " 'I': {'actual': {'E': 48381, 'I': 58867}},\n",
       " 'N': {'actual': {'N': 0, 'S': 0}},\n",
       " 'S': {'actual': {'N': 0, 'S': 0}}}"
      ]
     },
     "execution_count": 37,
     "metadata": {
      "tags": []
     },
     "output_type": "execute_result"
    }
   ],
   "source": [
    "predicted['N'] = {'actual': {'N': 0, 'S': 0}}\n",
    "predicted['S'] = {'actual': {'N': 0, 'S': 0}}\n",
    "\n",
    "predicted"
   ]
  },
  {
   "cell_type": "code",
   "execution_count": 0,
   "metadata": {
    "colab": {},
    "colab_type": "code",
    "id": "Fm2wvaVYuklE"
   },
   "outputs": [],
   "source": [
    "for i in range(len(y_predicted)):\n",
    "  predicted[y_predicted[i]]['actual'][y_actual[i]] += 1"
   ]
  },
  {
   "cell_type": "code",
   "execution_count": 0,
   "metadata": {
    "colab": {
     "base_uri": "https://localhost:8080/",
     "height": 89
    },
    "colab_type": "code",
    "id": "YbVEQPPsvebF",
    "outputId": "bb8d3dcc-ddd0-4c91-97a8-70ebaf4a2d2e"
   },
   "outputs": [
    {
     "data": {
      "text/plain": [
       "{'E': {'actual': {'E': 32427, 'I': 21303}},\n",
       " 'I': {'actual': {'E': 48381, 'I': 58867}},\n",
       " 'N': {'actual': {'N': 115527, 'S': 45391}},\n",
       " 'S': {'actual': {'N': 25, 'S': 35}}}"
      ]
     },
     "execution_count": 39,
     "metadata": {
      "tags": []
     },
     "output_type": "execute_result"
    }
   ],
   "source": [
    "predicted"
   ]
  },
  {
   "cell_type": "code",
   "execution_count": 0,
   "metadata": {
    "colab": {},
    "colab_type": "code",
    "id": "tQJQoGQavLgv"
   },
   "outputs": [],
   "source": [
    "accuracy = (predicted['N']['actual']['N'] + predicted['S']['actual']['S']) / len(predictions)"
   ]
  },
  {
   "cell_type": "code",
   "execution_count": 0,
   "metadata": {
    "colab": {
     "base_uri": "https://localhost:8080/",
     "height": 35
    },
    "colab_type": "code",
    "id": "LbegGjPNvXJO",
    "outputId": "fc7534e6-5794-4ea6-eec4-201e6c49aafd"
   },
   "outputs": [
    {
     "data": {
      "text/plain": [
       "0.7178744921666315"
      ]
     },
     "execution_count": 41,
     "metadata": {
      "tags": []
     },
     "output_type": "execute_result"
    }
   ],
   "source": [
    "accuracy"
   ]
  },
  {
   "cell_type": "markdown",
   "metadata": {
    "colab_type": "text",
    "id": "vqKVIk9uHPZA"
   },
   "source": [
    "<span style=\"font-size:1.1em\">**T/F** boyutu tahmin edilir.</span>"
   ]
  },
  {
   "cell_type": "code",
   "execution_count": 0,
   "metadata": {
    "colab": {},
    "colab_type": "code",
    "id": "qKVLLnYJwOHR"
   },
   "outputs": [],
   "source": [
    "X_train, X_test, y_train, y_test = train_test_split(df['entry'], df['T/F'], random_state = 42)  ##  J\n",
    "\n",
    "X_train_tfidf = tfidf_vectorizer.transform(X_train)\n",
    "X_test_tfidf = tfidf_vectorizer.transform(X_test)\n",
    "\n",
    "SVM = svm.SVC(C=1.0, kernel='linear', degree=3, gamma='auto')\n",
    "SVM.fit(X_train_tfidf,y_train)\n",
    "\n",
    "y_actual = y_test.values\n",
    "\n",
    "y_predicted = SVM.predict(X_test_tfidf)"
   ]
  },
  {
   "cell_type": "code",
   "execution_count": 0,
   "metadata": {
    "colab": {
     "base_uri": "https://localhost:8080/",
     "height": 125
    },
    "colab_type": "code",
    "id": "839RnfNfwT77",
    "outputId": "c0f46bcb-92b7-4dd1-eccb-d8c0c0214c6a"
   },
   "outputs": [
    {
     "data": {
      "text/plain": [
       "{'E': {'actual': {'E': 32427, 'I': 21303}},\n",
       " 'F': {'actual': {'F': 0, 'T': 0}},\n",
       " 'I': {'actual': {'E': 48381, 'I': 58867}},\n",
       " 'N': {'actual': {'N': 115527, 'S': 45391}},\n",
       " 'S': {'actual': {'N': 25, 'S': 35}},\n",
       " 'T': {'actual': {'F': 0, 'T': 0}}}"
      ]
     },
     "execution_count": 43,
     "metadata": {
      "tags": []
     },
     "output_type": "execute_result"
    }
   ],
   "source": [
    "predicted['T'] = {'actual': {'T': 0, 'F': 0}}\n",
    "predicted['F'] = {'actual': {'T': 0, 'F': 0}}\n",
    "\n",
    "predicted"
   ]
  },
  {
   "cell_type": "code",
   "execution_count": 0,
   "metadata": {
    "colab": {},
    "colab_type": "code",
    "id": "sd9lUb13wbdK"
   },
   "outputs": [],
   "source": [
    "for i in range(len(y_predicted)):\n",
    "  predicted[y_predicted[i]]['actual'][y_actual[i]] += 1"
   ]
  },
  {
   "cell_type": "code",
   "execution_count": 0,
   "metadata": {
    "colab": {
     "base_uri": "https://localhost:8080/",
     "height": 125
    },
    "colab_type": "code",
    "id": "Js9--v33ws5A",
    "outputId": "f411d4ef-eee4-4207-e30b-f2d160174fc2"
   },
   "outputs": [
    {
     "data": {
      "text/plain": [
       "{'E': {'actual': {'E': 32427, 'I': 21303}},\n",
       " 'F': {'actual': {'F': 23204, 'T': 14732}},\n",
       " 'I': {'actual': {'E': 48381, 'I': 58867}},\n",
       " 'N': {'actual': {'N': 115527, 'S': 45391}},\n",
       " 'S': {'actual': {'N': 25, 'S': 35}},\n",
       " 'T': {'actual': {'F': 51749, 'T': 71293}}}"
      ]
     },
     "execution_count": 45,
     "metadata": {
      "tags": []
     },
     "output_type": "execute_result"
    }
   ],
   "source": [
    "predicted"
   ]
  },
  {
   "cell_type": "code",
   "execution_count": 0,
   "metadata": {
    "colab": {},
    "colab_type": "code",
    "id": "i2ycKt6ZwuOC"
   },
   "outputs": [],
   "source": [
    "accuracy = (predicted['F']['actual']['F'] + predicted['T']['actual']['T']) / len(predictions)"
   ]
  },
  {
   "cell_type": "code",
   "execution_count": 0,
   "metadata": {
    "colab": {
     "base_uri": "https://localhost:8080/",
     "height": 35
    },
    "colab_type": "code",
    "id": "5WkLA4z8x12q",
    "outputId": "7e3ea96d-5b97-4fb6-8d5a-aea842abf2ba"
   },
   "outputs": [
    {
     "data": {
      "text/plain": [
       "0.5870181018524271"
      ]
     },
     "execution_count": 47,
     "metadata": {
      "tags": []
     },
     "output_type": "execute_result"
    }
   ],
   "source": [
    "accuracy"
   ]
  },
  {
   "cell_type": "markdown",
   "metadata": {
    "colab_type": "text",
    "id": "APORaOlVHPZh"
   },
   "source": [
    "<span style=\"font-size:1.1em\">**J/P** boyutu tahmin edilir.</span>"
   ]
  },
  {
   "cell_type": "code",
   "execution_count": 0,
   "metadata": {
    "colab": {},
    "colab_type": "code",
    "id": "UuEb2k8Qx41D"
   },
   "outputs": [],
   "source": [
    "X_train, X_test, y_train, y_test = train_test_split(df['entry'], df['J/P'], random_state = 42) \n",
    "\n",
    "X_train_tfidf = tfidf_vectorizer.transform(X_train)\n",
    "X_test_tfidf = tfidf_vectorizer.transform(X_test)\n",
    "\n",
    "SVM = svm.SVC(C=1.0, kernel='linear', degree=3, gamma='auto')\n",
    "SVM.fit(X_train_tfidf,y_train)\n",
    "\n",
    "y_actual = y_test.values\n",
    "\n",
    "y_predicted = SVM.predict(X_test_tfidf)"
   ]
  },
  {
   "cell_type": "code",
   "execution_count": 0,
   "metadata": {
    "colab": {
     "base_uri": "https://localhost:8080/",
     "height": 161
    },
    "colab_type": "code",
    "id": "Dw-8uFkbx9m7",
    "outputId": "55b143c3-630d-42fa-8e94-873c3b0eb2da"
   },
   "outputs": [
    {
     "data": {
      "text/plain": [
       "{'E': {'actual': {'E': 32427, 'I': 21303}},\n",
       " 'F': {'actual': {'F': 23204, 'T': 14732}},\n",
       " 'I': {'actual': {'E': 48381, 'I': 58867}},\n",
       " 'J': {'actual': {'J': 0, 'P': 0}},\n",
       " 'N': {'actual': {'N': 115527, 'S': 45391}},\n",
       " 'P': {'actual': {'J': 0, 'P': 0}},\n",
       " 'S': {'actual': {'N': 25, 'S': 35}},\n",
       " 'T': {'actual': {'F': 51749, 'T': 71293}}}"
      ]
     },
     "execution_count": 49,
     "metadata": {
      "tags": []
     },
     "output_type": "execute_result"
    }
   ],
   "source": [
    "predicted['J'] = {'actual': {'J': 0, 'P': 0}}\n",
    "predicted['P'] = {'actual': {'J': 0, 'P': 0}}\n",
    "\n",
    "predicted"
   ]
  },
  {
   "cell_type": "code",
   "execution_count": 0,
   "metadata": {
    "colab": {},
    "colab_type": "code",
    "id": "dYu5m1TRyGNB"
   },
   "outputs": [],
   "source": [
    "for i in range(len(y_predicted)):\n",
    "  predicted[y_predicted[i]]['actual'][y_actual[i]] += 1"
   ]
  },
  {
   "cell_type": "code",
   "execution_count": 0,
   "metadata": {
    "colab": {
     "base_uri": "https://localhost:8080/",
     "height": 161
    },
    "colab_type": "code",
    "id": "PHsAWw-6yOdi",
    "outputId": "18d6d493-3155-499c-c2d5-e8f5e29232aa"
   },
   "outputs": [
    {
     "data": {
      "text/plain": [
       "{'E': {'actual': {'E': 32427, 'I': 21303}},\n",
       " 'F': {'actual': {'F': 23204, 'T': 14732}},\n",
       " 'I': {'actual': {'E': 48381, 'I': 58867}},\n",
       " 'J': {'actual': {'J': 37293, 'P': 29220}},\n",
       " 'N': {'actual': {'N': 115527, 'S': 45391}},\n",
       " 'P': {'actual': {'J': 40994, 'P': 53471}},\n",
       " 'S': {'actual': {'N': 25, 'S': 35}},\n",
       " 'T': {'actual': {'F': 51749, 'T': 71293}}}"
      ]
     },
     "execution_count": 51,
     "metadata": {
      "tags": []
     },
     "output_type": "execute_result"
    }
   ],
   "source": [
    "predicted"
   ]
  },
  {
   "cell_type": "code",
   "execution_count": 0,
   "metadata": {
    "colab": {},
    "colab_type": "code",
    "id": "LHYecNUuyQGL"
   },
   "outputs": [],
   "source": [
    "accuracy = (predicted['P']['actual']['P'] + predicted['J']['actual']['J']) / len(predictions)"
   ]
  },
  {
   "cell_type": "code",
   "execution_count": 0,
   "metadata": {
    "colab": {
     "base_uri": "https://localhost:8080/",
     "height": 35
    },
    "colab_type": "code",
    "id": "jtNZq3mTyW6r",
    "outputId": "54cd38bf-d44a-4423-de54-f62567b0deed"
   },
   "outputs": [
    {
     "data": {
      "text/plain": [
       "0.5638285976965797"
      ]
     },
     "execution_count": 53,
     "metadata": {
      "tags": []
     },
     "output_type": "execute_result"
    }
   ],
   "source": [
    "accuracy"
   ]
  },
  {
   "cell_type": "code",
   "execution_count": 0,
   "metadata": {
    "colab": {
     "base_uri": "https://localhost:8080/",
     "height": 449
    },
    "colab_type": "code",
    "id": "MQuyqSw-yjse",
    "outputId": "9c3ba19d-8d50-4811-a048-b8fdd1dae95f"
   },
   "outputs": [
    {
     "data": {
      "text/plain": [
       "{'predicted': {'E': {'actual': {'E': 32427, 'I': 21303}},\n",
       "  'F': {'actual': {'F': 23204, 'T': 14732}},\n",
       "  'I': {'actual': {'E': 48381, 'I': 58867}},\n",
       "  'J': {'actual': {'J': 37293, 'P': 29220}},\n",
       "  'N': {'actual': {'N': 115527, 'S': 45391}},\n",
       "  'P': {'actual': {'J': 40994, 'P': 53471}},\n",
       "  'S': {'actual': {'N': 25, 'S': 35}},\n",
       "  'T': {'actual': {'F': 51749, 'T': 71293}},\n",
       "  'analysts': {'actual': {'analysts': 38435,\n",
       "    'diplomats': 28056,\n",
       "    'explorers': 10084,\n",
       "    'sentinels': 17542}},\n",
       "  'diplomats': {'actual': {'analysts': 9521,\n",
       "    'diplomats': 16309,\n",
       "    'explorers': 3348,\n",
       "    'sentinels': 5030}},\n",
       "  'explorers': {'actual': {'analysts': 0,\n",
       "    'diplomats': 1,\n",
       "    'explorers': 0,\n",
       "    'sentinels': 2}},\n",
       "  'sentinels': {'actual': {'analysts': 95,\n",
       "    'diplomats': 123,\n",
       "    'explorers': 47,\n",
       "    'sentinels': 190}}}}"
      ]
     },
     "execution_count": 54,
     "metadata": {
      "tags": []
     },
     "output_type": "execute_result"
    }
   ],
   "source": [
    "prediction_results['predicted'].update(predicted) \n",
    "\n",
    "prediction_results"
   ]
  },
  {
   "cell_type": "code",
   "execution_count": null,
   "metadata": {},
   "outputs": [],
   "source": []
  }
 ],
 "metadata": {
  "kernelspec": {
   "display_name": "Python 3",
   "language": "python",
   "name": "python3"
  },
  "language_info": {
   "codemirror_mode": {
    "name": "ipython",
    "version": 3
   },
   "file_extension": ".py",
   "mimetype": "text/x-python",
   "name": "python",
   "nbconvert_exporter": "python",
   "pygments_lexer": "ipython3",
   "version": "3.7.5"
  }
 },
 "nbformat": 4,
 "nbformat_minor": 2
}
