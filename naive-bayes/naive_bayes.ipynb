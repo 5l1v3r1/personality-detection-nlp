{
  "nbformat": 4,
  "nbformat_minor": 0,
  "metadata": {
    "colab": {
      "name": "naive_bayes.ipynb",
      "provenance": [],
      "collapsed_sections": [],
      "machine_shape": "hm"
    },
    "kernelspec": {
      "display_name": "Python 3",
      "language": "python",
      "name": "python3"
    },
    "language_info": {
      "codemirror_mode": {
        "name": "ipython",
        "version": 3
      },
      "file_extension": ".py",
      "mimetype": "text/x-python",
      "name": "python",
      "nbconvert_exporter": "python",
      "pygments_lexer": "ipython3",
      "version": "3.7.5"
    }
  },
  "cells": [
    {
      "cell_type": "markdown",
      "metadata": {
        "colab_type": "text",
        "id": "0jNfS3mXsc2O"
      },
      "source": [
        "<span style=\"font-size:1.1em;\">Colab'a Google drive'ı entegre ediyoruz. Kullanılacak olan veriseti Google Drive'da bulunmaktadır</span>"
      ]
    },
    {
      "cell_type": "code",
      "metadata": {
        "colab_type": "code",
        "id": "d_zKJmJWQG19",
        "outputId": "b9488fed-9dce-4fd6-be5e-a0d6c10510c2",
        "colab": {
          "base_uri": "https://localhost:8080/",
          "height": 35
        }
      },
      "source": [
        "from google.colab import drive\n",
        "drive.mount('/content/gdrive')"
      ],
      "execution_count": 0,
      "outputs": [
        {
          "output_type": "stream",
          "text": [
            "Drive already mounted at /content/gdrive; to attempt to forcibly remount, call drive.mount(\"/content/gdrive\", force_remount=True).\n"
          ],
          "name": "stdout"
        }
      ]
    },
    {
      "cell_type": "code",
      "metadata": {
        "colab_type": "code",
        "id": "CA6I9IrzVr2v",
        "colab": {}
      },
      "source": [
        "import pandas as pd "
      ],
      "execution_count": 0,
      "outputs": []
    },
    {
      "cell_type": "markdown",
      "metadata": {
        "colab_type": "text",
        "id": "97IoTlPeHPVf"
      },
      "source": [
        "<span style=\"font-size:1.1em;\">Google Drive'ımızın root pathi</span> ```gdrive/My Drive``` <span style=\"font-size:1.1em;\">oluyor. Proje için gerekli verisetini **mbti** adında bir klasör oluşturup içerisine yüklüyoruz. İlgili verisetinin pathi</span> ```gdrive/My Drive/mbti/all_users.csv``` <span style=\"font-size:1.1em;\">oluyor.</span>"
      ]
    },
    {
      "cell_type": "code",
      "metadata": {
        "colab_type": "code",
        "id": "P4qtF-14sc2S",
        "colab": {}
      },
      "source": [
        "df = pd.read_csv(\"gdrive/My Drive/mbti/all_users_v2.csv\", sep = ';', header = 0) "
      ],
      "execution_count": 0,
      "outputs": []
    },
    {
      "cell_type": "code",
      "metadata": {
        "colab_type": "code",
        "id": "vtN4QiN4sc2Y",
        "outputId": "10f89b43-48bc-46cc-d878-481829779c22",
        "colab": {
          "base_uri": "https://localhost:8080/",
          "height": 419
        }
      },
      "source": [
        "df"
      ],
      "execution_count": 0,
      "outputs": [
        {
          "output_type": "execute_result",
          "data": {
            "text/html": [
              "<div>\n",
              "<style scoped>\n",
              "    .dataframe tbody tr th:only-of-type {\n",
              "        vertical-align: middle;\n",
              "    }\n",
              "\n",
              "    .dataframe tbody tr th {\n",
              "        vertical-align: top;\n",
              "    }\n",
              "\n",
              "    .dataframe thead th {\n",
              "        text-align: right;\n",
              "    }\n",
              "</style>\n",
              "<table border=\"1\" class=\"dataframe\">\n",
              "  <thead>\n",
              "    <tr style=\"text-align: right;\">\n",
              "      <th></th>\n",
              "      <th>user</th>\n",
              "      <th>entry</th>\n",
              "      <th>type</th>\n",
              "      <th>typeClass</th>\n",
              "      <th>I/E</th>\n",
              "      <th>S/N</th>\n",
              "      <th>T/F</th>\n",
              "      <th>J/P</th>\n",
              "    </tr>\n",
              "  </thead>\n",
              "  <tbody>\n",
              "    <tr>\n",
              "      <th>0</th>\n",
              "      <td>19991991</td>\n",
              "      <td>ekşi itiraf sonunda döndüm dolaştım geldim ken...</td>\n",
              "      <td>ENTJ</td>\n",
              "      <td>analysts</td>\n",
              "      <td>E</td>\n",
              "      <td>N</td>\n",
              "      <td>T</td>\n",
              "      <td>J</td>\n",
              "    </tr>\n",
              "    <tr>\n",
              "      <th>1</th>\n",
              "      <td>19991991</td>\n",
              "      <td>selda bağcan bu sesi canlı dinleyebilmek benim...</td>\n",
              "      <td>ENTJ</td>\n",
              "      <td>analysts</td>\n",
              "      <td>E</td>\n",
              "      <td>N</td>\n",
              "      <td>T</td>\n",
              "      <td>J</td>\n",
              "    </tr>\n",
              "    <tr>\n",
              "      <th>2</th>\n",
              "      <td>19991991</td>\n",
              "      <td>eski sevgilisinin mutlu olmasını isteyen insan...</td>\n",
              "      <td>ENTJ</td>\n",
              "      <td>analysts</td>\n",
              "      <td>E</td>\n",
              "      <td>N</td>\n",
              "      <td>T</td>\n",
              "      <td>J</td>\n",
              "    </tr>\n",
              "    <tr>\n",
              "      <th>3</th>\n",
              "      <td>19991991</td>\n",
              "      <td>veda ederken 2019'a bir not bırakmak farklı ac...</td>\n",
              "      <td>ENTJ</td>\n",
              "      <td>analysts</td>\n",
              "      <td>E</td>\n",
              "      <td>N</td>\n",
              "      <td>T</td>\n",
              "      <td>J</td>\n",
              "    </tr>\n",
              "    <tr>\n",
              "      <th>4</th>\n",
              "      <td>19991991</td>\n",
              "      <td>ingiliz aksanı bu aralar özellikle bayıldığım ...</td>\n",
              "      <td>ENTJ</td>\n",
              "      <td>analysts</td>\n",
              "      <td>E</td>\n",
              "      <td>N</td>\n",
              "      <td>T</td>\n",
              "      <td>J</td>\n",
              "    </tr>\n",
              "    <tr>\n",
              "      <th>...</th>\n",
              "      <td>...</td>\n",
              "      <td>...</td>\n",
              "      <td>...</td>\n",
              "      <td>...</td>\n",
              "      <td>...</td>\n",
              "      <td>...</td>\n",
              "      <td>...</td>\n",
              "      <td>...</td>\n",
              "    </tr>\n",
              "    <tr>\n",
              "      <th>643907</th>\n",
              "      <td>zaimoglu</td>\n",
              "      <td>zlatan ibrahimoviç türkiye de katil olur</td>\n",
              "      <td>ESFJ</td>\n",
              "      <td>sentinels</td>\n",
              "      <td>E</td>\n",
              "      <td>S</td>\n",
              "      <td>F</td>\n",
              "      <td>J</td>\n",
              "    </tr>\n",
              "    <tr>\n",
              "      <th>643908</th>\n",
              "      <td>zaimoglu</td>\n",
              "      <td>tarihteki en büyük yalancılar şike operasyonu ...</td>\n",
              "      <td>ESFJ</td>\n",
              "      <td>sentinels</td>\n",
              "      <td>E</td>\n",
              "      <td>S</td>\n",
              "      <td>F</td>\n",
              "      <td>J</td>\n",
              "    </tr>\n",
              "    <tr>\n",
              "      <th>643909</th>\n",
              "      <td>zaimoglu</td>\n",
              "      <td>akp-chp koalisyonu hayali koalisyondur</td>\n",
              "      <td>ESFJ</td>\n",
              "      <td>sentinels</td>\n",
              "      <td>E</td>\n",
              "      <td>S</td>\n",
              "      <td>F</td>\n",
              "      <td>J</td>\n",
              "    </tr>\n",
              "    <tr>\n",
              "      <th>643910</th>\n",
              "      <td>zaimoglu</td>\n",
              "      <td>trabzonlu insana hamsi diyen fenerbahçe taraft...</td>\n",
              "      <td>ESFJ</td>\n",
              "      <td>sentinels</td>\n",
              "      <td>E</td>\n",
              "      <td>S</td>\n",
              "      <td>F</td>\n",
              "      <td>J</td>\n",
              "    </tr>\n",
              "    <tr>\n",
              "      <th>643911</th>\n",
              "      <td>zaimoglu</td>\n",
              "      <td>caner taslaman zonguldak taki paneline katılma...</td>\n",
              "      <td>ESFJ</td>\n",
              "      <td>sentinels</td>\n",
              "      <td>E</td>\n",
              "      <td>S</td>\n",
              "      <td>F</td>\n",
              "      <td>J</td>\n",
              "    </tr>\n",
              "  </tbody>\n",
              "</table>\n",
              "<p>643912 rows × 8 columns</p>\n",
              "</div>"
            ],
            "text/plain": [
              "            user                                              entry  ... T/F J/P\n",
              "0       19991991  ekşi itiraf sonunda döndüm dolaştım geldim ken...  ...   T   J\n",
              "1       19991991  selda bağcan bu sesi canlı dinleyebilmek benim...  ...   T   J\n",
              "2       19991991  eski sevgilisinin mutlu olmasını isteyen insan...  ...   T   J\n",
              "3       19991991  veda ederken 2019'a bir not bırakmak farklı ac...  ...   T   J\n",
              "4       19991991  ingiliz aksanı bu aralar özellikle bayıldığım ...  ...   T   J\n",
              "...          ...                                                ...  ...  ..  ..\n",
              "643907  zaimoglu          zlatan ibrahimoviç türkiye de katil olur   ...   F   J\n",
              "643908  zaimoglu  tarihteki en büyük yalancılar şike operasyonu ...  ...   F   J\n",
              "643909  zaimoglu            akp-chp koalisyonu hayali koalisyondur   ...   F   J\n",
              "643910  zaimoglu  trabzonlu insana hamsi diyen fenerbahçe taraft...  ...   F   J\n",
              "643911  zaimoglu  caner taslaman zonguldak taki paneline katılma...  ...   F   J\n",
              "\n",
              "[643912 rows x 8 columns]"
            ]
          },
          "metadata": {
            "tags": []
          },
          "execution_count": 4
        }
      ]
    },
    {
      "cell_type": "code",
      "metadata": {
        "colab_type": "code",
        "id": "vkuqae_1sc2g",
        "scrolled": true,
        "colab": {}
      },
      "source": [
        "import matplotlib.pyplot as plt"
      ],
      "execution_count": 0,
      "outputs": []
    },
    {
      "cell_type": "markdown",
      "metadata": {
        "colab_type": "text",
        "id": "WgKPqLP6sc2f"
      },
      "source": [
        "<span style=\"font-size:1.1em;\">Verisetinin **class** tiplerine göre dağılım</span>"
      ]
    },
    {
      "cell_type": "code",
      "metadata": {
        "colab_type": "code",
        "id": "O5zNSY97RgFT",
        "outputId": "9344eaf2-b17f-42e5-8777-c1c152e05762",
        "colab": {
          "base_uri": "https://localhost:8080/",
          "height": 428
        }
      },
      "source": [
        "fig = plt.figure(figsize=(8,6))\n",
        "\n",
        "df.groupby('typeClass').type.count().plot.bar(ylim=0)\n",
        "plt.savefig('dataset_distribution_typeClass.png')\n",
        "plt.show()"
      ],
      "execution_count": 0,
      "outputs": [
        {
          "output_type": "display_data",
          "data": {
            "image/png": "[encoded data removed]",
            "text/plain": [
              "<Figure size 576x432 with 1 Axes>"
            ]
          },
          "metadata": {
            "tags": []
          }
        }
      ]
    },
    {
      "cell_type": "markdown",
      "metadata": {
        "colab_type": "text",
        "id": "yxKqqcIOHPV6"
      },
      "source": [
        "<span style=\"font-size:1.1em;\">Verisetindeki **I/E** dağılımını göstermektedir. I olanlar x ekseninde 0 olarak E olanlar ise 1 olarak gösterilmektedir</span>"
      ]
    },
    {
      "cell_type": "code",
      "metadata": {
        "colab_type": "code",
        "id": "Px9BDE58HPV8",
        "outputId": "818e7613-824c-4b17-b059-2f87d299fa36",
        "colab": {
          "base_uri": "https://localhost:8080/",
          "height": 384
        }
      },
      "source": [
        "fig = plt.figure(figsize=(8,6))\n",
        "\n",
        "df.groupby('I/E').type.count().plot.bar(ylim=0)\n",
        "plt.savefig('gdrive/My Drive/mbti/dataset_distribution_I-E.png')\n",
        "plt.show()"
      ],
      "execution_count": 0,
      "outputs": [
        {
          "output_type": "display_data",
          "data": {
            "image/png": "[encoded data removed]",
            "text/plain": [
              "<Figure size 576x432 with 1 Axes>"
            ]
          },
          "metadata": {
            "tags": []
          }
        }
      ]
    },
    {
      "cell_type": "markdown",
      "metadata": {
        "colab_type": "text",
        "id": "60eHkTmxHPWB"
      },
      "source": [
        "<span style=\"font-size:1.1em;\">Verisetindeki **S/N** dağılımını göstermektedir. N olanlar x ekseninde 0 olarak S olanlar ise 1 olarak gösterilmektedir</span>"
      ]
    },
    {
      "cell_type": "code",
      "metadata": {
        "colab_type": "code",
        "id": "r-n8D9GuHPWD",
        "outputId": "62719403-7d24-4115-9829-5de93a2e23b9",
        "colab": {
          "base_uri": "https://localhost:8080/",
          "height": 386
        }
      },
      "source": [
        "fig = plt.figure(figsize=(8,6))\n",
        "\n",
        "df.groupby('S/N').type.count().plot.bar(ylim=0)\n",
        "plt.savefig('gdrive/My Drive/mbtidataset_distribution_S-N.png')\n",
        "plt.show()"
      ],
      "execution_count": 0,
      "outputs": [
        {
          "output_type": "display_data",
          "data": {
            "image/png": "[encoded data removed]",
            "text/plain": [
              "<Figure size 576x432 with 1 Axes>"
            ]
          },
          "metadata": {
            "tags": []
          }
        }
      ]
    },
    {
      "cell_type": "markdown",
      "metadata": {
        "colab_type": "text",
        "id": "YFqrkEQXHPWJ"
      },
      "source": [
        "<span style=\"font-size:1.1em;\">Verisetindeki **T/F** dağılımını göstermektedir. F olanlar x ekseninde 0 olarak T olanlar ise 1 olarak gösterilmektedir</span>"
      ]
    },
    {
      "cell_type": "code",
      "metadata": {
        "colab_type": "code",
        "id": "x9wbF0DjHPWL",
        "outputId": "b05150be-58a7-4abd-c739-b9593468db64",
        "colab": {
          "base_uri": "https://localhost:8080/",
          "height": 384
        }
      },
      "source": [
        "fig = plt.figure(figsize=(8,6))\n",
        "\n",
        "df.groupby('T/F').type.count().plot.bar(ylim=0)\n",
        "plt.savefig('gdrive/My Drive/mbti/dataset_distribution_T-F.png')\n",
        "plt.show()"
      ],
      "execution_count": 0,
      "outputs": [
        {
          "output_type": "display_data",
          "data": {
            "image/png": "[encoded data removed]",
            "text/plain": [
              "<Figure size 576x432 with 1 Axes>"
            ]
          },
          "metadata": {
            "tags": []
          }
        }
      ]
    },
    {
      "cell_type": "markdown",
      "metadata": {
        "colab_type": "text",
        "id": "LLG8qi_6HPWQ"
      },
      "source": [
        "<span style=\"font-size:1.1em;\">Verisetindeki **J/P** dağılımını göstermektedir. P olanlar x ekseninde 0 olarak J olanlar ise 1 olarak gösterilmektedir</span>"
      ]
    },
    {
      "cell_type": "code",
      "metadata": {
        "colab_type": "code",
        "id": "PnYcABt4HPWS",
        "outputId": "3b4e361c-7f0a-49f5-c6b9-6a259ee7e5dd",
        "colab": {
          "base_uri": "https://localhost:8080/",
          "height": 384
        }
      },
      "source": [
        "fig = plt.figure(figsize=(8,6))\n",
        "\n",
        "df.groupby('J/P').type.count().plot.bar(ylim=0)\n",
        "plt.savefig('gdrive/My Drive/mbti/dataset_distribution_J-P.png')\n",
        "plt.show()"
      ],
      "execution_count": 0,
      "outputs": [
        {
          "output_type": "display_data",
          "data": {
            "image/png": "[encoded data removed]",
            "text/plain": [
              "<Figure size 576x432 with 1 Axes>"
            ]
          },
          "metadata": {
            "tags": []
          }
        }
      ]
    },
    {
      "cell_type": "markdown",
      "metadata": {
        "colab_type": "text",
        "id": "RgbvMDgWKkm9"
      },
      "source": [
        "Aşağıda ise verisetinin 16 farklı MBTI kişilik tiplerine göre dağılımı gösterilmektedir."
      ]
    },
    {
      "cell_type": "code",
      "metadata": {
        "colab_type": "code",
        "id": "wQxnOEeqKvFU",
        "outputId": "46161e79-c627-48ce-c8fa-54025a502e41",
        "colab": {
          "base_uri": "https://localhost:8080/",
          "height": 295
        }
      },
      "source": [
        "fig = plt.figure(figsize=(8,4))\n",
        "\n",
        "df.groupby('type').type.count().plot.bar(ylim=0)\n",
        "plt.savefig('gdrive/My Drive/mbti/dataset_distribution_type.png')\n",
        "plt.show()"
      ],
      "execution_count": 0,
      "outputs": [
        {
          "output_type": "display_data",
          "data": {
            "image/png": "[encoded data removed]",
            "text/plain": [
              "<Figure size 576x288 with 1 Axes>"
            ]
          },
          "metadata": {
            "tags": []
          }
        }
      ]
    },
    {
      "cell_type": "markdown",
      "metadata": {
        "colab_type": "text",
        "id": "nXN5GZtKsc2l"
      },
      "source": [
        "Stop words, drive'da /mbti altındaki stop_words_tr.txt okunarak alınır\n",
        "\n",
        "---\n",
        "\n"
      ]
    },
    {
      "cell_type": "code",
      "metadata": {
        "colab_type": "code",
        "id": "5Z6KPqWNRmqO",
        "colab": {}
      },
      "source": [
        "file = open(\"gdrive/My Drive/mbti/stop_words_tr.txt\")\n",
        "stop_word_list = file.read().split('\\n')\n",
        "file.close()"
      ],
      "execution_count": 0,
      "outputs": []
    },
    {
      "cell_type": "code",
      "metadata": {
        "colab_type": "code",
        "id": "PKBOZNvCsc2r",
        "outputId": "faa00611-28f2-4c90-9d71-96b5ca1c8a60",
        "colab": {
          "base_uri": "https://localhost:8080/",
          "height": 1000
        }
      },
      "source": [
        "stop_word_list"
      ],
      "execution_count": 0,
      "outputs": [
        {
          "output_type": "execute_result",
          "data": {
            "text/plain": [
              "['Hm',\n",
              " 'Hmm',\n",
              " 'Osmanlıca',\n",
              " 'Rabbena',\n",
              " 'Türkçesi',\n",
              " 'a',\n",
              " 'aa',\n",
              " 'aaa',\n",
              " 'aaah',\n",
              " 'aah',\n",
              " 'abe',\n",
              " 'abes',\n",
              " 'abo',\n",
              " 'abosa',\n",
              " 'abov',\n",
              " 'abow',\n",
              " 'abu',\n",
              " 'acaba',\n",
              " 'acayip',\n",
              " 'accelerando',\n",
              " 'acele',\n",
              " 'aceleten',\n",
              " 'acep',\n",
              " 'acilen',\n",
              " 'acımasız',\n",
              " 'acımasızcasına',\n",
              " 'adamakıllı',\n",
              " 'adamcasına',\n",
              " 'adedî',\n",
              " 'adeta',\n",
              " 'adilane',\n",
              " 'adına',\n",
              " 'afedersin',\n",
              " 'afedersinin',\n",
              " 'aferin',\n",
              " 'affettuoso',\n",
              " 'agitato',\n",
              " 'agucuk',\n",
              " 'ah',\n",
              " 'aha',\n",
              " 'ahacık',\n",
              " 'ahbap',\n",
              " 'aheste',\n",
              " 'ahir',\n",
              " 'ahiren',\n",
              " 'ahlaken',\n",
              " 'ailecek',\n",
              " 'ait',\n",
              " 'akabinde',\n",
              " 'akilane',\n",
              " 'aklen',\n",
              " 'aklınca',\n",
              " 'aksine',\n",
              " 'akıbet',\n",
              " 'akşamdan',\n",
              " 'akşamları',\n",
              " 'akşamleyin',\n",
              " 'akşamüstü',\n",
              " 'akşamüzeri',\n",
              " 'alabildiğine',\n",
              " 'alarga',\n",
              " 'alelacele',\n",
              " 'alelhesap',\n",
              " 'alelhusus',\n",
              " 'alelumum',\n",
              " 'alelusul',\n",
              " 'alelıtlak',\n",
              " 'alenen',\n",
              " 'alessabah',\n",
              " 'aleykümselâm',\n",
              " 'alicenap',\n",
              " 'alimallah',\n",
              " 'allahtan',\n",
              " 'allegretto',\n",
              " 'allegro',\n",
              " 'alo',\n",
              " 'altmış',\n",
              " 'altı',\n",
              " 'altıncı',\n",
              " 'altışar',\n",
              " 'ama',\n",
              " 'amabile',\n",
              " 'aman',\n",
              " 'amanın',\n",
              " 'amca',\n",
              " 'amenna',\n",
              " 'amirane',\n",
              " 'amma',\n",
              " 'an',\n",
              " 'ana',\n",
              " 'anafordan',\n",
              " 'anal',\n",
              " 'anasıl',\n",
              " 'anbean',\n",
              " 'anca',\n",
              " 'ancak',\n",
              " 'andante',\n",
              " 'andantino',\n",
              " 'ani',\n",
              " 'aniden',\n",
              " 'anif',\n",
              " 'animato',\n",
              " 'anlaşılan',\n",
              " 'ansızın',\n",
              " 'antrparantez',\n",
              " 'anında',\n",
              " 'apak',\n",
              " 'apansız',\n",
              " 'apansızın',\n",
              " 'apartopar',\n",
              " 'apaçık',\n",
              " 'aport',\n",
              " 'appassionato',\n",
              " 'aptal',\n",
              " 'aptalcasına',\n",
              " 'aracılığıyla',\n",
              " 'arada',\n",
              " 'aralıkta',\n",
              " 'arasıra',\n",
              " 'ardarda',\n",
              " 'ardınca',\n",
              " 'ardından',\n",
              " 'arifane',\n",
              " 'ariyeten',\n",
              " 'arkadan',\n",
              " 'arkadaşça',\n",
              " 'arkaüstü',\n",
              " 'artık',\n",
              " 'arş',\n",
              " 'asabi',\n",
              " 'asaleten',\n",
              " 'asla',\n",
              " 'aslen',\n",
              " 'aslında',\n",
              " 'asıl',\n",
              " 'atbaşı',\n",
              " 'atfen',\n",
              " 'atmış',\n",
              " 'atmışar',\n",
              " 'atmışıncı',\n",
              " 'avantadan',\n",
              " 'avara',\n",
              " 'ay',\n",
              " 'ayakta',\n",
              " 'ayaküstü',\n",
              " 'ayaküzeri',\n",
              " 'aybeay',\n",
              " 'aylarca',\n",
              " 'aylık',\n",
              " 'aynen',\n",
              " 'aynıyla',\n",
              " 'ayol',\n",
              " 'ayrı',\n",
              " 'ayrıca',\n",
              " 'ayrıyeten',\n",
              " 'ayı',\n",
              " 'ayık',\n",
              " 'az',\n",
              " 'azade',\n",
              " 'azimkârane',\n",
              " 'azıcık',\n",
              " 'aç',\n",
              " 'açık',\n",
              " 'açıktan',\n",
              " 'açıkça',\n",
              " 'açıkçası',\n",
              " 'ağababa',\n",
              " 'ağabey',\n",
              " 'ağır',\n",
              " 'ağızdan',\n",
              " 'aşağı',\n",
              " 'aşikâre',\n",
              " 'aşkın',\n",
              " 'aşırı',\n",
              " 'b',\n",
              " 'ba',\n",
              " 'bacı',\n",
              " 'badehu',\n",
              " 'badema',\n",
              " 'bahar',\n",
              " 'bahusus',\n",
              " 'bakarak',\n",
              " 'bakımından',\n",
              " 'bakındı',\n",
              " 'balıklama',\n",
              " 'balıksırtı',\n",
              " 'bana',\n",
              " 'banko',\n",
              " 'bari',\n",
              " 'basbayağı',\n",
              " 'basmakalıp',\n",
              " 'batsat',\n",
              " 'bayan',\n",
              " 'bayağı',\n",
              " 'baygın',\n",
              " 'bayramüstü',\n",
              " 'bayramüzeri',\n",
              " 'bazan',\n",
              " 'bazen',\n",
              " 'bazı',\n",
              " 'bazıları',\n",
              " 'bazısı',\n",
              " 'başbaşa',\n",
              " 'başka',\n",
              " 'başkası',\n",
              " 'başlıbaşına',\n",
              " 'başta',\n",
              " 'baştan',\n",
              " 'baştanbaşa',\n",
              " 'başüstüne',\n",
              " 'başıboş',\n",
              " 'be',\n",
              " 'bebek',\n",
              " 'bebekçe',\n",
              " 'bedaheten',\n",
              " 'bedava',\n",
              " 'bedavadan',\n",
              " 'bedavasına',\n",
              " 'bedavaya',\n",
              " 'bedenen',\n",
              " 'begayet',\n",
              " 'behemehâl',\n",
              " 'behey',\n",
              " 'beleşten',\n",
              " 'beli',\n",
              " 'belirgin',\n",
              " 'belki',\n",
              " 'bembeyaz',\n",
              " 'ben',\n",
              " 'bence',\n",
              " 'bencileyin',\n",
              " 'benden',\n",
              " 'beni',\n",
              " 'benim',\n",
              " 'benimki',\n",
              " 'beraber',\n",
              " 'beraberce',\n",
              " 'berabere',\n",
              " 'beraberinde',\n",
              " 'bereket',\n",
              " 'berenarı',\n",
              " 'beri',\n",
              " 'beriki',\n",
              " 'bermutat',\n",
              " 'bertafsil',\n",
              " 'bertaraf',\n",
              " 'besbelli',\n",
              " 'besmelesiz',\n",
              " 'beybaba',\n",
              " 'beyhude',\n",
              " 'beyninde',\n",
              " 'bezgin',\n",
              " 'beş',\n",
              " 'beşer',\n",
              " 'beşinci',\n",
              " 'beşyüz',\n",
              " 'bi',\n",
              " 'bihaber',\n",
              " 'bihakkın',\n",
              " 'biilaç',\n",
              " 'bikes',\n",
              " 'bilahare',\n",
              " 'bilaistisna',\n",
              " 'bilakis',\n",
              " 'bilasebep',\n",
              " 'bilavasıta',\n",
              " 'bilcümle',\n",
              " 'bile',\n",
              " 'bilerek',\n",
              " 'bilfarz',\n",
              " 'bilfiil',\n",
              " 'bilhassa',\n",
              " 'bililtizam',\n",
              " 'bilistifade',\n",
              " 'billahi',\n",
              " 'bilmukabele',\n",
              " 'bilmünasebe',\n",
              " 'bilvasıta',\n",
              " 'bin',\n",
              " 'binaen',\n",
              " 'binaenaleyh',\n",
              " 'biner',\n",
              " 'bininci',\n",
              " 'binnetice',\n",
              " 'binyıl',\n",
              " 'bip',\n",
              " 'biperva',\n",
              " 'bir',\n",
              " 'birader',\n",
              " 'birara',\n",
              " 'birarada',\n",
              " 'biraz',\n",
              " 'birazcık',\n",
              " 'birazdan',\n",
              " 'birbiri',\n",
              " 'birden',\n",
              " 'birdenbire',\n",
              " 'birer',\n",
              " 'birgün',\n",
              " 'biri',\n",
              " 'birice',\n",
              " 'birileri',\n",
              " 'birinci',\n",
              " 'birinden',\n",
              " 'birine',\n",
              " 'birisi',\n",
              " 'birkaç',\n",
              " 'birkaçı',\n",
              " 'birkez',\n",
              " 'birlikte',\n",
              " 'birtakım',\n",
              " 'birçok',\n",
              " 'birçokları',\n",
              " 'birçoğu',\n",
              " 'birşey',\n",
              " 'birşeyi',\n",
              " 'bis',\n",
              " 'bismillâh',\n",
              " 'bitevi',\n",
              " 'biteviye',\n",
              " 'bittabi',\n",
              " 'biz',\n",
              " 'bizar',\n",
              " 'bizatihi',\n",
              " 'bizce',\n",
              " 'bizcileyin',\n",
              " 'bizden',\n",
              " 'bize',\n",
              " 'bizi',\n",
              " 'bizim',\n",
              " 'bizimki',\n",
              " 'bizzat',\n",
              " 'biçimli',\n",
              " 'bodoslama',\n",
              " 'bodoslamadan',\n",
              " 'bolca',\n",
              " 'bonjur',\n",
              " 'boyca',\n",
              " 'boylamasına',\n",
              " 'boyuna',\n",
              " 'boyunca',\n",
              " 'boş',\n",
              " 'boşuna',\n",
              " 'br',\n",
              " 'bravo',\n",
              " 'bre',\n",
              " 'bu',\n",
              " 'budalacasına',\n",
              " 'bugün',\n",
              " 'bugünden',\n",
              " 'bugünlük',\n",
              " 'bulanık',\n",
              " 'buna',\n",
              " 'bunca',\n",
              " 'bunda',\n",
              " 'bundan',\n",
              " 'bunlar',\n",
              " 'bunları',\n",
              " 'bunların',\n",
              " 'bunu',\n",
              " 'bunun',\n",
              " 'buracıkta',\n",
              " 'burada',\n",
              " 'buradan',\n",
              " 'burası',\n",
              " 'bönce',\n",
              " 'böyle',\n",
              " 'böylece',\n",
              " 'böylecene',\n",
              " 'böylelikle',\n",
              " 'böylemesine',\n",
              " 'böylesi',\n",
              " 'böylesine',\n",
              " 'bünyece',\n",
              " 'büsbütün',\n",
              " 'bütün',\n",
              " 'bütünüyle',\n",
              " 'bıldır',\n",
              " 'c',\n",
              " 'caba',\n",
              " 'cabadan',\n",
              " 'cahilane',\n",
              " 'cana',\n",
              " 'candan',\n",
              " 'caniyane',\n",
              " 'canlı',\n",
              " 'cansiparane',\n",
              " 'canıgönülden',\n",
              " 'canıyürekten',\n",
              " 'capcanlı',\n",
              " 'carcar',\n",
              " 'carcur',\n",
              " 'cartadak',\n",
              " 'cartadan',\n",
              " 'cebren',\n",
              " 'ceffelkalem',\n",
              " 'ceman',\n",
              " 'cesur',\n",
              " 'cesurane',\n",
              " 'cetbecet',\n",
              " 'cevaben',\n",
              " 'cicoz',\n",
              " 'cidden',\n",
              " 'ciddi',\n",
              " 'cihangirane',\n",
              " 'cihetiyle',\n",
              " 'cismen',\n",
              " 'cuk',\n",
              " 'cumbadak',\n",
              " 'cumburlop',\n",
              " 'cumhurca',\n",
              " 'cuppadak',\n",
              " 'cümle',\n",
              " 'cümlesi',\n",
              " 'cümleten',\n",
              " 'cık',\n",
              " 'cılız',\n",
              " 'cıs',\n",
              " 'd',\n",
              " 'da',\n",
              " 'dadaş',\n",
              " 'dah',\n",
              " 'daha',\n",
              " 'dahası',\n",
              " 'dahi',\n",
              " 'dahil',\n",
              " 'dahilen',\n",
              " 'daim',\n",
              " 'daima',\n",
              " 'dair',\n",
              " 'daki',\n",
              " 'dakika',\n",
              " 'dakikalarca',\n",
              " 'dakikasında',\n",
              " 'dalgündüz',\n",
              " 'dalgın',\n",
              " 'dalgınlıkla',\n",
              " 'dalkavukça',\n",
              " 'dalkılıç',\n",
              " 'dalya',\n",
              " 'dalöğle',\n",
              " 'damsız',\n",
              " 'dan',\n",
              " 'dandini',\n",
              " 'dangadak',\n",
              " 'dangalakça',\n",
              " 'dar',\n",
              " 'davetsiz',\n",
              " 'dayalı',\n",
              " 'dayanarak',\n",
              " 'dayı',\n",
              " 'de',\n",
              " 'dede',\n",
              " 'defa',\n",
              " 'defaatle',\n",
              " 'defalarca',\n",
              " 'defaten',\n",
              " 'deh',\n",
              " 'dehşet',\n",
              " 'dehşetli',\n",
              " 'dek',\n",
              " 'deki',\n",
              " 'dekreşendo',\n",
              " 'delice',\n",
              " 'delicesine',\n",
              " 'delikanlı',\n",
              " 'dembedem',\n",
              " 'deme',\n",
              " 'demek',\n",
              " 'demi',\n",
              " 'demin',\n",
              " 'demincek',\n",
              " 'deminden',\n",
              " 'denli',\n",
              " 'derakap',\n",
              " 'derece',\n",
              " 'derhal',\n",
              " 'derhâl',\n",
              " 'derinden',\n",
              " 'derinlemesine',\n",
              " 'derinliğine',\n",
              " 'derken',\n",
              " 'dervişane',\n",
              " 'destur',\n",
              " 'destursuz',\n",
              " 'desturun',\n",
              " 'devam',\n",
              " 'devre',\n",
              " 'devren',\n",
              " 'deyyus',\n",
              " 'değil',\n",
              " 'değin',\n",
              " 'dikey',\n",
              " 'dikine',\n",
              " 'dikkat',\n",
              " 'dikkatli',\n",
              " 'diklemesine',\n",
              " 'dimdik',\n",
              " 'dimi',\n",
              " 'diminuendo',\n",
              " 'dince',\n",
              " 'dinen',\n",
              " 'dinç',\n",
              " 'direkt',\n",
              " 'diye',\n",
              " 'diğer',\n",
              " 'diğeri',\n",
              " 'diğerleri',\n",
              " 'doksan',\n",
              " 'doksanar',\n",
              " 'doksanıncı',\n",
              " 'dokuz',\n",
              " 'dokuzar',\n",
              " 'dokuzuncu',\n",
              " 'dolayı',\n",
              " 'dolayısıyla',\n",
              " 'doludizgin',\n",
              " 'domuzuna',\n",
              " 'dosdoğru',\n",
              " 'dostane',\n",
              " 'doyasıya',\n",
              " 'doğallıkla',\n",
              " 'doğaçlama',\n",
              " 'doğaçtan',\n",
              " 'doğru',\n",
              " 'doğrudan',\n",
              " 'doğrusu',\n",
              " 'doğuştan',\n",
              " 'durmadan',\n",
              " 'duyguca',\n",
              " 'dâhice',\n",
              " 'dâhil',\n",
              " 'dâhilen',\n",
              " 'dâhiyane',\n",
              " 'dörder',\n",
              " 'dördüncü',\n",
              " 'dört',\n",
              " 'dörtnala',\n",
              " 'dün',\n",
              " 'dünden',\n",
              " 'dünyada',\n",
              " 'düpedüz',\n",
              " 'dürzü',\n",
              " 'düt',\n",
              " 'düzgün',\n",
              " 'dışarı',\n",
              " 'e',\n",
              " 'ebediyen',\n",
              " 'edecek',\n",
              " 'eden',\n",
              " 'edepli',\n",
              " 'edepsizcesine',\n",
              " 'ederek',\n",
              " 'edibane',\n",
              " 'edilecek',\n",
              " 'ediliyor',\n",
              " 'edilmesi',\n",
              " 'ediyor',\n",
              " 'efece',\n",
              " 'efendi',\n",
              " 'efendim',\n",
              " 'efsus',\n",
              " 'eh',\n",
              " 'ekseri',\n",
              " 'ekseriya',\n",
              " 'ekseriyetle',\n",
              " 'ekstra',\n",
              " 'elaman',\n",
              " 'elan',\n",
              " 'elbet',\n",
              " 'elbette',\n",
              " 'elden',\n",
              " 'elektriksiz',\n",
              " 'elele',\n",
              " 'elhak',\n",
              " 'elhamdülillah',\n",
              " 'elhasıl',\n",
              " 'eliyle',\n",
              " 'elli',\n",
              " 'ellinci',\n",
              " 'ellişer',\n",
              " 'elveda',\n",
              " 'emaneten',\n",
              " 'emme',\n",
              " 'emprovize',\n",
              " 'en',\n",
              " 'en\\t',\n",
              " 'enayicesine',\n",
              " 'ender',\n",
              " 'enikonu',\n",
              " 'enlemesine',\n",
              " 'ençok',\n",
              " 'epey',\n",
              " 'epeyce',\n",
              " 'epeydir',\n",
              " 'epeyi',\n",
              " 'epeyice',\n",
              " 'er',\n",
              " 'erden',\n",
              " 'ergeç',\n",
              " 'erken',\n",
              " 'erkence',\n",
              " 'erkenden',\n",
              " 'esasen',\n",
              " 'eskaza',\n",
              " 'eskiden',\n",
              " 'esnasında',\n",
              " 'estağfurullah',\n",
              " 'etmesi',\n",
              " 'etraflı',\n",
              " 'etraflıca',\n",
              " 'etti',\n",
              " 'ettiği',\n",
              " 'ettiğini',\n",
              " 'evce',\n",
              " 'evcek',\n",
              " 'evelallah',\n",
              " 'evet',\n",
              " 'evleviyetle',\n",
              " 'evvel',\n",
              " 'evvela',\n",
              " 'evvelce',\n",
              " 'evvelden',\n",
              " 'evvelemirde',\n",
              " 'evveli',\n",
              " 'evvelleri',\n",
              " 'ey',\n",
              " 'eyvah',\n",
              " 'ezberden',\n",
              " 'ezbere',\n",
              " 'ezcümle',\n",
              " 'ezercesine',\n",
              " 'ezik',\n",
              " 'ezkaza',\n",
              " 'eğer',\n",
              " 'eğreti',\n",
              " 'eğri',\n",
              " 'eşekçe',\n",
              " 'eşkin',\n",
              " 'f',\n",
              " 'fakat',\n",
              " 'falan',\n",
              " 'falanca',\n",
              " 'faraza',\n",
              " 'farzımahal',\n",
              " 'farzımuhal',\n",
              " 'fasih',\n",
              " 'fatihane',\n",
              " 'fayrap',\n",
              " 'fazla',\n",
              " 'fazladan',\n",
              " 'fazlasıyla',\n",
              " 'felan',\n",
              " 'fena',\n",
              " 'fertik',\n",
              " 'fesuphanallah',\n",
              " 'fiilen',\n",
              " 'fikren',\n",
              " 'filan',\n",
              " 'filanca',\n",
              " 'filhakika',\n",
              " 'filvaki',\n",
              " 'fonda',\n",
              " 'fondip',\n",
              " 'fora',\n",
              " 'forte',\n",
              " 'fortepiano',\n",
              " 'fortissimo',\n",
              " 'fücceten',\n",
              " 'fır',\n",
              " 'fırdolayı',\n",
              " 'fıstıki',\n",
              " 'fıtraten',\n",
              " 'g',\n",
              " 'gafilane',\n",
              " 'gah',\n",
              " 'galiba',\n",
              " 'garanti',\n",
              " 'garip',\n",
              " 'gayet',\n",
              " 'gayetle',\n",
              " 'gayri',\n",
              " 'gayrı',\n",
              " 'gece',\n",
              " 'geceleri',\n",
              " 'geceleyin',\n",
              " 'gelgelelim',\n",
              " 'gelişigüzel',\n",
              " 'gene',\n",
              " 'genelde',\n",
              " 'genellikle',\n",
              " 'gepgenç',\n",
              " 'gerek',\n",
              " 'gerekse',\n",
              " 'gereği',\n",
              " 'gereğince',\n",
              " 'geri',\n",
              " 'gerisingeri',\n",
              " 'gerisingeriye',\n",
              " 'gerçekte',\n",
              " 'gerçekten',\n",
              " 'gerçi',\n",
              " 'gevşek',\n",
              " 'geç',\n",
              " 'geçe',\n",
              " 'geçende',\n",
              " 'geçenlerde',\n",
              " 'gibi',\n",
              " 'gibilerden',\n",
              " 'gibisinden',\n",
              " 'giderayak',\n",
              " 'giderek',\n",
              " 'gidi',\n",
              " 'gine',\n",
              " 'gitgide',\n",
              " 'gittikçe',\n",
              " 'gizli',\n",
              " 'gâh',\n",
              " 'gâhi',\n",
              " 'gâvurcasına',\n",
              " 'gönlünce',\n",
              " 'göre',\n",
              " 'görünürde',\n",
              " 'görünürlerde',\n",
              " 'görünüşte',\n",
              " 'götürü',\n",
              " 'gücün',\n",
              " 'gümbedek',\n",
              " 'günaydın',\n",
              " 'günaşırı',\n",
              " 'günbegün',\n",
              " 'günde',\n",
              " 'gündüz',\n",
              " 'gündüzleri',\n",
              " 'gündüzleyin',\n",
              " 'gündüzün',\n",
              " 'günlerce',\n",
              " 'günübirlik',\n",
              " 'günübirliğine',\n",
              " 'güpegündüz',\n",
              " 'gürpedek',\n",
              " 'güya',\n",
              " 'güzel',\n",
              " 'güzelim',\n",
              " 'güzellikle',\n",
              " 'güzün',\n",
              " 'güç',\n",
              " 'güçbela',\n",
              " 'güçlükle',\n",
              " 'gırla',\n",
              " 'gıyaben',\n",
              " 'gıyabında',\n",
              " 'h',\n",
              " 'ha',\n",
              " 'haa',\n",
              " 'habire',\n",
              " 'hacmen',\n",
              " 'haddizatında',\n",
              " 'hadi',\n",
              " 'hadisene',\n",
              " 'hafazanallah',\n",
              " 'hafif',\n",
              " 'hafiften',\n",
              " 'hafta',\n",
              " 'haftalarca',\n",
              " 'hah',\n",
              " 'hain',\n",
              " 'haincesine',\n",
              " 'hakeza',\n",
              " 'hakikat',\n",
              " 'hakikaten',\n",
              " 'hakimane',\n",
              " 'hakkında',\n",
              " 'hakkıyla',\n",
              " 'hala',\n",
              " 'halbuki',\n",
              " 'halde',\n",
              " 'halen',\n",
              " 'halihazırda',\n",
              " 'halisane',\n",
              " 'haliyle',\n",
              " 'hamdolsun',\n",
              " 'hamilen',\n",
              " 'handiyse',\n",
              " 'hangi',\n",
              " 'hangisi',\n",
              " 'hani',\n",
              " 'hanımanne',\n",
              " 'hapur',\n",
              " 'harfiyen',\n",
              " 'haricen',\n",
              " 'harika',\n",
              " 'hariç',\n",
              " 'harrangürra',\n",
              " 'hart',\n",
              " 'hartadak',\n",
              " 'hasbelkader',\n",
              " 'hasebiyle',\n",
              " 'hasmane',\n",
              " 'hassaten',\n",
              " 'hasılı',\n",
              " 'hatta',\n",
              " 'havadan',\n",
              " 'hay',\n",
              " 'hayalen',\n",
              " 'haybeden',\n",
              " 'hayda',\n",
              " 'haydi',\n",
              " 'haydin',\n",
              " 'haydindi',\n",
              " 'haydisene',\n",
              " 'hayfa',\n",
              " 'hayhay',\n",
              " 'hayli',\n",
              " 'hayret',\n",
              " 'hayretle',\n",
              " 'hayrola',\n",
              " 'haysiyetiyle',\n",
              " 'hayıf',\n",
              " 'hayır',\n",
              " 'haza',\n",
              " 'hazret',\n",
              " 'hazır',\n",
              " 'haşa',\n",
              " 'haşin',\n",
              " 'he',\n",
              " 'helalinden',\n",
              " 'hele',\n",
              " 'hem',\n",
              " 'hemen',\n",
              " 'hemencecik',\n",
              " 'henüz',\n",
              " 'hep',\n",
              " 'hepsi',\n",
              " 'hepsine',\n",
              " 'hepsini',\n",
              " 'hepten',\n",
              " 'her',\n",
              " 'her biri',\n",
              " 'herbiri',\n",
              " 'herhangi',\n",
              " 'herhâlde',\n",
              " 'herkes',\n",
              " 'herkese',\n",
              " 'herkesi',\n",
              " 'herkesin',\n",
              " 'herzaman',\n",
              " 'hey',\n",
              " 'heyetiyle',\n",
              " 'heyhat',\n",
              " 'hilkaten',\n",
              " 'hitaben',\n",
              " 'hiç',\n",
              " 'hiç kimse',\n",
              " 'hiçbir',\n",
              " 'hiçbiri',\n",
              " 'hiçbirine',\n",
              " 'hiçbirini',\n",
              " 'hiçten',\n",
              " 'hiş',\n",
              " 'hişt',\n",
              " 'hodbehot',\n",
              " 'hop',\n",
              " 'hoppadak',\n",
              " 'hoppala',\n",
              " 'hoyrat',\n",
              " 'hoş',\n",
              " 'hoşt',\n",
              " 'hoşçakal',\n",
              " 'hu',\n",
              " 'hukuken',\n",
              " 'hulasaten',\n",
              " 'hurra',\n",
              " 'husumetkâr',\n",
              " 'hususuyla',\n",
              " 'hâkimane',\n",
              " 'hâlbuki',\n",
              " 'hâlen',\n",
              " 'hâlihazırda',\n",
              " 'hâliyle',\n",
              " 'hâlâ',\n",
              " 'hâşâ',\n",
              " 'höst',\n",
              " 'höt',\n",
              " 'hücum',\n",
              " 'hükmen',\n",
              " 'hülasa',\n",
              " 'hülasaten',\n",
              " 'hür',\n",
              " 'hürmeten',\n",
              " 'hürmetkârane',\n",
              " 'hürya',\n",
              " 'hımhım',\n",
              " 'hıncahınç',\n",
              " 'hınk',\n",
              " 'hızla',\n",
              " 'hızlı',\n",
              " 'i',\n",
              " 'ibne',\n",
              " 'icabında',\n",
              " 'idareten',\n",
              " 'ihtimal',\n",
              " 'ihtiyaten',\n",
              " 'iken',\n",
              " 'iki',\n",
              " 'ikinci',\n",
              " 'ikindi',\n",
              " 'ikindileri',\n",
              " 'ikindiyin',\n",
              " 'ikindiüstü',\n",
              " 'ikindiüzeri',\n",
              " 'ikişer',\n",
              " 'iktisaden',\n",
              " 'ila',\n",
              " 'ilanihaye',\n",
              " 'ile',\n",
              " 'ilelebet',\n",
              " 'ilen',\n",
              " 'ileri',\n",
              " 'ileride',\n",
              " 'ilgili',\n",
              " 'ilişkin',\n",
              " 'ilk',\n",
              " 'ilkbahar',\n",
              " 'ilkin',\n",
              " 'ilkten',\n",
              " 'ilkönce',\n",
              " 'illa',\n",
              " 'illaki',\n",
              " 'ille',\n",
              " 'illâ',\n",
              " 'illâki',\n",
              " 'illâllah',\n",
              " 'ilâ',\n",
              " 'ilânen',\n",
              " 'ilâveten',\n",
              " 'imdat',\n",
              " 'imdi',\n",
              " 'inadına',\n",
              " 'incecikten',\n",
              " 'indinde',\n",
              " 'inen',\n",
              " 'insaf',\n",
              " 'insermi',\n",
              " 'inşallah',\n",
              " 'iptida',\n",
              " 'iptidaları',\n",
              " 'irsen',\n",
              " 'irticalen',\n",
              " 'isabet',\n",
              " 'ise',\n",
              " 'ismen',\n",
              " 'isnaden',\n",
              " 'ister',\n",
              " 'istinaden',\n",
              " 'ithafen',\n",
              " 'itibaren',\n",
              " 'itibariyle',\n",
              " 'itibarıyla',\n",
              " 'itoğluit',\n",
              " 'ivedi',\n",
              " 'ivedilikle',\n",
              " 'iyi',\n",
              " 'iyice',\n",
              " 'iyicene',\n",
              " 'iyilikle',\n",
              " 'izafeten',\n",
              " 'içeri',\n",
              " 'için',\n",
              " 'içinde',\n",
              " 'içre',\n",
              " 'içten',\n",
              " 'içtenlikle',\n",
              " 'iğrenç',\n",
              " 'iş',\n",
              " 'işte',\n",
              " 'iştiraken',\n",
              " 'j',\n",
              " 'k',\n",
              " 'kabaca',\n",
              " 'kabala',\n",
              " 'kablelmilat',\n",
              " 'kadar',\n",
              " 'kafadan',\n",
              " 'kaffesi',\n",
              " 'kah',\n",
              " 'kahrolsun',\n",
              " 'kala',\n",
              " 'kalben',\n",
              " 'kalender',\n",
              " 'kamera',\n",
              " 'kanalıyla',\n",
              " 'kanunen',\n",
              " 'kanımca',\n",
              " 'kapkara',\n",
              " 'kararlamadan',\n",
              " 'kardeş',\n",
              " 'kargatulumba',\n",
              " 'karşı',\n",
              " 'karşıllıklı',\n",
              " ...]"
            ]
          },
          "metadata": {
            "tags": []
          },
          "execution_count": 14
        }
      ]
    },
    {
      "cell_type": "markdown",
      "metadata": {
        "colab_type": "text",
        "id": "4LDZVG50-F3O"
      },
      "source": [
        "# Pre-Processing\n",
        "\n",
        "Entrylere ön işleme adımları uygulanır. Bu adımlar:\n",
        "\n",
        "\n",
        "1.   Bütün harflerin küçük harf haline getirilmesi\n",
        "\n",
        "2.   '**bkz**', '**--- spoiler ---**', '**spoiler**', '**#12341324**' (gibi böyle rakamların devam ettiği) entrylerin verisetinden çıkarılması gerekmektedir.\n",
        "\n",
        "3. Entrylerden stop words'ler silinmelidir.\n",
        "\n",
        "4. Web sitelerinin temizlenmesi\n",
        "\n",
        "5. Noktalama işaretlerinin temizlenmesi\n",
        "\n",
        "6. Rakamların temizlenmesi\n",
        "\n",
        "7. Stemming kullanılması\n",
        "\n",
        "Temizlenme işlemlerinde empty string yerine space (' ') ile replace edilerek yapılmalıdır. Arından da fazla boşluklar vs trim edilmelidir.\n",
        "\n",
        "```[+-]?([0-9]*)([.][0-9])?``` regex olarak kullanılacak hem rakamların silinmesinde hem de ondaklı sayıların silinmesinde --> buna gerek kalmadı\n"
      ]
    },
    {
      "cell_type": "markdown",
      "metadata": {
        "colab_type": "text",
        "id": "XklzLH_pJl5s"
      },
      "source": [
        "Entrylerdeki harfler küçük harf haline getirilir"
      ]
    },
    {
      "cell_type": "code",
      "metadata": {
        "colab_type": "code",
        "id": "LVH3wd0AJqtG",
        "colab": {}
      },
      "source": [
        "df['entry'] = df['entry'].str.lower()"
      ],
      "execution_count": 0,
      "outputs": []
    },
    {
      "cell_type": "markdown",
      "metadata": {
        "colab_type": "text",
        "id": "DdaLFbvbCm8r"
      },
      "source": [
        "Dataframe içerisindeki bütün entrylere '**bkz**', '**spoiler**', '**#**' içerip içermediğine bakar ve bunun sonucu index numarasıyla birlikte döner. ```15 True``` gibi bu demek oluyor ki 15 numaralı index bizim yazmış olduğumuz koşulu sağlamaktadır."
      ]
    },
    {
      "cell_type": "code",
      "metadata": {
        "colab_type": "code",
        "id": "4i_BlXDr-BbQ",
        "colab": {}
      },
      "source": [
        "indexes_contains_unwanted_words = df['entry'].str.contains('|'.join(['bkz', 'spoiler', r'#\\d*']))"
      ],
      "execution_count": 0,
      "outputs": []
    },
    {
      "cell_type": "markdown",
      "metadata": {
        "colab_type": "text",
        "id": "boufiWfHDrIu"
      },
      "source": [
        "Dataframe'den ilgili entryler çıkartılır"
      ]
    },
    {
      "cell_type": "code",
      "metadata": {
        "colab_type": "code",
        "id": "NEJVm7ALDuo2",
        "outputId": "8265dda9-4c52-4e21-c1f3-2996f335851e",
        "colab": {
          "base_uri": "https://localhost:8080/",
          "height": 35
        }
      },
      "source": [
        "df = df[~indexes_contains_unwanted_words]\n",
        "df.shape[0]"
      ],
      "execution_count": 0,
      "outputs": [
        {
          "output_type": "execute_result",
          "data": {
            "text/plain": [
              "524840"
            ]
          },
          "metadata": {
            "tags": []
          },
          "execution_count": 40
        }
      ]
    },
    {
      "cell_type": "markdown",
      "metadata": {
        "colab_type": "text",
        "id": "Y0-z8E6OIFNh"
      },
      "source": [
        "Entrylerden stop words silinir.   --> Bu kısım gerekmeyebilir\n"
      ]
    },
    {
      "cell_type": "code",
      "metadata": {
        "colab_type": "code",
        "id": "sxy9T9seILBC",
        "outputId": "a4912768-609f-4d18-e5f5-17517c02ffe9",
        "colab": {
          "base_uri": "https://localhost:8080/",
          "height": 358
        }
      },
      "source": [
        "df['entry'] = df['entry'].str.replace('|'.join(stop_word_list), ' ')"
      ],
      "execution_count": 0,
      "outputs": [
        {
          "output_type": "error",
          "ename": "KeyboardInterrupt",
          "evalue": "ignored",
          "traceback": [
            "\u001b[0;31m---------------------------------------------------------------------------\u001b[0m",
            "\u001b[0;31mKeyboardInterrupt\u001b[0m                         Traceback (most recent call last)",
            "\u001b[0;32m<ipython-input-19-ff18ff46231d>\u001b[0m in \u001b[0;36m<module>\u001b[0;34m()\u001b[0m\n\u001b[0;32m----> 1\u001b[0;31m \u001b[0mdf\u001b[0m\u001b[0;34m[\u001b[0m\u001b[0;34m'entry'\u001b[0m\u001b[0;34m]\u001b[0m \u001b[0;34m=\u001b[0m \u001b[0mdf\u001b[0m\u001b[0;34m[\u001b[0m\u001b[0;34m'entry'\u001b[0m\u001b[0;34m]\u001b[0m\u001b[0;34m.\u001b[0m\u001b[0mstr\u001b[0m\u001b[0;34m.\u001b[0m\u001b[0mreplace\u001b[0m\u001b[0;34m(\u001b[0m\u001b[0;34m'|'\u001b[0m\u001b[0;34m.\u001b[0m\u001b[0mjoin\u001b[0m\u001b[0;34m(\u001b[0m\u001b[0mstop_word_list\u001b[0m\u001b[0;34m)\u001b[0m\u001b[0;34m,\u001b[0m \u001b[0;34m' '\u001b[0m\u001b[0;34m)\u001b[0m\u001b[0;34m\u001b[0m\u001b[0;34m\u001b[0m\u001b[0m\n\u001b[0m",
            "\u001b[0;32m/usr/local/lib/python3.6/dist-packages/pandas/core/strings.py\u001b[0m in \u001b[0;36mwrapper\u001b[0;34m(self, *args, **kwargs)\u001b[0m\n\u001b[1;32m   1841\u001b[0m                 )\n\u001b[1;32m   1842\u001b[0m                 \u001b[0;32mraise\u001b[0m \u001b[0mTypeError\u001b[0m\u001b[0;34m(\u001b[0m\u001b[0mmsg\u001b[0m\u001b[0;34m)\u001b[0m\u001b[0;34m\u001b[0m\u001b[0;34m\u001b[0m\u001b[0m\n\u001b[0;32m-> 1843\u001b[0;31m             \u001b[0;32mreturn\u001b[0m \u001b[0mfunc\u001b[0m\u001b[0;34m(\u001b[0m\u001b[0mself\u001b[0m\u001b[0;34m,\u001b[0m \u001b[0;34m*\u001b[0m\u001b[0margs\u001b[0m\u001b[0;34m,\u001b[0m \u001b[0;34m**\u001b[0m\u001b[0mkwargs\u001b[0m\u001b[0;34m)\u001b[0m\u001b[0;34m\u001b[0m\u001b[0;34m\u001b[0m\u001b[0m\n\u001b[0m\u001b[1;32m   1844\u001b[0m \u001b[0;34m\u001b[0m\u001b[0m\n\u001b[1;32m   1845\u001b[0m         \u001b[0mwrapper\u001b[0m\u001b[0;34m.\u001b[0m\u001b[0m__name__\u001b[0m \u001b[0;34m=\u001b[0m \u001b[0mfunc_name\u001b[0m\u001b[0;34m\u001b[0m\u001b[0;34m\u001b[0m\u001b[0m\n",
            "\u001b[0;32m/usr/local/lib/python3.6/dist-packages/pandas/core/strings.py\u001b[0m in \u001b[0;36mreplace\u001b[0;34m(self, pat, repl, n, case, flags, regex)\u001b[0m\n\u001b[1;32m   2714\u001b[0m     \u001b[0;32mdef\u001b[0m \u001b[0mreplace\u001b[0m\u001b[0;34m(\u001b[0m\u001b[0mself\u001b[0m\u001b[0;34m,\u001b[0m \u001b[0mpat\u001b[0m\u001b[0;34m,\u001b[0m \u001b[0mrepl\u001b[0m\u001b[0;34m,\u001b[0m \u001b[0mn\u001b[0m\u001b[0;34m=\u001b[0m\u001b[0;34m-\u001b[0m\u001b[0;36m1\u001b[0m\u001b[0;34m,\u001b[0m \u001b[0mcase\u001b[0m\u001b[0;34m=\u001b[0m\u001b[0;32mNone\u001b[0m\u001b[0;34m,\u001b[0m \u001b[0mflags\u001b[0m\u001b[0;34m=\u001b[0m\u001b[0;36m0\u001b[0m\u001b[0;34m,\u001b[0m \u001b[0mregex\u001b[0m\u001b[0;34m=\u001b[0m\u001b[0;32mTrue\u001b[0m\u001b[0;34m)\u001b[0m\u001b[0;34m:\u001b[0m\u001b[0;34m\u001b[0m\u001b[0;34m\u001b[0m\u001b[0m\n\u001b[1;32m   2715\u001b[0m         result = str_replace(\n\u001b[0;32m-> 2716\u001b[0;31m             \u001b[0mself\u001b[0m\u001b[0;34m.\u001b[0m\u001b[0m_parent\u001b[0m\u001b[0;34m,\u001b[0m \u001b[0mpat\u001b[0m\u001b[0;34m,\u001b[0m \u001b[0mrepl\u001b[0m\u001b[0;34m,\u001b[0m \u001b[0mn\u001b[0m\u001b[0;34m=\u001b[0m\u001b[0mn\u001b[0m\u001b[0;34m,\u001b[0m \u001b[0mcase\u001b[0m\u001b[0;34m=\u001b[0m\u001b[0mcase\u001b[0m\u001b[0;34m,\u001b[0m \u001b[0mflags\u001b[0m\u001b[0;34m=\u001b[0m\u001b[0mflags\u001b[0m\u001b[0;34m,\u001b[0m \u001b[0mregex\u001b[0m\u001b[0;34m=\u001b[0m\u001b[0mregex\u001b[0m\u001b[0;34m\u001b[0m\u001b[0;34m\u001b[0m\u001b[0m\n\u001b[0m\u001b[1;32m   2717\u001b[0m         )\n\u001b[1;32m   2718\u001b[0m         \u001b[0;32mreturn\u001b[0m \u001b[0mself\u001b[0m\u001b[0;34m.\u001b[0m\u001b[0m_wrap_result\u001b[0m\u001b[0;34m(\u001b[0m\u001b[0mresult\u001b[0m\u001b[0;34m)\u001b[0m\u001b[0;34m\u001b[0m\u001b[0;34m\u001b[0m\u001b[0m\n",
            "\u001b[0;32m/usr/local/lib/python3.6/dist-packages/pandas/core/strings.py\u001b[0m in \u001b[0;36mstr_replace\u001b[0;34m(arr, pat, repl, n, case, flags, regex)\u001b[0m\n\u001b[1;32m    630\u001b[0m         \u001b[0mf\u001b[0m \u001b[0;34m=\u001b[0m \u001b[0;32mlambda\u001b[0m \u001b[0mx\u001b[0m\u001b[0;34m:\u001b[0m \u001b[0mx\u001b[0m\u001b[0;34m.\u001b[0m\u001b[0mreplace\u001b[0m\u001b[0;34m(\u001b[0m\u001b[0mpat\u001b[0m\u001b[0;34m,\u001b[0m \u001b[0mrepl\u001b[0m\u001b[0;34m,\u001b[0m \u001b[0mn\u001b[0m\u001b[0;34m)\u001b[0m\u001b[0;34m\u001b[0m\u001b[0;34m\u001b[0m\u001b[0m\n\u001b[1;32m    631\u001b[0m \u001b[0;34m\u001b[0m\u001b[0m\n\u001b[0;32m--> 632\u001b[0;31m     \u001b[0;32mreturn\u001b[0m \u001b[0m_na_map\u001b[0m\u001b[0;34m(\u001b[0m\u001b[0mf\u001b[0m\u001b[0;34m,\u001b[0m \u001b[0marr\u001b[0m\u001b[0;34m)\u001b[0m\u001b[0;34m\u001b[0m\u001b[0;34m\u001b[0m\u001b[0m\n\u001b[0m\u001b[1;32m    633\u001b[0m \u001b[0;34m\u001b[0m\u001b[0m\n\u001b[1;32m    634\u001b[0m \u001b[0;34m\u001b[0m\u001b[0m\n",
            "\u001b[0;32m/usr/local/lib/python3.6/dist-packages/pandas/core/strings.py\u001b[0m in \u001b[0;36m_na_map\u001b[0;34m(f, arr, na_result, dtype)\u001b[0m\n\u001b[1;32m    103\u001b[0m \u001b[0;32mdef\u001b[0m \u001b[0m_na_map\u001b[0m\u001b[0;34m(\u001b[0m\u001b[0mf\u001b[0m\u001b[0;34m,\u001b[0m \u001b[0marr\u001b[0m\u001b[0;34m,\u001b[0m \u001b[0mna_result\u001b[0m\u001b[0;34m=\u001b[0m\u001b[0mnp\u001b[0m\u001b[0;34m.\u001b[0m\u001b[0mnan\u001b[0m\u001b[0;34m,\u001b[0m \u001b[0mdtype\u001b[0m\u001b[0;34m=\u001b[0m\u001b[0mobject\u001b[0m\u001b[0;34m)\u001b[0m\u001b[0;34m:\u001b[0m\u001b[0;34m\u001b[0m\u001b[0;34m\u001b[0m\u001b[0m\n\u001b[1;32m    104\u001b[0m     \u001b[0;31m# should really _check_ for NA\u001b[0m\u001b[0;34m\u001b[0m\u001b[0;34m\u001b[0m\u001b[0;34m\u001b[0m\u001b[0m\n\u001b[0;32m--> 105\u001b[0;31m     \u001b[0;32mreturn\u001b[0m \u001b[0m_map\u001b[0m\u001b[0;34m(\u001b[0m\u001b[0mf\u001b[0m\u001b[0;34m,\u001b[0m \u001b[0marr\u001b[0m\u001b[0;34m,\u001b[0m \u001b[0mna_mask\u001b[0m\u001b[0;34m=\u001b[0m\u001b[0;32mTrue\u001b[0m\u001b[0;34m,\u001b[0m \u001b[0mna_value\u001b[0m\u001b[0;34m=\u001b[0m\u001b[0mna_result\u001b[0m\u001b[0;34m,\u001b[0m \u001b[0mdtype\u001b[0m\u001b[0;34m=\u001b[0m\u001b[0mdtype\u001b[0m\u001b[0;34m)\u001b[0m\u001b[0;34m\u001b[0m\u001b[0;34m\u001b[0m\u001b[0m\n\u001b[0m\u001b[1;32m    106\u001b[0m \u001b[0;34m\u001b[0m\u001b[0m\n\u001b[1;32m    107\u001b[0m \u001b[0;34m\u001b[0m\u001b[0m\n",
            "\u001b[0;32m/usr/local/lib/python3.6/dist-packages/pandas/core/strings.py\u001b[0m in \u001b[0;36m_map\u001b[0;34m(f, arr, na_mask, na_value, dtype)\u001b[0m\n\u001b[1;32m    118\u001b[0m         \u001b[0;32mtry\u001b[0m\u001b[0;34m:\u001b[0m\u001b[0;34m\u001b[0m\u001b[0;34m\u001b[0m\u001b[0m\n\u001b[1;32m    119\u001b[0m             \u001b[0mconvert\u001b[0m \u001b[0;34m=\u001b[0m \u001b[0;32mnot\u001b[0m \u001b[0mall\u001b[0m\u001b[0;34m(\u001b[0m\u001b[0mmask\u001b[0m\u001b[0;34m)\u001b[0m\u001b[0;34m\u001b[0m\u001b[0;34m\u001b[0m\u001b[0m\n\u001b[0;32m--> 120\u001b[0;31m             \u001b[0mresult\u001b[0m \u001b[0;34m=\u001b[0m \u001b[0mlib\u001b[0m\u001b[0;34m.\u001b[0m\u001b[0mmap_infer_mask\u001b[0m\u001b[0;34m(\u001b[0m\u001b[0marr\u001b[0m\u001b[0;34m,\u001b[0m \u001b[0mf\u001b[0m\u001b[0;34m,\u001b[0m \u001b[0mmask\u001b[0m\u001b[0;34m.\u001b[0m\u001b[0mview\u001b[0m\u001b[0;34m(\u001b[0m\u001b[0mnp\u001b[0m\u001b[0;34m.\u001b[0m\u001b[0muint8\u001b[0m\u001b[0;34m)\u001b[0m\u001b[0;34m,\u001b[0m \u001b[0mconvert\u001b[0m\u001b[0;34m)\u001b[0m\u001b[0;34m\u001b[0m\u001b[0;34m\u001b[0m\u001b[0m\n\u001b[0m\u001b[1;32m    121\u001b[0m         \u001b[0;32mexcept\u001b[0m \u001b[0;34m(\u001b[0m\u001b[0mTypeError\u001b[0m\u001b[0;34m,\u001b[0m \u001b[0mAttributeError\u001b[0m\u001b[0;34m)\u001b[0m \u001b[0;32mas\u001b[0m \u001b[0me\u001b[0m\u001b[0;34m:\u001b[0m\u001b[0;34m\u001b[0m\u001b[0;34m\u001b[0m\u001b[0m\n\u001b[1;32m    122\u001b[0m             \u001b[0;31m# Reraise the exception if callable `f` got wrong number of args.\u001b[0m\u001b[0;34m\u001b[0m\u001b[0;34m\u001b[0m\u001b[0;34m\u001b[0m\u001b[0m\n",
            "\u001b[0;32mpandas/_libs/lib.pyx\u001b[0m in \u001b[0;36mpandas._libs.lib.map_infer_mask\u001b[0;34m()\u001b[0m\n",
            "\u001b[0;32m/usr/local/lib/python3.6/dist-packages/pandas/core/strings.py\u001b[0m in \u001b[0;36m<lambda>\u001b[0;34m(x)\u001b[0m\n\u001b[1;32m    618\u001b[0m             \u001b[0mn\u001b[0m \u001b[0;34m=\u001b[0m \u001b[0mn\u001b[0m \u001b[0;32mif\u001b[0m \u001b[0mn\u001b[0m \u001b[0;34m>=\u001b[0m \u001b[0;36m0\u001b[0m \u001b[0;32melse\u001b[0m \u001b[0;36m0\u001b[0m\u001b[0;34m\u001b[0m\u001b[0;34m\u001b[0m\u001b[0m\n\u001b[1;32m    619\u001b[0m             \u001b[0mcompiled\u001b[0m \u001b[0;34m=\u001b[0m \u001b[0mre\u001b[0m\u001b[0;34m.\u001b[0m\u001b[0mcompile\u001b[0m\u001b[0;34m(\u001b[0m\u001b[0mpat\u001b[0m\u001b[0;34m,\u001b[0m \u001b[0mflags\u001b[0m\u001b[0;34m=\u001b[0m\u001b[0mflags\u001b[0m\u001b[0;34m)\u001b[0m\u001b[0;34m\u001b[0m\u001b[0;34m\u001b[0m\u001b[0m\n\u001b[0;32m--> 620\u001b[0;31m             \u001b[0mf\u001b[0m \u001b[0;34m=\u001b[0m \u001b[0;32mlambda\u001b[0m \u001b[0mx\u001b[0m\u001b[0;34m:\u001b[0m \u001b[0mcompiled\u001b[0m\u001b[0;34m.\u001b[0m\u001b[0msub\u001b[0m\u001b[0;34m(\u001b[0m\u001b[0mrepl\u001b[0m\u001b[0;34m=\u001b[0m\u001b[0mrepl\u001b[0m\u001b[0;34m,\u001b[0m \u001b[0mstring\u001b[0m\u001b[0;34m=\u001b[0m\u001b[0mx\u001b[0m\u001b[0;34m,\u001b[0m \u001b[0mcount\u001b[0m\u001b[0;34m=\u001b[0m\u001b[0mn\u001b[0m\u001b[0;34m)\u001b[0m\u001b[0;34m\u001b[0m\u001b[0;34m\u001b[0m\u001b[0m\n\u001b[0m\u001b[1;32m    621\u001b[0m         \u001b[0;32melse\u001b[0m\u001b[0;34m:\u001b[0m\u001b[0;34m\u001b[0m\u001b[0;34m\u001b[0m\u001b[0m\n\u001b[1;32m    622\u001b[0m             \u001b[0mf\u001b[0m \u001b[0;34m=\u001b[0m \u001b[0;32mlambda\u001b[0m \u001b[0mx\u001b[0m\u001b[0;34m:\u001b[0m \u001b[0mx\u001b[0m\u001b[0;34m.\u001b[0m\u001b[0mreplace\u001b[0m\u001b[0;34m(\u001b[0m\u001b[0mpat\u001b[0m\u001b[0;34m,\u001b[0m \u001b[0mrepl\u001b[0m\u001b[0;34m,\u001b[0m \u001b[0mn\u001b[0m\u001b[0;34m)\u001b[0m\u001b[0;34m\u001b[0m\u001b[0;34m\u001b[0m\u001b[0m\n",
            "\u001b[0;31mKeyboardInterrupt\u001b[0m: "
          ]
        }
      ]
    },
    {
      "cell_type": "markdown",
      "metadata": {
        "colab_type": "text",
        "id": "qwCxlQsEThSX"
      },
      "source": [
        "Entrylerden web site linkleri silinir."
      ]
    },
    {
      "cell_type": "code",
      "metadata": {
        "colab_type": "code",
        "id": "VcB2KrMaRqtj",
        "outputId": "5a856b55-b25d-4358-9a17-e00c20882f0f",
        "colab": {
          "base_uri": "https://localhost:8080/",
          "height": 233
        }
      },
      "source": [
        "df['entry'] = df['entry'].str.replace(r'http\\S+', ' ', regex=True)\n",
        "df['entry'] = df['entry'].str.replace(r'www\\S+', '', regex=True)"
      ],
      "execution_count": 0,
      "outputs": [
        {
          "output_type": "stream",
          "text": [
            "/usr/local/lib/python3.6/dist-packages/ipykernel_launcher.py:1: SettingWithCopyWarning: \n",
            "A value is trying to be set on a copy of a slice from a DataFrame.\n",
            "Try using .loc[row_indexer,col_indexer] = value instead\n",
            "\n",
            "See the caveats in the documentation: http://pandas.pydata.org/pandas-docs/stable/user_guide/indexing.html#returning-a-view-versus-a-copy\n",
            "  \"\"\"Entry point for launching an IPython kernel.\n",
            "/usr/local/lib/python3.6/dist-packages/ipykernel_launcher.py:2: SettingWithCopyWarning: \n",
            "A value is trying to be set on a copy of a slice from a DataFrame.\n",
            "Try using .loc[row_indexer,col_indexer] = value instead\n",
            "\n",
            "See the caveats in the documentation: http://pandas.pydata.org/pandas-docs/stable/user_guide/indexing.html#returning-a-view-versus-a-copy\n",
            "  \n"
          ],
          "name": "stderr"
        }
      ]
    },
    {
      "cell_type": "markdown",
      "metadata": {
        "id": "oXNRgz87vGLZ",
        "colab_type": "text"
      },
      "source": [
        "Entrylerden noktalama işaretleri temizlenir."
      ]
    },
    {
      "cell_type": "code",
      "metadata": {
        "id": "Wakq_66kvGLa",
        "colab_type": "code",
        "outputId": "b71f46a1-0fef-422c-b819-96b3e2bf70e3",
        "colab": {
          "base_uri": "https://localhost:8080/",
          "height": 125
        }
      },
      "source": [
        "import string\n",
        "\n",
        "df['entry'] = df['entry'].apply(lambda x: x.translate(str.maketrans(string.punctuation, ' '*len(string.punctuation))))"
      ],
      "execution_count": 0,
      "outputs": [
        {
          "output_type": "stream",
          "text": [
            "/usr/local/lib/python3.6/dist-packages/ipykernel_launcher.py:3: SettingWithCopyWarning: \n",
            "A value is trying to be set on a copy of a slice from a DataFrame.\n",
            "Try using .loc[row_indexer,col_indexer] = value instead\n",
            "\n",
            "See the caveats in the documentation: http://pandas.pydata.org/pandas-docs/stable/user_guide/indexing.html#returning-a-view-versus-a-copy\n",
            "  This is separate from the ipykernel package so we can avoid doing imports until\n"
          ],
          "name": "stderr"
        }
      ]
    },
    {
      "cell_type": "markdown",
      "metadata": {
        "id": "5PNW6PAPvGLd",
        "colab_type": "text"
      },
      "source": [
        "Entrylerden rakamlar silinir."
      ]
    },
    {
      "cell_type": "code",
      "metadata": {
        "id": "CnYY6GrTvGLe",
        "colab_type": "code",
        "outputId": "e3b5197b-917d-4240-aa92-3d7e85ed0745",
        "colab": {
          "base_uri": "https://localhost:8080/",
          "height": 125
        }
      },
      "source": [
        "df['entry'] = df['entry'].str.replace('\\d+', ' ')"
      ],
      "execution_count": 0,
      "outputs": [
        {
          "output_type": "stream",
          "text": [
            "/usr/local/lib/python3.6/dist-packages/ipykernel_launcher.py:1: SettingWithCopyWarning: \n",
            "A value is trying to be set on a copy of a slice from a DataFrame.\n",
            "Try using .loc[row_indexer,col_indexer] = value instead\n",
            "\n",
            "See the caveats in the documentation: http://pandas.pydata.org/pandas-docs/stable/user_guide/indexing.html#returning-a-view-versus-a-copy\n",
            "  \"\"\"Entry point for launching an IPython kernel.\n"
          ],
          "name": "stderr"
        }
      ]
    },
    {
      "cell_type": "markdown",
      "metadata": {
        "id": "5VFg9aCPvGLg",
        "colab_type": "text"
      },
      "source": [
        "Verisetinin stemmera sokmadan önceki ön işlemeden geçirilmiş hali kaydedilir. Buradaki amaç stemmerdan geçirilmiş ve geçirilmemiş halinin başarı açısından karşılaştırılmasının yapılabilmesi."
      ]
    },
    {
      "cell_type": "code",
      "metadata": {
        "id": "K4XI0xMXvGLh",
        "colab_type": "code",
        "colab": {}
      },
      "source": [
        "df.to_csv(\"gdrive/My Drive/mbti/preprocessed_dataset_v1.csv\", sep=';', encoding='utf-8')"
      ],
      "execution_count": 0,
      "outputs": []
    },
    {
      "cell_type": "markdown",
      "metadata": {
        "id": "jgh0Kw3kvGLk",
        "colab_type": "text"
      },
      "source": [
        "SnowballStemmer içerisinde Türkçe dili için kullanabileceğimiz TurkishStemmer import edilir. Stemmer ile kelimelerin köklerine ulaşılır. Lemmatization işlemiyle kök bulunduğu zaman elde edilen kökler biçimsel açıdan da doğru olurken (yani mantıksal açıdan da) stemmer ile elde edilen köklerde böyle bir durum söz konusu değildir. Dolayısıyla stemming edilmis hallerine bakıldıgında mantıksal açıdan düzgün sonuclar vermeyebilir."
      ]
    },
    {
      "cell_type": "markdown",
      "metadata": {
        "id": "lvdQBvV0vGLl",
        "colab_type": "text"
      },
      "source": [
        "Google Colab'a snowballstemmer ile ilgil package'i indirmek için aşağıdaki komutu çalıştırıyoruz."
      ]
    },
    {
      "cell_type": "code",
      "metadata": {
        "id": "Xy79H4kIvGLm",
        "colab_type": "code",
        "outputId": "219dbe1e-f366-4662-ce54-607a957f6c1e",
        "colab": {}
      },
      "source": [
        "!pip install snowballstemmer"
      ],
      "execution_count": 0,
      "outputs": [
        {
          "output_type": "stream",
          "text": [
            "Requirement already satisfied: snowballstemmer in /home/khan/anaconda3/lib/python3.7/site-packages (2.0.0)\r\n"
          ],
          "name": "stdout"
        }
      ]
    },
    {
      "cell_type": "code",
      "metadata": {
        "id": "IQG9fteQvGLp",
        "colab_type": "code",
        "colab": {}
      },
      "source": [
        "from snowballstemmer import TurkishStemmer"
      ],
      "execution_count": 0,
      "outputs": []
    },
    {
      "cell_type": "code",
      "metadata": {
        "id": "m8RVEUD6vGLr",
        "colab_type": "code",
        "outputId": "19847b81-b866-475f-936c-8581da44e6fc",
        "colab": {}
      },
      "source": [
        "stemmer = TurkishStemmer()\n",
        "\n",
        "row_count = df.shape[0]\n",
        "kökler = stemmer.stemWords(entry.split(\" \"))\n",
        "\n",
        "for i in range(row_count):\n",
        "    entry = df['entry'][i]\n",
        "    entry_kokler = stemmer.stemWords(entry.split(\" \"))\n",
        "    df['entry'][i] = \" \".join(entry_kokler)\n",
        "    \n",
        "df['entry']"
      ],
      "execution_count": 0,
      "outputs": [
        {
          "output_type": "execute_result",
          "data": {
            "text/plain": [
              "0      duygularnı belli etmeye in model bu be şu ara ...\n",
              "1      ankara en güzel bar ne bil biz iç sürekli gidi...\n",
              "2      ekşi itiraf vallahi dil kemik yok 50 yaş saç s...\n",
              "3      500 lira danışmanlık ücret isteye avukat hakkı...\n",
              "4      star trek enterpris yani atılga gemis ve müret...\n",
              "                             ...                        \n",
              "144    zsuat asfalt çöplük heykel ve cansız ma gip şe...\n",
              "145    zor flüt çaldıra eğit siste flüt dedik alet yu...\n",
              "146    bira içe türbanlı kız bu kon ilgil basitçe düş...\n",
              "147    autocadı öğrenmek zor olmama rağme dur lan bir...\n",
              "148    gitar ye başlayan tavsiye gitar çalmak bisikle...\n",
              "Name: entry, Length: 149, dtype: object"
            ]
          },
          "metadata": {
            "tags": []
          },
          "execution_count": 36
        }
      ]
    },
    {
      "cell_type": "markdown",
      "metadata": {
        "id": "-XigObU8vGLt",
        "colab_type": "text"
      },
      "source": [
        "Stemmera sokulmuş hali kaydedilir."
      ]
    },
    {
      "cell_type": "code",
      "metadata": {
        "id": "IP3Iam_kvGLv",
        "colab_type": "code",
        "colab": {}
      },
      "source": [
        "df.to_csv(\"gdrive/My Drive/mbti/preprocessed_dataset_v2.csv\", sep=';', encoding='utf-8')"
      ],
      "execution_count": 0,
      "outputs": []
    },
    {
      "cell_type": "markdown",
      "metadata": {
        "colab_type": "text",
        "id": "dZzvU-o2sc2w"
      },
      "source": [
        "TF-IDF özellik vektörünün çıkartılmasında kullanılacak değişken aşağıda belirlenmiş olan parametrelerle oluşturulur."
      ]
    },
    {
      "cell_type": "code",
      "metadata": {
        "id": "CbggMvzcY5ER",
        "colab_type": "code",
        "colab": {}
      },
      "source": [
        "from sklearn.feature_extraction.text import TfidfVectorizer"
      ],
      "execution_count": 0,
      "outputs": []
    },
    {
      "cell_type": "code",
      "metadata": {
        "colab_type": "code",
        "id": "wzSU9aILsc2x",
        "colab": {}
      },
      "source": [
        "tfidf_vectorizer = TfidfVectorizer(sublinear_tf=True, norm='l2', encoding='utf-8', ngram_range=(1, 2), stop_words = stop_word_list, max_features=5000, analyzer = 'word', token_pattern=r'\\w{1,}')"
      ],
      "execution_count": 0,
      "outputs": []
    },
    {
      "cell_type": "markdown",
      "metadata": {
        "id": "eX6FeaibfZvZ",
        "colab_type": "text"
      },
      "source": [
        "**Feature Extraction** \n",
        "\n",
        "Burada tf-idf vektörlerinin çıkartılmasında kullanılacak olan vocabulary oluşturulur."
      ]
    },
    {
      "cell_type": "code",
      "metadata": {
        "id": "izEeSWJIfZYQ",
        "colab_type": "code",
        "outputId": "6cca522c-423a-4fbc-f821-b97df07415c1",
        "colab": {
          "base_uri": "https://localhost:8080/",
          "height": 307
        }
      },
      "source": [
        "tfidf_vectorizer.fit(df['entry'])"
      ],
      "execution_count": 0,
      "outputs": [
        {
          "output_type": "stream",
          "text": [
            "/usr/local/lib/python3.6/dist-packages/sklearn/feature_extraction/text.py:300: UserWarning: Your stop_words may be inconsistent with your preprocessing. Tokenizing the stop words generated tokens ['lahî'] not in stop_words.\n",
            "  'stop_words.' % sorted(inconsistent))\n"
          ],
          "name": "stderr"
        },
        {
          "output_type": "execute_result",
          "data": {
            "text/plain": [
              "TfidfVectorizer(analyzer='word', binary=False, decode_error='strict',\n",
              "                dtype=<class 'numpy.float64'>, encoding='utf-8',\n",
              "                input='content', lowercase=True, max_df=1.0, max_features=5000,\n",
              "                min_df=1, ngram_range=(1, 2), norm='l2', preprocessor=None,\n",
              "                smooth_idf=True,\n",
              "                stop_words=['Hm', 'Hmm', 'Osmanlıca', 'Rabbena', 'Türkçesi',\n",
              "                            'a', 'aa', 'aaa', 'aaah', 'aah', 'abe', 'abes',\n",
              "                            'abo', 'abosa', 'abov', 'abow', 'abu', 'acaba',\n",
              "                            'acayip', 'accelerando', 'acele', 'aceleten',\n",
              "                            'acep', 'acilen', 'acımasız', 'acımasızcasına',\n",
              "                            'adamakıllı', 'adamcasına', 'adedî', 'adeta', ...],\n",
              "                strip_accents=None, sublinear_tf=True, token_pattern='\\\\w{1,}',\n",
              "                tokenizer=None, use_idf=True, vocabulary=None)"
            ]
          },
          "metadata": {
            "tags": []
          },
          "execution_count": 17
        }
      ]
    },
    {
      "cell_type": "markdown",
      "metadata": {
        "id": "JRTpmz32fOtg",
        "colab_type": "text"
      },
      "source": [
        "Veriseti train ve test olmak üzere ikiye ayrılır. Test %20 ve train %80'ini oluşturacak şekilde tüm veriseti bölünür. random_state parametresi ile tekrardan bölündüğünde bir öncekiyle aynı train ve test veri setlerinin oluşturulması sağlanır."
      ]
    },
    {
      "cell_type": "code",
      "metadata": {
        "id": "CbObRS01fIzb",
        "colab_type": "code",
        "colab": {}
      },
      "source": [
        "from sklearn.model_selection import train_test_split"
      ],
      "execution_count": 0,
      "outputs": []
    },
    {
      "cell_type": "code",
      "metadata": {
        "id": "k1skQ7bRfLyQ",
        "colab_type": "code",
        "colab": {}
      },
      "source": [
        "X_train, X_test, y_train, y_test = train_test_split(df['entry'], df['typeClass'], random_state = 42, test_size = 0.20)"
      ],
      "execution_count": 0,
      "outputs": []
    },
    {
      "cell_type": "markdown",
      "metadata": {
        "id": "dUjGVe2ufm9D",
        "colab_type": "text"
      },
      "source": [
        "Train ve test datasetlerinden tf-idf vektörleri çıkartılır\n"
      ]
    },
    {
      "cell_type": "code",
      "metadata": {
        "id": "5WWZ5iZzfmm1",
        "colab_type": "code",
        "colab": {}
      },
      "source": [
        "X_train_tfidf = tfidf_vectorizer.transform(X_train)\n",
        "X_test_tfidf = tfidf_vectorizer.transform(X_test)"
      ],
      "execution_count": 0,
      "outputs": []
    },
    {
      "cell_type": "markdown",
      "metadata": {
        "colab_type": "text",
        "id": "wSJEY4Ursc3A"
      },
      "source": [
        "Multinominal Naive Bayes modeli oluşturulur. Oluşturulan bu model verisetinde \"type\" olarak belirtilen \"analysts\", \"diplomats\", \"sentimenls\", \"explorers\" sınıflarından hangilerine ait olduğunu tahmin etmek için kullanılır"
      ]
    },
    {
      "cell_type": "code",
      "metadata": {
        "colab_type": "code",
        "id": "_AJnVOjgsc3B",
        "colab": {}
      },
      "source": [
        "from sklearn.naive_bayes import MultinomialNB"
      ],
      "execution_count": 0,
      "outputs": []
    },
    {
      "cell_type": "code",
      "metadata": {
        "colab_type": "code",
        "id": "OGbLV_2tRy6d",
        "colab": {}
      },
      "source": [
        "clf = MultinomialNB().fit(X_train_tfidf, y_train)\n",
        "test_typeClass = y_test.values\n",
        "\n",
        "predictions = clf.predict(X_test_tfidf)"
      ],
      "execution_count": 0,
      "outputs": []
    },
    {
      "cell_type": "code",
      "metadata": {
        "id": "7i8gHOU0ipzw",
        "colab_type": "code",
        "outputId": "49cf9cfd-a04c-4bc3-e8ed-39c2bda8549d",
        "colab": {
          "base_uri": "https://localhost:8080/",
          "height": 53
        }
      },
      "source": [
        "predictions"
      ],
      "execution_count": 0,
      "outputs": [
        {
          "output_type": "execute_result",
          "data": {
            "text/plain": [
              "array(['analysts', 'analysts', 'analysts', ..., 'analysts', 'diplomats',\n",
              "       'analysts'], dtype='<U9')"
            ]
          },
          "metadata": {
            "tags": []
          },
          "execution_count": 23
        }
      ]
    },
    {
      "cell_type": "markdown",
      "metadata": {
        "colab_type": "text",
        "id": "HVUImvDlHPXa"
      },
      "source": [
        "<span style=\"font-size:1.1em\">Yapılacak tahminlerle ilgili istatistiksel verileri tutmak için</span> ```predictions_result```<span style=\"font-size:1.1em\"> adında bir değişken oluşturulur.</span>\n",
        "\n",
        "<span style=\"font-size:1.1em\">Bu değişkenin yapısı aşağıdaki gibidir.</span>\n",
        "\n",
        "```json\n",
        "{\n",
        "    \"predicted\": {\n",
        "        \"analysts\":  { \"actual\": {\"analysts\": 0, \"diplomats\": 0, \"explorers\": 0, \"sentinels\": 0} }\n",
        "        \"diplomats\": { \"actual\": {\"analysts\": 0, \"diplomats\": 0, \"explorers\": 0, \"sentinels\": 0} }\n",
        "        \"explorers\": { \"actual\": {\"analysts\": 0, \"diplomats\": 0, \"explorers\": 0, \"sentinels\": 0} }\n",
        "        \"sentinels\": { \"actual\": {\"analysts\": 0, \"diplomats\": 0, \"explorers\": 0, \"sentinels\": 0} }\n",
        "    }\n",
        "}\n",
        "```\n",
        "\n",
        "* <span style=\"font-size:1.1em;\">Yapılan tahminlerle ilgili verilere ulaşabilmek için</span>\n",
        "\n",
        "    ```predictions_results['predicted']```\n",
        "\n",
        "\n",
        "* <span style=\"font-size:1.1em;\">Yapılan tahminin analyst ise:</span>\n",
        "\n",
        "    ```predictions_results['predicted']['analysts']``` \n",
        "\n",
        "\n",
        "* <span style=\"font-size:1.1em;\">Yapılan analyst tahmininin gerçek değerlerine erişmek için:</span>     \n",
        "\n",
        "    ```predictions_results['predicted']['analysts']['actual']```  \n",
        "\n",
        "\n",
        "* <span style=\"font-size:1.1em;\">Test verisi, model tarafından analysts olarak tahmin edilmiştir ve bu verinin gerçek değeri de analysts'tir.</span>\n",
        "\n",
        "    ```predictions_results['predicted']['analysts']['actual']['analysts']``` "
      ]
    },
    {
      "cell_type": "code",
      "metadata": {
        "colab_type": "code",
        "id": "DD0xZXNNsc3F",
        "colab": {}
      },
      "source": [
        "prediction_results = {'predicted': {}}  ## prediction_result['analysts'] means prediction is 'analysts'\n",
        "\n",
        "prediction_results['predicted']['analysts']  = {'actual': {'analysts': 0, 'diplomats': 0, 'explorers': 0, 'sentinels': 0}}\n",
        "prediction_results['predicted']['diplomats'] = {'actual': {'analysts': 0, 'diplomats': 0, 'explorers': 0, 'sentinels': 0}}\n",
        "prediction_results['predicted']['explorers'] = {'actual': {'analysts': 0, 'diplomats': 0, 'explorers': 0, 'sentinels': 0}}\n",
        "prediction_results['predicted']['sentinels'] = {'actual': {'analysts': 0, 'diplomats': 0, 'explorers': 0, 'sentinels': 0}}\n",
        "\n",
        "## prediction_result['analysts']['diplomats'] means prediction is analysts but actual value is diplomats"
      ],
      "execution_count": 0,
      "outputs": []
    },
    {
      "cell_type": "markdown",
      "metadata": {
        "colab_type": "text",
        "id": "YOFYyew6HPXl"
      },
      "source": [
        "```prediction_results```<span style=\"font-size:1.1em\"> içerisinde tutulan sayaçların değerleri arttırılır.</span>"
      ]
    },
    {
      "cell_type": "code",
      "metadata": {
        "colab_type": "code",
        "id": "Kc7adxOMfmKj",
        "colab": {}
      },
      "source": [
        "for i in range(len(predictions)):\n",
        "  predicted_value = predictions[i]\n",
        "  actual_value = test_typeClass[i]\n",
        "  prediction_results['predicted'][predicted_value]['actual'][actual_value] += 1"
      ],
      "execution_count": 0,
      "outputs": []
    },
    {
      "cell_type": "markdown",
      "metadata": {
        "colab_type": "text",
        "id": "4FDMu4kXHPXr"
      },
      "source": [
        "<span style=\"font-size:1.1em\">JSON formatına çevrilir </span>```dict``` <span style=\"font-size:1.1em\">tipi. Bu sayede daha okunaklı bir şekilde print edilmiş olur. </span>"
      ]
    },
    {
      "cell_type": "code",
      "metadata": {
        "colab_type": "code",
        "id": "4gGDav5qgVQh",
        "outputId": "44c742b4-8b23-4c75-dc80-cee0338fb160",
        "scrolled": false,
        "colab": {
          "base_uri": "https://localhost:8080/",
          "height": 665
        }
      },
      "source": [
        "import json\n",
        "\n",
        "print(json.dumps(prediction_results, indent = 2))"
      ],
      "execution_count": 0,
      "outputs": [
        {
          "output_type": "stream",
          "text": [
            "{\n",
            "  \"predicted\": {\n",
            "    \"analysts\": {\n",
            "      \"actual\": {\n",
            "        \"analysts\": 38435,\n",
            "        \"diplomats\": 28056,\n",
            "        \"explorers\": 10084,\n",
            "        \"sentinels\": 17542\n",
            "      }\n",
            "    },\n",
            "    \"diplomats\": {\n",
            "      \"actual\": {\n",
            "        \"analysts\": 9521,\n",
            "        \"diplomats\": 16309,\n",
            "        \"explorers\": 3348,\n",
            "        \"sentinels\": 5030\n",
            "      }\n",
            "    },\n",
            "    \"explorers\": {\n",
            "      \"actual\": {\n",
            "        \"analysts\": 0,\n",
            "        \"diplomats\": 1,\n",
            "        \"explorers\": 0,\n",
            "        \"sentinels\": 2\n",
            "      }\n",
            "    },\n",
            "    \"sentinels\": {\n",
            "      \"actual\": {\n",
            "        \"analysts\": 95,\n",
            "        \"diplomats\": 123,\n",
            "        \"explorers\": 47,\n",
            "        \"sentinels\": 190\n",
            "      }\n",
            "    }\n",
            "  }\n",
            "}\n"
          ],
          "name": "stdout"
        }
      ]
    },
    {
      "cell_type": "markdown",
      "metadata": {
        "colab_type": "text",
        "id": "Uw8Sx7TsHPX1"
      },
      "source": [
        "<span style=\"font-size:1.1em;\">İlgili field extract edilir</span> ```dict``` <span style=\"font-size:1.1em;\">yapısından.</span>"
      ]
    },
    {
      "cell_type": "code",
      "metadata": {
        "colab_type": "code",
        "id": "ZBUI6iMTHPX2",
        "colab": {}
      },
      "source": [
        "results = prediction_results['predicted']"
      ],
      "execution_count": 0,
      "outputs": []
    },
    {
      "cell_type": "markdown",
      "metadata": {
        "colab_type": "text",
        "id": "IoxOrOr6HPX7"
      },
      "source": [
        "<span style=\"font-size:1.1em;\">Başarı oranı hesaplanır</span>"
      ]
    },
    {
      "cell_type": "code",
      "metadata": {
        "colab_type": "code",
        "id": "0S5fD04Zgg11",
        "outputId": "acd761c6-32a5-44f1-e6b5-ff8edfaf0b69",
        "colab": {
          "base_uri": "https://localhost:8080/",
          "height": 35
        }
      },
      "source": [
        "accuracy = (results['analysts']['actual']['analysts'] + results['diplomats']['actual']['diplomats'] + results['explorers']['actual']['explorers'] + results['sentinels']['actual']['sentinels']) / len(predictions)\n",
        "accuracy"
      ],
      "execution_count": 0,
      "outputs": [
        {
          "output_type": "execute_result",
          "data": {
            "text/plain": [
              "0.42656251213281254"
            ]
          },
          "metadata": {
            "tags": []
          },
          "execution_count": 28
        }
      ]
    },
    {
      "cell_type": "markdown",
      "metadata": {
        "colab_type": "text",
        "id": "ooofyhgeHPYA"
      },
      "source": [
        "<span style=\"font-size:1.1em;\">**E/I** boyutu tahmin edilir</span>"
      ]
    },
    {
      "cell_type": "code",
      "metadata": {
        "colab_type": "code",
        "id": "ZPmKSg3XrONj",
        "colab": {}
      },
      "source": [
        "X_train, X_test, y_train, y_test = train_test_split(df['entry'], df['I/E'], random_state = 42)  ## Geri kalanlar S, T, J\n",
        "\n",
        "X_train_tfidf = tfidf_vectorizer.transform(X_train)\n",
        "X_test_tfidf = tfidf_vectorizer.transform(X_test)\n",
        "\n",
        "clf = MultinomialNB().fit(X_train_tfidf, y_train)\n",
        "test_typeClass = y_test.values\n",
        "\n",
        "predictions = clf.predict(X_test_tfidf)"
      ],
      "execution_count": 0,
      "outputs": []
    },
    {
      "cell_type": "code",
      "metadata": {
        "colab_type": "code",
        "id": "hgxavMQorivQ",
        "outputId": "d99c951e-12e2-443f-f03e-b2b8aca99889",
        "colab": {
          "base_uri": "https://localhost:8080/",
          "height": 35
        }
      },
      "source": [
        "predictions"
      ],
      "execution_count": 0,
      "outputs": [
        {
          "output_type": "execute_result",
          "data": {
            "text/plain": [
              "array(['E', 'E', 'E', ..., 'I', 'I', 'I'], dtype='<U1')"
            ]
          },
          "metadata": {
            "tags": []
          },
          "execution_count": 30
        }
      ]
    },
    {
      "cell_type": "code",
      "metadata": {
        "colab_type": "code",
        "id": "DlQeP5BFr0BA",
        "outputId": "8c726f2d-d562-4cbb-d0ca-a6e8f4e859b2",
        "colab": {
          "base_uri": "https://localhost:8080/",
          "height": 35
        }
      },
      "source": [
        "predicted = {}\n",
        "predicted['I'] = {'actual': {'I': 0, 'E': 0}}\n",
        "predicted['E'] = {'actual': {'I': 0, 'E': 0}}\n",
        "predicted"
      ],
      "execution_count": 0,
      "outputs": [
        {
          "output_type": "execute_result",
          "data": {
            "text/plain": [
              "{'E': {'actual': {'E': 0, 'I': 0}}, 'I': {'actual': {'E': 0, 'I': 0}}}"
            ]
          },
          "metadata": {
            "tags": []
          },
          "execution_count": 31
        }
      ]
    },
    {
      "cell_type": "code",
      "metadata": {
        "colab_type": "code",
        "id": "F38Wm7lnsNxh",
        "colab": {}
      },
      "source": [
        "for i in range(len(predictions)):\n",
        "  predicted[predictions[i]]['actual'][test_typeClass[i]] += 1\n"
      ],
      "execution_count": 0,
      "outputs": []
    },
    {
      "cell_type": "code",
      "metadata": {
        "colab_type": "code",
        "id": "pCppRIUitZ3A",
        "outputId": "0dd7e4f1-3755-4a9c-c6c6-3d90cc352817",
        "colab": {
          "base_uri": "https://localhost:8080/",
          "height": 53
        }
      },
      "source": [
        "predicted"
      ],
      "execution_count": 0,
      "outputs": [
        {
          "output_type": "execute_result",
          "data": {
            "text/plain": [
              "{'E': {'actual': {'E': 32427, 'I': 21303}},\n",
              " 'I': {'actual': {'E': 48381, 'I': 58867}}}"
            ]
          },
          "metadata": {
            "tags": []
          },
          "execution_count": 33
        }
      ]
    },
    {
      "cell_type": "code",
      "metadata": {
        "colab_type": "code",
        "id": "sRxuH3Fht6me",
        "colab": {}
      },
      "source": [
        "accuracy = (predicted['E']['actual']['E'] + predicted['I']['actual']['I']) / len(predictions)"
      ],
      "execution_count": 0,
      "outputs": []
    },
    {
      "cell_type": "code",
      "metadata": {
        "colab_type": "code",
        "id": "11O91HLLuH27",
        "outputId": "6bc60afd-ec84-4c2a-c3cc-3122820e3d5e",
        "colab": {
          "base_uri": "https://localhost:8080/",
          "height": 35
        }
      },
      "source": [
        "accuracy"
      ],
      "execution_count": 0,
      "outputs": [
        {
          "output_type": "execute_result",
          "data": {
            "text/plain": [
              "0.5671209730522183"
            ]
          },
          "metadata": {
            "tags": []
          },
          "execution_count": 35
        }
      ]
    },
    {
      "cell_type": "markdown",
      "metadata": {
        "colab_type": "text",
        "id": "ktc8Y-2hHPYg"
      },
      "source": [
        "<span style=\"font-size:1.1em\">**S/N** boyutu tahmin edilir.</span>"
      ]
    },
    {
      "cell_type": "code",
      "metadata": {
        "colab_type": "code",
        "id": "mq8qRr5RuSVO",
        "colab": {}
      },
      "source": [
        "X_train, X_test, y_train, y_test = train_test_split(df['entry'], df['S/N'], random_state = 42)  ## Geri kalan boyutlar: T, J\n",
        "\n",
        "X_train_tfidf = tfidf_vectorizer.transform(X_train)\n",
        "X_test_tfidf = tfidf_vectorizer.transform(X_test)\n",
        "\n",
        "clf = MultinomialNB().fit(X_train_tfidf, y_train)\n",
        "test_typeClass = y_test.values\n",
        "\n",
        "predictions = clf.predict(X_test_tfidf)"
      ],
      "execution_count": 0,
      "outputs": []
    },
    {
      "cell_type": "code",
      "metadata": {
        "colab_type": "code",
        "id": "VzV1av-CuZ2b",
        "outputId": "25d6f22b-cd43-424f-a7ea-27a9b9994aa6",
        "colab": {
          "base_uri": "https://localhost:8080/",
          "height": 89
        }
      },
      "source": [
        "predicted['N'] = {'actual': {'N': 0, 'S': 0}}\n",
        "predicted['S'] = {'actual': {'N': 0, 'S': 0}}\n",
        "\n",
        "predicted"
      ],
      "execution_count": 0,
      "outputs": [
        {
          "output_type": "execute_result",
          "data": {
            "text/plain": [
              "{'E': {'actual': {'E': 32427, 'I': 21303}},\n",
              " 'I': {'actual': {'E': 48381, 'I': 58867}},\n",
              " 'N': {'actual': {'N': 0, 'S': 0}},\n",
              " 'S': {'actual': {'N': 0, 'S': 0}}}"
            ]
          },
          "metadata": {
            "tags": []
          },
          "execution_count": 37
        }
      ]
    },
    {
      "cell_type": "code",
      "metadata": {
        "colab_type": "code",
        "id": "Fm2wvaVYuklE",
        "colab": {}
      },
      "source": [
        "for i in range(len(predictions)):\n",
        "  predicted[predictions[i]]['actual'][test_typeClass[i]] += 1"
      ],
      "execution_count": 0,
      "outputs": []
    },
    {
      "cell_type": "code",
      "metadata": {
        "colab_type": "code",
        "id": "YbVEQPPsvebF",
        "outputId": "bb8d3dcc-ddd0-4c91-97a8-70ebaf4a2d2e",
        "colab": {
          "base_uri": "https://localhost:8080/",
          "height": 89
        }
      },
      "source": [
        "predicted"
      ],
      "execution_count": 0,
      "outputs": [
        {
          "output_type": "execute_result",
          "data": {
            "text/plain": [
              "{'E': {'actual': {'E': 32427, 'I': 21303}},\n",
              " 'I': {'actual': {'E': 48381, 'I': 58867}},\n",
              " 'N': {'actual': {'N': 115527, 'S': 45391}},\n",
              " 'S': {'actual': {'N': 25, 'S': 35}}}"
            ]
          },
          "metadata": {
            "tags": []
          },
          "execution_count": 39
        }
      ]
    },
    {
      "cell_type": "code",
      "metadata": {
        "colab_type": "code",
        "id": "tQJQoGQavLgv",
        "colab": {}
      },
      "source": [
        "accuracy = (predicted['N']['actual']['N'] + predicted['S']['actual']['S']) / len(predictions)"
      ],
      "execution_count": 0,
      "outputs": []
    },
    {
      "cell_type": "code",
      "metadata": {
        "colab_type": "code",
        "id": "LbegGjPNvXJO",
        "outputId": "fc7534e6-5794-4ea6-eec4-201e6c49aafd",
        "colab": {
          "base_uri": "https://localhost:8080/",
          "height": 35
        }
      },
      "source": [
        "accuracy"
      ],
      "execution_count": 0,
      "outputs": [
        {
          "output_type": "execute_result",
          "data": {
            "text/plain": [
              "0.7178744921666315"
            ]
          },
          "metadata": {
            "tags": []
          },
          "execution_count": 41
        }
      ]
    },
    {
      "cell_type": "markdown",
      "metadata": {
        "colab_type": "text",
        "id": "vqKVIk9uHPZA"
      },
      "source": [
        "<span style=\"font-size:1.1em\">**T/F** boyutu tahmin edilir.</span>"
      ]
    },
    {
      "cell_type": "code",
      "metadata": {
        "colab_type": "code",
        "id": "qKVLLnYJwOHR",
        "colab": {}
      },
      "source": [
        "X_train, X_test, y_train, y_test = train_test_split(df['entry'], df['T/F'], random_state = 42)  ##  J\n",
        "\n",
        "X_train_tfidf = tfidf_vectorizer.transform(X_train)\n",
        "X_test_tfidf = tfidf_vectorizer.transform(X_test)\n",
        "\n",
        "clf = MultinomialNB().fit(X_train_tfidf, y_train)\n",
        "test_typeClass = y_test.values\n",
        "\n",
        "predictions = clf.predict(X_test_tfidf)"
      ],
      "execution_count": 0,
      "outputs": []
    },
    {
      "cell_type": "code",
      "metadata": {
        "colab_type": "code",
        "id": "839RnfNfwT77",
        "outputId": "c0f46bcb-92b7-4dd1-eccb-d8c0c0214c6a",
        "colab": {
          "base_uri": "https://localhost:8080/",
          "height": 125
        }
      },
      "source": [
        "predicted['T'] = {'actual': {'T': 0, 'F': 0}}\n",
        "predicted['F'] = {'actual': {'T': 0, 'F': 0}}\n",
        "\n",
        "predicted"
      ],
      "execution_count": 0,
      "outputs": [
        {
          "output_type": "execute_result",
          "data": {
            "text/plain": [
              "{'E': {'actual': {'E': 32427, 'I': 21303}},\n",
              " 'F': {'actual': {'F': 0, 'T': 0}},\n",
              " 'I': {'actual': {'E': 48381, 'I': 58867}},\n",
              " 'N': {'actual': {'N': 115527, 'S': 45391}},\n",
              " 'S': {'actual': {'N': 25, 'S': 35}},\n",
              " 'T': {'actual': {'F': 0, 'T': 0}}}"
            ]
          },
          "metadata": {
            "tags": []
          },
          "execution_count": 43
        }
      ]
    },
    {
      "cell_type": "code",
      "metadata": {
        "colab_type": "code",
        "id": "sd9lUb13wbdK",
        "colab": {}
      },
      "source": [
        "for i in range(len(predictions)):\n",
        "  predicted[predictions[i]]['actual'][test_typeClass[i]] += 1"
      ],
      "execution_count": 0,
      "outputs": []
    },
    {
      "cell_type": "code",
      "metadata": {
        "colab_type": "code",
        "id": "Js9--v33ws5A",
        "outputId": "f411d4ef-eee4-4207-e30b-f2d160174fc2",
        "colab": {
          "base_uri": "https://localhost:8080/",
          "height": 125
        }
      },
      "source": [
        "predicted"
      ],
      "execution_count": 0,
      "outputs": [
        {
          "output_type": "execute_result",
          "data": {
            "text/plain": [
              "{'E': {'actual': {'E': 32427, 'I': 21303}},\n",
              " 'F': {'actual': {'F': 23204, 'T': 14732}},\n",
              " 'I': {'actual': {'E': 48381, 'I': 58867}},\n",
              " 'N': {'actual': {'N': 115527, 'S': 45391}},\n",
              " 'S': {'actual': {'N': 25, 'S': 35}},\n",
              " 'T': {'actual': {'F': 51749, 'T': 71293}}}"
            ]
          },
          "metadata": {
            "tags": []
          },
          "execution_count": 45
        }
      ]
    },
    {
      "cell_type": "code",
      "metadata": {
        "colab_type": "code",
        "id": "i2ycKt6ZwuOC",
        "colab": {}
      },
      "source": [
        "accuracy = (predicted['F']['actual']['F'] + predicted['T']['actual']['T']) / len(predictions)"
      ],
      "execution_count": 0,
      "outputs": []
    },
    {
      "cell_type": "code",
      "metadata": {
        "colab_type": "code",
        "id": "5WkLA4z8x12q",
        "outputId": "7e3ea96d-5b97-4fb6-8d5a-aea842abf2ba",
        "colab": {
          "base_uri": "https://localhost:8080/",
          "height": 35
        }
      },
      "source": [
        "accuracy"
      ],
      "execution_count": 0,
      "outputs": [
        {
          "output_type": "execute_result",
          "data": {
            "text/plain": [
              "0.5870181018524271"
            ]
          },
          "metadata": {
            "tags": []
          },
          "execution_count": 47
        }
      ]
    },
    {
      "cell_type": "markdown",
      "metadata": {
        "colab_type": "text",
        "id": "APORaOlVHPZh"
      },
      "source": [
        "<span style=\"font-size:1.1em\">**J/P** boyutu tahmin edilir.</span>"
      ]
    },
    {
      "cell_type": "code",
      "metadata": {
        "colab_type": "code",
        "id": "UuEb2k8Qx41D",
        "colab": {}
      },
      "source": [
        "X_train, X_test, y_train, y_test = train_test_split(df['entry'], df['J/P'], random_state = 42) \n",
        "\n",
        "X_train_tfidf = tfidf_vectorizer.transform(X_train)\n",
        "X_test_tfidf = tfidf_vectorizer.transform(X_test)\n",
        "\n",
        "clf = MultinomialNB().fit(X_train_tfidf, y_train)\n",
        "test_typeClass = y_test.values\n",
        "\n",
        "predictions = clf.predict(X_test_tfidf)"
      ],
      "execution_count": 0,
      "outputs": []
    },
    {
      "cell_type": "code",
      "metadata": {
        "colab_type": "code",
        "id": "Dw-8uFkbx9m7",
        "outputId": "55b143c3-630d-42fa-8e94-873c3b0eb2da",
        "colab": {
          "base_uri": "https://localhost:8080/",
          "height": 161
        }
      },
      "source": [
        "predicted['J'] = {'actual': {'J': 0, 'P': 0}}\n",
        "predicted['P'] = {'actual': {'J': 0, 'P': 0}}\n",
        "\n",
        "predicted"
      ],
      "execution_count": 0,
      "outputs": [
        {
          "output_type": "execute_result",
          "data": {
            "text/plain": [
              "{'E': {'actual': {'E': 32427, 'I': 21303}},\n",
              " 'F': {'actual': {'F': 23204, 'T': 14732}},\n",
              " 'I': {'actual': {'E': 48381, 'I': 58867}},\n",
              " 'J': {'actual': {'J': 0, 'P': 0}},\n",
              " 'N': {'actual': {'N': 115527, 'S': 45391}},\n",
              " 'P': {'actual': {'J': 0, 'P': 0}},\n",
              " 'S': {'actual': {'N': 25, 'S': 35}},\n",
              " 'T': {'actual': {'F': 51749, 'T': 71293}}}"
            ]
          },
          "metadata": {
            "tags": []
          },
          "execution_count": 49
        }
      ]
    },
    {
      "cell_type": "code",
      "metadata": {
        "colab_type": "code",
        "id": "dYu5m1TRyGNB",
        "colab": {}
      },
      "source": [
        "for i in range(len(predictions)):\n",
        "  predicted[predictions[i]]['actual'][test_typeClass[i]] += 1"
      ],
      "execution_count": 0,
      "outputs": []
    },
    {
      "cell_type": "code",
      "metadata": {
        "colab_type": "code",
        "id": "PHsAWw-6yOdi",
        "outputId": "18d6d493-3155-499c-c2d5-e8f5e29232aa",
        "colab": {
          "base_uri": "https://localhost:8080/",
          "height": 161
        }
      },
      "source": [
        "predicted"
      ],
      "execution_count": 0,
      "outputs": [
        {
          "output_type": "execute_result",
          "data": {
            "text/plain": [
              "{'E': {'actual': {'E': 32427, 'I': 21303}},\n",
              " 'F': {'actual': {'F': 23204, 'T': 14732}},\n",
              " 'I': {'actual': {'E': 48381, 'I': 58867}},\n",
              " 'J': {'actual': {'J': 37293, 'P': 29220}},\n",
              " 'N': {'actual': {'N': 115527, 'S': 45391}},\n",
              " 'P': {'actual': {'J': 40994, 'P': 53471}},\n",
              " 'S': {'actual': {'N': 25, 'S': 35}},\n",
              " 'T': {'actual': {'F': 51749, 'T': 71293}}}"
            ]
          },
          "metadata": {
            "tags": []
          },
          "execution_count": 51
        }
      ]
    },
    {
      "cell_type": "code",
      "metadata": {
        "colab_type": "code",
        "id": "LHYecNUuyQGL",
        "colab": {}
      },
      "source": [
        "accuracy = (predicted['P']['actual']['P'] + predicted['J']['actual']['J']) / len(predictions)"
      ],
      "execution_count": 0,
      "outputs": []
    },
    {
      "cell_type": "code",
      "metadata": {
        "colab_type": "code",
        "id": "jtNZq3mTyW6r",
        "outputId": "54cd38bf-d44a-4423-de54-f62567b0deed",
        "colab": {
          "base_uri": "https://localhost:8080/",
          "height": 35
        }
      },
      "source": [
        "accuracy"
      ],
      "execution_count": 0,
      "outputs": [
        {
          "output_type": "execute_result",
          "data": {
            "text/plain": [
              "0.5638285976965797"
            ]
          },
          "metadata": {
            "tags": []
          },
          "execution_count": 53
        }
      ]
    },
    {
      "cell_type": "code",
      "metadata": {
        "colab_type": "code",
        "id": "MQuyqSw-yjse",
        "outputId": "9c3ba19d-8d50-4811-a048-b8fdd1dae95f",
        "colab": {
          "base_uri": "https://localhost:8080/",
          "height": 449
        }
      },
      "source": [
        "prediction_results['predicted'].update(predicted) \n",
        "\n",
        "prediction_results"
      ],
      "execution_count": 0,
      "outputs": [
        {
          "output_type": "execute_result",
          "data": {
            "text/plain": [
              "{'predicted': {'E': {'actual': {'E': 32427, 'I': 21303}},\n",
              "  'F': {'actual': {'F': 23204, 'T': 14732}},\n",
              "  'I': {'actual': {'E': 48381, 'I': 58867}},\n",
              "  'J': {'actual': {'J': 37293, 'P': 29220}},\n",
              "  'N': {'actual': {'N': 115527, 'S': 45391}},\n",
              "  'P': {'actual': {'J': 40994, 'P': 53471}},\n",
              "  'S': {'actual': {'N': 25, 'S': 35}},\n",
              "  'T': {'actual': {'F': 51749, 'T': 71293}},\n",
              "  'analysts': {'actual': {'analysts': 38435,\n",
              "    'diplomats': 28056,\n",
              "    'explorers': 10084,\n",
              "    'sentinels': 17542}},\n",
              "  'diplomats': {'actual': {'analysts': 9521,\n",
              "    'diplomats': 16309,\n",
              "    'explorers': 3348,\n",
              "    'sentinels': 5030}},\n",
              "  'explorers': {'actual': {'analysts': 0,\n",
              "    'diplomats': 1,\n",
              "    'explorers': 0,\n",
              "    'sentinels': 2}},\n",
              "  'sentinels': {'actual': {'analysts': 95,\n",
              "    'diplomats': 123,\n",
              "    'explorers': 47,\n",
              "    'sentinels': 190}}}}"
            ]
          },
          "metadata": {
            "tags": []
          },
          "execution_count": 54
        }
      ]
    }
  ]
}