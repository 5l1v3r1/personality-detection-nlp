{
  "nbformat": 4,
  "nbformat_minor": 0,
  "metadata": {
    "colab": {
      "name": "naive_bayes.ipynb",
      "provenance": [],
      "collapsed_sections": [],
      "machine_shape": "hm"
    },
    "kernelspec": {
      "display_name": "Python 3",
      "language": "python",
      "name": "python3"
    },
    "language_info": {
      "codemirror_mode": {
        "name": "ipython",
        "version": 3
      },
      "file_extension": ".py",
      "mimetype": "text/x-python",
      "name": "python",
      "nbconvert_exporter": "python",
      "pygments_lexer": "ipython3",
      "version": "3.7.5"
    }
  },
  "cells": [
    {
      "cell_type": "markdown",
      "metadata": {
        "colab_type": "text",
        "id": "0jNfS3mXsc2O"
      },
      "source": [
        "<span style=\"font-size:1.1em;\">Colab'a Google drive'ı entegre ediyoruz. Kullanılacak olan veriseti Google Drive'da bulunmaktadır</span>"
      ]
    },
    {
      "cell_type": "code",
      "metadata": {
        "colab_type": "code",
        "id": "d_zKJmJWQG19",
        "outputId": "ba9a4f67-05c6-4f48-8f6e-30e29087e828",
        "colab": {
          "base_uri": "https://localhost:8080/",
          "height": 127
        }
      },
      "source": [
        "from google.colab import drive\n",
        "drive.mount('/content/gdrive')"
      ],
      "execution_count": 1,
      "outputs": [
        {
          "output_type": "stream",
          "text": [
            "Go to this URL in a browser: https://accounts.google.com/o/oauth2/auth?client_id=947318989803-6bn6qk8qdgf4n4g3pfee6491hc0brc4i.apps.googleusercontent.com&redirect_uri=urn%3aietf%3awg%3aoauth%3a2.0%3aoob&response_type=code&scope=email%20https%3a%2f%2fwww.googleapis.com%2fauth%2fdocs.test%20https%3a%2f%2fwww.googleapis.com%2fauth%2fdrive%20https%3a%2f%2fwww.googleapis.com%2fauth%2fdrive.photos.readonly%20https%3a%2f%2fwww.googleapis.com%2fauth%2fpeopleapi.readonly\n",
            "\n",
            "Enter your authorization code:\n",
            "··········\n",
            "Mounted at /content/gdrive\n"
          ],
          "name": "stdout"
        }
      ]
    },
    {
      "cell_type": "code",
      "metadata": {
        "colab_type": "code",
        "id": "CA6I9IrzVr2v",
        "colab": {}
      },
      "source": [
        "import pandas as pd "
      ],
      "execution_count": 0,
      "outputs": []
    },
    {
      "cell_type": "markdown",
      "metadata": {
        "colab_type": "text",
        "id": "97IoTlPeHPVf"
      },
      "source": [
        "<span style=\"font-size:1.1em;\">Google Drive'ımızın root pathi</span> ```gdrive/My Drive``` <span style=\"font-size:1.1em;\">oluyor. Proje için gerekli verisetini **mbti** adında bir klasör oluşturup içerisine yüklüyoruz. İlgili verisetinin pathi</span> ```gdrive/My Drive/mbti/all_users.csv``` <span style=\"font-size:1.1em;\">oluyor.</span>"
      ]
    },
    {
      "cell_type": "code",
      "metadata": {
        "colab_type": "code",
        "id": "P4qtF-14sc2S",
        "colab": {}
      },
      "source": [
        "df = pd.read_csv(\"gdrive/My Drive/mbti/all_users_v2.csv\", sep = ';', header = 0) "
      ],
      "execution_count": 0,
      "outputs": []
    },
    {
      "cell_type": "code",
      "metadata": {
        "colab_type": "code",
        "id": "vtN4QiN4sc2Y",
        "outputId": "c92244a8-c017-49f8-aecc-41c9e5cbfc09",
        "colab": {
          "base_uri": "https://localhost:8080/",
          "height": 419
        }
      },
      "source": [
        "df"
      ],
      "execution_count": 37,
      "outputs": [
        {
          "output_type": "execute_result",
          "data": {
            "text/html": [
              "<div>\n",
              "<style scoped>\n",
              "    .dataframe tbody tr th:only-of-type {\n",
              "        vertical-align: middle;\n",
              "    }\n",
              "\n",
              "    .dataframe tbody tr th {\n",
              "        vertical-align: top;\n",
              "    }\n",
              "\n",
              "    .dataframe thead th {\n",
              "        text-align: right;\n",
              "    }\n",
              "</style>\n",
              "<table border=\"1\" class=\"dataframe\">\n",
              "  <thead>\n",
              "    <tr style=\"text-align: right;\">\n",
              "      <th></th>\n",
              "      <th>user</th>\n",
              "      <th>entry</th>\n",
              "      <th>type</th>\n",
              "      <th>typeClass</th>\n",
              "      <th>I/E</th>\n",
              "      <th>S/N</th>\n",
              "      <th>T/F</th>\n",
              "      <th>J/P</th>\n",
              "    </tr>\n",
              "  </thead>\n",
              "  <tbody>\n",
              "    <tr>\n",
              "      <th>0</th>\n",
              "      <td>19991991</td>\n",
              "      <td>ekşi itiraf sonunda döndüm dolaştım geldim ken...</td>\n",
              "      <td>ENTJ</td>\n",
              "      <td>analysts</td>\n",
              "      <td>E</td>\n",
              "      <td>N</td>\n",
              "      <td>T</td>\n",
              "      <td>J</td>\n",
              "    </tr>\n",
              "    <tr>\n",
              "      <th>1</th>\n",
              "      <td>19991991</td>\n",
              "      <td>selda bağcan bu sesi canlı dinleyebilmek benim...</td>\n",
              "      <td>ENTJ</td>\n",
              "      <td>analysts</td>\n",
              "      <td>E</td>\n",
              "      <td>N</td>\n",
              "      <td>T</td>\n",
              "      <td>J</td>\n",
              "    </tr>\n",
              "    <tr>\n",
              "      <th>2</th>\n",
              "      <td>19991991</td>\n",
              "      <td>eski sevgilisinin mutlu olmasını isteyen insan...</td>\n",
              "      <td>ENTJ</td>\n",
              "      <td>analysts</td>\n",
              "      <td>E</td>\n",
              "      <td>N</td>\n",
              "      <td>T</td>\n",
              "      <td>J</td>\n",
              "    </tr>\n",
              "    <tr>\n",
              "      <th>3</th>\n",
              "      <td>19991991</td>\n",
              "      <td>veda ederken 2019'a bir not bırakmak farklı ac...</td>\n",
              "      <td>ENTJ</td>\n",
              "      <td>analysts</td>\n",
              "      <td>E</td>\n",
              "      <td>N</td>\n",
              "      <td>T</td>\n",
              "      <td>J</td>\n",
              "    </tr>\n",
              "    <tr>\n",
              "      <th>4</th>\n",
              "      <td>19991991</td>\n",
              "      <td>ingiliz aksanı bu aralar özellikle bayıldığım ...</td>\n",
              "      <td>ENTJ</td>\n",
              "      <td>analysts</td>\n",
              "      <td>E</td>\n",
              "      <td>N</td>\n",
              "      <td>T</td>\n",
              "      <td>J</td>\n",
              "    </tr>\n",
              "    <tr>\n",
              "      <th>...</th>\n",
              "      <td>...</td>\n",
              "      <td>...</td>\n",
              "      <td>...</td>\n",
              "      <td>...</td>\n",
              "      <td>...</td>\n",
              "      <td>...</td>\n",
              "      <td>...</td>\n",
              "      <td>...</td>\n",
              "    </tr>\n",
              "    <tr>\n",
              "      <th>643907</th>\n",
              "      <td>zaimoglu</td>\n",
              "      <td>zlatan ibrahimoviç türkiye de katil olur</td>\n",
              "      <td>ESFJ</td>\n",
              "      <td>sentinels</td>\n",
              "      <td>E</td>\n",
              "      <td>S</td>\n",
              "      <td>F</td>\n",
              "      <td>J</td>\n",
              "    </tr>\n",
              "    <tr>\n",
              "      <th>643908</th>\n",
              "      <td>zaimoglu</td>\n",
              "      <td>tarihteki en büyük yalancılar şike operasyonu ...</td>\n",
              "      <td>ESFJ</td>\n",
              "      <td>sentinels</td>\n",
              "      <td>E</td>\n",
              "      <td>S</td>\n",
              "      <td>F</td>\n",
              "      <td>J</td>\n",
              "    </tr>\n",
              "    <tr>\n",
              "      <th>643909</th>\n",
              "      <td>zaimoglu</td>\n",
              "      <td>akp-chp koalisyonu hayali koalisyondur</td>\n",
              "      <td>ESFJ</td>\n",
              "      <td>sentinels</td>\n",
              "      <td>E</td>\n",
              "      <td>S</td>\n",
              "      <td>F</td>\n",
              "      <td>J</td>\n",
              "    </tr>\n",
              "    <tr>\n",
              "      <th>643910</th>\n",
              "      <td>zaimoglu</td>\n",
              "      <td>trabzonlu insana hamsi diyen fenerbahçe taraft...</td>\n",
              "      <td>ESFJ</td>\n",
              "      <td>sentinels</td>\n",
              "      <td>E</td>\n",
              "      <td>S</td>\n",
              "      <td>F</td>\n",
              "      <td>J</td>\n",
              "    </tr>\n",
              "    <tr>\n",
              "      <th>643911</th>\n",
              "      <td>zaimoglu</td>\n",
              "      <td>caner taslaman zonguldak taki paneline katılma...</td>\n",
              "      <td>ESFJ</td>\n",
              "      <td>sentinels</td>\n",
              "      <td>E</td>\n",
              "      <td>S</td>\n",
              "      <td>F</td>\n",
              "      <td>J</td>\n",
              "    </tr>\n",
              "  </tbody>\n",
              "</table>\n",
              "<p>643912 rows × 8 columns</p>\n",
              "</div>"
            ],
            "text/plain": [
              "            user                                              entry  ... T/F J/P\n",
              "0       19991991  ekşi itiraf sonunda döndüm dolaştım geldim ken...  ...   T   J\n",
              "1       19991991  selda bağcan bu sesi canlı dinleyebilmek benim...  ...   T   J\n",
              "2       19991991  eski sevgilisinin mutlu olmasını isteyen insan...  ...   T   J\n",
              "3       19991991  veda ederken 2019'a bir not bırakmak farklı ac...  ...   T   J\n",
              "4       19991991  ingiliz aksanı bu aralar özellikle bayıldığım ...  ...   T   J\n",
              "...          ...                                                ...  ...  ..  ..\n",
              "643907  zaimoglu          zlatan ibrahimoviç türkiye de katil olur   ...   F   J\n",
              "643908  zaimoglu  tarihteki en büyük yalancılar şike operasyonu ...  ...   F   J\n",
              "643909  zaimoglu            akp-chp koalisyonu hayali koalisyondur   ...   F   J\n",
              "643910  zaimoglu  trabzonlu insana hamsi diyen fenerbahçe taraft...  ...   F   J\n",
              "643911  zaimoglu  caner taslaman zonguldak taki paneline katılma...  ...   F   J\n",
              "\n",
              "[643912 rows x 8 columns]"
            ]
          },
          "metadata": {
            "tags": []
          },
          "execution_count": 37
        }
      ]
    },
    {
      "cell_type": "code",
      "metadata": {
        "colab_type": "code",
        "id": "vkuqae_1sc2g",
        "scrolled": true,
        "colab": {}
      },
      "source": [
        "import matplotlib.pyplot as plt"
      ],
      "execution_count": 0,
      "outputs": []
    },
    {
      "cell_type": "markdown",
      "metadata": {
        "colab_type": "text",
        "id": "WgKPqLP6sc2f"
      },
      "source": [
        "<span style=\"font-size:1.1em;\">Verisetinin **class** tiplerine göre dağılım</span>"
      ]
    },
    {
      "cell_type": "code",
      "metadata": {
        "colab_type": "code",
        "id": "O5zNSY97RgFT",
        "outputId": "e0bde463-06c7-4194-9950-3a7f74e17f31",
        "colab": {
          "base_uri": "https://localhost:8080/",
          "height": 428
        }
      },
      "source": [
        "fig = plt.figure(figsize=(8,6))\n",
        "\n",
        "df.groupby('typeClass').type.count().plot.bar(ylim=0)\n",
        "plt.savefig('dataset_distribution_typeClass.png')\n",
        "plt.show()"
      ],
      "execution_count": 7,
      "outputs": [
        {
          "output_type": "display_data",
          "data": {
            "image/png": "[encoded data removed]",
            "text/plain": [
              "<Figure size 576x432 with 1 Axes>"
            ]
          },
          "metadata": {
            "tags": []
          }
        }
      ]
    },
    {
      "cell_type": "markdown",
      "metadata": {
        "colab_type": "text",
        "id": "yxKqqcIOHPV6"
      },
      "source": [
        "<span style=\"font-size:1.1em;\">Verisetindeki **I/E** dağılımını göstermektedir. I olanlar x ekseninde 0 olarak E olanlar ise 1 olarak gösterilmektedir</span>"
      ]
    },
    {
      "cell_type": "code",
      "metadata": {
        "colab_type": "code",
        "id": "Px9BDE58HPV8",
        "outputId": "7f0ef1e4-1c3a-477c-d6fd-005a713537d1",
        "colab": {
          "base_uri": "https://localhost:8080/",
          "height": 384
        }
      },
      "source": [
        "fig = plt.figure(figsize=(8,6))\n",
        "\n",
        "df.groupby('I/E').type.count().plot.bar(ylim=0)\n",
        "plt.savefig('gdrive/My Drive/mbti/dataset_distribution_I-E.png')\n",
        "plt.show()"
      ],
      "execution_count": 8,
      "outputs": [
        {
          "output_type": "display_data",
          "data": {
            "image/png": "[encoded data removed]",
            "text/plain": [
              "<Figure size 576x432 with 1 Axes>"
            ]
          },
          "metadata": {
            "tags": []
          }
        }
      ]
    },
    {
      "cell_type": "markdown",
      "metadata": {
        "colab_type": "text",
        "id": "60eHkTmxHPWB"
      },
      "source": [
        "<span style=\"font-size:1.1em;\">Verisetindeki **S/N** dağılımını göstermektedir. N olanlar x ekseninde 0 olarak S olanlar ise 1 olarak gösterilmektedir</span>"
      ]
    },
    {
      "cell_type": "code",
      "metadata": {
        "colab_type": "code",
        "id": "r-n8D9GuHPWD",
        "outputId": "b2bcf53d-b8cd-43fb-b595-91cade782203",
        "colab": {
          "base_uri": "https://localhost:8080/",
          "height": 386
        }
      },
      "source": [
        "fig = plt.figure(figsize=(8,6))\n",
        "\n",
        "df.groupby('S/N').type.count().plot.bar(ylim=0)\n",
        "plt.savefig('gdrive/My Drive/mbtidataset_distribution_S-N.png')\n",
        "plt.show()"
      ],
      "execution_count": 9,
      "outputs": [
        {
          "output_type": "display_data",
          "data": {
            "image/png": "[encoded data removed]",
            "text/plain": [
              "<Figure size 576x432 with 1 Axes>"
            ]
          },
          "metadata": {
            "tags": []
          }
        }
      ]
    },
    {
      "cell_type": "markdown",
      "metadata": {
        "colab_type": "text",
        "id": "YFqrkEQXHPWJ"
      },
      "source": [
        "<span style=\"font-size:1.1em;\">Verisetindeki **T/F** dağılımını göstermektedir. F olanlar x ekseninde 0 olarak T olanlar ise 1 olarak gösterilmektedir</span>"
      ]
    },
    {
      "cell_type": "code",
      "metadata": {
        "colab_type": "code",
        "id": "x9wbF0DjHPWL",
        "outputId": "4817247f-0f51-4c17-bfe6-a1537dbcb045",
        "colab": {
          "base_uri": "https://localhost:8080/",
          "height": 384
        }
      },
      "source": [
        "fig = plt.figure(figsize=(8,6))\n",
        "\n",
        "df.groupby('T/F').type.count().plot.bar(ylim=0)\n",
        "plt.savefig('gdrive/My Drive/mbti/dataset_distribution_T-F.png')\n",
        "plt.show()"
      ],
      "execution_count": 10,
      "outputs": [
        {
          "output_type": "display_data",
          "data": {
            "image/png": "[encoded data removed]",
            "text/plain": [
              "<Figure size 576x432 with 1 Axes>"
            ]
          },
          "metadata": {
            "tags": []
          }
        }
      ]
    },
    {
      "cell_type": "markdown",
      "metadata": {
        "colab_type": "text",
        "id": "LLG8qi_6HPWQ"
      },
      "source": [
        "<span style=\"font-size:1.1em;\">Verisetindeki **J/P** dağılımını göstermektedir. P olanlar x ekseninde 0 olarak J olanlar ise 1 olarak gösterilmektedir</span>"
      ]
    },
    {
      "cell_type": "code",
      "metadata": {
        "colab_type": "code",
        "id": "PnYcABt4HPWS",
        "outputId": "9a9f805e-cfd8-4922-9f77-d46138052515",
        "colab": {
          "base_uri": "https://localhost:8080/",
          "height": 384
        }
      },
      "source": [
        "fig = plt.figure(figsize=(8,6))\n",
        "\n",
        "df.groupby('J/P').type.count().plot.bar(ylim=0)\n",
        "plt.savefig('gdrive/My Drive/mbti/dataset_distribution_J-P.png')\n",
        "plt.show()"
      ],
      "execution_count": 11,
      "outputs": [
        {
          "output_type": "display_data",
          "data": {
            "image/png": "[encoded data removed]",
            "text/plain": [
              "<Figure size 576x432 with 1 Axes>"
            ]
          },
          "metadata": {
            "tags": []
          }
        }
      ]
    },
    {
      "cell_type": "markdown",
      "metadata": {
        "colab_type": "text",
        "id": "RgbvMDgWKkm9"
      },
      "source": [
        "Aşağıda ise verisetinin 16 farklı MBTI kişilik tiplerine göre dağılımı gösterilmektedir."
      ]
    },
    {
      "cell_type": "code",
      "metadata": {
        "colab_type": "code",
        "id": "wQxnOEeqKvFU",
        "outputId": "2193789f-57bb-44bd-eb75-19e347e273d2",
        "colab": {
          "base_uri": "https://localhost:8080/",
          "height": 404
        }
      },
      "source": [
        "fig = plt.figure(figsize=(8,6))\n",
        "\n",
        "df.groupby('type').type.count().plot.bar(ylim=0)\n",
        "plt.savefig('gdrive/My Drive/mbti/dataset_distribution_type.png')\n",
        "plt.show()"
      ],
      "execution_count": 12,
      "outputs": [
        {
          "output_type": "display_data",
          "data": {
            "image/png": "[encoded data removed]",
            "text/plain": [
              "<Figure size 576x432 with 1 Axes>"
            ]
          },
          "metadata": {
            "tags": []
          }
        }
      ]
    },
    {
      "cell_type": "markdown",
      "metadata": {
        "colab_type": "text",
        "id": "nXN5GZtKsc2l"
      },
      "source": [
        "Stop words, drive'da /mbti altındaki stop_words_tr.txt okunarak alınır\n",
        "\n",
        "---\n",
        "\n"
      ]
    },
    {
      "cell_type": "code",
      "metadata": {
        "colab_type": "code",
        "id": "AJxv2CTzsc2m",
        "colab": {}
      },
      "source": [
        "from sklearn.feature_extraction.text import TfidfVectorizer"
      ],
      "execution_count": 0,
      "outputs": []
    },
    {
      "cell_type": "code",
      "metadata": {
        "colab_type": "code",
        "id": "5Z6KPqWNRmqO",
        "colab": {}
      },
      "source": [
        "file = open(\"gdrive/My Drive/mbti/stop_words_tr.txt\")\n",
        "stop_word_list = file.read().split('\\n')\n",
        "file.close()"
      ],
      "execution_count": 0,
      "outputs": []
    },
    {
      "cell_type": "code",
      "metadata": {
        "colab_type": "code",
        "id": "PKBOZNvCsc2r",
        "outputId": "61feb85e-ca0d-45ab-e79e-c20c45870a02",
        "colab": {
          "base_uri": "https://localhost:8080/",
          "height": 1000
        }
      },
      "source": [
        "stop_word_list"
      ],
      "execution_count": 15,
      "outputs": [
        {
          "output_type": "execute_result",
          "data": {
            "text/plain": [
              "['Hm',\n",
              " 'Hmm',\n",
              " 'Osmanlıca',\n",
              " 'Rabbena',\n",
              " 'Türkçesi',\n",
              " 'a',\n",
              " 'aa',\n",
              " 'aaa',\n",
              " 'aaah',\n",
              " 'aah',\n",
              " 'abe',\n",
              " 'abes',\n",
              " 'abo',\n",
              " 'abosa',\n",
              " 'abov',\n",
              " 'abow',\n",
              " 'abu',\n",
              " 'acaba',\n",
              " 'acayip',\n",
              " 'accelerando',\n",
              " 'acele',\n",
              " 'aceleten',\n",
              " 'acep',\n",
              " 'acilen',\n",
              " 'acımasız',\n",
              " 'acımasızcasına',\n",
              " 'adamakıllı',\n",
              " 'adamcasına',\n",
              " 'adedî',\n",
              " 'adeta',\n",
              " 'adilane',\n",
              " 'adına',\n",
              " 'afedersin',\n",
              " 'afedersinin',\n",
              " 'aferin',\n",
              " 'affettuoso',\n",
              " 'agitato',\n",
              " 'agucuk',\n",
              " 'ah',\n",
              " 'aha',\n",
              " 'ahacık',\n",
              " 'ahbap',\n",
              " 'aheste',\n",
              " 'ahir',\n",
              " 'ahiren',\n",
              " 'ahlaken',\n",
              " 'ailecek',\n",
              " 'ait',\n",
              " 'akabinde',\n",
              " 'akilane',\n",
              " 'aklen',\n",
              " 'aklınca',\n",
              " 'aksine',\n",
              " 'akıbet',\n",
              " 'akşamdan',\n",
              " 'akşamları',\n",
              " 'akşamleyin',\n",
              " 'akşamüstü',\n",
              " 'akşamüzeri',\n",
              " 'alabildiğine',\n",
              " 'alarga',\n",
              " 'alelacele',\n",
              " 'alelhesap',\n",
              " 'alelhusus',\n",
              " 'alelumum',\n",
              " 'alelusul',\n",
              " 'alelıtlak',\n",
              " 'alenen',\n",
              " 'alessabah',\n",
              " 'aleykümselâm',\n",
              " 'alicenap',\n",
              " 'alimallah',\n",
              " 'allahtan',\n",
              " 'allegretto',\n",
              " 'allegro',\n",
              " 'alo',\n",
              " 'altmış',\n",
              " 'altı',\n",
              " 'altıncı',\n",
              " 'altışar',\n",
              " 'ama',\n",
              " 'amabile',\n",
              " 'aman',\n",
              " 'amanın',\n",
              " 'amca',\n",
              " 'amenna',\n",
              " 'amirane',\n",
              " 'amma',\n",
              " 'an',\n",
              " 'ana',\n",
              " 'anafordan',\n",
              " 'anal',\n",
              " 'anasıl',\n",
              " 'anbean',\n",
              " 'anca',\n",
              " 'ancak',\n",
              " 'andante',\n",
              " 'andantino',\n",
              " 'ani',\n",
              " 'aniden',\n",
              " 'anif',\n",
              " 'animato',\n",
              " 'anlaşılan',\n",
              " 'ansızın',\n",
              " 'antrparantez',\n",
              " 'anında',\n",
              " 'apak',\n",
              " 'apansız',\n",
              " 'apansızın',\n",
              " 'apartopar',\n",
              " 'apaçık',\n",
              " 'aport',\n",
              " 'appassionato',\n",
              " 'aptal',\n",
              " 'aptalcasına',\n",
              " 'aracılığıyla',\n",
              " 'arada',\n",
              " 'aralıkta',\n",
              " 'arasıra',\n",
              " 'ardarda',\n",
              " 'ardınca',\n",
              " 'ardından',\n",
              " 'arifane',\n",
              " 'ariyeten',\n",
              " 'arkadan',\n",
              " 'arkadaşça',\n",
              " 'arkaüstü',\n",
              " 'artık',\n",
              " 'arş',\n",
              " 'asabi',\n",
              " 'asaleten',\n",
              " 'asla',\n",
              " 'aslen',\n",
              " 'aslında',\n",
              " 'asıl',\n",
              " 'atbaşı',\n",
              " 'atfen',\n",
              " 'atmış',\n",
              " 'atmışar',\n",
              " 'atmışıncı',\n",
              " 'avantadan',\n",
              " 'avara',\n",
              " 'ay',\n",
              " 'ayakta',\n",
              " 'ayaküstü',\n",
              " 'ayaküzeri',\n",
              " 'aybeay',\n",
              " 'aylarca',\n",
              " 'aylık',\n",
              " 'aynen',\n",
              " 'aynıyla',\n",
              " 'ayol',\n",
              " 'ayrı',\n",
              " 'ayrıca',\n",
              " 'ayrıyeten',\n",
              " 'ayı',\n",
              " 'ayık',\n",
              " 'az',\n",
              " 'azade',\n",
              " 'azimkârane',\n",
              " 'azıcık',\n",
              " 'aç',\n",
              " 'açık',\n",
              " 'açıktan',\n",
              " 'açıkça',\n",
              " 'açıkçası',\n",
              " 'ağababa',\n",
              " 'ağabey',\n",
              " 'ağır',\n",
              " 'ağızdan',\n",
              " 'aşağı',\n",
              " 'aşikâre',\n",
              " 'aşkın',\n",
              " 'aşırı',\n",
              " 'b',\n",
              " 'ba',\n",
              " 'bacı',\n",
              " 'badehu',\n",
              " 'badema',\n",
              " 'bahar',\n",
              " 'bahusus',\n",
              " 'bakarak',\n",
              " 'bakımından',\n",
              " 'bakındı',\n",
              " 'balıklama',\n",
              " 'balıksırtı',\n",
              " 'bana',\n",
              " 'banko',\n",
              " 'bari',\n",
              " 'basbayağı',\n",
              " 'basmakalıp',\n",
              " 'batsat',\n",
              " 'bayan',\n",
              " 'bayağı',\n",
              " 'baygın',\n",
              " 'bayramüstü',\n",
              " 'bayramüzeri',\n",
              " 'bazan',\n",
              " 'bazen',\n",
              " 'bazı',\n",
              " 'bazıları',\n",
              " 'bazısı',\n",
              " 'başbaşa',\n",
              " 'başka',\n",
              " 'başkası',\n",
              " 'başlıbaşına',\n",
              " 'başta',\n",
              " 'baştan',\n",
              " 'baştanbaşa',\n",
              " 'başüstüne',\n",
              " 'başıboş',\n",
              " 'be',\n",
              " 'bebek',\n",
              " 'bebekçe',\n",
              " 'bedaheten',\n",
              " 'bedava',\n",
              " 'bedavadan',\n",
              " 'bedavasına',\n",
              " 'bedavaya',\n",
              " 'bedenen',\n",
              " 'begayet',\n",
              " 'behemehâl',\n",
              " 'behey',\n",
              " 'beleşten',\n",
              " 'beli',\n",
              " 'belirgin',\n",
              " 'belki',\n",
              " 'bembeyaz',\n",
              " 'ben',\n",
              " 'bence',\n",
              " 'bencileyin',\n",
              " 'benden',\n",
              " 'beni',\n",
              " 'benim',\n",
              " 'benimki',\n",
              " 'beraber',\n",
              " 'beraberce',\n",
              " 'berabere',\n",
              " 'beraberinde',\n",
              " 'bereket',\n",
              " 'berenarı',\n",
              " 'beri',\n",
              " 'beriki',\n",
              " 'bermutat',\n",
              " 'bertafsil',\n",
              " 'bertaraf',\n",
              " 'besbelli',\n",
              " 'besmelesiz',\n",
              " 'beybaba',\n",
              " 'beyhude',\n",
              " 'beyninde',\n",
              " 'bezgin',\n",
              " 'beş',\n",
              " 'beşer',\n",
              " 'beşinci',\n",
              " 'beşyüz',\n",
              " 'bi',\n",
              " 'bihaber',\n",
              " 'bihakkın',\n",
              " 'biilaç',\n",
              " 'bikes',\n",
              " 'bilahare',\n",
              " 'bilaistisna',\n",
              " 'bilakis',\n",
              " 'bilasebep',\n",
              " 'bilavasıta',\n",
              " 'bilcümle',\n",
              " 'bile',\n",
              " 'bilerek',\n",
              " 'bilfarz',\n",
              " 'bilfiil',\n",
              " 'bilhassa',\n",
              " 'bililtizam',\n",
              " 'bilistifade',\n",
              " 'billahi',\n",
              " 'bilmukabele',\n",
              " 'bilmünasebe',\n",
              " 'bilvasıta',\n",
              " 'bin',\n",
              " 'binaen',\n",
              " 'binaenaleyh',\n",
              " 'biner',\n",
              " 'bininci',\n",
              " 'binnetice',\n",
              " 'binyıl',\n",
              " 'bip',\n",
              " 'biperva',\n",
              " 'bir',\n",
              " 'birader',\n",
              " 'birara',\n",
              " 'birarada',\n",
              " 'biraz',\n",
              " 'birazcık',\n",
              " 'birazdan',\n",
              " 'birbiri',\n",
              " 'birden',\n",
              " 'birdenbire',\n",
              " 'birer',\n",
              " 'birgün',\n",
              " 'biri',\n",
              " 'birice',\n",
              " 'birileri',\n",
              " 'birinci',\n",
              " 'birinden',\n",
              " 'birine',\n",
              " 'birisi',\n",
              " 'birkaç',\n",
              " 'birkaçı',\n",
              " 'birkez',\n",
              " 'birlikte',\n",
              " 'birtakım',\n",
              " 'birçok',\n",
              " 'birçokları',\n",
              " 'birçoğu',\n",
              " 'birşey',\n",
              " 'birşeyi',\n",
              " 'bis',\n",
              " 'bismillâh',\n",
              " 'bitevi',\n",
              " 'biteviye',\n",
              " 'bittabi',\n",
              " 'biz',\n",
              " 'bizar',\n",
              " 'bizatihi',\n",
              " 'bizce',\n",
              " 'bizcileyin',\n",
              " 'bizden',\n",
              " 'bize',\n",
              " 'bizi',\n",
              " 'bizim',\n",
              " 'bizimki',\n",
              " 'bizzat',\n",
              " 'biçimli',\n",
              " 'bodoslama',\n",
              " 'bodoslamadan',\n",
              " 'bolca',\n",
              " 'bonjur',\n",
              " 'boyca',\n",
              " 'boylamasına',\n",
              " 'boyuna',\n",
              " 'boyunca',\n",
              " 'boş',\n",
              " 'boşuna',\n",
              " 'br',\n",
              " 'bravo',\n",
              " 'bre',\n",
              " 'bu',\n",
              " 'budalacasına',\n",
              " 'bugün',\n",
              " 'bugünden',\n",
              " 'bugünlük',\n",
              " 'bulanık',\n",
              " 'buna',\n",
              " 'bunca',\n",
              " 'bunda',\n",
              " 'bundan',\n",
              " 'bunlar',\n",
              " 'bunları',\n",
              " 'bunların',\n",
              " 'bunu',\n",
              " 'bunun',\n",
              " 'buracıkta',\n",
              " 'burada',\n",
              " 'buradan',\n",
              " 'burası',\n",
              " 'bönce',\n",
              " 'böyle',\n",
              " 'böylece',\n",
              " 'böylecene',\n",
              " 'böylelikle',\n",
              " 'böylemesine',\n",
              " 'böylesi',\n",
              " 'böylesine',\n",
              " 'bünyece',\n",
              " 'büsbütün',\n",
              " 'bütün',\n",
              " 'bütünüyle',\n",
              " 'bıldır',\n",
              " 'c',\n",
              " 'caba',\n",
              " 'cabadan',\n",
              " 'cahilane',\n",
              " 'cana',\n",
              " 'candan',\n",
              " 'caniyane',\n",
              " 'canlı',\n",
              " 'cansiparane',\n",
              " 'canıgönülden',\n",
              " 'canıyürekten',\n",
              " 'capcanlı',\n",
              " 'carcar',\n",
              " 'carcur',\n",
              " 'cartadak',\n",
              " 'cartadan',\n",
              " 'cebren',\n",
              " 'ceffelkalem',\n",
              " 'ceman',\n",
              " 'cesur',\n",
              " 'cesurane',\n",
              " 'cetbecet',\n",
              " 'cevaben',\n",
              " 'cicoz',\n",
              " 'cidden',\n",
              " 'ciddi',\n",
              " 'cihangirane',\n",
              " 'cihetiyle',\n",
              " 'cismen',\n",
              " 'cuk',\n",
              " 'cumbadak',\n",
              " 'cumburlop',\n",
              " 'cumhurca',\n",
              " 'cuppadak',\n",
              " 'cümle',\n",
              " 'cümlesi',\n",
              " 'cümleten',\n",
              " 'cık',\n",
              " 'cılız',\n",
              " 'cıs',\n",
              " 'd',\n",
              " 'da',\n",
              " 'dadaş',\n",
              " 'dah',\n",
              " 'daha',\n",
              " 'dahası',\n",
              " 'dahi',\n",
              " 'dahil',\n",
              " 'dahilen',\n",
              " 'daim',\n",
              " 'daima',\n",
              " 'dair',\n",
              " 'daki',\n",
              " 'dakika',\n",
              " 'dakikalarca',\n",
              " 'dakikasında',\n",
              " 'dalgündüz',\n",
              " 'dalgın',\n",
              " 'dalgınlıkla',\n",
              " 'dalkavukça',\n",
              " 'dalkılıç',\n",
              " 'dalya',\n",
              " 'dalöğle',\n",
              " 'damsız',\n",
              " 'dan',\n",
              " 'dandini',\n",
              " 'dangadak',\n",
              " 'dangalakça',\n",
              " 'dar',\n",
              " 'davetsiz',\n",
              " 'dayalı',\n",
              " 'dayanarak',\n",
              " 'dayı',\n",
              " 'de',\n",
              " 'dede',\n",
              " 'defa',\n",
              " 'defaatle',\n",
              " 'defalarca',\n",
              " 'defaten',\n",
              " 'deh',\n",
              " 'dehşet',\n",
              " 'dehşetli',\n",
              " 'dek',\n",
              " 'deki',\n",
              " 'dekreşendo',\n",
              " 'delice',\n",
              " 'delicesine',\n",
              " 'delikanlı',\n",
              " 'dembedem',\n",
              " 'deme',\n",
              " 'demek',\n",
              " 'demi',\n",
              " 'demin',\n",
              " 'demincek',\n",
              " 'deminden',\n",
              " 'denli',\n",
              " 'derakap',\n",
              " 'derece',\n",
              " 'derhal',\n",
              " 'derhâl',\n",
              " 'derinden',\n",
              " 'derinlemesine',\n",
              " 'derinliğine',\n",
              " 'derken',\n",
              " 'dervişane',\n",
              " 'destur',\n",
              " 'destursuz',\n",
              " 'desturun',\n",
              " 'devam',\n",
              " 'devre',\n",
              " 'devren',\n",
              " 'deyyus',\n",
              " 'değil',\n",
              " 'değin',\n",
              " 'dikey',\n",
              " 'dikine',\n",
              " 'dikkat',\n",
              " 'dikkatli',\n",
              " 'diklemesine',\n",
              " 'dimdik',\n",
              " 'dimi',\n",
              " 'diminuendo',\n",
              " 'dince',\n",
              " 'dinen',\n",
              " 'dinç',\n",
              " 'direkt',\n",
              " 'diye',\n",
              " 'diğer',\n",
              " 'diğeri',\n",
              " 'diğerleri',\n",
              " 'doksan',\n",
              " 'doksanar',\n",
              " 'doksanıncı',\n",
              " 'dokuz',\n",
              " 'dokuzar',\n",
              " 'dokuzuncu',\n",
              " 'dolayı',\n",
              " 'dolayısıyla',\n",
              " 'doludizgin',\n",
              " 'domuzuna',\n",
              " 'dosdoğru',\n",
              " 'dostane',\n",
              " 'doyasıya',\n",
              " 'doğallıkla',\n",
              " 'doğaçlama',\n",
              " 'doğaçtan',\n",
              " 'doğru',\n",
              " 'doğrudan',\n",
              " 'doğrusu',\n",
              " 'doğuştan',\n",
              " 'durmadan',\n",
              " 'duyguca',\n",
              " 'dâhice',\n",
              " 'dâhil',\n",
              " 'dâhilen',\n",
              " 'dâhiyane',\n",
              " 'dörder',\n",
              " 'dördüncü',\n",
              " 'dört',\n",
              " 'dörtnala',\n",
              " 'dün',\n",
              " 'dünden',\n",
              " 'dünyada',\n",
              " 'düpedüz',\n",
              " 'dürzü',\n",
              " 'düt',\n",
              " 'düzgün',\n",
              " 'dışarı',\n",
              " 'e',\n",
              " 'ebediyen',\n",
              " 'edecek',\n",
              " 'eden',\n",
              " 'edepli',\n",
              " 'edepsizcesine',\n",
              " 'ederek',\n",
              " 'edibane',\n",
              " 'edilecek',\n",
              " 'ediliyor',\n",
              " 'edilmesi',\n",
              " 'ediyor',\n",
              " 'efece',\n",
              " 'efendi',\n",
              " 'efendim',\n",
              " 'efsus',\n",
              " 'eh',\n",
              " 'ekseri',\n",
              " 'ekseriya',\n",
              " 'ekseriyetle',\n",
              " 'ekstra',\n",
              " 'elaman',\n",
              " 'elan',\n",
              " 'elbet',\n",
              " 'elbette',\n",
              " 'elden',\n",
              " 'elektriksiz',\n",
              " 'elele',\n",
              " 'elhak',\n",
              " 'elhamdülillah',\n",
              " 'elhasıl',\n",
              " 'eliyle',\n",
              " 'elli',\n",
              " 'ellinci',\n",
              " 'ellişer',\n",
              " 'elveda',\n",
              " 'emaneten',\n",
              " 'emme',\n",
              " 'emprovize',\n",
              " 'en',\n",
              " 'en\\t',\n",
              " 'enayicesine',\n",
              " 'ender',\n",
              " 'enikonu',\n",
              " 'enlemesine',\n",
              " 'ençok',\n",
              " 'epey',\n",
              " 'epeyce',\n",
              " 'epeydir',\n",
              " 'epeyi',\n",
              " 'epeyice',\n",
              " 'er',\n",
              " 'erden',\n",
              " 'ergeç',\n",
              " 'erken',\n",
              " 'erkence',\n",
              " 'erkenden',\n",
              " 'esasen',\n",
              " 'eskaza',\n",
              " 'eskiden',\n",
              " 'esnasında',\n",
              " 'estağfurullah',\n",
              " 'etmesi',\n",
              " 'etraflı',\n",
              " 'etraflıca',\n",
              " 'etti',\n",
              " 'ettiği',\n",
              " 'ettiğini',\n",
              " 'evce',\n",
              " 'evcek',\n",
              " 'evelallah',\n",
              " 'evet',\n",
              " 'evleviyetle',\n",
              " 'evvel',\n",
              " 'evvela',\n",
              " 'evvelce',\n",
              " 'evvelden',\n",
              " 'evvelemirde',\n",
              " 'evveli',\n",
              " 'evvelleri',\n",
              " 'ey',\n",
              " 'eyvah',\n",
              " 'ezberden',\n",
              " 'ezbere',\n",
              " 'ezcümle',\n",
              " 'ezercesine',\n",
              " 'ezik',\n",
              " 'ezkaza',\n",
              " 'eğer',\n",
              " 'eğreti',\n",
              " 'eğri',\n",
              " 'eşekçe',\n",
              " 'eşkin',\n",
              " 'f',\n",
              " 'fakat',\n",
              " 'falan',\n",
              " 'falanca',\n",
              " 'faraza',\n",
              " 'farzımahal',\n",
              " 'farzımuhal',\n",
              " 'fasih',\n",
              " 'fatihane',\n",
              " 'fayrap',\n",
              " 'fazla',\n",
              " 'fazladan',\n",
              " 'fazlasıyla',\n",
              " 'felan',\n",
              " 'fena',\n",
              " 'fertik',\n",
              " 'fesuphanallah',\n",
              " 'fiilen',\n",
              " 'fikren',\n",
              " 'filan',\n",
              " 'filanca',\n",
              " 'filhakika',\n",
              " 'filvaki',\n",
              " 'fonda',\n",
              " 'fondip',\n",
              " 'fora',\n",
              " 'forte',\n",
              " 'fortepiano',\n",
              " 'fortissimo',\n",
              " 'fücceten',\n",
              " 'fır',\n",
              " 'fırdolayı',\n",
              " 'fıstıki',\n",
              " 'fıtraten',\n",
              " 'g',\n",
              " 'gafilane',\n",
              " 'gah',\n",
              " 'galiba',\n",
              " 'garanti',\n",
              " 'garip',\n",
              " 'gayet',\n",
              " 'gayetle',\n",
              " 'gayri',\n",
              " 'gayrı',\n",
              " 'gece',\n",
              " 'geceleri',\n",
              " 'geceleyin',\n",
              " 'gelgelelim',\n",
              " 'gelişigüzel',\n",
              " 'gene',\n",
              " 'genelde',\n",
              " 'genellikle',\n",
              " 'gepgenç',\n",
              " 'gerek',\n",
              " 'gerekse',\n",
              " 'gereği',\n",
              " 'gereğince',\n",
              " 'geri',\n",
              " 'gerisingeri',\n",
              " 'gerisingeriye',\n",
              " 'gerçekte',\n",
              " 'gerçekten',\n",
              " 'gerçi',\n",
              " 'gevşek',\n",
              " 'geç',\n",
              " 'geçe',\n",
              " 'geçende',\n",
              " 'geçenlerde',\n",
              " 'gibi',\n",
              " 'gibilerden',\n",
              " 'gibisinden',\n",
              " 'giderayak',\n",
              " 'giderek',\n",
              " 'gidi',\n",
              " 'gine',\n",
              " 'gitgide',\n",
              " 'gittikçe',\n",
              " 'gizli',\n",
              " 'gâh',\n",
              " 'gâhi',\n",
              " 'gâvurcasına',\n",
              " 'gönlünce',\n",
              " 'göre',\n",
              " 'görünürde',\n",
              " 'görünürlerde',\n",
              " 'görünüşte',\n",
              " 'götürü',\n",
              " 'gücün',\n",
              " 'gümbedek',\n",
              " 'günaydın',\n",
              " 'günaşırı',\n",
              " 'günbegün',\n",
              " 'günde',\n",
              " 'gündüz',\n",
              " 'gündüzleri',\n",
              " 'gündüzleyin',\n",
              " 'gündüzün',\n",
              " 'günlerce',\n",
              " 'günübirlik',\n",
              " 'günübirliğine',\n",
              " 'güpegündüz',\n",
              " 'gürpedek',\n",
              " 'güya',\n",
              " 'güzel',\n",
              " 'güzelim',\n",
              " 'güzellikle',\n",
              " 'güzün',\n",
              " 'güç',\n",
              " 'güçbela',\n",
              " 'güçlükle',\n",
              " 'gırla',\n",
              " 'gıyaben',\n",
              " 'gıyabında',\n",
              " 'h',\n",
              " 'ha',\n",
              " 'haa',\n",
              " 'habire',\n",
              " 'hacmen',\n",
              " 'haddizatında',\n",
              " 'hadi',\n",
              " 'hadisene',\n",
              " 'hafazanallah',\n",
              " 'hafif',\n",
              " 'hafiften',\n",
              " 'hafta',\n",
              " 'haftalarca',\n",
              " 'hah',\n",
              " 'hain',\n",
              " 'haincesine',\n",
              " 'hakeza',\n",
              " 'hakikat',\n",
              " 'hakikaten',\n",
              " 'hakimane',\n",
              " 'hakkında',\n",
              " 'hakkıyla',\n",
              " 'hala',\n",
              " 'halbuki',\n",
              " 'halde',\n",
              " 'halen',\n",
              " 'halihazırda',\n",
              " 'halisane',\n",
              " 'haliyle',\n",
              " 'hamdolsun',\n",
              " 'hamilen',\n",
              " 'handiyse',\n",
              " 'hangi',\n",
              " 'hangisi',\n",
              " 'hani',\n",
              " 'hanımanne',\n",
              " 'hapur',\n",
              " 'harfiyen',\n",
              " 'haricen',\n",
              " 'harika',\n",
              " 'hariç',\n",
              " 'harrangürra',\n",
              " 'hart',\n",
              " 'hartadak',\n",
              " 'hasbelkader',\n",
              " 'hasebiyle',\n",
              " 'hasmane',\n",
              " 'hassaten',\n",
              " 'hasılı',\n",
              " 'hatta',\n",
              " 'havadan',\n",
              " 'hay',\n",
              " 'hayalen',\n",
              " 'haybeden',\n",
              " 'hayda',\n",
              " 'haydi',\n",
              " 'haydin',\n",
              " 'haydindi',\n",
              " 'haydisene',\n",
              " 'hayfa',\n",
              " 'hayhay',\n",
              " 'hayli',\n",
              " 'hayret',\n",
              " 'hayretle',\n",
              " 'hayrola',\n",
              " 'haysiyetiyle',\n",
              " 'hayıf',\n",
              " 'hayır',\n",
              " 'haza',\n",
              " 'hazret',\n",
              " 'hazır',\n",
              " 'haşa',\n",
              " 'haşin',\n",
              " 'he',\n",
              " 'helalinden',\n",
              " 'hele',\n",
              " 'hem',\n",
              " 'hemen',\n",
              " 'hemencecik',\n",
              " 'henüz',\n",
              " 'hep',\n",
              " 'hepsi',\n",
              " 'hepsine',\n",
              " 'hepsini',\n",
              " 'hepten',\n",
              " 'her',\n",
              " 'her biri',\n",
              " 'herbiri',\n",
              " 'herhangi',\n",
              " 'herhâlde',\n",
              " 'herkes',\n",
              " 'herkese',\n",
              " 'herkesi',\n",
              " 'herkesin',\n",
              " 'herzaman',\n",
              " 'hey',\n",
              " 'heyetiyle',\n",
              " 'heyhat',\n",
              " 'hilkaten',\n",
              " 'hitaben',\n",
              " 'hiç',\n",
              " 'hiç kimse',\n",
              " 'hiçbir',\n",
              " 'hiçbiri',\n",
              " 'hiçbirine',\n",
              " 'hiçbirini',\n",
              " 'hiçten',\n",
              " 'hiş',\n",
              " 'hişt',\n",
              " 'hodbehot',\n",
              " 'hop',\n",
              " 'hoppadak',\n",
              " 'hoppala',\n",
              " 'hoyrat',\n",
              " 'hoş',\n",
              " 'hoşt',\n",
              " 'hoşçakal',\n",
              " 'hu',\n",
              " 'hukuken',\n",
              " 'hulasaten',\n",
              " 'hurra',\n",
              " 'husumetkâr',\n",
              " 'hususuyla',\n",
              " 'hâkimane',\n",
              " 'hâlbuki',\n",
              " 'hâlen',\n",
              " 'hâlihazırda',\n",
              " 'hâliyle',\n",
              " 'hâlâ',\n",
              " 'hâşâ',\n",
              " 'höst',\n",
              " 'höt',\n",
              " 'hücum',\n",
              " 'hükmen',\n",
              " 'hülasa',\n",
              " 'hülasaten',\n",
              " 'hür',\n",
              " 'hürmeten',\n",
              " 'hürmetkârane',\n",
              " 'hürya',\n",
              " 'hımhım',\n",
              " 'hıncahınç',\n",
              " 'hınk',\n",
              " 'hızla',\n",
              " 'hızlı',\n",
              " 'i',\n",
              " 'ibne',\n",
              " 'icabında',\n",
              " 'idareten',\n",
              " 'ihtimal',\n",
              " 'ihtiyaten',\n",
              " 'iken',\n",
              " 'iki',\n",
              " 'ikinci',\n",
              " 'ikindi',\n",
              " 'ikindileri',\n",
              " 'ikindiyin',\n",
              " 'ikindiüstü',\n",
              " 'ikindiüzeri',\n",
              " 'ikişer',\n",
              " 'iktisaden',\n",
              " 'ila',\n",
              " 'ilanihaye',\n",
              " 'ile',\n",
              " 'ilelebet',\n",
              " 'ilen',\n",
              " 'ileri',\n",
              " 'ileride',\n",
              " 'ilgili',\n",
              " 'ilişkin',\n",
              " 'ilk',\n",
              " 'ilkbahar',\n",
              " 'ilkin',\n",
              " 'ilkten',\n",
              " 'ilkönce',\n",
              " 'illa',\n",
              " 'illaki',\n",
              " 'ille',\n",
              " 'illâ',\n",
              " 'illâki',\n",
              " 'illâllah',\n",
              " 'ilâ',\n",
              " 'ilânen',\n",
              " 'ilâveten',\n",
              " 'imdat',\n",
              " 'imdi',\n",
              " 'inadına',\n",
              " 'incecikten',\n",
              " 'indinde',\n",
              " 'inen',\n",
              " 'insaf',\n",
              " 'insermi',\n",
              " 'inşallah',\n",
              " 'iptida',\n",
              " 'iptidaları',\n",
              " 'irsen',\n",
              " 'irticalen',\n",
              " 'isabet',\n",
              " 'ise',\n",
              " 'ismen',\n",
              " 'isnaden',\n",
              " 'ister',\n",
              " 'istinaden',\n",
              " 'ithafen',\n",
              " 'itibaren',\n",
              " 'itibariyle',\n",
              " 'itibarıyla',\n",
              " 'itoğluit',\n",
              " 'ivedi',\n",
              " 'ivedilikle',\n",
              " 'iyi',\n",
              " 'iyice',\n",
              " 'iyicene',\n",
              " 'iyilikle',\n",
              " 'izafeten',\n",
              " 'içeri',\n",
              " 'için',\n",
              " 'içinde',\n",
              " 'içre',\n",
              " 'içten',\n",
              " 'içtenlikle',\n",
              " 'iğrenç',\n",
              " 'iş',\n",
              " 'işte',\n",
              " 'iştiraken',\n",
              " 'j',\n",
              " 'k',\n",
              " 'kabaca',\n",
              " 'kabala',\n",
              " 'kablelmilat',\n",
              " 'kadar',\n",
              " 'kafadan',\n",
              " 'kaffesi',\n",
              " 'kah',\n",
              " 'kahrolsun',\n",
              " 'kala',\n",
              " 'kalben',\n",
              " 'kalender',\n",
              " 'kamera',\n",
              " 'kanalıyla',\n",
              " 'kanunen',\n",
              " 'kanımca',\n",
              " 'kapkara',\n",
              " 'kararlamadan',\n",
              " 'kardeş',\n",
              " 'kargatulumba',\n",
              " 'karşı',\n",
              " 'karşıllıklı',\n",
              " ...]"
            ]
          },
          "metadata": {
            "tags": []
          },
          "execution_count": 15
        }
      ]
    },
    {
      "cell_type": "markdown",
      "metadata": {
        "colab_type": "text",
        "id": "4LDZVG50-F3O"
      },
      "source": [
        "Entrylere ön işleme adımları uygulanır. Bu adımlar:\n",
        "\n",
        "\n",
        "1.   Bütün harflerin küçük harf haline getirilmesi\n",
        "\n",
        "2.   '**bkz**', '**--- spoiler ---**', '**spoiler**', '**#12341324**' (gibi böyle rakamların devam ettiği) entrylerin verisetinden çıkarılması gerekmektedir.\n",
        "\n",
        "3. Entrylerden stop words'ler silinmelidir.\n",
        "\n",
        "4. Web sitelerinin temizlenmesi\n",
        "\n",
        "5. Noktalama işaretlerinin temizlenmesi\n",
        "\n",
        "6. Rakamların temizlenmesi\n",
        "\n",
        "7. Stemming kullanılması\n",
        "\n",
        "Temizlenme işlemlerinde empty string yerine space (' ') ile replace edilerek yapılmalıdır. Arından da fazla boşluklar vs trim edilmelidir.\n",
        "\n",
        "```[+-]?([0-9]*)([.][0-9])?``` regex olarak kullanılacak hem rakamların silinmesinde hem de ondaklı sayıların silinmesinde --> buna gerek kalmadı\n"
      ]
    },
    {
      "cell_type": "markdown",
      "metadata": {
        "colab_type": "text",
        "id": "XklzLH_pJl5s"
      },
      "source": [
        "Entrylerdeki harfler küçük harf haline getirilir"
      ]
    },
    {
      "cell_type": "code",
      "metadata": {
        "colab_type": "code",
        "id": "LVH3wd0AJqtG",
        "colab": {}
      },
      "source": [
        "df['entry'] = df['entry'].str.lower()"
      ],
      "execution_count": 0,
      "outputs": []
    },
    {
      "cell_type": "markdown",
      "metadata": {
        "colab_type": "text",
        "id": "DdaLFbvbCm8r"
      },
      "source": [
        "Dataframe içerisindeki bütün entrylere '**bkz**', '**spoiler**', '**#**' içerip içermediğine bakar ve bunun sonucu index numarasıyla birlikte döner. ```15 True``` gibi bu demek oluyor ki 15 numaralı index bizim yazmış olduğumuz koşulu sağlamaktadır."
      ]
    },
    {
      "cell_type": "code",
      "metadata": {
        "colab_type": "code",
        "id": "4i_BlXDr-BbQ",
        "colab": {}
      },
      "source": [
        "indexes_contains_unwanted_words = df['entry'].str.contains('|'.join(['bkz', 'spoiler', r'#\\d*']))"
      ],
      "execution_count": 0,
      "outputs": []
    },
    {
      "cell_type": "markdown",
      "metadata": {
        "colab_type": "text",
        "id": "boufiWfHDrIu"
      },
      "source": [
        "Dataframe'den ilgili entryler çıkartılır"
      ]
    },
    {
      "cell_type": "code",
      "metadata": {
        "colab_type": "code",
        "id": "NEJVm7ALDuo2",
        "colab": {
          "base_uri": "https://localhost:8080/",
          "height": 35
        },
        "outputId": "8265dda9-4c52-4e21-c1f3-2996f335851e"
      },
      "source": [
        "df = df[~indexes_contains_unwanted_words]\n",
        "df.shape[0]"
      ],
      "execution_count": 40,
      "outputs": [
        {
          "output_type": "execute_result",
          "data": {
            "text/plain": [
              "524840"
            ]
          },
          "metadata": {
            "tags": []
          },
          "execution_count": 40
        }
      ]
    },
    {
      "cell_type": "markdown",
      "metadata": {
        "colab_type": "text",
        "id": "Y0-z8E6OIFNh"
      },
      "source": [
        "Entrylerden stop words silinir.   --> Bu kısım gerekmeyebilir\n"
      ]
    },
    {
      "cell_type": "code",
      "metadata": {
        "colab_type": "code",
        "id": "sxy9T9seILBC",
        "colab": {
          "base_uri": "https://localhost:8080/",
          "height": 358
        },
        "outputId": "a4912768-609f-4d18-e5f5-17517c02ffe9"
      },
      "source": [
        "df['entry'] = df['entry'].str.replace('|'.join(stop_word_list), ' ')"
      ],
      "execution_count": 19,
      "outputs": [
        {
          "output_type": "error",
          "ename": "KeyboardInterrupt",
          "evalue": "ignored",
          "traceback": [
            "\u001b[0;31m---------------------------------------------------------------------------\u001b[0m",
            "\u001b[0;31mKeyboardInterrupt\u001b[0m                         Traceback (most recent call last)",
            "\u001b[0;32m<ipython-input-19-ff18ff46231d>\u001b[0m in \u001b[0;36m<module>\u001b[0;34m()\u001b[0m\n\u001b[0;32m----> 1\u001b[0;31m \u001b[0mdf\u001b[0m\u001b[0;34m[\u001b[0m\u001b[0;34m'entry'\u001b[0m\u001b[0;34m]\u001b[0m \u001b[0;34m=\u001b[0m \u001b[0mdf\u001b[0m\u001b[0;34m[\u001b[0m\u001b[0;34m'entry'\u001b[0m\u001b[0;34m]\u001b[0m\u001b[0;34m.\u001b[0m\u001b[0mstr\u001b[0m\u001b[0;34m.\u001b[0m\u001b[0mreplace\u001b[0m\u001b[0;34m(\u001b[0m\u001b[0;34m'|'\u001b[0m\u001b[0;34m.\u001b[0m\u001b[0mjoin\u001b[0m\u001b[0;34m(\u001b[0m\u001b[0mstop_word_list\u001b[0m\u001b[0;34m)\u001b[0m\u001b[0;34m,\u001b[0m \u001b[0;34m' '\u001b[0m\u001b[0;34m)\u001b[0m\u001b[0;34m\u001b[0m\u001b[0;34m\u001b[0m\u001b[0m\n\u001b[0m",
            "\u001b[0;32m/usr/local/lib/python3.6/dist-packages/pandas/core/strings.py\u001b[0m in \u001b[0;36mwrapper\u001b[0;34m(self, *args, **kwargs)\u001b[0m\n\u001b[1;32m   1841\u001b[0m                 )\n\u001b[1;32m   1842\u001b[0m                 \u001b[0;32mraise\u001b[0m \u001b[0mTypeError\u001b[0m\u001b[0;34m(\u001b[0m\u001b[0mmsg\u001b[0m\u001b[0;34m)\u001b[0m\u001b[0;34m\u001b[0m\u001b[0;34m\u001b[0m\u001b[0m\n\u001b[0;32m-> 1843\u001b[0;31m             \u001b[0;32mreturn\u001b[0m \u001b[0mfunc\u001b[0m\u001b[0;34m(\u001b[0m\u001b[0mself\u001b[0m\u001b[0;34m,\u001b[0m \u001b[0;34m*\u001b[0m\u001b[0margs\u001b[0m\u001b[0;34m,\u001b[0m \u001b[0;34m**\u001b[0m\u001b[0mkwargs\u001b[0m\u001b[0;34m)\u001b[0m\u001b[0;34m\u001b[0m\u001b[0;34m\u001b[0m\u001b[0m\n\u001b[0m\u001b[1;32m   1844\u001b[0m \u001b[0;34m\u001b[0m\u001b[0m\n\u001b[1;32m   1845\u001b[0m         \u001b[0mwrapper\u001b[0m\u001b[0;34m.\u001b[0m\u001b[0m__name__\u001b[0m \u001b[0;34m=\u001b[0m \u001b[0mfunc_name\u001b[0m\u001b[0;34m\u001b[0m\u001b[0;34m\u001b[0m\u001b[0m\n",
            "\u001b[0;32m/usr/local/lib/python3.6/dist-packages/pandas/core/strings.py\u001b[0m in \u001b[0;36mreplace\u001b[0;34m(self, pat, repl, n, case, flags, regex)\u001b[0m\n\u001b[1;32m   2714\u001b[0m     \u001b[0;32mdef\u001b[0m \u001b[0mreplace\u001b[0m\u001b[0;34m(\u001b[0m\u001b[0mself\u001b[0m\u001b[0;34m,\u001b[0m \u001b[0mpat\u001b[0m\u001b[0;34m,\u001b[0m \u001b[0mrepl\u001b[0m\u001b[0;34m,\u001b[0m \u001b[0mn\u001b[0m\u001b[0;34m=\u001b[0m\u001b[0;34m-\u001b[0m\u001b[0;36m1\u001b[0m\u001b[0;34m,\u001b[0m \u001b[0mcase\u001b[0m\u001b[0;34m=\u001b[0m\u001b[0;32mNone\u001b[0m\u001b[0;34m,\u001b[0m \u001b[0mflags\u001b[0m\u001b[0;34m=\u001b[0m\u001b[0;36m0\u001b[0m\u001b[0;34m,\u001b[0m \u001b[0mregex\u001b[0m\u001b[0;34m=\u001b[0m\u001b[0;32mTrue\u001b[0m\u001b[0;34m)\u001b[0m\u001b[0;34m:\u001b[0m\u001b[0;34m\u001b[0m\u001b[0;34m\u001b[0m\u001b[0m\n\u001b[1;32m   2715\u001b[0m         result = str_replace(\n\u001b[0;32m-> 2716\u001b[0;31m             \u001b[0mself\u001b[0m\u001b[0;34m.\u001b[0m\u001b[0m_parent\u001b[0m\u001b[0;34m,\u001b[0m \u001b[0mpat\u001b[0m\u001b[0;34m,\u001b[0m \u001b[0mrepl\u001b[0m\u001b[0;34m,\u001b[0m \u001b[0mn\u001b[0m\u001b[0;34m=\u001b[0m\u001b[0mn\u001b[0m\u001b[0;34m,\u001b[0m \u001b[0mcase\u001b[0m\u001b[0;34m=\u001b[0m\u001b[0mcase\u001b[0m\u001b[0;34m,\u001b[0m \u001b[0mflags\u001b[0m\u001b[0;34m=\u001b[0m\u001b[0mflags\u001b[0m\u001b[0;34m,\u001b[0m \u001b[0mregex\u001b[0m\u001b[0;34m=\u001b[0m\u001b[0mregex\u001b[0m\u001b[0;34m\u001b[0m\u001b[0;34m\u001b[0m\u001b[0m\n\u001b[0m\u001b[1;32m   2717\u001b[0m         )\n\u001b[1;32m   2718\u001b[0m         \u001b[0;32mreturn\u001b[0m \u001b[0mself\u001b[0m\u001b[0;34m.\u001b[0m\u001b[0m_wrap_result\u001b[0m\u001b[0;34m(\u001b[0m\u001b[0mresult\u001b[0m\u001b[0;34m)\u001b[0m\u001b[0;34m\u001b[0m\u001b[0;34m\u001b[0m\u001b[0m\n",
            "\u001b[0;32m/usr/local/lib/python3.6/dist-packages/pandas/core/strings.py\u001b[0m in \u001b[0;36mstr_replace\u001b[0;34m(arr, pat, repl, n, case, flags, regex)\u001b[0m\n\u001b[1;32m    630\u001b[0m         \u001b[0mf\u001b[0m \u001b[0;34m=\u001b[0m \u001b[0;32mlambda\u001b[0m \u001b[0mx\u001b[0m\u001b[0;34m:\u001b[0m \u001b[0mx\u001b[0m\u001b[0;34m.\u001b[0m\u001b[0mreplace\u001b[0m\u001b[0;34m(\u001b[0m\u001b[0mpat\u001b[0m\u001b[0;34m,\u001b[0m \u001b[0mrepl\u001b[0m\u001b[0;34m,\u001b[0m \u001b[0mn\u001b[0m\u001b[0;34m)\u001b[0m\u001b[0;34m\u001b[0m\u001b[0;34m\u001b[0m\u001b[0m\n\u001b[1;32m    631\u001b[0m \u001b[0;34m\u001b[0m\u001b[0m\n\u001b[0;32m--> 632\u001b[0;31m     \u001b[0;32mreturn\u001b[0m \u001b[0m_na_map\u001b[0m\u001b[0;34m(\u001b[0m\u001b[0mf\u001b[0m\u001b[0;34m,\u001b[0m \u001b[0marr\u001b[0m\u001b[0;34m)\u001b[0m\u001b[0;34m\u001b[0m\u001b[0;34m\u001b[0m\u001b[0m\n\u001b[0m\u001b[1;32m    633\u001b[0m \u001b[0;34m\u001b[0m\u001b[0m\n\u001b[1;32m    634\u001b[0m \u001b[0;34m\u001b[0m\u001b[0m\n",
            "\u001b[0;32m/usr/local/lib/python3.6/dist-packages/pandas/core/strings.py\u001b[0m in \u001b[0;36m_na_map\u001b[0;34m(f, arr, na_result, dtype)\u001b[0m\n\u001b[1;32m    103\u001b[0m \u001b[0;32mdef\u001b[0m \u001b[0m_na_map\u001b[0m\u001b[0;34m(\u001b[0m\u001b[0mf\u001b[0m\u001b[0;34m,\u001b[0m \u001b[0marr\u001b[0m\u001b[0;34m,\u001b[0m \u001b[0mna_result\u001b[0m\u001b[0;34m=\u001b[0m\u001b[0mnp\u001b[0m\u001b[0;34m.\u001b[0m\u001b[0mnan\u001b[0m\u001b[0;34m,\u001b[0m \u001b[0mdtype\u001b[0m\u001b[0;34m=\u001b[0m\u001b[0mobject\u001b[0m\u001b[0;34m)\u001b[0m\u001b[0;34m:\u001b[0m\u001b[0;34m\u001b[0m\u001b[0;34m\u001b[0m\u001b[0m\n\u001b[1;32m    104\u001b[0m     \u001b[0;31m# should really _check_ for NA\u001b[0m\u001b[0;34m\u001b[0m\u001b[0;34m\u001b[0m\u001b[0;34m\u001b[0m\u001b[0m\n\u001b[0;32m--> 105\u001b[0;31m     \u001b[0;32mreturn\u001b[0m \u001b[0m_map\u001b[0m\u001b[0;34m(\u001b[0m\u001b[0mf\u001b[0m\u001b[0;34m,\u001b[0m \u001b[0marr\u001b[0m\u001b[0;34m,\u001b[0m \u001b[0mna_mask\u001b[0m\u001b[0;34m=\u001b[0m\u001b[0;32mTrue\u001b[0m\u001b[0;34m,\u001b[0m \u001b[0mna_value\u001b[0m\u001b[0;34m=\u001b[0m\u001b[0mna_result\u001b[0m\u001b[0;34m,\u001b[0m \u001b[0mdtype\u001b[0m\u001b[0;34m=\u001b[0m\u001b[0mdtype\u001b[0m\u001b[0;34m)\u001b[0m\u001b[0;34m\u001b[0m\u001b[0;34m\u001b[0m\u001b[0m\n\u001b[0m\u001b[1;32m    106\u001b[0m \u001b[0;34m\u001b[0m\u001b[0m\n\u001b[1;32m    107\u001b[0m \u001b[0;34m\u001b[0m\u001b[0m\n",
            "\u001b[0;32m/usr/local/lib/python3.6/dist-packages/pandas/core/strings.py\u001b[0m in \u001b[0;36m_map\u001b[0;34m(f, arr, na_mask, na_value, dtype)\u001b[0m\n\u001b[1;32m    118\u001b[0m         \u001b[0;32mtry\u001b[0m\u001b[0;34m:\u001b[0m\u001b[0;34m\u001b[0m\u001b[0;34m\u001b[0m\u001b[0m\n\u001b[1;32m    119\u001b[0m             \u001b[0mconvert\u001b[0m \u001b[0;34m=\u001b[0m \u001b[0;32mnot\u001b[0m \u001b[0mall\u001b[0m\u001b[0;34m(\u001b[0m\u001b[0mmask\u001b[0m\u001b[0;34m)\u001b[0m\u001b[0;34m\u001b[0m\u001b[0;34m\u001b[0m\u001b[0m\n\u001b[0;32m--> 120\u001b[0;31m             \u001b[0mresult\u001b[0m \u001b[0;34m=\u001b[0m \u001b[0mlib\u001b[0m\u001b[0;34m.\u001b[0m\u001b[0mmap_infer_mask\u001b[0m\u001b[0;34m(\u001b[0m\u001b[0marr\u001b[0m\u001b[0;34m,\u001b[0m \u001b[0mf\u001b[0m\u001b[0;34m,\u001b[0m \u001b[0mmask\u001b[0m\u001b[0;34m.\u001b[0m\u001b[0mview\u001b[0m\u001b[0;34m(\u001b[0m\u001b[0mnp\u001b[0m\u001b[0;34m.\u001b[0m\u001b[0muint8\u001b[0m\u001b[0;34m)\u001b[0m\u001b[0;34m,\u001b[0m \u001b[0mconvert\u001b[0m\u001b[0;34m)\u001b[0m\u001b[0;34m\u001b[0m\u001b[0;34m\u001b[0m\u001b[0m\n\u001b[0m\u001b[1;32m    121\u001b[0m         \u001b[0;32mexcept\u001b[0m \u001b[0;34m(\u001b[0m\u001b[0mTypeError\u001b[0m\u001b[0;34m,\u001b[0m \u001b[0mAttributeError\u001b[0m\u001b[0;34m)\u001b[0m \u001b[0;32mas\u001b[0m \u001b[0me\u001b[0m\u001b[0;34m:\u001b[0m\u001b[0;34m\u001b[0m\u001b[0;34m\u001b[0m\u001b[0m\n\u001b[1;32m    122\u001b[0m             \u001b[0;31m# Reraise the exception if callable `f` got wrong number of args.\u001b[0m\u001b[0;34m\u001b[0m\u001b[0;34m\u001b[0m\u001b[0;34m\u001b[0m\u001b[0m\n",
            "\u001b[0;32mpandas/_libs/lib.pyx\u001b[0m in \u001b[0;36mpandas._libs.lib.map_infer_mask\u001b[0;34m()\u001b[0m\n",
            "\u001b[0;32m/usr/local/lib/python3.6/dist-packages/pandas/core/strings.py\u001b[0m in \u001b[0;36m<lambda>\u001b[0;34m(x)\u001b[0m\n\u001b[1;32m    618\u001b[0m             \u001b[0mn\u001b[0m \u001b[0;34m=\u001b[0m \u001b[0mn\u001b[0m \u001b[0;32mif\u001b[0m \u001b[0mn\u001b[0m \u001b[0;34m>=\u001b[0m \u001b[0;36m0\u001b[0m \u001b[0;32melse\u001b[0m \u001b[0;36m0\u001b[0m\u001b[0;34m\u001b[0m\u001b[0;34m\u001b[0m\u001b[0m\n\u001b[1;32m    619\u001b[0m             \u001b[0mcompiled\u001b[0m \u001b[0;34m=\u001b[0m \u001b[0mre\u001b[0m\u001b[0;34m.\u001b[0m\u001b[0mcompile\u001b[0m\u001b[0;34m(\u001b[0m\u001b[0mpat\u001b[0m\u001b[0;34m,\u001b[0m \u001b[0mflags\u001b[0m\u001b[0;34m=\u001b[0m\u001b[0mflags\u001b[0m\u001b[0;34m)\u001b[0m\u001b[0;34m\u001b[0m\u001b[0;34m\u001b[0m\u001b[0m\n\u001b[0;32m--> 620\u001b[0;31m             \u001b[0mf\u001b[0m \u001b[0;34m=\u001b[0m \u001b[0;32mlambda\u001b[0m \u001b[0mx\u001b[0m\u001b[0;34m:\u001b[0m \u001b[0mcompiled\u001b[0m\u001b[0;34m.\u001b[0m\u001b[0msub\u001b[0m\u001b[0;34m(\u001b[0m\u001b[0mrepl\u001b[0m\u001b[0;34m=\u001b[0m\u001b[0mrepl\u001b[0m\u001b[0;34m,\u001b[0m \u001b[0mstring\u001b[0m\u001b[0;34m=\u001b[0m\u001b[0mx\u001b[0m\u001b[0;34m,\u001b[0m \u001b[0mcount\u001b[0m\u001b[0;34m=\u001b[0m\u001b[0mn\u001b[0m\u001b[0;34m)\u001b[0m\u001b[0;34m\u001b[0m\u001b[0;34m\u001b[0m\u001b[0m\n\u001b[0m\u001b[1;32m    621\u001b[0m         \u001b[0;32melse\u001b[0m\u001b[0;34m:\u001b[0m\u001b[0;34m\u001b[0m\u001b[0;34m\u001b[0m\u001b[0m\n\u001b[1;32m    622\u001b[0m             \u001b[0mf\u001b[0m \u001b[0;34m=\u001b[0m \u001b[0;32mlambda\u001b[0m \u001b[0mx\u001b[0m\u001b[0;34m:\u001b[0m \u001b[0mx\u001b[0m\u001b[0;34m.\u001b[0m\u001b[0mreplace\u001b[0m\u001b[0;34m(\u001b[0m\u001b[0mpat\u001b[0m\u001b[0;34m,\u001b[0m \u001b[0mrepl\u001b[0m\u001b[0;34m,\u001b[0m \u001b[0mn\u001b[0m\u001b[0;34m)\u001b[0m\u001b[0;34m\u001b[0m\u001b[0;34m\u001b[0m\u001b[0m\n",
            "\u001b[0;31mKeyboardInterrupt\u001b[0m: "
          ]
        }
      ]
    },
    {
      "cell_type": "markdown",
      "metadata": {
        "colab_type": "text",
        "id": "qwCxlQsEThSX"
      },
      "source": [
        "Entrylerden web site linkleri silinir."
      ]
    },
    {
      "cell_type": "code",
      "metadata": {
        "colab_type": "code",
        "id": "VcB2KrMaRqtj",
        "colab": {
          "base_uri": "https://localhost:8080/",
          "height": 233
        },
        "outputId": "5a856b55-b25d-4358-9a17-e00c20882f0f"
      },
      "source": [
        "df['entry'] = df['entry'].str.replace(r'http\\S+', ' ', regex=True)\n",
        "df['entry'] = df['entry'].str.replace(r'www\\S+', '', regex=True)"
      ],
      "execution_count": 41,
      "outputs": [
        {
          "output_type": "stream",
          "text": [
            "/usr/local/lib/python3.6/dist-packages/ipykernel_launcher.py:1: SettingWithCopyWarning: \n",
            "A value is trying to be set on a copy of a slice from a DataFrame.\n",
            "Try using .loc[row_indexer,col_indexer] = value instead\n",
            "\n",
            "See the caveats in the documentation: http://pandas.pydata.org/pandas-docs/stable/user_guide/indexing.html#returning-a-view-versus-a-copy\n",
            "  \"\"\"Entry point for launching an IPython kernel.\n",
            "/usr/local/lib/python3.6/dist-packages/ipykernel_launcher.py:2: SettingWithCopyWarning: \n",
            "A value is trying to be set on a copy of a slice from a DataFrame.\n",
            "Try using .loc[row_indexer,col_indexer] = value instead\n",
            "\n",
            "See the caveats in the documentation: http://pandas.pydata.org/pandas-docs/stable/user_guide/indexing.html#returning-a-view-versus-a-copy\n",
            "  \n"
          ],
          "name": "stderr"
        }
      ]
    },
    {
      "cell_type": "markdown",
      "metadata": {
        "id": "oXNRgz87vGLZ",
        "colab_type": "text"
      },
      "source": [
        "Entrylerden noktalama işaretleri temizlenir."
      ]
    },
    {
      "cell_type": "code",
      "metadata": {
        "id": "Wakq_66kvGLa",
        "colab_type": "code",
        "colab": {
          "base_uri": "https://localhost:8080/",
          "height": 125
        },
        "outputId": "b71f46a1-0fef-422c-b819-96b3e2bf70e3"
      },
      "source": [
        "import string\n",
        "\n",
        "df['entry'] = df['entry'].apply(lambda x: x.translate(str.maketrans(string.punctuation, ' '*len(string.punctuation))))"
      ],
      "execution_count": 43,
      "outputs": [
        {
          "output_type": "stream",
          "text": [
            "/usr/local/lib/python3.6/dist-packages/ipykernel_launcher.py:3: SettingWithCopyWarning: \n",
            "A value is trying to be set on a copy of a slice from a DataFrame.\n",
            "Try using .loc[row_indexer,col_indexer] = value instead\n",
            "\n",
            "See the caveats in the documentation: http://pandas.pydata.org/pandas-docs/stable/user_guide/indexing.html#returning-a-view-versus-a-copy\n",
            "  This is separate from the ipykernel package so we can avoid doing imports until\n"
          ],
          "name": "stderr"
        }
      ]
    },
    {
      "cell_type": "markdown",
      "metadata": {
        "id": "5PNW6PAPvGLd",
        "colab_type": "text"
      },
      "source": [
        "Entrylerden rakamlar silinir."
      ]
    },
    {
      "cell_type": "code",
      "metadata": {
        "id": "CnYY6GrTvGLe",
        "colab_type": "code",
        "colab": {
          "base_uri": "https://localhost:8080/",
          "height": 125
        },
        "outputId": "e3b5197b-917d-4240-aa92-3d7e85ed0745"
      },
      "source": [
        "df['entry'] = df['entry'].str.replace('\\d+', ' ')"
      ],
      "execution_count": 44,
      "outputs": [
        {
          "output_type": "stream",
          "text": [
            "/usr/local/lib/python3.6/dist-packages/ipykernel_launcher.py:1: SettingWithCopyWarning: \n",
            "A value is trying to be set on a copy of a slice from a DataFrame.\n",
            "Try using .loc[row_indexer,col_indexer] = value instead\n",
            "\n",
            "See the caveats in the documentation: http://pandas.pydata.org/pandas-docs/stable/user_guide/indexing.html#returning-a-view-versus-a-copy\n",
            "  \"\"\"Entry point for launching an IPython kernel.\n"
          ],
          "name": "stderr"
        }
      ]
    },
    {
      "cell_type": "markdown",
      "metadata": {
        "id": "5VFg9aCPvGLg",
        "colab_type": "text"
      },
      "source": [
        "Verisetinin stemmera sokmadan önceki ön işlemeden geçirilmiş hali kaydedilir. Buradaki amaç stemmerdan geçirilmiş ve geçirilmemiş halinin başarı açısından karşılaştırılmasının yapılabilmesi."
      ]
    },
    {
      "cell_type": "code",
      "metadata": {
        "id": "K4XI0xMXvGLh",
        "colab_type": "code",
        "colab": {}
      },
      "source": [
        "df.to_csv(\"gdrive/My Drive/mbti/preprocessed_dataset_v1.csv\", sep=';', encoding='utf-8')"
      ],
      "execution_count": 0,
      "outputs": []
    },
    {
      "cell_type": "markdown",
      "metadata": {
        "id": "jgh0Kw3kvGLk",
        "colab_type": "text"
      },
      "source": [
        "SnowballStemmer içerisinde Türkçe dili için kullanabileceğimiz TurkishStemmer import edilir. Stemmer ile kelimelerin köklerine ulaşılır. Lemmatization işlemiyle kök bulunduğu zaman elde edilen kökler biçimsel açıdan da doğru olurken (yani mantıksal açıdan da) stemmer ile elde edilen köklerde böyle bir durum söz konusu değildir. Dolayısıyla stemming edilmis hallerine bakıldıgında mantıksal açıdan düzgün sonuclar vermeyebilir."
      ]
    },
    {
      "cell_type": "markdown",
      "metadata": {
        "id": "lvdQBvV0vGLl",
        "colab_type": "text"
      },
      "source": [
        "Google Colab'a snowballstemmer ile ilgil package'i indirmek için aşağıdaki komutu çalıştırıyoruz."
      ]
    },
    {
      "cell_type": "code",
      "metadata": {
        "id": "Xy79H4kIvGLm",
        "colab_type": "code",
        "colab": {},
        "outputId": "219dbe1e-f366-4662-ce54-607a957f6c1e"
      },
      "source": [
        "!pip install snowballstemmer"
      ],
      "execution_count": 0,
      "outputs": [
        {
          "output_type": "stream",
          "text": [
            "Requirement already satisfied: snowballstemmer in /home/khan/anaconda3/lib/python3.7/site-packages (2.0.0)\r\n"
          ],
          "name": "stdout"
        }
      ]
    },
    {
      "cell_type": "code",
      "metadata": {
        "id": "IQG9fteQvGLp",
        "colab_type": "code",
        "colab": {}
      },
      "source": [
        "from snowballstemmer import TurkishStemmer"
      ],
      "execution_count": 0,
      "outputs": []
    },
    {
      "cell_type": "code",
      "metadata": {
        "id": "m8RVEUD6vGLr",
        "colab_type": "code",
        "colab": {},
        "outputId": "19847b81-b866-475f-936c-8581da44e6fc"
      },
      "source": [
        "stemmer = TurkishStemmer()\n",
        "\n",
        "row_count = df.shape[0]\n",
        "kökler = stemmer.stemWords(entry.split(\" \"))\n",
        "\n",
        "for i in range(row_count):\n",
        "    entry = df['entry'][i]\n",
        "    entry_kokler = stemmer.stemWords(entry.split(\" \"))\n",
        "    df['entry'][i] = \" \".join(entry_kokler)\n",
        "    \n",
        "df['entry']"
      ],
      "execution_count": 0,
      "outputs": [
        {
          "output_type": "execute_result",
          "data": {
            "text/plain": [
              "0      duygularnı belli etmeye in model bu be şu ara ...\n",
              "1      ankara en güzel bar ne bil biz iç sürekli gidi...\n",
              "2      ekşi itiraf vallahi dil kemik yok 50 yaş saç s...\n",
              "3      500 lira danışmanlık ücret isteye avukat hakkı...\n",
              "4      star trek enterpris yani atılga gemis ve müret...\n",
              "                             ...                        \n",
              "144    zsuat asfalt çöplük heykel ve cansız ma gip şe...\n",
              "145    zor flüt çaldıra eğit siste flüt dedik alet yu...\n",
              "146    bira içe türbanlı kız bu kon ilgil basitçe düş...\n",
              "147    autocadı öğrenmek zor olmama rağme dur lan bir...\n",
              "148    gitar ye başlayan tavsiye gitar çalmak bisikle...\n",
              "Name: entry, Length: 149, dtype: object"
            ]
          },
          "metadata": {
            "tags": []
          },
          "execution_count": 36
        }
      ]
    },
    {
      "cell_type": "markdown",
      "metadata": {
        "id": "-XigObU8vGLt",
        "colab_type": "text"
      },
      "source": [
        "Stemmera sokulmuş hali kaydedilir."
      ]
    },
    {
      "cell_type": "code",
      "metadata": {
        "id": "IP3Iam_kvGLv",
        "colab_type": "code",
        "colab": {}
      },
      "source": [
        "df.to_csv(\"gdrive/My Drive/mbti/preprocessed_dataset_v2.csv\", sep=';', encoding='utf-8')"
      ],
      "execution_count": 0,
      "outputs": []
    },
    {
      "cell_type": "markdown",
      "metadata": {
        "colab_type": "text",
        "id": "dZzvU-o2sc2w"
      },
      "source": [
        "Preprocessing işlemleri yapılır. Burada bir tek Türkçe için stop words listesi kullanılarak girdilerden\n",
        "gereksiz kelimeler atılır. TF-IDF özellik vektörü çıkarılır."
      ]
    },
    {
      "cell_type": "code",
      "metadata": {
        "colab_type": "code",
        "id": "wzSU9aILsc2x",
        "colab": {}
      },
      "source": [
        "tfidf = TfidfVectorizer(sublinear_tf=True, min_df=5, norm='l2', encoding='latin-1', ngram_range=(1, 2), stop_words=stop_word_list, max_features=1000)"
      ],
      "execution_count": 0,
      "outputs": []
    },
    {
      "cell_type": "code",
      "metadata": {
        "colab_type": "code",
        "id": "ueDH4nqFaOBw",
        "outputId": "477cb975-5437-43a0-a049-c71315e99cbb",
        "colab": {
          "base_uri": "https://localhost:8080/",
          "height": 73
        }
      },
      "source": [
        "features = tfidf.fit_transform(df.entry).toarray()"
      ],
      "execution_count": 0,
      "outputs": [
        {
          "output_type": "stream",
          "text": [
            "/usr/local/lib/python3.6/dist-packages/sklearn/feature_extraction/text.py:300: UserWarning: Your stop_words may be inconsistent with your preprocessing. Tokenizing the stop words generated tokens ['lahî'] not in stop_words.\n",
            "  'stop_words.' % sorted(inconsistent))\n"
          ],
          "name": "stderr"
        }
      ]
    },
    {
      "cell_type": "code",
      "metadata": {
        "colab_type": "code",
        "id": "pd49njWEaRgw",
        "outputId": "a09f4a11-9568-47c8-b817-b09619fb1d77",
        "colab": {
          "base_uri": "https://localhost:8080/",
          "height": 35
        }
      },
      "source": [
        "labels = df.type\n",
        "features.shape"
      ],
      "execution_count": 0,
      "outputs": [
        {
          "output_type": "execute_result",
          "data": {
            "text/plain": [
              "(643912, 1000)"
            ]
          },
          "metadata": {
            "tags": []
          },
          "execution_count": 17
        }
      ]
    },
    {
      "cell_type": "markdown",
      "metadata": {
        "colab_type": "text",
        "id": "Zhc5fBeAsc22"
      },
      "source": [
        "(x, y) -> x: döküman (entry) sayısı, y: kelime (vektör) sayısı\n",
        "TF-IDF kullanarak çıkartılan özellik vektörü"
      ]
    },
    {
      "cell_type": "code",
      "metadata": {
        "colab_type": "code",
        "id": "SbgGHLzisc23",
        "colab": {}
      },
      "source": [
        "#pd.set_option('display.max_rows', 20)\n",
        "#pd.set_option('display.max_columns', 20)\n",
        "#pd.set_option('display.width', 1000)\n",
        "\n",
        "#features_df = pd.DataFrame(features)\n",
        "#features_df"
      ],
      "execution_count": 0,
      "outputs": []
    },
    {
      "cell_type": "markdown",
      "metadata": {
        "colab_type": "text",
        "id": "wSJEY4Ursc3A"
      },
      "source": [
        "Multinominal Naive Bayes modeli oluşturulur. Oluşturulan bu model verisetinde \"type\" olarak belirtilen \"analysts\", \"diplomats\", \"sentimenls\", \"explorers\" sınıflarından hangilerine ait olduğunu tahmin etmek için kullanılır"
      ]
    },
    {
      "cell_type": "code",
      "metadata": {
        "colab_type": "code",
        "id": "_AJnVOjgsc3B",
        "colab": {}
      },
      "source": [
        "from sklearn.model_selection import train_test_split\n",
        "from sklearn.feature_extraction.text import CountVectorizer\n",
        "from sklearn.feature_extraction.text import TfidfTransformer\n",
        "from sklearn.naive_bayes import MultinomialNB"
      ],
      "execution_count": 0,
      "outputs": []
    },
    {
      "cell_type": "code",
      "metadata": {
        "colab_type": "code",
        "id": "OGbLV_2tRy6d",
        "colab": {}
      },
      "source": [
        "X_train, X_test, y_train, y_test = train_test_split(df['entry'], df['typeClass'], random_state = 0)\n",
        "count_vect = CountVectorizer()\n",
        "X_train_counts = count_vect.fit_transform(X_train)\n",
        "tfidf_transformer = TfidfTransformer()\n",
        "X_train_tfidf = tfidf_transformer.fit_transform(X_train_counts)\n",
        "clf = MultinomialNB().fit(X_train_tfidf, y_train)\n",
        "\n",
        "test_typeClass = y_test.values\n",
        "   \n",
        "predictions = clf.predict(count_vect.transform(X_test))"
      ],
      "execution_count": 0,
      "outputs": []
    },
    {
      "cell_type": "markdown",
      "metadata": {
        "colab_type": "text",
        "id": "HVUImvDlHPXa"
      },
      "source": [
        "<span style=\"font-size:1.1em\">Yapılacak tahminlerle ilgili istatistiksel verileri tutmak için</span> ```predictions_result```<span style=\"font-size:1.1em\"> adında bir değişken oluşturulur.</span>\n",
        "\n",
        "<span style=\"font-size:1.1em\">Bu değişkenin yapısı aşağıdaki gibidir.</span>\n",
        "\n",
        "```json\n",
        "{\n",
        "    \"predicted\": {\n",
        "        \"analysts\":  { \"actual\": {\"analysts\": 0, \"diplomats\": 0, \"explorers\": 0, \"sentinels\": 0} }\n",
        "        \"diplomats\": { \"actual\": {\"analysts\": 0, \"diplomats\": 0, \"explorers\": 0, \"sentinels\": 0} }\n",
        "        \"explorers\": { \"actual\": {\"analysts\": 0, \"diplomats\": 0, \"explorers\": 0, \"sentinels\": 0} }\n",
        "        \"sentinels\": { \"actual\": {\"analysts\": 0, \"diplomats\": 0, \"explorers\": 0, \"sentinels\": 0} }\n",
        "    }\n",
        "}\n",
        "```\n",
        "\n",
        "* <span style=\"font-size:1.1em;\">Yapılan tahminlerle ilgili verilere ulaşabilmek için</span>\n",
        "\n",
        "    ```predictions_results['predicted']```\n",
        "\n",
        "\n",
        "* <span style=\"font-size:1.1em;\">Yapılan tahminin analyst ise:</span>\n",
        "\n",
        "    ```predictions_results['predicted']['analysts']``` \n",
        "\n",
        "\n",
        "* <span style=\"font-size:1.1em;\">Yapılan analyst tahmininin gerçek değerlerine erişmek için:</span>     \n",
        "\n",
        "    ```predictions_results['predicted']['analysts']['actual']```  \n",
        "\n",
        "\n",
        "* <span style=\"font-size:1.1em;\">Test verisi, model tarafından analysts olarak tahmin edilmiştir ve bu verinin gerçek değeri de analysts'tir.</span>\n",
        "\n",
        "    ```predictions_results['predicted']['analysts']['actual']['analysts']``` "
      ]
    },
    {
      "cell_type": "code",
      "metadata": {
        "colab_type": "code",
        "id": "DD0xZXNNsc3F",
        "colab": {}
      },
      "source": [
        "prediction_results = {'predicted': {}}  ## prediction_result['analysts'] means prediction is 'analysts'\n",
        "\n",
        "prediction_results['predicted']['analysts']  = {'actual': {'analysts': 0, 'diplomats': 0, 'explorers': 0, 'sentinels': 0}}\n",
        "prediction_results['predicted']['diplomats'] = {'actual': {'analysts': 0, 'diplomats': 0, 'explorers': 0, 'sentinels': 0}}\n",
        "prediction_results['predicted']['explorers'] = {'actual': {'analysts': 0, 'diplomats': 0, 'explorers': 0, 'sentinels': 0}}\n",
        "prediction_results['predicted']['sentinels'] = {'actual': {'analysts': 0, 'diplomats': 0, 'explorers': 0, 'sentinels': 0}}\n",
        "\n",
        "## prediction_result['analysts']['diplomats'] means prediction is analysts but actual value is diplomats"
      ],
      "execution_count": 0,
      "outputs": []
    },
    {
      "cell_type": "markdown",
      "metadata": {
        "colab_type": "text",
        "id": "YOFYyew6HPXl"
      },
      "source": [
        "```prediction_results```<span style=\"font-size:1.1em\"> içerisinde tutulan sayaçların değerleri arttırılır.</span>"
      ]
    },
    {
      "cell_type": "code",
      "metadata": {
        "colab_type": "code",
        "id": "Kc7adxOMfmKj",
        "colab": {}
      },
      "source": [
        "for i in range(len(predictions)):\n",
        "  predicted_value = predictions[i]\n",
        "  actual_value = test_typeClass[i]\n",
        "  prediction_results['predicted'][predicted_value]['actual'][actual_value] += 1"
      ],
      "execution_count": 0,
      "outputs": []
    },
    {
      "cell_type": "markdown",
      "metadata": {
        "colab_type": "text",
        "id": "4FDMu4kXHPXr"
      },
      "source": [
        "<span style=\"font-size:1.1em\">JSON formatına çevrilir </span>```dict``` <span style=\"font-size:1.1em\">tipi. Bu sayede daha okunaklı bir şekilde print edilmiş olur. </span>"
      ]
    },
    {
      "cell_type": "code",
      "metadata": {
        "colab_type": "code",
        "id": "4gGDav5qgVQh",
        "outputId": "680b6b61-9c9f-4169-d7d7-132ed0a299ce",
        "scrolled": false,
        "colab": {
          "base_uri": "https://localhost:8080/",
          "height": 665
        }
      },
      "source": [
        "import json\n",
        "\n",
        "print(json.dumps(prediction_results, indent = 2))"
      ],
      "execution_count": 0,
      "outputs": [
        {
          "output_type": "stream",
          "text": [
            "{\n",
            "  \"predicted\": {\n",
            "    \"analysts\": {\n",
            "      \"actual\": {\n",
            "        \"analysts\": 50996,\n",
            "        \"diplomats\": 34907,\n",
            "        \"explorers\": 13169,\n",
            "        \"sentinels\": 22922\n",
            "      }\n",
            "    },\n",
            "    \"diplomats\": {\n",
            "      \"actual\": {\n",
            "        \"analysts\": 9180,\n",
            "        \"diplomats\": 20744,\n",
            "        \"explorers\": 3743,\n",
            "        \"sentinels\": 5176\n",
            "      }\n",
            "    },\n",
            "    \"explorers\": {\n",
            "      \"actual\": {\n",
            "        \"analysts\": 2,\n",
            "        \"diplomats\": 2,\n",
            "        \"explorers\": 16,\n",
            "        \"sentinels\": 1\n",
            "      }\n",
            "    },\n",
            "    \"sentinels\": {\n",
            "      \"actual\": {\n",
            "        \"analysts\": 9,\n",
            "        \"diplomats\": 12,\n",
            "        \"explorers\": 9,\n",
            "        \"sentinels\": 90\n",
            "      }\n",
            "    }\n",
            "  }\n",
            "}\n"
          ],
          "name": "stdout"
        }
      ]
    },
    {
      "cell_type": "markdown",
      "metadata": {
        "colab_type": "text",
        "id": "Uw8Sx7TsHPX1"
      },
      "source": [
        "<span style=\"font-size:1.1em;\">İlgili field extract edilir</span> ```dict``` <span style=\"font-size:1.1em;\">yapısından.</span>"
      ]
    },
    {
      "cell_type": "code",
      "metadata": {
        "colab_type": "code",
        "id": "ZBUI6iMTHPX2",
        "colab": {}
      },
      "source": [
        "results = prediction_results['predicted']"
      ],
      "execution_count": 0,
      "outputs": []
    },
    {
      "cell_type": "markdown",
      "metadata": {
        "colab_type": "text",
        "id": "IoxOrOr6HPX7"
      },
      "source": [
        "<span style=\"font-size:1.1em;\">Başarı oranı hesaplanır</span>"
      ]
    },
    {
      "cell_type": "code",
      "metadata": {
        "colab_type": "code",
        "id": "0S5fD04Zgg11",
        "outputId": "fb17508c-3dca-4682-aa8f-27c24c910a25",
        "colab": {
          "base_uri": "https://localhost:8080/",
          "height": 35
        }
      },
      "source": [
        "accuracy = (results['analysts']['actual']['analysts'] + results['diplomats']['actual']['diplomats'] + results['explorers']['actual']['explorers'] + results['sentinels']['actual']['sentinels']) / len(predictions)\n",
        "accuracy"
      ],
      "execution_count": 0,
      "outputs": [
        {
          "output_type": "execute_result",
          "data": {
            "text/plain": [
              "0.44630943358719827"
            ]
          },
          "metadata": {
            "tags": []
          },
          "execution_count": 24
        }
      ]
    },
    {
      "cell_type": "markdown",
      "metadata": {
        "colab_type": "text",
        "id": "ooofyhgeHPYA"
      },
      "source": [
        "<span style=\"font-size:1.1em;\">**E/I** boyutu tahmin edilir</span>"
      ]
    },
    {
      "cell_type": "code",
      "metadata": {
        "colab_type": "code",
        "id": "ZPmKSg3XrONj",
        "colab": {}
      },
      "source": [
        "X_train, X_test, y_train, y_test = train_test_split(df['entry'], df['I/E'], random_state = 0)  ## Geri kalanlar S, T, J\n",
        "count_vect = CountVectorizer()\n",
        "X_train_counts = count_vect.fit_transform(X_train)\n",
        "tfidf_transformer = TfidfTransformer()\n",
        "X_train_tfidf = tfidf_transformer.fit_transform(X_train_counts)\n",
        "clf = MultinomialNB().fit(X_train_tfidf, y_train)\n",
        "\n",
        "test_typeClass = y_test.values\n",
        "   \n",
        "predictions = clf.predict(count_vect.transform(X_test))"
      ],
      "execution_count": 0,
      "outputs": []
    },
    {
      "cell_type": "code",
      "metadata": {
        "colab_type": "code",
        "id": "hgxavMQorivQ",
        "outputId": "ae95eccd-0a5b-4641-94fc-df03eb628c9d",
        "colab": {
          "base_uri": "https://localhost:8080/",
          "height": 35
        }
      },
      "source": [
        "predictions"
      ],
      "execution_count": 0,
      "outputs": [
        {
          "output_type": "execute_result",
          "data": {
            "text/plain": [
              "array(['I', 'E', 'E', ..., 'I', 'I', 'I'], dtype='<U1')"
            ]
          },
          "metadata": {
            "tags": []
          },
          "execution_count": 26
        }
      ]
    },
    {
      "cell_type": "code",
      "metadata": {
        "colab_type": "code",
        "id": "DlQeP5BFr0BA",
        "outputId": "c51552fa-3df9-40ab-c153-f663860692ae",
        "colab": {
          "base_uri": "https://localhost:8080/",
          "height": 35
        }
      },
      "source": [
        "predicted = {}\n",
        "predicted['I'] = {'actual': {'I': 0, 'E': 0}}\n",
        "predicted['E'] = {'actual': {'I': 0, 'E': 0}}\n",
        "predicted"
      ],
      "execution_count": 0,
      "outputs": [
        {
          "output_type": "execute_result",
          "data": {
            "text/plain": [
              "{'E': {'actual': {'E': 0, 'I': 0}}, 'I': {'actual': {'E': 0, 'I': 0}}}"
            ]
          },
          "metadata": {
            "tags": []
          },
          "execution_count": 27
        }
      ]
    },
    {
      "cell_type": "markdown",
      "metadata": {
        "colab_type": "text",
        "id": "42m2S967HPYP"
      },
      "source": [
        "<span style=\"font-size:1.1em;\">Modelin tahminleri 1-0 şeklindedir. 1: evet bu değer demektir. 0: hayır bu değer değil demektir. Verisetinde sütunun ismi E'dir. Eğer ki modelin tahmini E ise 1 değerini verir.</span> ```predicted```<span style=\"font-size:1.1em\">'teki ilgili değere erişebilmek adına </span> ```int_to_class``` <span style=\"font-size:1.1.em;\"> <span style=\"font-size:1.1em;\">array'i kullanılır</span>"
      ]
    },
    {
      "cell_type": "code",
      "metadata": {
        "colab_type": "code",
        "id": "F38Wm7lnsNxh",
        "colab": {}
      },
      "source": [
        "for i in range(len(predictions)):\n",
        "  predicted[predictions[i]]['actual'][test_typeClass[i]] += 1\n"
      ],
      "execution_count": 0,
      "outputs": []
    },
    {
      "cell_type": "code",
      "metadata": {
        "colab_type": "code",
        "id": "pCppRIUitZ3A",
        "outputId": "cf1760d2-51db-4205-ac7e-578fb8b1e64b",
        "colab": {
          "base_uri": "https://localhost:8080/",
          "height": 53
        }
      },
      "source": [
        "predicted"
      ],
      "execution_count": 0,
      "outputs": [
        {
          "output_type": "execute_result",
          "data": {
            "text/plain": [
              "{'E': {'actual': {'E': 37079, 'I': 20619}},\n",
              " 'I': {'actual': {'E': 43770, 'I': 59510}}}"
            ]
          },
          "metadata": {
            "tags": []
          },
          "execution_count": 29
        }
      ]
    },
    {
      "cell_type": "code",
      "metadata": {
        "colab_type": "code",
        "id": "sRxuH3Fht6me",
        "colab": {}
      },
      "source": [
        "accuracy = (predicted['E']['actual']['E'] + predicted['I']['actual']['I']) / len(predictions)"
      ],
      "execution_count": 0,
      "outputs": []
    },
    {
      "cell_type": "code",
      "metadata": {
        "colab_type": "code",
        "id": "11O91HLLuH27",
        "outputId": "83610ceb-11c4-44b7-af24-cfc3a9ee3381",
        "colab": {
          "base_uri": "https://localhost:8080/",
          "height": 35
        }
      },
      "source": [
        "accuracy"
      ],
      "execution_count": 0,
      "outputs": [
        {
          "output_type": "execute_result",
          "data": {
            "text/plain": [
              "0.6000136664637404"
            ]
          },
          "metadata": {
            "tags": []
          },
          "execution_count": 31
        }
      ]
    },
    {
      "cell_type": "markdown",
      "metadata": {
        "colab_type": "text",
        "id": "ktc8Y-2hHPYg"
      },
      "source": [
        "<span style=\"font-size:1.1em\">**S/N** boyutu tahmin edilir.</span>"
      ]
    },
    {
      "cell_type": "code",
      "metadata": {
        "colab_type": "code",
        "id": "mq8qRr5RuSVO",
        "colab": {}
      },
      "source": [
        "X_train, X_test, y_train, y_test = train_test_split(df['entry'], df['S/N'], random_state = 0)  ## Geri kalan boyutlar: T, J\n",
        "count_vect = CountVectorizer()\n",
        "X_train_counts = count_vect.fit_transform(X_train)\n",
        "tfidf_transformer = TfidfTransformer()\n",
        "X_train_tfidf = tfidf_transformer.fit_transform(X_train_counts)\n",
        "clf = MultinomialNB().fit(X_train_tfidf, y_train)\n",
        "\n",
        "test_typeClass = y_test.values\n",
        "   \n",
        "predictions = clf.predict(count_vect.transform(X_test))"
      ],
      "execution_count": 0,
      "outputs": []
    },
    {
      "cell_type": "code",
      "metadata": {
        "colab_type": "code",
        "id": "VzV1av-CuZ2b",
        "outputId": "bfc78fc2-1ccf-47af-c931-0f03f16e6d48",
        "colab": {
          "base_uri": "https://localhost:8080/",
          "height": 89
        }
      },
      "source": [
        "predicted['N'] = {'actual': {'N': 0, 'S': 0}}\n",
        "predicted['S'] = {'actual': {'N': 0, 'S': 0}}\n",
        "\n",
        "predicted"
      ],
      "execution_count": 0,
      "outputs": [
        {
          "output_type": "execute_result",
          "data": {
            "text/plain": [
              "{'E': {'actual': {'E': 37079, 'I': 20619}},\n",
              " 'I': {'actual': {'E': 43770, 'I': 59510}},\n",
              " 'N': {'actual': {'N': 0, 'S': 0}},\n",
              " 'S': {'actual': {'N': 0, 'S': 0}}}"
            ]
          },
          "metadata": {
            "tags": []
          },
          "execution_count": 33
        }
      ]
    },
    {
      "cell_type": "code",
      "metadata": {
        "colab_type": "code",
        "id": "Fm2wvaVYuklE",
        "colab": {}
      },
      "source": [
        "for i in range(len(predictions)):\n",
        "  predicted[predictions[i]]['actual'][test_typeClass[i]] += 1"
      ],
      "execution_count": 0,
      "outputs": []
    },
    {
      "cell_type": "code",
      "metadata": {
        "colab_type": "code",
        "id": "YbVEQPPsvebF",
        "outputId": "f61c50a2-859b-4aab-e62e-002d346e066a",
        "colab": {
          "base_uri": "https://localhost:8080/",
          "height": 89
        }
      },
      "source": [
        "predicted"
      ],
      "execution_count": 0,
      "outputs": [
        {
          "output_type": "execute_result",
          "data": {
            "text/plain": [
              "{'E': {'actual': {'E': 37079, 'I': 20619}},\n",
              " 'I': {'actual': {'E': 43770, 'I': 59510}},\n",
              " 'N': {'actual': {'N': 115804, 'S': 44982}},\n",
              " 'S': {'actual': {'N': 48, 'S': 144}}}"
            ]
          },
          "metadata": {
            "tags": []
          },
          "execution_count": 35
        }
      ]
    },
    {
      "cell_type": "code",
      "metadata": {
        "colab_type": "code",
        "id": "tQJQoGQavLgv",
        "colab": {}
      },
      "source": [
        "accuracy = (predicted['N']['actual']['N'] + predicted['S']['actual']['S']) / len(predictions)"
      ],
      "execution_count": 0,
      "outputs": []
    },
    {
      "cell_type": "code",
      "metadata": {
        "colab_type": "code",
        "id": "LbegGjPNvXJO",
        "outputId": "8f4601c8-aae9-425c-f0c9-a4b406760f26",
        "colab": {
          "base_uri": "https://localhost:8080/",
          "height": 35
        }
      },
      "source": [
        "accuracy"
      ],
      "execution_count": 0,
      "outputs": [
        {
          "output_type": "execute_result",
          "data": {
            "text/plain": [
              "0.7202723353501721"
            ]
          },
          "metadata": {
            "tags": []
          },
          "execution_count": 37
        }
      ]
    },
    {
      "cell_type": "markdown",
      "metadata": {
        "colab_type": "text",
        "id": "vqKVIk9uHPZA"
      },
      "source": [
        "<span style=\"font-size:1.1em\">**T/F** boyutu tahmin edilir.</span>"
      ]
    },
    {
      "cell_type": "code",
      "metadata": {
        "colab_type": "code",
        "id": "qKVLLnYJwOHR",
        "colab": {}
      },
      "source": [
        "X_train, X_test, y_train, y_test = train_test_split(df['entry'], df['T/F'], random_state = 0)  ##  J\n",
        "count_vect = CountVectorizer()\n",
        "X_train_counts = count_vect.fit_transform(X_train)\n",
        "tfidf_transformer = TfidfTransformer()\n",
        "X_train_tfidf = tfidf_transformer.fit_transform(X_train_counts)\n",
        "clf = MultinomialNB().fit(X_train_tfidf, y_train)\n",
        "\n",
        "test_typeClass = y_test.values\n",
        "   \n",
        "predictions = clf.predict(count_vect.transform(X_test))"
      ],
      "execution_count": 0,
      "outputs": []
    },
    {
      "cell_type": "code",
      "metadata": {
        "colab_type": "code",
        "id": "839RnfNfwT77",
        "outputId": "e89ee132-1e26-4add-e48b-c80c9c171aaf",
        "colab": {
          "base_uri": "https://localhost:8080/",
          "height": 125
        }
      },
      "source": [
        "predicted['T'] = {'actual': {'T': 0, 'F': 0}}\n",
        "predicted['F'] = {'actual': {'T': 0, 'F': 0}}\n",
        "\n",
        "predicted"
      ],
      "execution_count": 0,
      "outputs": [
        {
          "output_type": "execute_result",
          "data": {
            "text/plain": [
              "{'E': {'actual': {'E': 37079, 'I': 20619}},\n",
              " 'F': {'actual': {'F': 0, 'T': 0}},\n",
              " 'I': {'actual': {'E': 43770, 'I': 59510}},\n",
              " 'N': {'actual': {'N': 115804, 'S': 44982}},\n",
              " 'S': {'actual': {'N': 48, 'S': 144}},\n",
              " 'T': {'actual': {'F': 0, 'T': 0}}}"
            ]
          },
          "metadata": {
            "tags": []
          },
          "execution_count": 39
        }
      ]
    },
    {
      "cell_type": "code",
      "metadata": {
        "colab_type": "code",
        "id": "sd9lUb13wbdK",
        "colab": {}
      },
      "source": [
        "for i in range(len(predictions)):\n",
        "  predicted[predictions[i]]['actual'][test_typeClass[i]] += 1"
      ],
      "execution_count": 0,
      "outputs": []
    },
    {
      "cell_type": "code",
      "metadata": {
        "colab_type": "code",
        "id": "Js9--v33ws5A",
        "outputId": "877479a4-5a01-4d07-aa1d-529f90ab373d",
        "colab": {
          "base_uri": "https://localhost:8080/",
          "height": 125
        }
      },
      "source": [
        "predicted"
      ],
      "execution_count": 0,
      "outputs": [
        {
          "output_type": "execute_result",
          "data": {
            "text/plain": [
              "{'E': {'actual': {'E': 37079, 'I': 20619}},\n",
              " 'F': {'actual': {'F': 22559, 'T': 10311}},\n",
              " 'I': {'actual': {'E': 43770, 'I': 59510}},\n",
              " 'N': {'actual': {'N': 115804, 'S': 44982}},\n",
              " 'S': {'actual': {'N': 48, 'S': 144}},\n",
              " 'T': {'actual': {'F': 52718, 'T': 75390}}}"
            ]
          },
          "metadata": {
            "tags": []
          },
          "execution_count": 41
        }
      ]
    },
    {
      "cell_type": "code",
      "metadata": {
        "colab_type": "code",
        "id": "i2ycKt6ZwuOC",
        "colab": {}
      },
      "source": [
        "accuracy = (predicted['F']['actual']['F'] + predicted['T']['actual']['T']) / len(predictions)"
      ],
      "execution_count": 0,
      "outputs": []
    },
    {
      "cell_type": "code",
      "metadata": {
        "colab_type": "code",
        "id": "5WkLA4z8x12q",
        "outputId": "0d161c4f-401a-42ae-81c4-23bc08b3de27",
        "colab": {
          "base_uri": "https://localhost:8080/",
          "height": 35
        }
      },
      "source": [
        "accuracy"
      ],
      "execution_count": 0,
      "outputs": [
        {
          "output_type": "execute_result",
          "data": {
            "text/plain": [
              "0.6084620258668887"
            ]
          },
          "metadata": {
            "tags": []
          },
          "execution_count": 43
        }
      ]
    },
    {
      "cell_type": "markdown",
      "metadata": {
        "colab_type": "text",
        "id": "APORaOlVHPZh"
      },
      "source": [
        "<span style=\"font-size:1.1em\">**J/P** boyutu tahmin edilir.</span>"
      ]
    },
    {
      "cell_type": "code",
      "metadata": {
        "colab_type": "code",
        "id": "UuEb2k8Qx41D",
        "colab": {}
      },
      "source": [
        "X_train, X_test, y_train, y_test = train_test_split(df['entry'], df['J/P'], random_state = 0) \n",
        "count_vect = CountVectorizer()\n",
        "X_train_counts = count_vect.fit_transform(X_train)\n",
        "tfidf_transformer = TfidfTransformer()\n",
        "X_train_tfidf = tfidf_transformer.fit_transform(X_train_counts)\n",
        "clf = MultinomialNB().fit(X_train_tfidf, y_train)\n",
        "\n",
        "test_typeClass = y_test.values\n",
        "   \n",
        "predictions = clf.predict(count_vect.transform(X_test))"
      ],
      "execution_count": 0,
      "outputs": []
    },
    {
      "cell_type": "code",
      "metadata": {
        "colab_type": "code",
        "id": "Dw-8uFkbx9m7",
        "outputId": "bb3b8cc7-f7b8-476a-fc61-514e37ba5577",
        "colab": {
          "base_uri": "https://localhost:8080/",
          "height": 161
        }
      },
      "source": [
        "predicted['J'] = {'actual': {'J': 0, 'P': 0}}\n",
        "predicted['P'] = {'actual': {'J': 0, 'P': 0}}\n",
        "\n",
        "predicted"
      ],
      "execution_count": 0,
      "outputs": [
        {
          "output_type": "execute_result",
          "data": {
            "text/plain": [
              "{'E': {'actual': {'E': 37079, 'I': 20619}},\n",
              " 'F': {'actual': {'F': 22559, 'T': 10311}},\n",
              " 'I': {'actual': {'E': 43770, 'I': 59510}},\n",
              " 'J': {'actual': {'J': 0, 'P': 0}},\n",
              " 'N': {'actual': {'N': 115804, 'S': 44982}},\n",
              " 'P': {'actual': {'J': 0, 'P': 0}},\n",
              " 'S': {'actual': {'N': 48, 'S': 144}},\n",
              " 'T': {'actual': {'F': 52718, 'T': 75390}}}"
            ]
          },
          "metadata": {
            "tags": []
          },
          "execution_count": 49
        }
      ]
    },
    {
      "cell_type": "code",
      "metadata": {
        "colab_type": "code",
        "id": "dYu5m1TRyGNB",
        "colab": {}
      },
      "source": [
        "for i in range(len(predictions)):\n",
        "  predicted[predictions[i]]['actual'][test_typeClass[i]] += 1"
      ],
      "execution_count": 0,
      "outputs": []
    },
    {
      "cell_type": "code",
      "metadata": {
        "colab_type": "code",
        "id": "PHsAWw-6yOdi",
        "outputId": "86d511bb-0c8e-4d86-9cf4-95345cb8cc1c",
        "colab": {
          "base_uri": "https://localhost:8080/",
          "height": 161
        }
      },
      "source": [
        "predicted"
      ],
      "execution_count": 0,
      "outputs": [
        {
          "output_type": "execute_result",
          "data": {
            "text/plain": [
              "{'E': {'actual': {'E': 37079, 'I': 20619}},\n",
              " 'F': {'actual': {'F': 22559, 'T': 10311}},\n",
              " 'I': {'actual': {'E': 43770, 'I': 59510}},\n",
              " 'J': {'actual': {'J': 41181, 'P': 28484}},\n",
              " 'N': {'actual': {'N': 115804, 'S': 44982}},\n",
              " 'P': {'actual': {'J': 36764, 'P': 54549}},\n",
              " 'S': {'actual': {'N': 48, 'S': 144}},\n",
              " 'T': {'actual': {'F': 52718, 'T': 75390}}}"
            ]
          },
          "metadata": {
            "tags": []
          },
          "execution_count": 52
        }
      ]
    },
    {
      "cell_type": "code",
      "metadata": {
        "colab_type": "code",
        "id": "LHYecNUuyQGL",
        "colab": {}
      },
      "source": [
        "accuracy = (predicted['P']['actual']['P'] + predicted['J']['actual']['J']) / len(predictions)"
      ],
      "execution_count": 0,
      "outputs": []
    },
    {
      "cell_type": "code",
      "metadata": {
        "colab_type": "code",
        "id": "jtNZq3mTyW6r",
        "outputId": "76ac6629-bd4c-4539-d0d7-d6d6c345d052",
        "colab": {
          "base_uri": "https://localhost:8080/",
          "height": 35
        }
      },
      "source": [
        "accuracy"
      ],
      "execution_count": 0,
      "outputs": [
        {
          "output_type": "execute_result",
          "data": {
            "text/plain": [
              "0.5946775335760166"
            ]
          },
          "metadata": {
            "tags": []
          },
          "execution_count": 54
        }
      ]
    },
    {
      "cell_type": "code",
      "metadata": {
        "colab_type": "code",
        "id": "MQuyqSw-yjse",
        "outputId": "31d8b138-f615-4ea6-d2c8-9159fe4c7cc3",
        "colab": {
          "base_uri": "https://localhost:8080/",
          "height": 161
        }
      },
      "source": [
        "prediction_results['predicted'] = predicted\n",
        "\n",
        "prediction_results"
      ],
      "execution_count": 0,
      "outputs": [
        {
          "output_type": "execute_result",
          "data": {
            "text/plain": [
              "{'predicted': {'E': {'actual': {'E': 37079, 'I': 20619}},\n",
              "  'F': {'actual': {'F': 22559, 'T': 10311}},\n",
              "  'I': {'actual': {'E': 43770, 'I': 59510}},\n",
              "  'J': {'actual': {'J': 41181, 'P': 28484}},\n",
              "  'N': {'actual': {'N': 115804, 'S': 44982}},\n",
              "  'P': {'actual': {'J': 36764, 'P': 54549}},\n",
              "  'S': {'actual': {'N': 48, 'S': 144}},\n",
              "  'T': {'actual': {'F': 52718, 'T': 75390}}}}"
            ]
          },
          "metadata": {
            "tags": []
          },
          "execution_count": 55
        }
      ]
    }
  ]
}