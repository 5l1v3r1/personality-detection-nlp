{
  "nbformat": 4,
  "nbformat_minor": 0,
  "metadata": {
    "colab": {
      "name": "naive_bayes.ipynb",
      "provenance": [],
      "collapsed_sections": [],
      "machine_shape": "hm"
    },
    "kernelspec": {
      "display_name": "Python 3",
      "language": "python",
      "name": "python3"
    },
    "language_info": {
      "codemirror_mode": {
        "name": "ipython",
        "version": 3
      },
      "file_extension": ".py",
      "mimetype": "text/x-python",
      "name": "python",
      "nbconvert_exporter": "python",
      "pygments_lexer": "ipython3",
      "version": "3.7.4"
    }
  },
  "cells": [
    {
      "cell_type": "markdown",
      "metadata": {
        "colab_type": "text",
        "id": "0jNfS3mXsc2O"
      },
      "source": [
        "<span style=\"font-size:1.1em;\">Colab'a Google drive'ı entegre ediyoruz. Kullanılacak olan veriseti Google Drive'da bulunmaktadır</span>"
      ]
    },
    {
      "cell_type": "code",
      "metadata": {
        "colab_type": "code",
        "id": "d_zKJmJWQG19",
        "outputId": "9cd6b6f7-60b9-44c7-97e1-b4ffd1dbd86e",
        "colab": {
          "base_uri": "https://localhost:8080/",
          "height": 122
        }
      },
      "source": [
        "from google.colab import drive\n",
        "drive.mount('/content/gdrive')"
      ],
      "execution_count": 1,
      "outputs": [
        {
          "output_type": "stream",
          "text": [
            "Go to this URL in a browser: https://accounts.google.com/o/oauth2/auth?client_id=947318989803-6bn6qk8qdgf4n4g3pfee6491hc0brc4i.apps.googleusercontent.com&redirect_uri=urn%3aietf%3awg%3aoauth%3a2.0%3aoob&response_type=code&scope=email%20https%3a%2f%2fwww.googleapis.com%2fauth%2fdocs.test%20https%3a%2f%2fwww.googleapis.com%2fauth%2fdrive%20https%3a%2f%2fwww.googleapis.com%2fauth%2fdrive.photos.readonly%20https%3a%2f%2fwww.googleapis.com%2fauth%2fpeopleapi.readonly\n",
            "\n",
            "Enter your authorization code:\n",
            "··········\n",
            "Mounted at /content/gdrive\n"
          ],
          "name": "stdout"
        }
      ]
    },
    {
      "cell_type": "code",
      "metadata": {
        "colab_type": "code",
        "id": "CA6I9IrzVr2v",
        "colab": {}
      },
      "source": [
        "import pandas as pd "
      ],
      "execution_count": 0,
      "outputs": []
    },
    {
      "cell_type": "markdown",
      "metadata": {
        "id": "97IoTlPeHPVf",
        "colab_type": "text"
      },
      "source": [
        "<span style=\"font-size:1.1em;\">Google Drive'ımızın root pathi</span> ```gdrive/My Drive``` <span style=\"font-size:1.1em;\">oluyor. Proje için gerekli verisetini **mbti** adında bir klasör oluşturup içerisine yüklüyoruz. İlgili verisetinin pathi</span> ```gdrive/My Drive/mbti/all_users.csv``` <span style=\"font-size:1.1em;\">oluyor.</span>"
      ]
    },
    {
      "cell_type": "code",
      "metadata": {
        "colab_type": "code",
        "id": "P4qtF-14sc2S",
        "colab": {}
      },
      "source": [
        "df = pd.read_csv(\"gdrive/My Drive/mbti/all_users.csv\", sep = ';', header = 0) "
      ],
      "execution_count": 0,
      "outputs": []
    },
    {
      "cell_type": "code",
      "metadata": {
        "colab_type": "code",
        "id": "vtN4QiN4sc2Y",
        "outputId": "7dfff93d-7ab9-4737-9954-6642e1fe3863",
        "colab": {
          "base_uri": "https://localhost:8080/",
          "height": 419
        }
      },
      "source": [
        "df"
      ],
      "execution_count": 25,
      "outputs": [
        {
          "output_type": "execute_result",
          "data": {
            "text/html": [
              "<div>\n",
              "<style scoped>\n",
              "    .dataframe tbody tr th:only-of-type {\n",
              "        vertical-align: middle;\n",
              "    }\n",
              "\n",
              "    .dataframe tbody tr th {\n",
              "        vertical-align: top;\n",
              "    }\n",
              "\n",
              "    .dataframe thead th {\n",
              "        text-align: right;\n",
              "    }\n",
              "</style>\n",
              "<table border=\"1\" class=\"dataframe\">\n",
              "  <thead>\n",
              "    <tr style=\"text-align: right;\">\n",
              "      <th></th>\n",
              "      <th>user</th>\n",
              "      <th>entry</th>\n",
              "      <th>type</th>\n",
              "      <th>typeClass</th>\n",
              "      <th>E</th>\n",
              "      <th>S</th>\n",
              "      <th>T</th>\n",
              "      <th>J</th>\n",
              "      <th>Unnamed: 8</th>\n",
              "    </tr>\n",
              "  </thead>\n",
              "  <tbody>\n",
              "    <tr>\n",
              "      <th>0</th>\n",
              "      <td>19991991</td>\n",
              "      <td>ekşi itiraf 3</td>\n",
              "      <td>analysts</td>\n",
              "      <td>entj</td>\n",
              "      <td>1</td>\n",
              "      <td>0</td>\n",
              "      <td>1</td>\n",
              "      <td>1</td>\n",
              "      <td>NaN</td>\n",
              "    </tr>\n",
              "    <tr>\n",
              "      <th>1</th>\n",
              "      <td>19991991</td>\n",
              "      <td>duygularını belli etmeyen insan modeli bu beni...</td>\n",
              "      <td>analysts</td>\n",
              "      <td>entj</td>\n",
              "      <td>1</td>\n",
              "      <td>0</td>\n",
              "      <td>1</td>\n",
              "      <td>1</td>\n",
              "      <td>NaN</td>\n",
              "    </tr>\n",
              "    <tr>\n",
              "      <th>2</th>\n",
              "      <td>19991991</td>\n",
              "      <td>doğum günü resmi olarak kimlikte yazan doğum t...</td>\n",
              "      <td>analysts</td>\n",
              "      <td>entj</td>\n",
              "      <td>1</td>\n",
              "      <td>0</td>\n",
              "      <td>1</td>\n",
              "      <td>1</td>\n",
              "      <td>NaN</td>\n",
              "    </tr>\n",
              "    <tr>\n",
              "      <th>3</th>\n",
              "      <td>19991991</td>\n",
              "      <td>kendime not galiba dün akşam siz ne içtiniz de...</td>\n",
              "      <td>analysts</td>\n",
              "      <td>entj</td>\n",
              "      <td>1</td>\n",
              "      <td>0</td>\n",
              "      <td>1</td>\n",
              "      <td>1</td>\n",
              "      <td>NaN</td>\n",
              "    </tr>\n",
              "    <tr>\n",
              "      <th>5</th>\n",
              "      <td>19991991</td>\n",
              "      <td>ekşi itiraf vallahi dilinin kemiği yok 50 yaşı...</td>\n",
              "      <td>analysts</td>\n",
              "      <td>entj</td>\n",
              "      <td>1</td>\n",
              "      <td>0</td>\n",
              "      <td>1</td>\n",
              "      <td>1</td>\n",
              "      <td>NaN</td>\n",
              "    </tr>\n",
              "    <tr>\n",
              "      <th>...</th>\n",
              "      <td>...</td>\n",
              "      <td>...</td>\n",
              "      <td>...</td>\n",
              "      <td>...</td>\n",
              "      <td>...</td>\n",
              "      <td>...</td>\n",
              "      <td>...</td>\n",
              "      <td>...</td>\n",
              "      <td>...</td>\n",
              "    </tr>\n",
              "    <tr>\n",
              "      <th>639116</th>\n",
              "      <td>whiskylife</td>\n",
              "      <td>dursun özbek güya galatasarayın ekonomisini dü...</td>\n",
              "      <td>sentinels</td>\n",
              "      <td>istj</td>\n",
              "      <td>0</td>\n",
              "      <td>1</td>\n",
              "      <td>1</td>\n",
              "      <td>1</td>\n",
              "      <td>NaN</td>\n",
              "    </tr>\n",
              "    <tr>\n",
              "      <th>639117</th>\n",
              "      <td>whiskylife</td>\n",
              "      <td>düşün ki o bunu okuyor o kadar özledim ki seni...</td>\n",
              "      <td>sentinels</td>\n",
              "      <td>istj</td>\n",
              "      <td>0</td>\n",
              "      <td>1</td>\n",
              "      <td>1</td>\n",
              "      <td>1</td>\n",
              "      <td>NaN</td>\n",
              "    </tr>\n",
              "    <tr>\n",
              "      <th>639119</th>\n",
              "      <td>whiskylife</td>\n",
              "      <td>bağlaç olan de de ayrı yazılır takıntısı gerek...</td>\n",
              "      <td>sentinels</td>\n",
              "      <td>istj</td>\n",
              "      <td>0</td>\n",
              "      <td>1</td>\n",
              "      <td>1</td>\n",
              "      <td>1</td>\n",
              "      <td>NaN</td>\n",
              "    </tr>\n",
              "    <tr>\n",
              "      <th>639120</th>\n",
              "      <td>whiskylife</td>\n",
              "      <td>21 ocak 2017 liverpool swensea maçı 23 swansea...</td>\n",
              "      <td>sentinels</td>\n",
              "      <td>istj</td>\n",
              "      <td>0</td>\n",
              "      <td>1</td>\n",
              "      <td>1</td>\n",
              "      <td>1</td>\n",
              "      <td>NaN</td>\n",
              "    </tr>\n",
              "    <tr>\n",
              "      <th>639122</th>\n",
              "      <td>whiskylife</td>\n",
              "      <td>kanal dnin imdb puanı 3 olan filmler kuşağı iç...</td>\n",
              "      <td>sentinels</td>\n",
              "      <td>istj</td>\n",
              "      <td>0</td>\n",
              "      <td>1</td>\n",
              "      <td>1</td>\n",
              "      <td>1</td>\n",
              "      <td>NaN</td>\n",
              "    </tr>\n",
              "  </tbody>\n",
              "</table>\n",
              "<p>534966 rows × 9 columns</p>\n",
              "</div>"
            ],
            "text/plain": [
              "              user  ... Unnamed: 8\n",
              "0         19991991  ...        NaN\n",
              "1         19991991  ...        NaN\n",
              "2         19991991  ...        NaN\n",
              "3         19991991  ...        NaN\n",
              "5         19991991  ...        NaN\n",
              "...            ...  ...        ...\n",
              "639116  whiskylife  ...        NaN\n",
              "639117  whiskylife  ...        NaN\n",
              "639119  whiskylife  ...        NaN\n",
              "639120  whiskylife  ...        NaN\n",
              "639122  whiskylife  ...        NaN\n",
              "\n",
              "[534966 rows x 9 columns]"
            ]
          },
          "metadata": {
            "tags": []
          },
          "execution_count": 25
        }
      ]
    },
    {
      "cell_type": "code",
      "metadata": {
        "colab_type": "code",
        "id": "vkuqae_1sc2g",
        "scrolled": true,
        "colab": {}
      },
      "source": [
        "import matplotlib.pyplot as plt"
      ],
      "execution_count": 0,
      "outputs": []
    },
    {
      "cell_type": "markdown",
      "metadata": {
        "colab_type": "text",
        "id": "WgKPqLP6sc2f"
      },
      "source": [
        "<span style=\"font-size:1.1em;\">Verisetinin **class** tiplerine göre dağılım</span>"
      ]
    },
    {
      "cell_type": "code",
      "metadata": {
        "colab_type": "code",
        "id": "O5zNSY97RgFT",
        "outputId": "95463835-e990-4c59-b70f-b51e47878431",
        "colab": {
          "base_uri": "https://localhost:8080/",
          "height": 427
        }
      },
      "source": [
        "fig = plt.figure(figsize=(8,6))\n",
        "\n",
        "df.groupby('type').type.count().plot.bar(ylim=0)\n",
        "plt.show()"
      ],
      "execution_count": 6,
      "outputs": [
        {
          "output_type": "display_data",
          "data": {
            "image/png": "[encoded data removed]",
            "text/plain": [
              "<Figure size 576x432 with 1 Axes>"
            ]
          },
          "metadata": {
            "tags": []
          }
        }
      ]
    },
    {
      "cell_type": "markdown",
      "metadata": {
        "id": "yxKqqcIOHPV6",
        "colab_type": "text"
      },
      "source": [
        "<span style=\"font-size:1.1em;\">Verisetindeki **I/E** dağılımını göstermektedir. I olanlar x ekseninde 0 olarak E olanlar ise 1 olarak gösterilmektedir</span>"
      ]
    },
    {
      "cell_type": "code",
      "metadata": {
        "id": "Px9BDE58HPV8",
        "colab_type": "code",
        "outputId": "4449953d-3dc9-4681-ddd3-d0130cbd430a",
        "colab": {
          "base_uri": "https://localhost:8080/",
          "height": 384
        }
      },
      "source": [
        "fig = plt.figure(figsize=(8,6))\n",
        "\n",
        "df.groupby('E').type.count().plot.bar(ylim=0)\n",
        "plt.show()"
      ],
      "execution_count": 7,
      "outputs": [
        {
          "output_type": "display_data",
          "data": {
            "image/png": "[encoded data removed]",
            "text/plain": [
              "<Figure size 576x432 with 1 Axes>"
            ]
          },
          "metadata": {
            "tags": []
          }
        }
      ]
    },
    {
      "cell_type": "markdown",
      "metadata": {
        "id": "60eHkTmxHPWB",
        "colab_type": "text"
      },
      "source": [
        "<span style=\"font-size:1.1em;\">Verisetindeki **S/N** dağılımını göstermektedir. N olanlar x ekseninde 0 olarak S olanlar ise 1 olarak gösterilmektedir</span>"
      ]
    },
    {
      "cell_type": "code",
      "metadata": {
        "id": "r-n8D9GuHPWD",
        "colab_type": "code",
        "outputId": "80c19350-0f59-4d92-ba2a-9c343319cf0d",
        "colab": {
          "base_uri": "https://localhost:8080/",
          "height": 384
        }
      },
      "source": [
        "fig = plt.figure(figsize=(8,6))\n",
        "\n",
        "df.groupby('S').type.count().plot.bar(ylim=0)\n",
        "plt.show()"
      ],
      "execution_count": 8,
      "outputs": [
        {
          "output_type": "display_data",
          "data": {
            "image/png": "[encoded data removed]",
            "text/plain": [
              "<Figure size 576x432 with 1 Axes>"
            ]
          },
          "metadata": {
            "tags": []
          }
        }
      ]
    },
    {
      "cell_type": "markdown",
      "metadata": {
        "id": "YFqrkEQXHPWJ",
        "colab_type": "text"
      },
      "source": [
        "<span style=\"font-size:1.1em;\">Verisetindeki **T/F** dağılımını göstermektedir. F olanlar x ekseninde 0 olarak T olanlar ise 1 olarak gösterilmektedir</span>"
      ]
    },
    {
      "cell_type": "code",
      "metadata": {
        "id": "x9wbF0DjHPWL",
        "colab_type": "code",
        "outputId": "aef3153b-c2d3-4429-c026-32dfb515073a",
        "colab": {
          "base_uri": "https://localhost:8080/",
          "height": 384
        }
      },
      "source": [
        "fig = plt.figure(figsize=(8,6))\n",
        "\n",
        "df.groupby('T').type.count().plot.bar(ylim=0)\n",
        "plt.show()"
      ],
      "execution_count": 9,
      "outputs": [
        {
          "output_type": "display_data",
          "data": {
            "image/png": "[encoded data removed]",
            "text/plain": [
              "<Figure size 576x432 with 1 Axes>"
            ]
          },
          "metadata": {
            "tags": []
          }
        }
      ]
    },
    {
      "cell_type": "markdown",
      "metadata": {
        "id": "LLG8qi_6HPWQ",
        "colab_type": "text"
      },
      "source": [
        "<span style=\"font-size:1.1em;\">Verisetindeki **J/P** dağılımını göstermektedir. P olanlar x ekseninde 0 olarak J olanlar ise 1 olarak gösterilmektedir</span>"
      ]
    },
    {
      "cell_type": "code",
      "metadata": {
        "id": "PnYcABt4HPWS",
        "colab_type": "code",
        "outputId": "d7b7a57b-c2f7-4352-fe89-c8adbe0c159c",
        "colab": {
          "base_uri": "https://localhost:8080/",
          "height": 384
        }
      },
      "source": [
        "fig = plt.figure(figsize=(8,6))\n",
        "\n",
        "df.groupby('J').type.count().plot.bar(ylim=0)\n",
        "plt.show()"
      ],
      "execution_count": 10,
      "outputs": [
        {
          "output_type": "display_data",
          "data": {
            "image/png": "[encoded data removed]",
            "text/plain": [
              "<Figure size 576x432 with 1 Axes>"
            ]
          },
          "metadata": {
            "tags": []
          }
        }
      ]
    },
    {
      "cell_type": "markdown",
      "metadata": {
        "colab_type": "text",
        "id": "nXN5GZtKsc2l"
      },
      "source": [
        "Stop words, drive'da /mbti altındaki stop_words_tr.txt okunarak alınır\n",
        "\n",
        "---\n",
        "\n"
      ]
    },
    {
      "cell_type": "code",
      "metadata": {
        "colab_type": "code",
        "id": "AJxv2CTzsc2m",
        "colab": {}
      },
      "source": [
        "from sklearn.feature_extraction.text import TfidfVectorizer"
      ],
      "execution_count": 0,
      "outputs": []
    },
    {
      "cell_type": "code",
      "metadata": {
        "colab_type": "code",
        "id": "5Z6KPqWNRmqO",
        "colab": {}
      },
      "source": [
        "file = open(\"gdrive/My Drive/mbti/stop_words_tr.txt\")\n",
        "stop_word_list = file.read().split('\\n')\n",
        "file.close()"
      ],
      "execution_count": 0,
      "outputs": []
    },
    {
      "cell_type": "code",
      "metadata": {
        "colab_type": "code",
        "id": "PKBOZNvCsc2r",
        "colab": {}
      },
      "source": [
        "stop_word_list"
      ],
      "execution_count": 0,
      "outputs": []
    },
    {
      "cell_type": "markdown",
      "metadata": {
        "id": "4LDZVG50-F3O",
        "colab_type": "text"
      },
      "source": [
        "Entrylere ön işleme adımları uygulanır. Bu adımlar:\n",
        "\n",
        "\n",
        "1.   Bütün harflerin küçük harf haline getirilmesi\n",
        "\n",
        "2.   '**bkz**', '**--- spoiler ---**', '**spoiler**', '**#12341324**' (gibi böyle rakamların devam ettiği) entrylerin verisetinden çıkarılması gerekmektedir.\n",
        "\n",
        "3. Entrylerden stop words'ler silinmelidir.\n",
        "\n",
        "4. Web sitelerinin temizlenmesi\n",
        "\n",
        "5. Noktalama işaretlerinin temizlenmesi\n",
        "\n",
        "6. Rakamların temizlenmesi\n",
        "\n",
        "Temizlenme işlemlerinde empty string yerine space (' ') ile replace edilerek yapılmalıdır. Arından da fazla boşluklar vs trim edilmelidir.\n"
      ]
    },
    {
      "cell_type": "markdown",
      "metadata": {
        "id": "XklzLH_pJl5s",
        "colab_type": "text"
      },
      "source": [
        "Entrylerdeki harfler küçük harf haline getirilir"
      ]
    },
    {
      "cell_type": "code",
      "metadata": {
        "id": "LVH3wd0AJqtG",
        "colab_type": "code",
        "colab": {}
      },
      "source": [
        "df['entry'] = df['entry'].str.lower()"
      ],
      "execution_count": 0,
      "outputs": []
    },
    {
      "cell_type": "markdown",
      "metadata": {
        "id": "DdaLFbvbCm8r",
        "colab_type": "text"
      },
      "source": [
        "Dataframe içerisindeki bütün entrylere 'bkz', 'spoiler', '#' içerip içermediğine bakar ve bunun sonucu index numarasıyla birlikte döner. ```15 True```gibi bu demek oluyor ki 15 numaralı index bizim yazmış olduğumuz koşulu sağlamaktadır."
      ]
    },
    {
      "cell_type": "code",
      "metadata": {
        "id": "4i_BlXDr-BbQ",
        "colab_type": "code",
        "colab": {}
      },
      "source": [
        "indexes_contains_unwanted_words = df['entry'].str.contains('|'.join(['bkz', 'spoiler', r'#\\d*']))"
      ],
      "execution_count": 0,
      "outputs": []
    },
    {
      "cell_type": "markdown",
      "metadata": {
        "id": "boufiWfHDrIu",
        "colab_type": "text"
      },
      "source": [
        "Dataframe'den ilgili entryler çıkartılır"
      ]
    },
    {
      "cell_type": "code",
      "metadata": {
        "id": "NEJVm7ALDuo2",
        "colab_type": "code",
        "colab": {
          "base_uri": "https://localhost:8080/",
          "height": 68
        },
        "outputId": "2b5712bd-2ec1-4b30-f27d-aacee44a0728"
      },
      "source": [
        "df = df[~indexes_contains_unwanted_words]\n",
        "df.shape[0]"
      ],
      "execution_count": 39,
      "outputs": [
        {
          "output_type": "stream",
          "text": [
            "/usr/local/lib/python3.6/dist-packages/ipykernel_launcher.py:1: UserWarning: Boolean Series key will be reindexed to match DataFrame index.\n",
            "  \"\"\"Entry point for launching an IPython kernel.\n"
          ],
          "name": "stderr"
        },
        {
          "output_type": "execute_result",
          "data": {
            "text/plain": [
              "'ekşi itiraf 3'"
            ]
          },
          "metadata": {
            "tags": []
          },
          "execution_count": 39
        }
      ]
    },
    {
      "cell_type": "markdown",
      "metadata": {
        "id": "Y0-z8E6OIFNh",
        "colab_type": "text"
      },
      "source": [
        "Entrylerden stop words silinir."
      ]
    },
    {
      "cell_type": "code",
      "metadata": {
        "id": "sxy9T9seILBC",
        "colab_type": "code",
        "colab": {}
      },
      "source": [
        "df['entry'].str.replace('|'.join(stop_word_list), ' ')"
      ],
      "execution_count": 0,
      "outputs": []
    },
    {
      "cell_type": "markdown",
      "metadata": {
        "id": "qwCxlQsEThSX",
        "colab_type": "text"
      },
      "source": [
        "Entrylerden web site linkleri silinir."
      ]
    },
    {
      "cell_type": "code",
      "metadata": {
        "id": "VcB2KrMaRqtj",
        "colab_type": "code",
        "colab": {
          "base_uri": "https://localhost:8080/",
          "height": 119
        },
        "outputId": "aa502b08-a2a7-43d7-ccfd-e858b4064c3d"
      },
      "source": [
        "df['entry'] = df['entry'].replace(r'http\\S+', ' ', regex=True, inplace = True).replace(r'www\\S+', '', regex=True, inplace = True)"
      ],
      "execution_count": 32,
      "outputs": [
        {
          "output_type": "stream",
          "text": [
            "/usr/local/lib/python3.6/dist-packages/ipykernel_launcher.py:1: SettingWithCopyWarning: \n",
            "A value is trying to be set on a copy of a slice from a DataFrame.\n",
            "Try using .loc[row_indexer,col_indexer] = value instead\n",
            "\n",
            "See the caveats in the documentation: http://pandas.pydata.org/pandas-docs/stable/user_guide/indexing.html#returning-a-view-versus-a-copy\n",
            "  \"\"\"Entry point for launching an IPython kernel.\n"
          ],
          "name": "stderr"
        }
      ]
    },
    {
      "cell_type": "markdown",
      "metadata": {
        "colab_type": "text",
        "id": "dZzvU-o2sc2w"
      },
      "source": [
        "Preprocessing işlemleri yapılır. Burada bir tek Türkçe için stop words listesi kullanılarak girdilerden\n",
        "gereksiz kelimeler atılır. TF-IDF özellik vektörü çıkarılır."
      ]
    },
    {
      "cell_type": "code",
      "metadata": {
        "colab_type": "code",
        "id": "wzSU9aILsc2x",
        "colab": {}
      },
      "source": [
        "tfidf = TfidfVectorizer(sublinear_tf=True, min_df=5, norm='l2', encoding='latin-1', ngram_range=(1, 2), stop_words=stop_word_list, max_features=1000)"
      ],
      "execution_count": 0,
      "outputs": []
    },
    {
      "cell_type": "code",
      "metadata": {
        "colab_type": "code",
        "id": "ueDH4nqFaOBw",
        "colab": {
          "base_uri": "https://localhost:8080/",
          "height": 71
        },
        "outputId": "93051ab5-c718-48fa-c2d5-e73d201dacff"
      },
      "source": [
        "features = tfidf.fit_transform(df.entry).toarray()"
      ],
      "execution_count": 15,
      "outputs": [
        {
          "output_type": "stream",
          "text": [
            "/usr/local/lib/python3.6/dist-packages/sklearn/feature_extraction/text.py:300: UserWarning: Your stop_words may be inconsistent with your preprocessing. Tokenizing the stop words generated tokens ['lahî'] not in stop_words.\n",
            "  'stop_words.' % sorted(inconsistent))\n"
          ],
          "name": "stderr"
        }
      ]
    },
    {
      "cell_type": "code",
      "metadata": {
        "colab_type": "code",
        "id": "pd49njWEaRgw",
        "outputId": "eb65cf01-5074-423e-9f9d-6ee71748376c",
        "colab": {
          "base_uri": "https://localhost:8080/",
          "height": 34
        }
      },
      "source": [
        "labels = df.type\n",
        "features.shape"
      ],
      "execution_count": 16,
      "outputs": [
        {
          "output_type": "execute_result",
          "data": {
            "text/plain": [
              "(639124, 1000)"
            ]
          },
          "metadata": {
            "tags": []
          },
          "execution_count": 16
        }
      ]
    },
    {
      "cell_type": "markdown",
      "metadata": {
        "colab_type": "text",
        "id": "Zhc5fBeAsc22"
      },
      "source": [
        "(x, y) -> x: döküman (entry) sayısı, y: kelime (vektör) sayısı\n",
        "TF-IDF kullanarak çıkartılan özellik vektörü"
      ]
    },
    {
      "cell_type": "code",
      "metadata": {
        "colab_type": "code",
        "id": "SbgGHLzisc23",
        "colab": {}
      },
      "source": [
        "#pd.set_option('display.max_rows', 20)\n",
        "#pd.set_option('display.max_columns', 20)\n",
        "#pd.set_option('display.width', 1000)\n",
        "\n",
        "#features_df = pd.DataFrame(features)\n",
        "#features_df"
      ],
      "execution_count": 0,
      "outputs": []
    },
    {
      "cell_type": "markdown",
      "metadata": {
        "colab_type": "text",
        "id": "wSJEY4Ursc3A"
      },
      "source": [
        "Multinominal Naive Bayes modeli oluşturulur. Oluşturulan bu model verisetinde \"type\" olarak belirtilen \"analysts\", \"diplomats\", \"sentimenls\", \"explorers\" sınıflarından hangilerine ait olduğunu tahmin etmek için kullanılır"
      ]
    },
    {
      "cell_type": "code",
      "metadata": {
        "colab_type": "code",
        "id": "_AJnVOjgsc3B",
        "colab": {}
      },
      "source": [
        "from sklearn.model_selection import train_test_split\n",
        "from sklearn.feature_extraction.text import CountVectorizer\n",
        "from sklearn.feature_extraction.text import TfidfTransformer\n",
        "from sklearn.naive_bayes import MultinomialNB"
      ],
      "execution_count": 0,
      "outputs": []
    },
    {
      "cell_type": "code",
      "metadata": {
        "colab_type": "code",
        "id": "OGbLV_2tRy6d",
        "colab": {}
      },
      "source": [
        "X_train, X_test, y_train, y_test = train_test_split(df['entry'], df['type'], random_state = 0)\n",
        "count_vect = CountVectorizer()\n",
        "X_train_counts = count_vect.fit_transform(X_train)\n",
        "tfidf_transformer = TfidfTransformer()\n",
        "X_train_tfidf = tfidf_transformer.fit_transform(X_train_counts)\n",
        "clf = MultinomialNB().fit(X_train_tfidf, y_train)\n",
        "\n",
        "test_typeClass = y_test.values\n",
        "   \n",
        "predictions = clf.predict(count_vect.transform(X_test))"
      ],
      "execution_count": 0,
      "outputs": []
    },
    {
      "cell_type": "markdown",
      "metadata": {
        "id": "HVUImvDlHPXa",
        "colab_type": "text"
      },
      "source": [
        "<span style=\"font-size:1.1em\">Yapılacak tahminlerle ilgili istatistiksel verileri tutmak için</span> ```predictions_result```<span style=\"font-size:1.1em\"> adında bir değişken oluşturulur.</span>\n",
        "\n",
        "<span style=\"font-size:1.1em\">Bu değişkenin yapısı aşağıdaki gibidir.</span>\n",
        "\n",
        "```json\n",
        "{\n",
        "    \"predicted\": {\n",
        "        \"analysts\":  { \"actual\": {\"analysts\": 0, \"diplomats\": 0, \"explorers\": 0, \"sentinels\": 0} }\n",
        "        \"diplomats\": { \"actual\": {\"analysts\": 0, \"diplomats\": 0, \"explorers\": 0, \"sentinels\": 0} }\n",
        "        \"explorers\": { \"actual\": {\"analysts\": 0, \"diplomats\": 0, \"explorers\": 0, \"sentinels\": 0} }\n",
        "        \"sentinels\": { \"actual\": {\"analysts\": 0, \"diplomats\": 0, \"explorers\": 0, \"sentinels\": 0} }\n",
        "    }\n",
        "}\n",
        "```\n",
        "\n",
        "* <span style=\"font-size:1.1em;\">Yapılan tahminlerle ilgili verilere ulaşabilmek için</span>\n",
        "\n",
        "    ```predictions_results['predicted']```\n",
        "\n",
        "\n",
        "* <span style=\"font-size:1.1em;\">Yapılan tahminin analyst ise:</span>\n",
        "\n",
        "    ```predictions_results['predicted']['analysts']``` \n",
        "\n",
        "\n",
        "* <span style=\"font-size:1.1em;\">Yapılan analyst tahmininin gerçek değerlerine erişmek için:</span>     \n",
        "\n",
        "    ```predictions_results['predicted']['analysts']['actual']```  \n",
        "\n",
        "\n",
        "* <span style=\"font-size:1.1em;\">Test verisi, model tarafından analysts olarak tahmin edilmiştir ve bu verinin gerçek değeri de analysts'tir.</span>\n",
        "\n",
        "    ```predictions_results['predicted']['analysts']['actual']['analysts']``` "
      ]
    },
    {
      "cell_type": "code",
      "metadata": {
        "colab_type": "code",
        "id": "DD0xZXNNsc3F",
        "colab": {}
      },
      "source": [
        "prediction_results = {'predicted': {}}  ## prediction_result['analysts'] means prediction is 'analysts'\n",
        "\n",
        "prediction_results['predicted']['analysts']  = {'actual': {'analysts': 0, 'diplomats': 0, 'explorers': 0, 'sentinels': 0}}\n",
        "prediction_results['predicted']['diplomats'] = {'actual': {'analysts': 0, 'diplomats': 0, 'explorers': 0, 'sentinels': 0}}\n",
        "prediction_results['predicted']['explorers'] = {'actual': {'analysts': 0, 'diplomats': 0, 'explorers': 0, 'sentinels': 0}}\n",
        "prediction_results['predicted']['sentinels'] = {'actual': {'analysts': 0, 'diplomats': 0, 'explorers': 0, 'sentinels': 0}}\n",
        "\n",
        "## prediction_result['analysts']['diplomats'] means prediction is analysts but actual value is diplomats"
      ],
      "execution_count": 0,
      "outputs": []
    },
    {
      "cell_type": "markdown",
      "metadata": {
        "id": "YOFYyew6HPXl",
        "colab_type": "text"
      },
      "source": [
        "```prediction_results```<span style=\"font-size:1.1em\"> içerisinde tutulan sayaçların değerleri arttırılır.</span>"
      ]
    },
    {
      "cell_type": "code",
      "metadata": {
        "colab_type": "code",
        "id": "Kc7adxOMfmKj",
        "colab": {}
      },
      "source": [
        "for i in range(len(predictions)):\n",
        "  predicted_value = predictions[i]\n",
        "  actual_value = test_typeClass[i]\n",
        "  prediction_results['predicted'][predicted_value]['actual'][actual_value] += 1"
      ],
      "execution_count": 0,
      "outputs": []
    },
    {
      "cell_type": "markdown",
      "metadata": {
        "id": "4FDMu4kXHPXr",
        "colab_type": "text"
      },
      "source": [
        "<span style=\"font-size:1.1em\">JSON formatına çevrilir </span>```dict``` <span style=\"font-size:1.1em\">tipi. Bu sayede daha okunaklı bir şekilde print edilmiş olur. </span>"
      ]
    },
    {
      "cell_type": "code",
      "metadata": {
        "colab_type": "code",
        "id": "4gGDav5qgVQh",
        "outputId": "3e390d04-490f-4456-a4de-686683335d3e",
        "scrolled": false,
        "colab": {
          "base_uri": "https://localhost:8080/",
          "height": 629
        }
      },
      "source": [
        "import json\n",
        "\n",
        "print(json.dumps(prediction_results, indent = 2))"
      ],
      "execution_count": 27,
      "outputs": [
        {
          "output_type": "stream",
          "text": [
            "{\n",
            "  \"predicted\": {\n",
            "    \"analysts\": {\n",
            "      \"actual\": {\n",
            "        \"analysts\": 31693,\n",
            "        \"diplomats\": 20280,\n",
            "        \"explorers\": 7058,\n",
            "        \"sentinels\": 13870\n",
            "      }\n",
            "    },\n",
            "    \"diplomats\": {\n",
            "      \"actual\": {\n",
            "        \"analysts\": 23497,\n",
            "        \"diplomats\": 37998,\n",
            "        \"explorers\": 8341,\n",
            "        \"sentinels\": 16902\n",
            "      }\n",
            "    },\n",
            "    \"explorers\": {\n",
            "      \"actual\": {\n",
            "        \"analysts\": 0,\n",
            "        \"diplomats\": 0,\n",
            "        \"explorers\": 11,\n",
            "        \"sentinels\": 0\n",
            "      }\n",
            "    },\n",
            "    \"sentinels\": {\n",
            "      \"actual\": {\n",
            "        \"analysts\": 17,\n",
            "        \"diplomats\": 15,\n",
            "        \"explorers\": 5,\n",
            "        \"sentinels\": 94\n",
            "      }\n",
            "    }\n",
            "  }\n",
            "}\n"
          ],
          "name": "stdout"
        }
      ]
    },
    {
      "cell_type": "markdown",
      "metadata": {
        "id": "Uw8Sx7TsHPX1",
        "colab_type": "text"
      },
      "source": [
        "<span style=\"font-size:1.1em;\">İlgili field extract edilir</span> ```dict``` <span style=\"font-size:1.1em;\">yapısından.</span>"
      ]
    },
    {
      "cell_type": "code",
      "metadata": {
        "id": "ZBUI6iMTHPX2",
        "colab_type": "code",
        "colab": {}
      },
      "source": [
        "results = prediction_results['predicted']"
      ],
      "execution_count": 0,
      "outputs": []
    },
    {
      "cell_type": "markdown",
      "metadata": {
        "id": "IoxOrOr6HPX7",
        "colab_type": "text"
      },
      "source": [
        "<span style=\"font-size:1.1em;\">Başarı oranı hesaplanır</span>"
      ]
    },
    {
      "cell_type": "code",
      "metadata": {
        "colab_type": "code",
        "id": "0S5fD04Zgg11",
        "outputId": "83bdb8b3-1d7e-4be7-ad3b-1119926d914f",
        "colab": {
          "base_uri": "https://localhost:8080/",
          "height": 34
        }
      },
      "source": [
        "accuracy = (results['analysts']['actual']['analysts'] + results['diplomats']['actual']['diplomats'] + results['explorers']['actual']['explorers'] + results['sentinels']['actual']['sentinels']) / len(predictions)\n",
        "accuracy"
      ],
      "execution_count": 29,
      "outputs": [
        {
          "output_type": "execute_result",
          "data": {
            "text/plain": [
              "0.43682290134621765"
            ]
          },
          "metadata": {
            "tags": []
          },
          "execution_count": 29
        }
      ]
    },
    {
      "cell_type": "markdown",
      "metadata": {
        "id": "ooofyhgeHPYA",
        "colab_type": "text"
      },
      "source": [
        "<span style=\"font-size:1.1em;\">**E/I** boyutu tahmin edilir</span>"
      ]
    },
    {
      "cell_type": "code",
      "metadata": {
        "colab_type": "code",
        "id": "ZPmKSg3XrONj",
        "colab": {}
      },
      "source": [
        "X_train, X_test, y_train, y_test = train_test_split(df['entry'], df['E'], random_state = 0)  ## Geri kalanlar S, T, J\n",
        "count_vect = CountVectorizer()\n",
        "X_train_counts = count_vect.fit_transform(X_train)\n",
        "tfidf_transformer = TfidfTransformer()\n",
        "X_train_tfidf = tfidf_transformer.fit_transform(X_train_counts)\n",
        "clf = MultinomialNB().fit(X_train_tfidf, y_train)\n",
        "\n",
        "test_typeClass = y_test.values\n",
        "   \n",
        "predictions = clf.predict(count_vect.transform(X_test))"
      ],
      "execution_count": 0,
      "outputs": []
    },
    {
      "cell_type": "code",
      "metadata": {
        "colab_type": "code",
        "id": "hgxavMQorivQ",
        "outputId": "e6fafdf7-87d0-408d-e0ee-c634caca4dcf",
        "colab": {
          "base_uri": "https://localhost:8080/",
          "height": 34
        }
      },
      "source": [
        "predictions"
      ],
      "execution_count": 39,
      "outputs": [
        {
          "output_type": "execute_result",
          "data": {
            "text/plain": [
              "array([0, 0, 0, ..., 0, 0, 0])"
            ]
          },
          "metadata": {
            "tags": []
          },
          "execution_count": 39
        }
      ]
    },
    {
      "cell_type": "code",
      "metadata": {
        "colab_type": "code",
        "id": "DlQeP5BFr0BA",
        "outputId": "295da8b6-04b3-455b-c6dc-c68f8fac0781",
        "colab": {
          "base_uri": "https://localhost:8080/",
          "height": 34
        }
      },
      "source": [
        "predicted = {}\n",
        "predicted['I'] = {'actual': {'I': 0, 'E': 0}}\n",
        "predicted['E'] = {'actual': {'I': 0, 'E': 0}}\n",
        "predicted"
      ],
      "execution_count": 40,
      "outputs": [
        {
          "output_type": "execute_result",
          "data": {
            "text/plain": [
              "{'E': {'actual': {'E': 0, 'I': 0}}, 'I': {'actual': {'E': 0, 'I': 0}}}"
            ]
          },
          "metadata": {
            "tags": []
          },
          "execution_count": 40
        }
      ]
    },
    {
      "cell_type": "markdown",
      "metadata": {
        "id": "42m2S967HPYP",
        "colab_type": "text"
      },
      "source": [
        "<span style=\"font-size:1.1em;\">Modelin tahminleri 1-0 şeklindedir. 1: evet bu değer demektir. 0: hayır bu değer değil demektir. Verisetinde sütunun ismi E'dir. Eğer ki modelin tahmini E ise 1 değerini verir.</span> ```predicted```<span style=\"font-size:1.1em\">'teki ilgili değere erişebilmek adına </span> ```int_to_class``` <span style=\"font-size:1.1.em;\"> <span style=\"font-size:1.1em;\">array'i kullanılır</span>"
      ]
    },
    {
      "cell_type": "code",
      "metadata": {
        "colab_type": "code",
        "id": "F38Wm7lnsNxh",
        "colab": {}
      },
      "source": [
        "int_to_class = ['I', 'E']\n",
        "\n",
        "for i in range(len(predictions)):\n",
        "  predicted_value = int_to_class[predictions[i]]\n",
        "  actual_value = int_to_class[test_typeClass[i]]\n",
        "  predicted[predicted_value]['actual'][actual_value] += 1\n"
      ],
      "execution_count": 0,
      "outputs": []
    },
    {
      "cell_type": "code",
      "metadata": {
        "colab_type": "code",
        "id": "pCppRIUitZ3A",
        "outputId": "d1d78086-6143-46f8-9da0-571df28b39dc",
        "colab": {
          "base_uri": "https://localhost:8080/",
          "height": 51
        }
      },
      "source": [
        "predicted"
      ],
      "execution_count": 42,
      "outputs": [
        {
          "output_type": "execute_result",
          "data": {
            "text/plain": [
              "{'E': {'actual': {'E': 23385, 'I': 10526}},\n",
              " 'I': {'actual': {'E': 53808, 'I': 72062}}}"
            ]
          },
          "metadata": {
            "tags": []
          },
          "execution_count": 42
        }
      ]
    },
    {
      "cell_type": "code",
      "metadata": {
        "colab_type": "code",
        "id": "sRxuH3Fht6me",
        "colab": {}
      },
      "source": [
        "accuracy = (predicted['E']['actual']['E'] + predicted['I']['actual']['I']) / len(predictions)"
      ],
      "execution_count": 0,
      "outputs": []
    },
    {
      "cell_type": "code",
      "metadata": {
        "colab_type": "code",
        "id": "11O91HLLuH27",
        "outputId": "857a1cbc-6d99-43b2-e58e-fe41507053be",
        "colab": {
          "base_uri": "https://localhost:8080/",
          "height": 34
        }
      },
      "source": [
        "accuracy"
      ],
      "execution_count": 44,
      "outputs": [
        {
          "output_type": "execute_result",
          "data": {
            "text/plain": [
              "0.597361388400373"
            ]
          },
          "metadata": {
            "tags": []
          },
          "execution_count": 44
        }
      ]
    },
    {
      "cell_type": "markdown",
      "metadata": {
        "id": "ktc8Y-2hHPYg",
        "colab_type": "text"
      },
      "source": [
        "<span style=\"font-size:1.1em\">**S/N** boyutu tahmin edilir.</span>"
      ]
    },
    {
      "cell_type": "code",
      "metadata": {
        "colab_type": "code",
        "id": "mq8qRr5RuSVO",
        "colab": {}
      },
      "source": [
        "X_train, X_test, y_train, y_test = train_test_split(df['entry'], df['S'], random_state = 0)  ## Geri kalan boyutlar: T, J\n",
        "count_vect = CountVectorizer()\n",
        "X_train_counts = count_vect.fit_transform(X_train)\n",
        "tfidf_transformer = TfidfTransformer()\n",
        "X_train_tfidf = tfidf_transformer.fit_transform(X_train_counts)\n",
        "clf = MultinomialNB().fit(X_train_tfidf, y_train)\n",
        "\n",
        "test_typeClass = y_test.values\n",
        "   \n",
        "predictions = clf.predict(count_vect.transform(X_test))"
      ],
      "execution_count": 0,
      "outputs": []
    },
    {
      "cell_type": "code",
      "metadata": {
        "colab_type": "code",
        "id": "VzV1av-CuZ2b",
        "outputId": "93edf3ec-0d12-4898-edc9-7202612640a5",
        "colab": {
          "base_uri": "https://localhost:8080/",
          "height": 89
        }
      },
      "source": [
        "predicted['N'] = {'actual': {'N': 0, 'S': 0}}\n",
        "predicted['S'] = {'actual': {'N': 0, 'S': 0}}\n",
        "\n",
        "predicted"
      ],
      "execution_count": 0,
      "outputs": [
        {
          "output_type": "execute_result",
          "data": {
            "text/plain": [
              "{'E': {'actual': {'E': 23528, 'I': 10205}},\n",
              " 'I': {'actual': {'E': 53928, 'I': 72120}},\n",
              " 'N': {'actual': {'N': 0, 'S': 0}},\n",
              " 'S': {'actual': {'N': 0, 'S': 0}}}"
            ]
          },
          "metadata": {
            "tags": []
          },
          "execution_count": 33
        }
      ]
    },
    {
      "cell_type": "code",
      "metadata": {
        "colab_type": "code",
        "id": "Fm2wvaVYuklE",
        "colab": {}
      },
      "source": [
        "int_to_class = ['N', 'S']\n",
        "\n",
        "for i in range(len(predictions)):\n",
        "  predicted_value = int_to_class[predictions[i]]\n",
        "  actual_value = int_to_class[test_typeClass[i]]\n",
        "  predicted[predicted_value]['actual'][actual_value] += 1"
      ],
      "execution_count": 0,
      "outputs": []
    },
    {
      "cell_type": "code",
      "metadata": {
        "colab_type": "code",
        "id": "YbVEQPPsvebF",
        "outputId": "07da3a9d-6d9f-4c30-cca3-aea2dece09da",
        "colab": {
          "base_uri": "https://localhost:8080/",
          "height": 89
        }
      },
      "source": [
        "predicted"
      ],
      "execution_count": 0,
      "outputs": [
        {
          "output_type": "execute_result",
          "data": {
            "text/plain": [
              "{'E': {'actual': {'E': 23528, 'I': 10205}},\n",
              " 'I': {'actual': {'E': 53928, 'I': 72120}},\n",
              " 'N': {'actual': {'N': 113579, 'S': 46083}},\n",
              " 'S': {'actual': {'N': 27, 'S': 92}}}"
            ]
          },
          "metadata": {
            "tags": []
          },
          "execution_count": 35
        }
      ]
    },
    {
      "cell_type": "code",
      "metadata": {
        "colab_type": "code",
        "id": "tQJQoGQavLgv",
        "colab": {}
      },
      "source": [
        "accuracy = (predicted['N']['actual']['N'] + predicted['S']['actual']['S']) / len(predictions)"
      ],
      "execution_count": 0,
      "outputs": []
    },
    {
      "cell_type": "code",
      "metadata": {
        "colab_type": "code",
        "id": "LbegGjPNvXJO",
        "outputId": "104b1846-d0d6-497f-c9aa-b23adbd3e2f2",
        "colab": {
          "base_uri": "https://localhost:8080/",
          "height": 35
        }
      },
      "source": [
        "accuracy"
      ],
      "execution_count": 0,
      "outputs": [
        {
          "output_type": "execute_result",
          "data": {
            "text/plain": [
              "0.71141750270683"
            ]
          },
          "metadata": {
            "tags": []
          },
          "execution_count": 37
        }
      ]
    },
    {
      "cell_type": "markdown",
      "metadata": {
        "id": "vqKVIk9uHPZA",
        "colab_type": "text"
      },
      "source": [
        "<span style=\"font-size:1.1em\">**T/F** boyutu tahmin edilir.</span>"
      ]
    },
    {
      "cell_type": "code",
      "metadata": {
        "colab_type": "code",
        "id": "qKVLLnYJwOHR",
        "colab": {}
      },
      "source": [
        "X_train, X_test, y_train, y_test = train_test_split(df['entry'], df['T'], random_state = 0)  ##  J\n",
        "count_vect = CountVectorizer()\n",
        "X_train_counts = count_vect.fit_transform(X_train)\n",
        "tfidf_transformer = TfidfTransformer()\n",
        "X_train_tfidf = tfidf_transformer.fit_transform(X_train_counts)\n",
        "clf = MultinomialNB().fit(X_train_tfidf, y_train)\n",
        "\n",
        "test_typeClass = y_test.values\n",
        "   \n",
        "predictions = clf.predict(count_vect.transform(X_test))"
      ],
      "execution_count": 0,
      "outputs": []
    },
    {
      "cell_type": "code",
      "metadata": {
        "colab_type": "code",
        "id": "839RnfNfwT77",
        "outputId": "36ce030d-f8a4-4c16-bb00-fffe040614f8",
        "colab": {
          "base_uri": "https://localhost:8080/",
          "height": 125
        }
      },
      "source": [
        "predicted['T'] = {'actual': {'T': 0, 'F': 0}}\n",
        "predicted['F'] = {'actual': {'T': 0, 'F': 0}}\n",
        "\n",
        "predicted"
      ],
      "execution_count": 0,
      "outputs": [
        {
          "output_type": "execute_result",
          "data": {
            "text/plain": [
              "{'E': {'actual': {'E': 23528, 'I': 10205}},\n",
              " 'F': {'actual': {'F': 0, 'T': 0}},\n",
              " 'I': {'actual': {'E': 53928, 'I': 72120}},\n",
              " 'N': {'actual': {'N': 113579, 'S': 46083}},\n",
              " 'S': {'actual': {'N': 27, 'S': 92}},\n",
              " 'T': {'actual': {'F': 0, 'T': 0}}}"
            ]
          },
          "metadata": {
            "tags": []
          },
          "execution_count": 39
        }
      ]
    },
    {
      "cell_type": "code",
      "metadata": {
        "colab_type": "code",
        "id": "sd9lUb13wbdK",
        "colab": {}
      },
      "source": [
        "int_to_class = ['F', 'T']\n",
        "\n",
        "for i in range(len(predictions)):\n",
        "  predicted_value = int_to_class[predictions[i]]\n",
        "  actual_value = int_to_class[test_typeClass[i]]\n",
        "  predicted[predicted_value]['actual'][actual_value] += 1"
      ],
      "execution_count": 0,
      "outputs": []
    },
    {
      "cell_type": "code",
      "metadata": {
        "colab_type": "code",
        "id": "Js9--v33ws5A",
        "outputId": "61f182c1-c863-40ef-b76d-d02701191a28",
        "colab": {
          "base_uri": "https://localhost:8080/",
          "height": 125
        }
      },
      "source": [
        "predicted"
      ],
      "execution_count": 0,
      "outputs": [
        {
          "output_type": "execute_result",
          "data": {
            "text/plain": [
              "{'E': {'actual': {'E': 23528, 'I': 10205}},\n",
              " 'F': {'actual': {'F': 39202, 'T': 22159}},\n",
              " 'I': {'actual': {'E': 53928, 'I': 72120}},\n",
              " 'N': {'actual': {'N': 113579, 'S': 46083}},\n",
              " 'S': {'actual': {'N': 27, 'S': 92}},\n",
              " 'T': {'actual': {'F': 41155, 'T': 57265}}}"
            ]
          },
          "metadata": {
            "tags": []
          },
          "execution_count": 41
        }
      ]
    },
    {
      "cell_type": "code",
      "metadata": {
        "colab_type": "code",
        "id": "i2ycKt6ZwuOC",
        "colab": {}
      },
      "source": [
        "accuracy = (predicted['F']['actual']['F'] + predicted['T']['actual']['T']) / len(predictions)"
      ],
      "execution_count": 0,
      "outputs": []
    },
    {
      "cell_type": "code",
      "metadata": {
        "colab_type": "code",
        "id": "5WkLA4z8x12q",
        "outputId": "0997b653-88a7-42ca-91f1-77bae6fa620b",
        "colab": {
          "base_uri": "https://localhost:8080/",
          "height": 35
        }
      },
      "source": [
        "accuracy"
      ],
      "execution_count": 0,
      "outputs": [
        {
          "output_type": "execute_result",
          "data": {
            "text/plain": [
              "0.6037451261414061"
            ]
          },
          "metadata": {
            "tags": []
          },
          "execution_count": 43
        }
      ]
    },
    {
      "cell_type": "markdown",
      "metadata": {
        "id": "APORaOlVHPZh",
        "colab_type": "text"
      },
      "source": [
        "<span style=\"font-size:1.1em\">**J/P** boyutu tahmin edilir.</span>"
      ]
    },
    {
      "cell_type": "code",
      "metadata": {
        "colab_type": "code",
        "id": "UuEb2k8Qx41D",
        "colab": {}
      },
      "source": [
        "X_train, X_test, y_train, y_test = train_test_split(df['entry'], df['J'], random_state = 0) \n",
        "count_vect = CountVectorizer()\n",
        "X_train_counts = count_vect.fit_transform(X_train)\n",
        "tfidf_transformer = TfidfTransformer()\n",
        "X_train_tfidf = tfidf_transformer.fit_transform(X_train_counts)\n",
        "clf = MultinomialNB().fit(X_train_tfidf, y_train)\n",
        "\n",
        "test_typeClass = y_test.values\n",
        "   \n",
        "predictions = clf.predict(count_vect.transform(X_test))"
      ],
      "execution_count": 0,
      "outputs": []
    },
    {
      "cell_type": "code",
      "metadata": {
        "colab_type": "code",
        "id": "Dw-8uFkbx9m7",
        "outputId": "f0906bc6-8f2c-45fa-8508-1d705547c7a9",
        "colab": {
          "base_uri": "https://localhost:8080/",
          "height": 161
        }
      },
      "source": [
        "predicted['J'] = {'actual': {'J': 0, 'P': 0}}\n",
        "predicted['P'] = {'actual': {'J': 0, 'P': 0}}\n",
        "\n",
        "predicted"
      ],
      "execution_count": 0,
      "outputs": [
        {
          "output_type": "execute_result",
          "data": {
            "text/plain": [
              "{'E': {'actual': {'E': 23528, 'I': 10205}},\n",
              " 'F': {'actual': {'F': 39202, 'T': 22159}},\n",
              " 'I': {'actual': {'E': 53928, 'I': 72120}},\n",
              " 'J': {'actual': {'J': 0, 'P': 0}},\n",
              " 'N': {'actual': {'N': 113579, 'S': 46083}},\n",
              " 'P': {'actual': {'J': 0, 'P': 0}},\n",
              " 'S': {'actual': {'N': 27, 'S': 92}},\n",
              " 'T': {'actual': {'F': 41155, 'T': 57265}}}"
            ]
          },
          "metadata": {
            "tags": []
          },
          "execution_count": 45
        }
      ]
    },
    {
      "cell_type": "code",
      "metadata": {
        "colab_type": "code",
        "id": "dYu5m1TRyGNB",
        "colab": {}
      },
      "source": [
        "int_to_class = ['P', 'J']\n",
        "\n",
        "for i in range(len(predictions)):\n",
        "  predicted_value = int_to_class[predictions[i]]\n",
        "  actual_value = int_to_class[test_typeClass[i]]\n",
        "  predicted[predicted_value]['actual'][actual_value] += 1"
      ],
      "execution_count": 0,
      "outputs": []
    },
    {
      "cell_type": "code",
      "metadata": {
        "colab_type": "code",
        "id": "PHsAWw-6yOdi",
        "outputId": "dfd18d50-22cb-4664-8347-0796857a3a16",
        "colab": {
          "base_uri": "https://localhost:8080/",
          "height": 161
        }
      },
      "source": [
        "predicted"
      ],
      "execution_count": 0,
      "outputs": [
        {
          "output_type": "execute_result",
          "data": {
            "text/plain": [
              "{'E': {'actual': {'E': 23528, 'I': 10205}},\n",
              " 'F': {'actual': {'F': 39202, 'T': 22159}},\n",
              " 'I': {'actual': {'E': 53928, 'I': 72120}},\n",
              " 'J': {'actual': {'J': 30787, 'P': 19379}},\n",
              " 'N': {'actual': {'N': 113579, 'S': 46083}},\n",
              " 'P': {'actual': {'J': 46909, 'P': 62706}},\n",
              " 'S': {'actual': {'N': 27, 'S': 92}},\n",
              " 'T': {'actual': {'F': 41155, 'T': 57265}}}"
            ]
          },
          "metadata": {
            "tags": []
          },
          "execution_count": 47
        }
      ]
    },
    {
      "cell_type": "code",
      "metadata": {
        "colab_type": "code",
        "id": "LHYecNUuyQGL",
        "colab": {}
      },
      "source": [
        "accuracy = (predicted['P']['actual']['P'] + predicted['J']['actual']['J']) / len(predictions)"
      ],
      "execution_count": 0,
      "outputs": []
    },
    {
      "cell_type": "code",
      "metadata": {
        "colab_type": "code",
        "id": "jtNZq3mTyW6r",
        "outputId": "686c55a0-d76e-4686-ff71-3fe3d8f898f8",
        "colab": {
          "base_uri": "https://localhost:8080/",
          "height": 35
        }
      },
      "source": [
        "accuracy"
      ],
      "execution_count": 0,
      "outputs": [
        {
          "output_type": "execute_result",
          "data": {
            "text/plain": [
              "0.5851321496298058"
            ]
          },
          "metadata": {
            "tags": []
          },
          "execution_count": 49
        }
      ]
    },
    {
      "cell_type": "code",
      "metadata": {
        "colab_type": "code",
        "id": "MQuyqSw-yjse",
        "outputId": "da5d19d4-9296-4264-f358-b85ddbe5277d",
        "colab": {
          "base_uri": "https://localhost:8080/",
          "height": 161
        }
      },
      "source": [
        "prediction_results['predicted'] = predicted\n",
        "\n",
        "prediction_results"
      ],
      "execution_count": 0,
      "outputs": [
        {
          "output_type": "execute_result",
          "data": {
            "text/plain": [
              "{'predicted': {'E': {'actual': {'E': 23528, 'I': 10205}},\n",
              "  'F': {'actual': {'F': 39202, 'T': 22159}},\n",
              "  'I': {'actual': {'E': 53928, 'I': 72120}},\n",
              "  'J': {'actual': {'J': 30787, 'P': 19379}},\n",
              "  'N': {'actual': {'N': 113579, 'S': 46083}},\n",
              "  'P': {'actual': {'J': 46909, 'P': 62706}},\n",
              "  'S': {'actual': {'N': 27, 'S': 92}},\n",
              "  'T': {'actual': {'F': 41155, 'T': 57265}}}}"
            ]
          },
          "metadata": {
            "tags": []
          },
          "execution_count": 50
        }
      ]
    }
  ]
}