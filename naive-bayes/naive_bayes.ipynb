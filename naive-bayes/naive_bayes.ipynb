{
  "nbformat": 4,
  "nbformat_minor": 0,
  "metadata": {
    "kernelspec": {
      "display_name": "Python 3",
      "language": "python",
      "name": "python3"
    },
    "language_info": {
      "codemirror_mode": {
        "name": "ipython",
        "version": 3
      },
      "file_extension": ".py",
      "mimetype": "text/x-python",
      "name": "python",
      "nbconvert_exporter": "python",
      "pygments_lexer": "ipython3",
      "version": "3.7.4"
    },
    "colab": {
      "name": "naive_bayes.ipynb",
      "provenance": [],
      "collapsed_sections": [],
      "machine_shape": "hm"
    }
  },
  "cells": [
    {
      "cell_type": "markdown",
      "metadata": {
        "id": "0jNfS3mXsc2O",
        "colab_type": "text"
      },
      "source": [
        "Analyst, Diplomat, Explorer tiplerinden 50'şer tane entry alınarak sample bir veriseti oluşturuldu. Bu veriseti \"/home/khan/Desktop/sample_personality_dataset.csv\" pathinde bulunmaktadır."
      ]
    },
    {
      "cell_type": "code",
      "metadata": {
        "id": "d_zKJmJWQG19",
        "colab_type": "code",
        "colab": {
          "base_uri": "https://localhost:8080/",
          "height": 35
        },
        "outputId": "a0d85623-3fd5-401b-848b-3eaa3545bfe4"
      },
      "source": [
        "from google.colab import drive\n",
        "drive.mount('/content/gdrive')"
      ],
      "execution_count": 1,
      "outputs": [
        {
          "output_type": "stream",
          "text": [
            "Drive already mounted at /content/gdrive; to attempt to forcibly remount, call drive.mount(\"/content/gdrive\", force_remount=True).\n"
          ],
          "name": "stdout"
        }
      ]
    },
    {
      "cell_type": "code",
      "metadata": {
        "id": "CA6I9IrzVr2v",
        "colab_type": "code",
        "colab": {}
      },
      "source": [
        "import pandas as pd "
      ],
      "execution_count": 0,
      "outputs": []
    },
    {
      "cell_type": "code",
      "metadata": {
        "id": "P4qtF-14sc2S",
        "colab_type": "code",
        "colab": {}
      },
      "source": [
        "df = pd.read_csv(\"gdrive/My Drive/mbti/all_users.csv\", sep = ';', header = 0) "
      ],
      "execution_count": 0,
      "outputs": []
    },
    {
      "cell_type": "code",
      "metadata": {
        "id": "vtN4QiN4sc2Y",
        "colab_type": "code",
        "outputId": "9ad8f083-aaf9-462a-a803-e8d792ac5bde",
        "colab": {
          "base_uri": "https://localhost:8080/",
          "height": 419
        }
      },
      "source": [
        "df"
      ],
      "execution_count": 4,
      "outputs": [
        {
          "output_type": "execute_result",
          "data": {
            "text/html": [
              "<div>\n",
              "<style scoped>\n",
              "    .dataframe tbody tr th:only-of-type {\n",
              "        vertical-align: middle;\n",
              "    }\n",
              "\n",
              "    .dataframe tbody tr th {\n",
              "        vertical-align: top;\n",
              "    }\n",
              "\n",
              "    .dataframe thead th {\n",
              "        text-align: right;\n",
              "    }\n",
              "</style>\n",
              "<table border=\"1\" class=\"dataframe\">\n",
              "  <thead>\n",
              "    <tr style=\"text-align: right;\">\n",
              "      <th></th>\n",
              "      <th>user</th>\n",
              "      <th>entry</th>\n",
              "      <th>type</th>\n",
              "      <th>typeClass</th>\n",
              "      <th>E</th>\n",
              "      <th>S</th>\n",
              "      <th>T</th>\n",
              "      <th>J</th>\n",
              "      <th>Unnamed: 8</th>\n",
              "    </tr>\n",
              "  </thead>\n",
              "  <tbody>\n",
              "    <tr>\n",
              "      <th>0</th>\n",
              "      <td>19991991</td>\n",
              "      <td>ekşi itiraf 3</td>\n",
              "      <td>analysts</td>\n",
              "      <td>entj</td>\n",
              "      <td>1</td>\n",
              "      <td>0</td>\n",
              "      <td>1</td>\n",
              "      <td>1</td>\n",
              "      <td>NaN</td>\n",
              "    </tr>\n",
              "    <tr>\n",
              "      <th>1</th>\n",
              "      <td>19991991</td>\n",
              "      <td>duygularını belli etmeyen insan modeli bu beni...</td>\n",
              "      <td>analysts</td>\n",
              "      <td>entj</td>\n",
              "      <td>1</td>\n",
              "      <td>0</td>\n",
              "      <td>1</td>\n",
              "      <td>1</td>\n",
              "      <td>NaN</td>\n",
              "    </tr>\n",
              "    <tr>\n",
              "      <th>2</th>\n",
              "      <td>19991991</td>\n",
              "      <td>doğum günü resmi olarak kimlikte yazan doğum t...</td>\n",
              "      <td>analysts</td>\n",
              "      <td>entj</td>\n",
              "      <td>1</td>\n",
              "      <td>0</td>\n",
              "      <td>1</td>\n",
              "      <td>1</td>\n",
              "      <td>NaN</td>\n",
              "    </tr>\n",
              "    <tr>\n",
              "      <th>3</th>\n",
              "      <td>19991991</td>\n",
              "      <td>kendime not galiba dün akşam siz ne içtiniz de...</td>\n",
              "      <td>analysts</td>\n",
              "      <td>entj</td>\n",
              "      <td>1</td>\n",
              "      <td>0</td>\n",
              "      <td>1</td>\n",
              "      <td>1</td>\n",
              "      <td>NaN</td>\n",
              "    </tr>\n",
              "    <tr>\n",
              "      <th>4</th>\n",
              "      <td>19991991</td>\n",
              "      <td>ankaranın en güzel barı bkz fikrim ne biliyim ...</td>\n",
              "      <td>analysts</td>\n",
              "      <td>entj</td>\n",
              "      <td>1</td>\n",
              "      <td>0</td>\n",
              "      <td>1</td>\n",
              "      <td>1</td>\n",
              "      <td>NaN</td>\n",
              "    </tr>\n",
              "    <tr>\n",
              "      <th>...</th>\n",
              "      <td>...</td>\n",
              "      <td>...</td>\n",
              "      <td>...</td>\n",
              "      <td>...</td>\n",
              "      <td>...</td>\n",
              "      <td>...</td>\n",
              "      <td>...</td>\n",
              "      <td>...</td>\n",
              "      <td>...</td>\n",
              "    </tr>\n",
              "    <tr>\n",
              "      <th>639119</th>\n",
              "      <td>whiskylife</td>\n",
              "      <td>bağlaç olan de de ayrı yazılır takıntısı gerek...</td>\n",
              "      <td>sentinels</td>\n",
              "      <td>istj</td>\n",
              "      <td>0</td>\n",
              "      <td>1</td>\n",
              "      <td>1</td>\n",
              "      <td>1</td>\n",
              "      <td>NaN</td>\n",
              "    </tr>\n",
              "    <tr>\n",
              "      <th>639120</th>\n",
              "      <td>whiskylife</td>\n",
              "      <td>21 ocak 2017 liverpool swensea maçı 23 swansea...</td>\n",
              "      <td>sentinels</td>\n",
              "      <td>istj</td>\n",
              "      <td>0</td>\n",
              "      <td>1</td>\n",
              "      <td>1</td>\n",
              "      <td>1</td>\n",
              "      <td>NaN</td>\n",
              "    </tr>\n",
              "    <tr>\n",
              "      <th>639121</th>\n",
              "      <td>whiskylife</td>\n",
              "      <td>emily ratajkowski ortalamanın üstünde güzei ve...</td>\n",
              "      <td>sentinels</td>\n",
              "      <td>istj</td>\n",
              "      <td>0</td>\n",
              "      <td>1</td>\n",
              "      <td>1</td>\n",
              "      <td>1</td>\n",
              "      <td>NaN</td>\n",
              "    </tr>\n",
              "    <tr>\n",
              "      <th>639122</th>\n",
              "      <td>whiskylife</td>\n",
              "      <td>kanal dnin imdb puanı 3 olan filmler kuşağı iç...</td>\n",
              "      <td>sentinels</td>\n",
              "      <td>istj</td>\n",
              "      <td>0</td>\n",
              "      <td>1</td>\n",
              "      <td>1</td>\n",
              "      <td>1</td>\n",
              "      <td>NaN</td>\n",
              "    </tr>\n",
              "    <tr>\n",
              "      <th>639123</th>\n",
              "      <td>whiskylife</td>\n",
              "      <td>avmlerdeki dükkanların teker teker kapanması ü...</td>\n",
              "      <td>sentinels</td>\n",
              "      <td>istj</td>\n",
              "      <td>0</td>\n",
              "      <td>1</td>\n",
              "      <td>1</td>\n",
              "      <td>1</td>\n",
              "      <td>NaN</td>\n",
              "    </tr>\n",
              "  </tbody>\n",
              "</table>\n",
              "<p>639124 rows × 9 columns</p>\n",
              "</div>"
            ],
            "text/plain": [
              "              user  ... Unnamed: 8\n",
              "0         19991991  ...        NaN\n",
              "1         19991991  ...        NaN\n",
              "2         19991991  ...        NaN\n",
              "3         19991991  ...        NaN\n",
              "4         19991991  ...        NaN\n",
              "...            ...  ...        ...\n",
              "639119  whiskylife  ...        NaN\n",
              "639120  whiskylife  ...        NaN\n",
              "639121  whiskylife  ...        NaN\n",
              "639122  whiskylife  ...        NaN\n",
              "639123  whiskylife  ...        NaN\n",
              "\n",
              "[639124 rows x 9 columns]"
            ]
          },
          "metadata": {
            "tags": []
          },
          "execution_count": 4
        }
      ]
    },
    {
      "cell_type": "markdown",
      "metadata": {
        "id": "WgKPqLP6sc2f",
        "colab_type": "text"
      },
      "source": [
        "Verisetinin class tiplerine göre dağılım"
      ]
    },
    {
      "cell_type": "code",
      "metadata": {
        "scrolled": true,
        "id": "vkuqae_1sc2g",
        "colab_type": "code",
        "colab": {}
      },
      "source": [
        "import matplotlib.pyplot as plt"
      ],
      "execution_count": 0,
      "outputs": []
    },
    {
      "cell_type": "code",
      "metadata": {
        "id": "O5zNSY97RgFT",
        "colab_type": "code",
        "colab": {
          "base_uri": "https://localhost:8080/",
          "height": 427
        },
        "outputId": "d773b7ab-bd2d-41ab-9a34-d2fa60c8d661"
      },
      "source": [
        "fig = plt.figure(figsize=(8,6))\n",
        "\n",
        "df.groupby('type').type.count().plot.bar(ylim=0)\n",
        "plt.show()"
      ],
      "execution_count": 6,
      "outputs": [
        {
          "output_type": "display_data",
          "data": {
            "image/png": "[encoded data removed]",
            "text/plain": [
              "<Figure size 576x432 with 1 Axes>"
            ]
          },
          "metadata": {
            "tags": []
          }
        }
      ]
    },
    {
      "cell_type": "markdown",
      "metadata": {
        "id": "nXN5GZtKsc2l",
        "colab_type": "text"
      },
      "source": [
        "Türkçe için gerekli olan stop word listesi yoksa indirilir."
      ]
    },
    {
      "cell_type": "code",
      "metadata": {
        "id": "AJxv2CTzsc2m",
        "colab_type": "code",
        "colab": {}
      },
      "source": [
        "from sklearn.feature_extraction.text import TfidfVectorizer\n",
        "import nltk"
      ],
      "execution_count": 0,
      "outputs": []
    },
    {
      "cell_type": "code",
      "metadata": {
        "id": "5Z6KPqWNRmqO",
        "colab_type": "code",
        "colab": {
          "base_uri": "https://localhost:8080/",
          "height": 53
        },
        "outputId": "31865929-5232-44ca-c5c3-87aec7ce0181"
      },
      "source": [
        "nltk.download('stopwords')\n",
        "stop_word_list = nltk.corpus.stopwords.words('turkish')"
      ],
      "execution_count": 8,
      "outputs": [
        {
          "output_type": "stream",
          "text": [
            "[nltk_data] Downloading package stopwords to /root/nltk_data...\n",
            "[nltk_data]   Package stopwords is already up-to-date!\n"
          ],
          "name": "stdout"
        }
      ]
    },
    {
      "cell_type": "code",
      "metadata": {
        "id": "PKBOZNvCsc2r",
        "colab_type": "code",
        "outputId": "ca8cfc9c-531e-4c63-e652-c00ada70129b",
        "colab": {
          "base_uri": "https://localhost:8080/",
          "height": 971
        }
      },
      "source": [
        "stop_word_list"
      ],
      "execution_count": 9,
      "outputs": [
        {
          "output_type": "execute_result",
          "data": {
            "text/plain": [
              "['acaba',\n",
              " 'ama',\n",
              " 'aslında',\n",
              " 'az',\n",
              " 'bazı',\n",
              " 'belki',\n",
              " 'biri',\n",
              " 'birkaç',\n",
              " 'birşey',\n",
              " 'biz',\n",
              " 'bu',\n",
              " 'çok',\n",
              " 'çünkü',\n",
              " 'da',\n",
              " 'daha',\n",
              " 'de',\n",
              " 'defa',\n",
              " 'diye',\n",
              " 'eğer',\n",
              " 'en',\n",
              " 'gibi',\n",
              " 'hem',\n",
              " 'hep',\n",
              " 'hepsi',\n",
              " 'her',\n",
              " 'hiç',\n",
              " 'için',\n",
              " 'ile',\n",
              " 'ise',\n",
              " 'kez',\n",
              " 'ki',\n",
              " 'kim',\n",
              " 'mı',\n",
              " 'mu',\n",
              " 'mü',\n",
              " 'nasıl',\n",
              " 'ne',\n",
              " 'neden',\n",
              " 'nerde',\n",
              " 'nerede',\n",
              " 'nereye',\n",
              " 'niçin',\n",
              " 'niye',\n",
              " 'o',\n",
              " 'sanki',\n",
              " 'şey',\n",
              " 'siz',\n",
              " 'şu',\n",
              " 'tüm',\n",
              " 've',\n",
              " 'veya',\n",
              " 'ya',\n",
              " 'yani']"
            ]
          },
          "metadata": {
            "tags": []
          },
          "execution_count": 9
        }
      ]
    },
    {
      "cell_type": "markdown",
      "metadata": {
        "id": "dZzvU-o2sc2w",
        "colab_type": "text"
      },
      "source": [
        "Preprocessing işlemleri yapılır. Burada bir tek Türkçe için stop words listesi kullanılarak girdilerden\n",
        "gereksiz kelimeler atılır. TF-IDF özellik vektörü çıkarılır."
      ]
    },
    {
      "cell_type": "code",
      "metadata": {
        "id": "wzSU9aILsc2x",
        "colab_type": "code",
        "colab": {}
      },
      "source": [
        "tfidf = TfidfVectorizer(sublinear_tf=True, min_df=5, norm='l2', encoding='latin-1', ngram_range=(1, 2), stop_words=stop_word_list, max_features=1000)"
      ],
      "execution_count": 0,
      "outputs": []
    },
    {
      "cell_type": "code",
      "metadata": {
        "id": "ueDH4nqFaOBw",
        "colab_type": "code",
        "colab": {}
      },
      "source": [
        "features = tfidf.fit_transform(df.entry).toarray()"
      ],
      "execution_count": 0,
      "outputs": []
    },
    {
      "cell_type": "code",
      "metadata": {
        "id": "pd49njWEaRgw",
        "colab_type": "code",
        "colab": {
          "base_uri": "https://localhost:8080/",
          "height": 35
        },
        "outputId": "c41507f6-cbaf-44de-9f0d-a0923a72e5fd"
      },
      "source": [
        "labels = df.type\n",
        "features.shape"
      ],
      "execution_count": 35,
      "outputs": [
        {
          "output_type": "execute_result",
          "data": {
            "text/plain": [
              "(639124, 1000)"
            ]
          },
          "metadata": {
            "tags": []
          },
          "execution_count": 35
        }
      ]
    },
    {
      "cell_type": "markdown",
      "metadata": {
        "id": "Zhc5fBeAsc22",
        "colab_type": "text"
      },
      "source": [
        "(x, y) -> x: döküman (entry) sayısı, y: kelime (vektör) sayısı\n",
        "TF-IDF kullanarak çıkartılan özellik vektörü"
      ]
    },
    {
      "cell_type": "code",
      "metadata": {
        "id": "SbgGHLzisc23",
        "colab_type": "code",
        "colab": {}
      },
      "source": [
        "#pd.set_option('display.max_rows', 20)\n",
        "#pd.set_option('display.max_columns', 20)\n",
        "#pd.set_option('display.width', 1000)\n",
        "\n",
        "#features_df = pd.DataFrame(features)\n",
        "#features_df"
      ],
      "execution_count": 0,
      "outputs": []
    },
    {
      "cell_type": "markdown",
      "metadata": {
        "id": "wSJEY4Ursc3A",
        "colab_type": "text"
      },
      "source": [
        "Multinominal (Birden fazla sınıflı) Naive Bayes modelinin oluşturulması. "
      ]
    },
    {
      "cell_type": "code",
      "metadata": {
        "id": "_AJnVOjgsc3B",
        "colab_type": "code",
        "colab": {}
      },
      "source": [
        "from sklearn.model_selection import train_test_split\n",
        "from sklearn.feature_extraction.text import CountVectorizer\n",
        "from sklearn.feature_extraction.text import TfidfTransformer\n",
        "from sklearn.naive_bayes import MultinomialNB"
      ],
      "execution_count": 0,
      "outputs": []
    },
    {
      "cell_type": "code",
      "metadata": {
        "id": "OGbLV_2tRy6d",
        "colab_type": "code",
        "colab": {}
      },
      "source": [
        "X_train, X_test, y_train, y_test = train_test_split(df['entry'], df['type'], random_state = 0)\n",
        "count_vect = CountVectorizer()\n",
        "X_train_counts = count_vect.fit_transform(X_train)\n",
        "tfidf_transformer = TfidfTransformer()\n",
        "X_train_tfidf = tfidf_transformer.fit_transform(X_train_counts)\n",
        "clf = MultinomialNB().fit(X_train_tfidf, y_train)\n",
        "\n",
        "test_typeClass = y_test.values\n",
        "   \n",
        "predictions = clf.predict(count_vect.transform(X_test))"
      ],
      "execution_count": 0,
      "outputs": []
    },
    {
      "cell_type": "code",
      "metadata": {
        "id": "DD0xZXNNsc3F",
        "colab_type": "code",
        "colab": {}
      },
      "source": [
        "prediction_results = {'predicted': {}}  ## prediction_result['analysts'] means prediction is 'analysts'\n",
        "\n",
        "prediction_results['predicted']['analysts']  = {'actual': {'analysts': 0, 'diplomats': 0, 'explorers': 0, 'sentinels': 0}}\n",
        "prediction_results['predicted']['diplomats'] = {'actual': {'analysts': 0, 'diplomats': 0, 'explorers': 0, 'sentinels': 0}}\n",
        "prediction_results['predicted']['explorers'] = {'actual': {'analysts': 0, 'diplomats': 0, 'explorers': 0, 'sentinels': 0}}\n",
        "prediction_results['predicted']['sentinels'] = {'actual': {'analysts': 0, 'diplomats': 0, 'explorers': 0, 'sentinels': 0}}\n",
        "\n",
        "## prediction_result['analysts']['diplomats'] means prediction is analysts but actual value is diplomats"
      ],
      "execution_count": 0,
      "outputs": []
    },
    {
      "cell_type": "code",
      "metadata": {
        "id": "Kc7adxOMfmKj",
        "colab_type": "code",
        "colab": {}
      },
      "source": [
        "for i in range(len(predictions)):\n",
        "  predicted_value = predictions[i]\n",
        "  actual_value = test_typeClass[i]\n",
        "  prediction_results['predicted'][predicted_value]['actual'][actual_value] += 1"
      ],
      "execution_count": 0,
      "outputs": []
    },
    {
      "cell_type": "code",
      "metadata": {
        "id": "4gGDav5qgVQh",
        "colab_type": "code",
        "colab": {
          "base_uri": "https://localhost:8080/",
          "height": 665
        },
        "outputId": "e44e70bc-195a-41a7-d923-3e10735c1a19"
      },
      "source": [
        "import json\n",
        "\n",
        "print(json.dumps(prediction_results, indent = 2))"
      ],
      "execution_count": 40,
      "outputs": [
        {
          "output_type": "stream",
          "text": [
            "{\n",
            "  \"predicted\": {\n",
            "    \"analysts\": {\n",
            "      \"actual\": {\n",
            "        \"analysts\": 32029,\n",
            "        \"diplomats\": 20189,\n",
            "        \"explorers\": 6924,\n",
            "        \"sentinels\": 14051\n",
            "      }\n",
            "    },\n",
            "    \"diplomats\": {\n",
            "      \"actual\": {\n",
            "        \"analysts\": 23318,\n",
            "        \"diplomats\": 38048,\n",
            "        \"explorers\": 8326,\n",
            "        \"sentinels\": 16777\n",
            "      }\n",
            "    },\n",
            "    \"explorers\": {\n",
            "      \"actual\": {\n",
            "        \"analysts\": 0,\n",
            "        \"diplomats\": 0,\n",
            "        \"explorers\": 16,\n",
            "        \"sentinels\": 0\n",
            "      }\n",
            "    },\n",
            "    \"sentinels\": {\n",
            "      \"actual\": {\n",
            "        \"analysts\": 13,\n",
            "        \"diplomats\": 9,\n",
            "        \"explorers\": 8,\n",
            "        \"sentinels\": 73\n",
            "      }\n",
            "    }\n",
            "  }\n",
            "}\n"
          ],
          "name": "stdout"
        }
      ]
    },
    {
      "cell_type": "code",
      "metadata": {
        "id": "0S5fD04Zgg11",
        "colab_type": "code",
        "colab": {
          "base_uri": "https://localhost:8080/",
          "height": 35
        },
        "outputId": "eb7fb7a1-d62e-42b4-c5cd-ecdab9fd70b5"
      },
      "source": [
        "results = prediction_results['predicted']\n",
        "accuracy = (results['analysts']['actual']['analysts'] + results['diplomats']['actual']['diplomats'] + results['explorers']['actual']['explorers'] + results['sentinels']['actual']['sentinels']) / len(predictions)\n",
        "accuracy"
      ],
      "execution_count": 41,
      "outputs": [
        {
          "output_type": "execute_result",
          "data": {
            "text/plain": [
              "0.4391385709189453"
            ]
          },
          "metadata": {
            "tags": []
          },
          "execution_count": 41
        }
      ]
    },
    {
      "cell_type": "code",
      "metadata": {
        "id": "ZPmKSg3XrONj",
        "colab_type": "code",
        "colab": {}
      },
      "source": [
        "X_train, X_test, y_train, y_test = train_test_split(df['entry'], df['E'], random_state = 0)  ## S, T, J\n",
        "count_vect = CountVectorizer()\n",
        "X_train_counts = count_vect.fit_transform(X_train)\n",
        "tfidf_transformer = TfidfTransformer()\n",
        "X_train_tfidf = tfidf_transformer.fit_transform(X_train_counts)\n",
        "clf = MultinomialNB().fit(X_train_tfidf, y_train)\n",
        "\n",
        "test_typeClass = y_test.values\n",
        "   \n",
        "predictions = clf.predict(count_vect.transform(X_test))"
      ],
      "execution_count": 0,
      "outputs": []
    },
    {
      "cell_type": "code",
      "metadata": {
        "id": "hgxavMQorivQ",
        "colab_type": "code",
        "colab": {
          "base_uri": "https://localhost:8080/",
          "height": 35
        },
        "outputId": "74491c06-66a3-4efa-a32f-5f41dc4ad840"
      },
      "source": [
        "predictions"
      ],
      "execution_count": 44,
      "outputs": [
        {
          "output_type": "execute_result",
          "data": {
            "text/plain": [
              "array([0, 0, 0, ..., 0, 1, 0])"
            ]
          },
          "metadata": {
            "tags": []
          },
          "execution_count": 44
        }
      ]
    },
    {
      "cell_type": "code",
      "metadata": {
        "id": "DlQeP5BFr0BA",
        "colab_type": "code",
        "colab": {
          "base_uri": "https://localhost:8080/",
          "height": 35
        },
        "outputId": "a1da871a-ea3a-43f7-f136-b759dc75d571"
      },
      "source": [
        "predicted = {}\n",
        "predicted['I'] = {'actual': {'I': 0, 'E': 0}}\n",
        "predicted['E'] = {'actual': {'I': 0, 'E': 0}}\n",
        "predicted"
      ],
      "execution_count": 47,
      "outputs": [
        {
          "output_type": "execute_result",
          "data": {
            "text/plain": [
              "{'E': {'actual': {'E': 0, 'I': 0}}, 'I': {'actual': {'E': 0, 'I': 0}}}"
            ]
          },
          "metadata": {
            "tags": []
          },
          "execution_count": 47
        }
      ]
    },
    {
      "cell_type": "code",
      "metadata": {
        "id": "F38Wm7lnsNxh",
        "colab_type": "code",
        "colab": {}
      },
      "source": [
        "int_to_class = ['I', 'E']\n",
        "\n",
        "for i in range(len(predictions)):\n",
        "  predicted_value = int_to_class[predictions[i]]\n",
        "  actual_value = int_to_class[test_typeClass[i]]\n",
        "  predicted[predicted_value]['actual'][actual_value] += 1\n"
      ],
      "execution_count": 0,
      "outputs": []
    },
    {
      "cell_type": "code",
      "metadata": {
        "id": "pCppRIUitZ3A",
        "colab_type": "code",
        "colab": {
          "base_uri": "https://localhost:8080/",
          "height": 53
        },
        "outputId": "6a9a67f7-d030-4fc5-c265-17139f41a205"
      },
      "source": [
        "predicted"
      ],
      "execution_count": 50,
      "outputs": [
        {
          "output_type": "execute_result",
          "data": {
            "text/plain": [
              "{'E': {'actual': {'E': 23528, 'I': 10205}},\n",
              " 'I': {'actual': {'E': 53928, 'I': 72120}}}"
            ]
          },
          "metadata": {
            "tags": []
          },
          "execution_count": 50
        }
      ]
    },
    {
      "cell_type": "code",
      "metadata": {
        "id": "sRxuH3Fht6me",
        "colab_type": "code",
        "colab": {}
      },
      "source": [
        "accuracy = (predicted['E']['actual']['E'] + predicted['I']['actual']['I']) / len(predictions)"
      ],
      "execution_count": 0,
      "outputs": []
    },
    {
      "cell_type": "code",
      "metadata": {
        "id": "11O91HLLuH27",
        "colab_type": "code",
        "colab": {
          "base_uri": "https://localhost:8080/",
          "height": 35
        },
        "outputId": "08efaee6-9b0f-4f8a-b0af-f8cd7d032d19"
      },
      "source": [
        "accuracy"
      ],
      "execution_count": 53,
      "outputs": [
        {
          "output_type": "execute_result",
          "data": {
            "text/plain": [
              "0.5986193602493413"
            ]
          },
          "metadata": {
            "tags": []
          },
          "execution_count": 53
        }
      ]
    },
    {
      "cell_type": "code",
      "metadata": {
        "id": "mq8qRr5RuSVO",
        "colab_type": "code",
        "colab": {}
      },
      "source": [
        "X_train, X_test, y_train, y_test = train_test_split(df['entry'], df['S'], random_state = 0)  ## T, J\n",
        "count_vect = CountVectorizer()\n",
        "X_train_counts = count_vect.fit_transform(X_train)\n",
        "tfidf_transformer = TfidfTransformer()\n",
        "X_train_tfidf = tfidf_transformer.fit_transform(X_train_counts)\n",
        "clf = MultinomialNB().fit(X_train_tfidf, y_train)\n",
        "\n",
        "test_typeClass = y_test.values\n",
        "   \n",
        "predictions = clf.predict(count_vect.transform(X_test))"
      ],
      "execution_count": 0,
      "outputs": []
    },
    {
      "cell_type": "code",
      "metadata": {
        "id": "VzV1av-CuZ2b",
        "colab_type": "code",
        "colab": {
          "base_uri": "https://localhost:8080/",
          "height": 89
        },
        "outputId": "c97fbdd2-9f8e-4b31-9c2c-59f8bfc9df2b"
      },
      "source": [
        "predicted['N'] = {'actual': {'N': 0, 'S': 0}}\n",
        "predicted['S'] = {'actual': {'N': 0, 'S': 0}}\n",
        "\n",
        "predicted"
      ],
      "execution_count": 56,
      "outputs": [
        {
          "output_type": "execute_result",
          "data": {
            "text/plain": [
              "{'E': {'actual': {'E': 23528, 'I': 10205}},\n",
              " 'I': {'actual': {'E': 53928, 'I': 72120}},\n",
              " 'N': {'actual': {'N': 0, 'S': 0}},\n",
              " 'S': {'actual': {'N': 0, 'S': 0}}}"
            ]
          },
          "metadata": {
            "tags": []
          },
          "execution_count": 56
        }
      ]
    },
    {
      "cell_type": "code",
      "metadata": {
        "id": "Fm2wvaVYuklE",
        "colab_type": "code",
        "colab": {}
      },
      "source": [
        "int_to_class = ['N', 'S']\n",
        "\n",
        "for i in range(len(predictions)):\n",
        "  predicted_value = int_to_class[predictions[i]]\n",
        "  actual_value = int_to_class[test_typeClass[i]]\n",
        "  predicted[predicted_value]['actual'][actual_value] += 1"
      ],
      "execution_count": 0,
      "outputs": []
    },
    {
      "cell_type": "code",
      "metadata": {
        "id": "YbVEQPPsvebF",
        "colab_type": "code",
        "colab": {
          "base_uri": "https://localhost:8080/",
          "height": 89
        },
        "outputId": "335ca7b8-1c72-4ad8-efa7-35046d1645e8"
      },
      "source": [
        "predicted"
      ],
      "execution_count": 61,
      "outputs": [
        {
          "output_type": "execute_result",
          "data": {
            "text/plain": [
              "{'E': {'actual': {'E': 23528, 'I': 10205}},\n",
              " 'I': {'actual': {'E': 53928, 'I': 72120}},\n",
              " 'N': {'actual': {'N': 113579, 'S': 46083}},\n",
              " 'S': {'actual': {'N': 27, 'S': 92}}}"
            ]
          },
          "metadata": {
            "tags": []
          },
          "execution_count": 61
        }
      ]
    },
    {
      "cell_type": "code",
      "metadata": {
        "id": "tQJQoGQavLgv",
        "colab_type": "code",
        "colab": {}
      },
      "source": [
        "accuracy = (predicted['N']['actual']['N'] + predicted['S']['actual']['S']) / len(predictions)"
      ],
      "execution_count": 0,
      "outputs": []
    },
    {
      "cell_type": "code",
      "metadata": {
        "id": "LbegGjPNvXJO",
        "colab_type": "code",
        "colab": {
          "base_uri": "https://localhost:8080/",
          "height": 35
        },
        "outputId": "713c58b3-089e-4779-8e79-56a2a8c95430"
      },
      "source": [
        "accuracy"
      ],
      "execution_count": 60,
      "outputs": [
        {
          "output_type": "execute_result",
          "data": {
            "text/plain": [
              "0.71141750270683"
            ]
          },
          "metadata": {
            "tags": []
          },
          "execution_count": 60
        }
      ]
    },
    {
      "cell_type": "code",
      "metadata": {
        "id": "qKVLLnYJwOHR",
        "colab_type": "code",
        "colab": {}
      },
      "source": [
        "X_train, X_test, y_train, y_test = train_test_split(df['entry'], df['T'], random_state = 0)  ##  J\n",
        "count_vect = CountVectorizer()\n",
        "X_train_counts = count_vect.fit_transform(X_train)\n",
        "tfidf_transformer = TfidfTransformer()\n",
        "X_train_tfidf = tfidf_transformer.fit_transform(X_train_counts)\n",
        "clf = MultinomialNB().fit(X_train_tfidf, y_train)\n",
        "\n",
        "test_typeClass = y_test.values\n",
        "   \n",
        "predictions = clf.predict(count_vect.transform(X_test))"
      ],
      "execution_count": 0,
      "outputs": []
    },
    {
      "cell_type": "code",
      "metadata": {
        "id": "839RnfNfwT77",
        "colab_type": "code",
        "colab": {
          "base_uri": "https://localhost:8080/",
          "height": 125
        },
        "outputId": "a2e6759f-8004-47a9-f01b-dfa5349335ef"
      },
      "source": [
        "predicted['T'] = {'actual': {'T': 0, 'F': 0}}\n",
        "predicted['F'] = {'actual': {'T': 0, 'F': 0}}\n",
        "\n",
        "predicted"
      ],
      "execution_count": 63,
      "outputs": [
        {
          "output_type": "execute_result",
          "data": {
            "text/plain": [
              "{'E': {'actual': {'E': 23528, 'I': 10205}},\n",
              " 'F': {'actual': {'F': 0, 'T': 0}},\n",
              " 'I': {'actual': {'E': 53928, 'I': 72120}},\n",
              " 'N': {'actual': {'N': 113579, 'S': 46083}},\n",
              " 'S': {'actual': {'N': 27, 'S': 92}},\n",
              " 'T': {'actual': {'F': 0, 'T': 0}}}"
            ]
          },
          "metadata": {
            "tags": []
          },
          "execution_count": 63
        }
      ]
    },
    {
      "cell_type": "code",
      "metadata": {
        "id": "sd9lUb13wbdK",
        "colab_type": "code",
        "colab": {}
      },
      "source": [
        "int_to_class = ['F', 'T']\n",
        "\n",
        "for i in range(len(predictions)):\n",
        "  predicted_value = int_to_class[predictions[i]]\n",
        "  actual_value = int_to_class[test_typeClass[i]]\n",
        "  predicted[predicted_value]['actual'][actual_value] += 1"
      ],
      "execution_count": 0,
      "outputs": []
    },
    {
      "cell_type": "code",
      "metadata": {
        "id": "Js9--v33ws5A",
        "colab_type": "code",
        "colab": {
          "base_uri": "https://localhost:8080/",
          "height": 125
        },
        "outputId": "14e1148d-0a36-407c-8ee5-fcf111140e43"
      },
      "source": [
        "predicted"
      ],
      "execution_count": 65,
      "outputs": [
        {
          "output_type": "execute_result",
          "data": {
            "text/plain": [
              "{'E': {'actual': {'E': 23528, 'I': 10205}},\n",
              " 'F': {'actual': {'F': 39202, 'T': 22159}},\n",
              " 'I': {'actual': {'E': 53928, 'I': 72120}},\n",
              " 'N': {'actual': {'N': 113579, 'S': 46083}},\n",
              " 'S': {'actual': {'N': 27, 'S': 92}},\n",
              " 'T': {'actual': {'F': 41155, 'T': 57265}}}"
            ]
          },
          "metadata": {
            "tags": []
          },
          "execution_count": 65
        }
      ]
    },
    {
      "cell_type": "code",
      "metadata": {
        "id": "i2ycKt6ZwuOC",
        "colab_type": "code",
        "colab": {}
      },
      "source": [
        "accuracy = (predicted['F']['actual']['F'] + predicted['T']['actual']['T']) / len(predictions)"
      ],
      "execution_count": 0,
      "outputs": []
    },
    {
      "cell_type": "code",
      "metadata": {
        "id": "5WkLA4z8x12q",
        "colab_type": "code",
        "colab": {
          "base_uri": "https://localhost:8080/",
          "height": 35
        },
        "outputId": "49c05182-66a1-4eb0-a8b0-3297de27f593"
      },
      "source": [
        "accuracy"
      ],
      "execution_count": 68,
      "outputs": [
        {
          "output_type": "execute_result",
          "data": {
            "text/plain": [
              "0.6037451261414061"
            ]
          },
          "metadata": {
            "tags": []
          },
          "execution_count": 68
        }
      ]
    },
    {
      "cell_type": "code",
      "metadata": {
        "id": "UuEb2k8Qx41D",
        "colab_type": "code",
        "colab": {}
      },
      "source": [
        "X_train, X_test, y_train, y_test = train_test_split(df['entry'], df['J'], random_state = 0) \n",
        "count_vect = CountVectorizer()\n",
        "X_train_counts = count_vect.fit_transform(X_train)\n",
        "tfidf_transformer = TfidfTransformer()\n",
        "X_train_tfidf = tfidf_transformer.fit_transform(X_train_counts)\n",
        "clf = MultinomialNB().fit(X_train_tfidf, y_train)\n",
        "\n",
        "test_typeClass = y_test.values\n",
        "   \n",
        "predictions = clf.predict(count_vect.transform(X_test))"
      ],
      "execution_count": 0,
      "outputs": []
    },
    {
      "cell_type": "code",
      "metadata": {
        "id": "Dw-8uFkbx9m7",
        "colab_type": "code",
        "colab": {
          "base_uri": "https://localhost:8080/",
          "height": 161
        },
        "outputId": "7d19681a-55fd-459d-db09-c9c86b944da5"
      },
      "source": [
        "predicted['J'] = {'actual': {'J': 0, 'P': 0}}\n",
        "predicted['P'] = {'actual': {'J': 0, 'P': 0}}\n",
        "\n",
        "predicted"
      ],
      "execution_count": 77,
      "outputs": [
        {
          "output_type": "execute_result",
          "data": {
            "text/plain": [
              "{'E': {'actual': {'E': 23528, 'I': 10205}},\n",
              " 'F': {'actual': {'F': 39202, 'T': 22159}},\n",
              " 'I': {'actual': {'E': 53928, 'I': 72120}},\n",
              " 'J': {'actual': {'J': 0, 'P': 0}},\n",
              " 'N': {'actual': {'N': 113579, 'S': 46083}},\n",
              " 'P': {'actual': {'J': 0, 'P': 0}},\n",
              " 'S': {'actual': {'N': 27, 'S': 92}},\n",
              " 'T': {'actual': {'F': 41155, 'T': 57265}}}"
            ]
          },
          "metadata": {
            "tags": []
          },
          "execution_count": 77
        }
      ]
    },
    {
      "cell_type": "code",
      "metadata": {
        "id": "dYu5m1TRyGNB",
        "colab_type": "code",
        "colab": {}
      },
      "source": [
        "int_to_class = ['P', 'J']\n",
        "\n",
        "for i in range(len(predictions)):\n",
        "  predicted_value = int_to_class[predictions[i]]\n",
        "  actual_value = int_to_class[test_typeClass[i]]\n",
        "  predicted[predicted_value]['actual'][actual_value] += 1"
      ],
      "execution_count": 0,
      "outputs": []
    },
    {
      "cell_type": "code",
      "metadata": {
        "id": "PHsAWw-6yOdi",
        "colab_type": "code",
        "colab": {
          "base_uri": "https://localhost:8080/",
          "height": 161
        },
        "outputId": "42367ebe-7db9-4c03-beda-efa58f6cb992"
      },
      "source": [
        "predicted"
      ],
      "execution_count": 79,
      "outputs": [
        {
          "output_type": "execute_result",
          "data": {
            "text/plain": [
              "{'E': {'actual': {'E': 23528, 'I': 10205}},\n",
              " 'F': {'actual': {'F': 39202, 'T': 22159}},\n",
              " 'I': {'actual': {'E': 53928, 'I': 72120}},\n",
              " 'J': {'actual': {'J': 30787, 'P': 19379}},\n",
              " 'N': {'actual': {'N': 113579, 'S': 46083}},\n",
              " 'P': {'actual': {'J': 46909, 'P': 62706}},\n",
              " 'S': {'actual': {'N': 27, 'S': 92}},\n",
              " 'T': {'actual': {'F': 41155, 'T': 57265}}}"
            ]
          },
          "metadata": {
            "tags": []
          },
          "execution_count": 79
        }
      ]
    },
    {
      "cell_type": "code",
      "metadata": {
        "id": "LHYecNUuyQGL",
        "colab_type": "code",
        "colab": {}
      },
      "source": [
        "accuracy = (predicted['P']['actual']['P'] + predicted['J']['actual']['J']) / len(predictions)"
      ],
      "execution_count": 0,
      "outputs": []
    },
    {
      "cell_type": "code",
      "metadata": {
        "id": "jtNZq3mTyW6r",
        "colab_type": "code",
        "colab": {
          "base_uri": "https://localhost:8080/",
          "height": 35
        },
        "outputId": "a03ebfd4-9ad8-4b71-d390-d9355f7e05d1"
      },
      "source": [
        "accuracy"
      ],
      "execution_count": 81,
      "outputs": [
        {
          "output_type": "execute_result",
          "data": {
            "text/plain": [
              "0.5851321496298058"
            ]
          },
          "metadata": {
            "tags": []
          },
          "execution_count": 81
        }
      ]
    },
    {
      "cell_type": "code",
      "metadata": {
        "id": "MQuyqSw-yjse",
        "colab_type": "code",
        "colab": {
          "base_uri": "https://localhost:8080/",
          "height": 161
        },
        "outputId": "65bd5a5d-f780-48de-aa37-5167b90053a0"
      },
      "source": [
        "prediction_results['predicted'] = predicted\n",
        "\n",
        "prediction_results"
      ],
      "execution_count": 82,
      "outputs": [
        {
          "output_type": "execute_result",
          "data": {
            "text/plain": [
              "{'predicted': {'E': {'actual': {'E': 23528, 'I': 10205}},\n",
              "  'F': {'actual': {'F': 39202, 'T': 22159}},\n",
              "  'I': {'actual': {'E': 53928, 'I': 72120}},\n",
              "  'J': {'actual': {'J': 30787, 'P': 19379}},\n",
              "  'N': {'actual': {'N': 113579, 'S': 46083}},\n",
              "  'P': {'actual': {'J': 46909, 'P': 62706}},\n",
              "  'S': {'actual': {'N': 27, 'S': 92}},\n",
              "  'T': {'actual': {'F': 41155, 'T': 57265}}}}"
            ]
          },
          "metadata": {
            "tags": []
          },
          "execution_count": 82
        }
      ]
    }
  ]
}