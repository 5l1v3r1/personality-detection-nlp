{
  "nbformat": 4,
  "nbformat_minor": 0,
  "metadata": {
    "colab": {
      "name": "naive_bayes.ipynb",
      "provenance": [],
      "collapsed_sections": [],
      "machine_shape": "hm"
    },
    "kernelspec": {
      "display_name": "Python 3",
      "language": "python",
      "name": "python3"
    },
    "language_info": {
      "codemirror_mode": {
        "name": "ipython",
        "version": 3
      },
      "file_extension": ".py",
      "mimetype": "text/x-python",
      "name": "python",
      "nbconvert_exporter": "python",
      "pygments_lexer": "ipython3",
      "version": "3.7.4"
    }
  },
  "cells": [
    {
      "cell_type": "markdown",
      "metadata": {
        "colab_type": "text",
        "id": "0jNfS3mXsc2O"
      },
      "source": [
        "<span style=\"font-size:1.1em;\">Colab'a Google drive'ı entegre ediyoruz. Kullanılacak olan veriseti Google Drive'da bulunmaktadır</span>"
      ]
    },
    {
      "cell_type": "code",
      "metadata": {
        "colab_type": "code",
        "id": "d_zKJmJWQG19",
        "colab": {}
      },
      "source": [
        "from google.colab import drive\n",
        "drive.mount('/content/gdrive')"
      ],
      "execution_count": 0,
      "outputs": []
    },
    {
      "cell_type": "code",
      "metadata": {
        "colab_type": "code",
        "id": "CA6I9IrzVr2v",
        "colab": {}
      },
      "source": [
        "import pandas as pd "
      ],
      "execution_count": 0,
      "outputs": []
    },
    {
      "cell_type": "markdown",
      "metadata": {
        "id": "97IoTlPeHPVf",
        "colab_type": "text"
      },
      "source": [
        "<span style=\"font-size:1.1em;\">Google Drive'ımızın root pathi</span> ```gdrive/My Drive``` <span style=\"font-size:1.1em;\">oluyor. Proje için gerekli verisetini **mbti** adında bir klasör oluşturup içerisine yüklüyoruz. İlgili verisetinin pathi</span> ```gdrive/My Drive/mbti/all_users.csv``` <span style=\"font-size:1.1em;\">oluyor.</span>"
      ]
    },
    {
      "cell_type": "code",
      "metadata": {
        "colab_type": "code",
        "id": "P4qtF-14sc2S",
        "colab": {}
      },
      "source": [
        "df = pd.read_csv(\"gdrive/My Drive/mbti/all_users.csv\", sep = ';', header = 0) "
      ],
      "execution_count": 0,
      "outputs": []
    },
    {
      "cell_type": "code",
      "metadata": {
        "colab_type": "code",
        "id": "vtN4QiN4sc2Y",
        "colab": {}
      },
      "source": [
        "df"
      ],
      "execution_count": 0,
      "outputs": []
    },
    {
      "cell_type": "code",
      "metadata": {
        "colab_type": "code",
        "id": "vkuqae_1sc2g",
        "scrolled": true,
        "colab": {}
      },
      "source": [
        "import matplotlib.pyplot as plt"
      ],
      "execution_count": 0,
      "outputs": []
    },
    {
      "cell_type": "markdown",
      "metadata": {
        "colab_type": "text",
        "id": "WgKPqLP6sc2f"
      },
      "source": [
        "<span style=\"font-size:1.1em;\">Verisetinin **class** tiplerine göre dağılım</span>"
      ]
    },
    {
      "cell_type": "code",
      "metadata": {
        "colab_type": "code",
        "id": "O5zNSY97RgFT",
        "colab": {}
      },
      "source": [
        "fig = plt.figure(figsize=(8,6))\n",
        "\n",
        "df.groupby('type').type.count().plot.bar(ylim=0)\n",
        "plt.show()"
      ],
      "execution_count": 0,
      "outputs": []
    },
    {
      "cell_type": "markdown",
      "metadata": {
        "id": "yxKqqcIOHPV6",
        "colab_type": "text"
      },
      "source": [
        "<span style=\"font-size:1.1em;\">Verisetindeki **I/E** dağılımını göstermektedir. I olanlar x ekseninde 0 olarak E olanlar ise 1 olarak gösterilmektedir</span>"
      ]
    },
    {
      "cell_type": "code",
      "metadata": {
        "id": "Px9BDE58HPV8",
        "colab_type": "code",
        "colab": {}
      },
      "source": [
        "fig = plt.figure(figsize=(8,6))\n",
        "\n",
        "df.groupby('E').type.count().plot.bar(ylim=0)\n",
        "plt.show()"
      ],
      "execution_count": 0,
      "outputs": []
    },
    {
      "cell_type": "markdown",
      "metadata": {
        "id": "60eHkTmxHPWB",
        "colab_type": "text"
      },
      "source": [
        "<span style=\"font-size:1.1em;\">Verisetindeki **S/N** dağılımını göstermektedir. N olanlar x ekseninde 0 olarak S olanlar ise 1 olarak gösterilmektedir</span>"
      ]
    },
    {
      "cell_type": "code",
      "metadata": {
        "id": "r-n8D9GuHPWD",
        "colab_type": "code",
        "colab": {}
      },
      "source": [
        "fig = plt.figure(figsize=(8,6))\n",
        "\n",
        "df.groupby('S').type.count().plot.bar(ylim=0)\n",
        "plt.show()"
      ],
      "execution_count": 0,
      "outputs": []
    },
    {
      "cell_type": "markdown",
      "metadata": {
        "id": "YFqrkEQXHPWJ",
        "colab_type": "text"
      },
      "source": [
        "<span style=\"font-size:1.1em;\">Verisetindeki **T/F** dağılımını göstermektedir. F olanlar x ekseninde 0 olarak T olanlar ise 1 olarak gösterilmektedir</span>"
      ]
    },
    {
      "cell_type": "code",
      "metadata": {
        "id": "x9wbF0DjHPWL",
        "colab_type": "code",
        "colab": {}
      },
      "source": [
        "fig = plt.figure(figsize=(8,6))\n",
        "\n",
        "df.groupby('T').type.count().plot.bar(ylim=0)\n",
        "plt.show()"
      ],
      "execution_count": 0,
      "outputs": []
    },
    {
      "cell_type": "markdown",
      "metadata": {
        "id": "LLG8qi_6HPWQ",
        "colab_type": "text"
      },
      "source": [
        "<span style=\"font-size:1.1em;\">Verisetindeki **J/P** dağılımını göstermektedir. P olanlar x ekseninde 0 olarak J olanlar ise 1 olarak gösterilmektedir</span>"
      ]
    },
    {
      "cell_type": "code",
      "metadata": {
        "id": "PnYcABt4HPWS",
        "colab_type": "code",
        "colab": {}
      },
      "source": [
        "fig = plt.figure(figsize=(8,6))\n",
        "\n",
        "df.groupby('J').type.count().plot.bar(ylim=0)\n",
        "plt.show()"
      ],
      "execution_count": 0,
      "outputs": []
    },
    {
      "cell_type": "markdown",
      "metadata": {
        "colab_type": "text",
        "id": "nXN5GZtKsc2l"
      },
      "source": [
        "Stop words, drive'da /mbti altındaki stop_words_tr.txt okunarak alınır\n",
        "\n",
        "---\n",
        "\n"
      ]
    },
    {
      "cell_type": "code",
      "metadata": {
        "colab_type": "code",
        "id": "AJxv2CTzsc2m",
        "colab": {}
      },
      "source": [
        "from sklearn.feature_extraction.text import TfidfVectorizer"
      ],
      "execution_count": 0,
      "outputs": []
    },
    {
      "cell_type": "code",
      "metadata": {
        "colab_type": "code",
        "id": "5Z6KPqWNRmqO",
        "colab": {}
      },
      "source": [
        "file = open(\"gdrive/My Drive/mbti/stop_words_tr.txt\")\n",
        "stop_word_list = file.read().split('\\n')\n",
        "file.close()"
      ],
      "execution_count": 0,
      "outputs": []
    },
    {
      "cell_type": "code",
      "metadata": {
        "colab_type": "code",
        "id": "PKBOZNvCsc2r",
        "colab": {}
      },
      "source": [
        "stop_word_list"
      ],
      "execution_count": 0,
      "outputs": []
    },
    {
      "cell_type": "markdown",
      "metadata": {
        "id": "4LDZVG50-F3O",
        "colab_type": "text"
      },
      "source": [
        "Entrylere ön işleme adımları uygulanır. Bu adımlar:\n",
        "\n",
        "\n",
        "1.   Bütün harflerin küçük harf haline getirilmesi\n",
        "\n",
        "2.   '**bkz**', '**--- spoiler ---**', '**spoiler**', '**#12341324**' (gibi böyle rakamların devam ettiği) entrylerin verisetinden çıkarılması gerekmektedir.\n",
        "\n",
        "3. Entrylerden stop words'ler silinmelidir.\n",
        "\n",
        "4. Web sitelerinin temizlenmesi\n",
        "\n",
        "5. Noktalama işaretlerinin temizlenmesi\n",
        "\n",
        "6. Rakamların temizlenmesi\n",
        "\n",
        "Temizlenme işlemlerinde empty string yerine space (' ') ile replace edilerek yapılmalıdır. Arından da fazla boşluklar vs trim edilmelidir.\n",
        "\n",
        "```[+-]?([0-9]*)([.][0-9])?``` regex olarak kullanılacak hem rakamların silinmesinde hem de ondaklı sayıların silinmesinde\n"
      ]
    },
    {
      "cell_type": "markdown",
      "metadata": {
        "id": "XklzLH_pJl5s",
        "colab_type": "text"
      },
      "source": [
        "Entrylerdeki harfler küçük harf haline getirilir"
      ]
    },
    {
      "cell_type": "code",
      "metadata": {
        "id": "LVH3wd0AJqtG",
        "colab_type": "code",
        "colab": {}
      },
      "source": [
        "df['entry'] = df['entry'].str.lower()"
      ],
      "execution_count": 0,
      "outputs": []
    },
    {
      "cell_type": "markdown",
      "metadata": {
        "id": "DdaLFbvbCm8r",
        "colab_type": "text"
      },
      "source": [
        "Dataframe içerisindeki bütün entrylere '**bkz**', '**spoiler**', '**#**' içerip içermediğine bakar ve bunun sonucu index numarasıyla birlikte döner. ```15 True``` gibi bu demek oluyor ki 15 numaralı index bizim yazmış olduğumuz koşulu sağlamaktadır."
      ]
    },
    {
      "cell_type": "code",
      "metadata": {
        "id": "4i_BlXDr-BbQ",
        "colab_type": "code",
        "colab": {}
      },
      "source": [
        "indexes_contains_unwanted_words = df['entry'].str.contains('|'.join(['bkz', 'spoiler', r'#\\d*']))"
      ],
      "execution_count": 0,
      "outputs": []
    },
    {
      "cell_type": "markdown",
      "metadata": {
        "id": "boufiWfHDrIu",
        "colab_type": "text"
      },
      "source": [
        "Dataframe'den ilgili entryler çıkartılır"
      ]
    },
    {
      "cell_type": "code",
      "metadata": {
        "id": "NEJVm7ALDuo2",
        "colab_type": "code",
        "colab": {}
      },
      "source": [
        "df = df[~indexes_contains_unwanted_words]\n",
        "df.shape[0]"
      ],
      "execution_count": 0,
      "outputs": []
    },
    {
      "cell_type": "markdown",
      "metadata": {
        "id": "Y0-z8E6OIFNh",
        "colab_type": "text"
      },
      "source": [
        "Entrylerden stop words silinir."
      ]
    },
    {
      "cell_type": "code",
      "metadata": {
        "id": "sxy9T9seILBC",
        "colab_type": "code",
        "colab": {}
      },
      "source": [
        "df['entry'].str.replace('|'.join(stop_word_list), ' ')"
      ],
      "execution_count": 0,
      "outputs": []
    },
    {
      "cell_type": "markdown",
      "metadata": {
        "id": "qwCxlQsEThSX",
        "colab_type": "text"
      },
      "source": [
        "Entrylerden web site linkleri silinir."
      ]
    },
    {
      "cell_type": "code",
      "metadata": {
        "id": "VcB2KrMaRqtj",
        "colab_type": "code",
        "colab": {}
      },
      "source": [
        "df['entry'] = df['entry'].replace(r'http\\S+', ' ', regex=True, inplace = True).replace(r'www\\S+', '', regex=True, inplace = True)"
      ],
      "execution_count": 0,
      "outputs": []
    },
    {
      "cell_type": "markdown",
      "metadata": {
        "colab_type": "text",
        "id": "dZzvU-o2sc2w"
      },
      "source": [
        "Preprocessing işlemleri yapılır. Burada bir tek Türkçe için stop words listesi kullanılarak girdilerden\n",
        "gereksiz kelimeler atılır. TF-IDF özellik vektörü çıkarılır."
      ]
    },
    {
      "cell_type": "code",
      "metadata": {
        "colab_type": "code",
        "id": "wzSU9aILsc2x",
        "colab": {}
      },
      "source": [
        "tfidf = TfidfVectorizer(sublinear_tf=True, min_df=5, norm='l2', encoding='latin-1', ngram_range=(1, 2), stop_words=stop_word_list, max_features=1000)"
      ],
      "execution_count": 0,
      "outputs": []
    },
    {
      "cell_type": "code",
      "metadata": {
        "colab_type": "code",
        "id": "ueDH4nqFaOBw",
        "colab": {}
      },
      "source": [
        "features = tfidf.fit_transform(df.entry).toarray()"
      ],
      "execution_count": 0,
      "outputs": []
    },
    {
      "cell_type": "code",
      "metadata": {
        "colab_type": "code",
        "id": "pd49njWEaRgw",
        "colab": {}
      },
      "source": [
        "labels = df.type\n",
        "features.shape"
      ],
      "execution_count": 0,
      "outputs": []
    },
    {
      "cell_type": "markdown",
      "metadata": {
        "colab_type": "text",
        "id": "Zhc5fBeAsc22"
      },
      "source": [
        "(x, y) -> x: döküman (entry) sayısı, y: kelime (vektör) sayısı\n",
        "TF-IDF kullanarak çıkartılan özellik vektörü"
      ]
    },
    {
      "cell_type": "code",
      "metadata": {
        "colab_type": "code",
        "id": "SbgGHLzisc23",
        "colab": {}
      },
      "source": [
        "#pd.set_option('display.max_rows', 20)\n",
        "#pd.set_option('display.max_columns', 20)\n",
        "#pd.set_option('display.width', 1000)\n",
        "\n",
        "#features_df = pd.DataFrame(features)\n",
        "#features_df"
      ],
      "execution_count": 0,
      "outputs": []
    },
    {
      "cell_type": "markdown",
      "metadata": {
        "colab_type": "text",
        "id": "wSJEY4Ursc3A"
      },
      "source": [
        "Multinominal Naive Bayes modeli oluşturulur. Oluşturulan bu model verisetinde \"type\" olarak belirtilen \"analysts\", \"diplomats\", \"sentimenls\", \"explorers\" sınıflarından hangilerine ait olduğunu tahmin etmek için kullanılır"
      ]
    },
    {
      "cell_type": "code",
      "metadata": {
        "colab_type": "code",
        "id": "_AJnVOjgsc3B",
        "colab": {}
      },
      "source": [
        "from sklearn.model_selection import train_test_split\n",
        "from sklearn.feature_extraction.text import CountVectorizer\n",
        "from sklearn.feature_extraction.text import TfidfTransformer\n",
        "from sklearn.naive_bayes import MultinomialNB"
      ],
      "execution_count": 0,
      "outputs": []
    },
    {
      "cell_type": "code",
      "metadata": {
        "colab_type": "code",
        "id": "OGbLV_2tRy6d",
        "colab": {}
      },
      "source": [
        "X_train, X_test, y_train, y_test = train_test_split(df['entry'], df['type'], random_state = 0)\n",
        "count_vect = CountVectorizer()\n",
        "X_train_counts = count_vect.fit_transform(X_train)\n",
        "tfidf_transformer = TfidfTransformer()\n",
        "X_train_tfidf = tfidf_transformer.fit_transform(X_train_counts)\n",
        "clf = MultinomialNB().fit(X_train_tfidf, y_train)\n",
        "\n",
        "test_typeClass = y_test.values\n",
        "   \n",
        "predictions = clf.predict(count_vect.transform(X_test))"
      ],
      "execution_count": 0,
      "outputs": []
    },
    {
      "cell_type": "markdown",
      "metadata": {
        "id": "HVUImvDlHPXa",
        "colab_type": "text"
      },
      "source": [
        "<span style=\"font-size:1.1em\">Yapılacak tahminlerle ilgili istatistiksel verileri tutmak için</span> ```predictions_result```<span style=\"font-size:1.1em\"> adında bir değişken oluşturulur.</span>\n",
        "\n",
        "<span style=\"font-size:1.1em\">Bu değişkenin yapısı aşağıdaki gibidir.</span>\n",
        "\n",
        "```json\n",
        "{\n",
        "    \"predicted\": {\n",
        "        \"analysts\":  { \"actual\": {\"analysts\": 0, \"diplomats\": 0, \"explorers\": 0, \"sentinels\": 0} }\n",
        "        \"diplomats\": { \"actual\": {\"analysts\": 0, \"diplomats\": 0, \"explorers\": 0, \"sentinels\": 0} }\n",
        "        \"explorers\": { \"actual\": {\"analysts\": 0, \"diplomats\": 0, \"explorers\": 0, \"sentinels\": 0} }\n",
        "        \"sentinels\": { \"actual\": {\"analysts\": 0, \"diplomats\": 0, \"explorers\": 0, \"sentinels\": 0} }\n",
        "    }\n",
        "}\n",
        "```\n",
        "\n",
        "* <span style=\"font-size:1.1em;\">Yapılan tahminlerle ilgili verilere ulaşabilmek için</span>\n",
        "\n",
        "    ```predictions_results['predicted']```\n",
        "\n",
        "\n",
        "* <span style=\"font-size:1.1em;\">Yapılan tahminin analyst ise:</span>\n",
        "\n",
        "    ```predictions_results['predicted']['analysts']``` \n",
        "\n",
        "\n",
        "* <span style=\"font-size:1.1em;\">Yapılan analyst tahmininin gerçek değerlerine erişmek için:</span>     \n",
        "\n",
        "    ```predictions_results['predicted']['analysts']['actual']```  \n",
        "\n",
        "\n",
        "* <span style=\"font-size:1.1em;\">Test verisi, model tarafından analysts olarak tahmin edilmiştir ve bu verinin gerçek değeri de analysts'tir.</span>\n",
        "\n",
        "    ```predictions_results['predicted']['analysts']['actual']['analysts']``` "
      ]
    },
    {
      "cell_type": "code",
      "metadata": {
        "colab_type": "code",
        "id": "DD0xZXNNsc3F",
        "colab": {}
      },
      "source": [
        "prediction_results = {'predicted': {}}  ## prediction_result['analysts'] means prediction is 'analysts'\n",
        "\n",
        "prediction_results['predicted']['analysts']  = {'actual': {'analysts': 0, 'diplomats': 0, 'explorers': 0, 'sentinels': 0}}\n",
        "prediction_results['predicted']['diplomats'] = {'actual': {'analysts': 0, 'diplomats': 0, 'explorers': 0, 'sentinels': 0}}\n",
        "prediction_results['predicted']['explorers'] = {'actual': {'analysts': 0, 'diplomats': 0, 'explorers': 0, 'sentinels': 0}}\n",
        "prediction_results['predicted']['sentinels'] = {'actual': {'analysts': 0, 'diplomats': 0, 'explorers': 0, 'sentinels': 0}}\n",
        "\n",
        "## prediction_result['analysts']['diplomats'] means prediction is analysts but actual value is diplomats"
      ],
      "execution_count": 0,
      "outputs": []
    },
    {
      "cell_type": "markdown",
      "metadata": {
        "id": "YOFYyew6HPXl",
        "colab_type": "text"
      },
      "source": [
        "```prediction_results```<span style=\"font-size:1.1em\"> içerisinde tutulan sayaçların değerleri arttırılır.</span>"
      ]
    },
    {
      "cell_type": "code",
      "metadata": {
        "colab_type": "code",
        "id": "Kc7adxOMfmKj",
        "colab": {}
      },
      "source": [
        "for i in range(len(predictions)):\n",
        "  predicted_value = predictions[i]\n",
        "  actual_value = test_typeClass[i]\n",
        "  prediction_results['predicted'][predicted_value]['actual'][actual_value] += 1"
      ],
      "execution_count": 0,
      "outputs": []
    },
    {
      "cell_type": "markdown",
      "metadata": {
        "id": "4FDMu4kXHPXr",
        "colab_type": "text"
      },
      "source": [
        "<span style=\"font-size:1.1em\">JSON formatına çevrilir </span>```dict``` <span style=\"font-size:1.1em\">tipi. Bu sayede daha okunaklı bir şekilde print edilmiş olur. </span>"
      ]
    },
    {
      "cell_type": "code",
      "metadata": {
        "colab_type": "code",
        "id": "4gGDav5qgVQh",
        "scrolled": false,
        "colab": {}
      },
      "source": [
        "import json\n",
        "\n",
        "print(json.dumps(prediction_results, indent = 2))"
      ],
      "execution_count": 0,
      "outputs": []
    },
    {
      "cell_type": "markdown",
      "metadata": {
        "id": "Uw8Sx7TsHPX1",
        "colab_type": "text"
      },
      "source": [
        "<span style=\"font-size:1.1em;\">İlgili field extract edilir</span> ```dict``` <span style=\"font-size:1.1em;\">yapısından.</span>"
      ]
    },
    {
      "cell_type": "code",
      "metadata": {
        "id": "ZBUI6iMTHPX2",
        "colab_type": "code",
        "colab": {}
      },
      "source": [
        "results = prediction_results['predicted']"
      ],
      "execution_count": 0,
      "outputs": []
    },
    {
      "cell_type": "markdown",
      "metadata": {
        "id": "IoxOrOr6HPX7",
        "colab_type": "text"
      },
      "source": [
        "<span style=\"font-size:1.1em;\">Başarı oranı hesaplanır</span>"
      ]
    },
    {
      "cell_type": "code",
      "metadata": {
        "colab_type": "code",
        "id": "0S5fD04Zgg11",
        "colab": {}
      },
      "source": [
        "accuracy = (results['analysts']['actual']['analysts'] + results['diplomats']['actual']['diplomats'] + results['explorers']['actual']['explorers'] + results['sentinels']['actual']['sentinels']) / len(predictions)\n",
        "accuracy"
      ],
      "execution_count": 0,
      "outputs": []
    },
    {
      "cell_type": "markdown",
      "metadata": {
        "id": "ooofyhgeHPYA",
        "colab_type": "text"
      },
      "source": [
        "<span style=\"font-size:1.1em;\">**E/I** boyutu tahmin edilir</span>"
      ]
    },
    {
      "cell_type": "code",
      "metadata": {
        "colab_type": "code",
        "id": "ZPmKSg3XrONj",
        "colab": {}
      },
      "source": [
        "X_train, X_test, y_train, y_test = train_test_split(df['entry'], df['E'], random_state = 0)  ## Geri kalanlar S, T, J\n",
        "count_vect = CountVectorizer()\n",
        "X_train_counts = count_vect.fit_transform(X_train)\n",
        "tfidf_transformer = TfidfTransformer()\n",
        "X_train_tfidf = tfidf_transformer.fit_transform(X_train_counts)\n",
        "clf = MultinomialNB().fit(X_train_tfidf, y_train)\n",
        "\n",
        "test_typeClass = y_test.values\n",
        "   \n",
        "predictions = clf.predict(count_vect.transform(X_test))"
      ],
      "execution_count": 0,
      "outputs": []
    },
    {
      "cell_type": "code",
      "metadata": {
        "colab_type": "code",
        "id": "hgxavMQorivQ",
        "colab": {}
      },
      "source": [
        "predictions"
      ],
      "execution_count": 0,
      "outputs": []
    },
    {
      "cell_type": "code",
      "metadata": {
        "colab_type": "code",
        "id": "DlQeP5BFr0BA",
        "colab": {}
      },
      "source": [
        "predicted = {}\n",
        "predicted['I'] = {'actual': {'I': 0, 'E': 0}}\n",
        "predicted['E'] = {'actual': {'I': 0, 'E': 0}}\n",
        "predicted"
      ],
      "execution_count": 0,
      "outputs": []
    },
    {
      "cell_type": "markdown",
      "metadata": {
        "id": "42m2S967HPYP",
        "colab_type": "text"
      },
      "source": [
        "<span style=\"font-size:1.1em;\">Modelin tahminleri 1-0 şeklindedir. 1: evet bu değer demektir. 0: hayır bu değer değil demektir. Verisetinde sütunun ismi E'dir. Eğer ki modelin tahmini E ise 1 değerini verir.</span> ```predicted```<span style=\"font-size:1.1em\">'teki ilgili değere erişebilmek adına </span> ```int_to_class``` <span style=\"font-size:1.1.em;\"> <span style=\"font-size:1.1em;\">array'i kullanılır</span>"
      ]
    },
    {
      "cell_type": "code",
      "metadata": {
        "colab_type": "code",
        "id": "F38Wm7lnsNxh",
        "colab": {}
      },
      "source": [
        "int_to_class = ['I', 'E']\n",
        "\n",
        "for i in range(len(predictions)):\n",
        "  predicted_value = int_to_class[predictions[i]]\n",
        "  actual_value = int_to_class[test_typeClass[i]]\n",
        "  predicted[predicted_value]['actual'][actual_value] += 1\n"
      ],
      "execution_count": 0,
      "outputs": []
    },
    {
      "cell_type": "code",
      "metadata": {
        "colab_type": "code",
        "id": "pCppRIUitZ3A",
        "colab": {}
      },
      "source": [
        "predicted"
      ],
      "execution_count": 0,
      "outputs": []
    },
    {
      "cell_type": "code",
      "metadata": {
        "colab_type": "code",
        "id": "sRxuH3Fht6me",
        "colab": {}
      },
      "source": [
        "accuracy = (predicted['E']['actual']['E'] + predicted['I']['actual']['I']) / len(predictions)"
      ],
      "execution_count": 0,
      "outputs": []
    },
    {
      "cell_type": "code",
      "metadata": {
        "colab_type": "code",
        "id": "11O91HLLuH27",
        "colab": {}
      },
      "source": [
        "accuracy"
      ],
      "execution_count": 0,
      "outputs": []
    },
    {
      "cell_type": "markdown",
      "metadata": {
        "id": "ktc8Y-2hHPYg",
        "colab_type": "text"
      },
      "source": [
        "<span style=\"font-size:1.1em\">**S/N** boyutu tahmin edilir.</span>"
      ]
    },
    {
      "cell_type": "code",
      "metadata": {
        "colab_type": "code",
        "id": "mq8qRr5RuSVO",
        "colab": {}
      },
      "source": [
        "X_train, X_test, y_train, y_test = train_test_split(df['entry'], df['S'], random_state = 0)  ## Geri kalan boyutlar: T, J\n",
        "count_vect = CountVectorizer()\n",
        "X_train_counts = count_vect.fit_transform(X_train)\n",
        "tfidf_transformer = TfidfTransformer()\n",
        "X_train_tfidf = tfidf_transformer.fit_transform(X_train_counts)\n",
        "clf = MultinomialNB().fit(X_train_tfidf, y_train)\n",
        "\n",
        "test_typeClass = y_test.values\n",
        "   \n",
        "predictions = clf.predict(count_vect.transform(X_test))"
      ],
      "execution_count": 0,
      "outputs": []
    },
    {
      "cell_type": "code",
      "metadata": {
        "colab_type": "code",
        "id": "VzV1av-CuZ2b",
        "colab": {}
      },
      "source": [
        "predicted['N'] = {'actual': {'N': 0, 'S': 0}}\n",
        "predicted['S'] = {'actual': {'N': 0, 'S': 0}}\n",
        "\n",
        "predicted"
      ],
      "execution_count": 0,
      "outputs": []
    },
    {
      "cell_type": "code",
      "metadata": {
        "colab_type": "code",
        "id": "Fm2wvaVYuklE",
        "colab": {}
      },
      "source": [
        "int_to_class = ['N', 'S']\n",
        "\n",
        "for i in range(len(predictions)):\n",
        "  predicted_value = int_to_class[predictions[i]]\n",
        "  actual_value = int_to_class[test_typeClass[i]]\n",
        "  predicted[predicted_value]['actual'][actual_value] += 1"
      ],
      "execution_count": 0,
      "outputs": []
    },
    {
      "cell_type": "code",
      "metadata": {
        "colab_type": "code",
        "id": "YbVEQPPsvebF",
        "colab": {}
      },
      "source": [
        "predicted"
      ],
      "execution_count": 0,
      "outputs": []
    },
    {
      "cell_type": "code",
      "metadata": {
        "colab_type": "code",
        "id": "tQJQoGQavLgv",
        "colab": {}
      },
      "source": [
        "accuracy = (predicted['N']['actual']['N'] + predicted['S']['actual']['S']) / len(predictions)"
      ],
      "execution_count": 0,
      "outputs": []
    },
    {
      "cell_type": "code",
      "metadata": {
        "colab_type": "code",
        "id": "LbegGjPNvXJO",
        "colab": {}
      },
      "source": [
        "accuracy"
      ],
      "execution_count": 0,
      "outputs": []
    },
    {
      "cell_type": "markdown",
      "metadata": {
        "id": "vqKVIk9uHPZA",
        "colab_type": "text"
      },
      "source": [
        "<span style=\"font-size:1.1em\">**T/F** boyutu tahmin edilir.</span>"
      ]
    },
    {
      "cell_type": "code",
      "metadata": {
        "colab_type": "code",
        "id": "qKVLLnYJwOHR",
        "colab": {}
      },
      "source": [
        "X_train, X_test, y_train, y_test = train_test_split(df['entry'], df['T'], random_state = 0)  ##  J\n",
        "count_vect = CountVectorizer()\n",
        "X_train_counts = count_vect.fit_transform(X_train)\n",
        "tfidf_transformer = TfidfTransformer()\n",
        "X_train_tfidf = tfidf_transformer.fit_transform(X_train_counts)\n",
        "clf = MultinomialNB().fit(X_train_tfidf, y_train)\n",
        "\n",
        "test_typeClass = y_test.values\n",
        "   \n",
        "predictions = clf.predict(count_vect.transform(X_test))"
      ],
      "execution_count": 0,
      "outputs": []
    },
    {
      "cell_type": "code",
      "metadata": {
        "colab_type": "code",
        "id": "839RnfNfwT77",
        "colab": {}
      },
      "source": [
        "predicted['T'] = {'actual': {'T': 0, 'F': 0}}\n",
        "predicted['F'] = {'actual': {'T': 0, 'F': 0}}\n",
        "\n",
        "predicted"
      ],
      "execution_count": 0,
      "outputs": []
    },
    {
      "cell_type": "code",
      "metadata": {
        "colab_type": "code",
        "id": "sd9lUb13wbdK",
        "colab": {}
      },
      "source": [
        "int_to_class = ['F', 'T']\n",
        "\n",
        "for i in range(len(predictions)):\n",
        "  predicted_value = int_to_class[predictions[i]]\n",
        "  actual_value = int_to_class[test_typeClass[i]]\n",
        "  predicted[predicted_value]['actual'][actual_value] += 1"
      ],
      "execution_count": 0,
      "outputs": []
    },
    {
      "cell_type": "code",
      "metadata": {
        "colab_type": "code",
        "id": "Js9--v33ws5A",
        "colab": {}
      },
      "source": [
        "predicted"
      ],
      "execution_count": 0,
      "outputs": []
    },
    {
      "cell_type": "code",
      "metadata": {
        "colab_type": "code",
        "id": "i2ycKt6ZwuOC",
        "colab": {}
      },
      "source": [
        "accuracy = (predicted['F']['actual']['F'] + predicted['T']['actual']['T']) / len(predictions)"
      ],
      "execution_count": 0,
      "outputs": []
    },
    {
      "cell_type": "code",
      "metadata": {
        "colab_type": "code",
        "id": "5WkLA4z8x12q",
        "colab": {}
      },
      "source": [
        "accuracy"
      ],
      "execution_count": 0,
      "outputs": []
    },
    {
      "cell_type": "markdown",
      "metadata": {
        "id": "APORaOlVHPZh",
        "colab_type": "text"
      },
      "source": [
        "<span style=\"font-size:1.1em\">**J/P** boyutu tahmin edilir.</span>"
      ]
    },
    {
      "cell_type": "code",
      "metadata": {
        "colab_type": "code",
        "id": "UuEb2k8Qx41D",
        "colab": {}
      },
      "source": [
        "X_train, X_test, y_train, y_test = train_test_split(df['entry'], df['J'], random_state = 0) \n",
        "count_vect = CountVectorizer()\n",
        "X_train_counts = count_vect.fit_transform(X_train)\n",
        "tfidf_transformer = TfidfTransformer()\n",
        "X_train_tfidf = tfidf_transformer.fit_transform(X_train_counts)\n",
        "clf = MultinomialNB().fit(X_train_tfidf, y_train)\n",
        "\n",
        "test_typeClass = y_test.values\n",
        "   \n",
        "predictions = clf.predict(count_vect.transform(X_test))"
      ],
      "execution_count": 0,
      "outputs": []
    },
    {
      "cell_type": "code",
      "metadata": {
        "colab_type": "code",
        "id": "Dw-8uFkbx9m7",
        "colab": {}
      },
      "source": [
        "predicted['J'] = {'actual': {'J': 0, 'P': 0}}\n",
        "predicted['P'] = {'actual': {'J': 0, 'P': 0}}\n",
        "\n",
        "predicted"
      ],
      "execution_count": 0,
      "outputs": []
    },
    {
      "cell_type": "code",
      "metadata": {
        "colab_type": "code",
        "id": "dYu5m1TRyGNB",
        "colab": {}
      },
      "source": [
        "int_to_class = ['P', 'J']\n",
        "\n",
        "for i in range(len(predictions)):\n",
        "  predicted_value = int_to_class[predictions[i]]\n",
        "  actual_value = int_to_class[test_typeClass[i]]\n",
        "  predicted[predicted_value]['actual'][actual_value] += 1"
      ],
      "execution_count": 0,
      "outputs": []
    },
    {
      "cell_type": "code",
      "metadata": {
        "colab_type": "code",
        "id": "PHsAWw-6yOdi",
        "colab": {}
      },
      "source": [
        "predicted"
      ],
      "execution_count": 0,
      "outputs": []
    },
    {
      "cell_type": "code",
      "metadata": {
        "colab_type": "code",
        "id": "LHYecNUuyQGL",
        "colab": {}
      },
      "source": [
        "accuracy = (predicted['P']['actual']['P'] + predicted['J']['actual']['J']) / len(predictions)"
      ],
      "execution_count": 0,
      "outputs": []
    },
    {
      "cell_type": "code",
      "metadata": {
        "colab_type": "code",
        "id": "jtNZq3mTyW6r",
        "colab": {}
      },
      "source": [
        "accuracy"
      ],
      "execution_count": 0,
      "outputs": []
    },
    {
      "cell_type": "code",
      "metadata": {
        "colab_type": "code",
        "id": "MQuyqSw-yjse",
        "colab": {}
      },
      "source": [
        "prediction_results['predicted'] = predicted\n",
        "\n",
        "prediction_results"
      ],
      "execution_count": 0,
      "outputs": []
    }
  ]
}