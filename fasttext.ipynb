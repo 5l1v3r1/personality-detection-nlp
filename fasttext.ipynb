{
 "cells": [
  {
   "cell_type": "code",
   "execution_count": 8,
   "metadata": {},
   "outputs": [],
   "source": [
    "###### Required libraries ######\n",
    "import pandas as pd"
   ]
  },
  {
   "cell_type": "code",
   "execution_count": 9,
   "metadata": {},
   "outputs": [],
   "source": [
    "###### Read data from the file ######\n",
    "pd.options.display.max_colwidth = 800\n",
    "path_ee = \"equal_entries.csv\"\n",
    "ddf_EE = pd.read_csv(path_ee, sep = ',')\n",
    "ddf_EE = pd.DataFrame(data = ddf_EE)\n",
    "\n",
    "path_eu = \"equal_users.csv\"\n",
    "ddf_EU = pd.read_csv(path_eu, sep = ',')\n",
    "ddf_EU = pd.DataFrame(data = ddf_EU)"
   ]
  },
  {
   "cell_type": "code",
   "execution_count": 10,
   "metadata": {},
   "outputs": [],
   "source": [
    "###### For fasttext pereprocessing ######\n",
    "ddf_EE_fasttext = ddf_EE.drop(ddf_EE.columns[[0, 3, 4, 5, 6, 7,8,9]], axis=1)\n",
    "cols_ee = ddf_EE_fasttext.columns.tolist()\n",
    "cols_ee = cols_ee[-1:] + cols_ee[:-1]\n",
    "ddf_EE_fasttext = ddf_EE_fasttext[cols_ee]\n",
    "ddf_EE_fasttext['type'] = '__label__' + ddf_EE_fasttext['type'].astype(str)\n",
    "\n",
    "ddf_EU_fasttext = ddf_EU.drop(ddf_EU.columns[[0, 3, 4, 5, 6, 7,8,9]], axis=1)\n",
    "cols_eu = ddf_EU_fasttext.columns.tolist()\n",
    "cols_eu = cols_eu[-1:] + cols_eu[:-1]\n",
    "ddf_EU_fasttext = ddf_EU_fasttext[cols_eu]\n",
    "ddf_EU_fasttext['type'] = '__label__' + ddf_EU_fasttext['type'].astype(str)"
   ]
  },
  {
   "cell_type": "code",
   "execution_count": 11,
   "metadata": {},
   "outputs": [],
   "source": [
    "###### Export to csv ######\n",
    "ddf_EE_fasttext.to_csv( \"equal_entries_fasttext.csv\", header=False,\n",
    "                       index=False,sep='\\t', encoding='utf-8-sig',line_terminator=\"\\n\")\n",
    "ddf_EU_fasttext.to_csv( \"equal_users_fasttext.csv\", header=False,\n",
    "                       index=False,sep='\\t', encoding='utf-8-sig',line_terminator=\"\\n\") "
   ]
  }
 ],
 "metadata": {
  "kernelspec": {
   "display_name": "Python 3",
   "language": "python",
   "name": "python3"
  },
  "language_info": {
   "codemirror_mode": {
    "name": "ipython",
    "version": 3
   },
   "file_extension": ".py",
   "mimetype": "text/x-python",
   "name": "python",
   "nbconvert_exporter": "python",
   "pygments_lexer": "ipython3",
   "version": "3.7.3"
  }
 },
 "nbformat": 4,
 "nbformat_minor": 2
}
